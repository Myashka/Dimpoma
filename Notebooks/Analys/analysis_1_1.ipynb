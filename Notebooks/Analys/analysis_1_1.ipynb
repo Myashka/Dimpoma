{
 "cells": [
  {
   "attachments": {},
   "cell_type": "markdown",
   "id": "4708c447",
   "metadata": {},
   "source": [
    "# Общая информация\n",
    "__Цель:__ сравнить качество генерируемых ответов на всех вопросах и вопросах, относящихся к одной категории\n",
    "\n",
    "__Задачи:__\n",
    "\n",
    "1. Сравнить метрики для модели, настроенной на всех вопросах в перемешку и на модели, настроенных на категории API USAGE"
   ]
  },
  {
   "cell_type": "code",
   "execution_count": 1,
   "id": "535aa5d1",
   "metadata": {},
   "outputs": [],
   "source": [
    "import warnings\n",
    "\n",
    "import matplotlib as mpl\n",
    "import matplotlib.pyplot as plt\n",
    "import nltk\n",
    "import numpy as np\n",
    "import pandas as pd\n",
    "import plotly.express as px\n",
    "from plotly.subplots import make_subplots\n",
    "import plotly.graph_objects as go\n",
    "import seaborn as sns\n",
    "\n",
    "\n",
    "warnings.filterwarnings(\"ignore\")\n",
    "\n",
    "\n",
    "warnings.filterwarnings(\"ignore\")\n",
    "pd.set_option(\"display.max_colwidth\", None)"
   ]
  },
  {
   "cell_type": "code",
   "execution_count": 2,
   "id": "780bf71a",
   "metadata": {},
   "outputs": [],
   "source": [
    "def add_answers_length(df):\n",
    "    df['len_of_generated_answer'] = df.generated_answer.apply(lambda x: len(x.split(\" \")))\n",
    "    \n",
    "    df['len_of_original_answer'] = df.original_answer.apply(lambda x: len(x.split(\" \")))\n",
    "    \n",
    "    return df"
   ]
  },
  {
   "cell_type": "code",
   "execution_count": 3,
   "id": "5c16553d",
   "metadata": {},
   "outputs": [],
   "source": [
    "def get_metrics(df, df_diff, df1_name, df2_name, print_1=True, print_2=True):\n",
    "    bert_f1 = df.bert_f1.mean()\n",
    "    rouge_score = df.rouge_score.mean()\n",
    "    bleu_score = df.bleu_score.mean()\n",
    "\n",
    "    t_bert_f1 = df_diff.bert_f1.mean()\n",
    "    t_rouge_score = df_diff.rouge_score.mean()\n",
    "    t_bleu_score = df_diff.bleu_score.mean()\n",
    "\n",
    "    if print_1:\n",
    "        print(\n",
    "            f\"BERT score {df1_name}: {round(bert_f1, 5)}\",\n",
    "            f\"ROUGE score {df1_name}: {round(rouge_score, 5)}\",\n",
    "            f\"Unigram BLEU score {df1_name}: {round(bleu_score, 5)}\",\n",
    "            sep=\"\\n\",\n",
    "        )\n",
    "\n",
    "        print()\n",
    "\n",
    "    if print_2:\n",
    "\n",
    "        print(\n",
    "            f\"BERT score {df2_name}: {round(t_bert_f1, 5)}\",\n",
    "            f\"ROUGE score {df2_name}: {round(t_rouge_score, 5)}\",\n",
    "            f\"Unigram BLEU score {df2_name}: {round(t_bleu_score, 5)}\",\n",
    "            sep=\"\\n\",\n",
    "        )\n",
    "\n",
    "        print()\n",
    "\n",
    "    print(\n",
    "        f\"BERT score diff: {t_bert_f1 - bert_f1} ({round((t_bert_f1 - bert_f1)/bert_f1*100, 2)} %)\",\n",
    "        f\"ROUGE score diff: {t_rouge_score - rouge_score} ({round((t_rouge_score - rouge_score)/rouge_score*100, 2)} %)\",\n",
    "        f\"Unigram BLEU score diff: {t_bleu_score - bleu_score} ({round((t_bleu_score - bleu_score)/bleu_score*100, 2)} %)\",\n",
    "        sep=\"\\n\",\n",
    "    )\n",
    "\n",
    "    return {\n",
    "        df1_name: {\n",
    "            \"bert\": bert_f1,\n",
    "            \"rouge\": rouge_score,\n",
    "            \"bleu\": bleu_score,\n",
    "        },\n",
    "        df2_name: {\n",
    "            \"bert\": t_bert_f1,\n",
    "            \"rouge\": t_rouge_score,\n",
    "            \"bleu\": t_bleu_score,\n",
    "        },\n",
    "    }"
   ]
  },
  {
   "cell_type": "markdown",
   "id": "ca13f1a1",
   "metadata": {},
   "source": [
    "# Фиксация сидов"
   ]
  },
  {
   "cell_type": "code",
   "execution_count": 4,
   "id": "e3d521d5",
   "metadata": {},
   "outputs": [],
   "source": [
    "#torch.manual_seed(42)\n",
    "np.random.seed(42)"
   ]
  },
  {
   "cell_type": "markdown",
   "id": "d776f4ab",
   "metadata": {},
   "source": [
    "## Загрузка таблиц"
   ]
  },
  {
   "cell_type": "code",
   "execution_count": 5,
   "id": "d2c98720",
   "metadata": {},
   "outputs": [],
   "source": [
    "data_dir = r\"D:\\vkr\\Notebooks\\Analys\\artifacts\\android_cat_no_cat_comparission/\""
   ]
  },
  {
   "cell_type": "code",
   "execution_count": 6,
   "id": "f39aa23a",
   "metadata": {},
   "outputs": [],
   "source": [
    "best_model_eval_table = pd.read_csv(data_dir+'tuned_model_on_android_200_api_usage_best_by_eval_res.csv')\n",
    "last_chp_model_eval_table = pd.read_csv(data_dir+'tuned_model_on_android_200_api_usage_last_chp.csv')\n",
    "no_cat_eval_table = pd.read_csv(data_dir+'tuned_model_on_android_200.csv')"
   ]
  },
  {
   "cell_type": "markdown",
   "id": "b63570d1",
   "metadata": {},
   "source": [
    "# Анализ результатов"
   ]
  },
  {
   "attachments": {},
   "cell_type": "markdown",
   "id": "4567f9b2",
   "metadata": {},
   "source": [
    "## Изучение семплов"
   ]
  },
  {
   "cell_type": "code",
   "execution_count": 7,
   "id": "7db5e5cf",
   "metadata": {},
   "outputs": [],
   "source": [
    "import random"
   ]
  },
  {
   "cell_type": "code",
   "execution_count": 8,
   "id": "18fad612",
   "metadata": {},
   "outputs": [],
   "source": [
    "random_idx = random.randrange(0, len(best_model_eval_table))"
   ]
  },
  {
   "cell_type": "code",
   "execution_count": 9,
   "id": "b8eb23bb",
   "metadata": {},
   "outputs": [
    {
     "data": {
      "text/html": [
       "<div>\n",
       "<style scoped>\n",
       "    .dataframe tbody tr th:only-of-type {\n",
       "        vertical-align: middle;\n",
       "    }\n",
       "\n",
       "    .dataframe tbody tr th {\n",
       "        vertical-align: top;\n",
       "    }\n",
       "\n",
       "    .dataframe thead th {\n",
       "        text-align: right;\n",
       "    }\n",
       "</style>\n",
       "<table border=\"1\" class=\"dataframe\">\n",
       "  <thead>\n",
       "    <tr style=\"text-align: right;\">\n",
       "      <th></th>\n",
       "      <th>90</th>\n",
       "    </tr>\n",
       "  </thead>\n",
       "  <tbody>\n",
       "    <tr>\n",
       "      <th>title</th>\n",
       "      <td>layout on android studio preview doesn't look the same when running the app on the phone</td>\n",
       "    </tr>\n",
       "    <tr>\n",
       "      <th>question</th>\n",
       "      <td>im developing an android app on android studio, when i run my app the layout looks a bit different from the preview as well as on other phones,for example: the buttons are in different order from right to left instead from left to right or other changes similar to this.as well as on some phones the layout doesn't fit perfectly on the screen for example: the buttons on the sides of the screen appear to be cut out.how can i fix it so the app will look the same with every phone and not only some of them?</td>\n",
       "    </tr>\n",
       "    <tr>\n",
       "      <th>generated_answer</th>\n",
       "      <td>You can't fix this, it's a design flaw. The layout is designed to work on all devices, not just some. If you want to fix the problem, you'll have to make your own layout for each device.</td>\n",
       "    </tr>\n",
       "    <tr>\n",
       "      <th>original_answer</th>\n",
       "      <td>About the Right-to-left/ Left-to-right, you can choose the globe icon in the preview options bar frame and then choose Preview Right-to-Left Layout option. This will \"fix\" the buttons order in preview.</td>\n",
       "    </tr>\n",
       "    <tr>\n",
       "      <th>bert_precision</th>\n",
       "      <td>0.866495</td>\n",
       "    </tr>\n",
       "    <tr>\n",
       "      <th>bert_recall</th>\n",
       "      <td>0.836273</td>\n",
       "    </tr>\n",
       "    <tr>\n",
       "      <th>bert_f1</th>\n",
       "      <td>0.851116</td>\n",
       "    </tr>\n",
       "    <tr>\n",
       "      <th>rouge_score</th>\n",
       "      <td>0.155844</td>\n",
       "    </tr>\n",
       "    <tr>\n",
       "      <th>bleu_score</th>\n",
       "      <td>0.139785</td>\n",
       "    </tr>\n",
       "  </tbody>\n",
       "</table>\n",
       "</div>"
      ],
      "text/plain": [
       "                                                                                                                                                                                                                                                                                                                                                                                                                                                                                                                                            90\n",
       "title                                                                                                                                                                                                                                                                                                                                                                                                                                                 layout on android studio preview doesn't look the same when running the app on the phone\n",
       "question          im developing an android app on android studio, when i run my app the layout looks a bit different from the preview as well as on other phones,for example: the buttons are in different order from right to left instead from left to right or other changes similar to this.as well as on some phones the layout doesn't fit perfectly on the screen for example: the buttons on the sides of the screen appear to be cut out.how can i fix it so the app will look the same with every phone and not only some of them?  \n",
       "generated_answer                                                                                                                                                                                                                                                                                                                                    You can't fix this, it's a design flaw. The layout is designed to work on all devices, not just some. If you want to fix the problem, you'll have to make your own layout for each device.\n",
       "original_answer                                                                                                                                                                                                                                                                                                                      About the Right-to-left/ Left-to-right, you can choose the globe icon in the preview options bar frame and then choose Preview Right-to-Left Layout option. This will \"fix\" the buttons order in preview.\n",
       "bert_precision                                                                                                                                                                                                                                                                                                                                                                                                                                                                                                                        0.866495\n",
       "bert_recall                                                                                                                                                                                                                                                                                                                                                                                                                                                                                                                           0.836273\n",
       "bert_f1                                                                                                                                                                                                                                                                                                                                                                                                                                                                                                                               0.851116\n",
       "rouge_score                                                                                                                                                                                                                                                                                                                                                                                                                                                                                                                           0.155844\n",
       "bleu_score                                                                                                                                                                                                                                                                                                                                                                                                                                                                                                                            0.139785"
      ]
     },
     "execution_count": 9,
     "metadata": {},
     "output_type": "execute_result"
    }
   ],
   "source": [
    "pd.DataFrame(best_model_eval_table.iloc[random_idx])"
   ]
  },
  {
   "cell_type": "code",
   "execution_count": 10,
   "id": "85638b79",
   "metadata": {},
   "outputs": [
    {
     "data": {
      "text/html": [
       "<div>\n",
       "<style scoped>\n",
       "    .dataframe tbody tr th:only-of-type {\n",
       "        vertical-align: middle;\n",
       "    }\n",
       "\n",
       "    .dataframe tbody tr th {\n",
       "        vertical-align: top;\n",
       "    }\n",
       "\n",
       "    .dataframe thead th {\n",
       "        text-align: right;\n",
       "    }\n",
       "</style>\n",
       "<table border=\"1\" class=\"dataframe\">\n",
       "  <thead>\n",
       "    <tr style=\"text-align: right;\">\n",
       "      <th></th>\n",
       "      <th>90</th>\n",
       "    </tr>\n",
       "  </thead>\n",
       "  <tbody>\n",
       "    <tr>\n",
       "      <th>title</th>\n",
       "      <td>layout on android studio preview doesn't look the same when running the app on the phone</td>\n",
       "    </tr>\n",
       "    <tr>\n",
       "      <th>question</th>\n",
       "      <td>im developing an android app on android studio, when i run my app the layout looks a bit different from the preview as well as on other phones,for example: the buttons are in different order from right to left instead from left to right or other changes similar to this.as well as on some phones the layout doesn't fit perfectly on the screen for example: the buttons on the sides of the screen appear to be cut out.how can i fix it so the app will look the same with every phone and not only some of them?</td>\n",
       "    </tr>\n",
       "    <tr>\n",
       "      <th>generated_answer</th>\n",
       "      <td>I think you should try to use the android:layout_gravity attribute in your layout xml file. This attribute will tell the system that the view should be laid out in a certain way. If you use this attribute, the size of your buttons will be calculated based on this value.</td>\n",
       "    </tr>\n",
       "    <tr>\n",
       "      <th>original_answer</th>\n",
       "      <td>About the Right-to-left/ Left-to-right, you can choose the globe icon in the preview options bar frame and then choose Preview Right-to-Left Layout option. This will \"fix\" the buttons order in preview.</td>\n",
       "    </tr>\n",
       "    <tr>\n",
       "      <th>bert_precision</th>\n",
       "      <td>0.866022</td>\n",
       "    </tr>\n",
       "    <tr>\n",
       "      <th>bert_recall</th>\n",
       "      <td>0.850993</td>\n",
       "    </tr>\n",
       "    <tr>\n",
       "      <th>bert_f1</th>\n",
       "      <td>0.858442</td>\n",
       "    </tr>\n",
       "    <tr>\n",
       "      <th>rouge_score</th>\n",
       "      <td>0.181818</td>\n",
       "    </tr>\n",
       "    <tr>\n",
       "      <th>bleu_score</th>\n",
       "      <td>0.092593</td>\n",
       "    </tr>\n",
       "  </tbody>\n",
       "</table>\n",
       "</div>"
      ],
      "text/plain": [
       "                                                                                                                                                                                                                                                                                                                                                                                                                                                                                                                                            90\n",
       "title                                                                                                                                                                                                                                                                                                                                                                                                                                                 layout on android studio preview doesn't look the same when running the app on the phone\n",
       "question          im developing an android app on android studio, when i run my app the layout looks a bit different from the preview as well as on other phones,for example: the buttons are in different order from right to left instead from left to right or other changes similar to this.as well as on some phones the layout doesn't fit perfectly on the screen for example: the buttons on the sides of the screen appear to be cut out.how can i fix it so the app will look the same with every phone and not only some of them?  \n",
       "generated_answer                                                                                                                                                                                                                                                I think you should try to use the android:layout_gravity attribute in your layout xml file. This attribute will tell the system that the view should be laid out in a certain way. If you use this attribute, the size of your buttons will be calculated based on this value.\n",
       "original_answer                                                                                                                                                                                                                                                                                                                      About the Right-to-left/ Left-to-right, you can choose the globe icon in the preview options bar frame and then choose Preview Right-to-Left Layout option. This will \"fix\" the buttons order in preview.\n",
       "bert_precision                                                                                                                                                                                                                                                                                                                                                                                                                                                                                                                        0.866022\n",
       "bert_recall                                                                                                                                                                                                                                                                                                                                                                                                                                                                                                                           0.850993\n",
       "bert_f1                                                                                                                                                                                                                                                                                                                                                                                                                                                                                                                               0.858442\n",
       "rouge_score                                                                                                                                                                                                                                                                                                                                                                                                                                                                                                                           0.181818\n",
       "bleu_score                                                                                                                                                                                                                                                                                                                                                                                                                                                                                                                            0.092593"
      ]
     },
     "execution_count": 10,
     "metadata": {},
     "output_type": "execute_result"
    }
   ],
   "source": [
    "pd.DataFrame(last_chp_model_eval_table.iloc[random_idx])"
   ]
  },
  {
   "cell_type": "code",
   "execution_count": 11,
   "id": "643c3b97",
   "metadata": {},
   "outputs": [
    {
     "data": {
      "text/html": [
       "<div>\n",
       "<style scoped>\n",
       "    .dataframe tbody tr th:only-of-type {\n",
       "        vertical-align: middle;\n",
       "    }\n",
       "\n",
       "    .dataframe tbody tr th {\n",
       "        vertical-align: top;\n",
       "    }\n",
       "\n",
       "    .dataframe thead th {\n",
       "        text-align: right;\n",
       "    }\n",
       "</style>\n",
       "<table border=\"1\" class=\"dataframe\">\n",
       "  <thead>\n",
       "    <tr style=\"text-align: right;\">\n",
       "      <th></th>\n",
       "      <th>90</th>\n",
       "    </tr>\n",
       "  </thead>\n",
       "  <tbody>\n",
       "    <tr>\n",
       "      <th>title</th>\n",
       "      <td>Android, Open Front and Back Cameras Simultaneously</td>\n",
       "    </tr>\n",
       "    <tr>\n",
       "      <th>question</th>\n",
       "      <td>I am attempting to use 2 Surface Holder objects tied to 2 separate SurfaceViews.I am for the one set doing a Camera.Open0 for the back camera and Camera.Open1 for the front.I am able to get a perfect preview for whichever I call to open first, but am unable to open both Cameras at the same time, even though I am using separate SurfaceViews and SurfaceHolders for each Camera.Is it just impossible to do this under Android ?  I have seen a couple of post suggesting that it is either not possible, or that it is phone hardware dependent, but no concrete explanations as to why.Could somebody explain why Android does not appear to support this ? If it is supported, could someone suggest the correct way of opening both Cameras at the same time ?I have also seen some suggestions that it should be possible to do using OpenCV.  If so, could someone please provide a link to an example or similar ? Thanks and Regards,Steed.</td>\n",
       "    </tr>\n",
       "    <tr>\n",
       "      <th>generated_answer</th>\n",
       "      <td>not sure if this is possible with Android, however, I've been able do it with a SurfaceHolder and a surfaceview. I'm using the Surfaceview to display the camera preview, and the surfaceholder to show the preview of the other camera.</td>\n",
       "    </tr>\n",
       "    <tr>\n",
       "      <th>original_answer</th>\n",
       "      <td>It is possible because I've done it on my Nexus 6, even recording video from both cameras simultaneously when using Camera1 APIs. However, it is very much limited to a few devices.Any unsupported device should give an error during the 2nd Camera.open call. It seems each hardware manufacturer provides a different implementation of the Camera APIs. You could pretty easily try/catch the exception if a camera does not allow it.</td>\n",
       "    </tr>\n",
       "    <tr>\n",
       "      <th>bert_precision</th>\n",
       "      <td>0.863224</td>\n",
       "    </tr>\n",
       "    <tr>\n",
       "      <th>bert_recall</th>\n",
       "      <td>0.849406</td>\n",
       "    </tr>\n",
       "    <tr>\n",
       "      <th>bert_f1</th>\n",
       "      <td>0.856259</td>\n",
       "    </tr>\n",
       "    <tr>\n",
       "      <th>rouge_score</th>\n",
       "      <td>0.206897</td>\n",
       "    </tr>\n",
       "    <tr>\n",
       "      <th>bleu_score</th>\n",
       "      <td>0.12069</td>\n",
       "    </tr>\n",
       "  </tbody>\n",
       "</table>\n",
       "</div>"
      ],
      "text/plain": [
       "                                                                                                                                                                                                                                                                                                                                                                                                                                                                                                                                                                                                                                                                                                                                                                                                                                                                                                                                                                            90\n",
       "title                                                                                                                                                                                                                                                                                                                                                                                                                                                                                                                                                                                                                                                                                                                                                                                                                                                                                                                      Android, Open Front and Back Cameras Simultaneously\n",
       "question          I am attempting to use 2 Surface Holder objects tied to 2 separate SurfaceViews.I am for the one set doing a Camera.Open0 for the back camera and Camera.Open1 for the front.I am able to get a perfect preview for whichever I call to open first, but am unable to open both Cameras at the same time, even though I am using separate SurfaceViews and SurfaceHolders for each Camera.Is it just impossible to do this under Android ?  I have seen a couple of post suggesting that it is either not possible, or that it is phone hardware dependent, but no concrete explanations as to why.Could somebody explain why Android does not appear to support this ? If it is supported, could someone suggest the correct way of opening both Cameras at the same time ?I have also seen some suggestions that it should be possible to do using OpenCV.  If so, could someone please provide a link to an example or similar ? Thanks and Regards,Steed.\n",
       "generated_answer                                                                                                                                                                                                                                                                                                                                                                                                                                                                                                                                                                                                                                                                                                                      not sure if this is possible with Android, however, I've been able do it with a SurfaceHolder and a surfaceview. I'm using the Surfaceview to display the camera preview, and the surfaceholder to show the preview of the other camera.\n",
       "original_answer                                                                                                                                                                                                                                                                                                                                                                                                                                                                                                                    It is possible because I've done it on my Nexus 6, even recording video from both cameras simultaneously when using Camera1 APIs. However, it is very much limited to a few devices.Any unsupported device should give an error during the 2nd Camera.open call. It seems each hardware manufacturer provides a different implementation of the Camera APIs. You could pretty easily try/catch the exception if a camera does not allow it.\n",
       "bert_precision                                                                                                                                                                                                                                                                                                                                                                                                                                                                                                                                                                                                                                                                                                                                                                                                                                                                                                                                                        0.863224\n",
       "bert_recall                                                                                                                                                                                                                                                                                                                                                                                                                                                                                                                                                                                                                                                                                                                                                                                                                                                                                                                                                           0.849406\n",
       "bert_f1                                                                                                                                                                                                                                                                                                                                                                                                                                                                                                                                                                                                                                                                                                                                                                                                                                                                                                                                                               0.856259\n",
       "rouge_score                                                                                                                                                                                                                                                                                                                                                                                                                                                                                                                                                                                                                                                                                                                                                                                                                                                                                                                                                           0.206897\n",
       "bleu_score                                                                                                                                                                                                                                                                                                                                                                                                                                                                                                                                                                                                                                                                                                                                                                                                                                                                                                                                                             0.12069"
      ]
     },
     "execution_count": 11,
     "metadata": {},
     "output_type": "execute_result"
    }
   ],
   "source": [
    "pd.DataFrame(no_cat_eval_table.iloc[random_idx])"
   ]
  },
  {
   "attachments": {},
   "cell_type": "markdown",
   "id": "4a921ced",
   "metadata": {},
   "source": [
    "## Анализ длины текстовых данных"
   ]
  },
  {
   "cell_type": "markdown",
   "id": "86808e85",
   "metadata": {},
   "source": [
    "### Анализ длины текстовых данных"
   ]
  },
  {
   "cell_type": "code",
   "execution_count": 12,
   "id": "4913e2fe",
   "metadata": {},
   "outputs": [],
   "source": [
    "best_model_eval_table = add_answers_length(best_model_eval_table)\n",
    "last_chp_model_eval_table = add_answers_length(last_chp_model_eval_table)\n",
    "no_cat_eval_table = add_answers_length(no_cat_eval_table)"
   ]
  },
  {
   "cell_type": "code",
   "execution_count": 13,
   "id": "33222faa",
   "metadata": {},
   "outputs": [
    {
     "data": {
      "text/html": [
       "<div>\n",
       "<style scoped>\n",
       "    .dataframe tbody tr th:only-of-type {\n",
       "        vertical-align: middle;\n",
       "    }\n",
       "\n",
       "    .dataframe tbody tr th {\n",
       "        vertical-align: top;\n",
       "    }\n",
       "\n",
       "    .dataframe thead th {\n",
       "        text-align: right;\n",
       "    }\n",
       "</style>\n",
       "<table border=\"1\" class=\"dataframe\">\n",
       "  <thead>\n",
       "    <tr style=\"text-align: right;\">\n",
       "      <th></th>\n",
       "      <th>bert_precision</th>\n",
       "      <th>bert_recall</th>\n",
       "      <th>bert_f1</th>\n",
       "      <th>rouge_score</th>\n",
       "      <th>bleu_score</th>\n",
       "      <th>len_of_generated_answer</th>\n",
       "      <th>len_of_original_answer</th>\n",
       "    </tr>\n",
       "  </thead>\n",
       "  <tbody>\n",
       "    <tr>\n",
       "      <th>count</th>\n",
       "      <td>107.000000</td>\n",
       "      <td>107.000000</td>\n",
       "      <td>107.000000</td>\n",
       "      <td>107.000000</td>\n",
       "      <td>107.000000</td>\n",
       "      <td>107.000000</td>\n",
       "      <td>107.000000</td>\n",
       "    </tr>\n",
       "    <tr>\n",
       "      <th>mean</th>\n",
       "      <td>0.871082</td>\n",
       "      <td>0.837849</td>\n",
       "      <td>0.853953</td>\n",
       "      <td>0.140009</td>\n",
       "      <td>0.188240</td>\n",
       "      <td>26.822430</td>\n",
       "      <td>73.177570</td>\n",
       "    </tr>\n",
       "    <tr>\n",
       "      <th>std</th>\n",
       "      <td>0.015655</td>\n",
       "      <td>0.024947</td>\n",
       "      <td>0.016805</td>\n",
       "      <td>0.062396</td>\n",
       "      <td>0.080270</td>\n",
       "      <td>12.715919</td>\n",
       "      <td>69.651127</td>\n",
       "    </tr>\n",
       "    <tr>\n",
       "      <th>min</th>\n",
       "      <td>0.830856</td>\n",
       "      <td>0.786797</td>\n",
       "      <td>0.819945</td>\n",
       "      <td>0.037037</td>\n",
       "      <td>0.073248</td>\n",
       "      <td>7.000000</td>\n",
       "      <td>3.000000</td>\n",
       "    </tr>\n",
       "    <tr>\n",
       "      <th>25%</th>\n",
       "      <td>0.859667</td>\n",
       "      <td>0.821225</td>\n",
       "      <td>0.840840</td>\n",
       "      <td>0.100505</td>\n",
       "      <td>0.134773</td>\n",
       "      <td>17.000000</td>\n",
       "      <td>30.000000</td>\n",
       "    </tr>\n",
       "    <tr>\n",
       "      <th>50%</th>\n",
       "      <td>0.868962</td>\n",
       "      <td>0.833377</td>\n",
       "      <td>0.852783</td>\n",
       "      <td>0.136170</td>\n",
       "      <td>0.168317</td>\n",
       "      <td>24.000000</td>\n",
       "      <td>54.000000</td>\n",
       "    </tr>\n",
       "    <tr>\n",
       "      <th>75%</th>\n",
       "      <td>0.882196</td>\n",
       "      <td>0.852825</td>\n",
       "      <td>0.863304</td>\n",
       "      <td>0.179167</td>\n",
       "      <td>0.227553</td>\n",
       "      <td>36.000000</td>\n",
       "      <td>90.500000</td>\n",
       "    </tr>\n",
       "    <tr>\n",
       "      <th>max</th>\n",
       "      <td>0.911748</td>\n",
       "      <td>0.899035</td>\n",
       "      <td>0.901864</td>\n",
       "      <td>0.482759</td>\n",
       "      <td>0.500000</td>\n",
       "      <td>66.000000</td>\n",
       "      <td>409.000000</td>\n",
       "    </tr>\n",
       "  </tbody>\n",
       "</table>\n",
       "</div>"
      ],
      "text/plain": [
       "       bert_precision  bert_recall     bert_f1  rouge_score  bleu_score  \\\n",
       "count      107.000000   107.000000  107.000000   107.000000  107.000000   \n",
       "mean         0.871082     0.837849    0.853953     0.140009    0.188240   \n",
       "std          0.015655     0.024947    0.016805     0.062396    0.080270   \n",
       "min          0.830856     0.786797    0.819945     0.037037    0.073248   \n",
       "25%          0.859667     0.821225    0.840840     0.100505    0.134773   \n",
       "50%          0.868962     0.833377    0.852783     0.136170    0.168317   \n",
       "75%          0.882196     0.852825    0.863304     0.179167    0.227553   \n",
       "max          0.911748     0.899035    0.901864     0.482759    0.500000   \n",
       "\n",
       "       len_of_generated_answer  len_of_original_answer  \n",
       "count               107.000000              107.000000  \n",
       "mean                 26.822430               73.177570  \n",
       "std                  12.715919               69.651127  \n",
       "min                   7.000000                3.000000  \n",
       "25%                  17.000000               30.000000  \n",
       "50%                  24.000000               54.000000  \n",
       "75%                  36.000000               90.500000  \n",
       "max                  66.000000              409.000000  "
      ]
     },
     "execution_count": 13,
     "metadata": {},
     "output_type": "execute_result"
    }
   ],
   "source": [
    "best_model_eval_table.describe()"
   ]
  },
  {
   "cell_type": "code",
   "execution_count": 14,
   "id": "60cd7289",
   "metadata": {},
   "outputs": [
    {
     "data": {
      "text/html": [
       "<div>\n",
       "<style scoped>\n",
       "    .dataframe tbody tr th:only-of-type {\n",
       "        vertical-align: middle;\n",
       "    }\n",
       "\n",
       "    .dataframe tbody tr th {\n",
       "        vertical-align: top;\n",
       "    }\n",
       "\n",
       "    .dataframe thead th {\n",
       "        text-align: right;\n",
       "    }\n",
       "</style>\n",
       "<table border=\"1\" class=\"dataframe\">\n",
       "  <thead>\n",
       "    <tr style=\"text-align: right;\">\n",
       "      <th></th>\n",
       "      <th>bert_precision</th>\n",
       "      <th>bert_recall</th>\n",
       "      <th>bert_f1</th>\n",
       "      <th>rouge_score</th>\n",
       "      <th>bleu_score</th>\n",
       "      <th>len_of_generated_answer</th>\n",
       "      <th>len_of_original_answer</th>\n",
       "    </tr>\n",
       "  </thead>\n",
       "  <tbody>\n",
       "    <tr>\n",
       "      <th>count</th>\n",
       "      <td>107.000000</td>\n",
       "      <td>107.000000</td>\n",
       "      <td>107.000000</td>\n",
       "      <td>107.000000</td>\n",
       "      <td>107.000000</td>\n",
       "      <td>107.000000</td>\n",
       "      <td>107.000000</td>\n",
       "    </tr>\n",
       "    <tr>\n",
       "      <th>mean</th>\n",
       "      <td>0.871339</td>\n",
       "      <td>0.838195</td>\n",
       "      <td>0.854277</td>\n",
       "      <td>0.132712</td>\n",
       "      <td>0.201891</td>\n",
       "      <td>24.504673</td>\n",
       "      <td>73.177570</td>\n",
       "    </tr>\n",
       "    <tr>\n",
       "      <th>std</th>\n",
       "      <td>0.018921</td>\n",
       "      <td>0.025407</td>\n",
       "      <td>0.019124</td>\n",
       "      <td>0.057520</td>\n",
       "      <td>0.077955</td>\n",
       "      <td>12.700003</td>\n",
       "      <td>69.651127</td>\n",
       "    </tr>\n",
       "    <tr>\n",
       "      <th>min</th>\n",
       "      <td>0.825292</td>\n",
       "      <td>0.786197</td>\n",
       "      <td>0.817079</td>\n",
       "      <td>0.000000</td>\n",
       "      <td>0.064935</td>\n",
       "      <td>6.000000</td>\n",
       "      <td>3.000000</td>\n",
       "    </tr>\n",
       "    <tr>\n",
       "      <th>25%</th>\n",
       "      <td>0.859155</td>\n",
       "      <td>0.823654</td>\n",
       "      <td>0.841027</td>\n",
       "      <td>0.094118</td>\n",
       "      <td>0.147145</td>\n",
       "      <td>15.000000</td>\n",
       "      <td>30.000000</td>\n",
       "    </tr>\n",
       "    <tr>\n",
       "      <th>50%</th>\n",
       "      <td>0.870682</td>\n",
       "      <td>0.836721</td>\n",
       "      <td>0.852624</td>\n",
       "      <td>0.126984</td>\n",
       "      <td>0.185185</td>\n",
       "      <td>23.000000</td>\n",
       "      <td>54.000000</td>\n",
       "    </tr>\n",
       "    <tr>\n",
       "      <th>75%</th>\n",
       "      <td>0.882831</td>\n",
       "      <td>0.855463</td>\n",
       "      <td>0.869526</td>\n",
       "      <td>0.170927</td>\n",
       "      <td>0.248762</td>\n",
       "      <td>30.000000</td>\n",
       "      <td>90.500000</td>\n",
       "    </tr>\n",
       "    <tr>\n",
       "      <th>max</th>\n",
       "      <td>0.912568</td>\n",
       "      <td>0.892915</td>\n",
       "      <td>0.892644</td>\n",
       "      <td>0.324324</td>\n",
       "      <td>0.431818</td>\n",
       "      <td>79.000000</td>\n",
       "      <td>409.000000</td>\n",
       "    </tr>\n",
       "  </tbody>\n",
       "</table>\n",
       "</div>"
      ],
      "text/plain": [
       "       bert_precision  bert_recall     bert_f1  rouge_score  bleu_score  \\\n",
       "count      107.000000   107.000000  107.000000   107.000000  107.000000   \n",
       "mean         0.871339     0.838195    0.854277     0.132712    0.201891   \n",
       "std          0.018921     0.025407    0.019124     0.057520    0.077955   \n",
       "min          0.825292     0.786197    0.817079     0.000000    0.064935   \n",
       "25%          0.859155     0.823654    0.841027     0.094118    0.147145   \n",
       "50%          0.870682     0.836721    0.852624     0.126984    0.185185   \n",
       "75%          0.882831     0.855463    0.869526     0.170927    0.248762   \n",
       "max          0.912568     0.892915    0.892644     0.324324    0.431818   \n",
       "\n",
       "       len_of_generated_answer  len_of_original_answer  \n",
       "count               107.000000              107.000000  \n",
       "mean                 24.504673               73.177570  \n",
       "std                  12.700003               69.651127  \n",
       "min                   6.000000                3.000000  \n",
       "25%                  15.000000               30.000000  \n",
       "50%                  23.000000               54.000000  \n",
       "75%                  30.000000               90.500000  \n",
       "max                  79.000000              409.000000  "
      ]
     },
     "execution_count": 14,
     "metadata": {},
     "output_type": "execute_result"
    }
   ],
   "source": [
    "last_chp_model_eval_table.describe()"
   ]
  },
  {
   "cell_type": "code",
   "execution_count": 15,
   "id": "0a9c7b09",
   "metadata": {},
   "outputs": [
    {
     "data": {
      "text/html": [
       "<div>\n",
       "<style scoped>\n",
       "    .dataframe tbody tr th:only-of-type {\n",
       "        vertical-align: middle;\n",
       "    }\n",
       "\n",
       "    .dataframe tbody tr th {\n",
       "        vertical-align: top;\n",
       "    }\n",
       "\n",
       "    .dataframe thead th {\n",
       "        text-align: right;\n",
       "    }\n",
       "</style>\n",
       "<table border=\"1\" class=\"dataframe\">\n",
       "  <thead>\n",
       "    <tr style=\"text-align: right;\">\n",
       "      <th></th>\n",
       "      <th>bert_precision</th>\n",
       "      <th>bert_recall</th>\n",
       "      <th>bert_f1</th>\n",
       "      <th>rouge_score</th>\n",
       "      <th>bleu_score</th>\n",
       "      <th>len_of_generated_answer</th>\n",
       "      <th>len_of_original_answer</th>\n",
       "    </tr>\n",
       "  </thead>\n",
       "  <tbody>\n",
       "    <tr>\n",
       "      <th>count</th>\n",
       "      <td>661.000000</td>\n",
       "      <td>661.000000</td>\n",
       "      <td>661.000000</td>\n",
       "      <td>661.000000</td>\n",
       "      <td>661.000000</td>\n",
       "      <td>661.000000</td>\n",
       "      <td>661.000000</td>\n",
       "    </tr>\n",
       "    <tr>\n",
       "      <th>mean</th>\n",
       "      <td>0.868632</td>\n",
       "      <td>0.836641</td>\n",
       "      <td>0.852092</td>\n",
       "      <td>0.136761</td>\n",
       "      <td>0.186055</td>\n",
       "      <td>28.950076</td>\n",
       "      <td>71.885023</td>\n",
       "    </tr>\n",
       "    <tr>\n",
       "      <th>std</th>\n",
       "      <td>0.020593</td>\n",
       "      <td>0.026860</td>\n",
       "      <td>0.019472</td>\n",
       "      <td>0.059701</td>\n",
       "      <td>0.080331</td>\n",
       "      <td>19.777603</td>\n",
       "      <td>67.709129</td>\n",
       "    </tr>\n",
       "    <tr>\n",
       "      <th>min</th>\n",
       "      <td>0.778927</td>\n",
       "      <td>0.711580</td>\n",
       "      <td>0.776376</td>\n",
       "      <td>0.000000</td>\n",
       "      <td>0.024963</td>\n",
       "      <td>4.000000</td>\n",
       "      <td>2.000000</td>\n",
       "    </tr>\n",
       "    <tr>\n",
       "      <th>25%</th>\n",
       "      <td>0.857909</td>\n",
       "      <td>0.819919</td>\n",
       "      <td>0.839413</td>\n",
       "      <td>0.099291</td>\n",
       "      <td>0.129534</td>\n",
       "      <td>17.000000</td>\n",
       "      <td>30.000000</td>\n",
       "    </tr>\n",
       "    <tr>\n",
       "      <th>50%</th>\n",
       "      <td>0.870044</td>\n",
       "      <td>0.836464</td>\n",
       "      <td>0.852604</td>\n",
       "      <td>0.130841</td>\n",
       "      <td>0.168831</td>\n",
       "      <td>25.000000</td>\n",
       "      <td>51.000000</td>\n",
       "    </tr>\n",
       "    <tr>\n",
       "      <th>75%</th>\n",
       "      <td>0.882165</td>\n",
       "      <td>0.853650</td>\n",
       "      <td>0.864075</td>\n",
       "      <td>0.168675</td>\n",
       "      <td>0.234043</td>\n",
       "      <td>35.000000</td>\n",
       "      <td>89.000000</td>\n",
       "    </tr>\n",
       "    <tr>\n",
       "      <th>max</th>\n",
       "      <td>0.919771</td>\n",
       "      <td>0.924250</td>\n",
       "      <td>0.910791</td>\n",
       "      <td>0.400000</td>\n",
       "      <td>0.500000</td>\n",
       "      <td>243.000000</td>\n",
       "      <td>580.000000</td>\n",
       "    </tr>\n",
       "  </tbody>\n",
       "</table>\n",
       "</div>"
      ],
      "text/plain": [
       "       bert_precision  bert_recall     bert_f1  rouge_score  bleu_score  \\\n",
       "count      661.000000   661.000000  661.000000   661.000000  661.000000   \n",
       "mean         0.868632     0.836641    0.852092     0.136761    0.186055   \n",
       "std          0.020593     0.026860    0.019472     0.059701    0.080331   \n",
       "min          0.778927     0.711580    0.776376     0.000000    0.024963   \n",
       "25%          0.857909     0.819919    0.839413     0.099291    0.129534   \n",
       "50%          0.870044     0.836464    0.852604     0.130841    0.168831   \n",
       "75%          0.882165     0.853650    0.864075     0.168675    0.234043   \n",
       "max          0.919771     0.924250    0.910791     0.400000    0.500000   \n",
       "\n",
       "       len_of_generated_answer  len_of_original_answer  \n",
       "count               661.000000              661.000000  \n",
       "mean                 28.950076               71.885023  \n",
       "std                  19.777603               67.709129  \n",
       "min                   4.000000                2.000000  \n",
       "25%                  17.000000               30.000000  \n",
       "50%                  25.000000               51.000000  \n",
       "75%                  35.000000               89.000000  \n",
       "max                 243.000000              580.000000  "
      ]
     },
     "execution_count": 15,
     "metadata": {},
     "output_type": "execute_result"
    }
   ],
   "source": [
    "no_cat_eval_table.describe()"
   ]
  },
  {
   "attachments": {},
   "cell_type": "markdown",
   "id": "cf068019",
   "metadata": {},
   "source": [
    "#### Boxplot длин текстовых данных"
   ]
  },
  {
   "cell_type": "code",
   "execution_count": 18,
   "id": "14901224",
   "metadata": {},
   "outputs": [
    {
     "data": {
      "application/vnd.plotly.v1+json": {
       "config": {
        "plotlyServerURL": "https://plot.ly"
       },
       "data": [
        {
         "boxpoints": "all",
         "jitter": 0.3,
         "name": "Best model by eval",
         "type": "box",
         "xaxis": "x",
         "y": [
          39,
          23,
          37,
          24,
          13,
          64,
          36,
          15,
          31,
          38,
          53,
          29,
          17,
          17,
          18,
          38,
          24,
          27,
          63,
          8,
          32,
          24,
          12,
          23,
          37,
          45,
          32,
          17,
          46,
          17,
          15,
          39,
          25,
          19,
          41,
          18,
          30,
          17,
          28,
          12,
          24,
          66,
          22,
          34,
          13,
          25,
          41,
          48,
          14,
          25,
          13,
          37,
          26,
          9,
          34,
          40,
          19,
          20,
          22,
          36,
          32,
          10,
          29,
          36,
          23,
          10,
          33,
          14,
          24,
          34,
          27,
          40,
          23,
          18,
          9,
          7,
          29,
          36,
          22,
          20,
          15,
          18,
          36,
          52,
          20,
          21,
          8,
          49,
          14,
          33,
          37,
          27,
          16,
          12,
          28,
          24,
          31,
          17,
          11,
          47,
          16,
          37,
          31,
          19,
          8,
          18,
          38
         ],
         "yaxis": "y"
        },
        {
         "boxpoints": "all",
         "jitter": 0.3,
         "name": "Last checkpoint model",
         "type": "box",
         "xaxis": "x",
         "y": [
          14,
          33,
          33,
          34,
          15,
          24,
          9,
          14,
          16,
          12,
          50,
          10,
          28,
          9,
          29,
          17,
          32,
          19,
          38,
          30,
          22,
          33,
          30,
          18,
          24,
          13,
          21,
          21,
          41,
          16,
          15,
          34,
          30,
          27,
          23,
          24,
          46,
          24,
          21,
          18,
          25,
          59,
          10,
          34,
          7,
          10,
          28,
          79,
          17,
          14,
          13,
          14,
          27,
          21,
          26,
          12,
          6,
          21,
          21,
          9,
          25,
          13,
          42,
          17,
          40,
          61,
          20,
          18,
          26,
          26,
          34,
          27,
          36,
          31,
          23,
          18,
          50,
          26,
          12,
          22,
          28,
          17,
          30,
          39,
          28,
          20,
          10,
          13,
          13,
          28,
          49,
          17,
          15,
          12,
          26,
          9,
          34,
          11,
          20,
          59,
          17,
          30,
          26,
          25,
          25,
          10,
          24
         ],
         "yaxis": "y"
        },
        {
         "boxpoints": "all",
         "jitter": 0.3,
         "name": "No category model",
         "type": "box",
         "xaxis": "x",
         "y": [
          19,
          39,
          14,
          6,
          17,
          30,
          21,
          21,
          34,
          46,
          44,
          48,
          17,
          31,
          11,
          30,
          31,
          16,
          43,
          32,
          33,
          51,
          18,
          26,
          89,
          9,
          16,
          37,
          17,
          31,
          23,
          45,
          32,
          23,
          28,
          18,
          29,
          19,
          12,
          30,
          61,
          45,
          22,
          16,
          48,
          21,
          24,
          32,
          41,
          29,
          11,
          24,
          24,
          57,
          29,
          11,
          39,
          21,
          48,
          35,
          20,
          32,
          20,
          46,
          27,
          68,
          54,
          14,
          83,
          80,
          24,
          22,
          41,
          29,
          18,
          39,
          21,
          11,
          36,
          17,
          11,
          19,
          52,
          27,
          23,
          25,
          24,
          35,
          39,
          14,
          40,
          20,
          11,
          16,
          19,
          18,
          10,
          60,
          39,
          55,
          25,
          27,
          12,
          30,
          27,
          15,
          23,
          14,
          32,
          14,
          6,
          21,
          15,
          44,
          33,
          45,
          26,
          4,
          47,
          23,
          15,
          24,
          22,
          21,
          44,
          16,
          65,
          41,
          38,
          29,
          12,
          28,
          12,
          33,
          17,
          38,
          34,
          22,
          9,
          23,
          11,
          16,
          17,
          22,
          20,
          10,
          13,
          44,
          40,
          58,
          14,
          67,
          39,
          19,
          9,
          28,
          30,
          14,
          32,
          48,
          32,
          58,
          101,
          59,
          11,
          22,
          27,
          46,
          27,
          27,
          22,
          14,
          36,
          37,
          26,
          14,
          28,
          33,
          17,
          43,
          16,
          40,
          15,
          24,
          30,
          39,
          19,
          14,
          15,
          60,
          33,
          54,
          12,
          42,
          23,
          22,
          18,
          40,
          19,
          14,
          102,
          36,
          55,
          32,
          34,
          41,
          7,
          17,
          42,
          15,
          10,
          36,
          39,
          39,
          25,
          10,
          39,
          32,
          41,
          24,
          24,
          30,
          13,
          36,
          39,
          32,
          32,
          20,
          28,
          36,
          53,
          81,
          10,
          20,
          9,
          32,
          37,
          12,
          16,
          16,
          14,
          28,
          11,
          51,
          14,
          59,
          16,
          22,
          9,
          25,
          17,
          9,
          45,
          26,
          10,
          19,
          33,
          18,
          23,
          23,
          58,
          61,
          23,
          22,
          19,
          21,
          38,
          14,
          9,
          36,
          11,
          12,
          98,
          21,
          25,
          10,
          20,
          34,
          35,
          29,
          22,
          14,
          29,
          23,
          21,
          26,
          25,
          32,
          29,
          25,
          14,
          24,
          9,
          10,
          35,
          33,
          25,
          33,
          22,
          27,
          5,
          17,
          28,
          48,
          14,
          22,
          9,
          25,
          26,
          23,
          20,
          28,
          37,
          14,
          26,
          24,
          12,
          24,
          30,
          39,
          22,
          58,
          23,
          16,
          11,
          15,
          22,
          6,
          16,
          18,
          10,
          30,
          34,
          42,
          10,
          7,
          22,
          30,
          39,
          34,
          16,
          40,
          84,
          13,
          50,
          14,
          43,
          18,
          14,
          38,
          24,
          19,
          22,
          43,
          24,
          34,
          21,
          31,
          35,
          32,
          28,
          34,
          68,
          38,
          31,
          16,
          27,
          30,
          23,
          10,
          41,
          56,
          92,
          37,
          12,
          27,
          27,
          20,
          42,
          10,
          35,
          23,
          51,
          49,
          21,
          19,
          32,
          4,
          31,
          11,
          37,
          27,
          160,
          8,
          13,
          24,
          31,
          48,
          15,
          15,
          18,
          20,
          24,
          17,
          243,
          57,
          23,
          29,
          17,
          27,
          19,
          14,
          35,
          42,
          15,
          26,
          11,
          28,
          28,
          16,
          60,
          28,
          24,
          15,
          26,
          25,
          14,
          24,
          19,
          31,
          33,
          14,
          30,
          41,
          48,
          18,
          56,
          56,
          15,
          31,
          30,
          29,
          36,
          28,
          19,
          6,
          9,
          232,
          26,
          22,
          14,
          16,
          13,
          17,
          56,
          24,
          21,
          9,
          35,
          29,
          26,
          20,
          49,
          32,
          39,
          13,
          11,
          30,
          22,
          11,
          38,
          10,
          42,
          14,
          29,
          33,
          33,
          24,
          17,
          36,
          25,
          17,
          15,
          19,
          20,
          9,
          14,
          20,
          19,
          24,
          45,
          25,
          21,
          53,
          39,
          14,
          20,
          23,
          77,
          11,
          25,
          36,
          27,
          23,
          31,
          14,
          12,
          43,
          33,
          65,
          60,
          30,
          24,
          17,
          52,
          23,
          13,
          41,
          13,
          31,
          38,
          15,
          30,
          17,
          21,
          36,
          12,
          31,
          23,
          56,
          49,
          9,
          35,
          20,
          23,
          30,
          20,
          31,
          13,
          14,
          52,
          25,
          35,
          27,
          34,
          16,
          12,
          15,
          32,
          45,
          51,
          45,
          55,
          55,
          56,
          30,
          48,
          19,
          31,
          19,
          19,
          17,
          32,
          38,
          9,
          35,
          57,
          13,
          17,
          22,
          33,
          22,
          19,
          53,
          23,
          81,
          22,
          37,
          39,
          7,
          12,
          19,
          31,
          8,
          28,
          19,
          29,
          23,
          42,
          11,
          48,
          34,
          23,
          27,
          28,
          20,
          29,
          12,
          29,
          20,
          21,
          31,
          23,
          31,
          18,
          15,
          30,
          20,
          21,
          19,
          37,
          28,
          8,
          23,
          31,
          34,
          25,
          9,
          49,
          11,
          32,
          22,
          26,
          36,
          27,
          13,
          49,
          68,
          14,
          11,
          23,
          31,
          11,
          39,
          15,
          14,
          17,
          25,
          14,
          38,
          27,
          43,
          46,
          26,
          16,
          10,
          47,
          34,
          18,
          13,
          14,
          35,
          34,
          27,
          47,
          46,
          22,
          21,
          19,
          56,
          63
         ],
         "yaxis": "y"
        }
       ],
       "layout": {
        "height": 600,
        "template": {
         "data": {
          "bar": [
           {
            "error_x": {
             "color": "#2a3f5f"
            },
            "error_y": {
             "color": "#2a3f5f"
            },
            "marker": {
             "line": {
              "color": "#E5ECF6",
              "width": 0.5
             },
             "pattern": {
              "fillmode": "overlay",
              "size": 10,
              "solidity": 0.2
             }
            },
            "type": "bar"
           }
          ],
          "barpolar": [
           {
            "marker": {
             "line": {
              "color": "#E5ECF6",
              "width": 0.5
             },
             "pattern": {
              "fillmode": "overlay",
              "size": 10,
              "solidity": 0.2
             }
            },
            "type": "barpolar"
           }
          ],
          "carpet": [
           {
            "aaxis": {
             "endlinecolor": "#2a3f5f",
             "gridcolor": "white",
             "linecolor": "white",
             "minorgridcolor": "white",
             "startlinecolor": "#2a3f5f"
            },
            "baxis": {
             "endlinecolor": "#2a3f5f",
             "gridcolor": "white",
             "linecolor": "white",
             "minorgridcolor": "white",
             "startlinecolor": "#2a3f5f"
            },
            "type": "carpet"
           }
          ],
          "choropleth": [
           {
            "colorbar": {
             "outlinewidth": 0,
             "ticks": ""
            },
            "type": "choropleth"
           }
          ],
          "contour": [
           {
            "colorbar": {
             "outlinewidth": 0,
             "ticks": ""
            },
            "colorscale": [
             [
              0,
              "#0d0887"
             ],
             [
              0.1111111111111111,
              "#46039f"
             ],
             [
              0.2222222222222222,
              "#7201a8"
             ],
             [
              0.3333333333333333,
              "#9c179e"
             ],
             [
              0.4444444444444444,
              "#bd3786"
             ],
             [
              0.5555555555555556,
              "#d8576b"
             ],
             [
              0.6666666666666666,
              "#ed7953"
             ],
             [
              0.7777777777777778,
              "#fb9f3a"
             ],
             [
              0.8888888888888888,
              "#fdca26"
             ],
             [
              1,
              "#f0f921"
             ]
            ],
            "type": "contour"
           }
          ],
          "contourcarpet": [
           {
            "colorbar": {
             "outlinewidth": 0,
             "ticks": ""
            },
            "type": "contourcarpet"
           }
          ],
          "heatmap": [
           {
            "colorbar": {
             "outlinewidth": 0,
             "ticks": ""
            },
            "colorscale": [
             [
              0,
              "#0d0887"
             ],
             [
              0.1111111111111111,
              "#46039f"
             ],
             [
              0.2222222222222222,
              "#7201a8"
             ],
             [
              0.3333333333333333,
              "#9c179e"
             ],
             [
              0.4444444444444444,
              "#bd3786"
             ],
             [
              0.5555555555555556,
              "#d8576b"
             ],
             [
              0.6666666666666666,
              "#ed7953"
             ],
             [
              0.7777777777777778,
              "#fb9f3a"
             ],
             [
              0.8888888888888888,
              "#fdca26"
             ],
             [
              1,
              "#f0f921"
             ]
            ],
            "type": "heatmap"
           }
          ],
          "heatmapgl": [
           {
            "colorbar": {
             "outlinewidth": 0,
             "ticks": ""
            },
            "colorscale": [
             [
              0,
              "#0d0887"
             ],
             [
              0.1111111111111111,
              "#46039f"
             ],
             [
              0.2222222222222222,
              "#7201a8"
             ],
             [
              0.3333333333333333,
              "#9c179e"
             ],
             [
              0.4444444444444444,
              "#bd3786"
             ],
             [
              0.5555555555555556,
              "#d8576b"
             ],
             [
              0.6666666666666666,
              "#ed7953"
             ],
             [
              0.7777777777777778,
              "#fb9f3a"
             ],
             [
              0.8888888888888888,
              "#fdca26"
             ],
             [
              1,
              "#f0f921"
             ]
            ],
            "type": "heatmapgl"
           }
          ],
          "histogram": [
           {
            "marker": {
             "pattern": {
              "fillmode": "overlay",
              "size": 10,
              "solidity": 0.2
             }
            },
            "type": "histogram"
           }
          ],
          "histogram2d": [
           {
            "colorbar": {
             "outlinewidth": 0,
             "ticks": ""
            },
            "colorscale": [
             [
              0,
              "#0d0887"
             ],
             [
              0.1111111111111111,
              "#46039f"
             ],
             [
              0.2222222222222222,
              "#7201a8"
             ],
             [
              0.3333333333333333,
              "#9c179e"
             ],
             [
              0.4444444444444444,
              "#bd3786"
             ],
             [
              0.5555555555555556,
              "#d8576b"
             ],
             [
              0.6666666666666666,
              "#ed7953"
             ],
             [
              0.7777777777777778,
              "#fb9f3a"
             ],
             [
              0.8888888888888888,
              "#fdca26"
             ],
             [
              1,
              "#f0f921"
             ]
            ],
            "type": "histogram2d"
           }
          ],
          "histogram2dcontour": [
           {
            "colorbar": {
             "outlinewidth": 0,
             "ticks": ""
            },
            "colorscale": [
             [
              0,
              "#0d0887"
             ],
             [
              0.1111111111111111,
              "#46039f"
             ],
             [
              0.2222222222222222,
              "#7201a8"
             ],
             [
              0.3333333333333333,
              "#9c179e"
             ],
             [
              0.4444444444444444,
              "#bd3786"
             ],
             [
              0.5555555555555556,
              "#d8576b"
             ],
             [
              0.6666666666666666,
              "#ed7953"
             ],
             [
              0.7777777777777778,
              "#fb9f3a"
             ],
             [
              0.8888888888888888,
              "#fdca26"
             ],
             [
              1,
              "#f0f921"
             ]
            ],
            "type": "histogram2dcontour"
           }
          ],
          "mesh3d": [
           {
            "colorbar": {
             "outlinewidth": 0,
             "ticks": ""
            },
            "type": "mesh3d"
           }
          ],
          "parcoords": [
           {
            "line": {
             "colorbar": {
              "outlinewidth": 0,
              "ticks": ""
             }
            },
            "type": "parcoords"
           }
          ],
          "pie": [
           {
            "automargin": true,
            "type": "pie"
           }
          ],
          "scatter": [
           {
            "marker": {
             "colorbar": {
              "outlinewidth": 0,
              "ticks": ""
             }
            },
            "type": "scatter"
           }
          ],
          "scatter3d": [
           {
            "line": {
             "colorbar": {
              "outlinewidth": 0,
              "ticks": ""
             }
            },
            "marker": {
             "colorbar": {
              "outlinewidth": 0,
              "ticks": ""
             }
            },
            "type": "scatter3d"
           }
          ],
          "scattercarpet": [
           {
            "marker": {
             "colorbar": {
              "outlinewidth": 0,
              "ticks": ""
             }
            },
            "type": "scattercarpet"
           }
          ],
          "scattergeo": [
           {
            "marker": {
             "colorbar": {
              "outlinewidth": 0,
              "ticks": ""
             }
            },
            "type": "scattergeo"
           }
          ],
          "scattergl": [
           {
            "marker": {
             "colorbar": {
              "outlinewidth": 0,
              "ticks": ""
             }
            },
            "type": "scattergl"
           }
          ],
          "scattermapbox": [
           {
            "marker": {
             "colorbar": {
              "outlinewidth": 0,
              "ticks": ""
             }
            },
            "type": "scattermapbox"
           }
          ],
          "scatterpolar": [
           {
            "marker": {
             "colorbar": {
              "outlinewidth": 0,
              "ticks": ""
             }
            },
            "type": "scatterpolar"
           }
          ],
          "scatterpolargl": [
           {
            "marker": {
             "colorbar": {
              "outlinewidth": 0,
              "ticks": ""
             }
            },
            "type": "scatterpolargl"
           }
          ],
          "scatterternary": [
           {
            "marker": {
             "colorbar": {
              "outlinewidth": 0,
              "ticks": ""
             }
            },
            "type": "scatterternary"
           }
          ],
          "surface": [
           {
            "colorbar": {
             "outlinewidth": 0,
             "ticks": ""
            },
            "colorscale": [
             [
              0,
              "#0d0887"
             ],
             [
              0.1111111111111111,
              "#46039f"
             ],
             [
              0.2222222222222222,
              "#7201a8"
             ],
             [
              0.3333333333333333,
              "#9c179e"
             ],
             [
              0.4444444444444444,
              "#bd3786"
             ],
             [
              0.5555555555555556,
              "#d8576b"
             ],
             [
              0.6666666666666666,
              "#ed7953"
             ],
             [
              0.7777777777777778,
              "#fb9f3a"
             ],
             [
              0.8888888888888888,
              "#fdca26"
             ],
             [
              1,
              "#f0f921"
             ]
            ],
            "type": "surface"
           }
          ],
          "table": [
           {
            "cells": {
             "fill": {
              "color": "#EBF0F8"
             },
             "line": {
              "color": "white"
             }
            },
            "header": {
             "fill": {
              "color": "#C8D4E3"
             },
             "line": {
              "color": "white"
             }
            },
            "type": "table"
           }
          ]
         },
         "layout": {
          "annotationdefaults": {
           "arrowcolor": "#2a3f5f",
           "arrowhead": 0,
           "arrowwidth": 1
          },
          "autotypenumbers": "strict",
          "coloraxis": {
           "colorbar": {
            "outlinewidth": 0,
            "ticks": ""
           }
          },
          "colorscale": {
           "diverging": [
            [
             0,
             "#8e0152"
            ],
            [
             0.1,
             "#c51b7d"
            ],
            [
             0.2,
             "#de77ae"
            ],
            [
             0.3,
             "#f1b6da"
            ],
            [
             0.4,
             "#fde0ef"
            ],
            [
             0.5,
             "#f7f7f7"
            ],
            [
             0.6,
             "#e6f5d0"
            ],
            [
             0.7,
             "#b8e186"
            ],
            [
             0.8,
             "#7fbc41"
            ],
            [
             0.9,
             "#4d9221"
            ],
            [
             1,
             "#276419"
            ]
           ],
           "sequential": [
            [
             0,
             "#0d0887"
            ],
            [
             0.1111111111111111,
             "#46039f"
            ],
            [
             0.2222222222222222,
             "#7201a8"
            ],
            [
             0.3333333333333333,
             "#9c179e"
            ],
            [
             0.4444444444444444,
             "#bd3786"
            ],
            [
             0.5555555555555556,
             "#d8576b"
            ],
            [
             0.6666666666666666,
             "#ed7953"
            ],
            [
             0.7777777777777778,
             "#fb9f3a"
            ],
            [
             0.8888888888888888,
             "#fdca26"
            ],
            [
             1,
             "#f0f921"
            ]
           ],
           "sequentialminus": [
            [
             0,
             "#0d0887"
            ],
            [
             0.1111111111111111,
             "#46039f"
            ],
            [
             0.2222222222222222,
             "#7201a8"
            ],
            [
             0.3333333333333333,
             "#9c179e"
            ],
            [
             0.4444444444444444,
             "#bd3786"
            ],
            [
             0.5555555555555556,
             "#d8576b"
            ],
            [
             0.6666666666666666,
             "#ed7953"
            ],
            [
             0.7777777777777778,
             "#fb9f3a"
            ],
            [
             0.8888888888888888,
             "#fdca26"
            ],
            [
             1,
             "#f0f921"
            ]
           ]
          },
          "colorway": [
           "#636efa",
           "#EF553B",
           "#00cc96",
           "#ab63fa",
           "#FFA15A",
           "#19d3f3",
           "#FF6692",
           "#B6E880",
           "#FF97FF",
           "#FECB52"
          ],
          "font": {
           "color": "#2a3f5f"
          },
          "geo": {
           "bgcolor": "white",
           "lakecolor": "white",
           "landcolor": "#E5ECF6",
           "showlakes": true,
           "showland": true,
           "subunitcolor": "white"
          },
          "hoverlabel": {
           "align": "left"
          },
          "hovermode": "closest",
          "mapbox": {
           "style": "light"
          },
          "paper_bgcolor": "white",
          "plot_bgcolor": "#E5ECF6",
          "polar": {
           "angularaxis": {
            "gridcolor": "white",
            "linecolor": "white",
            "ticks": ""
           },
           "bgcolor": "#E5ECF6",
           "radialaxis": {
            "gridcolor": "white",
            "linecolor": "white",
            "ticks": ""
           }
          },
          "scene": {
           "xaxis": {
            "backgroundcolor": "#E5ECF6",
            "gridcolor": "white",
            "gridwidth": 2,
            "linecolor": "white",
            "showbackground": true,
            "ticks": "",
            "zerolinecolor": "white"
           },
           "yaxis": {
            "backgroundcolor": "#E5ECF6",
            "gridcolor": "white",
            "gridwidth": 2,
            "linecolor": "white",
            "showbackground": true,
            "ticks": "",
            "zerolinecolor": "white"
           },
           "zaxis": {
            "backgroundcolor": "#E5ECF6",
            "gridcolor": "white",
            "gridwidth": 2,
            "linecolor": "white",
            "showbackground": true,
            "ticks": "",
            "zerolinecolor": "white"
           }
          },
          "shapedefaults": {
           "line": {
            "color": "#2a3f5f"
           }
          },
          "ternary": {
           "aaxis": {
            "gridcolor": "white",
            "linecolor": "white",
            "ticks": ""
           },
           "baxis": {
            "gridcolor": "white",
            "linecolor": "white",
            "ticks": ""
           },
           "bgcolor": "#E5ECF6",
           "caxis": {
            "gridcolor": "white",
            "linecolor": "white",
            "ticks": ""
           }
          },
          "title": {
           "x": 0.05
          },
          "xaxis": {
           "automargin": true,
           "gridcolor": "white",
           "linecolor": "white",
           "ticks": "",
           "title": {
            "standoff": 15
           },
           "zerolinecolor": "white",
           "zerolinewidth": 2
          },
          "yaxis": {
           "automargin": true,
           "gridcolor": "white",
           "linecolor": "white",
           "ticks": "",
           "title": {
            "standoff": 15
           },
           "zerolinecolor": "white",
           "zerolinewidth": 2
          }
         }
        },
        "title": {
         "text": "Length boxplot"
        },
        "width": 1000,
        "xaxis": {
         "anchor": "y",
         "domain": [
          0,
          1
         ]
        },
        "yaxis": {
         "anchor": "x",
         "domain": [
          0,
          1
         ],
         "title": {
          "text": "Legnth"
         }
        }
       }
      }
     },
     "metadata": {},
     "output_type": "display_data"
    }
   ],
   "source": [
    "fig = make_subplots(rows=1, cols=1)\n",
    "\n",
    "fig.add_trace(\n",
    "    go.Box(y=best_model_eval_table.len_of_generated_answer, name=\"Best model by eval\"), row=1, col=1\n",
    ")\n",
    "\n",
    "fig.add_trace(\n",
    "    go.Box(y=last_chp_model_eval_table.len_of_generated_answer, name=\"Last checkpoint model\"), row=1, col=1\n",
    ")\n",
    "\n",
    "fig.add_trace(\n",
    "    go.Box(y=no_cat_eval_table.len_of_generated_answer, name=\"No category model\"), row=1, col=1\n",
    ")\n",
    "\n",
    "fig.update_layout(\n",
    "    height=600, width=1000, title_text=\"Length boxplot\", yaxis_title=\"Legnth\"\n",
    ")\n",
    "fig.update_traces(boxpoints=\"all\", jitter=0.3)\n",
    "fig.show()"
   ]
  },
  {
   "attachments": {},
   "cell_type": "markdown",
   "id": "6993179f",
   "metadata": {},
   "source": [
    "## Анализ метрик"
   ]
  },
  {
   "attachments": {},
   "cell_type": "markdown",
   "id": "0d1c1a0c",
   "metadata": {},
   "source": [
    "### Поочередное сравнение"
   ]
  },
  {
   "cell_type": "code",
   "execution_count": 17,
   "id": "87024ec5",
   "metadata": {},
   "outputs": [
    {
     "name": "stdout",
     "output_type": "stream",
     "text": [
      "BERT score (Best model by eval loss): 0.85395\n",
      "ROUGE score (Best model by eval loss): 0.14001\n",
      "Unigram BLEU score (Best model by eval loss): 0.18824\n",
      "\n",
      "BERT score (Last checkpoint model): 0.85428\n",
      "ROUGE score (Last checkpoint model): 0.13271\n",
      "Unigram BLEU score (Last checkpoint model): 0.20189\n",
      "\n",
      "BERT score diff: 0.00032413340060510887 (0.04 %)\n",
      "ROUGE score diff: -0.007297586643736559 (-5.21 %)\n",
      "Unigram BLEU score diff: 0.013651528363324728 (7.25 %)\n"
     ]
    }
   ],
   "source": [
    "base_tuned_metrics = get_metrics(best_model_eval_table, last_chp_model_eval_table, '(Best model by eval loss)', '(Last checkpoint model)')"
   ]
  },
  {
   "cell_type": "code",
   "execution_count": 19,
   "id": "9b65fe93",
   "metadata": {},
   "outputs": [
    {
     "name": "stdout",
     "output_type": "stream",
     "text": [
      "BERT score (No category model): 0.85209\n",
      "ROUGE score (No category model): 0.13676\n",
      "Unigram BLEU score (No category model): 0.18606\n",
      "\n",
      "BERT score (Best model by eval loss): 0.85395\n",
      "ROUGE score (Best model by eval loss): 0.14001\n",
      "Unigram BLEU score (Best model by eval loss): 0.18824\n",
      "\n",
      "BERT score diff: 0.0018615762265145053 (0.22 %)\n",
      "ROUGE score diff: 0.003248627375072616 (2.38 %)\n",
      "Unigram BLEU score diff: 0.0021841729850593794 (1.17 %)\n"
     ]
    }
   ],
   "source": [
    "base_tuned_metrics = get_metrics(no_cat_eval_table, best_model_eval_table, '(No category model)', '(Best model by eval loss)')"
   ]
  },
  {
   "cell_type": "code",
   "execution_count": 20,
   "id": "c0a94e45",
   "metadata": {},
   "outputs": [
    {
     "name": "stdout",
     "output_type": "stream",
     "text": [
      "BERT score (No category model): 0.85209\n",
      "ROUGE score (No category model): 0.13676\n",
      "Unigram BLEU score (No category model): 0.18606\n",
      "\n",
      "BERT score (Last checkpoint model): 0.85428\n",
      "ROUGE score (Last checkpoint model): 0.13271\n",
      "Unigram BLEU score (Last checkpoint model): 0.20189\n",
      "\n",
      "BERT score diff: 0.002185709627119614 (0.26 %)\n",
      "ROUGE score diff: -0.004048959268663943 (-2.96 %)\n",
      "Unigram BLEU score diff: 0.015835701348384107 (8.51 %)\n"
     ]
    }
   ],
   "source": [
    "base_tuned_metrics = get_metrics(no_cat_eval_table, last_chp_model_eval_table, '(No category model)', '(Last checkpoint model)')"
   ]
  },
  {
   "attachments": {},
   "cell_type": "markdown",
   "id": "c65b9898",
   "metadata": {},
   "source": [
    "### Таблицы ранжирования"
   ]
  },
  {
   "cell_type": "code",
   "execution_count": 21,
   "id": "04ca00c9",
   "metadata": {},
   "outputs": [],
   "source": [
    "def get_metric_table():\n",
    "    metric_df = pd.DataFrame(\n",
    "        {\n",
    "            \"BERT_F1\": [\n",
    "                no_cat_eval_table[f\"bert_f1\"].mean(),\n",
    "                last_chp_model_eval_table[f\"bert_f1\"].mean(),\n",
    "                best_model_eval_table[f\"bert_f1\"].mean(),\n",
    "            ],\n",
    "            \"ROUGE\": [\n",
    "                no_cat_eval_table[f\"rouge_score\"].mean(),\n",
    "                last_chp_model_eval_table[f\"rouge_score\"].mean(),\n",
    "                best_model_eval_table[f\"rouge_score\"].mean(),\n",
    "            ],\n",
    "            \"BLEU\": [\n",
    "                no_cat_eval_table[f\"bleu_score\"].mean(),\n",
    "                last_chp_model_eval_table[f\"bleu_score\"].mean(),\n",
    "                best_model_eval_table[f\"bleu_score\"].mean(),\n",
    "            ],\n",
    "        },\n",
    "        index=[\n",
    "            \"No category adnroid tag model\",\n",
    "            'Api usage last checkpoint model',\n",
    "            'Api usage best by eval loss model',\n",
    "        ],\n",
    "    )\n",
    "    return metric_df"
   ]
  },
  {
   "attachments": {},
   "cell_type": "markdown",
   "id": "f76e7cff",
   "metadata": {},
   "source": [
    "#### Metrics\n"
   ]
  },
  {
   "cell_type": "code",
   "execution_count": 23,
   "id": "498b3d55",
   "metadata": {},
   "outputs": [
    {
     "data": {
      "text/plain": [
       "[]"
      ]
     },
     "execution_count": 23,
     "metadata": {},
     "output_type": "execute_result"
    },
    {
     "data": {
      "image/png": "[encoded data removed]",
      "text/plain": [
       "<Figure size 640x480 with 2 Axes>"
      ]
     },
     "metadata": {},
     "output_type": "display_data"
    }
   ],
   "source": [
    "metrics_df = get_metric_table()\n",
    "ax = sns.heatmap(metrics_df, annot=True, fmt='.3f', cmap=\"crest\")\n",
    "ax.set(xlabel=\"Metrics\", ylabel=\"Selection data types\", title='Metrics comparision')\n",
    "ax.plot()"
   ]
  }
 ],
 "metadata": {
  "kernelspec": {
   "display_name": "Python 3.9.12 ('base')",
   "language": "python",
   "name": "python3"
  },
  "language_info": {
   "codemirror_mode": {
    "name": "ipython",
    "version": 3
   },
   "file_extension": ".py",
   "mimetype": "text/x-python",
   "name": "python",
   "nbconvert_exporter": "python",
   "pygments_lexer": "ipython3",
   "version": "3.9.12"
  },
  "toc": {
   "base_numbering": 1,
   "nav_menu": {},
   "number_sections": true,
   "sideBar": true,
   "skip_h1_title": false,
   "title_cell": "Table of Contents",
   "title_sidebar": "Contents",
   "toc_cell": false,
   "toc_position": {
    "height": "calc(100% - 180px)",
    "left": "10px",
    "top": "150px",
    "width": "289px"
   },
   "toc_section_display": true,
   "toc_window_display": true
  },
  "vscode": {
   "interpreter": {
    "hash": "ad2bdc8ecc057115af97d19610ffacc2b4e99fae6737bb82f5d7fb13d2f2c186"
   }
  }
 },
 "nbformat": 4,
 "nbformat_minor": 5
}
