{
 "cells": [
  {
   "cell_type": "markdown",
   "id": "4708c447",
   "metadata": {},
   "source": [
    "# Общая информация\n",
    "__Цель:__ сравнить качество генерируемых ответов, посмотреть зависимостри результатов генерации от различных свойств вопроса\n",
    "\n",
    "__Задачи:__\n",
    "\n",
    "1) Посмотреть руками примеры генерации ответов\n",
    "\n",
    "2) Сравнить средние метрики базовой и тюниной модели\n",
    "\n",
    "3) Посмотреть распределение длин генерируемых ответов\n",
    "\n",
    "4) Посмотреть корреляцию длины генерируемого ответа и длины вопроса\n",
    "\n",
    "5) Сделать выводы"
   ]
  },
  {
   "cell_type": "code",
   "execution_count": 1,
   "id": "535aa5d1",
   "metadata": {},
   "outputs": [],
   "source": [
    "import json\n",
    "import os\n",
    "import pickle\n",
    "import re\n",
    "import warnings\n",
    "\n",
    "import matplotlib as mpl\n",
    "import matplotlib.pyplot as plt\n",
    "import nltk\n",
    "import numpy as np\n",
    "import pandas as pd\n",
    "import plotly.express as px\n",
    "from plotly.subplots import make_subplots\n",
    "import plotly.graph_objects as go\n",
    "import seaborn as sns\n",
    "\n",
    "import torch\n",
    "from nltk import SnowballStemmer\n",
    "from sklearn.cluster import KMeans\n",
    "from sklearn.decomposition import PCA\n",
    "from sklearn.feature_extraction.text import TfidfVectorizer\n",
    "from sklearn.manifold import TSNE\n",
    "from sklearn.metrics.pairwise import cosine_similarity\n",
    "from torch.utils.data import Dataset, random_split\n",
    "from tqdm.auto import tqdm\n",
    "\n",
    "\n",
    "warnings.filterwarnings(\"ignore\")\n",
    "pd.set_option(\"display.max_colwidth\", None)"
   ]
  },
  {
   "cell_type": "code",
   "execution_count": 2,
   "id": "780bf71a",
   "metadata": {},
   "outputs": [],
   "source": [
    "def add_answers_length(df):\n",
    "    df['len_of_generated_answer'] = df.generated_answer.apply(lambda x: len(x.split(\" \")))\n",
    "    \n",
    "    df['len_of_original_answer'] = df.original_answer.apply(lambda x: len(x.split(\" \")))\n",
    "    \n",
    "    return df"
   ]
  },
  {
   "cell_type": "code",
   "execution_count": 3,
   "id": "5c16553d",
   "metadata": {},
   "outputs": [],
   "source": [
    "def get_metrics(df, df_diff, df1_name, df2_name, print_1=True, print_2=True):\n",
    "    bert_f1 = df.bert_f1.mean()\n",
    "    rouge_score = df.rouge_score.mean()\n",
    "    bleu_score = df.bleu_score.mean()\n",
    "\n",
    "    t_bert_f1 = df_diff.bert_f1.mean()\n",
    "    t_rouge_score = df_diff.rouge_score.mean()\n",
    "    t_bleu_score = df_diff.bleu_score.mean()\n",
    "\n",
    "    if print_1:\n",
    "        print(\n",
    "            f\"BERT score {df1_name}: {round(bert_f1, 5)}\",\n",
    "            f\"ROUGE score {df1_name}: {round(rouge_score, 5)}\",\n",
    "            f\"Unigram BLEU score {df1_name}: {round(bleu_score, 5)}\",\n",
    "            sep=\"\\n\",\n",
    "        )\n",
    "\n",
    "        print()\n",
    "\n",
    "    if print_2:\n",
    "\n",
    "        print(\n",
    "            f\"BERT score {df2_name}: {round(t_bert_f1, 5)}\",\n",
    "            f\"ROUGE score {df2_name}: {round(t_rouge_score, 5)}\",\n",
    "            f\"Unigram BLEU score {df2_name}: {round(t_bleu_score, 5)}\",\n",
    "            sep=\"\\n\",\n",
    "        )\n",
    "\n",
    "        print()\n",
    "\n",
    "    print(\n",
    "        f\"BERT score diff: {t_bert_f1 - bert_f1} ({round((t_bert_f1 - bert_f1)/bert_f1*100, 2)} %)\",\n",
    "        f\"ROUGE score diff: {t_rouge_score - rouge_score} ({round((t_rouge_score - rouge_score)/rouge_score*100, 2)} %)\",\n",
    "        f\"Unigram BLEU score diff: {t_bleu_score - bleu_score} ({round((t_bleu_score - bleu_score)/bleu_score*100, 2)} %)\",\n",
    "        sep=\"\\n\",\n",
    "    )\n",
    "\n",
    "    return {\n",
    "        df1_name: {\n",
    "            \"bert\": bert_f1,\n",
    "            \"rouge\": rouge_score,\n",
    "            \"bleu\": bleu_score,\n",
    "        },\n",
    "        df2_name: {\n",
    "            \"bert\": t_bert_f1,\n",
    "            \"rouge\": t_rouge_score,\n",
    "            \"bleu\": t_bleu_score,\n",
    "        },\n",
    "    }"
   ]
  },
  {
   "cell_type": "markdown",
   "id": "ca13f1a1",
   "metadata": {},
   "source": [
    "# Фиксация сидов"
   ]
  },
  {
   "cell_type": "code",
   "execution_count": 4,
   "id": "e3d521d5",
   "metadata": {},
   "outputs": [],
   "source": [
    "torch.manual_seed(42)\n",
    "np.random.seed(42)"
   ]
  },
  {
   "cell_type": "markdown",
   "id": "d776f4ab",
   "metadata": {},
   "source": [
    "## Загрузка таблиц"
   ]
  },
  {
   "cell_type": "code",
   "execution_count": 5,
   "id": "d2c98720",
   "metadata": {},
   "outputs": [],
   "source": [
    "data_dir = r\"D:/vkr/Notebooks/Analys/artifacts/first_base_tuning_camparision_python/\""
   ]
  },
  {
   "cell_type": "code",
   "execution_count": 6,
   "id": "f39aa23a",
   "metadata": {},
   "outputs": [],
   "source": [
    "base_eval_table = pd.read_csv(data_dir+'base_eval_python.csv')\n",
    "\n",
    "tuned_eval_table = pd.read_csv(data_dir+'tuned_eval_python.csv')\n",
    "tuned_eval_table_200 = pd.read_csv(data_dir+'tuned_eval_python_200_length.csv')\n",
    "tuned_eval_table_100 = pd.read_csv(data_dir+'tuned_eval_python_100_length.csv')"
   ]
  },
  {
   "cell_type": "markdown",
   "id": "b63570d1",
   "metadata": {},
   "source": [
    "# Анализ результатов"
   ]
  },
  {
   "attachments": {},
   "cell_type": "markdown",
   "id": "4567f9b2",
   "metadata": {},
   "source": [
    "## Изучение семплов"
   ]
  },
  {
   "cell_type": "code",
   "execution_count": 7,
   "id": "7db5e5cf",
   "metadata": {},
   "outputs": [],
   "source": [
    "import random"
   ]
  },
  {
   "cell_type": "code",
   "execution_count": 8,
   "id": "18fad612",
   "metadata": {},
   "outputs": [],
   "source": [
    "random_idx = random.randrange(0, len(base_eval_table))"
   ]
  },
  {
   "cell_type": "code",
   "execution_count": 9,
   "id": "b8eb23bb",
   "metadata": {},
   "outputs": [
    {
     "data": {
      "text/html": [
       "<div>\n",
       "<style scoped>\n",
       "    .dataframe tbody tr th:only-of-type {\n",
       "        vertical-align: middle;\n",
       "    }\n",
       "\n",
       "    .dataframe tbody tr th {\n",
       "        vertical-align: top;\n",
       "    }\n",
       "\n",
       "    .dataframe thead th {\n",
       "        text-align: right;\n",
       "    }\n",
       "</style>\n",
       "<table border=\"1\" class=\"dataframe\">\n",
       "  <thead>\n",
       "    <tr style=\"text-align: right;\">\n",
       "      <th></th>\n",
       "      <th>55</th>\n",
       "    </tr>\n",
       "  </thead>\n",
       "  <tbody>\n",
       "    <tr>\n",
       "      <th>title</th>\n",
       "      <td>Python change Windows Path refresh Shell</td>\n",
       "    </tr>\n",
       "    <tr>\n",
       "      <th>question</th>\n",
       "      <td>i have a Python script here and it is called from the Windows CMD. It is executing some commands and also changing the Windows environment variables. Now after i changed them with the command \"setx\". I have to restart another Shell so the new variables are loaded into it. Is it possible that the main shell from which i called my script can update the variables itself ?Or is it possible to start another shell with the new variables and the script will continue in the new opened shell ?Thanks</td>\n",
       "    </tr>\n",
       "    <tr>\n",
       "      <th>generated_answer</th>\n",
       "      <td>ou can use the following command to change the environment variable: \\nsetenv -i &lt;variable&gt; &lt;new value&gt;\\n\\nThe &lt;var&gt; is the variable name and &lt;value&gt; the value to be set.\\nFor example: setenv \"PATH\" \"C:\\Program Files\\Python27\\bin;C:\\\\ProgramData\\\\Oracle\\\\Middleware\\\\Java\\\\bin\"\\nThis will set the PATH variable to the path of the Java executable.\\n\\n</td>\n",
       "    </tr>\n",
       "    <tr>\n",
       "      <th>original_answer</th>\n",
       "      <td>Each process has its own environment. When a process starts another process, the new process gets a eventually modified copy of its parent environment.The rule is :a process can modify its own environment - this modifications will be inherited by child processes started latera process can modify at start time the environment of its child processesa process can never modify its parent's environment *So when you start a Python script from a cmd.exe :the script can change its own environment and those changes will be visible by all subsequent commands of the script and all its childrenthe script cannot change the environment for its parent cmd.exe nor for subsequent commands of that cmd.exeIf you need to execute other batch commands after changing the environment, you will have to start a new cmd.exe for the python script and have this new shell execute the other commands, or directly execute a .bat file both via subprocessmodule.setx is a completely different thing : it updates the default environmnent that is given to processes started from windows explorer including cmd.exe. That environment is stored permanently in Windows registry, and every change to it is broadcasted to all active processes ... that monitors it. Any windows GUI application can process it and explorer does - that's how every explorer window know immediatly what is the current default environment, but console applications normaly do not.* well it used to be possible for .com executable in old MS/DOS system and was even documented. It should be possible on Windows recent system through WriteProcessMemory API call but is absolutely non documented thanks to eryksun for noticing</td>\n",
       "    </tr>\n",
       "    <tr>\n",
       "      <th>bert_precision</th>\n",
       "      <td>0.785083</td>\n",
       "    </tr>\n",
       "    <tr>\n",
       "      <th>bert_recall</th>\n",
       "      <td>0.798375</td>\n",
       "    </tr>\n",
       "    <tr>\n",
       "      <th>bert_f1</th>\n",
       "      <td>0.791673</td>\n",
       "    </tr>\n",
       "    <tr>\n",
       "      <th>rouge_score</th>\n",
       "      <td>0.114804</td>\n",
       "    </tr>\n",
       "    <tr>\n",
       "      <th>bleu_score</th>\n",
       "      <td>0.093294</td>\n",
       "    </tr>\n",
       "  </tbody>\n",
       "</table>\n",
       "</div>"
      ],
      "text/plain": [
       "                                                                                                                                                                                                                                                                                                                                                                                                                                                                                                                                                                                                                                                                                                                                                                                                                                                                                                                                                                                                                                                                                                                                                                                                                                                                                                                                                                                                                                                                                                                                                                                                                                                                                                                                                       55\n",
       "title                                                                                                                                                                                                                                                                                                                                                                                                                                                                                                                                                                                                                                                                                                                                                                                                                                                                                                                                                                                                                                                                                                                                                                                                                                                                                                                                                                                                                                                                                                                                                                                                                                                                                                            Python change Windows Path refresh Shell\n",
       "question                                                                                                                                                                                                                                                                                                                                                                                                                                                                                                                                                                                                                                                                                                                                                                                                                                                                                                                                                                                                                                                                                                                                                                                                                                  i have a Python script here and it is called from the Windows CMD. It is executing some commands and also changing the Windows environment variables. Now after i changed them with the command \"setx\". I have to restart another Shell so the new variables are loaded into it. Is it possible that the main shell from which i called my script can update the variables itself ?Or is it possible to start another shell with the new variables and the script will continue in the new opened shell ?Thanks\n",
       "generated_answer                                                                                                                                                                                                                                                                                                                                                                                                                                                                                                                                                                                                                                                                                                                                                                                                                                                                                                                                                                                                                                                                                                                                                                                                                                                                                                                                                                           ou can use the following command to change the environment variable: \\nsetenv -i <variable> <new value>\\n\\nThe <var> is the variable name and <value> the value to be set.\\nFor example: setenv \"PATH\" \"C:\\Program Files\\Python27\\bin;C:\\\\ProgramData\\\\Oracle\\\\Middleware\\\\Java\\\\bin\"\\nThis will set the PATH variable to the path of the Java executable.\\n\\n\n",
       "original_answer   Each process has its own environment. When a process starts another process, the new process gets a eventually modified copy of its parent environment.The rule is :a process can modify its own environment - this modifications will be inherited by child processes started latera process can modify at start time the environment of its child processesa process can never modify its parent's environment *So when you start a Python script from a cmd.exe :the script can change its own environment and those changes will be visible by all subsequent commands of the script and all its childrenthe script cannot change the environment for its parent cmd.exe nor for subsequent commands of that cmd.exeIf you need to execute other batch commands after changing the environment, you will have to start a new cmd.exe for the python script and have this new shell execute the other commands, or directly execute a .bat file both via subprocessmodule.setx is a completely different thing : it updates the default environmnent that is given to processes started from windows explorer including cmd.exe. That environment is stored permanently in Windows registry, and every change to it is broadcasted to all active processes ... that monitors it. Any windows GUI application can process it and explorer does - that's how every explorer window know immediatly what is the current default environment, but console applications normaly do not.* well it used to be possible for .com executable in old MS/DOS system and was even documented. It should be possible on Windows recent system through WriteProcessMemory API call but is absolutely non documented thanks to eryksun for noticing\n",
       "bert_precision                                                                                                                                                                                                                                                                                                                                                                                                                                                                                                                                                                                                                                                                                                                                                                                                                                                                                                                                                                                                                                                                                                                                                                                                                                                                                                                                                                                                                                                                                                                                                                                                                                                                                                                                   0.785083\n",
       "bert_recall                                                                                                                                                                                                                                                                                                                                                                                                                                                                                                                                                                                                                                                                                                                                                                                                                                                                                                                                                                                                                                                                                                                                                                                                                                                                                                                                                                                                                                                                                                                                                                                                                                                                                                                                      0.798375\n",
       "bert_f1                                                                                                                                                                                                                                                                                                                                                                                                                                                                                                                                                                                                                                                                                                                                                                                                                                                                                                                                                                                                                                                                                                                                                                                                                                                                                                                                                                                                                                                                                                                                                                                                                                                                                                                                          0.791673\n",
       "rouge_score                                                                                                                                                                                                                                                                                                                                                                                                                                                                                                                                                                                                                                                                                                                                                                                                                                                                                                                                                                                                                                                                                                                                                                                                                                                                                                                                                                                                                                                                                                                                                                                                                                                                                                                                      0.114804\n",
       "bleu_score                                                                                                                                                                                                                                                                                                                                                                                                                                                                                                                                                                                                                                                                                                                                                                                                                                                                                                                                                                                                                                                                                                                                                                                                                                                                                                                                                                                                                                                                                                                                                                                                                                                                                                                                       0.093294"
      ]
     },
     "execution_count": 9,
     "metadata": {},
     "output_type": "execute_result"
    }
   ],
   "source": [
    "pd.DataFrame(base_eval_table.iloc[random_idx])"
   ]
  },
  {
   "cell_type": "code",
   "execution_count": 10,
   "id": "85638b79",
   "metadata": {},
   "outputs": [
    {
     "data": {
      "text/html": [
       "<div>\n",
       "<style scoped>\n",
       "    .dataframe tbody tr th:only-of-type {\n",
       "        vertical-align: middle;\n",
       "    }\n",
       "\n",
       "    .dataframe tbody tr th {\n",
       "        vertical-align: top;\n",
       "    }\n",
       "\n",
       "    .dataframe thead th {\n",
       "        text-align: right;\n",
       "    }\n",
       "</style>\n",
       "<table border=\"1\" class=\"dataframe\">\n",
       "  <thead>\n",
       "    <tr style=\"text-align: right;\">\n",
       "      <th></th>\n",
       "      <th>55</th>\n",
       "    </tr>\n",
       "  </thead>\n",
       "  <tbody>\n",
       "    <tr>\n",
       "      <th>title</th>\n",
       "      <td>Python change Windows Path refresh Shell</td>\n",
       "    </tr>\n",
       "    <tr>\n",
       "      <th>question</th>\n",
       "      <td>i have a Python script here and it is called from the Windows CMD. It is executing some commands and also changing the Windows environment variables. Now after i changed them with the command \"setx\". I have to restart another Shell so the new variables are loaded into it. Is it possible that the main shell from which i called my script can update the variables itself ?Or is it possible to start another shell with the new variables and the script will continue in the new opened shell ?Thanks</td>\n",
       "    </tr>\n",
       "    <tr>\n",
       "      <th>generated_answer</th>\n",
       "      <td>u can't change the environment of a running process. You can, however, change its environment, and then start a new process with that environment.</td>\n",
       "    </tr>\n",
       "    <tr>\n",
       "      <th>original_answer</th>\n",
       "      <td>Each process has its own environment. When a process starts another process, the new process gets a eventually modified copy of its parent environment.The rule is :a process can modify its own environment - this modifications will be inherited by child processes started latera process can modify at start time the environment of its child processesa process can never modify its parent's environment *So when you start a Python script from a cmd.exe :the script can change its own environment and those changes will be visible by all subsequent commands of the script and all its childrenthe script cannot change the environment for its parent cmd.exe nor for subsequent commands of that cmd.exeIf you need to execute other batch commands after changing the environment, you will have to start a new cmd.exe for the python script and have this new shell execute the other commands, or directly execute a .bat file both via subprocessmodule.setx is a completely different thing : it updates the default environmnent that is given to processes started from windows explorer including cmd.exe. That environment is stored permanently in Windows registry, and every change to it is broadcasted to all active processes ... that monitors it. Any windows GUI application can process it and explorer does - that's how every explorer window know immediatly what is the current default environment, but console applications normaly do not.* well it used to be possible for .com executable in old MS/DOS system and was even documented. It should be possible on Windows recent system through WriteProcessMemory API call but is absolutely non documented thanks to eryksun for noticing</td>\n",
       "    </tr>\n",
       "    <tr>\n",
       "      <th>bert_precision</th>\n",
       "      <td>0.893569</td>\n",
       "    </tr>\n",
       "    <tr>\n",
       "      <th>bert_recall</th>\n",
       "      <td>0.80713</td>\n",
       "    </tr>\n",
       "    <tr>\n",
       "      <th>bert_f1</th>\n",
       "      <td>0.848153</td>\n",
       "    </tr>\n",
       "    <tr>\n",
       "      <th>rouge_score</th>\n",
       "      <td>0.113712</td>\n",
       "    </tr>\n",
       "    <tr>\n",
       "      <th>bleu_score</th>\n",
       "      <td>0.150685</td>\n",
       "    </tr>\n",
       "  </tbody>\n",
       "</table>\n",
       "</div>"
      ],
      "text/plain": [
       "                                                                                                                                                                                                                                                                                                                                                                                                                                                                                                                                                                                                                                                                                                                                                                                                                                                                                                                                                                                                                                                                                                                                                                                                                                                                                                                                                                                                                                                                                                                                                                                                                                                                                                                                                       55\n",
       "title                                                                                                                                                                                                                                                                                                                                                                                                                                                                                                                                                                                                                                                                                                                                                                                                                                                                                                                                                                                                                                                                                                                                                                                                                                                                                                                                                                                                                                                                                                                                                                                                                                                                                                            Python change Windows Path refresh Shell\n",
       "question                                                                                                                                                                                                                                                                                                                                                                                                                                                                                                                                                                                                                                                                                                                                                                                                                                                                                                                                                                                                                                                                                                                                                                                                                                  i have a Python script here and it is called from the Windows CMD. It is executing some commands and also changing the Windows environment variables. Now after i changed them with the command \"setx\". I have to restart another Shell so the new variables are loaded into it. Is it possible that the main shell from which i called my script can update the variables itself ?Or is it possible to start another shell with the new variables and the script will continue in the new opened shell ?Thanks\n",
       "generated_answer                                                                                                                                                                                                                                                                                                                                                                                                                                                                                                                                                                                                                                                                                                                                                                                                                                                                                                                                                                                                                                                                                                                                                                                                                                                                                                                                                                                                                                                                                                                                                                                       u can't change the environment of a running process. You can, however, change its environment, and then start a new process with that environment.\n",
       "original_answer   Each process has its own environment. When a process starts another process, the new process gets a eventually modified copy of its parent environment.The rule is :a process can modify its own environment - this modifications will be inherited by child processes started latera process can modify at start time the environment of its child processesa process can never modify its parent's environment *So when you start a Python script from a cmd.exe :the script can change its own environment and those changes will be visible by all subsequent commands of the script and all its childrenthe script cannot change the environment for its parent cmd.exe nor for subsequent commands of that cmd.exeIf you need to execute other batch commands after changing the environment, you will have to start a new cmd.exe for the python script and have this new shell execute the other commands, or directly execute a .bat file both via subprocessmodule.setx is a completely different thing : it updates the default environmnent that is given to processes started from windows explorer including cmd.exe. That environment is stored permanently in Windows registry, and every change to it is broadcasted to all active processes ... that monitors it. Any windows GUI application can process it and explorer does - that's how every explorer window know immediatly what is the current default environment, but console applications normaly do not.* well it used to be possible for .com executable in old MS/DOS system and was even documented. It should be possible on Windows recent system through WriteProcessMemory API call but is absolutely non documented thanks to eryksun for noticing\n",
       "bert_precision                                                                                                                                                                                                                                                                                                                                                                                                                                                                                                                                                                                                                                                                                                                                                                                                                                                                                                                                                                                                                                                                                                                                                                                                                                                                                                                                                                                                                                                                                                                                                                                                                                                                                                                                   0.893569\n",
       "bert_recall                                                                                                                                                                                                                                                                                                                                                                                                                                                                                                                                                                                                                                                                                                                                                                                                                                                                                                                                                                                                                                                                                                                                                                                                                                                                                                                                                                                                                                                                                                                                                                                                                                                                                                                                       0.80713\n",
       "bert_f1                                                                                                                                                                                                                                                                                                                                                                                                                                                                                                                                                                                                                                                                                                                                                                                                                                                                                                                                                                                                                                                                                                                                                                                                                                                                                                                                                                                                                                                                                                                                                                                                                                                                                                                                          0.848153\n",
       "rouge_score                                                                                                                                                                                                                                                                                                                                                                                                                                                                                                                                                                                                                                                                                                                                                                                                                                                                                                                                                                                                                                                                                                                                                                                                                                                                                                                                                                                                                                                                                                                                                                                                                                                                                                                                      0.113712\n",
       "bleu_score                                                                                                                                                                                                                                                                                                                                                                                                                                                                                                                                                                                                                                                                                                                                                                                                                                                                                                                                                                                                                                                                                                                                                                                                                                                                                                                                                                                                                                                                                                                                                                                                                                                                                                                                       0.150685"
      ]
     },
     "execution_count": 10,
     "metadata": {},
     "output_type": "execute_result"
    }
   ],
   "source": [
    "pd.DataFrame(tuned_eval_table.iloc[random_idx])"
   ]
  },
  {
   "cell_type": "code",
   "execution_count": 11,
   "id": "643c3b97",
   "metadata": {},
   "outputs": [
    {
     "data": {
      "text/html": [
       "<div>\n",
       "<style scoped>\n",
       "    .dataframe tbody tr th:only-of-type {\n",
       "        vertical-align: middle;\n",
       "    }\n",
       "\n",
       "    .dataframe tbody tr th {\n",
       "        vertical-align: top;\n",
       "    }\n",
       "\n",
       "    .dataframe thead th {\n",
       "        text-align: right;\n",
       "    }\n",
       "</style>\n",
       "<table border=\"1\" class=\"dataframe\">\n",
       "  <thead>\n",
       "    <tr style=\"text-align: right;\">\n",
       "      <th></th>\n",
       "      <th>55</th>\n",
       "    </tr>\n",
       "  </thead>\n",
       "  <tbody>\n",
       "    <tr>\n",
       "      <th>title</th>\n",
       "      <td>How to write tests for writers / parsers? Python</td>\n",
       "    </tr>\n",
       "    <tr>\n",
       "      <th>question</th>\n",
       "      <td>I have written a piece of software in Python that does a lot of parsing and a lot of writing files to disk. I am starting to write unit tests, but have no idea how to unit test a function that just writes some data to disk, and returns nothing.I am familiar with unittest and ddt. Any advice or even a link to a resource where I could learn more would be appreciated.</td>\n",
       "    </tr>\n",
       "    <tr>\n",
       "      <th>generated_answer</th>\n",
       "      <td>I think you're going to have to use a mocking library.  The Python standard library has a number of mocking libraries, including mock, which is the one you want.</td>\n",
       "    </tr>\n",
       "    <tr>\n",
       "      <th>original_answer</th>\n",
       "      <td>Arguably, the best solution is to split your function into two pieces. One piece to do the parsing, the second to do the writing. Then, you can unit test each piece separately. For the first piece, give it a file and verify the parsing function returns the proper string, and/or throws the proper exception. For the second, give it a string to write, and then verify that the file was written and that the contents match your string. It's tempting to skip the test that writes the data, since it's reasonable to assume that the python open and write functions work. However, the unit testing also proves that the data you pass in is the data that gets written ie: you don't have a bug that causes a fixed string to be written to the file.If refactoring the code isn't something you can do, you can still test the function. Feed it the data to be parsed, then open the file that it wrote to and compare the result to what you expect it to be.</td>\n",
       "    </tr>\n",
       "    <tr>\n",
       "      <th>bert_precision</th>\n",
       "      <td>0.846893</td>\n",
       "    </tr>\n",
       "    <tr>\n",
       "      <th>bert_recall</th>\n",
       "      <td>0.806941</td>\n",
       "    </tr>\n",
       "    <tr>\n",
       "      <th>bert_f1</th>\n",
       "      <td>0.826435</td>\n",
       "    </tr>\n",
       "    <tr>\n",
       "      <th>rouge_score</th>\n",
       "      <td>0.075472</td>\n",
       "    </tr>\n",
       "    <tr>\n",
       "      <th>bleu_score</th>\n",
       "      <td>0.167702</td>\n",
       "    </tr>\n",
       "  </tbody>\n",
       "</table>\n",
       "</div>"
      ],
      "text/plain": [
       "                                                                                                                                                                                                                                                                                                                                                                                                                                                                                                                                                                                                                                                                                                                                                                                                                                                                                                                                                                                             55\n",
       "title                                                                                                                                                                                                                                                                                                                                                                                                                                                                                                                                                                                                                                                                                                                                                                                                                                                                                                                                          How to write tests for writers / parsers? Python\n",
       "question                                                                                                                                                                                                                                                                                                                                                                                                                                                                                                                                                                                                        I have written a piece of software in Python that does a lot of parsing and a lot of writing files to disk. I am starting to write unit tests, but have no idea how to unit test a function that just writes some data to disk, and returns nothing.I am familiar with unittest and ddt. Any advice or even a link to a resource where I could learn more would be appreciated.\n",
       "generated_answer                                                                                                                                                                                                                                                                                                                                                                                                                                                                                                                                                                                                                                                                                                                                                                                                              I think you're going to have to use a mocking library.  The Python standard library has a number of mocking libraries, including mock, which is the one you want.\n",
       "original_answer   Arguably, the best solution is to split your function into two pieces. One piece to do the parsing, the second to do the writing. Then, you can unit test each piece separately. For the first piece, give it a file and verify the parsing function returns the proper string, and/or throws the proper exception. For the second, give it a string to write, and then verify that the file was written and that the contents match your string. It's tempting to skip the test that writes the data, since it's reasonable to assume that the python open and write functions work. However, the unit testing also proves that the data you pass in is the data that gets written ie: you don't have a bug that causes a fixed string to be written to the file.If refactoring the code isn't something you can do, you can still test the function. Feed it the data to be parsed, then open the file that it wrote to and compare the result to what you expect it to be.\n",
       "bert_precision                                                                                                                                                                                                                                                                                                                                                                                                                                                                                                                                                                                                                                                                                                                                                                                                                                                                                                                                                                         0.846893\n",
       "bert_recall                                                                                                                                                                                                                                                                                                                                                                                                                                                                                                                                                                                                                                                                                                                                                                                                                                                                                                                                                                            0.806941\n",
       "bert_f1                                                                                                                                                                                                                                                                                                                                                                                                                                                                                                                                                                                                                                                                                                                                                                                                                                                                                                                                                                                0.826435\n",
       "rouge_score                                                                                                                                                                                                                                                                                                                                                                                                                                                                                                                                                                                                                                                                                                                                                                                                                                                                                                                                                                            0.075472\n",
       "bleu_score                                                                                                                                                                                                                                                                                                                                                                                                                                                                                                                                                                                                                                                                                                                                                                                                                                                                                                                                                                             0.167702"
      ]
     },
     "execution_count": 11,
     "metadata": {},
     "output_type": "execute_result"
    }
   ],
   "source": [
    "pd.DataFrame(tuned_eval_table_200.iloc[random_idx])"
   ]
  },
  {
   "cell_type": "code",
   "execution_count": 12,
   "id": "a8c3577f",
   "metadata": {},
   "outputs": [
    {
     "data": {
      "text/html": [
       "<div>\n",
       "<style scoped>\n",
       "    .dataframe tbody tr th:only-of-type {\n",
       "        vertical-align: middle;\n",
       "    }\n",
       "\n",
       "    .dataframe tbody tr th {\n",
       "        vertical-align: top;\n",
       "    }\n",
       "\n",
       "    .dataframe thead th {\n",
       "        text-align: right;\n",
       "    }\n",
       "</style>\n",
       "<table border=\"1\" class=\"dataframe\">\n",
       "  <thead>\n",
       "    <tr style=\"text-align: right;\">\n",
       "      <th></th>\n",
       "      <th>55</th>\n",
       "    </tr>\n",
       "  </thead>\n",
       "  <tbody>\n",
       "    <tr>\n",
       "      <th>title</th>\n",
       "      <td>Django, Pinax, couldn't extract file</td>\n",
       "    </tr>\n",
       "    <tr>\n",
       "      <th>question</th>\n",
       "      <td>I'm following the exact directions of getting started with pinax-project-account. You can see them [here][1]. I just created my virtual environment and installed the requirements. The problem with when I run this command: django-admin.py startproject --template=https://github.com/pinax/pinax-project-account/zipball/master.  I get this error:CommandError: couldn't extract file /tmp/django_project_template_e1ulrY_download/master.html to /tmp/django_project_template_wU3ju6_extract: Path not a recognized archive format: /tmp/django_project_template_e1ulrY_download/master.htmlI can get this working on my local machine but I'm using python anywhere and it doesn't seem to like this command? Any ideas?</td>\n",
       "    </tr>\n",
       "    <tr>\n",
       "      <th>generated_answer</th>\n",
       "      <td>I'm not sure why you're getting this, but you can try running the command from the root of your project directory. If that works, then you should be able to run the following command to extract the template to your local directory:</td>\n",
       "    </tr>\n",
       "    <tr>\n",
       "      <th>original_answer</th>\n",
       "      <td>The .html at the end of /tmp/django_project_template_e1ulrY_download/master.html seems suspect to me. I'm guessing that you got an error html page instead of the archive you requested. Check the contents of that file to see what happened.</td>\n",
       "    </tr>\n",
       "    <tr>\n",
       "      <th>bert_precision</th>\n",
       "      <td>0.870894</td>\n",
       "    </tr>\n",
       "    <tr>\n",
       "      <th>bert_recall</th>\n",
       "      <td>0.838663</td>\n",
       "    </tr>\n",
       "    <tr>\n",
       "      <th>bert_f1</th>\n",
       "      <td>0.854475</td>\n",
       "    </tr>\n",
       "    <tr>\n",
       "      <th>rouge_score</th>\n",
       "      <td>0.204545</td>\n",
       "    </tr>\n",
       "    <tr>\n",
       "      <th>bleu_score</th>\n",
       "      <td>0.108225</td>\n",
       "    </tr>\n",
       "  </tbody>\n",
       "</table>\n",
       "</div>"
      ],
      "text/plain": [
       "                                                                                                                                                                                                                                                                                                                                                                                                                                                                                                                                                                                                                                                                                                                                               55\n",
       "title                                                                                                                                                                                                                                                                                                                                                                                                                                                                                                                                                                                                                                                                                                        Django, Pinax, couldn't extract file\n",
       "question          I'm following the exact directions of getting started with pinax-project-account. You can see them [here][1]. I just created my virtual environment and installed the requirements. The problem with when I run this command: django-admin.py startproject --template=https://github.com/pinax/pinax-project-account/zipball/master.  I get this error:CommandError: couldn't extract file /tmp/django_project_template_e1ulrY_download/master.html to /tmp/django_project_template_wU3ju6_extract: Path not a recognized archive format: /tmp/django_project_template_e1ulrY_download/master.htmlI can get this working on my local machine but I'm using python anywhere and it doesn't seem to like this command? Any ideas?\n",
       "generated_answer                                                                                                                                                                                                                                                                                                                                                                                                                                                                                          I'm not sure why you're getting this, but you can try running the command from the root of your project directory. If that works, then you should be able to run the following command to extract the template to your local directory:\n",
       "original_answer                                                                                                                                                                                                                                                                                                                                                                                                                                                                                    The .html at the end of /tmp/django_project_template_e1ulrY_download/master.html seems suspect to me. I'm guessing that you got an error html page instead of the archive you requested. Check the contents of that file to see what happened.\n",
       "bert_precision                                                                                                                                                                                                                                                                                                                                                                                                                                                                                                                                                                                                                                                                                                                           0.870894\n",
       "bert_recall                                                                                                                                                                                                                                                                                                                                                                                                                                                                                                                                                                                                                                                                                                                              0.838663\n",
       "bert_f1                                                                                                                                                                                                                                                                                                                                                                                                                                                                                                                                                                                                                                                                                                                                  0.854475\n",
       "rouge_score                                                                                                                                                                                                                                                                                                                                                                                                                                                                                                                                                                                                                                                                                                                              0.204545\n",
       "bleu_score                                                                                                                                                                                                                                                                                                                                                                                                                                                                                                                                                                                                                                                                                                                               0.108225"
      ]
     },
     "execution_count": 12,
     "metadata": {},
     "output_type": "execute_result"
    }
   ],
   "source": [
    "pd.DataFrame(tuned_eval_table_100.iloc[random_idx])"
   ]
  },
  {
   "attachments": {},
   "cell_type": "markdown",
   "id": "4a921ced",
   "metadata": {},
   "source": [
    "## Анализ длины текстовых данных"
   ]
  },
  {
   "cell_type": "markdown",
   "id": "86808e85",
   "metadata": {},
   "source": [
    "### Анализ длины текстовых данных"
   ]
  },
  {
   "cell_type": "code",
   "execution_count": 13,
   "id": "4913e2fe",
   "metadata": {},
   "outputs": [],
   "source": [
    "base_eval_table = add_answers_length(base_eval_table)\n",
    "tuned_eval_table = add_answers_length(tuned_eval_table)\n",
    "tuned_eval_table_100 = add_answers_length(tuned_eval_table_100)\n",
    "tuned_eval_table_200 = add_answers_length(tuned_eval_table_200)"
   ]
  },
  {
   "cell_type": "code",
   "execution_count": 14,
   "id": "33222faa",
   "metadata": {},
   "outputs": [
    {
     "data": {
      "text/html": [
       "<div>\n",
       "<style scoped>\n",
       "    .dataframe tbody tr th:only-of-type {\n",
       "        vertical-align: middle;\n",
       "    }\n",
       "\n",
       "    .dataframe tbody tr th {\n",
       "        vertical-align: top;\n",
       "    }\n",
       "\n",
       "    .dataframe thead th {\n",
       "        text-align: right;\n",
       "    }\n",
       "</style>\n",
       "<table border=\"1\" class=\"dataframe\">\n",
       "  <thead>\n",
       "    <tr style=\"text-align: right;\">\n",
       "      <th></th>\n",
       "      <th>bert_precision</th>\n",
       "      <th>bert_recall</th>\n",
       "      <th>bert_f1</th>\n",
       "      <th>rouge_score</th>\n",
       "      <th>bleu_score</th>\n",
       "      <th>len_of_generated_answer</th>\n",
       "      <th>len_of_original_answer</th>\n",
       "    </tr>\n",
       "  </thead>\n",
       "  <tbody>\n",
       "    <tr>\n",
       "      <th>count</th>\n",
       "      <td>251.000000</td>\n",
       "      <td>251.000000</td>\n",
       "      <td>251.000000</td>\n",
       "      <td>251.000000</td>\n",
       "      <td>251.000000</td>\n",
       "      <td>251.000000</td>\n",
       "      <td>251.000000</td>\n",
       "    </tr>\n",
       "    <tr>\n",
       "      <th>mean</th>\n",
       "      <td>0.802777</td>\n",
       "      <td>0.831192</td>\n",
       "      <td>0.815807</td>\n",
       "      <td>0.124514</td>\n",
       "      <td>0.116430</td>\n",
       "      <td>68.844622</td>\n",
       "      <td>76.147410</td>\n",
       "    </tr>\n",
       "    <tr>\n",
       "      <th>std</th>\n",
       "      <td>0.051541</td>\n",
       "      <td>0.022641</td>\n",
       "      <td>0.030675</td>\n",
       "      <td>0.062111</td>\n",
       "      <td>0.108554</td>\n",
       "      <td>66.215495</td>\n",
       "      <td>70.406748</td>\n",
       "    </tr>\n",
       "    <tr>\n",
       "      <th>min</th>\n",
       "      <td>0.625596</td>\n",
       "      <td>0.777973</td>\n",
       "      <td>0.709466</td>\n",
       "      <td>0.000000</td>\n",
       "      <td>0.013051</td>\n",
       "      <td>2.000000</td>\n",
       "      <td>2.000000</td>\n",
       "    </tr>\n",
       "    <tr>\n",
       "      <th>25%</th>\n",
       "      <td>0.770752</td>\n",
       "      <td>0.815792</td>\n",
       "      <td>0.798477</td>\n",
       "      <td>0.079315</td>\n",
       "      <td>0.051005</td>\n",
       "      <td>27.000000</td>\n",
       "      <td>29.000000</td>\n",
       "    </tr>\n",
       "    <tr>\n",
       "      <th>50%</th>\n",
       "      <td>0.805087</td>\n",
       "      <td>0.831953</td>\n",
       "      <td>0.819598</td>\n",
       "      <td>0.122807</td>\n",
       "      <td>0.082397</td>\n",
       "      <td>47.000000</td>\n",
       "      <td>56.000000</td>\n",
       "    </tr>\n",
       "    <tr>\n",
       "      <th>75%</th>\n",
       "      <td>0.843811</td>\n",
       "      <td>0.845968</td>\n",
       "      <td>0.837493</td>\n",
       "      <td>0.166337</td>\n",
       "      <td>0.134422</td>\n",
       "      <td>85.000000</td>\n",
       "      <td>92.500000</td>\n",
       "    </tr>\n",
       "    <tr>\n",
       "      <th>max</th>\n",
       "      <td>0.895357</td>\n",
       "      <td>0.889737</td>\n",
       "      <td>0.885439</td>\n",
       "      <td>0.285714</td>\n",
       "      <td>0.687500</td>\n",
       "      <td>401.000000</td>\n",
       "      <td>434.000000</td>\n",
       "    </tr>\n",
       "  </tbody>\n",
       "</table>\n",
       "</div>"
      ],
      "text/plain": [
       "       bert_precision  bert_recall     bert_f1  rouge_score  bleu_score  \\\n",
       "count      251.000000   251.000000  251.000000   251.000000  251.000000   \n",
       "mean         0.802777     0.831192    0.815807     0.124514    0.116430   \n",
       "std          0.051541     0.022641    0.030675     0.062111    0.108554   \n",
       "min          0.625596     0.777973    0.709466     0.000000    0.013051   \n",
       "25%          0.770752     0.815792    0.798477     0.079315    0.051005   \n",
       "50%          0.805087     0.831953    0.819598     0.122807    0.082397   \n",
       "75%          0.843811     0.845968    0.837493     0.166337    0.134422   \n",
       "max          0.895357     0.889737    0.885439     0.285714    0.687500   \n",
       "\n",
       "       len_of_generated_answer  len_of_original_answer  \n",
       "count               251.000000              251.000000  \n",
       "mean                 68.844622               76.147410  \n",
       "std                  66.215495               70.406748  \n",
       "min                   2.000000                2.000000  \n",
       "25%                  27.000000               29.000000  \n",
       "50%                  47.000000               56.000000  \n",
       "75%                  85.000000               92.500000  \n",
       "max                 401.000000              434.000000  "
      ]
     },
     "execution_count": 14,
     "metadata": {},
     "output_type": "execute_result"
    }
   ],
   "source": [
    "base_eval_table.describe()"
   ]
  },
  {
   "cell_type": "code",
   "execution_count": 15,
   "id": "60cd7289",
   "metadata": {},
   "outputs": [
    {
     "data": {
      "text/html": [
       "<div>\n",
       "<style scoped>\n",
       "    .dataframe tbody tr th:only-of-type {\n",
       "        vertical-align: middle;\n",
       "    }\n",
       "\n",
       "    .dataframe tbody tr th {\n",
       "        vertical-align: top;\n",
       "    }\n",
       "\n",
       "    .dataframe thead th {\n",
       "        text-align: right;\n",
       "    }\n",
       "</style>\n",
       "<table border=\"1\" class=\"dataframe\">\n",
       "  <thead>\n",
       "    <tr style=\"text-align: right;\">\n",
       "      <th></th>\n",
       "      <th>bert_precision</th>\n",
       "      <th>bert_recall</th>\n",
       "      <th>bert_f1</th>\n",
       "      <th>rouge_score</th>\n",
       "      <th>bleu_score</th>\n",
       "      <th>len_of_generated_answer</th>\n",
       "      <th>len_of_original_answer</th>\n",
       "    </tr>\n",
       "  </thead>\n",
       "  <tbody>\n",
       "    <tr>\n",
       "      <th>count</th>\n",
       "      <td>251.000000</td>\n",
       "      <td>251.000000</td>\n",
       "      <td>251.000000</td>\n",
       "      <td>251.000000</td>\n",
       "      <td>251.000000</td>\n",
       "      <td>251.000000</td>\n",
       "      <td>251.000000</td>\n",
       "    </tr>\n",
       "    <tr>\n",
       "      <th>mean</th>\n",
       "      <td>0.865107</td>\n",
       "      <td>0.835610</td>\n",
       "      <td>0.849883</td>\n",
       "      <td>0.131673</td>\n",
       "      <td>0.171384</td>\n",
       "      <td>33.517928</td>\n",
       "      <td>76.147410</td>\n",
       "    </tr>\n",
       "    <tr>\n",
       "      <th>std</th>\n",
       "      <td>0.019456</td>\n",
       "      <td>0.023923</td>\n",
       "      <td>0.017203</td>\n",
       "      <td>0.061708</td>\n",
       "      <td>0.083635</td>\n",
       "      <td>22.833368</td>\n",
       "      <td>70.406748</td>\n",
       "    </tr>\n",
       "    <tr>\n",
       "      <th>min</th>\n",
       "      <td>0.802488</td>\n",
       "      <td>0.778143</td>\n",
       "      <td>0.802679</td>\n",
       "      <td>0.000000</td>\n",
       "      <td>0.028121</td>\n",
       "      <td>5.000000</td>\n",
       "      <td>2.000000</td>\n",
       "    </tr>\n",
       "    <tr>\n",
       "      <th>25%</th>\n",
       "      <td>0.854843</td>\n",
       "      <td>0.820972</td>\n",
       "      <td>0.839156</td>\n",
       "      <td>0.094704</td>\n",
       "      <td>0.111254</td>\n",
       "      <td>20.000000</td>\n",
       "      <td>29.000000</td>\n",
       "    </tr>\n",
       "    <tr>\n",
       "      <th>50%</th>\n",
       "      <td>0.864340</td>\n",
       "      <td>0.834939</td>\n",
       "      <td>0.848126</td>\n",
       "      <td>0.132075</td>\n",
       "      <td>0.155779</td>\n",
       "      <td>28.000000</td>\n",
       "      <td>56.000000</td>\n",
       "    </tr>\n",
       "    <tr>\n",
       "      <th>75%</th>\n",
       "      <td>0.876475</td>\n",
       "      <td>0.852873</td>\n",
       "      <td>0.860583</td>\n",
       "      <td>0.162382</td>\n",
       "      <td>0.211888</td>\n",
       "      <td>43.000000</td>\n",
       "      <td>92.500000</td>\n",
       "    </tr>\n",
       "    <tr>\n",
       "      <th>max</th>\n",
       "      <td>0.918743</td>\n",
       "      <td>0.909091</td>\n",
       "      <td>0.899178</td>\n",
       "      <td>0.384615</td>\n",
       "      <td>0.500000</td>\n",
       "      <td>189.000000</td>\n",
       "      <td>434.000000</td>\n",
       "    </tr>\n",
       "  </tbody>\n",
       "</table>\n",
       "</div>"
      ],
      "text/plain": [
       "       bert_precision  bert_recall     bert_f1  rouge_score  bleu_score  \\\n",
       "count      251.000000   251.000000  251.000000   251.000000  251.000000   \n",
       "mean         0.865107     0.835610    0.849883     0.131673    0.171384   \n",
       "std          0.019456     0.023923    0.017203     0.061708    0.083635   \n",
       "min          0.802488     0.778143    0.802679     0.000000    0.028121   \n",
       "25%          0.854843     0.820972    0.839156     0.094704    0.111254   \n",
       "50%          0.864340     0.834939    0.848126     0.132075    0.155779   \n",
       "75%          0.876475     0.852873    0.860583     0.162382    0.211888   \n",
       "max          0.918743     0.909091    0.899178     0.384615    0.500000   \n",
       "\n",
       "       len_of_generated_answer  len_of_original_answer  \n",
       "count               251.000000              251.000000  \n",
       "mean                 33.517928               76.147410  \n",
       "std                  22.833368               70.406748  \n",
       "min                   5.000000                2.000000  \n",
       "25%                  20.000000               29.000000  \n",
       "50%                  28.000000               56.000000  \n",
       "75%                  43.000000               92.500000  \n",
       "max                 189.000000              434.000000  "
      ]
     },
     "execution_count": 15,
     "metadata": {},
     "output_type": "execute_result"
    }
   ],
   "source": [
    "tuned_eval_table.describe()"
   ]
  },
  {
   "cell_type": "code",
   "execution_count": 16,
   "id": "0a9c7b09",
   "metadata": {},
   "outputs": [
    {
     "data": {
      "text/html": [
       "<div>\n",
       "<style scoped>\n",
       "    .dataframe tbody tr th:only-of-type {\n",
       "        vertical-align: middle;\n",
       "    }\n",
       "\n",
       "    .dataframe tbody tr th {\n",
       "        vertical-align: top;\n",
       "    }\n",
       "\n",
       "    .dataframe thead th {\n",
       "        text-align: right;\n",
       "    }\n",
       "</style>\n",
       "<table border=\"1\" class=\"dataframe\">\n",
       "  <thead>\n",
       "    <tr style=\"text-align: right;\">\n",
       "      <th></th>\n",
       "      <th>bert_precision</th>\n",
       "      <th>bert_recall</th>\n",
       "      <th>bert_f1</th>\n",
       "      <th>rouge_score</th>\n",
       "      <th>bleu_score</th>\n",
       "      <th>len_of_generated_answer</th>\n",
       "      <th>len_of_original_answer</th>\n",
       "    </tr>\n",
       "  </thead>\n",
       "  <tbody>\n",
       "    <tr>\n",
       "      <th>count</th>\n",
       "      <td>166.000000</td>\n",
       "      <td>166.000000</td>\n",
       "      <td>166.000000</td>\n",
       "      <td>166.000000</td>\n",
       "      <td>166.000000</td>\n",
       "      <td>166.000000</td>\n",
       "      <td>166.000000</td>\n",
       "    </tr>\n",
       "    <tr>\n",
       "      <th>mean</th>\n",
       "      <td>0.868123</td>\n",
       "      <td>0.836774</td>\n",
       "      <td>0.851944</td>\n",
       "      <td>0.136795</td>\n",
       "      <td>0.203455</td>\n",
       "      <td>27.674699</td>\n",
       "      <td>67.295181</td>\n",
       "    </tr>\n",
       "    <tr>\n",
       "      <th>std</th>\n",
       "      <td>0.020163</td>\n",
       "      <td>0.023719</td>\n",
       "      <td>0.017508</td>\n",
       "      <td>0.067410</td>\n",
       "      <td>0.097421</td>\n",
       "      <td>17.573471</td>\n",
       "      <td>58.508147</td>\n",
       "    </tr>\n",
       "    <tr>\n",
       "      <th>min</th>\n",
       "      <td>0.776232</td>\n",
       "      <td>0.780489</td>\n",
       "      <td>0.790522</td>\n",
       "      <td>0.000000</td>\n",
       "      <td>0.044905</td>\n",
       "      <td>6.000000</td>\n",
       "      <td>2.000000</td>\n",
       "    </tr>\n",
       "    <tr>\n",
       "      <th>25%</th>\n",
       "      <td>0.856029</td>\n",
       "      <td>0.820091</td>\n",
       "      <td>0.840033</td>\n",
       "      <td>0.095525</td>\n",
       "      <td>0.131144</td>\n",
       "      <td>14.250000</td>\n",
       "      <td>27.000000</td>\n",
       "    </tr>\n",
       "    <tr>\n",
       "      <th>50%</th>\n",
       "      <td>0.868103</td>\n",
       "      <td>0.839603</td>\n",
       "      <td>0.853597</td>\n",
       "      <td>0.131508</td>\n",
       "      <td>0.185587</td>\n",
       "      <td>24.500000</td>\n",
       "      <td>50.000000</td>\n",
       "    </tr>\n",
       "    <tr>\n",
       "      <th>75%</th>\n",
       "      <td>0.881710</td>\n",
       "      <td>0.852211</td>\n",
       "      <td>0.863178</td>\n",
       "      <td>0.169447</td>\n",
       "      <td>0.253218</td>\n",
       "      <td>34.000000</td>\n",
       "      <td>84.000000</td>\n",
       "    </tr>\n",
       "    <tr>\n",
       "      <th>max</th>\n",
       "      <td>0.912862</td>\n",
       "      <td>0.900827</td>\n",
       "      <td>0.893418</td>\n",
       "      <td>0.434783</td>\n",
       "      <td>0.580645</td>\n",
       "      <td>119.000000</td>\n",
       "      <td>298.000000</td>\n",
       "    </tr>\n",
       "  </tbody>\n",
       "</table>\n",
       "</div>"
      ],
      "text/plain": [
       "       bert_precision  bert_recall     bert_f1  rouge_score  bleu_score  \\\n",
       "count      166.000000   166.000000  166.000000   166.000000  166.000000   \n",
       "mean         0.868123     0.836774    0.851944     0.136795    0.203455   \n",
       "std          0.020163     0.023719    0.017508     0.067410    0.097421   \n",
       "min          0.776232     0.780489    0.790522     0.000000    0.044905   \n",
       "25%          0.856029     0.820091    0.840033     0.095525    0.131144   \n",
       "50%          0.868103     0.839603    0.853597     0.131508    0.185587   \n",
       "75%          0.881710     0.852211    0.863178     0.169447    0.253218   \n",
       "max          0.912862     0.900827    0.893418     0.434783    0.580645   \n",
       "\n",
       "       len_of_generated_answer  len_of_original_answer  \n",
       "count               166.000000              166.000000  \n",
       "mean                 27.674699               67.295181  \n",
       "std                  17.573471               58.508147  \n",
       "min                   6.000000                2.000000  \n",
       "25%                  14.250000               27.000000  \n",
       "50%                  24.500000               50.000000  \n",
       "75%                  34.000000               84.000000  \n",
       "max                 119.000000              298.000000  "
      ]
     },
     "execution_count": 16,
     "metadata": {},
     "output_type": "execute_result"
    }
   ],
   "source": [
    "tuned_eval_table_100.describe()"
   ]
  },
  {
   "cell_type": "code",
   "execution_count": 17,
   "id": "6cfd26b2",
   "metadata": {},
   "outputs": [
    {
     "data": {
      "text/html": [
       "<div>\n",
       "<style scoped>\n",
       "    .dataframe tbody tr th:only-of-type {\n",
       "        vertical-align: middle;\n",
       "    }\n",
       "\n",
       "    .dataframe tbody tr th {\n",
       "        vertical-align: top;\n",
       "    }\n",
       "\n",
       "    .dataframe thead th {\n",
       "        text-align: right;\n",
       "    }\n",
       "</style>\n",
       "<table border=\"1\" class=\"dataframe\">\n",
       "  <thead>\n",
       "    <tr style=\"text-align: right;\">\n",
       "      <th></th>\n",
       "      <th>bert_precision</th>\n",
       "      <th>bert_recall</th>\n",
       "      <th>bert_f1</th>\n",
       "      <th>rouge_score</th>\n",
       "      <th>bleu_score</th>\n",
       "      <th>len_of_generated_answer</th>\n",
       "      <th>len_of_original_answer</th>\n",
       "    </tr>\n",
       "  </thead>\n",
       "  <tbody>\n",
       "    <tr>\n",
       "      <th>count</th>\n",
       "      <td>233.000000</td>\n",
       "      <td>233.000000</td>\n",
       "      <td>233.000000</td>\n",
       "      <td>233.000000</td>\n",
       "      <td>233.000000</td>\n",
       "      <td>233.000000</td>\n",
       "      <td>233.000000</td>\n",
       "    </tr>\n",
       "    <tr>\n",
       "      <th>mean</th>\n",
       "      <td>0.867891</td>\n",
       "      <td>0.834457</td>\n",
       "      <td>0.850605</td>\n",
       "      <td>0.127090</td>\n",
       "      <td>0.208782</td>\n",
       "      <td>25.824034</td>\n",
       "      <td>70.944206</td>\n",
       "    </tr>\n",
       "    <tr>\n",
       "      <th>std</th>\n",
       "      <td>0.018109</td>\n",
       "      <td>0.026454</td>\n",
       "      <td>0.017883</td>\n",
       "      <td>0.059837</td>\n",
       "      <td>0.096133</td>\n",
       "      <td>15.827435</td>\n",
       "      <td>62.782406</td>\n",
       "    </tr>\n",
       "    <tr>\n",
       "      <th>min</th>\n",
       "      <td>0.818351</td>\n",
       "      <td>0.745513</td>\n",
       "      <td>0.784188</td>\n",
       "      <td>0.000000</td>\n",
       "      <td>0.050602</td>\n",
       "      <td>4.000000</td>\n",
       "      <td>2.000000</td>\n",
       "    </tr>\n",
       "    <tr>\n",
       "      <th>25%</th>\n",
       "      <td>0.856642</td>\n",
       "      <td>0.816213</td>\n",
       "      <td>0.838906</td>\n",
       "      <td>0.089888</td>\n",
       "      <td>0.147436</td>\n",
       "      <td>15.000000</td>\n",
       "      <td>27.000000</td>\n",
       "    </tr>\n",
       "    <tr>\n",
       "      <th>50%</th>\n",
       "      <td>0.868504</td>\n",
       "      <td>0.834778</td>\n",
       "      <td>0.849681</td>\n",
       "      <td>0.119816</td>\n",
       "      <td>0.186567</td>\n",
       "      <td>23.000000</td>\n",
       "      <td>51.000000</td>\n",
       "    </tr>\n",
       "    <tr>\n",
       "      <th>75%</th>\n",
       "      <td>0.879080</td>\n",
       "      <td>0.850402</td>\n",
       "      <td>0.861689</td>\n",
       "      <td>0.158416</td>\n",
       "      <td>0.257143</td>\n",
       "      <td>31.000000</td>\n",
       "      <td>90.000000</td>\n",
       "    </tr>\n",
       "    <tr>\n",
       "      <th>max</th>\n",
       "      <td>0.923830</td>\n",
       "      <td>0.910362</td>\n",
       "      <td>0.911163</td>\n",
       "      <td>0.357143</td>\n",
       "      <td>0.580645</td>\n",
       "      <td>107.000000</td>\n",
       "      <td>318.000000</td>\n",
       "    </tr>\n",
       "  </tbody>\n",
       "</table>\n",
       "</div>"
      ],
      "text/plain": [
       "       bert_precision  bert_recall     bert_f1  rouge_score  bleu_score  \\\n",
       "count      233.000000   233.000000  233.000000   233.000000  233.000000   \n",
       "mean         0.867891     0.834457    0.850605     0.127090    0.208782   \n",
       "std          0.018109     0.026454    0.017883     0.059837    0.096133   \n",
       "min          0.818351     0.745513    0.784188     0.000000    0.050602   \n",
       "25%          0.856642     0.816213    0.838906     0.089888    0.147436   \n",
       "50%          0.868504     0.834778    0.849681     0.119816    0.186567   \n",
       "75%          0.879080     0.850402    0.861689     0.158416    0.257143   \n",
       "max          0.923830     0.910362    0.911163     0.357143    0.580645   \n",
       "\n",
       "       len_of_generated_answer  len_of_original_answer  \n",
       "count               233.000000              233.000000  \n",
       "mean                 25.824034               70.944206  \n",
       "std                  15.827435               62.782406  \n",
       "min                   4.000000                2.000000  \n",
       "25%                  15.000000               27.000000  \n",
       "50%                  23.000000               51.000000  \n",
       "75%                  31.000000               90.000000  \n",
       "max                 107.000000              318.000000  "
      ]
     },
     "execution_count": 17,
     "metadata": {},
     "output_type": "execute_result"
    }
   ],
   "source": [
    "tuned_eval_table_200.describe()"
   ]
  },
  {
   "attachments": {},
   "cell_type": "markdown",
   "id": "cf068019",
   "metadata": {},
   "source": [
    "#### Построим boxplot длин текстовых данных"
   ]
  },
  {
   "cell_type": "code",
   "execution_count": 19,
   "id": "14901224",
   "metadata": {},
   "outputs": [
    {
     "data": {
      "application/vnd.plotly.v1+json": {
       "config": {
        "plotlyServerURL": "https://plot.ly"
       },
       "data": [
        {
         "boxpoints": "all",
         "jitter": 0.3,
         "name": "Base model",
         "type": "box",
         "xaxis": "x",
         "y": [
          16,
          50,
          197,
          58,
          26,
          41,
          175,
          12,
          97,
          37,
          14,
          7,
          67,
          67,
          92,
          15,
          80,
          31,
          20,
          49,
          47,
          33,
          57,
          30,
          74,
          313,
          42,
          48,
          11,
          34,
          38,
          25,
          81,
          24,
          52,
          17,
          45,
          24,
          49,
          14,
          23,
          44,
          114,
          19,
          108,
          13,
          53,
          14,
          49,
          80,
          4,
          102,
          85,
          22,
          32,
          45,
          197,
          46,
          45,
          64,
          29,
          229,
          32,
          9,
          36,
          21,
          11,
          43,
          2,
          41,
          78,
          51,
          6,
          89,
          90,
          66,
          269,
          5,
          70,
          5,
          89,
          41,
          48,
          11,
          28,
          37,
          54,
          13,
          105,
          142,
          21,
          103,
          221,
          37,
          9,
          217,
          17,
          84,
          296,
          9,
          127,
          57,
          57,
          116,
          17,
          15,
          38,
          22,
          90,
          46,
          38,
          130,
          69,
          18,
          42,
          69,
          238,
          174,
          34,
          21,
          59,
          166,
          28,
          76,
          27,
          63,
          14,
          27,
          40,
          53,
          168,
          38,
          173,
          57,
          242,
          32,
          38,
          186,
          20,
          71,
          28,
          13,
          89,
          43,
          53,
          50,
          39,
          22,
          76,
          42,
          65,
          40,
          79,
          113,
          135,
          15,
          93,
          58,
          77,
          47,
          163,
          201,
          37,
          26,
          9,
          183,
          27,
          42,
          6,
          215,
          62,
          24,
          60,
          55,
          84,
          165,
          64,
          62,
          86,
          278,
          11,
          49,
          43,
          47,
          18,
          112,
          113,
          19,
          401,
          10,
          29,
          23,
          10,
          87,
          140,
          47,
          85,
          81,
          29,
          28,
          108,
          27,
          190,
          18,
          6,
          143,
          46,
          18,
          40,
          243,
          220,
          102,
          79,
          36,
          44,
          149,
          8,
          51,
          36,
          59,
          36,
          22,
          89,
          85,
          110,
          35,
          86,
          22,
          69,
          78,
          44,
          38,
          344,
          71,
          165,
          212,
          15,
          94,
          27,
          27,
          32,
          5,
          96,
          28,
          44,
          49,
          39,
          52,
          39,
          49,
          19
         ],
         "yaxis": "y"
        },
        {
         "boxpoints": "all",
         "jitter": 0.3,
         "name": "Tuned model no length condition",
         "type": "box",
         "xaxis": "x",
         "y": [
          36,
          27,
          14,
          43,
          20,
          27,
          23,
          14,
          61,
          62,
          34,
          21,
          14,
          21,
          41,
          49,
          20,
          73,
          22,
          28,
          21,
          36,
          25,
          13,
          69,
          44,
          15,
          49,
          24,
          18,
          39,
          28,
          44,
          44,
          35,
          31,
          50,
          42,
          37,
          28,
          22,
          9,
          49,
          17,
          15,
          91,
          23,
          51,
          27,
          31,
          54,
          54,
          31,
          35,
          46,
          24,
          12,
          47,
          13,
          40,
          43,
          12,
          36,
          25,
          36,
          35,
          33,
          80,
          35,
          42,
          15,
          14,
          8,
          54,
          45,
          22,
          32,
          39,
          35,
          5,
          71,
          23,
          26,
          11,
          48,
          22,
          58,
          46,
          165,
          43,
          12,
          18,
          17,
          18,
          27,
          17,
          21,
          34,
          10,
          53,
          66,
          67,
          24,
          26,
          31,
          39,
          67,
          43,
          97,
          20,
          57,
          26,
          17,
          52,
          55,
          15,
          46,
          21,
          15,
          16,
          19,
          16,
          35,
          48,
          10,
          66,
          12,
          23,
          44,
          14,
          20,
          14,
          50,
          25,
          38,
          13,
          14,
          22,
          9,
          31,
          28,
          112,
          21,
          26,
          30,
          27,
          44,
          23,
          20,
          21,
          31,
          30,
          12,
          23,
          33,
          31,
          46,
          9,
          26,
          48,
          26,
          12,
          31,
          21,
          25,
          20,
          12,
          21,
          20,
          17,
          37,
          23,
          45,
          27,
          14,
          48,
          51,
          82,
          13,
          65,
          25,
          14,
          26,
          32,
          18,
          102,
          36,
          18,
          49,
          44,
          11,
          43,
          20,
          25,
          14,
          38,
          32,
          21,
          23,
          42,
          7,
          34,
          58,
          48,
          10,
          79,
          33,
          28,
          113,
          30,
          33,
          189,
          39,
          35,
          18,
          27,
          20,
          28,
          39,
          72,
          28,
          15,
          31,
          31,
          38,
          16,
          52,
          36,
          21,
          35,
          55,
          7,
          68,
          35,
          14,
          19,
          30,
          31,
          6,
          12,
          55,
          22,
          13,
          21,
          33,
          31,
          16,
          21,
          29,
          12,
          14
         ],
         "yaxis": "y"
        },
        {
         "boxpoints": "all",
         "jitter": 0.3,
         "name": "Tuned model, length <= 200",
         "type": "box",
         "xaxis": "x",
         "y": [
          22,
          11,
          24,
          9,
          22,
          28,
          22,
          13,
          20,
          12,
          27,
          88,
          26,
          42,
          32,
          26,
          22,
          10,
          29,
          21,
          82,
          25,
          14,
          32,
          23,
          8,
          10,
          25,
          30,
          33,
          19,
          19,
          16,
          13,
          17,
          29,
          35,
          8,
          10,
          52,
          13,
          10,
          10,
          19,
          40,
          30,
          17,
          11,
          43,
          29,
          12,
          17,
          10,
          44,
          22,
          30,
          12,
          25,
          25,
          17,
          25,
          9,
          83,
          18,
          25,
          13,
          15,
          41,
          7,
          31,
          38,
          26,
          20,
          66,
          12,
          45,
          13,
          10,
          24,
          28,
          16,
          29,
          34,
          30,
          6,
          78,
          33,
          17,
          29,
          28,
          10,
          31,
          28,
          53,
          30,
          8,
          15,
          29,
          53,
          57,
          11,
          24,
          23,
          27,
          60,
          10,
          68,
          23,
          8,
          13,
          16,
          49,
          20,
          107,
          8,
          19,
          16,
          17,
          35,
          32,
          25,
          12,
          23,
          8,
          6,
          13,
          21,
          19,
          14,
          23,
          10,
          14,
          16,
          26,
          33,
          35,
          33,
          22,
          28,
          18,
          24,
          13,
          13,
          23,
          44,
          24,
          20,
          11,
          19,
          14,
          23,
          21,
          38,
          8,
          15,
          9,
          32,
          9,
          8,
          33,
          23,
          19,
          16,
          8,
          23,
          11,
          40,
          20,
          22,
          17,
          31,
          23,
          22,
          34,
          20,
          36,
          30,
          53,
          36,
          27,
          19,
          19,
          22,
          48,
          14,
          31,
          45,
          25,
          27,
          19,
          68,
          74,
          24,
          34,
          19,
          39,
          25,
          26,
          27,
          42,
          24,
          41,
          56,
          19,
          4,
          55,
          29,
          12,
          29,
          41,
          55,
          21,
          19,
          35,
          25,
          31,
          8,
          42,
          37,
          23,
          16,
          19,
          22,
          18,
          10,
          28,
          25,
          34,
          15,
          26,
          19,
          23,
          7
         ],
         "yaxis": "y"
        },
        {
         "boxpoints": "all",
         "jitter": 0.3,
         "name": "Tuned model, length <= 100",
         "type": "box",
         "xaxis": "x",
         "y": [
          21,
          15,
          11,
          28,
          11,
          36,
          63,
          30,
          39,
          26,
          28,
          18,
          17,
          26,
          30,
          20,
          9,
          29,
          9,
          12,
          14,
          26,
          36,
          26,
          31,
          24,
          40,
          21,
          42,
          40,
          22,
          19,
          37,
          19,
          61,
          24,
          14,
          20,
          119,
          28,
          29,
          30,
          25,
          31,
          13,
          32,
          23,
          22,
          44,
          19,
          97,
          28,
          36,
          6,
          11,
          42,
          8,
          17,
          44,
          10,
          65,
          37,
          51,
          70,
          8,
          34,
          27,
          61,
          11,
          62,
          63,
          20,
          34,
          14,
          51,
          6,
          16,
          41,
          10,
          56,
          11,
          58,
          9,
          22,
          19,
          13,
          38,
          6,
          12,
          9,
          32,
          25,
          72,
          19,
          39,
          10,
          20,
          11,
          17,
          19,
          9,
          28,
          30,
          9,
          43,
          27,
          28,
          21,
          11,
          16,
          20,
          29,
          16,
          14,
          35,
          13,
          14,
          19,
          32,
          25,
          33,
          54,
          26,
          56,
          28,
          22,
          47,
          18,
          23,
          14,
          15,
          56,
          23,
          23,
          12,
          6,
          29,
          13,
          34,
          7,
          26,
          27,
          14,
          35,
          25,
          54,
          30,
          31,
          7,
          47,
          34,
          47,
          30,
          16,
          61,
          12,
          21,
          29,
          22,
          13,
          22,
          50,
          19,
          8,
          12,
          18
         ],
         "yaxis": "y"
        },
        {
         "boxpoints": "all",
         "jitter": 0.3,
         "name": "Original answers",
         "type": "box",
         "xaxis": "x",
         "y": [
          43,
          47,
          93,
          24,
          12,
          20,
          63,
          4,
          60,
          8,
          59,
          21,
          64,
          142,
          71,
          35,
          199,
          194,
          47,
          7,
          47,
          34,
          94,
          27,
          21,
          268,
          70,
          76,
          39,
          176,
          39,
          122,
          23,
          50,
          48,
          41,
          69,
          18,
          39,
          17,
          50,
          204,
          92,
          97,
          51,
          30,
          36,
          12,
          81,
          27,
          41,
          75,
          230,
          140,
          55,
          36,
          86,
          22,
          248,
          2,
          21,
          47,
          9,
          146,
          21,
          57,
          298,
          207,
          13,
          106,
          124,
          42,
          123,
          61,
          77,
          17,
          48,
          54,
          21,
          60,
          81,
          3,
          25,
          20,
          28,
          60,
          49,
          35,
          19,
          232,
          11,
          8,
          85,
          70,
          163,
          9,
          24,
          76,
          41,
          31,
          68,
          68,
          22,
          5,
          45,
          32,
          17,
          92,
          56,
          24,
          38,
          67,
          49,
          120,
          135,
          50,
          92,
          11,
          79,
          100,
          73,
          96,
          207,
          26,
          93,
          169,
          43,
          35,
          66,
          152,
          35,
          30,
          91,
          178,
          47,
          64,
          19,
          7,
          50,
          162,
          33,
          93,
          52,
          39,
          67,
          241,
          155,
          37,
          14,
          40,
          19,
          55,
          52,
          34,
          107,
          12,
          29,
          75,
          60,
          4,
          25,
          63,
          61,
          88,
          66,
          69
         ],
         "yaxis": "y"
        }
       ],
       "layout": {
        "height": 600,
        "template": {
         "data": {
          "bar": [
           {
            "error_x": {
             "color": "#2a3f5f"
            },
            "error_y": {
             "color": "#2a3f5f"
            },
            "marker": {
             "line": {
              "color": "#E5ECF6",
              "width": 0.5
             },
             "pattern": {
              "fillmode": "overlay",
              "size": 10,
              "solidity": 0.2
             }
            },
            "type": "bar"
           }
          ],
          "barpolar": [
           {
            "marker": {
             "line": {
              "color": "#E5ECF6",
              "width": 0.5
             },
             "pattern": {
              "fillmode": "overlay",
              "size": 10,
              "solidity": 0.2
             }
            },
            "type": "barpolar"
           }
          ],
          "carpet": [
           {
            "aaxis": {
             "endlinecolor": "#2a3f5f",
             "gridcolor": "white",
             "linecolor": "white",
             "minorgridcolor": "white",
             "startlinecolor": "#2a3f5f"
            },
            "baxis": {
             "endlinecolor": "#2a3f5f",
             "gridcolor": "white",
             "linecolor": "white",
             "minorgridcolor": "white",
             "startlinecolor": "#2a3f5f"
            },
            "type": "carpet"
           }
          ],
          "choropleth": [
           {
            "colorbar": {
             "outlinewidth": 0,
             "ticks": ""
            },
            "type": "choropleth"
           }
          ],
          "contour": [
           {
            "colorbar": {
             "outlinewidth": 0,
             "ticks": ""
            },
            "colorscale": [
             [
              0,
              "#0d0887"
             ],
             [
              0.1111111111111111,
              "#46039f"
             ],
             [
              0.2222222222222222,
              "#7201a8"
             ],
             [
              0.3333333333333333,
              "#9c179e"
             ],
             [
              0.4444444444444444,
              "#bd3786"
             ],
             [
              0.5555555555555556,
              "#d8576b"
             ],
             [
              0.6666666666666666,
              "#ed7953"
             ],
             [
              0.7777777777777778,
              "#fb9f3a"
             ],
             [
              0.8888888888888888,
              "#fdca26"
             ],
             [
              1,
              "#f0f921"
             ]
            ],
            "type": "contour"
           }
          ],
          "contourcarpet": [
           {
            "colorbar": {
             "outlinewidth": 0,
             "ticks": ""
            },
            "type": "contourcarpet"
           }
          ],
          "heatmap": [
           {
            "colorbar": {
             "outlinewidth": 0,
             "ticks": ""
            },
            "colorscale": [
             [
              0,
              "#0d0887"
             ],
             [
              0.1111111111111111,
              "#46039f"
             ],
             [
              0.2222222222222222,
              "#7201a8"
             ],
             [
              0.3333333333333333,
              "#9c179e"
             ],
             [
              0.4444444444444444,
              "#bd3786"
             ],
             [
              0.5555555555555556,
              "#d8576b"
             ],
             [
              0.6666666666666666,
              "#ed7953"
             ],
             [
              0.7777777777777778,
              "#fb9f3a"
             ],
             [
              0.8888888888888888,
              "#fdca26"
             ],
             [
              1,
              "#f0f921"
             ]
            ],
            "type": "heatmap"
           }
          ],
          "heatmapgl": [
           {
            "colorbar": {
             "outlinewidth": 0,
             "ticks": ""
            },
            "colorscale": [
             [
              0,
              "#0d0887"
             ],
             [
              0.1111111111111111,
              "#46039f"
             ],
             [
              0.2222222222222222,
              "#7201a8"
             ],
             [
              0.3333333333333333,
              "#9c179e"
             ],
             [
              0.4444444444444444,
              "#bd3786"
             ],
             [
              0.5555555555555556,
              "#d8576b"
             ],
             [
              0.6666666666666666,
              "#ed7953"
             ],
             [
              0.7777777777777778,
              "#fb9f3a"
             ],
             [
              0.8888888888888888,
              "#fdca26"
             ],
             [
              1,
              "#f0f921"
             ]
            ],
            "type": "heatmapgl"
           }
          ],
          "histogram": [
           {
            "marker": {
             "pattern": {
              "fillmode": "overlay",
              "size": 10,
              "solidity": 0.2
             }
            },
            "type": "histogram"
           }
          ],
          "histogram2d": [
           {
            "colorbar": {
             "outlinewidth": 0,
             "ticks": ""
            },
            "colorscale": [
             [
              0,
              "#0d0887"
             ],
             [
              0.1111111111111111,
              "#46039f"
             ],
             [
              0.2222222222222222,
              "#7201a8"
             ],
             [
              0.3333333333333333,
              "#9c179e"
             ],
             [
              0.4444444444444444,
              "#bd3786"
             ],
             [
              0.5555555555555556,
              "#d8576b"
             ],
             [
              0.6666666666666666,
              "#ed7953"
             ],
             [
              0.7777777777777778,
              "#fb9f3a"
             ],
             [
              0.8888888888888888,
              "#fdca26"
             ],
             [
              1,
              "#f0f921"
             ]
            ],
            "type": "histogram2d"
           }
          ],
          "histogram2dcontour": [
           {
            "colorbar": {
             "outlinewidth": 0,
             "ticks": ""
            },
            "colorscale": [
             [
              0,
              "#0d0887"
             ],
             [
              0.1111111111111111,
              "#46039f"
             ],
             [
              0.2222222222222222,
              "#7201a8"
             ],
             [
              0.3333333333333333,
              "#9c179e"
             ],
             [
              0.4444444444444444,
              "#bd3786"
             ],
             [
              0.5555555555555556,
              "#d8576b"
             ],
             [
              0.6666666666666666,
              "#ed7953"
             ],
             [
              0.7777777777777778,
              "#fb9f3a"
             ],
             [
              0.8888888888888888,
              "#fdca26"
             ],
             [
              1,
              "#f0f921"
             ]
            ],
            "type": "histogram2dcontour"
           }
          ],
          "mesh3d": [
           {
            "colorbar": {
             "outlinewidth": 0,
             "ticks": ""
            },
            "type": "mesh3d"
           }
          ],
          "parcoords": [
           {
            "line": {
             "colorbar": {
              "outlinewidth": 0,
              "ticks": ""
             }
            },
            "type": "parcoords"
           }
          ],
          "pie": [
           {
            "automargin": true,
            "type": "pie"
           }
          ],
          "scatter": [
           {
            "marker": {
             "colorbar": {
              "outlinewidth": 0,
              "ticks": ""
             }
            },
            "type": "scatter"
           }
          ],
          "scatter3d": [
           {
            "line": {
             "colorbar": {
              "outlinewidth": 0,
              "ticks": ""
             }
            },
            "marker": {
             "colorbar": {
              "outlinewidth": 0,
              "ticks": ""
             }
            },
            "type": "scatter3d"
           }
          ],
          "scattercarpet": [
           {
            "marker": {
             "colorbar": {
              "outlinewidth": 0,
              "ticks": ""
             }
            },
            "type": "scattercarpet"
           }
          ],
          "scattergeo": [
           {
            "marker": {
             "colorbar": {
              "outlinewidth": 0,
              "ticks": ""
             }
            },
            "type": "scattergeo"
           }
          ],
          "scattergl": [
           {
            "marker": {
             "colorbar": {
              "outlinewidth": 0,
              "ticks": ""
             }
            },
            "type": "scattergl"
           }
          ],
          "scattermapbox": [
           {
            "marker": {
             "colorbar": {
              "outlinewidth": 0,
              "ticks": ""
             }
            },
            "type": "scattermapbox"
           }
          ],
          "scatterpolar": [
           {
            "marker": {
             "colorbar": {
              "outlinewidth": 0,
              "ticks": ""
             }
            },
            "type": "scatterpolar"
           }
          ],
          "scatterpolargl": [
           {
            "marker": {
             "colorbar": {
              "outlinewidth": 0,
              "ticks": ""
             }
            },
            "type": "scatterpolargl"
           }
          ],
          "scatterternary": [
           {
            "marker": {
             "colorbar": {
              "outlinewidth": 0,
              "ticks": ""
             }
            },
            "type": "scatterternary"
           }
          ],
          "surface": [
           {
            "colorbar": {
             "outlinewidth": 0,
             "ticks": ""
            },
            "colorscale": [
             [
              0,
              "#0d0887"
             ],
             [
              0.1111111111111111,
              "#46039f"
             ],
             [
              0.2222222222222222,
              "#7201a8"
             ],
             [
              0.3333333333333333,
              "#9c179e"
             ],
             [
              0.4444444444444444,
              "#bd3786"
             ],
             [
              0.5555555555555556,
              "#d8576b"
             ],
             [
              0.6666666666666666,
              "#ed7953"
             ],
             [
              0.7777777777777778,
              "#fb9f3a"
             ],
             [
              0.8888888888888888,
              "#fdca26"
             ],
             [
              1,
              "#f0f921"
             ]
            ],
            "type": "surface"
           }
          ],
          "table": [
           {
            "cells": {
             "fill": {
              "color": "#EBF0F8"
             },
             "line": {
              "color": "white"
             }
            },
            "header": {
             "fill": {
              "color": "#C8D4E3"
             },
             "line": {
              "color": "white"
             }
            },
            "type": "table"
           }
          ]
         },
         "layout": {
          "annotationdefaults": {
           "arrowcolor": "#2a3f5f",
           "arrowhead": 0,
           "arrowwidth": 1
          },
          "autotypenumbers": "strict",
          "coloraxis": {
           "colorbar": {
            "outlinewidth": 0,
            "ticks": ""
           }
          },
          "colorscale": {
           "diverging": [
            [
             0,
             "#8e0152"
            ],
            [
             0.1,
             "#c51b7d"
            ],
            [
             0.2,
             "#de77ae"
            ],
            [
             0.3,
             "#f1b6da"
            ],
            [
             0.4,
             "#fde0ef"
            ],
            [
             0.5,
             "#f7f7f7"
            ],
            [
             0.6,
             "#e6f5d0"
            ],
            [
             0.7,
             "#b8e186"
            ],
            [
             0.8,
             "#7fbc41"
            ],
            [
             0.9,
             "#4d9221"
            ],
            [
             1,
             "#276419"
            ]
           ],
           "sequential": [
            [
             0,
             "#0d0887"
            ],
            [
             0.1111111111111111,
             "#46039f"
            ],
            [
             0.2222222222222222,
             "#7201a8"
            ],
            [
             0.3333333333333333,
             "#9c179e"
            ],
            [
             0.4444444444444444,
             "#bd3786"
            ],
            [
             0.5555555555555556,
             "#d8576b"
            ],
            [
             0.6666666666666666,
             "#ed7953"
            ],
            [
             0.7777777777777778,
             "#fb9f3a"
            ],
            [
             0.8888888888888888,
             "#fdca26"
            ],
            [
             1,
             "#f0f921"
            ]
           ],
           "sequentialminus": [
            [
             0,
             "#0d0887"
            ],
            [
             0.1111111111111111,
             "#46039f"
            ],
            [
             0.2222222222222222,
             "#7201a8"
            ],
            [
             0.3333333333333333,
             "#9c179e"
            ],
            [
             0.4444444444444444,
             "#bd3786"
            ],
            [
             0.5555555555555556,
             "#d8576b"
            ],
            [
             0.6666666666666666,
             "#ed7953"
            ],
            [
             0.7777777777777778,
             "#fb9f3a"
            ],
            [
             0.8888888888888888,
             "#fdca26"
            ],
            [
             1,
             "#f0f921"
            ]
           ]
          },
          "colorway": [
           "#636efa",
           "#EF553B",
           "#00cc96",
           "#ab63fa",
           "#FFA15A",
           "#19d3f3",
           "#FF6692",
           "#B6E880",
           "#FF97FF",
           "#FECB52"
          ],
          "font": {
           "color": "#2a3f5f"
          },
          "geo": {
           "bgcolor": "white",
           "lakecolor": "white",
           "landcolor": "#E5ECF6",
           "showlakes": true,
           "showland": true,
           "subunitcolor": "white"
          },
          "hoverlabel": {
           "align": "left"
          },
          "hovermode": "closest",
          "mapbox": {
           "style": "light"
          },
          "paper_bgcolor": "white",
          "plot_bgcolor": "#E5ECF6",
          "polar": {
           "angularaxis": {
            "gridcolor": "white",
            "linecolor": "white",
            "ticks": ""
           },
           "bgcolor": "#E5ECF6",
           "radialaxis": {
            "gridcolor": "white",
            "linecolor": "white",
            "ticks": ""
           }
          },
          "scene": {
           "xaxis": {
            "backgroundcolor": "#E5ECF6",
            "gridcolor": "white",
            "gridwidth": 2,
            "linecolor": "white",
            "showbackground": true,
            "ticks": "",
            "zerolinecolor": "white"
           },
           "yaxis": {
            "backgroundcolor": "#E5ECF6",
            "gridcolor": "white",
            "gridwidth": 2,
            "linecolor": "white",
            "showbackground": true,
            "ticks": "",
            "zerolinecolor": "white"
           },
           "zaxis": {
            "backgroundcolor": "#E5ECF6",
            "gridcolor": "white",
            "gridwidth": 2,
            "linecolor": "white",
            "showbackground": true,
            "ticks": "",
            "zerolinecolor": "white"
           }
          },
          "shapedefaults": {
           "line": {
            "color": "#2a3f5f"
           }
          },
          "ternary": {
           "aaxis": {
            "gridcolor": "white",
            "linecolor": "white",
            "ticks": ""
           },
           "baxis": {
            "gridcolor": "white",
            "linecolor": "white",
            "ticks": ""
           },
           "bgcolor": "#E5ECF6",
           "caxis": {
            "gridcolor": "white",
            "linecolor": "white",
            "ticks": ""
           }
          },
          "title": {
           "x": 0.05
          },
          "xaxis": {
           "automargin": true,
           "gridcolor": "white",
           "linecolor": "white",
           "ticks": "",
           "title": {
            "standoff": 15
           },
           "zerolinecolor": "white",
           "zerolinewidth": 2
          },
          "yaxis": {
           "automargin": true,
           "gridcolor": "white",
           "linecolor": "white",
           "ticks": "",
           "title": {
            "standoff": 15
           },
           "zerolinecolor": "white",
           "zerolinewidth": 2
          }
         }
        },
        "title": {
         "text": "Length boxplot"
        },
        "width": 1000,
        "xaxis": {
         "anchor": "y",
         "domain": [
          0,
          1
         ]
        },
        "yaxis": {
         "anchor": "x",
         "domain": [
          0,
          1
         ],
         "title": {
          "text": "Legnth"
         }
        }
       }
      }
     },
     "metadata": {},
     "output_type": "display_data"
    }
   ],
   "source": [
    "fig = make_subplots(rows=1, cols=1)\n",
    "\n",
    "fig.add_trace(\n",
    "    go.Box(y=base_eval_table.len_of_generated_answer, name=\"Base model\"), row=1, col=1\n",
    ")\n",
    "\n",
    "fig.add_trace(\n",
    "    go.Box(y=tuned_eval_table.len_of_generated_answer, name=\"Tuned model no length condition\"), row=1, col=1\n",
    ")\n",
    "\n",
    "fig.add_trace(\n",
    "    go.Box(y=tuned_eval_table_200.len_of_generated_answer, name=\"Tuned model, length <= 200\"), row=1, col=1\n",
    ")\n",
    "\n",
    "fig.add_trace(\n",
    "    go.Box(y=tuned_eval_table_100.len_of_generated_answer, name=\"Tuned model, length <= 100\"), row=1, col=1\n",
    ")\n",
    "\n",
    "fig.add_trace(\n",
    "    go.Box(y=tuned_eval_table_100.len_of_original_answer, name=\"Original answers\"), row=1, col=1\n",
    ")\n",
    "\n",
    "fig.update_layout(\n",
    "    height=600, width=1000, title_text=\"Length boxplot\", yaxis_title=\"Legnth\"\n",
    ")\n",
    "fig.update_traces(boxpoints=\"all\", jitter=0.3)\n",
    "fig.show()"
   ]
  },
  {
   "attachments": {},
   "cell_type": "markdown",
   "id": "6993179f",
   "metadata": {},
   "source": [
    "## Анализ метрик"
   ]
  },
  {
   "attachments": {},
   "cell_type": "markdown",
   "id": "0d1c1a0c",
   "metadata": {},
   "source": [
    "### Поочередное сравнение"
   ]
  },
  {
   "cell_type": "code",
   "execution_count": 14,
   "id": "87024ec5",
   "metadata": {},
   "outputs": [
    {
     "name": "stdout",
     "output_type": "stream",
     "text": [
      "BERT score (Base): 0.81581\n",
      "ROUGE score (Base): 0.12451\n",
      "Unigram BLEU score (Base): 0.11643\n",
      "\n",
      "BERT score (Tuned no length condition): 0.84988\n",
      "ROUGE score (Tuned no length condition): 0.13167\n",
      "Unigram BLEU score (Tuned no length condition): 0.17138\n",
      "\n",
      "BERT score diff: 0.03407631761049368 (4.18 %)\n",
      "ROUGE score diff: 0.007159628479710106 (5.75 %)\n",
      "Unigram BLEU score diff: 0.054953583136103185 (47.2 %)\n"
     ]
    }
   ],
   "source": [
    "base_tuned_metrics = get_metrics(base_eval_table, tuned_eval_table, '(Base)', '(Tuned no length condition)')"
   ]
  },
  {
   "cell_type": "code",
   "execution_count": 15,
   "id": "9b65fe93",
   "metadata": {},
   "outputs": [
    {
     "name": "stdout",
     "output_type": "stream",
     "text": [
      "BERT score (Tuned no length condition): 0.84988\n",
      "ROUGE score (Tuned no length condition): 0.13167\n",
      "Unigram BLEU score (Tuned no length condition): 0.17138\n",
      "\n",
      "BERT score (Tuned, length <= 200): 0.8506\n",
      "ROUGE score (Tuned, length <= 200): 0.12709\n",
      "Unigram BLEU score (Tuned, length <= 200): 0.20878\n",
      "\n",
      "BERT score diff: 0.0007211662202254443 (0.08 %)\n",
      "ROUGE score diff: -0.00458299427045844 (-3.48 %)\n",
      "Unigram BLEU score diff: 0.037398788702698305 (21.82 %)\n"
     ]
    }
   ],
   "source": [
    "base_tuned_metrics = get_metrics(tuned_eval_table, tuned_eval_table_200, '(Tuned no length condition)', '(Tuned, length <= 200)')"
   ]
  },
  {
   "cell_type": "code",
   "execution_count": 16,
   "id": "c0a94e45",
   "metadata": {},
   "outputs": [
    {
     "name": "stdout",
     "output_type": "stream",
     "text": [
      "BERT score (Tuned no length condition): 0.84988\n",
      "ROUGE score (Tuned no length condition): 0.13167\n",
      "Unigram BLEU score (Tuned no length condition): 0.17138\n",
      "\n",
      "BERT score (Tuned, length <= 100): 0.85194\n",
      "ROUGE score (Tuned, length <= 100): 0.13679\n",
      "Unigram BLEU score (Tuned, length <= 100): 0.20346\n",
      "\n",
      "BERT score diff: 0.002060366273126557 (0.24 %)\n",
      "ROUGE score diff: 0.005121616777264415 (3.89 %)\n",
      "Unigram BLEU score diff: 0.03207167891337817 (18.71 %)\n"
     ]
    }
   ],
   "source": [
    "base_tuned_metrics = get_metrics(tuned_eval_table, tuned_eval_table_100, '(Tuned no length condition)', '(Tuned, length <= 100)')"
   ]
  },
  {
   "attachments": {},
   "cell_type": "markdown",
   "id": "c65b9898",
   "metadata": {},
   "source": [
    "### Таблицы ранжирования"
   ]
  },
  {
   "cell_type": "code",
   "execution_count": 17,
   "id": "04ca00c9",
   "metadata": {},
   "outputs": [],
   "source": [
    "def get_metric_table():\n",
    "    metric_df = pd.DataFrame(\n",
    "        {\n",
    "            \"BERT_F1\": [\n",
    "                base_eval_table[f\"bert_f1\"].mean(),\n",
    "                tuned_eval_table[f\"bert_f1\"].mean(),\n",
    "                tuned_eval_table_200[f\"bert_f1\"].mean(),\n",
    "                tuned_eval_table_200[f\"bert_f1\"].mean(),\n",
    "            ],\n",
    "            \"ROUGE\": [\n",
    "                base_eval_table[f\"rouge_score\"].mean(),\n",
    "                tuned_eval_table[f\"rouge_score\"].mean(),\n",
    "                tuned_eval_table_200[f\"rouge_score\"].mean(),\n",
    "                tuned_eval_table_200[f\"rouge_score\"].mean(),\n",
    "            ],\n",
    "            \"BLEU\": [\n",
    "                base_eval_table[f\"bleu_score\"].mean(),\n",
    "                tuned_eval_table[f\"bleu_score\"].mean(),\n",
    "                tuned_eval_table_200[f\"bleu_score\"].mean(),\n",
    "                tuned_eval_table_200[f\"bleu_score\"].mean(),\n",
    "            ],\n",
    "        },\n",
    "        index=[\n",
    "            \"Base\",\n",
    "            'Any length',\n",
    "            'Length <= 200',\n",
    "            'Length <= 100',\n",
    "        ],\n",
    "    )\n",
    "    return metric_df"
   ]
  },
  {
   "attachments": {},
   "cell_type": "markdown",
   "id": "f76e7cff",
   "metadata": {},
   "source": [
    "#### Metrics\n"
   ]
  },
  {
   "cell_type": "code",
   "execution_count": 18,
   "id": "498b3d55",
   "metadata": {},
   "outputs": [
    {
     "data": {
      "text/plain": [
       "[]"
      ]
     },
     "execution_count": 18,
     "metadata": {},
     "output_type": "execute_result"
    },
    {
     "data": {
      "image/png": "[encoded data removed]",
      "text/plain": [
       "<Figure size 640x480 with 2 Axes>"
      ]
     },
     "metadata": {},
     "output_type": "display_data"
    }
   ],
   "source": [
    "metrics_df = get_metric_table()\n",
    "ax = sns.heatmap(metrics_df, annot=True, fmt='.4f', cmap=\"crest\")\n",
    "ax.set(xlabel=\"Metrics\", ylabel=\"Selection data types\", title='Metrics comparision')\n",
    "ax.plot()"
   ]
  },
  {
   "cell_type": "markdown",
   "id": "7a64c1c1",
   "metadata": {},
   "source": [
    "## Зависимости в данных"
   ]
  },
  {
   "cell_type": "markdown",
   "id": "d7fc1d40",
   "metadata": {},
   "source": [
    "### Корреляция между длиной ответа и длиной вопроса"
   ]
  },
  {
   "cell_type": "code",
   "execution_count": 131,
   "id": "f0a23040",
   "metadata": {},
   "outputs": [
    {
     "name": "stdout",
     "output_type": "stream",
     "text": [
      "Correlation original answer: 0.2809995796375293\n",
      "Correlation for base model: 0.1465737020159977\n",
      "Correlation for tuned model: 0.3547443572695564\n"
     ]
    }
   ],
   "source": [
    "print(\n",
    "    f\"Correlation original answer: \"\n",
    "    + str(\n",
    "        base_eval_table[\"len_of_question\"].corr(\n",
    "            base_eval_table[\"len_of_original_answer\"]\n",
    "        )\n",
    "    )\n",
    ")\n",
    "print(\n",
    "    f\"Correlation for base model: \"\n",
    "    + str(\n",
    "        base_eval_table[\"len_of_question\"].corr(\n",
    "            base_eval_table[\"len_of_generated_answer\"]\n",
    "        )\n",
    "    )\n",
    ")\n",
    "print(\n",
    "    f\"Correlation for tuned model: \"\n",
    "    + str(\n",
    "        tuned_eval_table[\"len_of_question\"].corr(\n",
    "            tuned_eval_table[\"len_of_generated_answer\"]\n",
    "        )\n",
    "    )\n",
    ")"
   ]
  },
  {
   "cell_type": "markdown",
   "id": "e94a7ff9",
   "metadata": {},
   "source": [
    "### Кластеризация ответов"
   ]
  },
  {
   "cell_type": "code",
   "execution_count": 132,
   "id": "8f3b4a72",
   "metadata": {},
   "outputs": [],
   "source": [
    "original_ans = base_eval_table.original_answer.values\n",
    "base_gen_ans = base_eval_table.generated_answer.values\n",
    "tuned_gen_ans = tuned_eval_table.generated_answer.values"
   ]
  },
  {
   "cell_type": "markdown",
   "id": "8a585b86",
   "metadata": {},
   "source": [
    "#### Вспомогательные функции"
   ]
  },
  {
   "cell_type": "code",
   "execution_count": 133,
   "id": "ce4dffce",
   "metadata": {},
   "outputs": [],
   "source": [
    "def clustering(text_array, viz_type=\"PCA\", num_clusters=5, title_name=None):\n",
    "\n",
    "    # ____Tokenization and stemming____\n",
    "\n",
    "    # create steam and tokenized voucabularies\n",
    "    totalvocab_stemmed = []\n",
    "    totalvocab_tokenized = []\n",
    "\n",
    "    for i in text_array:\n",
    "        allwords_stemmed = tokenize_and_stem(i)\n",
    "        totalvocab_stemmed.extend(allwords_stemmed)\n",
    "\n",
    "        allwords_tokenized = tokenize_only(i)\n",
    "        totalvocab_tokenized.extend(allwords_tokenized)\n",
    "\n",
    "    vocab_frame = pd.DataFrame(\n",
    "        {\"words\": totalvocab_tokenized}, index=totalvocab_stemmed\n",
    "    )\n",
    "    print(\"there are \" + str(vocab_frame.shape[0]) + \" items in vocab_frame\")\n",
    "    print()\n",
    "\n",
    "    # ____Vectorization____\n",
    "    tfidf_vectorizer = TfidfVectorizer(\n",
    "        max_df=0.8,\n",
    "        max_features=200000,\n",
    "        min_df=0.05,\n",
    "        stop_words=\"english\",\n",
    "        use_idf=True,\n",
    "        tokenizer=tokenize_and_stem,\n",
    "        ngram_range=(1, 3),\n",
    "    )\n",
    "\n",
    "    tfidf_matrix = tfidf_vectorizer.fit_transform(ans)\n",
    "    print(\"Td idf Matrix shape: \", tfidf_matrix.shape)\n",
    "    print()\n",
    "\n",
    "    terms = tfidf_vectorizer.get_feature_names()\n",
    "\n",
    "    # calculate the distance matrix . I will use them in the visualization of the cluster.\n",
    "    dist = 1 - cosine_similarity(tfidf_matrix)\n",
    "\n",
    "    # ____Clustering____ (K-means)\n",
    "    km = KMeans(n_clusters=num_clusters)\n",
    "    km.fit(tfidf_matrix)\n",
    "\n",
    "    clusters = km.labels_.tolist()\n",
    "\n",
    "    items = {\"orig_ans\": ans}\n",
    "\n",
    "    frame = pd.DataFrame(items, index=[clusters], columns=[\"cluster\"])\n",
    "\n",
    "    print(\"Top terms per cluster:\")\n",
    "\n",
    "    # sort cluster centers by proximity to centroid\n",
    "    order_centroids = km.cluster_centers_.argsort()[:, ::-1]\n",
    "\n",
    "    for i in range(num_clusters):\n",
    "        print(\"Cluster %d words:\" % i, end=\"\")\n",
    "\n",
    "        for ind in order_centroids[i, :6]:  # replace 6 with n words per cluster\n",
    "            print(\n",
    "                \" %s\" % vocab_frame.loc[terms[ind].split(\" \")].values.tolist()[0][0],\n",
    "                end=\",\",\n",
    "            )\n",
    "\n",
    "        print()\n",
    "\n",
    "    # ____Visualization____\n",
    "    if viz_type == \"PCA\":\n",
    "        pca = PCA(n_components=2)\n",
    "        pos = pca.fit_transform(dist)\n",
    "\n",
    "    elif viz_type == \"TSNE\":\n",
    "        tsne = TSNE(n_components=2, verbose=1, perplexity=40, n_iter=300)\n",
    "        # dist is the distance matrix\n",
    "        pos = tsne.fit_transform(dist)\n",
    "\n",
    "    xs, ys = pos[:, 0], pos[:, 1]\n",
    "    cluster_names = {}\n",
    "    cluster_n = \"ABCDEFGHIJKLMNOPQRSTUVWXYZ\"\n",
    "\n",
    "    for i in range(num_clusters):\n",
    "        cluster_names[i] = cluster_n[i]\n",
    "\n",
    "    df = pd.DataFrame(dict(x=xs, y=ys, label=clusters))\n",
    "\n",
    "    groups = df.groupby(\"label\")\n",
    "\n",
    "    fig, ax = plt.subplots(figsize=(16, 8))\n",
    "\n",
    "    for name, group in groups:\n",
    "        ax.plot(\n",
    "            group.x,\n",
    "            group.y,\n",
    "            marker=\"o\",\n",
    "            linestyle=\"\",\n",
    "            ms=12,\n",
    "            label=cluster_names[name],\n",
    "            mec=\"none\",\n",
    "        )\n",
    "\n",
    "    ax.legend(numpoints=1)\n",
    "    plt.title(f\"{title_name}\")\n",
    "    plt.show()"
   ]
  },
  {
   "cell_type": "code",
   "execution_count": 134,
   "id": "bf86a349",
   "metadata": {},
   "outputs": [],
   "source": [
    "def tokenize_and_stem(text):\n",
    "\n",
    "    stemmer = SnowballStemmer(\"english\")\n",
    "\n",
    "    # tokenize\n",
    "    tokens = [\n",
    "        word for sent in nltk.sent_tokenize(text) for word in nltk.word_tokenize(sent)\n",
    "    ]\n",
    "    filtered_tokens = []\n",
    "\n",
    "    # keep only letters\n",
    "    for token in tokens:\n",
    "        if re.search(\"[a-zA-Z]\", token):\n",
    "            filtered_tokens.append(token)\n",
    "    # stemming\n",
    "    stems = [stemmer.stem(t) for t in filtered_tokens]\n",
    "    return stems\n",
    "\n",
    "\n",
    "def tokenize_only(text):\n",
    "\n",
    "    tokens = [\n",
    "        word.lower()\n",
    "        for sent in nltk.sent_tokenize(text)\n",
    "        for word in nltk.word_tokenize(sent)\n",
    "    ]\n",
    "    filtered_tokens = []\n",
    "\n",
    "    for token in tokens:\n",
    "        if re.search(\"[a-zA-Z]\", token):\n",
    "            filtered_tokens.append(token)\n",
    "    return filtered_tokens"
   ]
  },
  {
   "cell_type": "markdown",
   "id": "00b8e1c8",
   "metadata": {},
   "source": [
    "#### Кластеризация"
   ]
  },
  {
   "cell_type": "code",
   "execution_count": 135,
   "id": "00a3a7c3",
   "metadata": {},
   "outputs": [
    {
     "name": "stdout",
     "output_type": "stream",
     "text": [
      "there are 19128 items in vocab_frame\n",
      "\n",
      "Td idf Matrix shape:  (251, 113)\n",
      "\n",
      "Top terms per cluster:\n",
      "Cluster 0 words: work, just, function, way, window, yes,\n",
      "Cluster 1 words: use, n't, 's, need, number, like,\n",
      "Cluster 2 words: python, script, environments, use, run, modules,\n",
      "Cluster 3 words: file, n't, data, write, use, read,\n",
      "Cluster 4 words: install, packages, version, python, project, libraries,\n"
     ]
    },
    {
     "data": {
      "image/png": "[encoded data removed]",
      "text/plain": [
       "<Figure size 1600x800 with 1 Axes>"
      ]
     },
     "metadata": {},
     "output_type": "display_data"
    }
   ],
   "source": [
    "ans = original_ans\n",
    "clustering(ans, title_name=\"Original answers\")"
   ]
  },
  {
   "cell_type": "code",
   "execution_count": 136,
   "id": "ece6b7c0",
   "metadata": {},
   "outputs": [
    {
     "name": "stdout",
     "output_type": "stream",
     "text": [
      "there are 16341 items in vocab_frame\n",
      "\n",
      "Td idf Matrix shape:  (251, 78)\n",
      "\n",
      "Top terms per cluster:\n",
      "Cluster 0 words: yes, possible, data, use, need, answer,\n",
      "Cluster 1 words: use, think, data, functions, n't, object,\n",
      "Cluster 2 words: print, x, return, file, def, use,\n",
      "Cluster 3 words: installed, python, version, pip, packages, command,\n",
      "Cluster 4 words: import, print, sys, use, module, think,\n"
     ]
    },
    {
     "data": {
      "image/png": "[encoded data removed]",
      "text/plain": [
       "<Figure size 1600x800 with 1 Axes>"
      ]
     },
     "metadata": {},
     "output_type": "display_data"
    }
   ],
   "source": [
    "ans = base_gen_ans\n",
    "clustering(ans, title_name=\"Base model answers\")"
   ]
  },
  {
   "cell_type": "code",
   "execution_count": 138,
   "id": "87d3ff4c",
   "metadata": {},
   "outputs": [
    {
     "name": "stdout",
     "output_type": "stream",
     "text": [
      "there are 8481 items in vocab_frame\n",
      "\n",
      "Td idf Matrix shape:  (251, 38)\n",
      "\n",
      "Top terms per cluster:\n",
      "Cluster 0 words: n't, ca, ca, only, running, use,\n",
      "Cluster 1 words: use, think, number, way, list, libraries,\n",
      "Cluster 2 words: 's, files, use, problem, string, code,\n",
      "Cluster 3 words: following, code, use, use, commands, number,\n",
      "Cluster 4 words: installed, package, pip, libraries, use, python,\n"
     ]
    },
    {
     "data": {
      "image/png": "[encoded data removed]",
      "text/plain": [
       "<Figure size 1600x800 with 1 Axes>"
      ]
     },
     "metadata": {},
     "output_type": "display_data"
    }
   ],
   "source": [
    "ans = tuned_gen_ans\n",
    "clustering(ans, title_name=\"Tuned model answers\")"
   ]
  },
  {
   "cell_type": "code",
   "execution_count": null,
   "id": "68425bd1",
   "metadata": {},
   "outputs": [],
   "source": []
  }
 ],
 "metadata": {
  "kernelspec": {
   "display_name": "Python 3.9.12 ('base')",
   "language": "python",
   "name": "python3"
  },
  "language_info": {
   "codemirror_mode": {
    "name": "ipython",
    "version": 3
   },
   "file_extension": ".py",
   "mimetype": "text/x-python",
   "name": "python",
   "nbconvert_exporter": "python",
   "pygments_lexer": "ipython3",
   "version": "3.9.12"
  },
  "toc": {
   "base_numbering": 1,
   "nav_menu": {},
   "number_sections": true,
   "sideBar": true,
   "skip_h1_title": false,
   "title_cell": "Table of Contents",
   "title_sidebar": "Contents",
   "toc_cell": false,
   "toc_position": {
    "height": "calc(100% - 180px)",
    "left": "10px",
    "top": "150px",
    "width": "289px"
   },
   "toc_section_display": true,
   "toc_window_display": true
  },
  "vscode": {
   "interpreter": {
    "hash": "ad2bdc8ecc057115af97d19610ffacc2b4e99fae6737bb82f5d7fb13d2f2c186"
   }
  }
 },
 "nbformat": 4,
 "nbformat_minor": 5
}
