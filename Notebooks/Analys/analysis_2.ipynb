{
 "cells": [
  {
   "cell_type": "markdown",
   "id": "4708c447",
   "metadata": {},
   "source": [
    "# Общая информация\n",
    "__Цель:__ сравнить качество генерируемых ответов на категории __API Usage__\n",
    "\n",
    "__Задачи:__\n",
    "\n",
    "1) Сравнить метрики для base и tuned модели на promt с title\n",
    "\n",
    "2) Сравнить метрики tuned моделей с разлиными promt\n",
    "\n",
    "3) Посмотреть распределение длин генерируемых ответов\n",
    "\n",
    "4) Сделать выводы"
   ]
  },
  {
   "cell_type": "code",
   "execution_count": 2,
   "id": "535aa5d1",
   "metadata": {},
   "outputs": [],
   "source": [
    "import warnings\n",
    "\n",
    "import matplotlib as mpl\n",
    "import matplotlib.pyplot as plt\n",
    "import nltk\n",
    "import numpy as np\n",
    "import pandas as pd\n",
    "import plotly.express as px\n",
    "from plotly.subplots import make_subplots\n",
    "import plotly.graph_objects as go\n",
    "import seaborn as sns\n",
    "\n",
    "\n",
    "warnings.filterwarnings(\"ignore\")\n",
    "\n",
    "\n",
    "warnings.filterwarnings(\"ignore\")\n",
    "pd.set_option(\"display.max_colwidth\", None)"
   ]
  },
  {
   "cell_type": "code",
   "execution_count": 3,
   "id": "c4d6443b",
   "metadata": {},
   "outputs": [],
   "source": [
    "def add_answers_length(df):\n",
    "    df['len_of_generated_answer'] = df.generated_answer.apply(lambda x: len(x.split(\" \")))\n",
    "    \n",
    "    df['len_of_original_answer'] = df.original_answer.apply(lambda x: len(x.split(\" \")))\n",
    "    \n",
    "    return df"
   ]
  },
  {
   "cell_type": "code",
   "execution_count": 4,
   "id": "31907d3c",
   "metadata": {},
   "outputs": [],
   "source": [
    "def get_metrics(df, df_diff, df1_name, df2_name, print_1=True, print_2=True):\n",
    "    bert_f1 = df.bert_f1.mean()\n",
    "    rouge_score = df.rouge_score.mean()\n",
    "    bleu_score = df.bleu_score.mean()\n",
    "\n",
    "    t_bert_f1 = df_diff.bert_f1.mean()\n",
    "    t_rouge_score = df_diff.rouge_score.mean()\n",
    "    t_bleu_score = df_diff.bleu_score.mean()\n",
    "\n",
    "    if print_1:\n",
    "        print(\n",
    "            f\"BERT score {df1_name}: {round(bert_f1, 5)}\",\n",
    "            f\"ROUGE score {df1_name}: {round(rouge_score, 5)}\",\n",
    "            f\"Unigram BLEU score {df1_name}: {round(bleu_score, 5)}\",\n",
    "            sep=\"\\n\",\n",
    "        )\n",
    "\n",
    "        print()\n",
    "\n",
    "    if print_2:\n",
    "\n",
    "        print(\n",
    "            f\"BERT score {df2_name}: {round(t_bert_f1, 5)}\",\n",
    "            f\"ROUGE score {df2_name}: {round(t_rouge_score, 5)}\",\n",
    "            f\"Unigram BLEU score {df2_name}: {round(t_bleu_score, 5)}\",\n",
    "            sep=\"\\n\",\n",
    "        )\n",
    "\n",
    "        print()\n",
    "\n",
    "    print(\n",
    "        f\"BERT score diff: {t_bert_f1 - bert_f1} ({round((t_bert_f1 - bert_f1)/bert_f1*100, 2)} %)\",\n",
    "        f\"ROUGE score diff: {t_rouge_score - rouge_score} ({round((t_rouge_score - rouge_score)/rouge_score*100, 2)} %)\",\n",
    "        f\"Unigram BLEU score diff: {t_bleu_score - bleu_score} ({round((t_bleu_score - bleu_score)/bleu_score*100, 2)} %)\",\n",
    "        sep=\"\\n\",\n",
    "    )\n",
    "\n",
    "    return {\n",
    "        df1_name: {\n",
    "            \"bert\": bert_f1,\n",
    "            \"rouge\": rouge_score,\n",
    "            \"bleu\": bleu_score,\n",
    "        },\n",
    "        df2_name: {\n",
    "            \"bert\": t_bert_f1,\n",
    "            \"rouge\": t_rouge_score,\n",
    "            \"bleu\": t_bleu_score,\n",
    "        },\n",
    "    }"
   ]
  },
  {
   "cell_type": "markdown",
   "id": "ca13f1a1",
   "metadata": {},
   "source": [
    "# Фиксация сидов"
   ]
  },
  {
   "cell_type": "code",
   "execution_count": 5,
   "id": "e3d521d5",
   "metadata": {},
   "outputs": [],
   "source": [
    "#torch.manual_seed(42)\n",
    "np.random.seed(42)"
   ]
  },
  {
   "attachments": {},
   "cell_type": "markdown",
   "id": "d776f4ab",
   "metadata": {},
   "source": [
    "# Загрузка таблиц"
   ]
  },
  {
   "cell_type": "code",
   "execution_count": 19,
   "id": "f39aa23a",
   "metadata": {},
   "outputs": [],
   "source": [
    "tuned_android_api_usage_200_title_only = pd.read_csv(\n",
    "    r\"D:\\vkr\\Notebooks\\Analys\\artifacts\\tuning_question_title_combination\\title_only.csv\"\n",
    ")\n",
    "\n",
    "tuned_android_api_usage_200_question_only = pd.read_csv(\n",
    "    r\"D:\\vkr\\Notebooks\\Analys\\artifacts\\tuning_question_title_combination\\question_only.csv\"\n",
    ")\n",
    "\n",
    "tuned_android_api_usage_200_title_question = pd.read_csv(\n",
    "    r\"D:\\vkr\\Notebooks\\Analys\\artifacts\\tuning_question_title_combination\\title_question.csv\"\n",
    ")"
   ]
  },
  {
   "cell_type": "markdown",
   "id": "b63570d1",
   "metadata": {},
   "source": [
    "# Анализ результатов"
   ]
  },
  {
   "attachments": {},
   "cell_type": "markdown",
   "id": "2b0a3213",
   "metadata": {},
   "source": [
    "## Изучение семплов"
   ]
  },
  {
   "cell_type": "code",
   "execution_count": 20,
   "id": "74322c30",
   "metadata": {},
   "outputs": [],
   "source": [
    "import random"
   ]
  },
  {
   "cell_type": "code",
   "execution_count": 21,
   "id": "3be73bf8",
   "metadata": {},
   "outputs": [],
   "source": [
    "random_idx = random.randrange(0, len(tuned_android_api_usage_200_title_question))"
   ]
  },
  {
   "cell_type": "code",
   "execution_count": 22,
   "id": "ee344be4",
   "metadata": {},
   "outputs": [
    {
     "data": {
      "text/html": [
       "<div>\n",
       "<style scoped>\n",
       "    .dataframe tbody tr th:only-of-type {\n",
       "        vertical-align: middle;\n",
       "    }\n",
       "\n",
       "    .dataframe tbody tr th {\n",
       "        vertical-align: top;\n",
       "    }\n",
       "\n",
       "    .dataframe thead th {\n",
       "        text-align: right;\n",
       "    }\n",
       "</style>\n",
       "<table border=\"1\" class=\"dataframe\">\n",
       "  <thead>\n",
       "    <tr style=\"text-align: right;\">\n",
       "      <th></th>\n",
       "      <th>3</th>\n",
       "    </tr>\n",
       "  </thead>\n",
       "  <tbody>\n",
       "    <tr>\n",
       "      <th>title</th>\n",
       "      <td>Exception raised during rendering: java.lang.System.arraycopy[CI[CIIV Exception details are logged in Window &gt; Show View &gt; Error Log</td>\n",
       "    </tr>\n",
       "    <tr>\n",
       "      <th>question</th>\n",
       "      <td>I can't find any other android API in the project. it is showing only API 20 Android 4.4W. how do i overcome from it?</td>\n",
       "    </tr>\n",
       "    <tr>\n",
       "      <th>generated_answer</th>\n",
       "      <td>You can use the same API level as your project is targeting. If you are targeting API 21, you can just use API 19.</td>\n",
       "    </tr>\n",
       "    <tr>\n",
       "      <th>original_answer</th>\n",
       "      <td>The issue is because you are using the API level 20 for wearable devices. You need to download other sdk through the Android SDK Manager.In Eclipse, open windows-&gt;android sdk manager-&gt;select Android 4.4.2 and check Android sdk and ARM system image and click install packagesNow you have the API level 19 source code so eclipse will now be able to render the viewsNow go to the graphical layout tab of the layout and change the android version from 20 to 19.</td>\n",
       "    </tr>\n",
       "    <tr>\n",
       "      <th>bert_precision</th>\n",
       "      <td>0.876107</td>\n",
       "    </tr>\n",
       "    <tr>\n",
       "      <th>bert_recall</th>\n",
       "      <td>0.825921</td>\n",
       "    </tr>\n",
       "    <tr>\n",
       "      <th>bert_f1</th>\n",
       "      <td>0.850274</td>\n",
       "    </tr>\n",
       "    <tr>\n",
       "      <th>rouge_score</th>\n",
       "      <td>0.146789</td>\n",
       "    </tr>\n",
       "    <tr>\n",
       "      <th>bleu_score</th>\n",
       "      <td>0.245614</td>\n",
       "    </tr>\n",
       "  </tbody>\n",
       "</table>\n",
       "</div>"
      ],
      "text/plain": [
       "                                                                                                                                                                                                                                                                                                                                                                                                                                                                                          3\n",
       "title                                                                                                                                                                                                                                                                                                                                                  Exception raised during rendering: java.lang.System.arraycopy[CI[CIIV Exception details are logged in Window > Show View > Error Log\n",
       "question                                                                                                                                                                                                                                                                                                                                                              I can't find any other android API in the project. it is showing only API 20 Android 4.4W. how do i overcome from it?\n",
       "generated_answer                                                                                                                                                                                                                                                                                                                                                         You can use the same API level as your project is targeting. If you are targeting API 21, you can just use API 19.\n",
       "original_answer   The issue is because you are using the API level 20 for wearable devices. You need to download other sdk through the Android SDK Manager.In Eclipse, open windows->android sdk manager->select Android 4.4.2 and check Android sdk and ARM system image and click install packagesNow you have the API level 19 source code so eclipse will now be able to render the viewsNow go to the graphical layout tab of the layout and change the android version from 20 to 19.\n",
       "bert_precision                                                                                                                                                                                                                                                                                                                                                                                                                                                                     0.876107\n",
       "bert_recall                                                                                                                                                                                                                                                                                                                                                                                                                                                                        0.825921\n",
       "bert_f1                                                                                                                                                                                                                                                                                                                                                                                                                                                                            0.850274\n",
       "rouge_score                                                                                                                                                                                                                                                                                                                                                                                                                                                                        0.146789\n",
       "bleu_score                                                                                                                                                                                                                                                                                                                                                                                                                                                                         0.245614"
      ]
     },
     "execution_count": 22,
     "metadata": {},
     "output_type": "execute_result"
    }
   ],
   "source": [
    "pd.DataFrame(tuned_android_api_usage_200_question_only.iloc[random_idx])"
   ]
  },
  {
   "cell_type": "code",
   "execution_count": 23,
   "id": "d037f166",
   "metadata": {},
   "outputs": [
    {
     "data": {
      "text/html": [
       "<div>\n",
       "<style scoped>\n",
       "    .dataframe tbody tr th:only-of-type {\n",
       "        vertical-align: middle;\n",
       "    }\n",
       "\n",
       "    .dataframe tbody tr th {\n",
       "        vertical-align: top;\n",
       "    }\n",
       "\n",
       "    .dataframe thead th {\n",
       "        text-align: right;\n",
       "    }\n",
       "</style>\n",
       "<table border=\"1\" class=\"dataframe\">\n",
       "  <thead>\n",
       "    <tr style=\"text-align: right;\">\n",
       "      <th></th>\n",
       "      <th>3</th>\n",
       "    </tr>\n",
       "  </thead>\n",
       "  <tbody>\n",
       "    <tr>\n",
       "      <th>title</th>\n",
       "      <td>Exception raised during rendering: java.lang.System.arraycopy[CI[CIIV Exception details are logged in Window &gt; Show View &gt; Error Log</td>\n",
       "    </tr>\n",
       "    <tr>\n",
       "      <th>question</th>\n",
       "      <td>I can't find any other android API in the project. it is showing only API 20 Android 4.4W. how do i overcome from it?</td>\n",
       "    </tr>\n",
       "    <tr>\n",
       "      <th>generated_answer</th>\n",
       "      <td>I'm not sure what you mean by \"I don't know how to fix it\". I'm assuming that you are trying to copy a list of objects to a new list. If that's the case, you can't do that. You can only copy an array.</td>\n",
       "    </tr>\n",
       "    <tr>\n",
       "      <th>original_answer</th>\n",
       "      <td>The issue is because you are using the API level 20 for wearable devices. You need to download other sdk through the Android SDK Manager.In Eclipse, open windows-&gt;android sdk manager-&gt;select Android 4.4.2 and check Android sdk and ARM system image and click install packagesNow you have the API level 19 source code so eclipse will now be able to render the viewsNow go to the graphical layout tab of the layout and change the android version from 20 to 19.</td>\n",
       "    </tr>\n",
       "    <tr>\n",
       "      <th>bert_precision</th>\n",
       "      <td>0.843471</td>\n",
       "    </tr>\n",
       "    <tr>\n",
       "      <th>bert_recall</th>\n",
       "      <td>0.811488</td>\n",
       "    </tr>\n",
       "    <tr>\n",
       "      <th>bert_f1</th>\n",
       "      <td>0.82717</td>\n",
       "    </tr>\n",
       "    <tr>\n",
       "      <th>rouge_score</th>\n",
       "      <td>0.089552</td>\n",
       "    </tr>\n",
       "    <tr>\n",
       "      <th>bleu_score</th>\n",
       "      <td>0.13</td>\n",
       "    </tr>\n",
       "  </tbody>\n",
       "</table>\n",
       "</div>"
      ],
      "text/plain": [
       "                                                                                                                                                                                                                                                                                                                                                                                                                                                                                          3\n",
       "title                                                                                                                                                                                                                                                                                                                                                  Exception raised during rendering: java.lang.System.arraycopy[CI[CIIV Exception details are logged in Window > Show View > Error Log\n",
       "question                                                                                                                                                                                                                                                                                                                                                              I can't find any other android API in the project. it is showing only API 20 Android 4.4W. how do i overcome from it?\n",
       "generated_answer                                                                                                                                                                                                                                                                   I'm not sure what you mean by \"I don't know how to fix it\". I'm assuming that you are trying to copy a list of objects to a new list. If that's the case, you can't do that. You can only copy an array.\n",
       "original_answer   The issue is because you are using the API level 20 for wearable devices. You need to download other sdk through the Android SDK Manager.In Eclipse, open windows->android sdk manager->select Android 4.4.2 and check Android sdk and ARM system image and click install packagesNow you have the API level 19 source code so eclipse will now be able to render the viewsNow go to the graphical layout tab of the layout and change the android version from 20 to 19.\n",
       "bert_precision                                                                                                                                                                                                                                                                                                                                                                                                                                                                     0.843471\n",
       "bert_recall                                                                                                                                                                                                                                                                                                                                                                                                                                                                        0.811488\n",
       "bert_f1                                                                                                                                                                                                                                                                                                                                                                                                                                                                             0.82717\n",
       "rouge_score                                                                                                                                                                                                                                                                                                                                                                                                                                                                        0.089552\n",
       "bleu_score                                                                                                                                                                                                                                                                                                                                                                                                                                                                             0.13"
      ]
     },
     "execution_count": 23,
     "metadata": {},
     "output_type": "execute_result"
    }
   ],
   "source": [
    "pd.DataFrame(tuned_android_api_usage_200_title_only.iloc[random_idx])"
   ]
  },
  {
   "cell_type": "code",
   "execution_count": 24,
   "id": "31e54b3e",
   "metadata": {},
   "outputs": [
    {
     "data": {
      "text/html": [
       "<div>\n",
       "<style scoped>\n",
       "    .dataframe tbody tr th:only-of-type {\n",
       "        vertical-align: middle;\n",
       "    }\n",
       "\n",
       "    .dataframe tbody tr th {\n",
       "        vertical-align: top;\n",
       "    }\n",
       "\n",
       "    .dataframe thead th {\n",
       "        text-align: right;\n",
       "    }\n",
       "</style>\n",
       "<table border=\"1\" class=\"dataframe\">\n",
       "  <thead>\n",
       "    <tr style=\"text-align: right;\">\n",
       "      <th></th>\n",
       "      <th>3</th>\n",
       "    </tr>\n",
       "  </thead>\n",
       "  <tbody>\n",
       "    <tr>\n",
       "      <th>title</th>\n",
       "      <td>Exception raised during rendering: java.lang.System.arraycopy[CI[CIIV Exception details are logged in Window &gt; Show View &gt; Error Log</td>\n",
       "    </tr>\n",
       "    <tr>\n",
       "      <th>question</th>\n",
       "      <td>I can't find any other android API in the project. it is showing only API 20 Android 4.4W. how do i overcome from it?</td>\n",
       "    </tr>\n",
       "    <tr>\n",
       "      <th>generated_answer</th>\n",
       "      <td>You can use the android.support.v7.app.Application class to get the Application class.</td>\n",
       "    </tr>\n",
       "    <tr>\n",
       "      <th>original_answer</th>\n",
       "      <td>The issue is because you are using the API level 20 for wearable devices. You need to download other sdk through the Android SDK Manager.In Eclipse, open windows-&gt;android sdk manager-&gt;select Android 4.4.2 and check Android sdk and ARM system image and click install packagesNow you have the API level 19 source code so eclipse will now be able to render the viewsNow go to the graphical layout tab of the layout and change the android version from 20 to 19.</td>\n",
       "    </tr>\n",
       "    <tr>\n",
       "      <th>bert_precision</th>\n",
       "      <td>0.872314</td>\n",
       "    </tr>\n",
       "    <tr>\n",
       "      <th>bert_recall</th>\n",
       "      <td>0.829608</td>\n",
       "    </tr>\n",
       "    <tr>\n",
       "      <th>bert_f1</th>\n",
       "      <td>0.850425</td>\n",
       "    </tr>\n",
       "    <tr>\n",
       "      <th>rouge_score</th>\n",
       "      <td>0.1</td>\n",
       "    </tr>\n",
       "    <tr>\n",
       "      <th>bleu_score</th>\n",
       "      <td>0.232558</td>\n",
       "    </tr>\n",
       "  </tbody>\n",
       "</table>\n",
       "</div>"
      ],
      "text/plain": [
       "                                                                                                                                                                                                                                                                                                                                                                                                                                                                                          3\n",
       "title                                                                                                                                                                                                                                                                                                                                                  Exception raised during rendering: java.lang.System.arraycopy[CI[CIIV Exception details are logged in Window > Show View > Error Log\n",
       "question                                                                                                                                                                                                                                                                                                                                                              I can't find any other android API in the project. it is showing only API 20 Android 4.4W. how do i overcome from it?\n",
       "generated_answer                                                                                                                                                                                                                                                                                                                                                                                     You can use the android.support.v7.app.Application class to get the Application class.\n",
       "original_answer   The issue is because you are using the API level 20 for wearable devices. You need to download other sdk through the Android SDK Manager.In Eclipse, open windows->android sdk manager->select Android 4.4.2 and check Android sdk and ARM system image and click install packagesNow you have the API level 19 source code so eclipse will now be able to render the viewsNow go to the graphical layout tab of the layout and change the android version from 20 to 19.\n",
       "bert_precision                                                                                                                                                                                                                                                                                                                                                                                                                                                                     0.872314\n",
       "bert_recall                                                                                                                                                                                                                                                                                                                                                                                                                                                                        0.829608\n",
       "bert_f1                                                                                                                                                                                                                                                                                                                                                                                                                                                                            0.850425\n",
       "rouge_score                                                                                                                                                                                                                                                                                                                                                                                                                                                                             0.1\n",
       "bleu_score                                                                                                                                                                                                                                                                                                                                                                                                                                                                         0.232558"
      ]
     },
     "execution_count": 24,
     "metadata": {},
     "output_type": "execute_result"
    }
   ],
   "source": [
    "pd.DataFrame(tuned_android_api_usage_200_title_question.iloc[random_idx])"
   ]
  },
  {
   "attachments": {},
   "cell_type": "markdown",
   "id": "3c68a61f",
   "metadata": {},
   "source": [
    "## Анализ длины текстовых данных"
   ]
  },
  {
   "cell_type": "code",
   "execution_count": 25,
   "id": "d3148327",
   "metadata": {},
   "outputs": [],
   "source": [
    "tuned_android_api_usage_200_title_only = add_answers_length(tuned_android_api_usage_200_title_only)\n",
    "tuned_android_api_usage_200_question_only = add_answers_length(tuned_android_api_usage_200_question_only)\n",
    "tuned_android_api_usage_200_title_question = add_answers_length(tuned_android_api_usage_200_title_question)"
   ]
  },
  {
   "cell_type": "code",
   "execution_count": 26,
   "id": "87ecbc6b",
   "metadata": {},
   "outputs": [
    {
     "data": {
      "text/html": [
       "<div>\n",
       "<style scoped>\n",
       "    .dataframe tbody tr th:only-of-type {\n",
       "        vertical-align: middle;\n",
       "    }\n",
       "\n",
       "    .dataframe tbody tr th {\n",
       "        vertical-align: top;\n",
       "    }\n",
       "\n",
       "    .dataframe thead th {\n",
       "        text-align: right;\n",
       "    }\n",
       "</style>\n",
       "<table border=\"1\" class=\"dataframe\">\n",
       "  <thead>\n",
       "    <tr style=\"text-align: right;\">\n",
       "      <th></th>\n",
       "      <th>bert_precision</th>\n",
       "      <th>bert_recall</th>\n",
       "      <th>bert_f1</th>\n",
       "      <th>rouge_score</th>\n",
       "      <th>bleu_score</th>\n",
       "      <th>len_of_generated_answer</th>\n",
       "      <th>len_of_original_answer</th>\n",
       "    </tr>\n",
       "  </thead>\n",
       "  <tbody>\n",
       "    <tr>\n",
       "      <th>count</th>\n",
       "      <td>107.000000</td>\n",
       "      <td>107.000000</td>\n",
       "      <td>107.000000</td>\n",
       "      <td>107.000000</td>\n",
       "      <td>107.000000</td>\n",
       "      <td>107.000000</td>\n",
       "      <td>107.000000</td>\n",
       "    </tr>\n",
       "    <tr>\n",
       "      <th>mean</th>\n",
       "      <td>0.870517</td>\n",
       "      <td>0.834624</td>\n",
       "      <td>0.851956</td>\n",
       "      <td>0.127329</td>\n",
       "      <td>0.210011</td>\n",
       "      <td>26.018692</td>\n",
       "      <td>73.177570</td>\n",
       "    </tr>\n",
       "    <tr>\n",
       "      <th>std</th>\n",
       "      <td>0.022598</td>\n",
       "      <td>0.024905</td>\n",
       "      <td>0.019324</td>\n",
       "      <td>0.057854</td>\n",
       "      <td>0.090996</td>\n",
       "      <td>16.496415</td>\n",
       "      <td>69.651127</td>\n",
       "    </tr>\n",
       "    <tr>\n",
       "      <th>min</th>\n",
       "      <td>0.764833</td>\n",
       "      <td>0.773745</td>\n",
       "      <td>0.805336</td>\n",
       "      <td>0.000000</td>\n",
       "      <td>0.047893</td>\n",
       "      <td>8.000000</td>\n",
       "      <td>3.000000</td>\n",
       "    </tr>\n",
       "    <tr>\n",
       "      <th>25%</th>\n",
       "      <td>0.857204</td>\n",
       "      <td>0.818962</td>\n",
       "      <td>0.839510</td>\n",
       "      <td>0.087923</td>\n",
       "      <td>0.135581</td>\n",
       "      <td>13.500000</td>\n",
       "      <td>30.000000</td>\n",
       "    </tr>\n",
       "    <tr>\n",
       "      <th>50%</th>\n",
       "      <td>0.872487</td>\n",
       "      <td>0.835257</td>\n",
       "      <td>0.851574</td>\n",
       "      <td>0.121212</td>\n",
       "      <td>0.196581</td>\n",
       "      <td>22.000000</td>\n",
       "      <td>54.000000</td>\n",
       "    </tr>\n",
       "    <tr>\n",
       "      <th>75%</th>\n",
       "      <td>0.885365</td>\n",
       "      <td>0.850952</td>\n",
       "      <td>0.866291</td>\n",
       "      <td>0.158493</td>\n",
       "      <td>0.277637</td>\n",
       "      <td>33.000000</td>\n",
       "      <td>90.500000</td>\n",
       "    </tr>\n",
       "    <tr>\n",
       "      <th>max</th>\n",
       "      <td>0.920784</td>\n",
       "      <td>0.891996</td>\n",
       "      <td>0.906162</td>\n",
       "      <td>0.297872</td>\n",
       "      <td>0.485714</td>\n",
       "      <td>96.000000</td>\n",
       "      <td>409.000000</td>\n",
       "    </tr>\n",
       "  </tbody>\n",
       "</table>\n",
       "</div>"
      ],
      "text/plain": [
       "       bert_precision  bert_recall     bert_f1  rouge_score  bleu_score  \\\n",
       "count      107.000000   107.000000  107.000000   107.000000  107.000000   \n",
       "mean         0.870517     0.834624    0.851956     0.127329    0.210011   \n",
       "std          0.022598     0.024905    0.019324     0.057854    0.090996   \n",
       "min          0.764833     0.773745    0.805336     0.000000    0.047893   \n",
       "25%          0.857204     0.818962    0.839510     0.087923    0.135581   \n",
       "50%          0.872487     0.835257    0.851574     0.121212    0.196581   \n",
       "75%          0.885365     0.850952    0.866291     0.158493    0.277637   \n",
       "max          0.920784     0.891996    0.906162     0.297872    0.485714   \n",
       "\n",
       "       len_of_generated_answer  len_of_original_answer  \n",
       "count               107.000000              107.000000  \n",
       "mean                 26.018692               73.177570  \n",
       "std                  16.496415               69.651127  \n",
       "min                   8.000000                3.000000  \n",
       "25%                  13.500000               30.000000  \n",
       "50%                  22.000000               54.000000  \n",
       "75%                  33.000000               90.500000  \n",
       "max                  96.000000              409.000000  "
      ]
     },
     "execution_count": 26,
     "metadata": {},
     "output_type": "execute_result"
    }
   ],
   "source": [
    "tuned_android_api_usage_200_title_only.describe()"
   ]
  },
  {
   "cell_type": "code",
   "execution_count": 27,
   "id": "75b8c781",
   "metadata": {},
   "outputs": [
    {
     "data": {
      "text/html": [
       "<div>\n",
       "<style scoped>\n",
       "    .dataframe tbody tr th:only-of-type {\n",
       "        vertical-align: middle;\n",
       "    }\n",
       "\n",
       "    .dataframe tbody tr th {\n",
       "        vertical-align: top;\n",
       "    }\n",
       "\n",
       "    .dataframe thead th {\n",
       "        text-align: right;\n",
       "    }\n",
       "</style>\n",
       "<table border=\"1\" class=\"dataframe\">\n",
       "  <thead>\n",
       "    <tr style=\"text-align: right;\">\n",
       "      <th></th>\n",
       "      <th>bert_precision</th>\n",
       "      <th>bert_recall</th>\n",
       "      <th>bert_f1</th>\n",
       "      <th>rouge_score</th>\n",
       "      <th>bleu_score</th>\n",
       "      <th>len_of_generated_answer</th>\n",
       "      <th>len_of_original_answer</th>\n",
       "    </tr>\n",
       "  </thead>\n",
       "  <tbody>\n",
       "    <tr>\n",
       "      <th>count</th>\n",
       "      <td>107.000000</td>\n",
       "      <td>107.000000</td>\n",
       "      <td>107.000000</td>\n",
       "      <td>107.000000</td>\n",
       "      <td>107.000000</td>\n",
       "      <td>107.000000</td>\n",
       "      <td>107.000000</td>\n",
       "    </tr>\n",
       "    <tr>\n",
       "      <th>mean</th>\n",
       "      <td>0.871082</td>\n",
       "      <td>0.837849</td>\n",
       "      <td>0.853953</td>\n",
       "      <td>0.140009</td>\n",
       "      <td>0.188240</td>\n",
       "      <td>26.822430</td>\n",
       "      <td>73.177570</td>\n",
       "    </tr>\n",
       "    <tr>\n",
       "      <th>std</th>\n",
       "      <td>0.015655</td>\n",
       "      <td>0.024947</td>\n",
       "      <td>0.016805</td>\n",
       "      <td>0.062396</td>\n",
       "      <td>0.080270</td>\n",
       "      <td>12.715919</td>\n",
       "      <td>69.651127</td>\n",
       "    </tr>\n",
       "    <tr>\n",
       "      <th>min</th>\n",
       "      <td>0.830856</td>\n",
       "      <td>0.786797</td>\n",
       "      <td>0.819945</td>\n",
       "      <td>0.037037</td>\n",
       "      <td>0.073248</td>\n",
       "      <td>7.000000</td>\n",
       "      <td>3.000000</td>\n",
       "    </tr>\n",
       "    <tr>\n",
       "      <th>25%</th>\n",
       "      <td>0.859667</td>\n",
       "      <td>0.821225</td>\n",
       "      <td>0.840840</td>\n",
       "      <td>0.100505</td>\n",
       "      <td>0.134773</td>\n",
       "      <td>17.000000</td>\n",
       "      <td>30.000000</td>\n",
       "    </tr>\n",
       "    <tr>\n",
       "      <th>50%</th>\n",
       "      <td>0.868962</td>\n",
       "      <td>0.833377</td>\n",
       "      <td>0.852783</td>\n",
       "      <td>0.136170</td>\n",
       "      <td>0.168317</td>\n",
       "      <td>24.000000</td>\n",
       "      <td>54.000000</td>\n",
       "    </tr>\n",
       "    <tr>\n",
       "      <th>75%</th>\n",
       "      <td>0.882196</td>\n",
       "      <td>0.852825</td>\n",
       "      <td>0.863304</td>\n",
       "      <td>0.179167</td>\n",
       "      <td>0.227553</td>\n",
       "      <td>36.000000</td>\n",
       "      <td>90.500000</td>\n",
       "    </tr>\n",
       "    <tr>\n",
       "      <th>max</th>\n",
       "      <td>0.911748</td>\n",
       "      <td>0.899035</td>\n",
       "      <td>0.901864</td>\n",
       "      <td>0.482759</td>\n",
       "      <td>0.500000</td>\n",
       "      <td>66.000000</td>\n",
       "      <td>409.000000</td>\n",
       "    </tr>\n",
       "  </tbody>\n",
       "</table>\n",
       "</div>"
      ],
      "text/plain": [
       "       bert_precision  bert_recall     bert_f1  rouge_score  bleu_score  \\\n",
       "count      107.000000   107.000000  107.000000   107.000000  107.000000   \n",
       "mean         0.871082     0.837849    0.853953     0.140009    0.188240   \n",
       "std          0.015655     0.024947    0.016805     0.062396    0.080270   \n",
       "min          0.830856     0.786797    0.819945     0.037037    0.073248   \n",
       "25%          0.859667     0.821225    0.840840     0.100505    0.134773   \n",
       "50%          0.868962     0.833377    0.852783     0.136170    0.168317   \n",
       "75%          0.882196     0.852825    0.863304     0.179167    0.227553   \n",
       "max          0.911748     0.899035    0.901864     0.482759    0.500000   \n",
       "\n",
       "       len_of_generated_answer  len_of_original_answer  \n",
       "count               107.000000              107.000000  \n",
       "mean                 26.822430               73.177570  \n",
       "std                  12.715919               69.651127  \n",
       "min                   7.000000                3.000000  \n",
       "25%                  17.000000               30.000000  \n",
       "50%                  24.000000               54.000000  \n",
       "75%                  36.000000               90.500000  \n",
       "max                  66.000000              409.000000  "
      ]
     },
     "execution_count": 27,
     "metadata": {},
     "output_type": "execute_result"
    }
   ],
   "source": [
    "tuned_android_api_usage_200_question_only.describe()"
   ]
  },
  {
   "cell_type": "code",
   "execution_count": 28,
   "id": "b65399ba",
   "metadata": {},
   "outputs": [
    {
     "data": {
      "text/html": [
       "<div>\n",
       "<style scoped>\n",
       "    .dataframe tbody tr th:only-of-type {\n",
       "        vertical-align: middle;\n",
       "    }\n",
       "\n",
       "    .dataframe tbody tr th {\n",
       "        vertical-align: top;\n",
       "    }\n",
       "\n",
       "    .dataframe thead th {\n",
       "        text-align: right;\n",
       "    }\n",
       "</style>\n",
       "<table border=\"1\" class=\"dataframe\">\n",
       "  <thead>\n",
       "    <tr style=\"text-align: right;\">\n",
       "      <th></th>\n",
       "      <th>bert_precision</th>\n",
       "      <th>bert_recall</th>\n",
       "      <th>bert_f1</th>\n",
       "      <th>rouge_score</th>\n",
       "      <th>bleu_score</th>\n",
       "      <th>len_of_generated_answer</th>\n",
       "      <th>len_of_original_answer</th>\n",
       "    </tr>\n",
       "  </thead>\n",
       "  <tbody>\n",
       "    <tr>\n",
       "      <th>count</th>\n",
       "      <td>107.000000</td>\n",
       "      <td>107.000000</td>\n",
       "      <td>107.000000</td>\n",
       "      <td>107.000000</td>\n",
       "      <td>107.000000</td>\n",
       "      <td>107.000000</td>\n",
       "      <td>107.000000</td>\n",
       "    </tr>\n",
       "    <tr>\n",
       "      <th>mean</th>\n",
       "      <td>0.874330</td>\n",
       "      <td>0.837787</td>\n",
       "      <td>0.855484</td>\n",
       "      <td>0.132375</td>\n",
       "      <td>0.205570</td>\n",
       "      <td>24.158879</td>\n",
       "      <td>73.177570</td>\n",
       "    </tr>\n",
       "    <tr>\n",
       "      <th>std</th>\n",
       "      <td>0.017362</td>\n",
       "      <td>0.026546</td>\n",
       "      <td>0.018954</td>\n",
       "      <td>0.056061</td>\n",
       "      <td>0.083786</td>\n",
       "      <td>11.758698</td>\n",
       "      <td>69.651127</td>\n",
       "    </tr>\n",
       "    <tr>\n",
       "      <th>min</th>\n",
       "      <td>0.831793</td>\n",
       "      <td>0.775650</td>\n",
       "      <td>0.808688</td>\n",
       "      <td>0.000000</td>\n",
       "      <td>0.077844</td>\n",
       "      <td>8.000000</td>\n",
       "      <td>3.000000</td>\n",
       "    </tr>\n",
       "    <tr>\n",
       "      <th>25%</th>\n",
       "      <td>0.864095</td>\n",
       "      <td>0.823206</td>\n",
       "      <td>0.844017</td>\n",
       "      <td>0.097800</td>\n",
       "      <td>0.143268</td>\n",
       "      <td>13.500000</td>\n",
       "      <td>30.000000</td>\n",
       "    </tr>\n",
       "    <tr>\n",
       "      <th>50%</th>\n",
       "      <td>0.872178</td>\n",
       "      <td>0.837646</td>\n",
       "      <td>0.855603</td>\n",
       "      <td>0.128440</td>\n",
       "      <td>0.190909</td>\n",
       "      <td>22.000000</td>\n",
       "      <td>54.000000</td>\n",
       "    </tr>\n",
       "    <tr>\n",
       "      <th>75%</th>\n",
       "      <td>0.886802</td>\n",
       "      <td>0.854874</td>\n",
       "      <td>0.867439</td>\n",
       "      <td>0.156869</td>\n",
       "      <td>0.244572</td>\n",
       "      <td>31.000000</td>\n",
       "      <td>90.500000</td>\n",
       "    </tr>\n",
       "    <tr>\n",
       "      <th>max</th>\n",
       "      <td>0.913225</td>\n",
       "      <td>0.909587</td>\n",
       "      <td>0.911402</td>\n",
       "      <td>0.378378</td>\n",
       "      <td>0.523810</td>\n",
       "      <td>59.000000</td>\n",
       "      <td>409.000000</td>\n",
       "    </tr>\n",
       "  </tbody>\n",
       "</table>\n",
       "</div>"
      ],
      "text/plain": [
       "       bert_precision  bert_recall     bert_f1  rouge_score  bleu_score  \\\n",
       "count      107.000000   107.000000  107.000000   107.000000  107.000000   \n",
       "mean         0.874330     0.837787    0.855484     0.132375    0.205570   \n",
       "std          0.017362     0.026546    0.018954     0.056061    0.083786   \n",
       "min          0.831793     0.775650    0.808688     0.000000    0.077844   \n",
       "25%          0.864095     0.823206    0.844017     0.097800    0.143268   \n",
       "50%          0.872178     0.837646    0.855603     0.128440    0.190909   \n",
       "75%          0.886802     0.854874    0.867439     0.156869    0.244572   \n",
       "max          0.913225     0.909587    0.911402     0.378378    0.523810   \n",
       "\n",
       "       len_of_generated_answer  len_of_original_answer  \n",
       "count               107.000000              107.000000  \n",
       "mean                 24.158879               73.177570  \n",
       "std                  11.758698               69.651127  \n",
       "min                   8.000000                3.000000  \n",
       "25%                  13.500000               30.000000  \n",
       "50%                  22.000000               54.000000  \n",
       "75%                  31.000000               90.500000  \n",
       "max                  59.000000              409.000000  "
      ]
     },
     "execution_count": 28,
     "metadata": {},
     "output_type": "execute_result"
    }
   ],
   "source": [
    "tuned_android_api_usage_200_title_question.describe()"
   ]
  },
  {
   "attachments": {},
   "cell_type": "markdown",
   "id": "81e841ab",
   "metadata": {},
   "source": [
    "#### Boxplot длин текстовых данных"
   ]
  },
  {
   "cell_type": "code",
   "execution_count": 29,
   "id": "cd97eacd",
   "metadata": {},
   "outputs": [
    {
     "data": {
      "application/vnd.plotly.v1+json": {
       "config": {
        "plotlyServerURL": "https://plot.ly"
       },
       "data": [
        {
         "boxpoints": "all",
         "jitter": 0.3,
         "name": "Title only",
         "type": "box",
         "xaxis": "x",
         "y": [
          11,
          23,
          25,
          44,
          17,
          37,
          22,
          21,
          22,
          30,
          57,
          15,
          11,
          13,
          73,
          43,
          43,
          55,
          33,
          10,
          27,
          22,
          62,
          17,
          71,
          16,
          34,
          18,
          45,
          9,
          21,
          8,
          25,
          28,
          29,
          17,
          48,
          12,
          22,
          10,
          15,
          24,
          9,
          18,
          41,
          14,
          40,
          58,
          40,
          11,
          31,
          9,
          15,
          13,
          42,
          33,
          16,
          10,
          41,
          14,
          20,
          12,
          12,
          20,
          11,
          25,
          42,
          10,
          23,
          18,
          13,
          26,
          12,
          11,
          43,
          30,
          14,
          11,
          17,
          96,
          24,
          22,
          17,
          29,
          8,
          24,
          11,
          8,
          14,
          18,
          42,
          33,
          34,
          17,
          21,
          13,
          32,
          33,
          29,
          23,
          8,
          30,
          42,
          75,
          24,
          11,
          36
         ],
         "yaxis": "y"
        },
        {
         "boxpoints": "all",
         "jitter": 0.3,
         "name": "Question only",
         "type": "box",
         "xaxis": "x",
         "y": [
          39,
          23,
          37,
          24,
          13,
          64,
          36,
          15,
          31,
          38,
          53,
          29,
          17,
          17,
          18,
          38,
          24,
          27,
          63,
          8,
          32,
          24,
          12,
          23,
          37,
          45,
          32,
          17,
          46,
          17,
          15,
          39,
          25,
          19,
          41,
          18,
          30,
          17,
          28,
          12,
          24,
          66,
          22,
          34,
          13,
          25,
          41,
          48,
          14,
          25,
          13,
          37,
          26,
          9,
          34,
          40,
          19,
          20,
          22,
          36,
          32,
          10,
          29,
          36,
          23,
          10,
          33,
          14,
          24,
          34,
          27,
          40,
          23,
          18,
          9,
          7,
          29,
          36,
          22,
          20,
          15,
          18,
          36,
          52,
          20,
          21,
          8,
          49,
          14,
          33,
          37,
          27,
          16,
          12,
          28,
          24,
          31,
          17,
          11,
          47,
          16,
          37,
          31,
          19,
          8,
          18,
          38
         ],
         "yaxis": "y"
        },
        {
         "boxpoints": "all",
         "jitter": 0.3,
         "name": "Title and question",
         "type": "box",
         "xaxis": "x",
         "y": [
          16,
          17,
          52,
          11,
          11,
          37,
          51,
          11,
          27,
          27,
          42,
          21,
          13,
          12,
          37,
          59,
          27,
          21,
          45,
          8,
          33,
          35,
          12,
          37,
          21,
          39,
          27,
          12,
          29,
          26,
          19,
          19,
          12,
          15,
          28,
          11,
          26,
          28,
          29,
          12,
          13,
          27,
          21,
          39,
          21,
          10,
          9,
          50,
          31,
          11,
          15,
          14,
          36,
          20,
          34,
          46,
          16,
          20,
          23,
          19,
          21,
          8,
          12,
          20,
          32,
          23,
          11,
          13,
          53,
          19,
          35,
          31,
          22,
          22,
          31,
          16,
          35,
          16,
          23,
          13,
          15,
          24,
          12,
          29,
          11,
          34,
          9,
          24,
          9,
          10,
          37,
          50,
          23,
          10,
          39,
          26,
          17,
          31,
          11,
          28,
          32,
          38,
          31,
          28,
          20,
          19,
          22
         ],
         "yaxis": "y"
        }
       ],
       "layout": {
        "height": 600,
        "template": {
         "data": {
          "bar": [
           {
            "error_x": {
             "color": "#2a3f5f"
            },
            "error_y": {
             "color": "#2a3f5f"
            },
            "marker": {
             "line": {
              "color": "#E5ECF6",
              "width": 0.5
             },
             "pattern": {
              "fillmode": "overlay",
              "size": 10,
              "solidity": 0.2
             }
            },
            "type": "bar"
           }
          ],
          "barpolar": [
           {
            "marker": {
             "line": {
              "color": "#E5ECF6",
              "width": 0.5
             },
             "pattern": {
              "fillmode": "overlay",
              "size": 10,
              "solidity": 0.2
             }
            },
            "type": "barpolar"
           }
          ],
          "carpet": [
           {
            "aaxis": {
             "endlinecolor": "#2a3f5f",
             "gridcolor": "white",
             "linecolor": "white",
             "minorgridcolor": "white",
             "startlinecolor": "#2a3f5f"
            },
            "baxis": {
             "endlinecolor": "#2a3f5f",
             "gridcolor": "white",
             "linecolor": "white",
             "minorgridcolor": "white",
             "startlinecolor": "#2a3f5f"
            },
            "type": "carpet"
           }
          ],
          "choropleth": [
           {
            "colorbar": {
             "outlinewidth": 0,
             "ticks": ""
            },
            "type": "choropleth"
           }
          ],
          "contour": [
           {
            "colorbar": {
             "outlinewidth": 0,
             "ticks": ""
            },
            "colorscale": [
             [
              0,
              "#0d0887"
             ],
             [
              0.1111111111111111,
              "#46039f"
             ],
             [
              0.2222222222222222,
              "#7201a8"
             ],
             [
              0.3333333333333333,
              "#9c179e"
             ],
             [
              0.4444444444444444,
              "#bd3786"
             ],
             [
              0.5555555555555556,
              "#d8576b"
             ],
             [
              0.6666666666666666,
              "#ed7953"
             ],
             [
              0.7777777777777778,
              "#fb9f3a"
             ],
             [
              0.8888888888888888,
              "#fdca26"
             ],
             [
              1,
              "#f0f921"
             ]
            ],
            "type": "contour"
           }
          ],
          "contourcarpet": [
           {
            "colorbar": {
             "outlinewidth": 0,
             "ticks": ""
            },
            "type": "contourcarpet"
           }
          ],
          "heatmap": [
           {
            "colorbar": {
             "outlinewidth": 0,
             "ticks": ""
            },
            "colorscale": [
             [
              0,
              "#0d0887"
             ],
             [
              0.1111111111111111,
              "#46039f"
             ],
             [
              0.2222222222222222,
              "#7201a8"
             ],
             [
              0.3333333333333333,
              "#9c179e"
             ],
             [
              0.4444444444444444,
              "#bd3786"
             ],
             [
              0.5555555555555556,
              "#d8576b"
             ],
             [
              0.6666666666666666,
              "#ed7953"
             ],
             [
              0.7777777777777778,
              "#fb9f3a"
             ],
             [
              0.8888888888888888,
              "#fdca26"
             ],
             [
              1,
              "#f0f921"
             ]
            ],
            "type": "heatmap"
           }
          ],
          "heatmapgl": [
           {
            "colorbar": {
             "outlinewidth": 0,
             "ticks": ""
            },
            "colorscale": [
             [
              0,
              "#0d0887"
             ],
             [
              0.1111111111111111,
              "#46039f"
             ],
             [
              0.2222222222222222,
              "#7201a8"
             ],
             [
              0.3333333333333333,
              "#9c179e"
             ],
             [
              0.4444444444444444,
              "#bd3786"
             ],
             [
              0.5555555555555556,
              "#d8576b"
             ],
             [
              0.6666666666666666,
              "#ed7953"
             ],
             [
              0.7777777777777778,
              "#fb9f3a"
             ],
             [
              0.8888888888888888,
              "#fdca26"
             ],
             [
              1,
              "#f0f921"
             ]
            ],
            "type": "heatmapgl"
           }
          ],
          "histogram": [
           {
            "marker": {
             "pattern": {
              "fillmode": "overlay",
              "size": 10,
              "solidity": 0.2
             }
            },
            "type": "histogram"
           }
          ],
          "histogram2d": [
           {
            "colorbar": {
             "outlinewidth": 0,
             "ticks": ""
            },
            "colorscale": [
             [
              0,
              "#0d0887"
             ],
             [
              0.1111111111111111,
              "#46039f"
             ],
             [
              0.2222222222222222,
              "#7201a8"
             ],
             [
              0.3333333333333333,
              "#9c179e"
             ],
             [
              0.4444444444444444,
              "#bd3786"
             ],
             [
              0.5555555555555556,
              "#d8576b"
             ],
             [
              0.6666666666666666,
              "#ed7953"
             ],
             [
              0.7777777777777778,
              "#fb9f3a"
             ],
             [
              0.8888888888888888,
              "#fdca26"
             ],
             [
              1,
              "#f0f921"
             ]
            ],
            "type": "histogram2d"
           }
          ],
          "histogram2dcontour": [
           {
            "colorbar": {
             "outlinewidth": 0,
             "ticks": ""
            },
            "colorscale": [
             [
              0,
              "#0d0887"
             ],
             [
              0.1111111111111111,
              "#46039f"
             ],
             [
              0.2222222222222222,
              "#7201a8"
             ],
             [
              0.3333333333333333,
              "#9c179e"
             ],
             [
              0.4444444444444444,
              "#bd3786"
             ],
             [
              0.5555555555555556,
              "#d8576b"
             ],
             [
              0.6666666666666666,
              "#ed7953"
             ],
             [
              0.7777777777777778,
              "#fb9f3a"
             ],
             [
              0.8888888888888888,
              "#fdca26"
             ],
             [
              1,
              "#f0f921"
             ]
            ],
            "type": "histogram2dcontour"
           }
          ],
          "mesh3d": [
           {
            "colorbar": {
             "outlinewidth": 0,
             "ticks": ""
            },
            "type": "mesh3d"
           }
          ],
          "parcoords": [
           {
            "line": {
             "colorbar": {
              "outlinewidth": 0,
              "ticks": ""
             }
            },
            "type": "parcoords"
           }
          ],
          "pie": [
           {
            "automargin": true,
            "type": "pie"
           }
          ],
          "scatter": [
           {
            "marker": {
             "colorbar": {
              "outlinewidth": 0,
              "ticks": ""
             }
            },
            "type": "scatter"
           }
          ],
          "scatter3d": [
           {
            "line": {
             "colorbar": {
              "outlinewidth": 0,
              "ticks": ""
             }
            },
            "marker": {
             "colorbar": {
              "outlinewidth": 0,
              "ticks": ""
             }
            },
            "type": "scatter3d"
           }
          ],
          "scattercarpet": [
           {
            "marker": {
             "colorbar": {
              "outlinewidth": 0,
              "ticks": ""
             }
            },
            "type": "scattercarpet"
           }
          ],
          "scattergeo": [
           {
            "marker": {
             "colorbar": {
              "outlinewidth": 0,
              "ticks": ""
             }
            },
            "type": "scattergeo"
           }
          ],
          "scattergl": [
           {
            "marker": {
             "colorbar": {
              "outlinewidth": 0,
              "ticks": ""
             }
            },
            "type": "scattergl"
           }
          ],
          "scattermapbox": [
           {
            "marker": {
             "colorbar": {
              "outlinewidth": 0,
              "ticks": ""
             }
            },
            "type": "scattermapbox"
           }
          ],
          "scatterpolar": [
           {
            "marker": {
             "colorbar": {
              "outlinewidth": 0,
              "ticks": ""
             }
            },
            "type": "scatterpolar"
           }
          ],
          "scatterpolargl": [
           {
            "marker": {
             "colorbar": {
              "outlinewidth": 0,
              "ticks": ""
             }
            },
            "type": "scatterpolargl"
           }
          ],
          "scatterternary": [
           {
            "marker": {
             "colorbar": {
              "outlinewidth": 0,
              "ticks": ""
             }
            },
            "type": "scatterternary"
           }
          ],
          "surface": [
           {
            "colorbar": {
             "outlinewidth": 0,
             "ticks": ""
            },
            "colorscale": [
             [
              0,
              "#0d0887"
             ],
             [
              0.1111111111111111,
              "#46039f"
             ],
             [
              0.2222222222222222,
              "#7201a8"
             ],
             [
              0.3333333333333333,
              "#9c179e"
             ],
             [
              0.4444444444444444,
              "#bd3786"
             ],
             [
              0.5555555555555556,
              "#d8576b"
             ],
             [
              0.6666666666666666,
              "#ed7953"
             ],
             [
              0.7777777777777778,
              "#fb9f3a"
             ],
             [
              0.8888888888888888,
              "#fdca26"
             ],
             [
              1,
              "#f0f921"
             ]
            ],
            "type": "surface"
           }
          ],
          "table": [
           {
            "cells": {
             "fill": {
              "color": "#EBF0F8"
             },
             "line": {
              "color": "white"
             }
            },
            "header": {
             "fill": {
              "color": "#C8D4E3"
             },
             "line": {
              "color": "white"
             }
            },
            "type": "table"
           }
          ]
         },
         "layout": {
          "annotationdefaults": {
           "arrowcolor": "#2a3f5f",
           "arrowhead": 0,
           "arrowwidth": 1
          },
          "autotypenumbers": "strict",
          "coloraxis": {
           "colorbar": {
            "outlinewidth": 0,
            "ticks": ""
           }
          },
          "colorscale": {
           "diverging": [
            [
             0,
             "#8e0152"
            ],
            [
             0.1,
             "#c51b7d"
            ],
            [
             0.2,
             "#de77ae"
            ],
            [
             0.3,
             "#f1b6da"
            ],
            [
             0.4,
             "#fde0ef"
            ],
            [
             0.5,
             "#f7f7f7"
            ],
            [
             0.6,
             "#e6f5d0"
            ],
            [
             0.7,
             "#b8e186"
            ],
            [
             0.8,
             "#7fbc41"
            ],
            [
             0.9,
             "#4d9221"
            ],
            [
             1,
             "#276419"
            ]
           ],
           "sequential": [
            [
             0,
             "#0d0887"
            ],
            [
             0.1111111111111111,
             "#46039f"
            ],
            [
             0.2222222222222222,
             "#7201a8"
            ],
            [
             0.3333333333333333,
             "#9c179e"
            ],
            [
             0.4444444444444444,
             "#bd3786"
            ],
            [
             0.5555555555555556,
             "#d8576b"
            ],
            [
             0.6666666666666666,
             "#ed7953"
            ],
            [
             0.7777777777777778,
             "#fb9f3a"
            ],
            [
             0.8888888888888888,
             "#fdca26"
            ],
            [
             1,
             "#f0f921"
            ]
           ],
           "sequentialminus": [
            [
             0,
             "#0d0887"
            ],
            [
             0.1111111111111111,
             "#46039f"
            ],
            [
             0.2222222222222222,
             "#7201a8"
            ],
            [
             0.3333333333333333,
             "#9c179e"
            ],
            [
             0.4444444444444444,
             "#bd3786"
            ],
            [
             0.5555555555555556,
             "#d8576b"
            ],
            [
             0.6666666666666666,
             "#ed7953"
            ],
            [
             0.7777777777777778,
             "#fb9f3a"
            ],
            [
             0.8888888888888888,
             "#fdca26"
            ],
            [
             1,
             "#f0f921"
            ]
           ]
          },
          "colorway": [
           "#636efa",
           "#EF553B",
           "#00cc96",
           "#ab63fa",
           "#FFA15A",
           "#19d3f3",
           "#FF6692",
           "#B6E880",
           "#FF97FF",
           "#FECB52"
          ],
          "font": {
           "color": "#2a3f5f"
          },
          "geo": {
           "bgcolor": "white",
           "lakecolor": "white",
           "landcolor": "#E5ECF6",
           "showlakes": true,
           "showland": true,
           "subunitcolor": "white"
          },
          "hoverlabel": {
           "align": "left"
          },
          "hovermode": "closest",
          "mapbox": {
           "style": "light"
          },
          "paper_bgcolor": "white",
          "plot_bgcolor": "#E5ECF6",
          "polar": {
           "angularaxis": {
            "gridcolor": "white",
            "linecolor": "white",
            "ticks": ""
           },
           "bgcolor": "#E5ECF6",
           "radialaxis": {
            "gridcolor": "white",
            "linecolor": "white",
            "ticks": ""
           }
          },
          "scene": {
           "xaxis": {
            "backgroundcolor": "#E5ECF6",
            "gridcolor": "white",
            "gridwidth": 2,
            "linecolor": "white",
            "showbackground": true,
            "ticks": "",
            "zerolinecolor": "white"
           },
           "yaxis": {
            "backgroundcolor": "#E5ECF6",
            "gridcolor": "white",
            "gridwidth": 2,
            "linecolor": "white",
            "showbackground": true,
            "ticks": "",
            "zerolinecolor": "white"
           },
           "zaxis": {
            "backgroundcolor": "#E5ECF6",
            "gridcolor": "white",
            "gridwidth": 2,
            "linecolor": "white",
            "showbackground": true,
            "ticks": "",
            "zerolinecolor": "white"
           }
          },
          "shapedefaults": {
           "line": {
            "color": "#2a3f5f"
           }
          },
          "ternary": {
           "aaxis": {
            "gridcolor": "white",
            "linecolor": "white",
            "ticks": ""
           },
           "baxis": {
            "gridcolor": "white",
            "linecolor": "white",
            "ticks": ""
           },
           "bgcolor": "#E5ECF6",
           "caxis": {
            "gridcolor": "white",
            "linecolor": "white",
            "ticks": ""
           }
          },
          "title": {
           "x": 0.05
          },
          "xaxis": {
           "automargin": true,
           "gridcolor": "white",
           "linecolor": "white",
           "ticks": "",
           "title": {
            "standoff": 15
           },
           "zerolinecolor": "white",
           "zerolinewidth": 2
          },
          "yaxis": {
           "automargin": true,
           "gridcolor": "white",
           "linecolor": "white",
           "ticks": "",
           "title": {
            "standoff": 15
           },
           "zerolinecolor": "white",
           "zerolinewidth": 2
          }
         }
        },
        "title": {
         "text": "Length boxplot"
        },
        "width": 1000,
        "xaxis": {
         "anchor": "y",
         "domain": [
          0,
          1
         ]
        },
        "yaxis": {
         "anchor": "x",
         "domain": [
          0,
          1
         ],
         "title": {
          "text": "Legnth"
         }
        }
       }
      }
     },
     "metadata": {},
     "output_type": "display_data"
    }
   ],
   "source": [
    "fig = make_subplots(rows=1, cols=1)\n",
    "\n",
    "fig.add_trace(\n",
    "    go.Box(y=tuned_android_api_usage_200_title_only.len_of_generated_answer, name=\"Title only\"), row=1, col=1\n",
    ")\n",
    "\n",
    "fig.add_trace(\n",
    "    go.Box(y=tuned_android_api_usage_200_question_only.len_of_generated_answer, name=\"Question only\"), row=1, col=1\n",
    ")\n",
    "\n",
    "fig.add_trace(\n",
    "    go.Box(y=tuned_android_api_usage_200_title_question.len_of_generated_answer, name=\"Title and question\"), row=1, col=1\n",
    ")\n",
    "\n",
    "fig.update_layout(\n",
    "    height=600, width=1000, title_text=\"Length boxplot\", yaxis_title=\"Legnth\"\n",
    ")\n",
    "fig.update_traces(boxpoints=\"all\", jitter=0.3)\n",
    "fig.show()"
   ]
  },
  {
   "cell_type": "markdown",
   "id": "d2432dff",
   "metadata": {},
   "source": [
    "### Анализ метрик"
   ]
  },
  {
   "cell_type": "code",
   "execution_count": 33,
   "id": "9525b7e0",
   "metadata": {},
   "outputs": [
    {
     "name": "stdout",
     "output_type": "stream",
     "text": [
      "BERT score (Question only): 0.85395\n",
      "ROUGE score (Question only): 0.14001\n",
      "Unigram BLEU score (Question only): 0.18824\n",
      "\n",
      "BERT score (Title only): 0.85196\n",
      "ROUGE score (Title only): 0.12733\n",
      "Unigram BLEU score (Title only): 0.21001\n",
      "\n",
      "BERT score diff: -0.001997644099119622 (-0.23 %)\n",
      "ROUGE score diff: -0.012680517789040002 (-9.06 %)\n",
      "Unigram BLEU score diff: 0.021771017870927528 (11.57 %)\n"
     ]
    }
   ],
   "source": [
    "base_tuned_metrics = get_metrics(tuned_android_api_usage_200_question_only, tuned_android_api_usage_200_title_only, '(Question only)', '(Title only)')"
   ]
  },
  {
   "cell_type": "code",
   "execution_count": 34,
   "id": "7cf229c0",
   "metadata": {},
   "outputs": [
    {
     "name": "stdout",
     "output_type": "stream",
     "text": [
      "BERT score (Question only): 0.85395\n",
      "ROUGE score (Question only): 0.14001\n",
      "Unigram BLEU score (Question only): 0.18824\n",
      "\n",
      "BERT score (Title question): 0.85548\n",
      "ROUGE score (Title question): 0.13237\n",
      "Unigram BLEU score (Title question): 0.20557\n",
      "\n",
      "BERT score diff: 0.0015312132434310843 (0.18 %)\n",
      "ROUGE score diff: -0.007634412576616317 (-5.45 %)\n",
      "Unigram BLEU score diff: 0.017330585092124928 (9.21 %)\n"
     ]
    }
   ],
   "source": [
    "base_tuned_metrics = get_metrics(tuned_android_api_usage_200_question_only, tuned_android_api_usage_200_title_question, '(Question only)', '(Title question)')"
   ]
  },
  {
   "cell_type": "markdown",
   "id": "8ca8a8d7",
   "metadata": {},
   "source": [
    "### Метрики на одном полотне"
   ]
  },
  {
   "cell_type": "code",
   "execution_count": 35,
   "id": "87c9e9e6",
   "metadata": {},
   "outputs": [],
   "source": [
    "def get_metric_table():\n",
    "    metric_df = pd.DataFrame(\n",
    "        {\n",
    "            \"BERT_F1\": [\n",
    "                tuned_android_api_usage_200_question_only[f\"bert_f1\"].mean(),\n",
    "                tuned_android_api_usage_200_title_only[f\"bert_f1\"].mean(),\n",
    "                tuned_android_api_usage_200_title_question[f\"bert_f1\"].mean(),\n",
    "            ],\n",
    "            \"ROUGE\": [\n",
    "                tuned_android_api_usage_200_question_only[f\"rouge_score\"].mean(),\n",
    "                tuned_android_api_usage_200_title_only[f\"rouge_score\"].mean(),\n",
    "                tuned_android_api_usage_200_title_question[f\"rouge_score\"].mean(),\n",
    "            ],\n",
    "            \"BLEU\": [\n",
    "                tuned_android_api_usage_200_question_only[f\"bleu_score\"].mean(),\n",
    "                tuned_android_api_usage_200_title_only[f\"bleu_score\"].mean(),\n",
    "                tuned_android_api_usage_200_title_question[f\"bleu_score\"].mean(),\n",
    "            ],\n",
    "        },\n",
    "        index=[\n",
    "            \"Question only\",\n",
    "            'Title only',\n",
    "            'Title question',\n",
    "        ],\n",
    "    )\n",
    "    return metric_df"
   ]
  },
  {
   "cell_type": "code",
   "execution_count": 36,
   "id": "c8bbd58e",
   "metadata": {},
   "outputs": [
    {
     "data": {
      "text/plain": [
       "[]"
      ]
     },
     "execution_count": 36,
     "metadata": {},
     "output_type": "execute_result"
    },
    {
     "data": {
      "image/png": "[encoded data removed]",
      "text/plain": [
       "<Figure size 640x480 with 2 Axes>"
      ]
     },
     "metadata": {},
     "output_type": "display_data"
    }
   ],
   "source": [
    "metrics_df = get_metric_table()\n",
    "ax = sns.heatmap(metrics_df, annot=True, fmt='.3f', cmap=\"crest\")\n",
    "ax.set(xlabel=\"Metrics\", ylabel=\"Promt types\", title='Metrics comparision')\n",
    "ax.plot()"
   ]
  },
  {
   "cell_type": "code",
   "execution_count": null,
   "id": "497ae0e6",
   "metadata": {},
   "outputs": [],
   "source": []
  }
 ],
 "metadata": {
  "kernelspec": {
   "display_name": "base",
   "language": "python",
   "name": "python3"
  },
  "language_info": {
   "codemirror_mode": {
    "name": "ipython",
    "version": 3
   },
   "file_extension": ".py",
   "mimetype": "text/x-python",
   "name": "python",
   "nbconvert_exporter": "python",
   "pygments_lexer": "ipython3",
   "version": "3.9.12"
  },
  "toc": {
   "base_numbering": 1,
   "nav_menu": {},
   "number_sections": true,
   "sideBar": true,
   "skip_h1_title": false,
   "title_cell": "Table of Contents",
   "title_sidebar": "Contents",
   "toc_cell": false,
   "toc_position": {
    "height": "calc(100% - 180px)",
    "left": "10px",
    "top": "150px",
    "width": "289px"
   },
   "toc_section_display": true,
   "toc_window_display": true
  },
  "vscode": {
   "interpreter": {
    "hash": "ad2bdc8ecc057115af97d19610ffacc2b4e99fae6737bb82f5d7fb13d2f2c186"
   }
  }
 },
 "nbformat": 4,
 "nbformat_minor": 5
}
