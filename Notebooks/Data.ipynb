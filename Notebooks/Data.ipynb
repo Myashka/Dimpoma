{
 "cells": [
  {
   "cell_type": "markdown",
   "id": "3231a109",
   "metadata": {},
   "source": [
    "Вопросы:\n",
    "1) Что делать с ссылками\n",
    "\n",
    "2) Нужно ли чистить вопросы от кода\n",
    "\n",
    "3) Что делать с разной длиной\n",
    "\n",
    "4) Как использовать Tag\n",
    "\n",
    "5) Идея кластеризации для обучения "
   ]
  },
  {
   "cell_type": "code",
   "execution_count": 178,
   "id": "b5c84a60",
   "metadata": {},
   "outputs": [],
   "source": [
    "import matplotlib.pyplot as plt\n",
    "import numpy as np\n",
    "import pandas as pd\n",
    "from bs4 import BeautifulSoup"
   ]
  },
  {
   "cell_type": "code",
   "execution_count": 24,
   "id": "6c70a8d6",
   "metadata": {},
   "outputs": [],
   "source": [
    "pd.set_option(\"display.max_colwidth\", None)"
   ]
  },
  {
   "cell_type": "code",
   "execution_count": 2,
   "id": "98cc06b7",
   "metadata": {},
   "outputs": [],
   "source": [
    "data_path = \"../data/StackSample/\""
   ]
  },
  {
   "cell_type": "code",
   "execution_count": 56,
   "id": "cc66a01a",
   "metadata": {},
   "outputs": [],
   "source": [
    "questions = pd.read_csv(data_path + \"Questions.csv\", encoding_errors=\"replace\")\n",
    "answers = pd.read_csv(data_path + \"Answers.csv\", encoding_errors=\"replace\")\n",
    "tags = pd.read_csv(data_path + \"Tags.csv\", encoding_errors=\"replace\")"
   ]
  },
  {
   "cell_type": "code",
   "execution_count": 57,
   "id": "294ad43f",
   "metadata": {},
   "outputs": [],
   "source": [
    "questions.rename(\n",
    "    columns={\"Body\": \"Q_Body\", \"Score\": \"Q_Score\", \"Title\": \"Q_Title\"}, inplace=True\n",
    ")\n",
    "answers.rename(\n",
    "    columns={\"Body\": \"A_Body\", \"Score\": \"A_Score\", \"Id\": \"A_Id\", \"ParentId\": \"Id\"},\n",
    "    inplace=True,\n",
    ")"
   ]
  },
  {
   "cell_type": "code",
   "execution_count": 58,
   "id": "512d64ad",
   "metadata": {},
   "outputs": [
    {
     "data": {
      "text/html": [
       "<div>\n",
       "<style scoped>\n",
       "    .dataframe tbody tr th:only-of-type {\n",
       "        vertical-align: middle;\n",
       "    }\n",
       "\n",
       "    .dataframe tbody tr th {\n",
       "        vertical-align: top;\n",
       "    }\n",
       "\n",
       "    .dataframe thead th {\n",
       "        text-align: right;\n",
       "    }\n",
       "</style>\n",
       "<table border=\"1\" class=\"dataframe\">\n",
       "  <thead>\n",
       "    <tr style=\"text-align: right;\">\n",
       "      <th></th>\n",
       "      <th>Id</th>\n",
       "      <th>OwnerUserId</th>\n",
       "      <th>CreationDate</th>\n",
       "      <th>ClosedDate</th>\n",
       "      <th>Q_Score</th>\n",
       "      <th>Q_Title</th>\n",
       "      <th>Q_Body</th>\n",
       "    </tr>\n",
       "  </thead>\n",
       "  <tbody>\n",
       "    <tr>\n",
       "      <th>0</th>\n",
       "      <td>80</td>\n",
       "      <td>26.0</td>\n",
       "      <td>2008-08-01T13:57:07Z</td>\n",
       "      <td>NaN</td>\n",
       "      <td>26</td>\n",
       "      <td>SQLStatement.execute() - multiple queries in one statement</td>\n",
       "      <td>&lt;p&gt;I've written a database generation script in &lt;a href=\"http://en.wikipedia.org/wiki/SQL\"&gt;SQL&lt;/a&gt; and want to execute it in my &lt;a href=\"http://en.wikipedia.org/wiki/Adobe_Integrated_Runtime\"&gt;Adobe AIR&lt;/a&gt; application:&lt;/p&gt;\\n\\n&lt;pre&gt;&lt;code&gt;Create Table tRole (\\n      roleID integer Primary Key\\n      ,roleName varchar(40)\\n);\\nCreate Table tFile (\\n    fileID integer Primary Key\\n    ,fileName varchar(50)\\n    ,fileDescription varchar(500)\\n    ,thumbnailID integer\\n    ,fileFormatID integer\\n    ,categoryID integer\\n    ,isFavorite boolean\\n    ,dateAdded date\\n    ,globalAccessCount integer\\n    ,lastAccessTime date\\n    ,downloadComplete boolean\\n    ,isNew boolean\\n    ,isSpotlight boolean\\n    ,duration varchar(30)\\n);\\nCreate Table tCategory (\\n    categoryID integer Primary Key\\n    ,categoryName varchar(50)\\n    ,parent_categoryID integer\\n);\\n...\\n&lt;/code&gt;&lt;/pre&gt;\\n\\n&lt;p&gt;I execute this in Adobe AIR using the following methods:&lt;/p&gt;\\n\\n&lt;pre&gt;&lt;code&gt;public static function RunSqlFromFile(fileName:String):void {\\n    var file:File = File.applicationDirectory.resolvePath(fileName);\\n    var stream:FileStream = new FileStream();\\n    stream.open(file, FileMode.READ)\\n    var strSql:String = stream.readUTFBytes(stream.bytesAvailable);\\n    NonQuery(strSql);\\n}\\n\\npublic static function NonQuery(strSQL:String):void\\n{\\n    var sqlConnection:SQLConnection = new SQLConnection();\\n    sqlConnection.open(File.applicationStorageDirectory.resolvePath(DBPATH);\\n    var sqlStatement:SQLStatement = new SQLStatement();\\n    sqlStatement.text = strSQL;\\n    sqlStatement.sqlConnection = sqlConnection;\\n    try\\n    {\\n        sqlStatement.execute();\\n    }\\n    catch (error:SQLError)\\n    {\\n        Alert.show(error.toString());\\n    }\\n}\\n&lt;/code&gt;&lt;/pre&gt;\\n\\n&lt;p&gt;No errors are generated, however only &lt;code&gt;tRole&lt;/code&gt; exists. It seems that it only looks at the first query (up to the semicolon- if I remove it, the query fails). Is there a way to call multiple queries in one statement?&lt;/p&gt;\\n</td>\n",
       "    </tr>\n",
       "    <tr>\n",
       "      <th>1</th>\n",
       "      <td>90</td>\n",
       "      <td>58.0</td>\n",
       "      <td>2008-08-01T14:41:24Z</td>\n",
       "      <td>2012-12-26T03:45:49Z</td>\n",
       "      <td>144</td>\n",
       "      <td>Good branching and merging tutorials for TortoiseSVN?</td>\n",
       "      <td>&lt;p&gt;Are there any really good tutorials explaining &lt;a href=\"http://svnbook.red-bean.com/en/1.8/svn.branchmerge.html\" rel=\"nofollow\"&gt;branching and merging&lt;/a&gt; with Apache Subversion? &lt;/p&gt;\\n\\n&lt;p&gt;All the better if it's specific to TortoiseSVN client.&lt;/p&gt;\\n</td>\n",
       "    </tr>\n",
       "    <tr>\n",
       "      <th>2</th>\n",
       "      <td>120</td>\n",
       "      <td>83.0</td>\n",
       "      <td>2008-08-01T15:50:08Z</td>\n",
       "      <td>NaN</td>\n",
       "      <td>21</td>\n",
       "      <td>ASP.NET Site Maps</td>\n",
       "      <td>&lt;p&gt;Has anyone got experience creating &lt;strong&gt;SQL-based ASP.NET&lt;/strong&gt; site-map providers?&lt;/p&gt;\\n\\n&lt;p&gt;I've got the default XML file &lt;code&gt;web.sitemap&lt;/code&gt; working properly with my Menu and &lt;strong&gt;SiteMapPath&lt;/strong&gt; controls, but I'll need a way for the users of my site to create and modify pages dynamically.&lt;/p&gt;\\n\\n&lt;p&gt;I need to tie page viewing permissions into the standard &lt;code&gt;ASP.NET&lt;/code&gt; membership system as well.&lt;/p&gt;\\n</td>\n",
       "    </tr>\n",
       "    <tr>\n",
       "      <th>3</th>\n",
       "      <td>180</td>\n",
       "      <td>2089740.0</td>\n",
       "      <td>2008-08-01T18:42:19Z</td>\n",
       "      <td>NaN</td>\n",
       "      <td>53</td>\n",
       "      <td>Function for creating color wheels</td>\n",
       "      <td>&lt;p&gt;This is something I've pseudo-solved many times and never quite found a solution. That's stuck with me. The problem is to come up with a way to generate &lt;code&gt;N&lt;/code&gt; colors, that are as distinguishable as possible where &lt;code&gt;N&lt;/code&gt; is a parameter.&lt;/p&gt;\\n</td>\n",
       "    </tr>\n",
       "    <tr>\n",
       "      <th>4</th>\n",
       "      <td>260</td>\n",
       "      <td>91.0</td>\n",
       "      <td>2008-08-01T23:22:08Z</td>\n",
       "      <td>NaN</td>\n",
       "      <td>49</td>\n",
       "      <td>Adding scripting functionality to .NET applications</td>\n",
       "      <td>&lt;p&gt;I have a little game written in C#. It uses a database as back-end. It's \\na &lt;a href=\"http://en.wikipedia.org/wiki/Collectible_card_game\"&gt;trading card game&lt;/a&gt;, and I wanted to implement the function of the cards as a script.&lt;/p&gt;\\n\\n&lt;p&gt;What I mean is that I essentially have an interface, &lt;code&gt;ICard&lt;/code&gt;, which a card class implements (&lt;code&gt;public class Card056 : ICard&lt;/code&gt;) and which contains function that are called by the game.&lt;/p&gt;\\n\\n&lt;p&gt;Now, to make the thing maintainable/moddable, I would like to have the class for each card as source code in the database and essentially compile it on first use. So when I have to add/change a card, I'll just add it to the database and tell my application to refresh, without needing any assembly deployment (especially since we would be talking about 1 assembly per card which means hundreds of assemblies).&lt;/p&gt;\\n\\n&lt;p&gt;Is that possible? Register a class from a source file and then instantiate it, etc.&lt;/p&gt;\\n\\n&lt;pre&gt;&lt;code&gt;ICard Cards[current] = new MyGame.CardLibrary.Card056();\\nCards[current].OnEnterPlay(ref currentGameState);\\n&lt;/code&gt;&lt;/pre&gt;\\n\\n&lt;p&gt;The language is C#, but extra bonus if it's possible to write the script in any .NET language.&lt;/p&gt;\\n</td>\n",
       "    </tr>\n",
       "  </tbody>\n",
       "</table>\n",
       "</div>"
      ],
      "text/plain": [
       "    Id  OwnerUserId          CreationDate            ClosedDate  Q_Score  \\\n",
       "0   80         26.0  2008-08-01T13:57:07Z                   NaN       26   \n",
       "1   90         58.0  2008-08-01T14:41:24Z  2012-12-26T03:45:49Z      144   \n",
       "2  120         83.0  2008-08-01T15:50:08Z                   NaN       21   \n",
       "3  180    2089740.0  2008-08-01T18:42:19Z                   NaN       53   \n",
       "4  260         91.0  2008-08-01T23:22:08Z                   NaN       49   \n",
       "\n",
       "                                                      Q_Title  \\\n",
       "0  SQLStatement.execute() - multiple queries in one statement   \n",
       "1       Good branching and merging tutorials for TortoiseSVN?   \n",
       "2                                           ASP.NET Site Maps   \n",
       "3                          Function for creating color wheels   \n",
       "4         Adding scripting functionality to .NET applications   \n",
       "\n",
       "                                                                                                                                                                                                                                                                                                                                                                                                                                                                                                                                                                                                                                                                                                                                                                                                                                                                                                                                                                                                                                                                                                                                                                                                                                                                                                                                                                                                                                                                                                                                                                                                                                                                                                                                                                                                                                                                                                                                                                                                                                                                             Q_Body  \n",
       "0  <p>I've written a database generation script in <a href=\"http://en.wikipedia.org/wiki/SQL\">SQL</a> and want to execute it in my <a href=\"http://en.wikipedia.org/wiki/Adobe_Integrated_Runtime\">Adobe AIR</a> application:</p>\\n\\n<pre><code>Create Table tRole (\\n      roleID integer Primary Key\\n      ,roleName varchar(40)\\n);\\nCreate Table tFile (\\n    fileID integer Primary Key\\n    ,fileName varchar(50)\\n    ,fileDescription varchar(500)\\n    ,thumbnailID integer\\n    ,fileFormatID integer\\n    ,categoryID integer\\n    ,isFavorite boolean\\n    ,dateAdded date\\n    ,globalAccessCount integer\\n    ,lastAccessTime date\\n    ,downloadComplete boolean\\n    ,isNew boolean\\n    ,isSpotlight boolean\\n    ,duration varchar(30)\\n);\\nCreate Table tCategory (\\n    categoryID integer Primary Key\\n    ,categoryName varchar(50)\\n    ,parent_categoryID integer\\n);\\n...\\n</code></pre>\\n\\n<p>I execute this in Adobe AIR using the following methods:</p>\\n\\n<pre><code>public static function RunSqlFromFile(fileName:String):void {\\n    var file:File = File.applicationDirectory.resolvePath(fileName);\\n    var stream:FileStream = new FileStream();\\n    stream.open(file, FileMode.READ)\\n    var strSql:String = stream.readUTFBytes(stream.bytesAvailable);\\n    NonQuery(strSql);\\n}\\n\\npublic static function NonQuery(strSQL:String):void\\n{\\n    var sqlConnection:SQLConnection = new SQLConnection();\\n    sqlConnection.open(File.applicationStorageDirectory.resolvePath(DBPATH);\\n    var sqlStatement:SQLStatement = new SQLStatement();\\n    sqlStatement.text = strSQL;\\n    sqlStatement.sqlConnection = sqlConnection;\\n    try\\n    {\\n        sqlStatement.execute();\\n    }\\n    catch (error:SQLError)\\n    {\\n        Alert.show(error.toString());\\n    }\\n}\\n</code></pre>\\n\\n<p>No errors are generated, however only <code>tRole</code> exists. It seems that it only looks at the first query (up to the semicolon- if I remove it, the query fails). Is there a way to call multiple queries in one statement?</p>\\n  \n",
       "1                                                                                                                                                                                                                                                                                                                                                                                                                                                                                                                                                                                                                                                                                                                                                                                                                                                                                                                                                                                                                                                                                                                                                                                                                                                                                                                                                                                                                                                                                                                                                                                                                                                                                                                                                                                                                      <p>Are there any really good tutorials explaining <a href=\"http://svnbook.red-bean.com/en/1.8/svn.branchmerge.html\" rel=\"nofollow\">branching and merging</a> with Apache Subversion? </p>\\n\\n<p>All the better if it's specific to TortoiseSVN client.</p>\\n  \n",
       "2                                                                                                                                                                                                                                                                                                                                                                                                                                                                                                                                                                                                                                                                                                                                                                                                                                                                                                                                                                                                                                                                                                                                                                                                                                                                                                                                                                                                                                                                                                                                                                                                                              <p>Has anyone got experience creating <strong>SQL-based ASP.NET</strong> site-map providers?</p>\\n\\n<p>I've got the default XML file <code>web.sitemap</code> working properly with my Menu and <strong>SiteMapPath</strong> controls, but I'll need a way for the users of my site to create and modify pages dynamically.</p>\\n\\n<p>I need to tie page viewing permissions into the standard <code>ASP.NET</code> membership system as well.</p>\\n  \n",
       "3                                                                                                                                                                                                                                                                                                                                                                                                                                                                                                                                                                                                                                                                                                                                                                                                                                                                                                                                                                                                                                                                                                                                                                                                                                                                                                                                                                                                                                                                                                                                                                                                                                                                                                                                                                                                             <p>This is something I've pseudo-solved many times and never quite found a solution. That's stuck with me. The problem is to come up with a way to generate <code>N</code> colors, that are as distinguishable as possible where <code>N</code> is a parameter.</p>\\n  \n",
       "4                                                                                                                                                                                                                                                                                                                                                                                                                                                                                                                                                                                                                                                                                                                                                                                                                              <p>I have a little game written in C#. It uses a database as back-end. It's \\na <a href=\"http://en.wikipedia.org/wiki/Collectible_card_game\">trading card game</a>, and I wanted to implement the function of the cards as a script.</p>\\n\\n<p>What I mean is that I essentially have an interface, <code>ICard</code>, which a card class implements (<code>public class Card056 : ICard</code>) and which contains function that are called by the game.</p>\\n\\n<p>Now, to make the thing maintainable/moddable, I would like to have the class for each card as source code in the database and essentially compile it on first use. So when I have to add/change a card, I'll just add it to the database and tell my application to refresh, without needing any assembly deployment (especially since we would be talking about 1 assembly per card which means hundreds of assemblies).</p>\\n\\n<p>Is that possible? Register a class from a source file and then instantiate it, etc.</p>\\n\\n<pre><code>ICard Cards[current] = new MyGame.CardLibrary.Card056();\\nCards[current].OnEnterPlay(ref currentGameState);\\n</code></pre>\\n\\n<p>The language is C#, but extra bonus if it's possible to write the script in any .NET language.</p>\\n  "
      ]
     },
     "execution_count": 58,
     "metadata": {},
     "output_type": "execute_result"
    }
   ],
   "source": [
    "questions.head()"
   ]
  },
  {
   "cell_type": "code",
   "execution_count": 59,
   "id": "c89f32df",
   "metadata": {},
   "outputs": [
    {
     "data": {
      "text/html": [
       "<div>\n",
       "<style scoped>\n",
       "    .dataframe tbody tr th:only-of-type {\n",
       "        vertical-align: middle;\n",
       "    }\n",
       "\n",
       "    .dataframe tbody tr th {\n",
       "        vertical-align: top;\n",
       "    }\n",
       "\n",
       "    .dataframe thead th {\n",
       "        text-align: right;\n",
       "    }\n",
       "</style>\n",
       "<table border=\"1\" class=\"dataframe\">\n",
       "  <thead>\n",
       "    <tr style=\"text-align: right;\">\n",
       "      <th></th>\n",
       "      <th>A_Id</th>\n",
       "      <th>OwnerUserId</th>\n",
       "      <th>CreationDate</th>\n",
       "      <th>Id</th>\n",
       "      <th>A_Score</th>\n",
       "      <th>A_Body</th>\n",
       "    </tr>\n",
       "  </thead>\n",
       "  <tbody>\n",
       "    <tr>\n",
       "      <th>0</th>\n",
       "      <td>92</td>\n",
       "      <td>61.0</td>\n",
       "      <td>2008-08-01T14:45:37Z</td>\n",
       "      <td>90</td>\n",
       "      <td>13</td>\n",
       "      <td>&lt;p&gt;&lt;a href=\"http://svnbook.red-bean.com/\"&gt;Version Control with Subversion&lt;/a&gt;&lt;/p&gt;\\r\\n\\r\\n&lt;p&gt;A very good resource for source control in general. Not really TortoiseSVN specific, though.&lt;/p&gt;</td>\n",
       "    </tr>\n",
       "    <tr>\n",
       "      <th>1</th>\n",
       "      <td>124</td>\n",
       "      <td>26.0</td>\n",
       "      <td>2008-08-01T16:09:47Z</td>\n",
       "      <td>80</td>\n",
       "      <td>12</td>\n",
       "      <td>&lt;p&gt;I wound up using this. It is a kind of a hack, but it actually works pretty well. The only thing is you have to be very careful with your semicolons. : D&lt;/p&gt;\\n\\n&lt;pre&gt;&lt;code&gt;var strSql:String = stream.readUTFBytes(stream.bytesAvailable);      \\nvar i:Number = 0;\\nvar strSqlSplit:Array = strSql.split(\";\");\\nfor (i = 0; i &amp;lt; strSqlSplit.length; i++){\\n    NonQuery(strSqlSplit[i].toString());\\n}\\n&lt;/code&gt;&lt;/pre&gt;\\n</td>\n",
       "    </tr>\n",
       "    <tr>\n",
       "      <th>2</th>\n",
       "      <td>199</td>\n",
       "      <td>50.0</td>\n",
       "      <td>2008-08-01T19:36:46Z</td>\n",
       "      <td>180</td>\n",
       "      <td>1</td>\n",
       "      <td>&lt;p&gt;I've read somewhere the human eye can't distinguish between less than 4 values apart. so This is something to keep in mind. The following algorithm does not compensate for this.&lt;/p&gt;\\r\\n\\r\\n&lt;p&gt;I'm not sure this is exactly what you want, but this is one way to randomly generate non-repeating color values:&lt;/p&gt;\\r\\n\\r\\n&lt;p&gt;(beware, inconsistent pseudo-code ahead)&lt;/p&gt;\\r\\n\\r\\n&lt;pre&gt;&lt;code&gt;//colors entered as 0-255 [R, G, B]&lt;br&gt;colors = []; //holds final colors to be used&lt;br&gt;rand = new Random();&lt;br&gt;&lt;br&gt;//assumes n is less than 16,777,216&lt;br&gt;randomGen(int n){&lt;br&gt;   while (len(colors) &amp;lt; n){&lt;br&gt;      //generate a random number between 0,255 for each color&lt;br&gt;      newRed = rand.next(256);&lt;br&gt;      newGreen = rand.next(256);&lt;br&gt;      newBlue = rand.next(256);&lt;br&gt;      temp = [newRed, newGreen, newBlue];&lt;br&gt;      //only adds new colors to the array&lt;br&gt;      if temp not in colors {&lt;br&gt;         colors.append(temp);&lt;br&gt;      }&lt;br&gt;   }&lt;br&gt;}&lt;br&gt;&lt;/code&gt;&lt;/pre&gt;\\r\\n\\r\\n&lt;p&gt;One way you could optimize this for better visibility would be to compare the distance between each new color and all the colors in the array:&lt;/p&gt;\\r\\n\\r\\n&lt;pre&gt;&lt;code&gt;for item in color{&lt;br&gt;   itemSq = (item[0]^2 + item[1]^2 + item[2]^2])^(.5);&lt;br&gt;   tempSq = (temp[0]^2 + temp[1]^2 + temp[2]^2])^(.5);&lt;br&gt;   dist = itemSq - tempSq;&lt;br&gt;   dist = abs(dist);&lt;br&gt;}&lt;br&gt;//NUMBER can be your chosen distance apart.&lt;br&gt;if dist &amp;lt; NUMBER and temp not in colors {&lt;br&gt;   colors.append(temp);&lt;br&gt;}&lt;br&gt;&lt;/code&gt;&lt;/pre&gt;\\r\\n\\r\\n&lt;p&gt;But this approach would significantly slow down your algorithm.&lt;/p&gt;\\r\\n\\r\\n&lt;p&gt;Another way would be to scrap the randomness and systematically go through every 4 values and add a color to an array in the above example.&lt;/p&gt;</td>\n",
       "    </tr>\n",
       "    <tr>\n",
       "      <th>3</th>\n",
       "      <td>269</td>\n",
       "      <td>91.0</td>\n",
       "      <td>2008-08-01T23:49:57Z</td>\n",
       "      <td>260</td>\n",
       "      <td>4</td>\n",
       "      <td>&lt;p&gt;Yes, I thought about that, but I soon figured out that another Domain-Specific-Language (DSL) would be a bit too much.&lt;/p&gt;\\n\\n&lt;p&gt;Essentially, they need to interact with my gamestate in possibly unpredictable ways. For example, a card could have a rule \"When this cards enter play, all your undead minions gain +3 attack against flying enemies, except when the enemy is blessed\". As trading card games are turn based, the GameState Manager will fire OnStageX events and let the cards modify other cards or the GameState in whatever way the card needs.&lt;/p&gt;\\n\\n&lt;p&gt;If I try to create a DSL, I have to implement a rather large feature set and possibly constantly update it, which shifts the maintenance work to another part without actually removing it.&lt;/p&gt;\\n\\n&lt;p&gt;That's why I wanted to stay with a \"real\" .NET language to essentially be able to just fire the event and let the card manipulate the gamestate in whatever way (within the limits of the code access security).&lt;/p&gt;\\n</td>\n",
       "    </tr>\n",
       "    <tr>\n",
       "      <th>4</th>\n",
       "      <td>307</td>\n",
       "      <td>49.0</td>\n",
       "      <td>2008-08-02T01:49:46Z</td>\n",
       "      <td>260</td>\n",
       "      <td>28</td>\n",
       "      <td>&lt;p&gt;&lt;a href=\"http://www.codeproject.com/Articles/8656/C-Script-The-Missing-Puzzle-Piece\"&gt;Oleg Shilo's C# Script solution (at The Code Project&lt;/a&gt;) really is a great introduction to providing script abilities in your application.&lt;/p&gt;\\n\\n&lt;p&gt;A different approach would be to consider a language that is specifically built for scripting, such as &lt;a href=\"http://en.wikipedia.org/wiki/IronRuby\"&gt;IronRuby&lt;/a&gt;, &lt;a href=\"http://en.wikipedia.org/wiki/IronPython\"&gt;IronPython&lt;/a&gt;, or &lt;a href=\"http://en.wikipedia.org/wiki/Lua_%28programming_language%29\"&gt;Lua&lt;/a&gt;.&lt;/p&gt;\\n\\n&lt;p&gt;IronPython and IronRuby are both available today.&lt;/p&gt;\\n\\n&lt;p&gt;For a guide to embedding IronPython read\\n&lt;a href=\"http://blogs.msdn.com/b/jmstall/archive/2005/09/01/howto-embed-ironpython.aspx\"&gt;How to embed IronPython script support in your existing app in 10 easy steps&lt;/a&gt;.&lt;/p&gt;\\n\\n&lt;p&gt;Lua is a scripting language commonly used in games. There is a Lua compiler for .NET, available from CodePlex -- &lt;a href=\"http://www.codeplex.com/Nua\"&gt;http://www.codeplex.com/Nua&lt;/a&gt;&lt;/p&gt;\\n\\n&lt;p&gt;That codebase is a great read if you want to learn about building a compiler in .NET.&lt;/p&gt;\\n\\n&lt;p&gt;A different angle altogether is to try &lt;a href=\"http://en.wikipedia.org/wiki/Windows_PowerShell\"&gt;PowerShell&lt;/a&gt;. There are numerous examples of embedding PowerShell into an application -- here's a thorough project on the topic: \\n&lt;a href=\"http://code.msdn.microsoft.com/PowerShellTunnel/Wiki/View.aspx?title=PowerShellTunnel%20Reference\"&gt;Powershell Tunnel&lt;/a&gt;&lt;/p&gt;\\n</td>\n",
       "    </tr>\n",
       "  </tbody>\n",
       "</table>\n",
       "</div>"
      ],
      "text/plain": [
       "   A_Id  OwnerUserId          CreationDate   Id  A_Score  \\\n",
       "0    92         61.0  2008-08-01T14:45:37Z   90       13   \n",
       "1   124         26.0  2008-08-01T16:09:47Z   80       12   \n",
       "2   199         50.0  2008-08-01T19:36:46Z  180        1   \n",
       "3   269         91.0  2008-08-01T23:49:57Z  260        4   \n",
       "4   307         49.0  2008-08-02T01:49:46Z  260       28   \n",
       "\n",
       "                                                                                                                                                                                                                                                                                                                                                                                                                                                                                                                                                                                                                                                                                                                                                                                                                                                                                                                                                                                                                                                                                                                                                                                                                                                                                                                                                                                                                                                                                                                                                                                                                                                                                                                                                                   A_Body  \n",
       "0                                                                                                                                                                                                                                                                                                                                                                                                                                                                                                                                                                                                                                                                                                                                                                                                                                                                                                                                                                                                                                                                                                                                                                                                                                                                                                                                                                                                                                                                                                                                                                            <p><a href=\"http://svnbook.red-bean.com/\">Version Control with Subversion</a></p>\\r\\n\\r\\n<p>A very good resource for source control in general. Not really TortoiseSVN specific, though.</p>  \n",
       "1                                                                                                                                                                                                                                                                                                                                                                                                                                                                                                                                                                                                                                                                                                                                                                                                                                                                                                                                                                                                                                                                                                                                                                                                                                                                                                                                         <p>I wound up using this. It is a kind of a hack, but it actually works pretty well. The only thing is you have to be very careful with your semicolons. : D</p>\\n\\n<pre><code>var strSql:String = stream.readUTFBytes(stream.bytesAvailable);      \\nvar i:Number = 0;\\nvar strSqlSplit:Array = strSql.split(\";\");\\nfor (i = 0; i &lt; strSqlSplit.length; i++){\\n    NonQuery(strSqlSplit[i].toString());\\n}\\n</code></pre>\\n  \n",
       "2  <p>I've read somewhere the human eye can't distinguish between less than 4 values apart. so This is something to keep in mind. The following algorithm does not compensate for this.</p>\\r\\n\\r\\n<p>I'm not sure this is exactly what you want, but this is one way to randomly generate non-repeating color values:</p>\\r\\n\\r\\n<p>(beware, inconsistent pseudo-code ahead)</p>\\r\\n\\r\\n<pre><code>//colors entered as 0-255 [R, G, B]<br>colors = []; //holds final colors to be used<br>rand = new Random();<br><br>//assumes n is less than 16,777,216<br>randomGen(int n){<br>   while (len(colors) &lt; n){<br>      //generate a random number between 0,255 for each color<br>      newRed = rand.next(256);<br>      newGreen = rand.next(256);<br>      newBlue = rand.next(256);<br>      temp = [newRed, newGreen, newBlue];<br>      //only adds new colors to the array<br>      if temp not in colors {<br>         colors.append(temp);<br>      }<br>   }<br>}<br></code></pre>\\r\\n\\r\\n<p>One way you could optimize this for better visibility would be to compare the distance between each new color and all the colors in the array:</p>\\r\\n\\r\\n<pre><code>for item in color{<br>   itemSq = (item[0]^2 + item[1]^2 + item[2]^2])^(.5);<br>   tempSq = (temp[0]^2 + temp[1]^2 + temp[2]^2])^(.5);<br>   dist = itemSq - tempSq;<br>   dist = abs(dist);<br>}<br>//NUMBER can be your chosen distance apart.<br>if dist &lt; NUMBER and temp not in colors {<br>   colors.append(temp);<br>}<br></code></pre>\\r\\n\\r\\n<p>But this approach would significantly slow down your algorithm.</p>\\r\\n\\r\\n<p>Another way would be to scrap the randomness and systematically go through every 4 values and add a color to an array in the above example.</p>  \n",
       "3                                                                                                                                                                                                                                                                                                                                                                                                                                                                                                                                                                                                                                                                                                                                                        <p>Yes, I thought about that, but I soon figured out that another Domain-Specific-Language (DSL) would be a bit too much.</p>\\n\\n<p>Essentially, they need to interact with my gamestate in possibly unpredictable ways. For example, a card could have a rule \"When this cards enter play, all your undead minions gain +3 attack against flying enemies, except when the enemy is blessed\". As trading card games are turn based, the GameState Manager will fire OnStageX events and let the cards modify other cards or the GameState in whatever way the card needs.</p>\\n\\n<p>If I try to create a DSL, I have to implement a rather large feature set and possibly constantly update it, which shifts the maintenance work to another part without actually removing it.</p>\\n\\n<p>That's why I wanted to stay with a \"real\" .NET language to essentially be able to just fire the event and let the card manipulate the gamestate in whatever way (within the limits of the code access security).</p>\\n  \n",
       "4                                                                                                                                                                                                              <p><a href=\"http://www.codeproject.com/Articles/8656/C-Script-The-Missing-Puzzle-Piece\">Oleg Shilo's C# Script solution (at The Code Project</a>) really is a great introduction to providing script abilities in your application.</p>\\n\\n<p>A different approach would be to consider a language that is specifically built for scripting, such as <a href=\"http://en.wikipedia.org/wiki/IronRuby\">IronRuby</a>, <a href=\"http://en.wikipedia.org/wiki/IronPython\">IronPython</a>, or <a href=\"http://en.wikipedia.org/wiki/Lua_%28programming_language%29\">Lua</a>.</p>\\n\\n<p>IronPython and IronRuby are both available today.</p>\\n\\n<p>For a guide to embedding IronPython read\\n<a href=\"http://blogs.msdn.com/b/jmstall/archive/2005/09/01/howto-embed-ironpython.aspx\">How to embed IronPython script support in your existing app in 10 easy steps</a>.</p>\\n\\n<p>Lua is a scripting language commonly used in games. There is a Lua compiler for .NET, available from CodePlex -- <a href=\"http://www.codeplex.com/Nua\">http://www.codeplex.com/Nua</a></p>\\n\\n<p>That codebase is a great read if you want to learn about building a compiler in .NET.</p>\\n\\n<p>A different angle altogether is to try <a href=\"http://en.wikipedia.org/wiki/Windows_PowerShell\">PowerShell</a>. There are numerous examples of embedding PowerShell into an application -- here's a thorough project on the topic: \\n<a href=\"http://code.msdn.microsoft.com/PowerShellTunnel/Wiki/View.aspx?title=PowerShellTunnel%20Reference\">Powershell Tunnel</a></p>\\n  "
      ]
     },
     "execution_count": 59,
     "metadata": {},
     "output_type": "execute_result"
    }
   ],
   "source": [
    "answers.head()"
   ]
  },
  {
   "cell_type": "markdown",
   "id": "2e2e9a2b",
   "metadata": {},
   "source": [
    "# TODO\n",
    "1) Проверить количество questions имеющих несколько answers // __Одному вопросу может соответствовать более одного ответа__\n",
    "\n",
    "2) Понять как отбирать ответы // __Попрообовать отбирать вопросы и ответы, у которых score больше 5__\n",
    "\n",
    "3) Отчистить Body questions и answers от html разметки"
   ]
  },
  {
   "cell_type": "markdown",
   "id": "a2feb651",
   "metadata": {},
   "source": [
    "### 1. Точно ли на каждый вопрос имеется один ответ или их больше?\n",
    "Нужно сопоставить __Id__ из answers и __Id__ из questions"
   ]
  },
  {
   "cell_type": "code",
   "execution_count": 60,
   "id": "209a8f61",
   "metadata": {},
   "outputs": [
    {
     "data": {
      "text/plain": [
       "90           3\n",
       "80           3\n",
       "180          9\n",
       "260          9\n",
       "330         10\n",
       "            ..\n",
       "40143190     2\n",
       "40132400     1\n",
       "40141860     1\n",
       "40077010     1\n",
       "40142910     1\n",
       "Name: Id, Length: 1102568, dtype: int64"
      ]
     },
     "execution_count": 60,
     "metadata": {},
     "output_type": "execute_result"
    }
   ],
   "source": [
    "answers[\"Id\"].value_counts(sort=False)"
   ]
  },
  {
   "cell_type": "markdown",
   "id": "fdb95cd4",
   "metadata": {},
   "source": [
    "Рассмотрим конкретный пример, вопрос с Id = 90"
   ]
  },
  {
   "cell_type": "code",
   "execution_count": 62,
   "id": "a78a3f5c",
   "metadata": {},
   "outputs": [],
   "source": [
    "question_90 = questions.loc[questions.Id == 90]"
   ]
  },
  {
   "cell_type": "code",
   "execution_count": 63,
   "id": "6baf1240",
   "metadata": {},
   "outputs": [],
   "source": [
    "answer_90 = answers.loc[answers.Id == 90]"
   ]
  },
  {
   "cell_type": "code",
   "execution_count": 65,
   "id": "d0198d91",
   "metadata": {},
   "outputs": [
    {
     "data": {
      "text/plain": [
       "1    <p>Are there any really good tutorials explaining <a href=\"http://svnbook.red-bean.com/en/1.8/svn.branchmerge.html\" rel=\"nofollow\">branching and merging</a> with Apache Subversion? </p>\\n\\n<p>All the better if it's specific to TortoiseSVN client.</p>\\n\n",
       "Name: Q_Body, dtype: object"
      ]
     },
     "execution_count": 65,
     "metadata": {},
     "output_type": "execute_result"
    }
   ],
   "source": [
    "question_90.Q_Body"
   ]
  },
  {
   "cell_type": "code",
   "execution_count": 66,
   "id": "9f0045c0",
   "metadata": {},
   "outputs": [
    {
     "data": {
      "text/html": [
       "<div>\n",
       "<style scoped>\n",
       "    .dataframe tbody tr th:only-of-type {\n",
       "        vertical-align: middle;\n",
       "    }\n",
       "\n",
       "    .dataframe tbody tr th {\n",
       "        vertical-align: top;\n",
       "    }\n",
       "\n",
       "    .dataframe thead th {\n",
       "        text-align: right;\n",
       "    }\n",
       "</style>\n",
       "<table border=\"1\" class=\"dataframe\">\n",
       "  <thead>\n",
       "    <tr style=\"text-align: right;\">\n",
       "      <th></th>\n",
       "      <th>A_Id</th>\n",
       "      <th>OwnerUserId</th>\n",
       "      <th>CreationDate</th>\n",
       "      <th>Id</th>\n",
       "      <th>A_Score</th>\n",
       "      <th>A_Body</th>\n",
       "    </tr>\n",
       "  </thead>\n",
       "  <tbody>\n",
       "    <tr>\n",
       "      <th>0</th>\n",
       "      <td>92</td>\n",
       "      <td>61.0</td>\n",
       "      <td>2008-08-01T14:45:37Z</td>\n",
       "      <td>90</td>\n",
       "      <td>13</td>\n",
       "      <td>&lt;p&gt;&lt;a href=\"http://svnbook.red-bean.com/\"&gt;Version Control with Subversion&lt;/a&gt;&lt;/p&gt;\\r\\n\\r\\n&lt;p&gt;A very good resource for source control in general. Not really TortoiseSVN specific, though.&lt;/p&gt;</td>\n",
       "    </tr>\n",
       "    <tr>\n",
       "      <th>10748</th>\n",
       "      <td>202317</td>\n",
       "      <td>20709.0</td>\n",
       "      <td>2008-10-14T18:41:45Z</td>\n",
       "      <td>90</td>\n",
       "      <td>2</td>\n",
       "      <td>&lt;p&gt;You can also try &lt;em&gt;&lt;a href=\"http://www.codeproject.com/KB/work/XTortoiseSVN.aspx\" rel=\"nofollow\"&gt;Version Control for the Standalone Programmer - Part 1&lt;/a&gt;&lt;/em&gt; or perhaps &lt;em&gt;&lt;a href=\"http://www.kenegozi.com/Blog/2007/07/30/merging-with-tortoisesvn.aspx\" rel=\"nofollow\"&gt;Merging with TortoiseSVN&lt;/a&gt;&lt;/em&gt;.&lt;/p&gt;\\n</td>\n",
       "    </tr>\n",
       "    <tr>\n",
       "      <th>85572</th>\n",
       "      <td>1466832</td>\n",
       "      <td>16012.0</td>\n",
       "      <td>2009-09-23T15:40:46Z</td>\n",
       "      <td>90</td>\n",
       "      <td>19</td>\n",
       "      <td>&lt;p&gt;My easy click-by-click instructions (&lt;strong&gt;specific to TortoiseSVN&lt;/strong&gt;) are in Stack&amp;nbsp;Overflow question &lt;em&gt;&lt;a href=\"http://stackoverflow.com/questions/1461922\"&gt;What is the simplest way to do branching and merging using TortoiseSVN?&lt;/a&gt;&lt;/em&gt;.&lt;/p&gt;\\n</td>\n",
       "    </tr>\n",
       "  </tbody>\n",
       "</table>\n",
       "</div>"
      ],
      "text/plain": [
       "          A_Id  OwnerUserId          CreationDate  Id  A_Score  \\\n",
       "0           92         61.0  2008-08-01T14:45:37Z  90       13   \n",
       "10748   202317      20709.0  2008-10-14T18:41:45Z  90        2   \n",
       "85572  1466832      16012.0  2009-09-23T15:40:46Z  90       19   \n",
       "\n",
       "                                                                                                                                                                                                                                                                                                                             A_Body  \n",
       "0                                                                                                                                      <p><a href=\"http://svnbook.red-bean.com/\">Version Control with Subversion</a></p>\\r\\n\\r\\n<p>A very good resource for source control in general. Not really TortoiseSVN specific, though.</p>  \n",
       "10748  <p>You can also try <em><a href=\"http://www.codeproject.com/KB/work/XTortoiseSVN.aspx\" rel=\"nofollow\">Version Control for the Standalone Programmer - Part 1</a></em> or perhaps <em><a href=\"http://www.kenegozi.com/Blog/2007/07/30/merging-with-tortoisesvn.aspx\" rel=\"nofollow\">Merging with TortoiseSVN</a></em>.</p>\\n  \n",
       "85572                                                        <p>My easy click-by-click instructions (<strong>specific to TortoiseSVN</strong>) are in Stack&nbsp;Overflow question <em><a href=\"http://stackoverflow.com/questions/1461922\">What is the simplest way to do branching and merging using TortoiseSVN?</a></em>.</p>\\n  "
      ]
     },
     "execution_count": 66,
     "metadata": {},
     "output_type": "execute_result"
    }
   ],
   "source": [
    "answer_90"
   ]
  },
  {
   "cell_type": "markdown",
   "id": "577df47d",
   "metadata": {},
   "source": [
    "Видим, что вопросы могут содержать ссылки, прочтение содержания которых является ответом на вопрос"
   ]
  },
  {
   "cell_type": "markdown",
   "id": "89a18a7f",
   "metadata": {},
   "source": [
    "1) Код содержится внутри блоков __\\<code>__, а картинки __\\<img>__\n",
    "\n",
    "2) Множество __\\\\n__, которые нужно отчистить // __точно ли нужно?__\n",
    "\n",
    "3) Попробовать отчистить, оставив вопросы с ссылками без изменений, посмотреть на объём получившейся выборки"
   ]
  },
  {
   "cell_type": "markdown",
   "id": "c87596e0",
   "metadata": {},
   "source": [
    "### 2. Объядинить таблицы, отчистить от тегов code, img, и имеющие score"
   ]
  },
  {
   "cell_type": "code",
   "execution_count": 77,
   "id": "376546bc",
   "metadata": {},
   "outputs": [
    {
     "name": "stdout",
     "output_type": "stream",
     "text": [
      "A_Id, OwnerUserId, CreationDate, Id, A_Score, A_Body\n",
      "Id, OwnerUserId, CreationDate, ClosedDate, Q_Score, Q_Title, Q_Body\n"
     ]
    }
   ],
   "source": [
    "print(*answers.columns, sep=\", \")\n",
    "print(*questions.columns, sep=\", \")"
   ]
  },
  {
   "cell_type": "markdown",
   "id": "3c60eaa7",
   "metadata": {},
   "source": [
    "Мерджим таблицы"
   ]
  },
  {
   "cell_type": "code",
   "execution_count": 88,
   "id": "a2ae562e",
   "metadata": {},
   "outputs": [],
   "source": [
    "q_a_df = pd.merge(\n",
    "    questions[[\"Id\", \"Q_Score\", \"Q_Title\", \"Q_Body\"]],\n",
    "    answers[[\"Id\", \"A_Score\", \"A_Body\"]],\n",
    "    on=\"Id\",\n",
    "    how=\"left\",\n",
    ")"
   ]
  },
  {
   "cell_type": "code",
   "execution_count": 89,
   "id": "89a79dc7",
   "metadata": {},
   "outputs": [
    {
     "data": {
      "text/plain": [
       "2176164"
      ]
     },
     "execution_count": 89,
     "metadata": {},
     "output_type": "execute_result"
    }
   ],
   "source": [
    "len(q_a_df)"
   ]
  },
  {
   "cell_type": "markdown",
   "id": "4e696c4b",
   "metadata": {},
   "source": [
    "Отбираем нужный score для вопроса и ответов"
   ]
  },
  {
   "cell_type": "code",
   "execution_count": 144,
   "id": "eecb8407",
   "metadata": {},
   "outputs": [],
   "source": [
    "questions_score = 1\n",
    "answers_score = 1\n",
    "q_a_df.query(\n",
    "    f\"Q_Score >= {questions_score} and A_Score >= {answers_score}\", inplace=True\n",
    ")"
   ]
  },
  {
   "cell_type": "code",
   "execution_count": 145,
   "id": "123c55e1",
   "metadata": {},
   "outputs": [
    {
     "data": {
      "text/plain": [
       "789027"
      ]
     },
     "execution_count": 145,
     "metadata": {},
     "output_type": "execute_result"
    }
   ],
   "source": [
    "len(q_a_df)"
   ]
  },
  {
   "cell_type": "markdown",
   "id": "22bd1fe6",
   "metadata": {},
   "source": [
    "### 3. Очистим от HTML разметки и посмотрим распределение длин"
   ]
  },
  {
   "cell_type": "markdown",
   "id": "afac654a",
   "metadata": {},
   "source": [
    "Отберем ответы и вопросы, где нет тегов _\\<code>_ и _\\<img>_"
   ]
  },
  {
   "cell_type": "code",
   "execution_count": 168,
   "id": "bdfe61a4",
   "metadata": {},
   "outputs": [
    {
     "name": "stdout",
     "output_type": "stream",
     "text": [
      "Id, Q_Score, Q_Title, Q_Body, A_Score, A_Body\n"
     ]
    }
   ],
   "source": [
    "print(*q_a_df.columns, sep=\", \")"
   ]
  },
  {
   "cell_type": "code",
   "execution_count": 173,
   "id": "d582b017",
   "metadata": {},
   "outputs": [],
   "source": [
    "q_a_df = q_a_df[~q_a_df[\"A_Body\"].str.contains(\"code\")]\n",
    "q_a_df = q_a_df[~q_a_df[\"A_Body\"].str.contains(\"img\")]\n",
    "q_a_df = q_a_df[~q_a_df[\"Q_Body\"].str.contains(\"img\")]\n",
    "q_a_df = q_a_df[~q_a_df[\"Q_Body\"].str.contains(\"code\")]"
   ]
  },
  {
   "cell_type": "code",
   "execution_count": 177,
   "id": "7aac2078",
   "metadata": {},
   "outputs": [
    {
     "data": {
      "text/plain": [
       "76988"
      ]
     },
     "execution_count": 177,
     "metadata": {},
     "output_type": "execute_result"
    }
   ],
   "source": [
    "len(q_a_df)"
   ]
  },
  {
   "cell_type": "markdown",
   "id": "0d290ec0",
   "metadata": {},
   "source": [
    "Преобразуем Title, Q_Body и A_Body в текст"
   ]
  },
  {
   "cell_type": "code",
   "execution_count": 180,
   "id": "69ffa05a",
   "metadata": {},
   "outputs": [
    {
     "name": "stderr",
     "output_type": "stream",
     "text": [
      "C:\\ProgramData\\Anaconda3\\envs\\venv\\lib\\site-packages\\bs4\\__init__.py:435: MarkupResemblesLocatorWarning: The input looks more like a filename than markup. You may want to open this file and pass the filehandle into Beautiful Soup.\n",
      "  warnings.warn(\n",
      "C:\\ProgramData\\Anaconda3\\envs\\venv\\lib\\site-packages\\bs4\\builder\\__init__.py:545: XMLParsedAsHTMLWarning: It looks like you're parsing an XML document using an HTML parser. If this really is an HTML document (maybe it's XHTML?), you can ignore or filter this warning. If it's XML, you should know that using an XML parser will be more reliable. To parse this document as XML, make sure you have the lxml package installed, and pass the keyword argument `features=\"xml\"` into the BeautifulSoup constructor.\n",
      "  warnings.warn(\n"
     ]
    }
   ],
   "source": [
    "q_a_df[\"Q_Body\"] = q_a_df[\"Q_Body\"].apply(lambda x: BeautifulSoup(x).get_text())\n",
    "q_a_df[\"Q_Title\"] = q_a_df[\"Q_Title\"].apply(lambda x: BeautifulSoup(x).get_text())\n",
    "q_a_df[\"A_Body\"] = q_a_df[\"A_Body\"].apply(lambda x: BeautifulSoup(x).get_text())"
   ]
  },
  {
   "cell_type": "markdown",
   "id": "9f07783c",
   "metadata": {},
   "source": [
    "Посмотрим на рапсределение длин вопросов и ответов"
   ]
  },
  {
   "cell_type": "code",
   "execution_count": 188,
   "id": "ae82503f",
   "metadata": {},
   "outputs": [],
   "source": [
    "q_a_df[\"Q_BodyLen\"] = q_a_df[\"Q_Body\"].apply(lambda x: len(x))\n",
    "q_a_df[\"A_BodyLen\"] = q_a_df[\"A_Body\"].apply(lambda x: len(x))"
   ]
  },
  {
   "cell_type": "code",
   "execution_count": 198,
   "id": "d37076a0",
   "metadata": {},
   "outputs": [
    {
     "name": "stdout",
     "output_type": "stream",
     "text": [
      "Максимальная длина вопроса 25766\n",
      "Средняя длина вопроса 495.1229931937445\n"
     ]
    },
    {
     "data": {
      "image/png": "[encoded data removed]",
      "text/plain": [
       "<Figure size 640x480 with 1 Axes>"
      ]
     },
     "metadata": {},
     "output_type": "display_data"
    }
   ],
   "source": [
    "plt.hist(q_a_df[\"Q_BodyLen\"])\n",
    "print(\"Максимальная длина вопроса \" + str(q_a_df[\"Q_BodyLen\"].max()))\n",
    "print(\"Средняя длина вопроса \" + str(q_a_df[\"Q_BodyLen\"].mean()))"
   ]
  },
  {
   "cell_type": "code",
   "execution_count": 197,
   "id": "d1c774be",
   "metadata": {},
   "outputs": [
    {
     "name": "stdout",
     "output_type": "stream",
     "text": [
      "Максимальная длина ответа 17487\n",
      "Средняя длина ответа 427.57760949758404\n"
     ]
    },
    {
     "data": {
      "image/png": "[encoded data removed]",
      "text/plain": [
       "<Figure size 640x480 with 1 Axes>"
      ]
     },
     "metadata": {},
     "output_type": "display_data"
    }
   ],
   "source": [
    "plt.hist(q_a_df[\"A_BodyLen\"])\n",
    "print(\"Максимальная длина ответа \" + str(q_a_df[\"A_BodyLen\"].max()))\n",
    "print(\"Средняя длина ответа \" + str(q_a_df[\"A_BodyLen\"].mean()))"
   ]
  },
  {
   "cell_type": "code",
   "execution_count": 201,
   "id": "f9b30cd7",
   "metadata": {},
   "outputs": [
    {
     "data": {
      "text/html": [
       "<div>\n",
       "<style scoped>\n",
       "    .dataframe tbody tr th:only-of-type {\n",
       "        vertical-align: middle;\n",
       "    }\n",
       "\n",
       "    .dataframe tbody tr th {\n",
       "        vertical-align: top;\n",
       "    }\n",
       "\n",
       "    .dataframe thead th {\n",
       "        text-align: right;\n",
       "    }\n",
       "</style>\n",
       "<table border=\"1\" class=\"dataframe\">\n",
       "  <thead>\n",
       "    <tr style=\"text-align: right;\">\n",
       "      <th></th>\n",
       "      <th>Id</th>\n",
       "      <th>Q_Score</th>\n",
       "      <th>Q_Title</th>\n",
       "      <th>Q_Body</th>\n",
       "      <th>A_Score</th>\n",
       "      <th>A_Body</th>\n",
       "      <th>Q_BodyLen</th>\n",
       "      <th>A_BodyLen</th>\n",
       "    </tr>\n",
       "  </thead>\n",
       "  <tbody>\n",
       "    <tr>\n",
       "      <th>3</th>\n",
       "      <td>90</td>\n",
       "      <td>144</td>\n",
       "      <td>Good branching and merging tutorials for TortoiseSVN?</td>\n",
       "      <td>Are there any really good tutorials explaining branching and merging with Apache Subversion? \\nAll the better if it's specific to TortoiseSVN client.\\n</td>\n",
       "      <td>13.0</td>\n",
       "      <td>Version Control with Subversion\\nA very good resource for source control in general. Not really TortoiseSVN specific, though.</td>\n",
       "      <td>149</td>\n",
       "      <td>124</td>\n",
       "    </tr>\n",
       "    <tr>\n",
       "      <th>5</th>\n",
       "      <td>90</td>\n",
       "      <td>144</td>\n",
       "      <td>Good branching and merging tutorials for TortoiseSVN?</td>\n",
       "      <td>Are there any really good tutorials explaining branching and merging with Apache Subversion? \\nAll the better if it's specific to TortoiseSVN client.\\n</td>\n",
       "      <td>19.0</td>\n",
       "      <td>My easy click-by-click instructions (specific to TortoiseSVN) are in Stack Overflow question What is the simplest way to do branching and merging using TortoiseSVN?.\\n</td>\n",
       "      <td>149</td>\n",
       "      <td>166</td>\n",
       "    </tr>\n",
       "  </tbody>\n",
       "</table>\n",
       "</div>"
      ],
      "text/plain": [
       "   Id  Q_Score                                                Q_Title  \\\n",
       "3  90      144  Good branching and merging tutorials for TortoiseSVN?   \n",
       "5  90      144  Good branching and merging tutorials for TortoiseSVN?   \n",
       "\n",
       "                                                                                                                                                    Q_Body  \\\n",
       "3  Are there any really good tutorials explaining branching and merging with Apache Subversion? \\nAll the better if it's specific to TortoiseSVN client.\\n   \n",
       "5  Are there any really good tutorials explaining branching and merging with Apache Subversion? \\nAll the better if it's specific to TortoiseSVN client.\\n   \n",
       "\n",
       "   A_Score  \\\n",
       "3     13.0   \n",
       "5     19.0   \n",
       "\n",
       "                                                                                                                                                                    A_Body  \\\n",
       "3                                            Version Control with Subversion\\nA very good resource for source control in general. Not really TortoiseSVN specific, though.   \n",
       "5  My easy click-by-click instructions (specific to TortoiseSVN) are in Stack Overflow question What is the simplest way to do branching and merging using TortoiseSVN?.\\n   \n",
       "\n",
       "   Q_BodyLen  A_BodyLen  \n",
       "3        149        124  \n",
       "5        149        166  "
      ]
     },
     "execution_count": 201,
     "metadata": {},
     "output_type": "execute_result"
    }
   ],
   "source": [
    "q_a_df.head(2)"
   ]
  },
  {
   "cell_type": "markdown",
   "id": "52972a32",
   "metadata": {},
   "source": [
    "### Разделить полученные результаты на тренировочную, валидационную и тестовую выборки."
   ]
  },
  {
   "cell_type": "code",
   "execution_count": 204,
   "id": "1a1f95fe",
   "metadata": {},
   "outputs": [],
   "source": [
    "ready_df = q_a_df.copy()\n",
    "ready_df.drop(columns=[\"Q_BodyLen\", \"A_BodyLen\"], inplace=True)"
   ]
  },
  {
   "cell_type": "code",
   "execution_count": 207,
   "id": "fa537639",
   "metadata": {},
   "outputs": [
    {
     "data": {
      "text/plain": [
       "76988"
      ]
     },
     "execution_count": 207,
     "metadata": {},
     "output_type": "execute_result"
    }
   ],
   "source": [
    "len(ready_df)"
   ]
  },
  {
   "cell_type": "code",
   "execution_count": 205,
   "id": "b4720189",
   "metadata": {},
   "outputs": [],
   "source": [
    "train, validate, test = np.split(\n",
    "    ready_df.sample(frac=1, random_state=42),\n",
    "    [int(0.65 * len(ready_df)), int(0.8 * len(ready_df))],\n",
    ")"
   ]
  },
  {
   "cell_type": "code",
   "execution_count": 215,
   "id": "205dd711",
   "metadata": {},
   "outputs": [],
   "source": [
    "train.to_csv(\"../data/train.csv\", sep=\"\\t\", index=False)\n",
    "validate.to_csv(\"../data/val.csv\", sep=\"\\t\", index=False)\n",
    "test.to_csv(\"../data/test.csv\", sep=\"\\t\", index=False)"
   ]
  }
 ],
 "metadata": {
  "kernelspec": {
   "display_name": "Python [conda env:venv]",
   "language": "python",
   "name": "conda-env-venv-py"
  },
  "language_info": {
   "codemirror_mode": {
    "name": "ipython",
    "version": 3
   },
   "file_extension": ".py",
   "mimetype": "text/x-python",
   "name": "python",
   "nbconvert_exporter": "python",
   "pygments_lexer": "ipython3",
   "version": "3.10.6"
  }
 },
 "nbformat": 4,
 "nbformat_minor": 5
}
