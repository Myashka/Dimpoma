{
 "cells": [
  {
   "cell_type": "markdown",
   "id": "3231a109",
   "metadata": {},
   "source": [
    "Вопросы:\n",
    "1) Что делать с ссылками \\ __Исключим пока вопросы с ссылкаим__\n",
    "\n",
    "2) Нужно ли чистить вопросы от кода \\ __Вопросы с \\<pre> \\<code> надо отсеить__\n",
    "\n",
    "3) Что делать с разной длиной \\ __Для начала попробовать на всех__\n",
    "\n",
    "4) Как использовать Tag \\ __Взять определенный tag и попробовать с ним__\n",
    "\n",
    "5) Идея кластеризации для обучения "
   ]
  },
  {
   "cell_type": "code",
   "execution_count": 1,
   "id": "cc1f4411",
   "metadata": {},
   "outputs": [],
   "source": [
    "import pickle\n",
    "\n",
    "import matplotlib.pyplot as plt\n",
    "import numpy as np\n",
    "import pandas as pd\n",
    "from bs4 import BeautifulSoup"
   ]
  },
  {
   "cell_type": "code",
   "execution_count": 2,
   "id": "98cc06b7",
   "metadata": {},
   "outputs": [],
   "source": [
    "data_path = \"../../data/raw/StackSample/\""
   ]
  },
  {
   "cell_type": "code",
   "execution_count": 3,
   "id": "6c70a8d6",
   "metadata": {},
   "outputs": [],
   "source": [
    "pd.set_option(\"display.max_colwidth\", None)"
   ]
  },
  {
   "cell_type": "markdown",
   "id": "de22ece6",
   "metadata": {},
   "source": [
    "# Прочитаем данные"
   ]
  },
  {
   "cell_type": "code",
   "execution_count": 3,
   "id": "a1c9f06d",
   "metadata": {},
   "outputs": [],
   "source": [
    "with open(f\"../../data/raw/answers.p\", \"rb\") as f:\n",
    "    answers = pickle.load(f)\n",
    "\n",
    "with open(f\"../../data/raw/questions.p\", \"rb\") as f:\n",
    "    questions = pickle.load(f)\n",
    "\n",
    "with open(f\"../../data/raw/tags.p\", \"rb\") as f:\n",
    "    tags = pickle.load(f)"
   ]
  },
  {
   "cell_type": "code",
   "execution_count": 4,
   "id": "adaec5be",
   "metadata": {},
   "outputs": [
    {
     "data": {
      "text/plain": [
       "3750994"
      ]
     },
     "execution_count": 4,
     "metadata": {},
     "output_type": "execute_result"
    }
   ],
   "source": [
    "len(tags)"
   ]
  },
  {
   "cell_type": "code",
   "execution_count": 6,
   "id": "294ad43f",
   "metadata": {},
   "outputs": [],
   "source": [
    "questions.rename(\n",
    "    columns={\"Body\": \"Q_Body\", \"Score\": \"Q_Score\", \"Title\": \"Q_Title\"}, inplace=True\n",
    ")\n",
    "answers.rename(\n",
    "    columns={\"Body\": \"A_Body\", \"Score\": \"A_Score\", \"Id\": \"A_Id\", \"ParentId\": \"Id\"},\n",
    "    inplace=True,\n",
    ")"
   ]
  },
  {
   "cell_type": "code",
   "execution_count": 7,
   "id": "512d64ad",
   "metadata": {},
   "outputs": [
    {
     "data": {
      "text/html": [
       "<div>\n",
       "<style scoped>\n",
       "    .dataframe tbody tr th:only-of-type {\n",
       "        vertical-align: middle;\n",
       "    }\n",
       "\n",
       "    .dataframe tbody tr th {\n",
       "        vertical-align: top;\n",
       "    }\n",
       "\n",
       "    .dataframe thead th {\n",
       "        text-align: right;\n",
       "    }\n",
       "</style>\n",
       "<table border=\"1\" class=\"dataframe\">\n",
       "  <thead>\n",
       "    <tr style=\"text-align: right;\">\n",
       "      <th></th>\n",
       "      <th>Id</th>\n",
       "      <th>OwnerUserId</th>\n",
       "      <th>CreationDate</th>\n",
       "      <th>ParentId</th>\n",
       "      <th>Q_Score</th>\n",
       "      <th>Q_Body</th>\n",
       "    </tr>\n",
       "  </thead>\n",
       "  <tbody>\n",
       "    <tr>\n",
       "      <th>0</th>\n",
       "      <td>92</td>\n",
       "      <td>61.0</td>\n",
       "      <td>2008-08-01T14:45:37Z</td>\n",
       "      <td>90</td>\n",
       "      <td>13</td>\n",
       "      <td>&lt;p&gt;&lt;a href=\"http://svnbook.red-bean.com/\"&gt;Version Control with Subversion&lt;/a&gt;&lt;/p&gt;\\r\\n\\r\\n&lt;p&gt;A very good resource for source control in general. Not really TortoiseSVN specific, though.&lt;/p&gt;</td>\n",
       "    </tr>\n",
       "  </tbody>\n",
       "</table>\n",
       "</div>"
      ],
      "text/plain": [
       "   Id  OwnerUserId          CreationDate  ParentId  Q_Score  \\\n",
       "0  92         61.0  2008-08-01T14:45:37Z        90       13   \n",
       "\n",
       "                                                                                                                                                                                         Q_Body  \n",
       "0  <p><a href=\"http://svnbook.red-bean.com/\">Version Control with Subversion</a></p>\\r\\n\\r\\n<p>A very good resource for source control in general. Not really TortoiseSVN specific, though.</p>  "
      ]
     },
     "execution_count": 7,
     "metadata": {},
     "output_type": "execute_result"
    }
   ],
   "source": [
    "questions.head(1)"
   ]
  },
  {
   "cell_type": "code",
   "execution_count": 8,
   "id": "c89f32df",
   "metadata": {},
   "outputs": [
    {
     "data": {
      "text/html": [
       "<div>\n",
       "<style scoped>\n",
       "    .dataframe tbody tr th:only-of-type {\n",
       "        vertical-align: middle;\n",
       "    }\n",
       "\n",
       "    .dataframe tbody tr th {\n",
       "        vertical-align: top;\n",
       "    }\n",
       "\n",
       "    .dataframe thead th {\n",
       "        text-align: right;\n",
       "    }\n",
       "</style>\n",
       "<table border=\"1\" class=\"dataframe\">\n",
       "  <thead>\n",
       "    <tr style=\"text-align: right;\">\n",
       "      <th></th>\n",
       "      <th>A_Id</th>\n",
       "      <th>OwnerUserId</th>\n",
       "      <th>CreationDate</th>\n",
       "      <th>ClosedDate</th>\n",
       "      <th>A_Score</th>\n",
       "      <th>Title</th>\n",
       "      <th>A_Body</th>\n",
       "    </tr>\n",
       "  </thead>\n",
       "  <tbody>\n",
       "    <tr>\n",
       "      <th>0</th>\n",
       "      <td>80</td>\n",
       "      <td>26.0</td>\n",
       "      <td>2008-08-01T13:57:07Z</td>\n",
       "      <td>NaN</td>\n",
       "      <td>26</td>\n",
       "      <td>SQLStatement.execute() - multiple queries in one statement</td>\n",
       "      <td>&lt;p&gt;I've written a database generation script in &lt;a href=\"http://en.wikipedia.org/wiki/SQL\"&gt;SQL&lt;/a&gt; and want to execute it in my &lt;a href=\"http://en.wikipedia.org/wiki/Adobe_Integrated_Runtime\"&gt;Adobe AIR&lt;/a&gt; application:&lt;/p&gt;\\n\\n&lt;pre&gt;&lt;code&gt;Create Table tRole (\\n      roleID integer Primary Key\\n      ,roleName varchar(40)\\n);\\nCreate Table tFile (\\n    fileID integer Primary Key\\n    ,fileName varchar(50)\\n    ,fileDescription varchar(500)\\n    ,thumbnailID integer\\n    ,fileFormatID integer\\n    ,categoryID integer\\n    ,isFavorite boolean\\n    ,dateAdded date\\n    ,globalAccessCount integer\\n    ,lastAccessTime date\\n    ,downloadComplete boolean\\n    ,isNew boolean\\n    ,isSpotlight boolean\\n    ,duration varchar(30)\\n);\\nCreate Table tCategory (\\n    categoryID integer Primary Key\\n    ,categoryName varchar(50)\\n    ,parent_categoryID integer\\n);\\n...\\n&lt;/code&gt;&lt;/pre&gt;\\n\\n&lt;p&gt;I execute this in Adobe AIR using the following methods:&lt;/p&gt;\\n\\n&lt;pre&gt;&lt;code&gt;public static function RunSqlFromFile(fileName:String):void {\\n    var file:File = File.applicationDirectory.resolvePath(fileName);\\n    var stream:FileStream = new FileStream();\\n    stream.open(file, FileMode.READ)\\n    var strSql:String = stream.readUTFBytes(stream.bytesAvailable);\\n    NonQuery(strSql);\\n}\\n\\npublic static function NonQuery(strSQL:String):void\\n{\\n    var sqlConnection:SQLConnection = new SQLConnection();\\n    sqlConnection.open(File.applicationStorageDirectory.resolvePath(DBPATH);\\n    var sqlStatement:SQLStatement = new SQLStatement();\\n    sqlStatement.text = strSQL;\\n    sqlStatement.sqlConnection = sqlConnection;\\n    try\\n    {\\n        sqlStatement.execute();\\n    }\\n    catch (error:SQLError)\\n    {\\n        Alert.show(error.toString());\\n    }\\n}\\n&lt;/code&gt;&lt;/pre&gt;\\n\\n&lt;p&gt;No errors are generated, however only &lt;code&gt;tRole&lt;/code&gt; exists. It seems that it only looks at the first query (up to the semicolon- if I remove it, the query fails). Is there a way to call multiple queries in one statement?&lt;/p&gt;\\n</td>\n",
       "    </tr>\n",
       "  </tbody>\n",
       "</table>\n",
       "</div>"
      ],
      "text/plain": [
       "   A_Id  OwnerUserId          CreationDate ClosedDate  A_Score  \\\n",
       "0    80         26.0  2008-08-01T13:57:07Z        NaN       26   \n",
       "\n",
       "                                                        Title  \\\n",
       "0  SQLStatement.execute() - multiple queries in one statement   \n",
       "\n",
       "                                                                                                                                                                                                                                                                                                                                                                                                                                                                                                                                                                                                                                                                                                                                                                                                                                                                                                                                                                                                                                                                                                                                                                                                                                                                                                                                                                                                                                                                                                                                                                                                                                                                                                                                                                                                                                                                                                                                                                                                                                                                             A_Body  \n",
       "0  <p>I've written a database generation script in <a href=\"http://en.wikipedia.org/wiki/SQL\">SQL</a> and want to execute it in my <a href=\"http://en.wikipedia.org/wiki/Adobe_Integrated_Runtime\">Adobe AIR</a> application:</p>\\n\\n<pre><code>Create Table tRole (\\n      roleID integer Primary Key\\n      ,roleName varchar(40)\\n);\\nCreate Table tFile (\\n    fileID integer Primary Key\\n    ,fileName varchar(50)\\n    ,fileDescription varchar(500)\\n    ,thumbnailID integer\\n    ,fileFormatID integer\\n    ,categoryID integer\\n    ,isFavorite boolean\\n    ,dateAdded date\\n    ,globalAccessCount integer\\n    ,lastAccessTime date\\n    ,downloadComplete boolean\\n    ,isNew boolean\\n    ,isSpotlight boolean\\n    ,duration varchar(30)\\n);\\nCreate Table tCategory (\\n    categoryID integer Primary Key\\n    ,categoryName varchar(50)\\n    ,parent_categoryID integer\\n);\\n...\\n</code></pre>\\n\\n<p>I execute this in Adobe AIR using the following methods:</p>\\n\\n<pre><code>public static function RunSqlFromFile(fileName:String):void {\\n    var file:File = File.applicationDirectory.resolvePath(fileName);\\n    var stream:FileStream = new FileStream();\\n    stream.open(file, FileMode.READ)\\n    var strSql:String = stream.readUTFBytes(stream.bytesAvailable);\\n    NonQuery(strSql);\\n}\\n\\npublic static function NonQuery(strSQL:String):void\\n{\\n    var sqlConnection:SQLConnection = new SQLConnection();\\n    sqlConnection.open(File.applicationStorageDirectory.resolvePath(DBPATH);\\n    var sqlStatement:SQLStatement = new SQLStatement();\\n    sqlStatement.text = strSQL;\\n    sqlStatement.sqlConnection = sqlConnection;\\n    try\\n    {\\n        sqlStatement.execute();\\n    }\\n    catch (error:SQLError)\\n    {\\n        Alert.show(error.toString());\\n    }\\n}\\n</code></pre>\\n\\n<p>No errors are generated, however only <code>tRole</code> exists. It seems that it only looks at the first query (up to the semicolon- if I remove it, the query fails). Is there a way to call multiple queries in one statement?</p>\\n  "
      ]
     },
     "execution_count": 8,
     "metadata": {},
     "output_type": "execute_result"
    }
   ],
   "source": [
    "answers.head(1)"
   ]
  },
  {
   "cell_type": "markdown",
   "id": "2e2e9a2b",
   "metadata": {},
   "source": [
    "# TODO\n",
    "1) Проверить количество questions имеющих несколько answers // __Одному вопросу может соответствовать более одного ответа__\n",
    "\n",
    "2) Понять как отбирать ответы // __Попрообовать отбирать вопросы и ответы, у которых score больше 5__\n",
    "\n",
    "3) Отчистить Body questions и answers от html разметки"
   ]
  },
  {
   "cell_type": "markdown",
   "id": "a2feb651",
   "metadata": {},
   "source": [
    "### 1. Точно ли на каждый вопрос имеется один ответ или их больше?\n",
    "Нужно сопоставить __Id__ из answers и __Id__ из questions"
   ]
  },
  {
   "cell_type": "code",
   "execution_count": 5,
   "id": "209a8f61",
   "metadata": {},
   "outputs": [
    {
     "data": {
      "text/plain": [
       "92          1\n",
       "124         1\n",
       "199         1\n",
       "269         1\n",
       "307         1\n",
       "           ..\n",
       "40143247    1\n",
       "40143322    1\n",
       "40143336    1\n",
       "40143349    1\n",
       "40143389    1\n",
       "Name: Id, Length: 2014516, dtype: int64"
      ]
     },
     "execution_count": 5,
     "metadata": {},
     "output_type": "execute_result"
    }
   ],
   "source": [
    "answers[\"Id\"].value_counts(sort=False)"
   ]
  },
  {
   "cell_type": "markdown",
   "id": "fdb95cd4",
   "metadata": {},
   "source": [
    "Рассмотрим конкретный пример, вопрос с Id = 90"
   ]
  },
  {
   "cell_type": "code",
   "execution_count": 16,
   "id": "a78a3f5c",
   "metadata": {},
   "outputs": [],
   "source": [
    "question_90 = questions.loc[questions.Id == 90]"
   ]
  },
  {
   "cell_type": "code",
   "execution_count": 17,
   "id": "6baf1240",
   "metadata": {},
   "outputs": [],
   "source": [
    "answer_90 = answers.loc[answers.A_Id == 90]"
   ]
  },
  {
   "cell_type": "code",
   "execution_count": 18,
   "id": "d0198d91",
   "metadata": {},
   "outputs": [
    {
     "data": {
      "text/plain": [
       "Series([], Name: Q_Body, dtype: object)"
      ]
     },
     "execution_count": 18,
     "metadata": {},
     "output_type": "execute_result"
    }
   ],
   "source": [
    "question_90.Q_Body"
   ]
  },
  {
   "cell_type": "code",
   "execution_count": 19,
   "id": "9f0045c0",
   "metadata": {},
   "outputs": [
    {
     "data": {
      "text/html": [
       "<div>\n",
       "<style scoped>\n",
       "    .dataframe tbody tr th:only-of-type {\n",
       "        vertical-align: middle;\n",
       "    }\n",
       "\n",
       "    .dataframe tbody tr th {\n",
       "        vertical-align: top;\n",
       "    }\n",
       "\n",
       "    .dataframe thead th {\n",
       "        text-align: right;\n",
       "    }\n",
       "</style>\n",
       "<table border=\"1\" class=\"dataframe\">\n",
       "  <thead>\n",
       "    <tr style=\"text-align: right;\">\n",
       "      <th></th>\n",
       "      <th>A_Id</th>\n",
       "      <th>OwnerUserId</th>\n",
       "      <th>CreationDate</th>\n",
       "      <th>ClosedDate</th>\n",
       "      <th>A_Score</th>\n",
       "      <th>Title</th>\n",
       "      <th>A_Body</th>\n",
       "    </tr>\n",
       "  </thead>\n",
       "  <tbody>\n",
       "    <tr>\n",
       "      <th>1</th>\n",
       "      <td>90</td>\n",
       "      <td>58.0</td>\n",
       "      <td>2008-08-01T14:41:24Z</td>\n",
       "      <td>2012-12-26T03:45:49Z</td>\n",
       "      <td>144</td>\n",
       "      <td>Good branching and merging tutorials for Torto...</td>\n",
       "      <td>&lt;p&gt;Are there any really good tutorials explain...</td>\n",
       "    </tr>\n",
       "  </tbody>\n",
       "</table>\n",
       "</div>"
      ],
      "text/plain": [
       "   A_Id  OwnerUserId          CreationDate            ClosedDate  A_Score  \\\n",
       "1    90         58.0  2008-08-01T14:41:24Z  2012-12-26T03:45:49Z      144   \n",
       "\n",
       "                                               Title  \\\n",
       "1  Good branching and merging tutorials for Torto...   \n",
       "\n",
       "                                              A_Body  \n",
       "1  <p>Are there any really good tutorials explain...  "
      ]
     },
     "execution_count": 19,
     "metadata": {},
     "output_type": "execute_result"
    }
   ],
   "source": [
    "answer_90"
   ]
  },
  {
   "cell_type": "markdown",
   "id": "577df47d",
   "metadata": {},
   "source": [
    "Видим, что вопросы могут содержать ссылки, прочтение содержания которых является ответом на вопрос"
   ]
  },
  {
   "cell_type": "markdown",
   "id": "89a18a7f",
   "metadata": {},
   "source": [
    "1) Код содержится внутри блоков __\\<code>__, а картинки __\\<img>__\n",
    "\n",
    "2) Множество __\\\\n__, которые нужно отчистить // __точно ли нужно?__\n",
    "\n",
    "3) Попробовать отчистить, оставив вопросы с ссылками без изменений, посмотреть на объём получившейся выборки"
   ]
  },
  {
   "cell_type": "markdown",
   "id": "c87596e0",
   "metadata": {},
   "source": [
    "### 2. Объядинить таблицы, отчистить от тегов code, img, и имеющие score"
   ]
  },
  {
   "cell_type": "code",
   "execution_count": 20,
   "id": "376546bc",
   "metadata": {},
   "outputs": [
    {
     "name": "stdout",
     "output_type": "stream",
     "text": [
      "A_Id, OwnerUserId, CreationDate, ClosedDate, A_Score, Title, A_Body\n",
      "Id, OwnerUserId, CreationDate, ParentId, Q_Score, Q_Body\n"
     ]
    }
   ],
   "source": [
    "print(*answers.columns, sep=\", \")\n",
    "print(*questions.columns, sep=\", \")"
   ]
  },
  {
   "cell_type": "markdown",
   "id": "3c60eaa7",
   "metadata": {},
   "source": [
    "Мерджим таблицы"
   ]
  },
  {
   "cell_type": "code",
   "execution_count": 21,
   "id": "a2ae562e",
   "metadata": {},
   "outputs": [
    {
     "ename": "KeyError",
     "evalue": "\"['Q_Title'] not in index\"",
     "output_type": "error",
     "traceback": [
      "\u001b[1;31m---------------------------------------------------------------------------\u001b[0m",
      "\u001b[1;31mKeyError\u001b[0m                                  Traceback (most recent call last)",
      "Cell \u001b[1;32mIn [21], line 2\u001b[0m\n\u001b[0;32m      1\u001b[0m q_a_df \u001b[38;5;241m=\u001b[39m pd\u001b[38;5;241m.\u001b[39mmerge(\n\u001b[1;32m----> 2\u001b[0m     \u001b[43mquestions\u001b[49m\u001b[43m[\u001b[49m\u001b[43m[\u001b[49m\u001b[38;5;124;43m\"\u001b[39;49m\u001b[38;5;124;43mId\u001b[39;49m\u001b[38;5;124;43m\"\u001b[39;49m\u001b[43m,\u001b[49m\u001b[43m \u001b[49m\u001b[38;5;124;43m\"\u001b[39;49m\u001b[38;5;124;43mQ_Score\u001b[39;49m\u001b[38;5;124;43m\"\u001b[39;49m\u001b[43m,\u001b[49m\u001b[43m \u001b[49m\u001b[38;5;124;43m\"\u001b[39;49m\u001b[38;5;124;43mQ_Title\u001b[39;49m\u001b[38;5;124;43m\"\u001b[39;49m\u001b[43m,\u001b[49m\u001b[43m \u001b[49m\u001b[38;5;124;43m\"\u001b[39;49m\u001b[38;5;124;43mQ_Body\u001b[39;49m\u001b[38;5;124;43m\"\u001b[39;49m\u001b[43m]\u001b[49m\u001b[43m]\u001b[49m,\n\u001b[0;32m      3\u001b[0m     answers[[\u001b[38;5;124m\"\u001b[39m\u001b[38;5;124mId\u001b[39m\u001b[38;5;124m\"\u001b[39m, \u001b[38;5;124m\"\u001b[39m\u001b[38;5;124mA_Score\u001b[39m\u001b[38;5;124m\"\u001b[39m, \u001b[38;5;124m\"\u001b[39m\u001b[38;5;124mA_Body\u001b[39m\u001b[38;5;124m\"\u001b[39m]],\n\u001b[0;32m      4\u001b[0m     on\u001b[38;5;241m=\u001b[39m\u001b[38;5;124m\"\u001b[39m\u001b[38;5;124mId\u001b[39m\u001b[38;5;124m\"\u001b[39m,\n\u001b[0;32m      5\u001b[0m     how\u001b[38;5;241m=\u001b[39m\u001b[38;5;124m\"\u001b[39m\u001b[38;5;124mleft\u001b[39m\u001b[38;5;124m\"\u001b[39m,\n\u001b[0;32m      6\u001b[0m )\n\u001b[0;32m      7\u001b[0m q_a_df \u001b[38;5;241m=\u001b[39m pd\u001b[38;5;241m.\u001b[39mmerge(\n\u001b[0;32m      8\u001b[0m     q_a_df,\n\u001b[0;32m      9\u001b[0m     tags[[\u001b[38;5;124m\"\u001b[39m\u001b[38;5;124mId\u001b[39m\u001b[38;5;124m\"\u001b[39m, \u001b[38;5;124m\"\u001b[39m\u001b[38;5;124mTag\u001b[39m\u001b[38;5;124m\"\u001b[39m]],\n\u001b[0;32m     10\u001b[0m     on\u001b[38;5;241m=\u001b[39m\u001b[38;5;124m\"\u001b[39m\u001b[38;5;124mId\u001b[39m\u001b[38;5;124m\"\u001b[39m,\n\u001b[0;32m     11\u001b[0m     how\u001b[38;5;241m=\u001b[39m\u001b[38;5;124m\"\u001b[39m\u001b[38;5;124mleft\u001b[39m\u001b[38;5;124m\"\u001b[39m,\n\u001b[0;32m     12\u001b[0m )\n",
      "File \u001b[1;32mC:\\ProgramData\\Anaconda3\\envs\\venv\\lib\\site-packages\\pandas\\core\\frame.py:3511\u001b[0m, in \u001b[0;36mDataFrame.__getitem__\u001b[1;34m(self, key)\u001b[0m\n\u001b[0;32m   3509\u001b[0m     \u001b[38;5;28;01mif\u001b[39;00m is_iterator(key):\n\u001b[0;32m   3510\u001b[0m         key \u001b[38;5;241m=\u001b[39m \u001b[38;5;28mlist\u001b[39m(key)\n\u001b[1;32m-> 3511\u001b[0m     indexer \u001b[38;5;241m=\u001b[39m \u001b[38;5;28;43mself\u001b[39;49m\u001b[38;5;241;43m.\u001b[39;49m\u001b[43mcolumns\u001b[49m\u001b[38;5;241;43m.\u001b[39;49m\u001b[43m_get_indexer_strict\u001b[49m\u001b[43m(\u001b[49m\u001b[43mkey\u001b[49m\u001b[43m,\u001b[49m\u001b[43m \u001b[49m\u001b[38;5;124;43m\"\u001b[39;49m\u001b[38;5;124;43mcolumns\u001b[39;49m\u001b[38;5;124;43m\"\u001b[39;49m\u001b[43m)\u001b[49m[\u001b[38;5;241m1\u001b[39m]\n\u001b[0;32m   3513\u001b[0m \u001b[38;5;66;03m# take() does not accept boolean indexers\u001b[39;00m\n\u001b[0;32m   3514\u001b[0m \u001b[38;5;28;01mif\u001b[39;00m \u001b[38;5;28mgetattr\u001b[39m(indexer, \u001b[38;5;124m\"\u001b[39m\u001b[38;5;124mdtype\u001b[39m\u001b[38;5;124m\"\u001b[39m, \u001b[38;5;28;01mNone\u001b[39;00m) \u001b[38;5;241m==\u001b[39m \u001b[38;5;28mbool\u001b[39m:\n",
      "File \u001b[1;32mC:\\ProgramData\\Anaconda3\\envs\\venv\\lib\\site-packages\\pandas\\core\\indexes\\base.py:5782\u001b[0m, in \u001b[0;36mIndex._get_indexer_strict\u001b[1;34m(self, key, axis_name)\u001b[0m\n\u001b[0;32m   5779\u001b[0m \u001b[38;5;28;01melse\u001b[39;00m:\n\u001b[0;32m   5780\u001b[0m     keyarr, indexer, new_indexer \u001b[38;5;241m=\u001b[39m \u001b[38;5;28mself\u001b[39m\u001b[38;5;241m.\u001b[39m_reindex_non_unique(keyarr)\n\u001b[1;32m-> 5782\u001b[0m \u001b[38;5;28;43mself\u001b[39;49m\u001b[38;5;241;43m.\u001b[39;49m\u001b[43m_raise_if_missing\u001b[49m\u001b[43m(\u001b[49m\u001b[43mkeyarr\u001b[49m\u001b[43m,\u001b[49m\u001b[43m \u001b[49m\u001b[43mindexer\u001b[49m\u001b[43m,\u001b[49m\u001b[43m \u001b[49m\u001b[43maxis_name\u001b[49m\u001b[43m)\u001b[49m\n\u001b[0;32m   5784\u001b[0m keyarr \u001b[38;5;241m=\u001b[39m \u001b[38;5;28mself\u001b[39m\u001b[38;5;241m.\u001b[39mtake(indexer)\n\u001b[0;32m   5785\u001b[0m \u001b[38;5;28;01mif\u001b[39;00m \u001b[38;5;28misinstance\u001b[39m(key, Index):\n\u001b[0;32m   5786\u001b[0m     \u001b[38;5;66;03m# GH 42790 - Preserve name from an Index\u001b[39;00m\n",
      "File \u001b[1;32mC:\\ProgramData\\Anaconda3\\envs\\venv\\lib\\site-packages\\pandas\\core\\indexes\\base.py:5845\u001b[0m, in \u001b[0;36mIndex._raise_if_missing\u001b[1;34m(self, key, indexer, axis_name)\u001b[0m\n\u001b[0;32m   5842\u001b[0m     \u001b[38;5;28;01mraise\u001b[39;00m \u001b[38;5;167;01mKeyError\u001b[39;00m(\u001b[38;5;124mf\u001b[39m\u001b[38;5;124m\"\u001b[39m\u001b[38;5;124mNone of [\u001b[39m\u001b[38;5;132;01m{\u001b[39;00mkey\u001b[38;5;132;01m}\u001b[39;00m\u001b[38;5;124m] are in the [\u001b[39m\u001b[38;5;132;01m{\u001b[39;00maxis_name\u001b[38;5;132;01m}\u001b[39;00m\u001b[38;5;124m]\u001b[39m\u001b[38;5;124m\"\u001b[39m)\n\u001b[0;32m   5844\u001b[0m not_found \u001b[38;5;241m=\u001b[39m \u001b[38;5;28mlist\u001b[39m(ensure_index(key)[missing_mask\u001b[38;5;241m.\u001b[39mnonzero()[\u001b[38;5;241m0\u001b[39m]]\u001b[38;5;241m.\u001b[39munique())\n\u001b[1;32m-> 5845\u001b[0m \u001b[38;5;28;01mraise\u001b[39;00m \u001b[38;5;167;01mKeyError\u001b[39;00m(\u001b[38;5;124mf\u001b[39m\u001b[38;5;124m\"\u001b[39m\u001b[38;5;132;01m{\u001b[39;00mnot_found\u001b[38;5;132;01m}\u001b[39;00m\u001b[38;5;124m not in index\u001b[39m\u001b[38;5;124m\"\u001b[39m)\n",
      "\u001b[1;31mKeyError\u001b[0m: \"['Q_Title'] not in index\""
     ]
    }
   ],
   "source": [
    "q_a_df = pd.merge(\n",
    "    questions[[\"Id\", \"Q_Score\", \"Q_Title\", \"Q_Body\"]],\n",
    "    answers[[\"Id\", \"A_Score\", \"A_Body\"]],\n",
    "    on=\"Id\",\n",
    "    how=\"left\",\n",
    ")\n",
    "q_a_df = pd.merge(\n",
    "    q_a_df,\n",
    "    tags[[\"Id\", \"Tag\"]],\n",
    "    on=\"Id\",\n",
    "    how=\"left\",\n",
    ")"
   ]
  },
  {
   "cell_type": "code",
   "execution_count": 16,
   "id": "6369e6ff",
   "metadata": {},
   "outputs": [
    {
     "data": {
      "text/html": [
       "<div>\n",
       "<style scoped>\n",
       "    .dataframe tbody tr th:only-of-type {\n",
       "        vertical-align: middle;\n",
       "    }\n",
       "\n",
       "    .dataframe tbody tr th {\n",
       "        vertical-align: top;\n",
       "    }\n",
       "\n",
       "    .dataframe thead th {\n",
       "        text-align: right;\n",
       "    }\n",
       "</style>\n",
       "<table border=\"1\" class=\"dataframe\">\n",
       "  <thead>\n",
       "    <tr style=\"text-align: right;\">\n",
       "      <th></th>\n",
       "      <th>Id</th>\n",
       "      <th>Q_Score</th>\n",
       "      <th>Q_Title</th>\n",
       "      <th>Q_Body</th>\n",
       "      <th>A_Score</th>\n",
       "      <th>A_Body</th>\n",
       "      <th>Tag</th>\n",
       "    </tr>\n",
       "  </thead>\n",
       "  <tbody>\n",
       "    <tr>\n",
       "      <th>0</th>\n",
       "      <td>80</td>\n",
       "      <td>26</td>\n",
       "      <td>SQLStatement.execute() - multiple queries in one statement</td>\n",
       "      <td>&lt;p&gt;I've written a database generation script in &lt;a href=\"http://en.wikipedia.org/wiki/SQL\"&gt;SQL&lt;/a&gt; and want to execute it in my &lt;a href=\"http://en.wikipedia.org/wiki/Adobe_Integrated_Runtime\"&gt;Adobe AIR&lt;/a&gt; application:&lt;/p&gt;\\n\\n&lt;pre&gt;&lt;code&gt;Create Table tRole (\\n      roleID integer Primary Key\\n      ,roleName varchar(40)\\n);\\nCreate Table tFile (\\n    fileID integer Primary Key\\n    ,fileName varchar(50)\\n    ,fileDescription varchar(500)\\n    ,thumbnailID integer\\n    ,fileFormatID integer\\n    ,categoryID integer\\n    ,isFavorite boolean\\n    ,dateAdded date\\n    ,globalAccessCount integer\\n    ,lastAccessTime date\\n    ,downloadComplete boolean\\n    ,isNew boolean\\n    ,isSpotlight boolean\\n    ,duration varchar(30)\\n);\\nCreate Table tCategory (\\n    categoryID integer Primary Key\\n    ,categoryName varchar(50)\\n    ,parent_categoryID integer\\n);\\n...\\n&lt;/code&gt;&lt;/pre&gt;\\n\\n&lt;p&gt;I execute this in Adobe AIR using the following methods:&lt;/p&gt;\\n\\n&lt;pre&gt;&lt;code&gt;public static function RunSqlFromFile(fileName:String):void {\\n    var file:File = File.applicationDirectory.resolvePath(fileName);\\n    var stream:FileStream = new FileStream();\\n    stream.open(file, FileMode.READ)\\n    var strSql:String = stream.readUTFBytes(stream.bytesAvailable);\\n    NonQuery(strSql);\\n}\\n\\npublic static function NonQuery(strSQL:String):void\\n{\\n    var sqlConnection:SQLConnection = new SQLConnection();\\n    sqlConnection.open(File.applicationStorageDirectory.resolvePath(DBPATH);\\n    var sqlStatement:SQLStatement = new SQLStatement();\\n    sqlStatement.text = strSQL;\\n    sqlStatement.sqlConnection = sqlConnection;\\n    try\\n    {\\n        sqlStatement.execute();\\n    }\\n    catch (error:SQLError)\\n    {\\n        Alert.show(error.toString());\\n    }\\n}\\n&lt;/code&gt;&lt;/pre&gt;\\n\\n&lt;p&gt;No errors are generated, however only &lt;code&gt;tRole&lt;/code&gt; exists. It seems that it only looks at the first query (up to the semicolon- if I remove it, the query fails). Is there a way to call multiple queries in one statement?&lt;/p&gt;\\n</td>\n",
       "      <td>12.0</td>\n",
       "      <td>&lt;p&gt;I wound up using this. It is a kind of a hack, but it actually works pretty well. The only thing is you have to be very careful with your semicolons. : D&lt;/p&gt;\\n\\n&lt;pre&gt;&lt;code&gt;var strSql:String = stream.readUTFBytes(stream.bytesAvailable);      \\nvar i:Number = 0;\\nvar strSqlSplit:Array = strSql.split(\";\");\\nfor (i = 0; i &amp;lt; strSqlSplit.length; i++){\\n    NonQuery(strSqlSplit[i].toString());\\n}\\n&lt;/code&gt;&lt;/pre&gt;\\n</td>\n",
       "      <td>flex</td>\n",
       "    </tr>\n",
       "    <tr>\n",
       "      <th>1</th>\n",
       "      <td>80</td>\n",
       "      <td>26</td>\n",
       "      <td>SQLStatement.execute() - multiple queries in one statement</td>\n",
       "      <td>&lt;p&gt;I've written a database generation script in &lt;a href=\"http://en.wikipedia.org/wiki/SQL\"&gt;SQL&lt;/a&gt; and want to execute it in my &lt;a href=\"http://en.wikipedia.org/wiki/Adobe_Integrated_Runtime\"&gt;Adobe AIR&lt;/a&gt; application:&lt;/p&gt;\\n\\n&lt;pre&gt;&lt;code&gt;Create Table tRole (\\n      roleID integer Primary Key\\n      ,roleName varchar(40)\\n);\\nCreate Table tFile (\\n    fileID integer Primary Key\\n    ,fileName varchar(50)\\n    ,fileDescription varchar(500)\\n    ,thumbnailID integer\\n    ,fileFormatID integer\\n    ,categoryID integer\\n    ,isFavorite boolean\\n    ,dateAdded date\\n    ,globalAccessCount integer\\n    ,lastAccessTime date\\n    ,downloadComplete boolean\\n    ,isNew boolean\\n    ,isSpotlight boolean\\n    ,duration varchar(30)\\n);\\nCreate Table tCategory (\\n    categoryID integer Primary Key\\n    ,categoryName varchar(50)\\n    ,parent_categoryID integer\\n);\\n...\\n&lt;/code&gt;&lt;/pre&gt;\\n\\n&lt;p&gt;I execute this in Adobe AIR using the following methods:&lt;/p&gt;\\n\\n&lt;pre&gt;&lt;code&gt;public static function RunSqlFromFile(fileName:String):void {\\n    var file:File = File.applicationDirectory.resolvePath(fileName);\\n    var stream:FileStream = new FileStream();\\n    stream.open(file, FileMode.READ)\\n    var strSql:String = stream.readUTFBytes(stream.bytesAvailable);\\n    NonQuery(strSql);\\n}\\n\\npublic static function NonQuery(strSQL:String):void\\n{\\n    var sqlConnection:SQLConnection = new SQLConnection();\\n    sqlConnection.open(File.applicationStorageDirectory.resolvePath(DBPATH);\\n    var sqlStatement:SQLStatement = new SQLStatement();\\n    sqlStatement.text = strSQL;\\n    sqlStatement.sqlConnection = sqlConnection;\\n    try\\n    {\\n        sqlStatement.execute();\\n    }\\n    catch (error:SQLError)\\n    {\\n        Alert.show(error.toString());\\n    }\\n}\\n&lt;/code&gt;&lt;/pre&gt;\\n\\n&lt;p&gt;No errors are generated, however only &lt;code&gt;tRole&lt;/code&gt; exists. It seems that it only looks at the first query (up to the semicolon- if I remove it, the query fails). Is there a way to call multiple queries in one statement?&lt;/p&gt;\\n</td>\n",
       "      <td>12.0</td>\n",
       "      <td>&lt;p&gt;I wound up using this. It is a kind of a hack, but it actually works pretty well. The only thing is you have to be very careful with your semicolons. : D&lt;/p&gt;\\n\\n&lt;pre&gt;&lt;code&gt;var strSql:String = stream.readUTFBytes(stream.bytesAvailable);      \\nvar i:Number = 0;\\nvar strSqlSplit:Array = strSql.split(\";\");\\nfor (i = 0; i &amp;lt; strSqlSplit.length; i++){\\n    NonQuery(strSqlSplit[i].toString());\\n}\\n&lt;/code&gt;&lt;/pre&gt;\\n</td>\n",
       "      <td>actionscript-3</td>\n",
       "    </tr>\n",
       "    <tr>\n",
       "      <th>2</th>\n",
       "      <td>80</td>\n",
       "      <td>26</td>\n",
       "      <td>SQLStatement.execute() - multiple queries in one statement</td>\n",
       "      <td>&lt;p&gt;I've written a database generation script in &lt;a href=\"http://en.wikipedia.org/wiki/SQL\"&gt;SQL&lt;/a&gt; and want to execute it in my &lt;a href=\"http://en.wikipedia.org/wiki/Adobe_Integrated_Runtime\"&gt;Adobe AIR&lt;/a&gt; application:&lt;/p&gt;\\n\\n&lt;pre&gt;&lt;code&gt;Create Table tRole (\\n      roleID integer Primary Key\\n      ,roleName varchar(40)\\n);\\nCreate Table tFile (\\n    fileID integer Primary Key\\n    ,fileName varchar(50)\\n    ,fileDescription varchar(500)\\n    ,thumbnailID integer\\n    ,fileFormatID integer\\n    ,categoryID integer\\n    ,isFavorite boolean\\n    ,dateAdded date\\n    ,globalAccessCount integer\\n    ,lastAccessTime date\\n    ,downloadComplete boolean\\n    ,isNew boolean\\n    ,isSpotlight boolean\\n    ,duration varchar(30)\\n);\\nCreate Table tCategory (\\n    categoryID integer Primary Key\\n    ,categoryName varchar(50)\\n    ,parent_categoryID integer\\n);\\n...\\n&lt;/code&gt;&lt;/pre&gt;\\n\\n&lt;p&gt;I execute this in Adobe AIR using the following methods:&lt;/p&gt;\\n\\n&lt;pre&gt;&lt;code&gt;public static function RunSqlFromFile(fileName:String):void {\\n    var file:File = File.applicationDirectory.resolvePath(fileName);\\n    var stream:FileStream = new FileStream();\\n    stream.open(file, FileMode.READ)\\n    var strSql:String = stream.readUTFBytes(stream.bytesAvailable);\\n    NonQuery(strSql);\\n}\\n\\npublic static function NonQuery(strSQL:String):void\\n{\\n    var sqlConnection:SQLConnection = new SQLConnection();\\n    sqlConnection.open(File.applicationStorageDirectory.resolvePath(DBPATH);\\n    var sqlStatement:SQLStatement = new SQLStatement();\\n    sqlStatement.text = strSQL;\\n    sqlStatement.sqlConnection = sqlConnection;\\n    try\\n    {\\n        sqlStatement.execute();\\n    }\\n    catch (error:SQLError)\\n    {\\n        Alert.show(error.toString());\\n    }\\n}\\n&lt;/code&gt;&lt;/pre&gt;\\n\\n&lt;p&gt;No errors are generated, however only &lt;code&gt;tRole&lt;/code&gt; exists. It seems that it only looks at the first query (up to the semicolon- if I remove it, the query fails). Is there a way to call multiple queries in one statement?&lt;/p&gt;\\n</td>\n",
       "      <td>12.0</td>\n",
       "      <td>&lt;p&gt;I wound up using this. It is a kind of a hack, but it actually works pretty well. The only thing is you have to be very careful with your semicolons. : D&lt;/p&gt;\\n\\n&lt;pre&gt;&lt;code&gt;var strSql:String = stream.readUTFBytes(stream.bytesAvailable);      \\nvar i:Number = 0;\\nvar strSqlSplit:Array = strSql.split(\";\");\\nfor (i = 0; i &amp;lt; strSqlSplit.length; i++){\\n    NonQuery(strSqlSplit[i].toString());\\n}\\n&lt;/code&gt;&lt;/pre&gt;\\n</td>\n",
       "      <td>air</td>\n",
       "    </tr>\n",
       "    <tr>\n",
       "      <th>3</th>\n",
       "      <td>80</td>\n",
       "      <td>26</td>\n",
       "      <td>SQLStatement.execute() - multiple queries in one statement</td>\n",
       "      <td>&lt;p&gt;I've written a database generation script in &lt;a href=\"http://en.wikipedia.org/wiki/SQL\"&gt;SQL&lt;/a&gt; and want to execute it in my &lt;a href=\"http://en.wikipedia.org/wiki/Adobe_Integrated_Runtime\"&gt;Adobe AIR&lt;/a&gt; application:&lt;/p&gt;\\n\\n&lt;pre&gt;&lt;code&gt;Create Table tRole (\\n      roleID integer Primary Key\\n      ,roleName varchar(40)\\n);\\nCreate Table tFile (\\n    fileID integer Primary Key\\n    ,fileName varchar(50)\\n    ,fileDescription varchar(500)\\n    ,thumbnailID integer\\n    ,fileFormatID integer\\n    ,categoryID integer\\n    ,isFavorite boolean\\n    ,dateAdded date\\n    ,globalAccessCount integer\\n    ,lastAccessTime date\\n    ,downloadComplete boolean\\n    ,isNew boolean\\n    ,isSpotlight boolean\\n    ,duration varchar(30)\\n);\\nCreate Table tCategory (\\n    categoryID integer Primary Key\\n    ,categoryName varchar(50)\\n    ,parent_categoryID integer\\n);\\n...\\n&lt;/code&gt;&lt;/pre&gt;\\n\\n&lt;p&gt;I execute this in Adobe AIR using the following methods:&lt;/p&gt;\\n\\n&lt;pre&gt;&lt;code&gt;public static function RunSqlFromFile(fileName:String):void {\\n    var file:File = File.applicationDirectory.resolvePath(fileName);\\n    var stream:FileStream = new FileStream();\\n    stream.open(file, FileMode.READ)\\n    var strSql:String = stream.readUTFBytes(stream.bytesAvailable);\\n    NonQuery(strSql);\\n}\\n\\npublic static function NonQuery(strSQL:String):void\\n{\\n    var sqlConnection:SQLConnection = new SQLConnection();\\n    sqlConnection.open(File.applicationStorageDirectory.resolvePath(DBPATH);\\n    var sqlStatement:SQLStatement = new SQLStatement();\\n    sqlStatement.text = strSQL;\\n    sqlStatement.sqlConnection = sqlConnection;\\n    try\\n    {\\n        sqlStatement.execute();\\n    }\\n    catch (error:SQLError)\\n    {\\n        Alert.show(error.toString());\\n    }\\n}\\n&lt;/code&gt;&lt;/pre&gt;\\n\\n&lt;p&gt;No errors are generated, however only &lt;code&gt;tRole&lt;/code&gt; exists. It seems that it only looks at the first query (up to the semicolon- if I remove it, the query fails). Is there a way to call multiple queries in one statement?&lt;/p&gt;\\n</td>\n",
       "      <td>6.0</td>\n",
       "      <td>&lt;p&gt;The &lt;a href=\"http://en.wikipedia.org/wiki/SQLite\" rel=\"nofollow\"&gt;SQLite&lt;/a&gt; API has a function called something like &lt;code&gt;sqlite_prepare&lt;/code&gt; which takes &lt;em&gt;one&lt;/em&gt; statement and prepares it for execution, essentially parsing the SQL and storing it in memory. This means that the SQL only has to be sent once to the database engine even though the statement is executed many times.&lt;/p&gt;\\n\\n&lt;p&gt;Anyway, a statement is a single SQL query, that's just the rule. The AIR SQL API doesn't allow sending raw SQL to SQLite, only single statements, and the reason is, likely, that AIR uses the &lt;code&gt;sqlite_prepare&lt;/code&gt; function when it talks to SQLite.&lt;/p&gt;\\n</td>\n",
       "      <td>flex</td>\n",
       "    </tr>\n",
       "    <tr>\n",
       "      <th>4</th>\n",
       "      <td>80</td>\n",
       "      <td>26</td>\n",
       "      <td>SQLStatement.execute() - multiple queries in one statement</td>\n",
       "      <td>&lt;p&gt;I've written a database generation script in &lt;a href=\"http://en.wikipedia.org/wiki/SQL\"&gt;SQL&lt;/a&gt; and want to execute it in my &lt;a href=\"http://en.wikipedia.org/wiki/Adobe_Integrated_Runtime\"&gt;Adobe AIR&lt;/a&gt; application:&lt;/p&gt;\\n\\n&lt;pre&gt;&lt;code&gt;Create Table tRole (\\n      roleID integer Primary Key\\n      ,roleName varchar(40)\\n);\\nCreate Table tFile (\\n    fileID integer Primary Key\\n    ,fileName varchar(50)\\n    ,fileDescription varchar(500)\\n    ,thumbnailID integer\\n    ,fileFormatID integer\\n    ,categoryID integer\\n    ,isFavorite boolean\\n    ,dateAdded date\\n    ,globalAccessCount integer\\n    ,lastAccessTime date\\n    ,downloadComplete boolean\\n    ,isNew boolean\\n    ,isSpotlight boolean\\n    ,duration varchar(30)\\n);\\nCreate Table tCategory (\\n    categoryID integer Primary Key\\n    ,categoryName varchar(50)\\n    ,parent_categoryID integer\\n);\\n...\\n&lt;/code&gt;&lt;/pre&gt;\\n\\n&lt;p&gt;I execute this in Adobe AIR using the following methods:&lt;/p&gt;\\n\\n&lt;pre&gt;&lt;code&gt;public static function RunSqlFromFile(fileName:String):void {\\n    var file:File = File.applicationDirectory.resolvePath(fileName);\\n    var stream:FileStream = new FileStream();\\n    stream.open(file, FileMode.READ)\\n    var strSql:String = stream.readUTFBytes(stream.bytesAvailable);\\n    NonQuery(strSql);\\n}\\n\\npublic static function NonQuery(strSQL:String):void\\n{\\n    var sqlConnection:SQLConnection = new SQLConnection();\\n    sqlConnection.open(File.applicationStorageDirectory.resolvePath(DBPATH);\\n    var sqlStatement:SQLStatement = new SQLStatement();\\n    sqlStatement.text = strSQL;\\n    sqlStatement.sqlConnection = sqlConnection;\\n    try\\n    {\\n        sqlStatement.execute();\\n    }\\n    catch (error:SQLError)\\n    {\\n        Alert.show(error.toString());\\n    }\\n}\\n&lt;/code&gt;&lt;/pre&gt;\\n\\n&lt;p&gt;No errors are generated, however only &lt;code&gt;tRole&lt;/code&gt; exists. It seems that it only looks at the first query (up to the semicolon- if I remove it, the query fails). Is there a way to call multiple queries in one statement?&lt;/p&gt;\\n</td>\n",
       "      <td>6.0</td>\n",
       "      <td>&lt;p&gt;The &lt;a href=\"http://en.wikipedia.org/wiki/SQLite\" rel=\"nofollow\"&gt;SQLite&lt;/a&gt; API has a function called something like &lt;code&gt;sqlite_prepare&lt;/code&gt; which takes &lt;em&gt;one&lt;/em&gt; statement and prepares it for execution, essentially parsing the SQL and storing it in memory. This means that the SQL only has to be sent once to the database engine even though the statement is executed many times.&lt;/p&gt;\\n\\n&lt;p&gt;Anyway, a statement is a single SQL query, that's just the rule. The AIR SQL API doesn't allow sending raw SQL to SQLite, only single statements, and the reason is, likely, that AIR uses the &lt;code&gt;sqlite_prepare&lt;/code&gt; function when it talks to SQLite.&lt;/p&gt;\\n</td>\n",
       "      <td>actionscript-3</td>\n",
       "    </tr>\n",
       "  </tbody>\n",
       "</table>\n",
       "</div>"
      ],
      "text/plain": [
       "   Id  Q_Score                                                     Q_Title  \\\n",
       "0  80       26  SQLStatement.execute() - multiple queries in one statement   \n",
       "1  80       26  SQLStatement.execute() - multiple queries in one statement   \n",
       "2  80       26  SQLStatement.execute() - multiple queries in one statement   \n",
       "3  80       26  SQLStatement.execute() - multiple queries in one statement   \n",
       "4  80       26  SQLStatement.execute() - multiple queries in one statement   \n",
       "\n",
       "                                                                                                                                                                                                                                                                                                                                                                                                                                                                                                                                                                                                                                                                                                                                                                                                                                                                                                                                                                                                                                                                                                                                                                                                                                                                                                                                                                                                                                                                                                                                                                                                                                                                                                                                                                                                                                                                                                                                                                                                                                                                             Q_Body  \\\n",
       "0  <p>I've written a database generation script in <a href=\"http://en.wikipedia.org/wiki/SQL\">SQL</a> and want to execute it in my <a href=\"http://en.wikipedia.org/wiki/Adobe_Integrated_Runtime\">Adobe AIR</a> application:</p>\\n\\n<pre><code>Create Table tRole (\\n      roleID integer Primary Key\\n      ,roleName varchar(40)\\n);\\nCreate Table tFile (\\n    fileID integer Primary Key\\n    ,fileName varchar(50)\\n    ,fileDescription varchar(500)\\n    ,thumbnailID integer\\n    ,fileFormatID integer\\n    ,categoryID integer\\n    ,isFavorite boolean\\n    ,dateAdded date\\n    ,globalAccessCount integer\\n    ,lastAccessTime date\\n    ,downloadComplete boolean\\n    ,isNew boolean\\n    ,isSpotlight boolean\\n    ,duration varchar(30)\\n);\\nCreate Table tCategory (\\n    categoryID integer Primary Key\\n    ,categoryName varchar(50)\\n    ,parent_categoryID integer\\n);\\n...\\n</code></pre>\\n\\n<p>I execute this in Adobe AIR using the following methods:</p>\\n\\n<pre><code>public static function RunSqlFromFile(fileName:String):void {\\n    var file:File = File.applicationDirectory.resolvePath(fileName);\\n    var stream:FileStream = new FileStream();\\n    stream.open(file, FileMode.READ)\\n    var strSql:String = stream.readUTFBytes(stream.bytesAvailable);\\n    NonQuery(strSql);\\n}\\n\\npublic static function NonQuery(strSQL:String):void\\n{\\n    var sqlConnection:SQLConnection = new SQLConnection();\\n    sqlConnection.open(File.applicationStorageDirectory.resolvePath(DBPATH);\\n    var sqlStatement:SQLStatement = new SQLStatement();\\n    sqlStatement.text = strSQL;\\n    sqlStatement.sqlConnection = sqlConnection;\\n    try\\n    {\\n        sqlStatement.execute();\\n    }\\n    catch (error:SQLError)\\n    {\\n        Alert.show(error.toString());\\n    }\\n}\\n</code></pre>\\n\\n<p>No errors are generated, however only <code>tRole</code> exists. It seems that it only looks at the first query (up to the semicolon- if I remove it, the query fails). Is there a way to call multiple queries in one statement?</p>\\n   \n",
       "1  <p>I've written a database generation script in <a href=\"http://en.wikipedia.org/wiki/SQL\">SQL</a> and want to execute it in my <a href=\"http://en.wikipedia.org/wiki/Adobe_Integrated_Runtime\">Adobe AIR</a> application:</p>\\n\\n<pre><code>Create Table tRole (\\n      roleID integer Primary Key\\n      ,roleName varchar(40)\\n);\\nCreate Table tFile (\\n    fileID integer Primary Key\\n    ,fileName varchar(50)\\n    ,fileDescription varchar(500)\\n    ,thumbnailID integer\\n    ,fileFormatID integer\\n    ,categoryID integer\\n    ,isFavorite boolean\\n    ,dateAdded date\\n    ,globalAccessCount integer\\n    ,lastAccessTime date\\n    ,downloadComplete boolean\\n    ,isNew boolean\\n    ,isSpotlight boolean\\n    ,duration varchar(30)\\n);\\nCreate Table tCategory (\\n    categoryID integer Primary Key\\n    ,categoryName varchar(50)\\n    ,parent_categoryID integer\\n);\\n...\\n</code></pre>\\n\\n<p>I execute this in Adobe AIR using the following methods:</p>\\n\\n<pre><code>public static function RunSqlFromFile(fileName:String):void {\\n    var file:File = File.applicationDirectory.resolvePath(fileName);\\n    var stream:FileStream = new FileStream();\\n    stream.open(file, FileMode.READ)\\n    var strSql:String = stream.readUTFBytes(stream.bytesAvailable);\\n    NonQuery(strSql);\\n}\\n\\npublic static function NonQuery(strSQL:String):void\\n{\\n    var sqlConnection:SQLConnection = new SQLConnection();\\n    sqlConnection.open(File.applicationStorageDirectory.resolvePath(DBPATH);\\n    var sqlStatement:SQLStatement = new SQLStatement();\\n    sqlStatement.text = strSQL;\\n    sqlStatement.sqlConnection = sqlConnection;\\n    try\\n    {\\n        sqlStatement.execute();\\n    }\\n    catch (error:SQLError)\\n    {\\n        Alert.show(error.toString());\\n    }\\n}\\n</code></pre>\\n\\n<p>No errors are generated, however only <code>tRole</code> exists. It seems that it only looks at the first query (up to the semicolon- if I remove it, the query fails). Is there a way to call multiple queries in one statement?</p>\\n   \n",
       "2  <p>I've written a database generation script in <a href=\"http://en.wikipedia.org/wiki/SQL\">SQL</a> and want to execute it in my <a href=\"http://en.wikipedia.org/wiki/Adobe_Integrated_Runtime\">Adobe AIR</a> application:</p>\\n\\n<pre><code>Create Table tRole (\\n      roleID integer Primary Key\\n      ,roleName varchar(40)\\n);\\nCreate Table tFile (\\n    fileID integer Primary Key\\n    ,fileName varchar(50)\\n    ,fileDescription varchar(500)\\n    ,thumbnailID integer\\n    ,fileFormatID integer\\n    ,categoryID integer\\n    ,isFavorite boolean\\n    ,dateAdded date\\n    ,globalAccessCount integer\\n    ,lastAccessTime date\\n    ,downloadComplete boolean\\n    ,isNew boolean\\n    ,isSpotlight boolean\\n    ,duration varchar(30)\\n);\\nCreate Table tCategory (\\n    categoryID integer Primary Key\\n    ,categoryName varchar(50)\\n    ,parent_categoryID integer\\n);\\n...\\n</code></pre>\\n\\n<p>I execute this in Adobe AIR using the following methods:</p>\\n\\n<pre><code>public static function RunSqlFromFile(fileName:String):void {\\n    var file:File = File.applicationDirectory.resolvePath(fileName);\\n    var stream:FileStream = new FileStream();\\n    stream.open(file, FileMode.READ)\\n    var strSql:String = stream.readUTFBytes(stream.bytesAvailable);\\n    NonQuery(strSql);\\n}\\n\\npublic static function NonQuery(strSQL:String):void\\n{\\n    var sqlConnection:SQLConnection = new SQLConnection();\\n    sqlConnection.open(File.applicationStorageDirectory.resolvePath(DBPATH);\\n    var sqlStatement:SQLStatement = new SQLStatement();\\n    sqlStatement.text = strSQL;\\n    sqlStatement.sqlConnection = sqlConnection;\\n    try\\n    {\\n        sqlStatement.execute();\\n    }\\n    catch (error:SQLError)\\n    {\\n        Alert.show(error.toString());\\n    }\\n}\\n</code></pre>\\n\\n<p>No errors are generated, however only <code>tRole</code> exists. It seems that it only looks at the first query (up to the semicolon- if I remove it, the query fails). Is there a way to call multiple queries in one statement?</p>\\n   \n",
       "3  <p>I've written a database generation script in <a href=\"http://en.wikipedia.org/wiki/SQL\">SQL</a> and want to execute it in my <a href=\"http://en.wikipedia.org/wiki/Adobe_Integrated_Runtime\">Adobe AIR</a> application:</p>\\n\\n<pre><code>Create Table tRole (\\n      roleID integer Primary Key\\n      ,roleName varchar(40)\\n);\\nCreate Table tFile (\\n    fileID integer Primary Key\\n    ,fileName varchar(50)\\n    ,fileDescription varchar(500)\\n    ,thumbnailID integer\\n    ,fileFormatID integer\\n    ,categoryID integer\\n    ,isFavorite boolean\\n    ,dateAdded date\\n    ,globalAccessCount integer\\n    ,lastAccessTime date\\n    ,downloadComplete boolean\\n    ,isNew boolean\\n    ,isSpotlight boolean\\n    ,duration varchar(30)\\n);\\nCreate Table tCategory (\\n    categoryID integer Primary Key\\n    ,categoryName varchar(50)\\n    ,parent_categoryID integer\\n);\\n...\\n</code></pre>\\n\\n<p>I execute this in Adobe AIR using the following methods:</p>\\n\\n<pre><code>public static function RunSqlFromFile(fileName:String):void {\\n    var file:File = File.applicationDirectory.resolvePath(fileName);\\n    var stream:FileStream = new FileStream();\\n    stream.open(file, FileMode.READ)\\n    var strSql:String = stream.readUTFBytes(stream.bytesAvailable);\\n    NonQuery(strSql);\\n}\\n\\npublic static function NonQuery(strSQL:String):void\\n{\\n    var sqlConnection:SQLConnection = new SQLConnection();\\n    sqlConnection.open(File.applicationStorageDirectory.resolvePath(DBPATH);\\n    var sqlStatement:SQLStatement = new SQLStatement();\\n    sqlStatement.text = strSQL;\\n    sqlStatement.sqlConnection = sqlConnection;\\n    try\\n    {\\n        sqlStatement.execute();\\n    }\\n    catch (error:SQLError)\\n    {\\n        Alert.show(error.toString());\\n    }\\n}\\n</code></pre>\\n\\n<p>No errors are generated, however only <code>tRole</code> exists. It seems that it only looks at the first query (up to the semicolon- if I remove it, the query fails). Is there a way to call multiple queries in one statement?</p>\\n   \n",
       "4  <p>I've written a database generation script in <a href=\"http://en.wikipedia.org/wiki/SQL\">SQL</a> and want to execute it in my <a href=\"http://en.wikipedia.org/wiki/Adobe_Integrated_Runtime\">Adobe AIR</a> application:</p>\\n\\n<pre><code>Create Table tRole (\\n      roleID integer Primary Key\\n      ,roleName varchar(40)\\n);\\nCreate Table tFile (\\n    fileID integer Primary Key\\n    ,fileName varchar(50)\\n    ,fileDescription varchar(500)\\n    ,thumbnailID integer\\n    ,fileFormatID integer\\n    ,categoryID integer\\n    ,isFavorite boolean\\n    ,dateAdded date\\n    ,globalAccessCount integer\\n    ,lastAccessTime date\\n    ,downloadComplete boolean\\n    ,isNew boolean\\n    ,isSpotlight boolean\\n    ,duration varchar(30)\\n);\\nCreate Table tCategory (\\n    categoryID integer Primary Key\\n    ,categoryName varchar(50)\\n    ,parent_categoryID integer\\n);\\n...\\n</code></pre>\\n\\n<p>I execute this in Adobe AIR using the following methods:</p>\\n\\n<pre><code>public static function RunSqlFromFile(fileName:String):void {\\n    var file:File = File.applicationDirectory.resolvePath(fileName);\\n    var stream:FileStream = new FileStream();\\n    stream.open(file, FileMode.READ)\\n    var strSql:String = stream.readUTFBytes(stream.bytesAvailable);\\n    NonQuery(strSql);\\n}\\n\\npublic static function NonQuery(strSQL:String):void\\n{\\n    var sqlConnection:SQLConnection = new SQLConnection();\\n    sqlConnection.open(File.applicationStorageDirectory.resolvePath(DBPATH);\\n    var sqlStatement:SQLStatement = new SQLStatement();\\n    sqlStatement.text = strSQL;\\n    sqlStatement.sqlConnection = sqlConnection;\\n    try\\n    {\\n        sqlStatement.execute();\\n    }\\n    catch (error:SQLError)\\n    {\\n        Alert.show(error.toString());\\n    }\\n}\\n</code></pre>\\n\\n<p>No errors are generated, however only <code>tRole</code> exists. It seems that it only looks at the first query (up to the semicolon- if I remove it, the query fails). Is there a way to call multiple queries in one statement?</p>\\n   \n",
       "\n",
       "   A_Score  \\\n",
       "0     12.0   \n",
       "1     12.0   \n",
       "2     12.0   \n",
       "3      6.0   \n",
       "4      6.0   \n",
       "\n",
       "                                                                                                                                                                                                                                                                                                                                                                                                                                                                                                                                                                                                                                                                               A_Body  \\\n",
       "0                                                                                                                                                                                                                                                     <p>I wound up using this. It is a kind of a hack, but it actually works pretty well. The only thing is you have to be very careful with your semicolons. : D</p>\\n\\n<pre><code>var strSql:String = stream.readUTFBytes(stream.bytesAvailable);      \\nvar i:Number = 0;\\nvar strSqlSplit:Array = strSql.split(\";\");\\nfor (i = 0; i &lt; strSqlSplit.length; i++){\\n    NonQuery(strSqlSplit[i].toString());\\n}\\n</code></pre>\\n   \n",
       "1                                                                                                                                                                                                                                                     <p>I wound up using this. It is a kind of a hack, but it actually works pretty well. The only thing is you have to be very careful with your semicolons. : D</p>\\n\\n<pre><code>var strSql:String = stream.readUTFBytes(stream.bytesAvailable);      \\nvar i:Number = 0;\\nvar strSqlSplit:Array = strSql.split(\";\");\\nfor (i = 0; i &lt; strSqlSplit.length; i++){\\n    NonQuery(strSqlSplit[i].toString());\\n}\\n</code></pre>\\n   \n",
       "2                                                                                                                                                                                                                                                     <p>I wound up using this. It is a kind of a hack, but it actually works pretty well. The only thing is you have to be very careful with your semicolons. : D</p>\\n\\n<pre><code>var strSql:String = stream.readUTFBytes(stream.bytesAvailable);      \\nvar i:Number = 0;\\nvar strSqlSplit:Array = strSql.split(\";\");\\nfor (i = 0; i &lt; strSqlSplit.length; i++){\\n    NonQuery(strSqlSplit[i].toString());\\n}\\n</code></pre>\\n   \n",
       "3  <p>The <a href=\"http://en.wikipedia.org/wiki/SQLite\" rel=\"nofollow\">SQLite</a> API has a function called something like <code>sqlite_prepare</code> which takes <em>one</em> statement and prepares it for execution, essentially parsing the SQL and storing it in memory. This means that the SQL only has to be sent once to the database engine even though the statement is executed many times.</p>\\n\\n<p>Anyway, a statement is a single SQL query, that's just the rule. The AIR SQL API doesn't allow sending raw SQL to SQLite, only single statements, and the reason is, likely, that AIR uses the <code>sqlite_prepare</code> function when it talks to SQLite.</p>\\n   \n",
       "4  <p>The <a href=\"http://en.wikipedia.org/wiki/SQLite\" rel=\"nofollow\">SQLite</a> API has a function called something like <code>sqlite_prepare</code> which takes <em>one</em> statement and prepares it for execution, essentially parsing the SQL and storing it in memory. This means that the SQL only has to be sent once to the database engine even though the statement is executed many times.</p>\\n\\n<p>Anyway, a statement is a single SQL query, that's just the rule. The AIR SQL API doesn't allow sending raw SQL to SQLite, only single statements, and the reason is, likely, that AIR uses the <code>sqlite_prepare</code> function when it talks to SQLite.</p>\\n   \n",
       "\n",
       "              Tag  \n",
       "0            flex  \n",
       "1  actionscript-3  \n",
       "2             air  \n",
       "3            flex  \n",
       "4  actionscript-3  "
      ]
     },
     "execution_count": 16,
     "metadata": {},
     "output_type": "execute_result"
    }
   ],
   "source": [
    "q_a_df.head()"
   ]
  },
  {
   "cell_type": "code",
   "execution_count": 17,
   "id": "89a79dc7",
   "metadata": {},
   "outputs": [
    {
     "data": {
      "text/plain": [
       "6391215"
      ]
     },
     "execution_count": 17,
     "metadata": {},
     "output_type": "execute_result"
    }
   ],
   "source": [
    "len(q_a_df)"
   ]
  },
  {
   "cell_type": "markdown",
   "id": "4e696c4b",
   "metadata": {},
   "source": [
    "Отбираем нужный score для вопроса и ответов"
   ]
  },
  {
   "cell_type": "code",
   "execution_count": 18,
   "id": "eecb8407",
   "metadata": {},
   "outputs": [],
   "source": [
    "questions_score = 1\n",
    "answers_score = 1\n",
    "q_a_df.query(\n",
    "    f\"Q_Score >= {questions_score} and A_Score >= {answers_score}\", inplace=True\n",
    ")"
   ]
  },
  {
   "cell_type": "code",
   "execution_count": 19,
   "id": "123c55e1",
   "metadata": {},
   "outputs": [
    {
     "data": {
      "text/plain": [
       "2349964"
      ]
     },
     "execution_count": 19,
     "metadata": {},
     "output_type": "execute_result"
    }
   ],
   "source": [
    "len(q_a_df)"
   ]
  },
  {
   "cell_type": "markdown",
   "id": "22bd1fe6",
   "metadata": {},
   "source": [
    "### 3. Очистим от HTML разметки и посмотрим распределение длин"
   ]
  },
  {
   "cell_type": "markdown",
   "id": "afac654a",
   "metadata": {},
   "source": [
    "Отберем ответы и вопросы, где нет тегов _\\<code>_ и _\\<img>_"
   ]
  },
  {
   "cell_type": "code",
   "execution_count": 27,
   "id": "bdfe61a4",
   "metadata": {},
   "outputs": [
    {
     "name": "stdout",
     "output_type": "stream",
     "text": [
      "Id, Q_Score, Q_Title, Q_Body, A_Score, A_Body, Tag\n"
     ]
    }
   ],
   "source": [
    "print(*q_a_df.columns, sep=\", \")"
   ]
  },
  {
   "cell_type": "code",
   "execution_count": 20,
   "id": "d582b017",
   "metadata": {},
   "outputs": [],
   "source": [
    "# q_a_df = q_a_df[~q_a_df[\"A_Body\"].str.contains(\"code\")]\n",
    "# q_a_df = q_a_df[~q_a_df[\"Q_Body\"].str.contains(\"code\")]\n",
    "\n",
    "q_a_df = q_a_df[~q_a_df[\"A_Body\"].str.contains(\"img\")]\n",
    "q_a_df = q_a_df[~q_a_df[\"Q_Body\"].str.contains(\"img\")]\n",
    "\n",
    "q_a_df = q_a_df[~q_a_df[\"A_Body\"].str.contains(\"a href=\")]\n",
    "q_a_df = q_a_df[~q_a_df[\"Q_Body\"].str.contains(\"a href=\")]"
   ]
  },
  {
   "cell_type": "code",
   "execution_count": 27,
   "id": "7aac2078",
   "metadata": {},
   "outputs": [
    {
     "data": {
      "text/plain": [
       "1123493"
      ]
     },
     "execution_count": 27,
     "metadata": {},
     "output_type": "execute_result"
    }
   ],
   "source": [
    "len(q_a_df)"
   ]
  },
  {
   "cell_type": "markdown",
   "id": "0d290ec0",
   "metadata": {},
   "source": [
    "Преобразуем Title, Q_Body и A_Body в текст"
   ]
  },
  {
   "cell_type": "code",
   "execution_count": 22,
   "id": "69ffa05a",
   "metadata": {},
   "outputs": [
    {
     "name": "stderr",
     "output_type": "stream",
     "text": [
      "C:\\ProgramData\\Anaconda3\\envs\\venv\\lib\\site-packages\\bs4\\__init__.py:435: MarkupResemblesLocatorWarning: The input looks more like a filename than markup. You may want to open this file and pass the filehandle into Beautiful Soup.\n",
      "  warnings.warn(\n"
     ]
    }
   ],
   "source": [
    "q_a_df[\"Q_Body\"] = q_a_df[\"Q_Body\"].apply(lambda x: BeautifulSoup(x).get_text())\n",
    "q_a_df[\"Q_Title\"] = q_a_df[\"Q_Title\"].apply(lambda x: BeautifulSoup(x).get_text())\n",
    "q_a_df[\"A_Body\"] = q_a_df[\"A_Body\"].apply(lambda x: BeautifulSoup(x).get_text())"
   ]
  },
  {
   "cell_type": "markdown",
   "id": "9f07783c",
   "metadata": {},
   "source": [
    "Посмотрим на рапсределение длин вопросов и ответов"
   ]
  },
  {
   "cell_type": "code",
   "execution_count": 28,
   "id": "ae82503f",
   "metadata": {},
   "outputs": [],
   "source": [
    "q_a_df[\"Q_BodyLen\"] = q_a_df[\"Q_Body\"].apply(lambda x: len(x))\n",
    "q_a_df[\"A_BodyLen\"] = q_a_df[\"A_Body\"].apply(lambda x: len(x))"
   ]
  },
  {
   "cell_type": "code",
   "execution_count": 29,
   "id": "d37076a0",
   "metadata": {},
   "outputs": [
    {
     "name": "stdout",
     "output_type": "stream",
     "text": [
      "Максимальная длина вопроса 34396\n",
      "Средняя длина вопроса 1050.3831105311738\n"
     ]
    },
    {
     "data": {
      "image/png": "[encoded data removed]",
      "text/plain": [
       "<Figure size 640x480 with 1 Axes>"
      ]
     },
     "metadata": {},
     "output_type": "display_data"
    }
   ],
   "source": [
    "plt.hist(q_a_df[\"Q_BodyLen\"])\n",
    "print(\"Максимальная длина вопроса \" + str(q_a_df[\"Q_BodyLen\"].max()))\n",
    "print(\"Средняя длина вопроса \" + str(q_a_df[\"Q_BodyLen\"].mean()))"
   ]
  },
  {
   "cell_type": "code",
   "execution_count": 30,
   "id": "d1c774be",
   "metadata": {},
   "outputs": [
    {
     "name": "stdout",
     "output_type": "stream",
     "text": [
      "Максимальная длина ответа 28648\n",
      "Средняя длина ответа 635.47678000664\n"
     ]
    },
    {
     "data": {
      "image/png": "[encoded data removed]",
      "text/plain": [
       "<Figure size 640x480 with 1 Axes>"
      ]
     },
     "metadata": {},
     "output_type": "display_data"
    }
   ],
   "source": [
    "plt.hist(q_a_df[\"A_BodyLen\"])\n",
    "print(\"Максимальная длина ответа \" + str(q_a_df[\"A_BodyLen\"].max()))\n",
    "print(\"Средняя длина ответа \" + str(q_a_df[\"A_BodyLen\"].mean()))"
   ]
  },
  {
   "cell_type": "code",
   "execution_count": 31,
   "id": "f9b30cd7",
   "metadata": {},
   "outputs": [
    {
     "data": {
      "text/html": [
       "<div>\n",
       "<style scoped>\n",
       "    .dataframe tbody tr th:only-of-type {\n",
       "        vertical-align: middle;\n",
       "    }\n",
       "\n",
       "    .dataframe tbody tr th {\n",
       "        vertical-align: top;\n",
       "    }\n",
       "\n",
       "    .dataframe thead th {\n",
       "        text-align: right;\n",
       "    }\n",
       "</style>\n",
       "<table border=\"1\" class=\"dataframe\">\n",
       "  <thead>\n",
       "    <tr style=\"text-align: right;\">\n",
       "      <th></th>\n",
       "      <th>Id</th>\n",
       "      <th>Q_Score</th>\n",
       "      <th>Q_Title</th>\n",
       "      <th>Q_Body</th>\n",
       "      <th>A_Score</th>\n",
       "      <th>A_Body</th>\n",
       "      <th>Tag</th>\n",
       "      <th>Q_BodyLen</th>\n",
       "      <th>A_BodyLen</th>\n",
       "    </tr>\n",
       "  </thead>\n",
       "  <tbody>\n",
       "    <tr>\n",
       "      <th>21</th>\n",
       "      <td>120</td>\n",
       "      <td>21</td>\n",
       "      <td>ASP.NET Site Maps</td>\n",
       "      <td>Has anyone got experience creating SQL-based ASP.NET site-map providers?\\nI've got the default XML file web.sitemap working properly with my Menu and SiteMapPath controls, but I'll need a way for the users of my site to create and modify pages dynamically.\\nI need to tie page viewing permissions into the standard ASP.NET membership system as well.\\n</td>\n",
       "      <td>9.0</td>\n",
       "      <td>The Jeff Prosise version from MSDN magazine works pretty well, but it has a few flaws:\\nAddNode freaks out with links to external sites on your menu (www.google.com, etc.)\\nHere's my fix in BuildSiteMap():\\nSiteMapNode node = GetSiteMapNodeFromReader(reader);\\nstring url = node.Url;\\nif (url.Contains(\":\"))\\n{\\n    string garbage = Guid.NewGuid().ToString();  // SiteMapNode needs unique URLs\\n    node.Url = \"~/dummy_\" + garbage + \".aspx\";\\n    AddNode(node, _root);\\n    node.Url = url;\\n}\\nelse\\n{\\n    AddNode(node, _root);\\n}\\n\\nSQLDependency caching is cool, but if you don't want to make a trip to the DB everytime your menu loads (to check to see if the dependency has changed) and your menus don't change very often, then why not use HttpRuntime.Cache instead?\\npublic override SiteMapNode RootNode\\n{\\n    get\\n    {\\n        SiteMapNode temp = (SiteMapNode)HttpRuntime.Cache[\"SomeKeyName\"];\\n        if (temp == null)\\n        {\\n            temp = BuildSiteMap();\\n            HttpRuntime.Cache.Insert(\"SomeKeyName\", temp, null, DateTime.Now.AddHours(1), Cache.NoSlidingExpiration);\\n        }\\n        return temp;\\n    }\\n}\\n\\n</td>\n",
       "      <td>sql</td>\n",
       "      <td>348</td>\n",
       "      <td>1110</td>\n",
       "    </tr>\n",
       "    <tr>\n",
       "      <th>22</th>\n",
       "      <td>120</td>\n",
       "      <td>21</td>\n",
       "      <td>ASP.NET Site Maps</td>\n",
       "      <td>Has anyone got experience creating SQL-based ASP.NET site-map providers?\\nI've got the default XML file web.sitemap working properly with my Menu and SiteMapPath controls, but I'll need a way for the users of my site to create and modify pages dynamically.\\nI need to tie page viewing permissions into the standard ASP.NET membership system as well.\\n</td>\n",
       "      <td>9.0</td>\n",
       "      <td>The Jeff Prosise version from MSDN magazine works pretty well, but it has a few flaws:\\nAddNode freaks out with links to external sites on your menu (www.google.com, etc.)\\nHere's my fix in BuildSiteMap():\\nSiteMapNode node = GetSiteMapNodeFromReader(reader);\\nstring url = node.Url;\\nif (url.Contains(\":\"))\\n{\\n    string garbage = Guid.NewGuid().ToString();  // SiteMapNode needs unique URLs\\n    node.Url = \"~/dummy_\" + garbage + \".aspx\";\\n    AddNode(node, _root);\\n    node.Url = url;\\n}\\nelse\\n{\\n    AddNode(node, _root);\\n}\\n\\nSQLDependency caching is cool, but if you don't want to make a trip to the DB everytime your menu loads (to check to see if the dependency has changed) and your menus don't change very often, then why not use HttpRuntime.Cache instead?\\npublic override SiteMapNode RootNode\\n{\\n    get\\n    {\\n        SiteMapNode temp = (SiteMapNode)HttpRuntime.Cache[\"SomeKeyName\"];\\n        if (temp == null)\\n        {\\n            temp = BuildSiteMap();\\n            HttpRuntime.Cache.Insert(\"SomeKeyName\", temp, null, DateTime.Now.AddHours(1), Cache.NoSlidingExpiration);\\n        }\\n        return temp;\\n    }\\n}\\n\\n</td>\n",
       "      <td>asp.net</td>\n",
       "      <td>348</td>\n",
       "      <td>1110</td>\n",
       "    </tr>\n",
       "  </tbody>\n",
       "</table>\n",
       "</div>"
      ],
      "text/plain": [
       "     Id  Q_Score            Q_Title  \\\n",
       "21  120       21  ASP.NET Site Maps   \n",
       "22  120       21  ASP.NET Site Maps   \n",
       "\n",
       "                                                                                                                                                                                                                                                                                                                                                             Q_Body  \\\n",
       "21  Has anyone got experience creating SQL-based ASP.NET site-map providers?\\nI've got the default XML file web.sitemap working properly with my Menu and SiteMapPath controls, but I'll need a way for the users of my site to create and modify pages dynamically.\\nI need to tie page viewing permissions into the standard ASP.NET membership system as well.\\n   \n",
       "22  Has anyone got experience creating SQL-based ASP.NET site-map providers?\\nI've got the default XML file web.sitemap working properly with my Menu and SiteMapPath controls, but I'll need a way for the users of my site to create and modify pages dynamically.\\nI need to tie page viewing permissions into the standard ASP.NET membership system as well.\\n   \n",
       "\n",
       "    A_Score  \\\n",
       "21      9.0   \n",
       "22      9.0   \n",
       "\n",
       "                                                                                                                                                                                                                                                                                                                                                                                                                                                                                                                                                                                                                                                                                                                                                                                                                                                                                                                                                                                                                                                                                                                                                                                    A_Body  \\\n",
       "21  The Jeff Prosise version from MSDN magazine works pretty well, but it has a few flaws:\\nAddNode freaks out with links to external sites on your menu (www.google.com, etc.)\\nHere's my fix in BuildSiteMap():\\nSiteMapNode node = GetSiteMapNodeFromReader(reader);\\nstring url = node.Url;\\nif (url.Contains(\":\"))\\n{\\n    string garbage = Guid.NewGuid().ToString();  // SiteMapNode needs unique URLs\\n    node.Url = \"~/dummy_\" + garbage + \".aspx\";\\n    AddNode(node, _root);\\n    node.Url = url;\\n}\\nelse\\n{\\n    AddNode(node, _root);\\n}\\n\\nSQLDependency caching is cool, but if you don't want to make a trip to the DB everytime your menu loads (to check to see if the dependency has changed) and your menus don't change very often, then why not use HttpRuntime.Cache instead?\\npublic override SiteMapNode RootNode\\n{\\n    get\\n    {\\n        SiteMapNode temp = (SiteMapNode)HttpRuntime.Cache[\"SomeKeyName\"];\\n        if (temp == null)\\n        {\\n            temp = BuildSiteMap();\\n            HttpRuntime.Cache.Insert(\"SomeKeyName\", temp, null, DateTime.Now.AddHours(1), Cache.NoSlidingExpiration);\\n        }\\n        return temp;\\n    }\\n}\\n\\n   \n",
       "22  The Jeff Prosise version from MSDN magazine works pretty well, but it has a few flaws:\\nAddNode freaks out with links to external sites on your menu (www.google.com, etc.)\\nHere's my fix in BuildSiteMap():\\nSiteMapNode node = GetSiteMapNodeFromReader(reader);\\nstring url = node.Url;\\nif (url.Contains(\":\"))\\n{\\n    string garbage = Guid.NewGuid().ToString();  // SiteMapNode needs unique URLs\\n    node.Url = \"~/dummy_\" + garbage + \".aspx\";\\n    AddNode(node, _root);\\n    node.Url = url;\\n}\\nelse\\n{\\n    AddNode(node, _root);\\n}\\n\\nSQLDependency caching is cool, but if you don't want to make a trip to the DB everytime your menu loads (to check to see if the dependency has changed) and your menus don't change very often, then why not use HttpRuntime.Cache instead?\\npublic override SiteMapNode RootNode\\n{\\n    get\\n    {\\n        SiteMapNode temp = (SiteMapNode)HttpRuntime.Cache[\"SomeKeyName\"];\\n        if (temp == null)\\n        {\\n            temp = BuildSiteMap();\\n            HttpRuntime.Cache.Insert(\"SomeKeyName\", temp, null, DateTime.Now.AddHours(1), Cache.NoSlidingExpiration);\\n        }\\n        return temp;\\n    }\\n}\\n\\n   \n",
       "\n",
       "        Tag  Q_BodyLen  A_BodyLen  \n",
       "21      sql        348       1110  \n",
       "22  asp.net        348       1110  "
      ]
     },
     "execution_count": 31,
     "metadata": {},
     "output_type": "execute_result"
    }
   ],
   "source": [
    "q_a_df.head(2)"
   ]
  },
  {
   "cell_type": "markdown",
   "id": "52972a32",
   "metadata": {},
   "source": [
    "### Разделить полученные результаты на тренировочную, валидационную и тестовую выборки."
   ]
  },
  {
   "cell_type": "code",
   "execution_count": 35,
   "id": "1a1f95fe",
   "metadata": {},
   "outputs": [],
   "source": [
    "ready_df = q_a_df.copy()\n",
    "ready_df.drop(columns=[\"Q_BodyLen\", \"A_BodyLen\"], inplace=True)"
   ]
  },
  {
   "cell_type": "code",
   "execution_count": 36,
   "id": "fa537639",
   "metadata": {},
   "outputs": [
    {
     "data": {
      "text/plain": [
       "223759"
      ]
     },
     "execution_count": 36,
     "metadata": {},
     "output_type": "execute_result"
    }
   ],
   "source": [
    "len(ready_df)"
   ]
  },
  {
   "cell_type": "code",
   "execution_count": 37,
   "id": "b4720189",
   "metadata": {},
   "outputs": [],
   "source": [
    "train, validate, test = np.split(\n",
    "    ready_df.sample(frac=1, random_state=42),\n",
    "    [int(0.65 * len(ready_df)), int(0.8 * len(ready_df))],\n",
    ")"
   ]
  },
  {
   "cell_type": "code",
   "execution_count": 1,
   "id": "205dd711",
   "metadata": {},
   "outputs": [
    {
     "ename": "NameError",
     "evalue": "name 'train' is not defined",
     "output_type": "error",
     "traceback": [
      "\u001b[1;31m---------------------------------------------------------------------------\u001b[0m",
      "\u001b[1;31mNameError\u001b[0m                                 Traceback (most recent call last)",
      "Cell \u001b[1;32mIn [1], line 1\u001b[0m\n\u001b[1;32m----> 1\u001b[0m \u001b[43mtrain\u001b[49m\u001b[38;5;241m.\u001b[39mto_csv(\u001b[38;5;124m\"\u001b[39m\u001b[38;5;124m../../data/train.csv\u001b[39m\u001b[38;5;124m\"\u001b[39m, sep\u001b[38;5;241m=\u001b[39m\u001b[38;5;124m\"\u001b[39m\u001b[38;5;130;01m\\t\u001b[39;00m\u001b[38;5;124m\"\u001b[39m, index\u001b[38;5;241m=\u001b[39m\u001b[38;5;28;01mFalse\u001b[39;00m)\n\u001b[0;32m      2\u001b[0m validate\u001b[38;5;241m.\u001b[39mto_csv(\u001b[38;5;124m\"\u001b[39m\u001b[38;5;124m../../data/val.csv\u001b[39m\u001b[38;5;124m\"\u001b[39m, sep\u001b[38;5;241m=\u001b[39m\u001b[38;5;124m\"\u001b[39m\u001b[38;5;130;01m\\t\u001b[39;00m\u001b[38;5;124m\"\u001b[39m, index\u001b[38;5;241m=\u001b[39m\u001b[38;5;28;01mFalse\u001b[39;00m)\n\u001b[0;32m      3\u001b[0m test\u001b[38;5;241m.\u001b[39mto_csv(\u001b[38;5;124m\"\u001b[39m\u001b[38;5;124m../../data/test.csv\u001b[39m\u001b[38;5;124m\"\u001b[39m, sep\u001b[38;5;241m=\u001b[39m\u001b[38;5;124m\"\u001b[39m\u001b[38;5;130;01m\\t\u001b[39;00m\u001b[38;5;124m\"\u001b[39m, index\u001b[38;5;241m=\u001b[39m\u001b[38;5;28;01mFalse\u001b[39;00m)\n",
      "\u001b[1;31mNameError\u001b[0m: name 'train' is not defined"
     ]
    }
   ],
   "source": [
    "train.to_csv(\"../../data/train.csv\", sep=\"\\t\", index=False)\n",
    "validate.to_csv(\"../../data/val.csv\", sep=\"\\t\", index=False)\n",
    "test.to_csv(\"../../data/test.csv\", sep=\"\\t\", index=False)"
   ]
  }
 ],
 "metadata": {
  "kernelspec": {
   "display_name": "Python 3.9.12 ('base')",
   "language": "python",
   "name": "python3"
  },
  "language_info": {
   "codemirror_mode": {
    "name": "ipython",
    "version": 3
   },
   "file_extension": ".py",
   "mimetype": "text/x-python",
   "name": "python",
   "nbconvert_exporter": "python",
   "pygments_lexer": "ipython3",
   "version": "3.9.12"
  },
  "vscode": {
   "interpreter": {
    "hash": "ad2bdc8ecc057115af97d19610ffacc2b4e99fae6737bb82f5d7fb13d2f2c186"
   }
  }
 },
 "nbformat": 4,
 "nbformat_minor": 5
}
