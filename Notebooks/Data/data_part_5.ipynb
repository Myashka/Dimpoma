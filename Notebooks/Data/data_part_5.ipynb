{
 "cells": [
  {
   "cell_type": "markdown",
   "metadata": {},
   "source": [
    "# Общая информация:\n",
    "__Задачи, решаемые в ноутбуке:__\n",
    "\n",
    "Взять NER модель обученной на SO и произвести определение сушностей в title и body\n",
    "\n",
    "1) Изучить возможноые классы NER\n",
    "\n",
    "2) Выделить NER в title и body, сохранить информацию об их количестве\n",
    "\n",
    "3) Вызодные файлы df_200.csv и df_200.pkl"
   ]
  },
  {
   "cell_type": "code",
   "execution_count": 1,
   "metadata": {},
   "outputs": [],
   "source": [
    "if 'google.colab' in str(get_ipython()):\n",
    "    !pip install bert_score datasets rouge_score evaluate pynvml transformers wandb sentence-transformers\n",
    "    \n",
    "    !wget https://raw.githubusercontent.com/Myashka/Diploma/master/Notebooks/utils.py\n",
    "\n",
    "    from utils import *\n",
    "\n",
    "    from google.colab import drive\n",
    "    drive.mount(\"/content/drive\")\n",
    "else:\n",
    "    import sys\n",
    "    sys.path.append(r\"D:\\vkr\\Notebooks\")\n",
    "\n",
    "    from utils import *"
   ]
  },
  {
   "cell_type": "code",
   "execution_count": 51,
   "metadata": {},
   "outputs": [],
   "source": [
    "import numpy as np\n",
    "import pandas as pd\n",
    "pd.set_option(\"display.max_colwidth\", None)\n",
    "\n",
    "from tqdm.auto import tqdm\n",
    "import torch\n",
    "from transformers import (AutoModelForTokenClassification, AutoTokenizer, pipeline)\n",
    "from sentence_transformers import SentenceTransformer\n",
    "\n",
    "import warnings\n",
    "warnings.filterwarnings(\"ignore\")"
   ]
  },
  {
   "cell_type": "code",
   "execution_count": 2,
   "metadata": {},
   "outputs": [],
   "source": [
    "torch.manual_seed(42)\n",
    "np.random.seed(42)"
   ]
  },
  {
   "cell_type": "markdown",
   "metadata": {},
   "source": [
    "# Загрузка данных"
   ]
  },
  {
   "cell_type": "code",
   "execution_count": 3,
   "metadata": {},
   "outputs": [],
   "source": [
    "df = pd.read_pickle(r'D:\\vkr\\data\\df_200.pkl')\n",
    "df = df.reset_index(drop=True)"
   ]
  },
  {
   "cell_type": "code",
   "execution_count": 4,
   "metadata": {},
   "outputs": [
    {
     "ename": "ValueError",
     "evalue": "malformed node or string: ['android', 'android-4.2-jelly-bean']",
     "output_type": "error",
     "traceback": [
      "\u001b[1;31m---------------------------------------------------------------------------\u001b[0m",
      "\u001b[1;31mValueError\u001b[0m                                Traceback (most recent call last)",
      "Cell \u001b[1;32mIn[4], line 2\u001b[0m\n\u001b[0;32m      1\u001b[0m \u001b[39mfrom\u001b[39;00m \u001b[39mast\u001b[39;00m \u001b[39mimport\u001b[39;00m literal_eval\n\u001b[1;32m----> 2\u001b[0m df\u001b[39m.\u001b[39mloc[:, \u001b[39m'\u001b[39m\u001b[39mTag\u001b[39m\u001b[39m'\u001b[39m] \u001b[39m=\u001b[39m df\u001b[39m.\u001b[39;49mloc[:, \u001b[39m'\u001b[39;49m\u001b[39mTag\u001b[39;49m\u001b[39m'\u001b[39;49m]\u001b[39m.\u001b[39;49mapply(\u001b[39mlambda\u001b[39;49;00m x: literal_eval(x))\n",
      "File \u001b[1;32mc:\\ProgramData\\Anaconda3\\lib\\site-packages\\pandas\\core\\series.py:4430\u001b[0m, in \u001b[0;36mSeries.apply\u001b[1;34m(self, func, convert_dtype, args, **kwargs)\u001b[0m\n\u001b[0;32m   4320\u001b[0m \u001b[39mdef\u001b[39;00m \u001b[39mapply\u001b[39m(\n\u001b[0;32m   4321\u001b[0m     \u001b[39mself\u001b[39m,\n\u001b[0;32m   4322\u001b[0m     func: AggFuncType,\n\u001b[1;32m   (...)\u001b[0m\n\u001b[0;32m   4325\u001b[0m     \u001b[39m*\u001b[39m\u001b[39m*\u001b[39mkwargs,\n\u001b[0;32m   4326\u001b[0m ) \u001b[39m-\u001b[39m\u001b[39m>\u001b[39m DataFrame \u001b[39m|\u001b[39m Series:\n\u001b[0;32m   4327\u001b[0m     \u001b[39m\"\"\"\u001b[39;00m\n\u001b[0;32m   4328\u001b[0m \u001b[39m    Invoke function on values of Series.\u001b[39;00m\n\u001b[0;32m   4329\u001b[0m \n\u001b[1;32m   (...)\u001b[0m\n\u001b[0;32m   4428\u001b[0m \u001b[39m    dtype: float64\u001b[39;00m\n\u001b[0;32m   4429\u001b[0m \u001b[39m    \"\"\"\u001b[39;00m\n\u001b[1;32m-> 4430\u001b[0m     \u001b[39mreturn\u001b[39;00m SeriesApply(\u001b[39mself\u001b[39;49m, func, convert_dtype, args, kwargs)\u001b[39m.\u001b[39;49mapply()\n",
      "File \u001b[1;32mc:\\ProgramData\\Anaconda3\\lib\\site-packages\\pandas\\core\\apply.py:1082\u001b[0m, in \u001b[0;36mSeriesApply.apply\u001b[1;34m(self)\u001b[0m\n\u001b[0;32m   1078\u001b[0m \u001b[39mif\u001b[39;00m \u001b[39misinstance\u001b[39m(\u001b[39mself\u001b[39m\u001b[39m.\u001b[39mf, \u001b[39mstr\u001b[39m):\n\u001b[0;32m   1079\u001b[0m     \u001b[39m# if we are a string, try to dispatch\u001b[39;00m\n\u001b[0;32m   1080\u001b[0m     \u001b[39mreturn\u001b[39;00m \u001b[39mself\u001b[39m\u001b[39m.\u001b[39mapply_str()\n\u001b[1;32m-> 1082\u001b[0m \u001b[39mreturn\u001b[39;00m \u001b[39mself\u001b[39;49m\u001b[39m.\u001b[39;49mapply_standard()\n",
      "File \u001b[1;32mc:\\ProgramData\\Anaconda3\\lib\\site-packages\\pandas\\core\\apply.py:1137\u001b[0m, in \u001b[0;36mSeriesApply.apply_standard\u001b[1;34m(self)\u001b[0m\n\u001b[0;32m   1131\u001b[0m         values \u001b[39m=\u001b[39m obj\u001b[39m.\u001b[39mastype(\u001b[39mobject\u001b[39m)\u001b[39m.\u001b[39m_values\n\u001b[0;32m   1132\u001b[0m         \u001b[39m# error: Argument 2 to \"map_infer\" has incompatible type\u001b[39;00m\n\u001b[0;32m   1133\u001b[0m         \u001b[39m# \"Union[Callable[..., Any], str, List[Union[Callable[..., Any], str]],\u001b[39;00m\n\u001b[0;32m   1134\u001b[0m         \u001b[39m# Dict[Hashable, Union[Union[Callable[..., Any], str],\u001b[39;00m\n\u001b[0;32m   1135\u001b[0m         \u001b[39m# List[Union[Callable[..., Any], str]]]]]\"; expected\u001b[39;00m\n\u001b[0;32m   1136\u001b[0m         \u001b[39m# \"Callable[[Any], Any]\"\u001b[39;00m\n\u001b[1;32m-> 1137\u001b[0m         mapped \u001b[39m=\u001b[39m lib\u001b[39m.\u001b[39;49mmap_infer(\n\u001b[0;32m   1138\u001b[0m             values,\n\u001b[0;32m   1139\u001b[0m             f,  \u001b[39m# type: ignore[arg-type]\u001b[39;49;00m\n\u001b[0;32m   1140\u001b[0m             convert\u001b[39m=\u001b[39;49m\u001b[39mself\u001b[39;49m\u001b[39m.\u001b[39;49mconvert_dtype,\n\u001b[0;32m   1141\u001b[0m         )\n\u001b[0;32m   1143\u001b[0m \u001b[39mif\u001b[39;00m \u001b[39mlen\u001b[39m(mapped) \u001b[39mand\u001b[39;00m \u001b[39misinstance\u001b[39m(mapped[\u001b[39m0\u001b[39m], ABCSeries):\n\u001b[0;32m   1144\u001b[0m     \u001b[39m# GH#43986 Need to do list(mapped) in order to get treated as nested\u001b[39;00m\n\u001b[0;32m   1145\u001b[0m     \u001b[39m#  See also GH#25959 regarding EA support\u001b[39;00m\n\u001b[0;32m   1146\u001b[0m     \u001b[39mreturn\u001b[39;00m obj\u001b[39m.\u001b[39m_constructor_expanddim(\u001b[39mlist\u001b[39m(mapped), index\u001b[39m=\u001b[39mobj\u001b[39m.\u001b[39mindex)\n",
      "File \u001b[1;32mc:\\ProgramData\\Anaconda3\\lib\\site-packages\\pandas\\_libs\\lib.pyx:2870\u001b[0m, in \u001b[0;36mpandas._libs.lib.map_infer\u001b[1;34m()\u001b[0m\n",
      "Cell \u001b[1;32mIn[4], line 2\u001b[0m, in \u001b[0;36m<lambda>\u001b[1;34m(x)\u001b[0m\n\u001b[0;32m      1\u001b[0m \u001b[39mfrom\u001b[39;00m \u001b[39mast\u001b[39;00m \u001b[39mimport\u001b[39;00m literal_eval\n\u001b[1;32m----> 2\u001b[0m df\u001b[39m.\u001b[39mloc[:, \u001b[39m'\u001b[39m\u001b[39mTag\u001b[39m\u001b[39m'\u001b[39m] \u001b[39m=\u001b[39m df\u001b[39m.\u001b[39mloc[:, \u001b[39m'\u001b[39m\u001b[39mTag\u001b[39m\u001b[39m'\u001b[39m]\u001b[39m.\u001b[39mapply(\u001b[39mlambda\u001b[39;00m x: literal_eval(x))\n",
      "File \u001b[1;32mc:\\ProgramData\\Anaconda3\\lib\\ast.py:105\u001b[0m, in \u001b[0;36mliteral_eval\u001b[1;34m(node_or_string)\u001b[0m\n\u001b[0;32m    103\u001b[0m                 \u001b[39mreturn\u001b[39;00m left \u001b[39m-\u001b[39m right\n\u001b[0;32m    104\u001b[0m     \u001b[39mreturn\u001b[39;00m _convert_signed_num(node)\n\u001b[1;32m--> 105\u001b[0m \u001b[39mreturn\u001b[39;00m _convert(node_or_string)\n",
      "File \u001b[1;32mc:\\ProgramData\\Anaconda3\\lib\\ast.py:104\u001b[0m, in \u001b[0;36mliteral_eval.<locals>._convert\u001b[1;34m(node)\u001b[0m\n\u001b[0;32m    102\u001b[0m         \u001b[39melse\u001b[39;00m:\n\u001b[0;32m    103\u001b[0m             \u001b[39mreturn\u001b[39;00m left \u001b[39m-\u001b[39m right\n\u001b[1;32m--> 104\u001b[0m \u001b[39mreturn\u001b[39;00m _convert_signed_num(node)\n",
      "File \u001b[1;32mc:\\ProgramData\\Anaconda3\\lib\\ast.py:78\u001b[0m, in \u001b[0;36mliteral_eval.<locals>._convert_signed_num\u001b[1;34m(node)\u001b[0m\n\u001b[0;32m     76\u001b[0m     \u001b[39melse\u001b[39;00m:\n\u001b[0;32m     77\u001b[0m         \u001b[39mreturn\u001b[39;00m \u001b[39m-\u001b[39m operand\n\u001b[1;32m---> 78\u001b[0m \u001b[39mreturn\u001b[39;00m _convert_num(node)\n",
      "File \u001b[1;32mc:\\ProgramData\\Anaconda3\\lib\\ast.py:69\u001b[0m, in \u001b[0;36mliteral_eval.<locals>._convert_num\u001b[1;34m(node)\u001b[0m\n\u001b[0;32m     67\u001b[0m \u001b[39mdef\u001b[39;00m \u001b[39m_convert_num\u001b[39m(node):\n\u001b[0;32m     68\u001b[0m     \u001b[39mif\u001b[39;00m \u001b[39mnot\u001b[39;00m \u001b[39misinstance\u001b[39m(node, Constant) \u001b[39mor\u001b[39;00m \u001b[39mtype\u001b[39m(node\u001b[39m.\u001b[39mvalue) \u001b[39mnot\u001b[39;00m \u001b[39min\u001b[39;00m (\u001b[39mint\u001b[39m, \u001b[39mfloat\u001b[39m, \u001b[39mcomplex\u001b[39m):\n\u001b[1;32m---> 69\u001b[0m         _raise_malformed_node(node)\n\u001b[0;32m     70\u001b[0m     \u001b[39mreturn\u001b[39;00m node\u001b[39m.\u001b[39mvalue\n",
      "File \u001b[1;32mc:\\ProgramData\\Anaconda3\\lib\\ast.py:66\u001b[0m, in \u001b[0;36mliteral_eval.<locals>._raise_malformed_node\u001b[1;34m(node)\u001b[0m\n\u001b[0;32m     65\u001b[0m \u001b[39mdef\u001b[39;00m \u001b[39m_raise_malformed_node\u001b[39m(node):\n\u001b[1;32m---> 66\u001b[0m     \u001b[39mraise\u001b[39;00m \u001b[39mValueError\u001b[39;00m(\u001b[39mf\u001b[39m\u001b[39m'\u001b[39m\u001b[39mmalformed node or string: \u001b[39m\u001b[39m{\u001b[39;00mnode\u001b[39m!r}\u001b[39;00m\u001b[39m'\u001b[39m)\n",
      "\u001b[1;31mValueError\u001b[0m: malformed node or string: ['android', 'android-4.2-jelly-bean']"
     ]
    }
   ],
   "source": [
    "from ast import literal_eval\n",
    "df.loc[:, 'Tag'] = df.loc[:, 'Tag'].apply(lambda x: literal_eval(x))"
   ]
  },
  {
   "cell_type": "markdown",
   "metadata": {},
   "source": [
    "# NER"
   ]
  },
  {
   "cell_type": "markdown",
   "metadata": {},
   "source": [
    "## Загрузка модели NER"
   ]
  },
  {
   "cell_type": "code",
   "execution_count": 8,
   "metadata": {},
   "outputs": [],
   "source": [
    "device = torch.device(\"cuda\") if torch.cuda.is_available else \"cpu\""
   ]
  },
  {
   "cell_type": "code",
   "execution_count": 9,
   "metadata": {},
   "outputs": [],
   "source": [
    "tokenizer = AutoTokenizer.from_pretrained(\"mrm8488/codebert-base-finetuned-stackoverflow-ner\")\n",
    "model = AutoModelForTokenClassification.from_pretrained(\"mrm8488/codebert-base-finetuned-stackoverflow-ner\")\n",
    "tagger = pipeline('ner', model=model, tokenizer=tokenizer, grouped_entities=True, aggregation_strategy='average')"
   ]
  },
  {
   "cell_type": "markdown",
   "metadata": {},
   "source": [
    "## Возможные тэги"
   ]
  },
  {
   "cell_type": "code",
   "execution_count": 76,
   "metadata": {},
   "outputs": [
    {
     "name": "stdout",
     "output_type": "stream",
     "text": [
      "-\n",
      "--\n",
      "----\n",
      "B-Algorithm\n",
      "B-Application\n",
      "B-Class\n",
      "B-Code_Block\n",
      "B-Data_Structure\n",
      "B-Data_Type\n",
      "B-Device\n",
      "B-Error_Name\n",
      "B-File_Name\n",
      "B-File_Type\n",
      "B-Function\n",
      "B-HTML_XML_Tag\n",
      "B-Keyboard_IP\n",
      "B-Language\n",
      "B-Library\n",
      "B-Licence\n",
      "B-Operating_System\n",
      "B-Organization\n",
      "B-Output_Block\n",
      "B-User_Interface_Element\n",
      "B-User_Name\n",
      "B-Value\n",
      "B-Variable\n",
      "B-Version\n",
      "B-Website\n",
      "I-Algorithm\n",
      "I-Application\n",
      "I-Class\n",
      "I-Code_Block\n",
      "I-Data_Structure\n",
      "I-Data_Type\n",
      "I-Device\n",
      "I-Error_Name\n",
      "I-File_Name\n",
      "I-File_Type\n",
      "I-Function\n",
      "I-HTML_XML_Tag\n",
      "I-Keyboard_IP\n",
      "I-Language\n",
      "I-Library\n",
      "I-Licence\n",
      "I-Operating_System\n",
      "I-Output_Block\n",
      "I-User_Interface_Element\n",
      "I-User_Name\n",
      "I-Value\n",
      "I-Variable\n",
      "I-Version\n",
      "I-Website\n",
      "MAIN\n",
      "--MEDIA\n",
      "O\n"
     ]
    }
   ],
   "source": [
    "print(*model.config.id2label.values(), sep='\\n')"
   ]
  },
  {
   "cell_type": "markdown",
   "metadata": {},
   "source": [
    "## Добавление NER в df"
   ]
  },
  {
   "cell_type": "markdown",
   "metadata": {},
   "source": [
    "Функция для объединения \"сущностей\" в один элемент (сущности одного класса, score считается как средний из сложенных)"
   ]
  },
  {
   "cell_type": "code",
   "execution_count": 10,
   "metadata": {},
   "outputs": [],
   "source": [
    "def parse_ner(model_entities):\n",
    "    new_entities = []\n",
    "    if len(model_entities) == 1:\n",
    "        return model_entities\n",
    "    for i in range(len(model_entities)):\n",
    "        count = 2\n",
    "        if i == 0:\n",
    "            new_entities.append(model_entities[i])\n",
    "        else:\n",
    "            if (\n",
    "                new_entities[-1][\"end\"] == model_entities[i][\"start\"]\n",
    "                #and new_entities[-1][\"entity_group\"] == model_entities[i][\"entity_group\"]\n",
    "            ):\n",
    "                new_entities[-1] = {\n",
    "                    \"entity_group\": new_entities[-1][\"entity_group\"],\n",
    "                    \"score\": (\n",
    "                        new_entities[-1][\"score\"] * (count - 1) + model_entities[i][\"score\"]\n",
    "                    )\n",
    "                    / count,\n",
    "                    \"word\": new_entities[-1][\"word\"] + model_entities[i][\"word\"],\n",
    "                    \"start\": new_entities[-1][\"start\"],\n",
    "                    \"end\": model_entities[i][\"end\"],\n",
    "                }\n",
    "                count += 1\n",
    "            else:\n",
    "                new_entities.append(model_entities[i])\n",
    "    return new_entities"
   ]
  },
  {
   "cell_type": "code",
   "execution_count": 11,
   "metadata": {},
   "outputs": [
    {
     "name": "stdout",
     "output_type": "stream",
     "text": [
      "question: How can we integrate Flurry to Admobs or AdWhirl Mediation ?? Is we cant Flurry using Webpage then, do we need to add it using Code ? I am working in Android, how can we do that?\n",
      "{'entity_group': 'Library', 'score': 0.8431235551834106, 'word': ' Flurry', 'start': 21, 'end': 27}\n",
      "{'entity_group': 'Application', 'score': 0.8715477, 'word': ' Adm', 'start': 31, 'end': 34}\n",
      "{'entity_group': 'Application', 'score': 0.5604931, 'word': 'Wh', 'start': 43, 'end': 45}\n",
      "{'entity_group': 'Library', 'score': 0.7668567299842834, 'word': ' Flurry', 'start': 73, 'end': 79}\n",
      "{'entity_group': 'Application', 'score': 0.98689765, 'word': ' Webpage', 'start': 86, 'end': 93}\n",
      "{'entity_group': 'Operating_System', 'score': 0.9949568, 'word': ' Android', 'start': 150, 'end': 157}\n"
     ]
    }
   ],
   "source": [
    "idx = 6\n",
    "print(f\"question: {df.Q_Body.values[idx]}\")\n",
    "\n",
    "output = tagger(df[\"Q_Body\"].values[idx])\n",
    "print(*parse_ner(output), sep='\\n')"
   ]
  },
  {
   "cell_type": "code",
   "execution_count": 11,
   "metadata": {},
   "outputs": [],
   "source": [
    "def get_count_entities(text):\n",
    "    output = tagger(text)\n",
    "    try:\n",
    "        return len(parse_ner(output))\n",
    "    except:\n",
    "        return 0"
   ]
  },
  {
   "cell_type": "markdown",
   "metadata": {},
   "source": [
    "Q_entities и T_entities - list of dicts"
   ]
  },
  {
   "cell_type": "code",
   "execution_count": 13,
   "metadata": {},
   "outputs": [],
   "source": [
    "df['Q_entities'] = df.Q_Body.apply(lambda x: parse_ner(tagger(x)))"
   ]
  },
  {
   "cell_type": "code",
   "execution_count": 14,
   "metadata": {},
   "outputs": [],
   "source": [
    "df['T_entities'] = df.Q_Title.apply(lambda x: parse_ner(tagger(x)))"
   ]
  },
  {
   "cell_type": "code",
   "execution_count": 24,
   "metadata": {},
   "outputs": [],
   "source": [
    "df['Q_entities_count'] = df.Q_entities.apply(lambda x: len(x))\n",
    "df['T_entities_count'] = df.T_entities.apply(lambda x: len(x))"
   ]
  },
  {
   "cell_type": "code",
   "execution_count": 25,
   "metadata": {},
   "outputs": [
    {
     "data": {
      "text/plain": [
       "Index(['Id', 'Q_date_open', 'Q_Score', 'Q_Title', 'Q_Body', 'A_Score',\n",
       "       'A_Body', 'Tag', 'Q_len', 'A_len', 'API_CHANGE', 'API_USAGE',\n",
       "       'CONCEPTUAL', 'DISCREPANCY', 'DOCUMENTATION', 'ERRORS', 'REVIEW',\n",
       "       't_q_BERT_dist', 't_q_MPnet_dist', 'Q_entities_count',\n",
       "       'T_entities_count', 'Q_entities', 'T_entities'],\n",
       "      dtype='object')"
      ]
     },
     "execution_count": 25,
     "metadata": {},
     "output_type": "execute_result"
    }
   ],
   "source": [
    "df.columns"
   ]
  },
  {
   "cell_type": "code",
   "execution_count": 26,
   "metadata": {},
   "outputs": [
    {
     "data": {
      "text/plain": [
       "<AxesSubplot:xlabel='Q_len', ylabel='Q_entities_count'>"
      ]
     },
     "execution_count": 26,
     "metadata": {},
     "output_type": "execute_result"
    },
    {
     "data": {
      "image/png": "[encoded data removed]",
      "text/plain": [
       "<Figure size 432x288 with 1 Axes>"
      ]
     },
     "metadata": {
      "needs_background": "light"
     },
     "output_type": "display_data"
    }
   ],
   "source": [
    "df.plot.scatter('Q_len', 'Q_entities_count')"
   ]
  },
  {
   "cell_type": "markdown",
   "metadata": {},
   "source": [
    "# Анализ количества классов сущностей"
   ]
  },
  {
   "cell_type": "markdown",
   "metadata": {},
   "source": [
    "## Counting entities in titles and questions"
   ]
  },
  {
   "cell_type": "code",
   "execution_count": 27,
   "metadata": {},
   "outputs": [
    {
     "data": {
      "text/plain": [
       "Index(['Id', 'Q_date_open', 'Q_Score', 'Q_Title', 'Q_Body', 'A_Score',\n",
       "       'A_Body', 'Tag', 'Q_len', 'A_len', 'API_CHANGE', 'API_USAGE',\n",
       "       'CONCEPTUAL', 'DISCREPANCY', 'DOCUMENTATION', 'ERRORS', 'REVIEW',\n",
       "       't_q_BERT_dist', 't_q_MPnet_dist', 'Q_entities_count',\n",
       "       'T_entities_count', 'Q_entities', 'T_entities'],\n",
       "      dtype='object')"
      ]
     },
     "execution_count": 27,
     "metadata": {},
     "output_type": "execute_result"
    }
   ],
   "source": [
    "df.columns"
   ]
  },
  {
   "cell_type": "code",
   "execution_count": 68,
   "metadata": {},
   "outputs": [],
   "source": [
    "#df = df.drop(columns=['API_CHANGE', 'API_USAGE', 'CONCEPTUAL', 'DISCREPANCY', 'DOCUMENTATION', 'ERRORS', 'REVIEW',])"
   ]
  },
  {
   "cell_type": "code",
   "execution_count": 73,
   "metadata": {},
   "outputs": [
    {
     "name": "stdout",
     "output_type": "stream",
     "text": [
      "-|||--|||----|||B-Algorithm|||B-Application|||B-Class|||B-Code_Block|||B-Data_Structure|||B-Data_Type|||B-Device|||B-Error_Name|||B-File_Name|||B-File_Type|||B-Function|||B-HTML_XML_Tag|||B-Keyboard_IP|||B-Language|||B-Library|||B-Licence|||B-Operating_System|||B-Organization|||B-Output_Block|||B-User_Interface_Element|||B-User_Name|||B-Value|||B-Variable|||B-Version|||B-Website|||I-Algorithm|||I-Application|||I-Class|||I-Code_Block|||I-Data_Structure|||I-Data_Type|||I-Device|||I-Error_Name|||I-File_Name|||I-File_Type|||I-Function|||I-HTML_XML_Tag|||I-Keyboard_IP|||I-Language|||I-Library|||I-Licence|||I-Operating_System|||I-Output_Block|||I-User_Interface_Element|||I-User_Name|||I-Value|||I-Variable|||I-Version|||I-Website|||MAIN|||--MEDIA|||O\n"
     ]
    }
   ],
   "source": [
    "print(*model.config.id2label.values(), sep='|||')"
   ]
  },
  {
   "cell_type": "code",
   "execution_count": 28,
   "metadata": {},
   "outputs": [],
   "source": [
    "labels = list(model.config.id2label.values())\n",
    "\n",
    "new_labels = []\n",
    "for label in labels:\n",
    "    if label.startswith('B-') or label.startswith('I-'):\n",
    "        new_labels.append(label[2:])"
   ]
  },
  {
   "cell_type": "markdown",
   "metadata": {},
   "source": [
    "Посмотрим возможные классы сущностей"
   ]
  },
  {
   "cell_type": "code",
   "execution_count": 29,
   "metadata": {},
   "outputs": [],
   "source": [
    "new_labels = sorted(list(set(new_labels)))"
   ]
  },
  {
   "cell_type": "code",
   "execution_count": 31,
   "metadata": {},
   "outputs": [
    {
     "name": "stdout",
     "output_type": "stream",
     "text": [
      "Algorithm |||Application |||Class |||Code_Block |||Data_Structure |||\n",
      "\n",
      "Data_Type |||Device |||Error_Name |||File_Name |||File_Type |||\n",
      "\n",
      "Function |||HTML_XML_Tag |||Keyboard_IP |||Language |||Library |||\n",
      "\n",
      "Licence |||Operating_System |||Organization |||Output_Block |||User_Interface_Element |||\n",
      "\n",
      "User_Name |||Value |||Variable |||Version |||Website |||\n",
      "\n"
     ]
    }
   ],
   "source": [
    "for i, label in enumerate(new_labels):\n",
    "    print(label, end=' |||') \n",
    "    if i % 5 == 4: \n",
    "        print(\"\\n\")"
   ]
  },
  {
   "cell_type": "markdown",
   "metadata": {},
   "source": [
    "## Посчитаем количество сущностей разных классов в title и question"
   ]
  },
  {
   "cell_type": "code",
   "execution_count": 32,
   "metadata": {},
   "outputs": [],
   "source": [
    "for label in new_labels:\n",
    "    df[f'Q_{label}'] = 0"
   ]
  },
  {
   "cell_type": "code",
   "execution_count": 33,
   "metadata": {},
   "outputs": [],
   "source": [
    "for label in new_labels:\n",
    "    df[f'T_{label}'] = 0"
   ]
  },
  {
   "cell_type": "code",
   "execution_count": 34,
   "metadata": {},
   "outputs": [
    {
     "data": {
      "application/vnd.jupyter.widget-view+json": {
       "model_id": "c04c6a2d938143d89e8d73948c7d2ce4",
       "version_major": 2,
       "version_minor": 0
      },
      "text/plain": [
       "0it [00:00, ?it/s]"
      ]
     },
     "metadata": {},
     "output_type": "display_data"
    }
   ],
   "source": [
    "for index, row in tqdm(df.loc[df.Q_entities_count != 0].iterrows()):\n",
    "    for ent in row.Q_entities:\n",
    "        if ent['entity_group'] in new_labels:\n",
    "            col = 'Q_'+ent['entity_group']\n",
    "            df.at[index, col] += 1"
   ]
  },
  {
   "cell_type": "code",
   "execution_count": 35,
   "metadata": {},
   "outputs": [
    {
     "data": {
      "application/vnd.jupyter.widget-view+json": {
       "model_id": "70d068e9758744b38161a97c436ebfbd",
       "version_major": 2,
       "version_minor": 0
      },
      "text/plain": [
       "0it [00:00, ?it/s]"
      ]
     },
     "metadata": {},
     "output_type": "display_data"
    }
   ],
   "source": [
    "for index, row in tqdm(df.loc[df.T_entities_count != 0].iterrows()):\n",
    "    for ent in row.T_entities:\n",
    "        if ent['entity_group'] in new_labels:\n",
    "            col = 'T_'+ent['entity_group']\n",
    "            df.at[index, col] += 1"
   ]
  },
  {
   "cell_type": "code",
   "execution_count": 36,
   "metadata": {},
   "outputs": [],
   "source": [
    "df.to_csv(r'../../data/df_200_continuous.csv')"
   ]
  },
  {
   "cell_type": "code",
   "execution_count": 37,
   "metadata": {},
   "outputs": [],
   "source": [
    "df.to_pickle(r'../../data/df_200_continuous.pkl')"
   ]
  },
  {
   "cell_type": "code",
   "execution_count": 38,
   "metadata": {},
   "outputs": [
    {
     "data": {
      "text/html": [
       "<div>\n",
       "<style scoped>\n",
       "    .dataframe tbody tr th:only-of-type {\n",
       "        vertical-align: middle;\n",
       "    }\n",
       "\n",
       "    .dataframe tbody tr th {\n",
       "        vertical-align: top;\n",
       "    }\n",
       "\n",
       "    .dataframe thead th {\n",
       "        text-align: right;\n",
       "    }\n",
       "</style>\n",
       "<table border=\"1\" class=\"dataframe\">\n",
       "  <thead>\n",
       "    <tr style=\"text-align: right;\">\n",
       "      <th></th>\n",
       "      <th>T_Algorithm</th>\n",
       "      <th>T_Application</th>\n",
       "      <th>T_Class</th>\n",
       "      <th>T_Code_Block</th>\n",
       "      <th>T_Data_Structure</th>\n",
       "      <th>T_Data_Type</th>\n",
       "      <th>T_Device</th>\n",
       "      <th>T_Error_Name</th>\n",
       "      <th>T_File_Name</th>\n",
       "      <th>T_File_Type</th>\n",
       "      <th>...</th>\n",
       "      <th>T_Licence</th>\n",
       "      <th>T_Operating_System</th>\n",
       "      <th>T_Organization</th>\n",
       "      <th>T_Output_Block</th>\n",
       "      <th>T_User_Interface_Element</th>\n",
       "      <th>T_User_Name</th>\n",
       "      <th>T_Value</th>\n",
       "      <th>T_Variable</th>\n",
       "      <th>T_Version</th>\n",
       "      <th>T_Website</th>\n",
       "    </tr>\n",
       "  </thead>\n",
       "  <tbody>\n",
       "    <tr>\n",
       "      <th>count</th>\n",
       "      <td>707.000000</td>\n",
       "      <td>707.000000</td>\n",
       "      <td>707.000000</td>\n",
       "      <td>707.000000</td>\n",
       "      <td>707.000000</td>\n",
       "      <td>707.000000</td>\n",
       "      <td>707.000000</td>\n",
       "      <td>707.000000</td>\n",
       "      <td>707.000000</td>\n",
       "      <td>707.000000</td>\n",
       "      <td>...</td>\n",
       "      <td>707.0</td>\n",
       "      <td>707.000000</td>\n",
       "      <td>707.0</td>\n",
       "      <td>707.000000</td>\n",
       "      <td>707.000000</td>\n",
       "      <td>707.0</td>\n",
       "      <td>707.000000</td>\n",
       "      <td>707.000000</td>\n",
       "      <td>707.000000</td>\n",
       "      <td>707.000000</td>\n",
       "    </tr>\n",
       "    <tr>\n",
       "      <th>mean</th>\n",
       "      <td>0.002829</td>\n",
       "      <td>0.333805</td>\n",
       "      <td>0.173975</td>\n",
       "      <td>0.015559</td>\n",
       "      <td>0.011315</td>\n",
       "      <td>0.011315</td>\n",
       "      <td>0.159830</td>\n",
       "      <td>0.021216</td>\n",
       "      <td>0.039604</td>\n",
       "      <td>0.055163</td>\n",
       "      <td>...</td>\n",
       "      <td>0.0</td>\n",
       "      <td>0.521924</td>\n",
       "      <td>0.0</td>\n",
       "      <td>0.008487</td>\n",
       "      <td>0.171146</td>\n",
       "      <td>0.0</td>\n",
       "      <td>0.022631</td>\n",
       "      <td>0.036775</td>\n",
       "      <td>0.043847</td>\n",
       "      <td>0.012730</td>\n",
       "    </tr>\n",
       "    <tr>\n",
       "      <th>std</th>\n",
       "      <td>0.053149</td>\n",
       "      <td>0.586947</td>\n",
       "      <td>0.466439</td>\n",
       "      <td>0.134801</td>\n",
       "      <td>0.105845</td>\n",
       "      <td>0.118474</td>\n",
       "      <td>0.417295</td>\n",
       "      <td>0.201558</td>\n",
       "      <td>0.234705</td>\n",
       "      <td>0.257600</td>\n",
       "      <td>...</td>\n",
       "      <td>0.0</td>\n",
       "      <td>0.551087</td>\n",
       "      <td>0.0</td>\n",
       "      <td>0.106110</td>\n",
       "      <td>0.479452</td>\n",
       "      <td>0.0</td>\n",
       "      <td>0.197856</td>\n",
       "      <td>0.252590</td>\n",
       "      <td>0.236956</td>\n",
       "      <td>0.112186</td>\n",
       "    </tr>\n",
       "    <tr>\n",
       "      <th>min</th>\n",
       "      <td>0.000000</td>\n",
       "      <td>0.000000</td>\n",
       "      <td>0.000000</td>\n",
       "      <td>0.000000</td>\n",
       "      <td>0.000000</td>\n",
       "      <td>0.000000</td>\n",
       "      <td>0.000000</td>\n",
       "      <td>0.000000</td>\n",
       "      <td>0.000000</td>\n",
       "      <td>0.000000</td>\n",
       "      <td>...</td>\n",
       "      <td>0.0</td>\n",
       "      <td>0.000000</td>\n",
       "      <td>0.0</td>\n",
       "      <td>0.000000</td>\n",
       "      <td>0.000000</td>\n",
       "      <td>0.0</td>\n",
       "      <td>0.000000</td>\n",
       "      <td>0.000000</td>\n",
       "      <td>0.000000</td>\n",
       "      <td>0.000000</td>\n",
       "    </tr>\n",
       "    <tr>\n",
       "      <th>25%</th>\n",
       "      <td>0.000000</td>\n",
       "      <td>0.000000</td>\n",
       "      <td>0.000000</td>\n",
       "      <td>0.000000</td>\n",
       "      <td>0.000000</td>\n",
       "      <td>0.000000</td>\n",
       "      <td>0.000000</td>\n",
       "      <td>0.000000</td>\n",
       "      <td>0.000000</td>\n",
       "      <td>0.000000</td>\n",
       "      <td>...</td>\n",
       "      <td>0.0</td>\n",
       "      <td>0.000000</td>\n",
       "      <td>0.0</td>\n",
       "      <td>0.000000</td>\n",
       "      <td>0.000000</td>\n",
       "      <td>0.0</td>\n",
       "      <td>0.000000</td>\n",
       "      <td>0.000000</td>\n",
       "      <td>0.000000</td>\n",
       "      <td>0.000000</td>\n",
       "    </tr>\n",
       "    <tr>\n",
       "      <th>50%</th>\n",
       "      <td>0.000000</td>\n",
       "      <td>0.000000</td>\n",
       "      <td>0.000000</td>\n",
       "      <td>0.000000</td>\n",
       "      <td>0.000000</td>\n",
       "      <td>0.000000</td>\n",
       "      <td>0.000000</td>\n",
       "      <td>0.000000</td>\n",
       "      <td>0.000000</td>\n",
       "      <td>0.000000</td>\n",
       "      <td>...</td>\n",
       "      <td>0.0</td>\n",
       "      <td>0.000000</td>\n",
       "      <td>0.0</td>\n",
       "      <td>0.000000</td>\n",
       "      <td>0.000000</td>\n",
       "      <td>0.0</td>\n",
       "      <td>0.000000</td>\n",
       "      <td>0.000000</td>\n",
       "      <td>0.000000</td>\n",
       "      <td>0.000000</td>\n",
       "    </tr>\n",
       "    <tr>\n",
       "      <th>75%</th>\n",
       "      <td>0.000000</td>\n",
       "      <td>1.000000</td>\n",
       "      <td>0.000000</td>\n",
       "      <td>0.000000</td>\n",
       "      <td>0.000000</td>\n",
       "      <td>0.000000</td>\n",
       "      <td>0.000000</td>\n",
       "      <td>0.000000</td>\n",
       "      <td>0.000000</td>\n",
       "      <td>0.000000</td>\n",
       "      <td>...</td>\n",
       "      <td>0.0</td>\n",
       "      <td>1.000000</td>\n",
       "      <td>0.0</td>\n",
       "      <td>0.000000</td>\n",
       "      <td>0.000000</td>\n",
       "      <td>0.0</td>\n",
       "      <td>0.000000</td>\n",
       "      <td>0.000000</td>\n",
       "      <td>0.000000</td>\n",
       "      <td>0.000000</td>\n",
       "    </tr>\n",
       "    <tr>\n",
       "      <th>max</th>\n",
       "      <td>1.000000</td>\n",
       "      <td>3.000000</td>\n",
       "      <td>3.000000</td>\n",
       "      <td>2.000000</td>\n",
       "      <td>1.000000</td>\n",
       "      <td>2.000000</td>\n",
       "      <td>2.000000</td>\n",
       "      <td>3.000000</td>\n",
       "      <td>3.000000</td>\n",
       "      <td>2.000000</td>\n",
       "      <td>...</td>\n",
       "      <td>0.0</td>\n",
       "      <td>3.000000</td>\n",
       "      <td>0.0</td>\n",
       "      <td>2.000000</td>\n",
       "      <td>5.000000</td>\n",
       "      <td>0.0</td>\n",
       "      <td>3.000000</td>\n",
       "      <td>4.000000</td>\n",
       "      <td>2.000000</td>\n",
       "      <td>1.000000</td>\n",
       "    </tr>\n",
       "  </tbody>\n",
       "</table>\n",
       "<p>8 rows × 25 columns</p>\n",
       "</div>"
      ],
      "text/plain": [
       "       T_Algorithm  T_Application     T_Class  T_Code_Block  T_Data_Structure  \\\n",
       "count   707.000000     707.000000  707.000000    707.000000        707.000000   \n",
       "mean      0.002829       0.333805    0.173975      0.015559          0.011315   \n",
       "std       0.053149       0.586947    0.466439      0.134801          0.105845   \n",
       "min       0.000000       0.000000    0.000000      0.000000          0.000000   \n",
       "25%       0.000000       0.000000    0.000000      0.000000          0.000000   \n",
       "50%       0.000000       0.000000    0.000000      0.000000          0.000000   \n",
       "75%       0.000000       1.000000    0.000000      0.000000          0.000000   \n",
       "max       1.000000       3.000000    3.000000      2.000000          1.000000   \n",
       "\n",
       "       T_Data_Type    T_Device  T_Error_Name  T_File_Name  T_File_Type  ...  \\\n",
       "count   707.000000  707.000000    707.000000   707.000000   707.000000  ...   \n",
       "mean      0.011315    0.159830      0.021216     0.039604     0.055163  ...   \n",
       "std       0.118474    0.417295      0.201558     0.234705     0.257600  ...   \n",
       "min       0.000000    0.000000      0.000000     0.000000     0.000000  ...   \n",
       "25%       0.000000    0.000000      0.000000     0.000000     0.000000  ...   \n",
       "50%       0.000000    0.000000      0.000000     0.000000     0.000000  ...   \n",
       "75%       0.000000    0.000000      0.000000     0.000000     0.000000  ...   \n",
       "max       2.000000    2.000000      3.000000     3.000000     2.000000  ...   \n",
       "\n",
       "       T_Licence  T_Operating_System  T_Organization  T_Output_Block  \\\n",
       "count      707.0          707.000000           707.0      707.000000   \n",
       "mean         0.0            0.521924             0.0        0.008487   \n",
       "std          0.0            0.551087             0.0        0.106110   \n",
       "min          0.0            0.000000             0.0        0.000000   \n",
       "25%          0.0            0.000000             0.0        0.000000   \n",
       "50%          0.0            0.000000             0.0        0.000000   \n",
       "75%          0.0            1.000000             0.0        0.000000   \n",
       "max          0.0            3.000000             0.0        2.000000   \n",
       "\n",
       "       T_User_Interface_Element  T_User_Name     T_Value  T_Variable  \\\n",
       "count                707.000000        707.0  707.000000  707.000000   \n",
       "mean                   0.171146          0.0    0.022631    0.036775   \n",
       "std                    0.479452          0.0    0.197856    0.252590   \n",
       "min                    0.000000          0.0    0.000000    0.000000   \n",
       "25%                    0.000000          0.0    0.000000    0.000000   \n",
       "50%                    0.000000          0.0    0.000000    0.000000   \n",
       "75%                    0.000000          0.0    0.000000    0.000000   \n",
       "max                    5.000000          0.0    3.000000    4.000000   \n",
       "\n",
       "        T_Version   T_Website  \n",
       "count  707.000000  707.000000  \n",
       "mean     0.043847    0.012730  \n",
       "std      0.236956    0.112186  \n",
       "min      0.000000    0.000000  \n",
       "25%      0.000000    0.000000  \n",
       "50%      0.000000    0.000000  \n",
       "75%      0.000000    0.000000  \n",
       "max      2.000000    1.000000  \n",
       "\n",
       "[8 rows x 25 columns]"
      ]
     },
     "execution_count": 38,
     "metadata": {},
     "output_type": "execute_result"
    }
   ],
   "source": [
    "df.iloc[:, -25:].describe()"
   ]
  },
  {
   "cell_type": "markdown",
   "metadata": {},
   "source": [
    "Количество классов сущностей в датасете"
   ]
  },
  {
   "cell_type": "code",
   "execution_count": null,
   "metadata": {},
   "outputs": [],
   "source": [
    "for label in [\n",
    "    \"Algorithm\",\n",
    "    \"Application\",\n",
    "    \"Class\",\n",
    "    \"Code_Block\",\n",
    "    \"Data_Structure\",\n",
    "    \"Data_Type\",\n",
    "    \"Device\",\n",
    "    \"Error_Name\",\n",
    "    \"File_Name\",\n",
    "    \"File_Type\",\n",
    "    \"Function\",\n",
    "    \"HTML_XML_Tag\",\n",
    "    \"Keyboard_IP\",\n",
    "    \"Language\",\n",
    "    \"Library\",\n",
    "    \"Licence\",\n",
    "    \"Operating_System\",\n",
    "    \"Organization\",\n",
    "    \"Output_Block\",\n",
    "    \"User_Interface_Element\",\n",
    "    \"User_Name\",\n",
    "    \"Value\",\n",
    "    \"Variable\",\n",
    "    \"Version\",\n",
    "    \"Website\",\n",
    "]:\n",
    "    print(f'{label}: '+str(sum(df[f'{label}'].value_counts()[1:])))\n"
   ]
  },
  {
   "cell_type": "markdown",
   "metadata": {},
   "source": [
    "## Посмотрим выбросы (обычный НЕР и \"тянущийся\" НЕР)"
   ]
  },
  {
   "cell_type": "code",
   "execution_count": 12,
   "metadata": {},
   "outputs": [
    {
     "data": {
      "text/html": [
       "<div>\n",
       "<style scoped>\n",
       "    .dataframe tbody tr th:only-of-type {\n",
       "        vertical-align: middle;\n",
       "    }\n",
       "\n",
       "    .dataframe tbody tr th {\n",
       "        vertical-align: top;\n",
       "    }\n",
       "\n",
       "    .dataframe thead th {\n",
       "        text-align: right;\n",
       "    }\n",
       "</style>\n",
       "<table border=\"1\" class=\"dataframe\">\n",
       "  <thead>\n",
       "    <tr style=\"text-align: right;\">\n",
       "      <th></th>\n",
       "      <th>Q_Title</th>\n",
       "      <th>T_Keyboard_IP</th>\n",
       "    </tr>\n",
       "  </thead>\n",
       "  <tbody>\n",
       "    <tr>\n",
       "      <th>77</th>\n",
       "      <td>Android: Localized standard Text for example OK, CANCEL and GPS not activated - for example?</td>\n",
       "      <td>1</td>\n",
       "    </tr>\n",
       "  </tbody>\n",
       "</table>\n",
       "</div>"
      ],
      "text/plain": [
       "                                                                                         Q_Title  \\\n",
       "77  Android: Localized standard Text for example OK, CANCEL and GPS not activated - for example?   \n",
       "\n",
       "    T_Keyboard_IP  \n",
       "77              1  "
      ]
     },
     "execution_count": 12,
     "metadata": {},
     "output_type": "execute_result"
    }
   ],
   "source": [
    "# check by hands \n",
    "df.loc[df[f'T_Keyboard_IP'] != 0].loc[:, ['Q_Title', 'T_Keyboard_IP']]"
   ]
  },
  {
   "cell_type": "markdown",
   "metadata": {},
   "source": [
    "Посмотрим классы NER, которых в датасете очень мало, вероятнее всего это неверно определенные NER"
   ]
  },
  {
   "cell_type": "code",
   "execution_count": 327,
   "metadata": {},
   "outputs": [],
   "source": [
    "df = pd.read_pickle(r'D:\\vkr\\data\\prepared\\df_200_continuous_ner_cleared.pkl')"
   ]
  },
  {
   "cell_type": "code",
   "execution_count": 328,
   "metadata": {},
   "outputs": [],
   "source": [
    "ner_cols = [\n",
    "    \"Q_Algorithm\",\n",
    "    \"Q_Application\",\n",
    "    \"Q_Class\",\n",
    "    \"Q_Code_Block\",\n",
    "    \"Q_Data_Structure\",\n",
    "    \"Q_Data_Type\",\n",
    "    \"Q_Device\",\n",
    "    \"Q_Error_Name\",\n",
    "    \"Q_File_Name\",\n",
    "    \"Q_File_Type\",\n",
    "    \"Q_Function\",\n",
    "    \"Q_HTML_XML_Tag\",\n",
    "    \"Q_Keyboard_IP\",\n",
    "    \"Q_Language\",\n",
    "    \"Q_Library\",\n",
    "    \"Q_Licence\",\n",
    "    \"Q_Operating_System\",\n",
    "    \"Q_Organization\",\n",
    "    \"Q_Output_Block\",\n",
    "    \"Q_User_Interface_Element\",\n",
    "    \"Q_User_Name\",\n",
    "    \"Q_Value\",\n",
    "    \"Q_Variable\",\n",
    "    \"Q_Version\",\n",
    "    \"Q_Website\",\n",
    "    \"T_Algorithm\",\n",
    "    \"T_Application\",\n",
    "    \"T_Class\",\n",
    "    \"T_Code_Block\",\n",
    "    \"T_Data_Structure\",\n",
    "    \"T_Data_Type\",\n",
    "    \"T_Device\",\n",
    "    \"T_Error_Name\",\n",
    "    \"T_File_Name\",\n",
    "    \"T_File_Type\",\n",
    "    \"T_Function\",\n",
    "    \"T_HTML_XML_Tag\",\n",
    "    \"T_Keyboard_IP\",\n",
    "    \"T_Language\",\n",
    "    \"T_Library\",\n",
    "    \"T_Licence\",\n",
    "    \"T_Operating_System\",\n",
    "    \"T_Organization\",\n",
    "    \"T_Output_Block\",\n",
    "    \"T_User_Interface_Element\",\n",
    "    \"T_User_Name\",\n",
    "    \"T_Value\",\n",
    "    \"T_Variable\",\n",
    "    \"T_Version\",\n",
    "    \"T_Website\",\n",
    "]\n",
    "\n",
    "threshold = 3\n",
    "\n",
    "need_to_check = []\n",
    "\n",
    "for col in ner_cols:\n",
    "    if len(df.loc[df[f'{col}'] != 0]) <= 5:\n",
    "        need_to_check.append(col)"
   ]
  },
  {
   "cell_type": "code",
   "execution_count": 329,
   "metadata": {},
   "outputs": [
    {
     "data": {
      "text/plain": [
       "['Q_Algorithm',\n",
       " 'Q_Keyboard_IP',\n",
       " 'Q_Licence',\n",
       " 'Q_Organization',\n",
       " 'T_Algorithm',\n",
       " 'T_HTML_XML_Tag',\n",
       " 'T_Keyboard_IP',\n",
       " 'T_Licence',\n",
       " 'T_Organization',\n",
       " 'T_Output_Block',\n",
       " 'T_User_Name']"
      ]
     },
     "execution_count": 329,
     "metadata": {},
     "output_type": "execute_result"
    }
   ],
   "source": [
    "need_to_check"
   ]
  },
  {
   "cell_type": "markdown",
   "metadata": {},
   "source": [
    "## Чистим ручками"
   ]
  },
  {
   "cell_type": "code",
   "execution_count": 330,
   "metadata": {},
   "outputs": [
    {
     "data": {
      "text/html": [
       "<div>\n",
       "<style scoped>\n",
       "    .dataframe tbody tr th:only-of-type {\n",
       "        vertical-align: middle;\n",
       "    }\n",
       "\n",
       "    .dataframe tbody tr th {\n",
       "        vertical-align: top;\n",
       "    }\n",
       "\n",
       "    .dataframe thead th {\n",
       "        text-align: right;\n",
       "    }\n",
       "</style>\n",
       "<table border=\"1\" class=\"dataframe\">\n",
       "  <thead>\n",
       "    <tr style=\"text-align: right;\">\n",
       "      <th></th>\n",
       "      <th>Id</th>\n",
       "      <th>Q_date_open</th>\n",
       "      <th>Q_Score</th>\n",
       "      <th>Q_Title</th>\n",
       "      <th>Q_Body</th>\n",
       "      <th>A_Score</th>\n",
       "      <th>A_Body</th>\n",
       "      <th>Tag</th>\n",
       "      <th>Q_len</th>\n",
       "      <th>A_len</th>\n",
       "      <th>...</th>\n",
       "      <th>T_Licence</th>\n",
       "      <th>T_Operating_System</th>\n",
       "      <th>T_Organization</th>\n",
       "      <th>T_Output_Block</th>\n",
       "      <th>T_User_Interface_Element</th>\n",
       "      <th>T_User_Name</th>\n",
       "      <th>T_Value</th>\n",
       "      <th>T_Variable</th>\n",
       "      <th>T_Version</th>\n",
       "      <th>T_Website</th>\n",
       "    </tr>\n",
       "  </thead>\n",
       "  <tbody>\n",
       "    <tr>\n",
       "      <th>2</th>\n",
       "      <td>17446460</td>\n",
       "      <td>2013-07-03 11:12:26+00:00</td>\n",
       "      <td>0</td>\n",
       "      <td>get how much time i have before the battery goes to 0% Android</td>\n",
       "      <td>Can i get how much time i have before the battery goes to 0%? Something using a CountDownTimer and making a stime of how much mAh the battery consume? Someone can help me to do it?</td>\n",
       "      <td>1.0</td>\n",
       "      <td>Short answer: No.Long answer: Yes, you can.. But not that easily.. Because you don't know how much energy does the device consume at a time basis, you should first try to find that out and then calculate the remaining time using that data... As you might have guessed already, it might not be that accurate at first but the more you sample, the more accurate that data will be..So to conclude here is what you have to do:First when the user opens the app, because you don't have enough data about energy consumption, You should just display something like Calculating.... Here you should decide to have a sample time. That is something like derivation in math.. Let's say you have a sample time of 10 seconds.  Your actual one should be bigger I guess. You should have a variable named something like level1.. Save the current level to it.  Wait for the amount of sample time which is now 10 seconds.. Now save the current value to level2.. Save the level1 - level2 product to another variable like consumed.Now here is the magic. You know how much power has been consumed in 10 seconds That is the consumed variable.. From now on you can calculate the remaining time using that data. But remember it's still one 10 second. What if that 10 seconds user was playing a heavy game or even the device was on stand by? That is why it's not accurate. But until now..  What you can do is to add the consumed variable to an array named like sample_data. Let the process go on and sample the consumption every 10 seconds and add it to the array. The more data you get, the more accurate your calculation will be.Then you can easily calculate the time remaining using the average of samples in the array.. Easy Peasy :p</td>\n",
       "      <td>[android, countdowntimer, batterylevel]</td>\n",
       "      <td>36</td>\n",
       "      <td>313</td>\n",
       "      <td>...</td>\n",
       "      <td>0</td>\n",
       "      <td>1</td>\n",
       "      <td>0</td>\n",
       "      <td>0</td>\n",
       "      <td>0</td>\n",
       "      <td>0</td>\n",
       "      <td>1</td>\n",
       "      <td>0</td>\n",
       "      <td>0</td>\n",
       "      <td>0</td>\n",
       "    </tr>\n",
       "    <tr>\n",
       "      <th>77</th>\n",
       "      <td>11576480</td>\n",
       "      <td>2012-07-20 09:20:04+00:00</td>\n",
       "      <td>2</td>\n",
       "      <td>Android: Localized standard Text for example OK, CANCEL and GPS not activated - for example?</td>\n",
       "      <td>I wish to localize my app and of course the text that is specific to my app i will need to localize but does some standard resources exist for standard Text like the OK and CANCELand GPS not activated etc?Or do i have to localize absolutely everything?Is there is some global text resources that ships with android how do i gain access to it?Thanks in advance</td>\n",
       "      <td>1.0</td>\n",
       "      <td>I think that you should add your own resources and translations, as the predefined resources can change between OS versions. I don't think that there common resources that you should use - the different stock applications have their own resources/translations.There are for example some predefined android icons you can access using R.android but the recommendation is to make a local copy.</td>\n",
       "      <td>[android, android-layout, localization]</td>\n",
       "      <td>66</td>\n",
       "      <td>61</td>\n",
       "      <td>...</td>\n",
       "      <td>0</td>\n",
       "      <td>1</td>\n",
       "      <td>0</td>\n",
       "      <td>0</td>\n",
       "      <td>0</td>\n",
       "      <td>0</td>\n",
       "      <td>1</td>\n",
       "      <td>0</td>\n",
       "      <td>0</td>\n",
       "      <td>0</td>\n",
       "    </tr>\n",
       "  </tbody>\n",
       "</table>\n",
       "<p>2 rows × 73 columns</p>\n",
       "</div>"
      ],
      "text/plain": [
       "          Id                Q_date_open  Q_Score  \\\n",
       "2   17446460  2013-07-03 11:12:26+00:00        0   \n",
       "77  11576480  2012-07-20 09:20:04+00:00        2   \n",
       "\n",
       "                                                                                         Q_Title  \\\n",
       "2                                 get how much time i have before the battery goes to 0% Android   \n",
       "77  Android: Localized standard Text for example OK, CANCEL and GPS not activated - for example?   \n",
       "\n",
       "                                                                                                                                                                                                                                                                                                                                                                     Q_Body  \\\n",
       "2                                                                                                                                                                                      Can i get how much time i have before the battery goes to 0%? Something using a CountDownTimer and making a stime of how much mAh the battery consume? Someone can help me to do it?   \n",
       "77  I wish to localize my app and of course the text that is specific to my app i will need to localize but does some standard resources exist for standard Text like the OK and CANCELand GPS not activated etc?Or do i have to localize absolutely everything?Is there is some global text resources that ships with android how do i gain access to it?Thanks in advance   \n",
       "\n",
       "    A_Score  \\\n",
       "2       1.0   \n",
       "77      1.0   \n",
       "\n",
       "                                                                                                                                                                                                                                                                                                                                                                                                                                                                                                                                                                                                                                                                                                                                                                                                                                                                                                                                                                                                                                                                                                                                                                                                                                                                                                                                                                                                                                                                                                                                                                                                                                                                                                                                                                           A_Body  \\\n",
       "2   Short answer: No.Long answer: Yes, you can.. But not that easily.. Because you don't know how much energy does the device consume at a time basis, you should first try to find that out and then calculate the remaining time using that data... As you might have guessed already, it might not be that accurate at first but the more you sample, the more accurate that data will be..So to conclude here is what you have to do:First when the user opens the app, because you don't have enough data about energy consumption, You should just display something like Calculating.... Here you should decide to have a sample time. That is something like derivation in math.. Let's say you have a sample time of 10 seconds.  Your actual one should be bigger I guess. You should have a variable named something like level1.. Save the current level to it.  Wait for the amount of sample time which is now 10 seconds.. Now save the current value to level2.. Save the level1 - level2 product to another variable like consumed.Now here is the magic. You know how much power has been consumed in 10 seconds That is the consumed variable.. From now on you can calculate the remaining time using that data. But remember it's still one 10 second. What if that 10 seconds user was playing a heavy game or even the device was on stand by? That is why it's not accurate. But until now..  What you can do is to add the consumed variable to an array named like sample_data. Let the process go on and sample the consumption every 10 seconds and add it to the array. The more data you get, the more accurate your calculation will be.Then you can easily calculate the time remaining using the average of samples in the array.. Easy Peasy :p   \n",
       "77                                                                                                                                                                                                                                                                                                                                                                                                                                                                                                                                                                                                                                                                                                                                                                                                                                                                                                                                                                                                                                                                                                                                                                                                                                                                                                                                                                         I think that you should add your own resources and translations, as the predefined resources can change between OS versions. I don't think that there common resources that you should use - the different stock applications have their own resources/translations.There are for example some predefined android icons you can access using R.android but the recommendation is to make a local copy.   \n",
       "\n",
       "                                        Tag  Q_len  A_len  ...  T_Licence  \\\n",
       "2   [android, countdowntimer, batterylevel]     36    313  ...          0   \n",
       "77  [android, android-layout, localization]     66     61  ...          0   \n",
       "\n",
       "    T_Operating_System  T_Organization  T_Output_Block  \\\n",
       "2                    1               0               0   \n",
       "77                   1               0               0   \n",
       "\n",
       "    T_User_Interface_Element  T_User_Name  T_Value T_Variable T_Version  \\\n",
       "2                          0            0        1          0         0   \n",
       "77                         0            0        1          0         0   \n",
       "\n",
       "    T_Website  \n",
       "2           0  \n",
       "77          0  \n",
       "\n",
       "[2 rows x 73 columns]"
      ]
     },
     "execution_count": 330,
     "metadata": {},
     "output_type": "execute_result"
    }
   ],
   "source": [
    "df.loc[(df[f'T_Value'] == 1) & (df[f'Q_Value'] == 1)]"
   ]
  },
  {
   "cell_type": "code",
   "execution_count": 324,
   "metadata": {},
   "outputs": [],
   "source": [
    "i = 0"
   ]
  },
  {
   "cell_type": "code",
   "execution_count": 326,
   "metadata": {},
   "outputs": [
    {
     "data": {
      "text/plain": [
       "Q_Title                                                                                                                                                                                            Android: Localized standard Text for example OK, CANCEL and GPS not activated - for example?\n",
       "T_Value                                                                                                                                                                                                                                                                                       1\n",
       "T_entities    [{'entity_group': 'Operating_System', 'score': 0.98887, 'word': 'Android', 'start': 0, 'end': 7}, {'entity_group': 'Value', 'score': 0.49427727, 'word': ' OK', 'start': 45, 'end': 47}, {'entity_group': 'Device', 'score': 0.88420635, 'word': ' GPS', 'start': 60, 'end': 63}]\n",
       "Name: 77, dtype: object"
      ]
     },
     "execution_count": 326,
     "metadata": {},
     "output_type": "execute_result"
    }
   ],
   "source": [
    "i += 1\n",
    "df.loc[df[f'T_Value'] != 0].loc[:, ['Q_Title', 'T_Value', \"T_entities\"]].iloc[i]"
   ]
  },
  {
   "cell_type": "code",
   "execution_count": 319,
   "metadata": {},
   "outputs": [
    {
     "data": {
      "text/plain": [
       "{'entity_group': 'Value',\n",
       " 'score': 0.8483097,\n",
       " 'word': ' plus',\n",
       " 'start': 37,\n",
       " 'end': 41}"
      ]
     },
     "execution_count": 319,
     "metadata": {},
     "output_type": "execute_result"
    }
   ],
   "source": [
    "df.at[97, 'T_entities'][1]"
   ]
  },
  {
   "cell_type": "code",
   "execution_count": 320,
   "metadata": {},
   "outputs": [],
   "source": [
    "df.at[97, 'T_Value'] -= 1"
   ]
  },
  {
   "cell_type": "code",
   "execution_count": 322,
   "metadata": {},
   "outputs": [
    {
     "data": {
      "text/plain": [
       "{'entity_group': 'Value',\n",
       " 'score': 0.8483097,\n",
       " 'word': ' plus',\n",
       " 'start': 37,\n",
       " 'end': 41}"
      ]
     },
     "execution_count": 322,
     "metadata": {},
     "output_type": "execute_result"
    }
   ],
   "source": [
    "df.at[97, 'T_entities'].pop(1)"
   ]
  },
  {
   "cell_type": "code",
   "execution_count": 323,
   "metadata": {},
   "outputs": [],
   "source": [
    "df.to_pickle(r'D:\\vkr\\data\\prepared\\df_200_continuous_ner_cleared.pkl')"
   ]
  },
  {
   "cell_type": "code",
   "execution_count": null,
   "metadata": {},
   "outputs": [],
   "source": []
  }
 ],
 "metadata": {
  "kernelspec": {
   "display_name": "Python 3.9.12 ('base')",
   "language": "python",
   "name": "python3"
  },
  "language_info": {
   "codemirror_mode": {
    "name": "ipython",
    "version": 3
   },
   "file_extension": ".py",
   "mimetype": "text/x-python",
   "name": "python",
   "nbconvert_exporter": "python",
   "pygments_lexer": "ipython3",
   "version": "3.9.12 (main, Apr  4 2022, 05:22:27) [MSC v.1916 64 bit (AMD64)]"
  },
  "orig_nbformat": 4,
  "vscode": {
   "interpreter": {
    "hash": "ad2bdc8ecc057115af97d19610ffacc2b4e99fae6737bb82f5d7fb13d2f2c186"
   }
  }
 },
 "nbformat": 4,
 "nbformat_minor": 2
}
