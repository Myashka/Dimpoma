{
 "cells": [
  {
   "cell_type": "markdown",
   "id": "083a4e47",
   "metadata": {},
   "source": [
    "# Общая информация:\n",
    "__Задачи, решаемые в ноутбуке:__\n",
    "\n",
    "1) Отобрать вопросы, имеющие тег _Android_\n",
    "\n",
    "2) Сбор ответов с флагом лучший ответ\n",
    "\n",
    "3) Сбор вопросов, с короткими ответами\n",
    "\n",
    "4) Разбить на категории с помощью regex"
   ]
  },
  {
   "cell_type": "markdown",
   "id": "7156f838",
   "metadata": {},
   "source": [
    "# Импорт библиотек"
   ]
  },
  {
   "cell_type": "code",
   "execution_count": 73,
   "id": "e8b92756",
   "metadata": {},
   "outputs": [],
   "source": [
    "import pickle\n",
    "\n",
    "import matplotlib.pyplot as plt\n",
    "import numpy as np\n",
    "import pandas as pd\n",
    "import seaborn as sns\n",
    "from bs4 import BeautifulSoup\n",
    "\n",
    "pd.set_option(\"display.max_colwidth\", None)"
   ]
  },
  {
   "cell_type": "code",
   "execution_count": 74,
   "id": "2aecdd13",
   "metadata": {},
   "outputs": [],
   "source": [
    "from postclassifier.postprocessor import *"
   ]
  },
  {
   "cell_type": "markdown",
   "id": "c0f03431",
   "metadata": {},
   "source": [
    "# Фильтрация данных"
   ]
  },
  {
   "cell_type": "code",
   "execution_count": 75,
   "id": "e021daf4",
   "metadata": {},
   "outputs": [],
   "source": [
    "def filter_column(df, column_name, text_to_filter, regex=False):\n",
    "    before_filtering = len(df)\n",
    "    df = df[\n",
    "        ~df[f\"{column_name}\"].str.contains(f\"{text_to_filter}\", na=False, regex=regex)\n",
    "    ]\n",
    "    after_filtering = len(df)\n",
    "    print(f\"Deleted {before_filtering-after_filtering} rows\")\n",
    "    return df"
   ]
  },
  {
   "cell_type": "code",
   "execution_count": 76,
   "id": "a2983b76",
   "metadata": {},
   "outputs": [],
   "source": [
    "with open(f\"../../data/prepared/q_a_df.p\", \"rb\") as f:\n",
    "    q_a_df = pickle.load(f)"
   ]
  },
  {
   "cell_type": "code",
   "execution_count": null,
   "id": "d6ddd239",
   "metadata": {},
   "outputs": [
    {
     "data": {
      "text/plain": [
       "2176164"
      ]
     },
     "execution_count": 36,
     "metadata": {},
     "output_type": "execute_result"
    }
   ],
   "source": [
    "len(q_a_df)"
   ]
  },
  {
   "cell_type": "code",
   "execution_count": null,
   "id": "64034b67",
   "metadata": {},
   "outputs": [],
   "source": [
    "q_a_df = q_a_df.dropna()"
   ]
  },
  {
   "cell_type": "code",
   "execution_count": null,
   "id": "d95b2f53",
   "metadata": {},
   "outputs": [
    {
     "data": {
      "text/plain": [
       "2014516"
      ]
     },
     "execution_count": 38,
     "metadata": {},
     "output_type": "execute_result"
    }
   ],
   "source": [
    "len(q_a_df)"
   ]
  },
  {
   "cell_type": "markdown",
   "id": "58851e3f",
   "metadata": {},
   "source": [
    "## Вопросы _\"android\"_"
   ]
  },
  {
   "cell_type": "code",
   "execution_count": null,
   "id": "2668624a",
   "metadata": {},
   "outputs": [],
   "source": [
    "q_a_df = q_a_df.loc[q_a_df.apply(lambda x: f\"android\" in x.Tag, axis=1)]"
   ]
  },
  {
   "cell_type": "code",
   "execution_count": null,
   "id": "f6512949",
   "metadata": {},
   "outputs": [
    {
     "data": {
      "text/plain": [
       "128954"
      ]
     },
     "execution_count": 40,
     "metadata": {},
     "output_type": "execute_result"
    }
   ],
   "source": [
    "len(q_a_df)"
   ]
  },
  {
   "cell_type": "markdown",
   "id": "0fd44657",
   "metadata": {},
   "source": [
    "## Нет картинкам!"
   ]
  },
  {
   "cell_type": "code",
   "execution_count": null,
   "id": "8c5acec1",
   "metadata": {},
   "outputs": [
    {
     "name": "stdout",
     "output_type": "stream",
     "text": [
      "Deleted 11046 rows\n",
      "Deleted 1408 rows\n"
     ]
    }
   ],
   "source": [
    "q_a_df = filter_column(q_a_df, \"Q_Body\", \"<img\")\n",
    "q_a_df = filter_column(q_a_df, \"A_Body\", \"<img\")"
   ]
  },
  {
   "cell_type": "code",
   "execution_count": null,
   "id": "24a38e58",
   "metadata": {},
   "outputs": [
    {
     "data": {
      "text/plain": [
       "116500"
      ]
     },
     "execution_count": 42,
     "metadata": {},
     "output_type": "execute_result"
    }
   ],
   "source": [
    "len(q_a_df)"
   ]
  },
  {
   "cell_type": "markdown",
   "id": "04ad0e9f",
   "metadata": {},
   "source": [
    "## Ссылочку нельзя"
   ]
  },
  {
   "cell_type": "code",
   "execution_count": null,
   "id": "b4d90633",
   "metadata": {},
   "outputs": [
    {
     "name": "stdout",
     "output_type": "stream",
     "text": [
      "Deleted 35709 rows\n",
      "Deleted 10823 rows\n"
     ]
    }
   ],
   "source": [
    "q_a_df = filter_column(q_a_df, \"A_Body\", \"<a href=\")\n",
    "q_a_df = filter_column(q_a_df, \"Q_Body\", \"<a href=\")"
   ]
  },
  {
   "cell_type": "code",
   "execution_count": null,
   "id": "7d10f0cf",
   "metadata": {},
   "outputs": [
    {
     "data": {
      "text/plain": [
       "69968"
      ]
     },
     "execution_count": 44,
     "metadata": {},
     "output_type": "execute_result"
    }
   ],
   "source": [
    "len(q_a_df)"
   ]
  },
  {
   "cell_type": "markdown",
   "id": "d63ee4fa",
   "metadata": {},
   "source": [
    "## No code вопросы"
   ]
  },
  {
   "cell_type": "code",
   "execution_count": null,
   "id": "52275618",
   "metadata": {},
   "outputs": [],
   "source": [
    "pre_code_regex = \"</code></pre>\""
   ]
  },
  {
   "cell_type": "code",
   "execution_count": null,
   "id": "44a144b9",
   "metadata": {},
   "outputs": [
    {
     "name": "stdout",
     "output_type": "stream",
     "text": [
      "Deleted 49056 rows\n",
      "Deleted 8756 rows\n"
     ]
    }
   ],
   "source": [
    "q_a_df = filter_column(q_a_df, \"Q_Body\", pre_code_regex, regex=False)\n",
    "q_a_df = filter_column(q_a_df, \"A_Body\", pre_code_regex, regex=False)"
   ]
  },
  {
   "cell_type": "code",
   "execution_count": null,
   "id": "cc0a89e5",
   "metadata": {},
   "outputs": [
    {
     "data": {
      "text/plain": [
       "12156"
      ]
     },
     "execution_count": 47,
     "metadata": {},
     "output_type": "execute_result"
    }
   ],
   "source": [
    "len(q_a_df)"
   ]
  },
  {
   "cell_type": "markdown",
   "id": "a311038e",
   "metadata": {},
   "source": [
    "## Только лучшие (ответы)"
   ]
  },
  {
   "cell_type": "markdown",
   "id": "beb7a2a4",
   "metadata": {},
   "source": [
    "Выберем только ответы с наибольшем score, а вопросы с положительным"
   ]
  },
  {
   "cell_type": "code",
   "execution_count": null,
   "id": "9aa8aba1",
   "metadata": {},
   "outputs": [],
   "source": [
    "questions_score = 0"
   ]
  },
  {
   "cell_type": "code",
   "execution_count": null,
   "id": "f6190800",
   "metadata": {},
   "outputs": [],
   "source": [
    "q_a_df.query(f\"Q_Score >= {questions_score}\", inplace=True)"
   ]
  },
  {
   "cell_type": "code",
   "execution_count": null,
   "id": "7e317f10",
   "metadata": {},
   "outputs": [],
   "source": [
    "best_a_idx = q_a_df.groupby(\"Id\")[\"A_Score\"].idxmax()\n",
    "q_a_df = q_a_df.loc[best_a_idx]"
   ]
  },
  {
   "cell_type": "code",
   "execution_count": null,
   "id": "aef7b841",
   "metadata": {},
   "outputs": [
    {
     "data": {
      "text/plain": [
       "8469"
      ]
     },
     "execution_count": 51,
     "metadata": {},
     "output_type": "execute_result"
    }
   ],
   "source": [
    "len(q_a_df)"
   ]
  },
  {
   "cell_type": "code",
   "execution_count": null,
   "id": "4972d55c",
   "metadata": {},
   "outputs": [
    {
     "data": {
      "text/plain": [
       "4596"
      ]
     },
     "execution_count": 52,
     "metadata": {},
     "output_type": "execute_result"
    }
   ],
   "source": [
    "q_a_df.query(f\"A_Score >= 1\", inplace=True)\n",
    "len(q_a_df)"
   ]
  },
  {
   "cell_type": "code",
   "execution_count": null,
   "id": "e25c797d",
   "metadata": {},
   "outputs": [
    {
     "data": {
      "text/html": [
       "<div>\n",
       "<style scoped>\n",
       "    .dataframe tbody tr th:only-of-type {\n",
       "        vertical-align: middle;\n",
       "    }\n",
       "\n",
       "    .dataframe tbody tr th {\n",
       "        vertical-align: top;\n",
       "    }\n",
       "\n",
       "    .dataframe thead th {\n",
       "        text-align: right;\n",
       "    }\n",
       "</style>\n",
       "<table border=\"1\" class=\"dataframe\">\n",
       "  <thead>\n",
       "    <tr style=\"text-align: right;\">\n",
       "      <th></th>\n",
       "      <th>Id</th>\n",
       "      <th>Q_date_open</th>\n",
       "      <th>Q_Score</th>\n",
       "      <th>Q_Title</th>\n",
       "      <th>Q_Body</th>\n",
       "      <th>A_Score</th>\n",
       "      <th>A_Body</th>\n",
       "      <th>Tag</th>\n",
       "    </tr>\n",
       "  </thead>\n",
       "  <tbody>\n",
       "    <tr>\n",
       "      <th>11466</th>\n",
       "      <td>146020</td>\n",
       "      <td>2008-09-28 14:53:56+00:00</td>\n",
       "      <td>51</td>\n",
       "      <td>Making Eclipse behave like Visual Studio</td>\n",
       "      <td>&lt;p&gt;I'm doing some Android dev, and I much prefer Visual Studio, but I'll have to use &lt;em&gt;Eclipse&lt;/em&gt; for this.&lt;/p&gt;\\n\\n&lt;p&gt;Has anyone made a tool that switches &lt;em&gt;Eclipse&lt;/em&gt; to look and behave more like visual studio? I mainly can't stand its &lt;strong&gt;clippyesqe&lt;/strong&gt; suggestions on how I should program (Yes, I know I have not yet used that private field! Thanks Eclipse!), or its incredibly lousy &lt;strong&gt;intellisense&lt;/strong&gt;.&lt;/p&gt;\\n\\n&lt;p&gt;For example, in eclipse, if I don't type &lt;code&gt;this&lt;/code&gt; first, its &lt;strong&gt;intellisense&lt;/strong&gt; won't realize I want to look for locally scoped members. Also, the TAB to complete VS convention is drilled into my head, and &lt;em&gt;Eclipse&lt;/em&gt; is ENTER to complete, I could switch everything by hand but that would take hours, and I was hoping someone had some sort of theme or something that has already done it :)&lt;/p&gt;\\n</td>\n",
       "      <td>13.0</td>\n",
       "      <td>&lt;p&gt;Have you tried using the Visual Studio keybindings available in Eclipse Ganymede (3.4)?&lt;/p&gt;\\n\\n&lt;p&gt;(You may want to know that \"IntelliSense\" is a Visual Studio-term, an probably unknown to anyone without Visual Studio-experience. \"Autocompletion\" is probably a more widely used term.)&lt;/p&gt;\\n</td>\n",
       "      <td>[java, android, eclipse, visual-studio, ide]</td>\n",
       "    </tr>\n",
       "  </tbody>\n",
       "</table>\n",
       "</div>"
      ],
      "text/plain": [
       "           Id               Q_date_open  Q_Score  \\\n",
       "11466  146020 2008-09-28 14:53:56+00:00       51   \n",
       "\n",
       "                                        Q_Title  \\\n",
       "11466  Making Eclipse behave like Visual Studio   \n",
       "\n",
       "                                                                                                                                                                                                                                                                                                                                                                                                                                                                                                                                                                                                                                                                                                                                                                                                                                                                                                  Q_Body  \\\n",
       "11466  <p>I'm doing some Android dev, and I much prefer Visual Studio, but I'll have to use <em>Eclipse</em> for this.</p>\\n\\n<p>Has anyone made a tool that switches <em>Eclipse</em> to look and behave more like visual studio? I mainly can't stand its <strong>clippyesqe</strong> suggestions on how I should program (Yes, I know I have not yet used that private field! Thanks Eclipse!), or its incredibly lousy <strong>intellisense</strong>.</p>\\n\\n<p>For example, in eclipse, if I don't type <code>this</code> first, its <strong>intellisense</strong> won't realize I want to look for locally scoped members. Also, the TAB to complete VS convention is drilled into my head, and <em>Eclipse</em> is ENTER to complete, I could switch everything by hand but that would take hours, and I was hoping someone had some sort of theme or something that has already done it :)</p>\\n   \n",
       "\n",
       "       A_Score  \\\n",
       "11466     13.0   \n",
       "\n",
       "                                                                                                                                                                                                                                                                                                     A_Body  \\\n",
       "11466  <p>Have you tried using the Visual Studio keybindings available in Eclipse Ganymede (3.4)?</p>\\n\\n<p>(You may want to know that \"IntelliSense\" is a Visual Studio-term, an probably unknown to anyone without Visual Studio-experience. \"Autocompletion\" is probably a more widely used term.)</p>\\n   \n",
       "\n",
       "                                                Tag  \n",
       "11466  [java, android, eclipse, visual-studio, ide]  "
      ]
     },
     "execution_count": 53,
     "metadata": {},
     "output_type": "execute_result"
    }
   ],
   "source": [
    "q_a_df.head(1)"
   ]
  },
  {
   "cell_type": "markdown",
   "id": "fa010a0b",
   "metadata": {},
   "source": [
    "## Убираем HTML"
   ]
  },
  {
   "cell_type": "code",
   "execution_count": null,
   "id": "cffe5244",
   "metadata": {},
   "outputs": [
    {
     "ename": "KeyboardInterrupt",
     "evalue": "",
     "output_type": "error",
     "traceback": [
      "\u001b[1;31m---------------------------------------------------------------------------\u001b[0m",
      "\u001b[1;31mKeyboardInterrupt\u001b[0m                         Traceback (most recent call last)",
      "Cell \u001b[1;32mIn[7], line 1\u001b[0m\n\u001b[1;32m----> 1\u001b[0m q_a_df[\u001b[39m\"\u001b[39m\u001b[39mQ_Body\u001b[39m\u001b[39m\"\u001b[39m] \u001b[39m=\u001b[39m q_a_df[\u001b[39m\"\u001b[39;49m\u001b[39mQ_Body\u001b[39;49m\u001b[39m\"\u001b[39;49m]\u001b[39m.\u001b[39;49mapply(\u001b[39mlambda\u001b[39;49;00m x: BeautifulSoup(x)\u001b[39m.\u001b[39;49mget_text())\n\u001b[0;32m      2\u001b[0m \u001b[39m# q_a_df[\"Q_Title\"] = q_a_df[\"Q_Title\"].apply(lambda x: BeautifulSoup(x).get_text())\u001b[39;00m\n\u001b[0;32m      3\u001b[0m \u001b[39m# q_a_df[\"A_Body\"] = q_a_df[\"A_Body\"].apply(lambda x: BeautifulSoup(x).get_text())\u001b[39;00m\n",
      "File \u001b[1;32mc:\\ProgramData\\Anaconda3\\lib\\site-packages\\pandas\\core\\series.py:4430\u001b[0m, in \u001b[0;36mSeries.apply\u001b[1;34m(self, func, convert_dtype, args, **kwargs)\u001b[0m\n\u001b[0;32m   4320\u001b[0m \u001b[39mdef\u001b[39;00m \u001b[39mapply\u001b[39m(\n\u001b[0;32m   4321\u001b[0m     \u001b[39mself\u001b[39m,\n\u001b[0;32m   4322\u001b[0m     func: AggFuncType,\n\u001b[1;32m   (...)\u001b[0m\n\u001b[0;32m   4325\u001b[0m     \u001b[39m*\u001b[39m\u001b[39m*\u001b[39mkwargs,\n\u001b[0;32m   4326\u001b[0m ) \u001b[39m-\u001b[39m\u001b[39m>\u001b[39m DataFrame \u001b[39m|\u001b[39m Series:\n\u001b[0;32m   4327\u001b[0m     \u001b[39m\"\"\"\u001b[39;00m\n\u001b[0;32m   4328\u001b[0m \u001b[39m    Invoke function on values of Series.\u001b[39;00m\n\u001b[0;32m   4329\u001b[0m \n\u001b[1;32m   (...)\u001b[0m\n\u001b[0;32m   4428\u001b[0m \u001b[39m    dtype: float64\u001b[39;00m\n\u001b[0;32m   4429\u001b[0m \u001b[39m    \"\"\"\u001b[39;00m\n\u001b[1;32m-> 4430\u001b[0m     \u001b[39mreturn\u001b[39;00m SeriesApply(\u001b[39mself\u001b[39;49m, func, convert_dtype, args, kwargs)\u001b[39m.\u001b[39;49mapply()\n",
      "File \u001b[1;32mc:\\ProgramData\\Anaconda3\\lib\\site-packages\\pandas\\core\\apply.py:1082\u001b[0m, in \u001b[0;36mSeriesApply.apply\u001b[1;34m(self)\u001b[0m\n\u001b[0;32m   1078\u001b[0m \u001b[39mif\u001b[39;00m \u001b[39misinstance\u001b[39m(\u001b[39mself\u001b[39m\u001b[39m.\u001b[39mf, \u001b[39mstr\u001b[39m):\n\u001b[0;32m   1079\u001b[0m     \u001b[39m# if we are a string, try to dispatch\u001b[39;00m\n\u001b[0;32m   1080\u001b[0m     \u001b[39mreturn\u001b[39;00m \u001b[39mself\u001b[39m\u001b[39m.\u001b[39mapply_str()\n\u001b[1;32m-> 1082\u001b[0m \u001b[39mreturn\u001b[39;00m \u001b[39mself\u001b[39;49m\u001b[39m.\u001b[39;49mapply_standard()\n",
      "File \u001b[1;32mc:\\ProgramData\\Anaconda3\\lib\\site-packages\\pandas\\core\\apply.py:1137\u001b[0m, in \u001b[0;36mSeriesApply.apply_standard\u001b[1;34m(self)\u001b[0m\n\u001b[0;32m   1131\u001b[0m         values \u001b[39m=\u001b[39m obj\u001b[39m.\u001b[39mastype(\u001b[39mobject\u001b[39m)\u001b[39m.\u001b[39m_values\n\u001b[0;32m   1132\u001b[0m         \u001b[39m# error: Argument 2 to \"map_infer\" has incompatible type\u001b[39;00m\n\u001b[0;32m   1133\u001b[0m         \u001b[39m# \"Union[Callable[..., Any], str, List[Union[Callable[..., Any], str]],\u001b[39;00m\n\u001b[0;32m   1134\u001b[0m         \u001b[39m# Dict[Hashable, Union[Union[Callable[..., Any], str],\u001b[39;00m\n\u001b[0;32m   1135\u001b[0m         \u001b[39m# List[Union[Callable[..., Any], str]]]]]\"; expected\u001b[39;00m\n\u001b[0;32m   1136\u001b[0m         \u001b[39m# \"Callable[[Any], Any]\"\u001b[39;00m\n\u001b[1;32m-> 1137\u001b[0m         mapped \u001b[39m=\u001b[39m lib\u001b[39m.\u001b[39;49mmap_infer(\n\u001b[0;32m   1138\u001b[0m             values,\n\u001b[0;32m   1139\u001b[0m             f,  \u001b[39m# type: ignore[arg-type]\u001b[39;49;00m\n\u001b[0;32m   1140\u001b[0m             convert\u001b[39m=\u001b[39;49m\u001b[39mself\u001b[39;49m\u001b[39m.\u001b[39;49mconvert_dtype,\n\u001b[0;32m   1141\u001b[0m         )\n\u001b[0;32m   1143\u001b[0m \u001b[39mif\u001b[39;00m \u001b[39mlen\u001b[39m(mapped) \u001b[39mand\u001b[39;00m \u001b[39misinstance\u001b[39m(mapped[\u001b[39m0\u001b[39m], ABCSeries):\n\u001b[0;32m   1144\u001b[0m     \u001b[39m# GH#43986 Need to do list(mapped) in order to get treated as nested\u001b[39;00m\n\u001b[0;32m   1145\u001b[0m     \u001b[39m#  See also GH#25959 regarding EA support\u001b[39;00m\n\u001b[0;32m   1146\u001b[0m     \u001b[39mreturn\u001b[39;00m obj\u001b[39m.\u001b[39m_constructor_expanddim(\u001b[39mlist\u001b[39m(mapped), index\u001b[39m=\u001b[39mobj\u001b[39m.\u001b[39mindex)\n",
      "File \u001b[1;32mc:\\ProgramData\\Anaconda3\\lib\\site-packages\\pandas\\_libs\\lib.pyx:2870\u001b[0m, in \u001b[0;36mpandas._libs.lib.map_infer\u001b[1;34m()\u001b[0m\n",
      "Cell \u001b[1;32mIn[7], line 1\u001b[0m, in \u001b[0;36m<lambda>\u001b[1;34m(x)\u001b[0m\n\u001b[1;32m----> 1\u001b[0m q_a_df[\u001b[39m\"\u001b[39m\u001b[39mQ_Body\u001b[39m\u001b[39m\"\u001b[39m] \u001b[39m=\u001b[39m q_a_df[\u001b[39m\"\u001b[39m\u001b[39mQ_Body\u001b[39m\u001b[39m\"\u001b[39m]\u001b[39m.\u001b[39mapply(\u001b[39mlambda\u001b[39;00m x: BeautifulSoup(x)\u001b[39m.\u001b[39mget_text())\n\u001b[0;32m      2\u001b[0m \u001b[39m# q_a_df[\"Q_Title\"] = q_a_df[\"Q_Title\"].apply(lambda x: BeautifulSoup(x).get_text())\u001b[39;00m\n\u001b[0;32m      3\u001b[0m \u001b[39m# q_a_df[\"A_Body\"] = q_a_df[\"A_Body\"].apply(lambda x: BeautifulSoup(x).get_text())\u001b[39;00m\n",
      "File \u001b[1;32mc:\\ProgramData\\Anaconda3\\lib\\site-packages\\bs4\\__init__.py:333\u001b[0m, in \u001b[0;36mBeautifulSoup.__init__\u001b[1;34m(self, markup, features, builder, parse_only, from_encoding, exclude_encodings, element_classes, **kwargs)\u001b[0m\n\u001b[0;32m    331\u001b[0m \u001b[39mself\u001b[39m\u001b[39m.\u001b[39mbuilder\u001b[39m.\u001b[39minitialize_soup(\u001b[39mself\u001b[39m)\n\u001b[0;32m    332\u001b[0m \u001b[39mtry\u001b[39;00m:\n\u001b[1;32m--> 333\u001b[0m     \u001b[39mself\u001b[39;49m\u001b[39m.\u001b[39;49m_feed()\n\u001b[0;32m    334\u001b[0m     success \u001b[39m=\u001b[39m \u001b[39mTrue\u001b[39;00m\n\u001b[0;32m    335\u001b[0m     \u001b[39mbreak\u001b[39;00m\n",
      "File \u001b[1;32mc:\\ProgramData\\Anaconda3\\lib\\site-packages\\bs4\\__init__.py:451\u001b[0m, in \u001b[0;36mBeautifulSoup._feed\u001b[1;34m(self)\u001b[0m\n\u001b[0;32m    448\u001b[0m \u001b[39m# Convert the document to Unicode.\u001b[39;00m\n\u001b[0;32m    449\u001b[0m \u001b[39mself\u001b[39m\u001b[39m.\u001b[39mbuilder\u001b[39m.\u001b[39mreset()\n\u001b[1;32m--> 451\u001b[0m \u001b[39mself\u001b[39;49m\u001b[39m.\u001b[39;49mbuilder\u001b[39m.\u001b[39;49mfeed(\u001b[39mself\u001b[39;49m\u001b[39m.\u001b[39;49mmarkup)\n\u001b[0;32m    452\u001b[0m \u001b[39m# Close out any unfinished strings and close all the open tags.\u001b[39;00m\n\u001b[0;32m    453\u001b[0m \u001b[39mself\u001b[39m\u001b[39m.\u001b[39mendData()\n",
      "File \u001b[1;32mc:\\ProgramData\\Anaconda3\\lib\\site-packages\\bs4\\builder\\_html5lib.py:93\u001b[0m, in \u001b[0;36mHTML5TreeBuilder.feed\u001b[1;34m(self, markup)\u001b[0m\n\u001b[0;32m     91\u001b[0m     \u001b[39melse\u001b[39;00m:\n\u001b[0;32m     92\u001b[0m         extra_kwargs[\u001b[39m'\u001b[39m\u001b[39mencoding\u001b[39m\u001b[39m'\u001b[39m] \u001b[39m=\u001b[39m \u001b[39mself\u001b[39m\u001b[39m.\u001b[39muser_specified_encoding\n\u001b[1;32m---> 93\u001b[0m doc \u001b[39m=\u001b[39m parser\u001b[39m.\u001b[39mparse(markup, \u001b[39m*\u001b[39m\u001b[39m*\u001b[39mextra_kwargs)\n\u001b[0;32m     95\u001b[0m \u001b[39m# Set the character encoding detected by the tokenizer.\u001b[39;00m\n\u001b[0;32m     96\u001b[0m \u001b[39mif\u001b[39;00m \u001b[39misinstance\u001b[39m(markup, \u001b[39mstr\u001b[39m):\n\u001b[0;32m     97\u001b[0m     \u001b[39m# We need to special-case this because html5lib sets\u001b[39;00m\n\u001b[0;32m     98\u001b[0m     \u001b[39m# charEncoding to UTF-8 if it gets Unicode input.\u001b[39;00m\n",
      "File \u001b[1;32mc:\\ProgramData\\Anaconda3\\lib\\site-packages\\html5lib\\html5parser.py:284\u001b[0m, in \u001b[0;36mHTMLParser.parse\u001b[1;34m(self, stream, *args, **kwargs)\u001b[0m\n\u001b[0;32m    262\u001b[0m \u001b[39mdef\u001b[39;00m \u001b[39mparse\u001b[39m(\u001b[39mself\u001b[39m, stream, \u001b[39m*\u001b[39margs, \u001b[39m*\u001b[39m\u001b[39m*\u001b[39mkwargs):\n\u001b[0;32m    263\u001b[0m     \u001b[39m\"\"\"Parse a HTML document into a well-formed tree\u001b[39;00m\n\u001b[0;32m    264\u001b[0m \n\u001b[0;32m    265\u001b[0m \u001b[39m    :arg stream: a file-like object or string containing the HTML to be parsed\u001b[39;00m\n\u001b[1;32m   (...)\u001b[0m\n\u001b[0;32m    282\u001b[0m \n\u001b[0;32m    283\u001b[0m \u001b[39m    \"\"\"\u001b[39;00m\n\u001b[1;32m--> 284\u001b[0m     \u001b[39mself\u001b[39m\u001b[39m.\u001b[39m_parse(stream, \u001b[39mFalse\u001b[39;00m, \u001b[39mNone\u001b[39;00m, \u001b[39m*\u001b[39margs, \u001b[39m*\u001b[39m\u001b[39m*\u001b[39mkwargs)\n\u001b[0;32m    285\u001b[0m     \u001b[39mreturn\u001b[39;00m \u001b[39mself\u001b[39m\u001b[39m.\u001b[39mtree\u001b[39m.\u001b[39mgetDocument()\n",
      "File \u001b[1;32mc:\\ProgramData\\Anaconda3\\lib\\site-packages\\html5lib\\html5parser.py:133\u001b[0m, in \u001b[0;36mHTMLParser._parse\u001b[1;34m(self, stream, innerHTML, container, scripting, **kwargs)\u001b[0m\n\u001b[0;32m    130\u001b[0m \u001b[39mself\u001b[39m\u001b[39m.\u001b[39mreset()\n\u001b[0;32m    132\u001b[0m \u001b[39mtry\u001b[39;00m:\n\u001b[1;32m--> 133\u001b[0m     \u001b[39mself\u001b[39;49m\u001b[39m.\u001b[39;49mmainLoop()\n\u001b[0;32m    134\u001b[0m \u001b[39mexcept\u001b[39;00m _ReparseException:\n\u001b[0;32m    135\u001b[0m     \u001b[39mself\u001b[39m\u001b[39m.\u001b[39mreset()\n",
      "File \u001b[1;32mc:\\ProgramData\\Anaconda3\\lib\\site-packages\\html5lib\\html5parser.py:204\u001b[0m, in \u001b[0;36mHTMLParser.mainLoop\u001b[1;34m(self)\u001b[0m\n\u001b[0;32m    201\u001b[0m DoctypeToken \u001b[39m=\u001b[39m tokenTypes[\u001b[39m\"\u001b[39m\u001b[39mDoctype\u001b[39m\u001b[39m\"\u001b[39m]\n\u001b[0;32m    202\u001b[0m ParseErrorToken \u001b[39m=\u001b[39m tokenTypes[\u001b[39m\"\u001b[39m\u001b[39mParseError\u001b[39m\u001b[39m\"\u001b[39m]\n\u001b[1;32m--> 204\u001b[0m \u001b[39mfor\u001b[39;00m token \u001b[39min\u001b[39;00m \u001b[39mself\u001b[39m\u001b[39m.\u001b[39mtokenizer:\n\u001b[0;32m    205\u001b[0m     prev_token \u001b[39m=\u001b[39m \u001b[39mNone\u001b[39;00m\n\u001b[0;32m    206\u001b[0m     new_token \u001b[39m=\u001b[39m token\n",
      "File \u001b[1;32mc:\\ProgramData\\Anaconda3\\lib\\site-packages\\html5lib\\_tokenizer.py:65\u001b[0m, in \u001b[0;36mHTMLTokenizer.__iter__\u001b[1;34m(self)\u001b[0m\n\u001b[0;32m     62\u001b[0m \u001b[39mself\u001b[39m\u001b[39m.\u001b[39mtokenQueue \u001b[39m=\u001b[39m deque([])\n\u001b[0;32m     63\u001b[0m \u001b[39m# Start processing. When EOF is reached self.state will return False\u001b[39;00m\n\u001b[0;32m     64\u001b[0m \u001b[39m# instead of True and the loop will terminate.\u001b[39;00m\n\u001b[1;32m---> 65\u001b[0m \u001b[39mwhile\u001b[39;00m \u001b[39mself\u001b[39;49m\u001b[39m.\u001b[39;49mstate():\n\u001b[0;32m     66\u001b[0m     \u001b[39mwhile\u001b[39;00m \u001b[39mself\u001b[39m\u001b[39m.\u001b[39mstream\u001b[39m.\u001b[39merrors:\n\u001b[0;32m     67\u001b[0m         \u001b[39myield\u001b[39;00m {\u001b[39m\"\u001b[39m\u001b[39mtype\u001b[39m\u001b[39m\"\u001b[39m: tokenTypes[\u001b[39m\"\u001b[39m\u001b[39mParseError\u001b[39m\u001b[39m\"\u001b[39m], \u001b[39m\"\u001b[39m\u001b[39mdata\u001b[39m\u001b[39m\"\u001b[39m: \u001b[39mself\u001b[39m\u001b[39m.\u001b[39mstream\u001b[39m.\u001b[39merrors\u001b[39m.\u001b[39mpop(\u001b[39m0\u001b[39m)}\n",
      "File \u001b[1;32mc:\\ProgramData\\Anaconda3\\lib\\site-packages\\html5lib\\_tokenizer.py:439\u001b[0m, in \u001b[0;36mHTMLTokenizer.tagNameState\u001b[1;34m(self)\u001b[0m\n\u001b[0;32m    437\u001b[0m     \u001b[39mself\u001b[39m\u001b[39m.\u001b[39mstate \u001b[39m=\u001b[39m \u001b[39mself\u001b[39m\u001b[39m.\u001b[39mbeforeAttributeNameState\n\u001b[0;32m    438\u001b[0m \u001b[39melif\u001b[39;00m data \u001b[39m==\u001b[39m \u001b[39m\"\u001b[39m\u001b[39m>\u001b[39m\u001b[39m\"\u001b[39m:\n\u001b[1;32m--> 439\u001b[0m     \u001b[39mself\u001b[39;49m\u001b[39m.\u001b[39;49memitCurrentToken()\n\u001b[0;32m    440\u001b[0m \u001b[39melif\u001b[39;00m data \u001b[39mis\u001b[39;00m EOF:\n\u001b[0;32m    441\u001b[0m     \u001b[39mself\u001b[39m\u001b[39m.\u001b[39mtokenQueue\u001b[39m.\u001b[39mappend({\u001b[39m\"\u001b[39m\u001b[39mtype\u001b[39m\u001b[39m\"\u001b[39m: tokenTypes[\u001b[39m\"\u001b[39m\u001b[39mParseError\u001b[39m\u001b[39m\"\u001b[39m], \u001b[39m\"\u001b[39m\u001b[39mdata\u001b[39m\u001b[39m\"\u001b[39m:\n\u001b[0;32m    442\u001b[0m                             \u001b[39m\"\u001b[39m\u001b[39meof-in-tag-name\u001b[39m\u001b[39m\"\u001b[39m})\n",
      "File \u001b[1;32mc:\\ProgramData\\Anaconda3\\lib\\site-packages\\html5lib\\_tokenizer.py:233\u001b[0m, in \u001b[0;36mHTMLTokenizer.emitCurrentToken\u001b[1;34m(self)\u001b[0m\n\u001b[0;32m    228\u001b[0m \u001b[39mdef\u001b[39;00m \u001b[39memitCurrentToken\u001b[39m(\u001b[39mself\u001b[39m):\n\u001b[0;32m    229\u001b[0m     \u001b[39m\"\"\"This method is a generic handler for emitting the tags. It also sets\u001b[39;00m\n\u001b[0;32m    230\u001b[0m \u001b[39m    the state to \"data\" because that's what's needed after a token has been\u001b[39;00m\n\u001b[0;32m    231\u001b[0m \u001b[39m    emitted.\u001b[39;00m\n\u001b[0;32m    232\u001b[0m \u001b[39m    \"\"\"\u001b[39;00m\n\u001b[1;32m--> 233\u001b[0m     token \u001b[39m=\u001b[39m \u001b[39mself\u001b[39;49m\u001b[39m.\u001b[39;49mcurrentToken\n\u001b[0;32m    234\u001b[0m     \u001b[39m# Add token to the queue to be yielded\u001b[39;00m\n\u001b[0;32m    235\u001b[0m     \u001b[39mif\u001b[39;00m (token[\u001b[39m\"\u001b[39m\u001b[39mtype\u001b[39m\u001b[39m\"\u001b[39m] \u001b[39min\u001b[39;00m tagTokenTypes):\n",
      "\u001b[1;31mKeyboardInterrupt\u001b[0m: "
     ]
    }
   ],
   "source": [
    "q_a_df[\"Q_Body\"] = q_a_df[\"Q_Body\"].apply(lambda x: BeautifulSoup(x).get_text())\n",
    "q_a_df[\"Q_Title\"] = q_a_df[\"Q_Title\"].apply(lambda x: BeautifulSoup(x).get_text())\n",
    "q_a_df[\"A_Body\"] = q_a_df[\"A_Body\"].apply(lambda x: BeautifulSoup(x).get_text())"
   ]
  },
  {
   "cell_type": "code",
   "execution_count": 8,
   "id": "efd61861",
   "metadata": {},
   "outputs": [],
   "source": [
    "q_a_df.Q_Body = q_a_df.Q_Body.apply(removeHTML)\n",
    "q_a_df.A_Body = q_a_df.A_Body.apply(removeHTML)\n",
    "q_a_df.Q_Title = q_a_df.Q_Title.apply(removeHTML)"
   ]
  },
  {
   "cell_type": "markdown",
   "id": "a898bb57",
   "metadata": {},
   "source": [
    "## Длина, не главное"
   ]
  },
  {
   "cell_type": "code",
   "execution_count": null,
   "id": "511f117c",
   "metadata": {},
   "outputs": [],
   "source": [
    "q_a_df[\"Q_len\"] = q_a_df.Q_Body.apply(lambda x: len(x.split(\" \")))\n",
    "q_a_df[\"A_len\"] = q_a_df.A_Body.apply(lambda x: len(x.split(\" \")))"
   ]
  },
  {
   "cell_type": "code",
   "execution_count": null,
   "id": "57f3fdce",
   "metadata": {},
   "outputs": [
    {
     "data": {
      "text/html": [
       "<div>\n",
       "<style scoped>\n",
       "    .dataframe tbody tr th:only-of-type {\n",
       "        vertical-align: middle;\n",
       "    }\n",
       "\n",
       "    .dataframe tbody tr th {\n",
       "        vertical-align: top;\n",
       "    }\n",
       "\n",
       "    .dataframe thead th {\n",
       "        text-align: right;\n",
       "    }\n",
       "</style>\n",
       "<table border=\"1\" class=\"dataframe\">\n",
       "  <thead>\n",
       "    <tr style=\"text-align: right;\">\n",
       "      <th></th>\n",
       "      <th>Id</th>\n",
       "      <th>Q_Score</th>\n",
       "      <th>A_Score</th>\n",
       "      <th>Q_len</th>\n",
       "      <th>A_len</th>\n",
       "    </tr>\n",
       "  </thead>\n",
       "  <tbody>\n",
       "    <tr>\n",
       "      <th>count</th>\n",
       "      <td>4.596000e+03</td>\n",
       "      <td>4596.000000</td>\n",
       "      <td>4596.000000</td>\n",
       "      <td>4596.000000</td>\n",
       "      <td>4596.00000</td>\n",
       "    </tr>\n",
       "    <tr>\n",
       "      <th>mean</th>\n",
       "      <td>1.511223e+07</td>\n",
       "      <td>5.389034</td>\n",
       "      <td>4.390992</td>\n",
       "      <td>84.603133</td>\n",
       "      <td>68.28503</td>\n",
       "    </tr>\n",
       "    <tr>\n",
       "      <th>std</th>\n",
       "      <td>1.012179e+07</td>\n",
       "      <td>27.388736</td>\n",
       "      <td>19.016472</td>\n",
       "      <td>88.908595</td>\n",
       "      <td>62.43260</td>\n",
       "    </tr>\n",
       "    <tr>\n",
       "      <th>min</th>\n",
       "      <td>1.460200e+05</td>\n",
       "      <td>0.000000</td>\n",
       "      <td>1.000000</td>\n",
       "      <td>4.000000</td>\n",
       "      <td>1.00000</td>\n",
       "    </tr>\n",
       "    <tr>\n",
       "      <th>25%</th>\n",
       "      <td>6.781105e+06</td>\n",
       "      <td>0.000000</td>\n",
       "      <td>1.000000</td>\n",
       "      <td>44.000000</td>\n",
       "      <td>29.00000</td>\n",
       "    </tr>\n",
       "    <tr>\n",
       "      <th>50%</th>\n",
       "      <td>1.230393e+07</td>\n",
       "      <td>1.000000</td>\n",
       "      <td>2.000000</td>\n",
       "      <td>68.000000</td>\n",
       "      <td>51.00000</td>\n",
       "    </tr>\n",
       "    <tr>\n",
       "      <th>75%</th>\n",
       "      <td>2.192929e+07</td>\n",
       "      <td>3.000000</td>\n",
       "      <td>3.000000</td>\n",
       "      <td>105.000000</td>\n",
       "      <td>86.00000</td>\n",
       "    </tr>\n",
       "    <tr>\n",
       "      <th>max</th>\n",
       "      <td>4.011758e+07</td>\n",
       "      <td>1015.000000</td>\n",
       "      <td>650.000000</td>\n",
       "      <td>2706.000000</td>\n",
       "      <td>690.00000</td>\n",
       "    </tr>\n",
       "  </tbody>\n",
       "</table>\n",
       "</div>"
      ],
      "text/plain": [
       "                 Id      Q_Score      A_Score        Q_len       A_len\n",
       "count  4.596000e+03  4596.000000  4596.000000  4596.000000  4596.00000\n",
       "mean   1.511223e+07     5.389034     4.390992    84.603133    68.28503\n",
       "std    1.012179e+07    27.388736    19.016472    88.908595    62.43260\n",
       "min    1.460200e+05     0.000000     1.000000     4.000000     1.00000\n",
       "25%    6.781105e+06     0.000000     1.000000    44.000000    29.00000\n",
       "50%    1.230393e+07     1.000000     2.000000    68.000000    51.00000\n",
       "75%    2.192929e+07     3.000000     3.000000   105.000000    86.00000\n",
       "max    4.011758e+07  1015.000000   650.000000  2706.000000   690.00000"
      ]
     },
     "execution_count": 57,
     "metadata": {},
     "output_type": "execute_result"
    }
   ],
   "source": [
    "q_a_df.describe()"
   ]
  },
  {
   "cell_type": "code",
   "execution_count": 60,
   "id": "dafd753b",
   "metadata": {},
   "outputs": [],
   "source": [
    "q_a_df.query(f\"Q_len <= 200\", inplace=True)"
   ]
  },
  {
   "cell_type": "code",
   "execution_count": 81,
   "id": "71cb57a5",
   "metadata": {},
   "outputs": [
    {
     "data": {
      "text/plain": [
       "2176164"
      ]
     },
     "execution_count": 81,
     "metadata": {},
     "output_type": "execute_result"
    }
   ],
   "source": [
    "len(q_a_df)"
   ]
  },
  {
   "cell_type": "markdown",
   "id": "7b525280",
   "metadata": {},
   "source": [
    "# Regex для категоризации вопросов"
   ]
  },
  {
   "cell_type": "code",
   "execution_count": 63,
   "id": "6d5a0ceb",
   "metadata": {},
   "outputs": [],
   "source": [
    "from postclassifier.api_change import API_change\n",
    "from postclassifier.api_usage import API_usage\n",
    "from postclassifier.conceptual import Conceptual\n",
    "from postclassifier.discrepancy import Discrepancy\n",
    "from postclassifier.documentation import Documentation\n",
    "from postclassifier.errors import Errors\n",
    "from postclassifier.review import Review"
   ]
  },
  {
   "cell_type": "code",
   "execution_count": 64,
   "id": "10961de5",
   "metadata": {},
   "outputs": [],
   "source": [
    "classifiers = [\n",
    "    API_change(),\n",
    "    API_usage(),\n",
    "    Conceptual(),\n",
    "    Discrepancy(),\n",
    "    Documentation(),\n",
    "    Errors(),\n",
    "    Review(),\n",
    "]"
   ]
  },
  {
   "cell_type": "code",
   "execution_count": 65,
   "id": "325fa677",
   "metadata": {},
   "outputs": [],
   "source": [
    "for cc in classifiers:\n",
    "    q_a_df[f\"{cc.name}\"] = q_a_df.apply(\n",
    "        lambda x: cc.classify(x.Q_Title, x.Q_Body), axis=1\n",
    "    )"
   ]
  },
  {
   "cell_type": "code",
   "execution_count": 66,
   "id": "ff909554",
   "metadata": {},
   "outputs": [
    {
     "data": {
      "text/html": [
       "<div>\n",
       "<style scoped>\n",
       "    .dataframe tbody tr th:only-of-type {\n",
       "        vertical-align: middle;\n",
       "    }\n",
       "\n",
       "    .dataframe tbody tr th {\n",
       "        vertical-align: top;\n",
       "    }\n",
       "\n",
       "    .dataframe thead th {\n",
       "        text-align: right;\n",
       "    }\n",
       "</style>\n",
       "<table border=\"1\" class=\"dataframe\">\n",
       "  <thead>\n",
       "    <tr style=\"text-align: right;\">\n",
       "      <th></th>\n",
       "      <th>Id</th>\n",
       "      <th>Q_Score</th>\n",
       "      <th>A_Score</th>\n",
       "      <th>Q_len</th>\n",
       "      <th>A_len</th>\n",
       "      <th>API_CHANGE</th>\n",
       "      <th>API_USAGE</th>\n",
       "      <th>CONCEPTUAL</th>\n",
       "      <th>DISCREPANCY</th>\n",
       "      <th>DOCUMENTATION</th>\n",
       "      <th>ERRORS</th>\n",
       "      <th>REVIEW</th>\n",
       "    </tr>\n",
       "  </thead>\n",
       "  <tbody>\n",
       "    <tr>\n",
       "      <th>count</th>\n",
       "      <td>4.403000e+03</td>\n",
       "      <td>4403.000000</td>\n",
       "      <td>4403.000000</td>\n",
       "      <td>4403.000000</td>\n",
       "      <td>4403.000000</td>\n",
       "      <td>4403.000000</td>\n",
       "      <td>4403.000000</td>\n",
       "      <td>4403.000000</td>\n",
       "      <td>4403.000000</td>\n",
       "      <td>4403.000000</td>\n",
       "      <td>4403.000000</td>\n",
       "      <td>4403.000000</td>\n",
       "    </tr>\n",
       "    <tr>\n",
       "      <th>mean</th>\n",
       "      <td>1.509313e+07</td>\n",
       "      <td>5.453554</td>\n",
       "      <td>4.442880</td>\n",
       "      <td>74.638655</td>\n",
       "      <td>66.431070</td>\n",
       "      <td>0.015898</td>\n",
       "      <td>0.160572</td>\n",
       "      <td>0.229162</td>\n",
       "      <td>0.123552</td>\n",
       "      <td>0.019305</td>\n",
       "      <td>0.076993</td>\n",
       "      <td>0.048149</td>\n",
       "    </tr>\n",
       "    <tr>\n",
       "      <th>std</th>\n",
       "      <td>1.011060e+07</td>\n",
       "      <td>27.944757</td>\n",
       "      <td>19.378733</td>\n",
       "      <td>41.157083</td>\n",
       "      <td>60.728984</td>\n",
       "      <td>0.125096</td>\n",
       "      <td>0.367178</td>\n",
       "      <td>0.420341</td>\n",
       "      <td>0.329107</td>\n",
       "      <td>0.137610</td>\n",
       "      <td>0.266611</td>\n",
       "      <td>0.214105</td>\n",
       "    </tr>\n",
       "    <tr>\n",
       "      <th>min</th>\n",
       "      <td>1.460200e+05</td>\n",
       "      <td>0.000000</td>\n",
       "      <td>1.000000</td>\n",
       "      <td>4.000000</td>\n",
       "      <td>1.000000</td>\n",
       "      <td>0.000000</td>\n",
       "      <td>0.000000</td>\n",
       "      <td>0.000000</td>\n",
       "      <td>0.000000</td>\n",
       "      <td>0.000000</td>\n",
       "      <td>0.000000</td>\n",
       "      <td>0.000000</td>\n",
       "    </tr>\n",
       "    <tr>\n",
       "      <th>25%</th>\n",
       "      <td>6.773580e+06</td>\n",
       "      <td>0.000000</td>\n",
       "      <td>1.000000</td>\n",
       "      <td>43.000000</td>\n",
       "      <td>29.000000</td>\n",
       "      <td>0.000000</td>\n",
       "      <td>0.000000</td>\n",
       "      <td>0.000000</td>\n",
       "      <td>0.000000</td>\n",
       "      <td>0.000000</td>\n",
       "      <td>0.000000</td>\n",
       "      <td>0.000000</td>\n",
       "    </tr>\n",
       "    <tr>\n",
       "      <th>50%</th>\n",
       "      <td>1.228229e+07</td>\n",
       "      <td>1.000000</td>\n",
       "      <td>2.000000</td>\n",
       "      <td>66.000000</td>\n",
       "      <td>49.000000</td>\n",
       "      <td>0.000000</td>\n",
       "      <td>0.000000</td>\n",
       "      <td>0.000000</td>\n",
       "      <td>0.000000</td>\n",
       "      <td>0.000000</td>\n",
       "      <td>0.000000</td>\n",
       "      <td>0.000000</td>\n",
       "    </tr>\n",
       "    <tr>\n",
       "      <th>75%</th>\n",
       "      <td>2.181884e+07</td>\n",
       "      <td>3.000000</td>\n",
       "      <td>3.000000</td>\n",
       "      <td>99.000000</td>\n",
       "      <td>84.000000</td>\n",
       "      <td>0.000000</td>\n",
       "      <td>0.000000</td>\n",
       "      <td>0.000000</td>\n",
       "      <td>0.000000</td>\n",
       "      <td>0.000000</td>\n",
       "      <td>0.000000</td>\n",
       "      <td>0.000000</td>\n",
       "    </tr>\n",
       "    <tr>\n",
       "      <th>max</th>\n",
       "      <td>4.011758e+07</td>\n",
       "      <td>1015.000000</td>\n",
       "      <td>650.000000</td>\n",
       "      <td>200.000000</td>\n",
       "      <td>690.000000</td>\n",
       "      <td>1.000000</td>\n",
       "      <td>1.000000</td>\n",
       "      <td>1.000000</td>\n",
       "      <td>1.000000</td>\n",
       "      <td>1.000000</td>\n",
       "      <td>1.000000</td>\n",
       "      <td>1.000000</td>\n",
       "    </tr>\n",
       "  </tbody>\n",
       "</table>\n",
       "</div>"
      ],
      "text/plain": [
       "                 Id      Q_Score      A_Score        Q_len        A_len  \\\n",
       "count  4.403000e+03  4403.000000  4403.000000  4403.000000  4403.000000   \n",
       "mean   1.509313e+07     5.453554     4.442880    74.638655    66.431070   \n",
       "std    1.011060e+07    27.944757    19.378733    41.157083    60.728984   \n",
       "min    1.460200e+05     0.000000     1.000000     4.000000     1.000000   \n",
       "25%    6.773580e+06     0.000000     1.000000    43.000000    29.000000   \n",
       "50%    1.228229e+07     1.000000     2.000000    66.000000    49.000000   \n",
       "75%    2.181884e+07     3.000000     3.000000    99.000000    84.000000   \n",
       "max    4.011758e+07  1015.000000   650.000000   200.000000   690.000000   \n",
       "\n",
       "        API_CHANGE    API_USAGE   CONCEPTUAL  DISCREPANCY  DOCUMENTATION  \\\n",
       "count  4403.000000  4403.000000  4403.000000  4403.000000    4403.000000   \n",
       "mean      0.015898     0.160572     0.229162     0.123552       0.019305   \n",
       "std       0.125096     0.367178     0.420341     0.329107       0.137610   \n",
       "min       0.000000     0.000000     0.000000     0.000000       0.000000   \n",
       "25%       0.000000     0.000000     0.000000     0.000000       0.000000   \n",
       "50%       0.000000     0.000000     0.000000     0.000000       0.000000   \n",
       "75%       0.000000     0.000000     0.000000     0.000000       0.000000   \n",
       "max       1.000000     1.000000     1.000000     1.000000       1.000000   \n",
       "\n",
       "            ERRORS       REVIEW  \n",
       "count  4403.000000  4403.000000  \n",
       "mean      0.076993     0.048149  \n",
       "std       0.266611     0.214105  \n",
       "min       0.000000     0.000000  \n",
       "25%       0.000000     0.000000  \n",
       "50%       0.000000     0.000000  \n",
       "75%       0.000000     0.000000  \n",
       "max       1.000000     1.000000  "
      ]
     },
     "execution_count": 66,
     "metadata": {},
     "output_type": "execute_result"
    }
   ],
   "source": [
    "q_a_df.describe()"
   ]
  },
  {
   "cell_type": "markdown",
   "id": "7721d9bf",
   "metadata": {},
   "source": [
    "## Вопросы с API_USAGE"
   ]
  },
  {
   "cell_type": "code",
   "execution_count": 69,
   "id": "8146529b",
   "metadata": {},
   "outputs": [],
   "source": [
    "df = q_a_df.loc[q_a_df.API_USAGE == 1]"
   ]
  },
  {
   "cell_type": "code",
   "execution_count": 75,
   "id": "3f55b20f",
   "metadata": {},
   "outputs": [
    {
     "data": {
      "text/plain": [
       "707"
      ]
     },
     "execution_count": 75,
     "metadata": {},
     "output_type": "execute_result"
    }
   ],
   "source": [
    "len(df)"
   ]
  },
  {
   "cell_type": "code",
   "execution_count": 76,
   "id": "16bca6a8",
   "metadata": {},
   "outputs": [
    {
     "data": {
      "text/html": [
       "<div>\n",
       "<style scoped>\n",
       "    .dataframe tbody tr th:only-of-type {\n",
       "        vertical-align: middle;\n",
       "    }\n",
       "\n",
       "    .dataframe tbody tr th {\n",
       "        vertical-align: top;\n",
       "    }\n",
       "\n",
       "    .dataframe thead th {\n",
       "        text-align: right;\n",
       "    }\n",
       "</style>\n",
       "<table border=\"1\" class=\"dataframe\">\n",
       "  <thead>\n",
       "    <tr style=\"text-align: right;\">\n",
       "      <th></th>\n",
       "      <th>Id</th>\n",
       "      <th>Q_Score</th>\n",
       "      <th>A_Score</th>\n",
       "      <th>Q_len</th>\n",
       "      <th>A_len</th>\n",
       "      <th>API_CHANGE</th>\n",
       "      <th>API_USAGE</th>\n",
       "      <th>CONCEPTUAL</th>\n",
       "      <th>DISCREPANCY</th>\n",
       "      <th>DOCUMENTATION</th>\n",
       "      <th>ERRORS</th>\n",
       "      <th>REVIEW</th>\n",
       "    </tr>\n",
       "  </thead>\n",
       "  <tbody>\n",
       "    <tr>\n",
       "      <th>count</th>\n",
       "      <td>7.070000e+02</td>\n",
       "      <td>707.000000</td>\n",
       "      <td>707.000000</td>\n",
       "      <td>707.000000</td>\n",
       "      <td>707.000000</td>\n",
       "      <td>707.000000</td>\n",
       "      <td>707.0</td>\n",
       "      <td>707.000000</td>\n",
       "      <td>707.000000</td>\n",
       "      <td>707.000000</td>\n",
       "      <td>707.000000</td>\n",
       "      <td>707.000000</td>\n",
       "    </tr>\n",
       "    <tr>\n",
       "      <th>mean</th>\n",
       "      <td>1.414217e+07</td>\n",
       "      <td>4.763791</td>\n",
       "      <td>4.475248</td>\n",
       "      <td>80.202263</td>\n",
       "      <td>67.577086</td>\n",
       "      <td>0.019802</td>\n",
       "      <td>1.0</td>\n",
       "      <td>0.175389</td>\n",
       "      <td>0.104668</td>\n",
       "      <td>0.028289</td>\n",
       "      <td>0.056577</td>\n",
       "      <td>0.043847</td>\n",
       "    </tr>\n",
       "    <tr>\n",
       "      <th>std</th>\n",
       "      <td>9.584925e+06</td>\n",
       "      <td>18.597022</td>\n",
       "      <td>26.425434</td>\n",
       "      <td>41.465984</td>\n",
       "      <td>66.250133</td>\n",
       "      <td>0.139418</td>\n",
       "      <td>0.0</td>\n",
       "      <td>0.380569</td>\n",
       "      <td>0.306341</td>\n",
       "      <td>0.165913</td>\n",
       "      <td>0.231196</td>\n",
       "      <td>0.204900</td>\n",
       "    </tr>\n",
       "    <tr>\n",
       "      <th>min</th>\n",
       "      <td>9.211300e+05</td>\n",
       "      <td>0.000000</td>\n",
       "      <td>1.000000</td>\n",
       "      <td>5.000000</td>\n",
       "      <td>2.000000</td>\n",
       "      <td>0.000000</td>\n",
       "      <td>1.0</td>\n",
       "      <td>0.000000</td>\n",
       "      <td>0.000000</td>\n",
       "      <td>0.000000</td>\n",
       "      <td>0.000000</td>\n",
       "      <td>0.000000</td>\n",
       "    </tr>\n",
       "    <tr>\n",
       "      <th>25%</th>\n",
       "      <td>6.289765e+06</td>\n",
       "      <td>0.000000</td>\n",
       "      <td>1.000000</td>\n",
       "      <td>49.000000</td>\n",
       "      <td>28.500000</td>\n",
       "      <td>0.000000</td>\n",
       "      <td>1.0</td>\n",
       "      <td>0.000000</td>\n",
       "      <td>0.000000</td>\n",
       "      <td>0.000000</td>\n",
       "      <td>0.000000</td>\n",
       "      <td>0.000000</td>\n",
       "    </tr>\n",
       "    <tr>\n",
       "      <th>50%</th>\n",
       "      <td>1.147030e+07</td>\n",
       "      <td>1.000000</td>\n",
       "      <td>1.000000</td>\n",
       "      <td>72.000000</td>\n",
       "      <td>50.000000</td>\n",
       "      <td>0.000000</td>\n",
       "      <td>1.0</td>\n",
       "      <td>0.000000</td>\n",
       "      <td>0.000000</td>\n",
       "      <td>0.000000</td>\n",
       "      <td>0.000000</td>\n",
       "      <td>0.000000</td>\n",
       "    </tr>\n",
       "    <tr>\n",
       "      <th>75%</th>\n",
       "      <td>1.992231e+07</td>\n",
       "      <td>2.500000</td>\n",
       "      <td>2.000000</td>\n",
       "      <td>103.000000</td>\n",
       "      <td>82.000000</td>\n",
       "      <td>0.000000</td>\n",
       "      <td>1.0</td>\n",
       "      <td>0.000000</td>\n",
       "      <td>0.000000</td>\n",
       "      <td>0.000000</td>\n",
       "      <td>0.000000</td>\n",
       "      <td>0.000000</td>\n",
       "    </tr>\n",
       "    <tr>\n",
       "      <th>max</th>\n",
       "      <td>3.990504e+07</td>\n",
       "      <td>276.000000</td>\n",
       "      <td>650.000000</td>\n",
       "      <td>200.000000</td>\n",
       "      <td>690.000000</td>\n",
       "      <td>1.000000</td>\n",
       "      <td>1.0</td>\n",
       "      <td>1.000000</td>\n",
       "      <td>1.000000</td>\n",
       "      <td>1.000000</td>\n",
       "      <td>1.000000</td>\n",
       "      <td>1.000000</td>\n",
       "    </tr>\n",
       "  </tbody>\n",
       "</table>\n",
       "</div>"
      ],
      "text/plain": [
       "                 Id     Q_Score     A_Score       Q_len       A_len  \\\n",
       "count  7.070000e+02  707.000000  707.000000  707.000000  707.000000   \n",
       "mean   1.414217e+07    4.763791    4.475248   80.202263   67.577086   \n",
       "std    9.584925e+06   18.597022   26.425434   41.465984   66.250133   \n",
       "min    9.211300e+05    0.000000    1.000000    5.000000    2.000000   \n",
       "25%    6.289765e+06    0.000000    1.000000   49.000000   28.500000   \n",
       "50%    1.147030e+07    1.000000    1.000000   72.000000   50.000000   \n",
       "75%    1.992231e+07    2.500000    2.000000  103.000000   82.000000   \n",
       "max    3.990504e+07  276.000000  650.000000  200.000000  690.000000   \n",
       "\n",
       "       API_CHANGE  API_USAGE  CONCEPTUAL  DISCREPANCY  DOCUMENTATION  \\\n",
       "count  707.000000      707.0  707.000000   707.000000     707.000000   \n",
       "mean     0.019802        1.0    0.175389     0.104668       0.028289   \n",
       "std      0.139418        0.0    0.380569     0.306341       0.165913   \n",
       "min      0.000000        1.0    0.000000     0.000000       0.000000   \n",
       "25%      0.000000        1.0    0.000000     0.000000       0.000000   \n",
       "50%      0.000000        1.0    0.000000     0.000000       0.000000   \n",
       "75%      0.000000        1.0    0.000000     0.000000       0.000000   \n",
       "max      1.000000        1.0    1.000000     1.000000       1.000000   \n",
       "\n",
       "           ERRORS      REVIEW  \n",
       "count  707.000000  707.000000  \n",
       "mean     0.056577    0.043847  \n",
       "std      0.231196    0.204900  \n",
       "min      0.000000    0.000000  \n",
       "25%      0.000000    0.000000  \n",
       "50%      0.000000    0.000000  \n",
       "75%      0.000000    0.000000  \n",
       "max      1.000000    1.000000  "
      ]
     },
     "execution_count": 76,
     "metadata": {},
     "output_type": "execute_result"
    }
   ],
   "source": [
    "df.describe()"
   ]
  },
  {
   "cell_type": "code",
   "execution_count": 74,
   "id": "971d54ed",
   "metadata": {},
   "outputs": [
    {
     "data": {
      "text/plain": [
       "\"I don't have any of the devices to test at the moment. I guess I'll start using the emulators later on.We're looking to offer mobile support. I was wondering how jQuery or even javascript renders in their respective browsers. What works? What doesn't? Any tips? Advice?\""
      ]
     },
     "execution_count": 74,
     "metadata": {},
     "output_type": "execute_result"
    }
   ],
   "source": [
    "df.iloc[0]['Q_Body']"
   ]
  },
  {
   "cell_type": "code",
   "execution_count": 154,
   "id": "ba2e1459",
   "metadata": {},
   "outputs": [],
   "source": [
    "df.to_csv(\"../../data/prepared/df_200.csv\")"
   ]
  }
 ],
 "metadata": {
  "kernelspec": {
   "display_name": "Python 3.9.12 ('base')",
   "language": "python",
   "name": "python3"
  },
  "language_info": {
   "codemirror_mode": {
    "name": "ipython",
    "version": 3
   },
   "file_extension": ".py",
   "mimetype": "text/x-python",
   "name": "python",
   "nbconvert_exporter": "python",
   "pygments_lexer": "ipython3",
   "version": "3.9.12"
  },
  "toc": {
   "base_numbering": 1,
   "nav_menu": {},
   "number_sections": true,
   "sideBar": true,
   "skip_h1_title": false,
   "title_cell": "Table of Contents",
   "title_sidebar": "Contents",
   "toc_cell": false,
   "toc_position": {},
   "toc_section_display": true,
   "toc_window_display": true
  },
  "vscode": {
   "interpreter": {
    "hash": "ad2bdc8ecc057115af97d19610ffacc2b4e99fae6737bb82f5d7fb13d2f2c186"
   }
  }
 },
 "nbformat": 4,
 "nbformat_minor": 5
}
