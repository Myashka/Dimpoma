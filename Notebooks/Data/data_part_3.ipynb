{
 "cells": [
  {
   "cell_type": "markdown",
   "id": "083a4e47",
   "metadata": {},
   "source": [
    "# Общая информация:\n",
    "__Задачи, решаемые в ноутбуке:__\n",
    "\n",
    "1) Отобрать вопросы, имеющие тег _Android_\n",
    "\n",
    "2) Сбор ответов с флагом лучший ответ\n",
    "\n",
    "3) Сбор вопросов, с короткими ответами\n",
    "\n",
    "4) Разбить на категории с помощью regex"
   ]
  },
  {
   "cell_type": "markdown",
   "id": "7156f838",
   "metadata": {},
   "source": [
    "# Импорт библиотек"
   ]
  },
  {
   "cell_type": "code",
   "execution_count": 77,
   "id": "e8b92756",
   "metadata": {},
   "outputs": [],
   "source": [
    "import pickle\n",
    "\n",
    "import matplotlib.pyplot as plt\n",
    "import numpy as np\n",
    "import pandas as pd\n",
    "import seaborn as sns\n",
    "from bs4 import BeautifulSoup\n",
    "\n",
    "pd.set_option(\"display.max_colwidth\", None)"
   ]
  },
  {
   "cell_type": "code",
   "execution_count": 78,
   "id": "2aecdd13",
   "metadata": {},
   "outputs": [],
   "source": [
    "from postclassifier.postprocessor import *"
   ]
  },
  {
   "cell_type": "markdown",
   "id": "c0f03431",
   "metadata": {},
   "source": [
    "# Фильтрация данных"
   ]
  },
  {
   "cell_type": "code",
   "execution_count": 115,
   "id": "e021daf4",
   "metadata": {},
   "outputs": [],
   "source": [
    "def filter_column(df, column_name, text_to_filter, regex=False):\n",
    "    before_filtering = len(df)\n",
    "    df = df[\n",
    "        ~df[f\"{column_name}\"].str.contains(f\"{text_to_filter}\", na=False, regex=regex)\n",
    "    ]\n",
    "    after_filtering = len(df)\n",
    "    print(f\"Deleted {before_filtering-after_filtering} rows\")\n",
    "    return df"
   ]
  },
  {
   "cell_type": "code",
   "execution_count": 116,
   "id": "a2983b76",
   "metadata": {},
   "outputs": [],
   "source": [
    "with open(f\"../../data/prepared/q_a_df.p\", \"rb\") as f:\n",
    "    q_a_df = pickle.load(f)"
   ]
  },
  {
   "cell_type": "code",
   "execution_count": 117,
   "id": "d6ddd239",
   "metadata": {},
   "outputs": [
    {
     "data": {
      "text/plain": [
       "2176164"
      ]
     },
     "execution_count": 117,
     "metadata": {},
     "output_type": "execute_result"
    }
   ],
   "source": [
    "len(q_a_df)"
   ]
  },
  {
   "cell_type": "code",
   "execution_count": 118,
   "id": "64034b67",
   "metadata": {},
   "outputs": [],
   "source": [
    "q_a_df = q_a_df.dropna()"
   ]
  },
  {
   "cell_type": "code",
   "execution_count": 119,
   "id": "d95b2f53",
   "metadata": {},
   "outputs": [
    {
     "data": {
      "text/plain": [
       "2014516"
      ]
     },
     "execution_count": 119,
     "metadata": {},
     "output_type": "execute_result"
    }
   ],
   "source": [
    "len(q_a_df)"
   ]
  },
  {
   "cell_type": "markdown",
   "id": "58851e3f",
   "metadata": {},
   "source": [
    "## Вопросы _\"android\"_"
   ]
  },
  {
   "cell_type": "code",
   "execution_count": 120,
   "id": "2668624a",
   "metadata": {},
   "outputs": [],
   "source": [
    "q_a_df = q_a_df.loc[q_a_df.apply(lambda x: f\"android\" in x.Tag, axis=1)]"
   ]
  },
  {
   "cell_type": "code",
   "execution_count": 121,
   "id": "f6512949",
   "metadata": {},
   "outputs": [
    {
     "data": {
      "text/plain": [
       "128954"
      ]
     },
     "execution_count": 121,
     "metadata": {},
     "output_type": "execute_result"
    }
   ],
   "source": [
    "len(q_a_df)"
   ]
  },
  {
   "cell_type": "markdown",
   "id": "0fd44657",
   "metadata": {},
   "source": [
    "## Нет картинкам!"
   ]
  },
  {
   "cell_type": "code",
   "execution_count": 122,
   "id": "8c5acec1",
   "metadata": {},
   "outputs": [
    {
     "name": "stdout",
     "output_type": "stream",
     "text": [
      "Deleted 11046 rows\n",
      "Deleted 1408 rows\n"
     ]
    }
   ],
   "source": [
    "q_a_df = filter_column(q_a_df, \"Q_Body\", \"<img\")\n",
    "q_a_df = filter_column(q_a_df, \"A_Body\", \"<img\")"
   ]
  },
  {
   "cell_type": "code",
   "execution_count": 123,
   "id": "24a38e58",
   "metadata": {},
   "outputs": [
    {
     "data": {
      "text/plain": [
       "116500"
      ]
     },
     "execution_count": 123,
     "metadata": {},
     "output_type": "execute_result"
    }
   ],
   "source": [
    "len(q_a_df)"
   ]
  },
  {
   "cell_type": "markdown",
   "id": "04ad0e9f",
   "metadata": {},
   "source": [
    "## Ссылочку нельзя"
   ]
  },
  {
   "cell_type": "code",
   "execution_count": 124,
   "id": "b4d90633",
   "metadata": {},
   "outputs": [
    {
     "name": "stdout",
     "output_type": "stream",
     "text": [
      "Deleted 35709 rows\n",
      "Deleted 10823 rows\n"
     ]
    }
   ],
   "source": [
    "q_a_df = filter_column(q_a_df, \"A_Body\", \"<a href=\")\n",
    "q_a_df = filter_column(q_a_df, \"Q_Body\", \"<a href=\")"
   ]
  },
  {
   "cell_type": "code",
   "execution_count": 125,
   "id": "7d10f0cf",
   "metadata": {},
   "outputs": [
    {
     "data": {
      "text/plain": [
       "69968"
      ]
     },
     "execution_count": 125,
     "metadata": {},
     "output_type": "execute_result"
    }
   ],
   "source": [
    "len(q_a_df)"
   ]
  },
  {
   "cell_type": "markdown",
   "id": "d63ee4fa",
   "metadata": {},
   "source": [
    "## No code вопросы"
   ]
  },
  {
   "cell_type": "code",
   "execution_count": 126,
   "id": "52275618",
   "metadata": {},
   "outputs": [],
   "source": [
    "pre_code_regex = \"</code></pre>\""
   ]
  },
  {
   "cell_type": "code",
   "execution_count": 127,
   "id": "44a144b9",
   "metadata": {},
   "outputs": [
    {
     "name": "stdout",
     "output_type": "stream",
     "text": [
      "Deleted 49056 rows\n",
      "Deleted 8756 rows\n"
     ]
    }
   ],
   "source": [
    "q_a_df = filter_column(q_a_df, \"Q_Body\", pre_code_regex, regex=False)\n",
    "q_a_df = filter_column(q_a_df, \"A_Body\", pre_code_regex, regex=False)"
   ]
  },
  {
   "cell_type": "code",
   "execution_count": 128,
   "id": "cc0a89e5",
   "metadata": {},
   "outputs": [
    {
     "data": {
      "text/plain": [
       "12156"
      ]
     },
     "execution_count": 128,
     "metadata": {},
     "output_type": "execute_result"
    }
   ],
   "source": [
    "len(q_a_df)"
   ]
  },
  {
   "cell_type": "markdown",
   "id": "a311038e",
   "metadata": {},
   "source": [
    "## Только лучшие (ответы)"
   ]
  },
  {
   "cell_type": "markdown",
   "id": "beb7a2a4",
   "metadata": {},
   "source": [
    "Выберем только ответы с наибольшем score, а вопросы с положительным"
   ]
  },
  {
   "cell_type": "code",
   "execution_count": 129,
   "id": "9aa8aba1",
   "metadata": {},
   "outputs": [],
   "source": [
    "questions_score = 0"
   ]
  },
  {
   "cell_type": "code",
   "execution_count": 130,
   "id": "f6190800",
   "metadata": {},
   "outputs": [],
   "source": [
    "q_a_df.query(f\"Q_Score >= {questions_score}\", inplace=True)"
   ]
  },
  {
   "cell_type": "code",
   "execution_count": 131,
   "id": "7e317f10",
   "metadata": {},
   "outputs": [],
   "source": [
    "best_a_idx = q_a_df.groupby(\"Id\")[\"A_Score\"].idxmax()\n",
    "q_a_df = q_a_df.loc[best_a_idx]"
   ]
  },
  {
   "cell_type": "code",
   "execution_count": 132,
   "id": "aef7b841",
   "metadata": {},
   "outputs": [
    {
     "data": {
      "text/plain": [
       "8469"
      ]
     },
     "execution_count": 132,
     "metadata": {},
     "output_type": "execute_result"
    }
   ],
   "source": [
    "len(q_a_df)"
   ]
  },
  {
   "cell_type": "code",
   "execution_count": 133,
   "id": "4972d55c",
   "metadata": {},
   "outputs": [
    {
     "data": {
      "text/plain": [
       "4596"
      ]
     },
     "execution_count": 133,
     "metadata": {},
     "output_type": "execute_result"
    }
   ],
   "source": [
    "q_a_df.query(f\"A_Score >= 1\", inplace=True)\n",
    "len(q_a_df)"
   ]
  },
  {
   "cell_type": "code",
   "execution_count": 134,
   "id": "e25c797d",
   "metadata": {},
   "outputs": [
    {
     "data": {
      "text/html": [
       "<div>\n",
       "<style scoped>\n",
       "    .dataframe tbody tr th:only-of-type {\n",
       "        vertical-align: middle;\n",
       "    }\n",
       "\n",
       "    .dataframe tbody tr th {\n",
       "        vertical-align: top;\n",
       "    }\n",
       "\n",
       "    .dataframe thead th {\n",
       "        text-align: right;\n",
       "    }\n",
       "</style>\n",
       "<table border=\"1\" class=\"dataframe\">\n",
       "  <thead>\n",
       "    <tr style=\"text-align: right;\">\n",
       "      <th></th>\n",
       "      <th>Id</th>\n",
       "      <th>Q_date_open</th>\n",
       "      <th>Q_Score</th>\n",
       "      <th>Q_Title</th>\n",
       "      <th>Q_Body</th>\n",
       "      <th>A_Score</th>\n",
       "      <th>A_Body</th>\n",
       "      <th>Tag</th>\n",
       "    </tr>\n",
       "  </thead>\n",
       "  <tbody>\n",
       "    <tr>\n",
       "      <th>11466</th>\n",
       "      <td>146020</td>\n",
       "      <td>2008-09-28 14:53:56+00:00</td>\n",
       "      <td>51</td>\n",
       "      <td>Making Eclipse behave like Visual Studio</td>\n",
       "      <td>&lt;p&gt;I'm doing some Android dev, and I much prefer Visual Studio, but I'll have to use &lt;em&gt;Eclipse&lt;/em&gt; for this.&lt;/p&gt;\\n\\n&lt;p&gt;Has anyone made a tool that switches &lt;em&gt;Eclipse&lt;/em&gt; to look and behave more like visual studio? I mainly can't stand its &lt;strong&gt;clippyesqe&lt;/strong&gt; suggestions on how I should program (Yes, I know I have not yet used that private field! Thanks Eclipse!), or its incredibly lousy &lt;strong&gt;intellisense&lt;/strong&gt;.&lt;/p&gt;\\n\\n&lt;p&gt;For example, in eclipse, if I don't type &lt;code&gt;this&lt;/code&gt; first, its &lt;strong&gt;intellisense&lt;/strong&gt; won't realize I want to look for locally scoped members. Also, the TAB to complete VS convention is drilled into my head, and &lt;em&gt;Eclipse&lt;/em&gt; is ENTER to complete, I could switch everything by hand but that would take hours, and I was hoping someone had some sort of theme or something that has already done it :)&lt;/p&gt;\\n</td>\n",
       "      <td>13.0</td>\n",
       "      <td>&lt;p&gt;Have you tried using the Visual Studio keybindings available in Eclipse Ganymede (3.4)?&lt;/p&gt;\\n\\n&lt;p&gt;(You may want to know that \"IntelliSense\" is a Visual Studio-term, an probably unknown to anyone without Visual Studio-experience. \"Autocompletion\" is probably a more widely used term.)&lt;/p&gt;\\n</td>\n",
       "      <td>[java, android, eclipse, visual-studio, ide]</td>\n",
       "    </tr>\n",
       "  </tbody>\n",
       "</table>\n",
       "</div>"
      ],
      "text/plain": [
       "           Id               Q_date_open  Q_Score  \\\n",
       "11466  146020 2008-09-28 14:53:56+00:00       51   \n",
       "\n",
       "                                        Q_Title  \\\n",
       "11466  Making Eclipse behave like Visual Studio   \n",
       "\n",
       "                                                                                                                                                                                                                                                                                                                                                                                                                                                                                                                                                                                                                                                                                                                                                                                                                                                                                                  Q_Body  \\\n",
       "11466  <p>I'm doing some Android dev, and I much prefer Visual Studio, but I'll have to use <em>Eclipse</em> for this.</p>\\n\\n<p>Has anyone made a tool that switches <em>Eclipse</em> to look and behave more like visual studio? I mainly can't stand its <strong>clippyesqe</strong> suggestions on how I should program (Yes, I know I have not yet used that private field! Thanks Eclipse!), or its incredibly lousy <strong>intellisense</strong>.</p>\\n\\n<p>For example, in eclipse, if I don't type <code>this</code> first, its <strong>intellisense</strong> won't realize I want to look for locally scoped members. Also, the TAB to complete VS convention is drilled into my head, and <em>Eclipse</em> is ENTER to complete, I could switch everything by hand but that would take hours, and I was hoping someone had some sort of theme or something that has already done it :)</p>\\n   \n",
       "\n",
       "       A_Score  \\\n",
       "11466     13.0   \n",
       "\n",
       "                                                                                                                                                                                                                                                                                                     A_Body  \\\n",
       "11466  <p>Have you tried using the Visual Studio keybindings available in Eclipse Ganymede (3.4)?</p>\\n\\n<p>(You may want to know that \"IntelliSense\" is a Visual Studio-term, an probably unknown to anyone without Visual Studio-experience. \"Autocompletion\" is probably a more widely used term.)</p>\\n   \n",
       "\n",
       "                                                Tag  \n",
       "11466  [java, android, eclipse, visual-studio, ide]  "
      ]
     },
     "execution_count": 134,
     "metadata": {},
     "output_type": "execute_result"
    }
   ],
   "source": [
    "q_a_df.head(1)"
   ]
  },
  {
   "cell_type": "markdown",
   "id": "fa010a0b",
   "metadata": {},
   "source": [
    "## Убираем HTML"
   ]
  },
  {
   "cell_type": "code",
   "execution_count": 135,
   "id": "cffe5244",
   "metadata": {},
   "outputs": [
    {
     "name": "stderr",
     "output_type": "stream",
     "text": [
      "C:\\ProgramData\\Anaconda3\\lib\\site-packages\\bs4\\__init__.py:435: MarkupResemblesLocatorWarning: The input looks more like a filename than markup. You may want to open this file and pass the filehandle into Beautiful Soup.\n",
      "  warnings.warn(\n"
     ]
    }
   ],
   "source": [
    "q_a_df[\"Q_Body\"] = q_a_df[\"Q_Body\"].apply(lambda x: BeautifulSoup(x).get_text())\n",
    "q_a_df[\"Q_Title\"] = q_a_df[\"Q_Title\"].apply(lambda x: BeautifulSoup(x).get_text())\n",
    "q_a_df[\"A_Body\"] = q_a_df[\"A_Body\"].apply(lambda x: BeautifulSoup(x).get_text())"
   ]
  },
  {
   "cell_type": "code",
   "execution_count": 136,
   "id": "efd61861",
   "metadata": {},
   "outputs": [],
   "source": [
    "q_a_df.Q_Body = q_a_df.Q_Body.apply(removeHTML)\n",
    "q_a_df.A_Body = q_a_df.A_Body.apply(removeHTML)\n",
    "q_a_df.Q_Title = q_a_df.Q_Title.apply(removeHTML)"
   ]
  },
  {
   "cell_type": "markdown",
   "id": "a898bb57",
   "metadata": {},
   "source": [
    "## Длина, не главное"
   ]
  },
  {
   "cell_type": "code",
   "execution_count": 137,
   "id": "511f117c",
   "metadata": {},
   "outputs": [],
   "source": [
    "q_a_df[\"Q_len\"] = q_a_df.Q_Body.apply(lambda x: len(x.split(\" \")))\n",
    "q_a_df[\"A_len\"] = q_a_df.A_Body.apply(lambda x: len(x.split(\" \")))"
   ]
  },
  {
   "cell_type": "code",
   "execution_count": 138,
   "id": "57f3fdce",
   "metadata": {},
   "outputs": [
    {
     "data": {
      "text/html": [
       "<div>\n",
       "<style scoped>\n",
       "    .dataframe tbody tr th:only-of-type {\n",
       "        vertical-align: middle;\n",
       "    }\n",
       "\n",
       "    .dataframe tbody tr th {\n",
       "        vertical-align: top;\n",
       "    }\n",
       "\n",
       "    .dataframe thead th {\n",
       "        text-align: right;\n",
       "    }\n",
       "</style>\n",
       "<table border=\"1\" class=\"dataframe\">\n",
       "  <thead>\n",
       "    <tr style=\"text-align: right;\">\n",
       "      <th></th>\n",
       "      <th>Id</th>\n",
       "      <th>Q_Score</th>\n",
       "      <th>A_Score</th>\n",
       "      <th>Q_len</th>\n",
       "      <th>A_len</th>\n",
       "    </tr>\n",
       "  </thead>\n",
       "  <tbody>\n",
       "    <tr>\n",
       "      <th>count</th>\n",
       "      <td>4.596000e+03</td>\n",
       "      <td>4596.000000</td>\n",
       "      <td>4596.000000</td>\n",
       "      <td>4596.000000</td>\n",
       "      <td>4596.000000</td>\n",
       "    </tr>\n",
       "    <tr>\n",
       "      <th>mean</th>\n",
       "      <td>1.511223e+07</td>\n",
       "      <td>5.389034</td>\n",
       "      <td>4.390992</td>\n",
       "      <td>84.270017</td>\n",
       "      <td>67.956701</td>\n",
       "    </tr>\n",
       "    <tr>\n",
       "      <th>std</th>\n",
       "      <td>1.012179e+07</td>\n",
       "      <td>27.388736</td>\n",
       "      <td>19.016472</td>\n",
       "      <td>84.720918</td>\n",
       "      <td>62.068147</td>\n",
       "    </tr>\n",
       "    <tr>\n",
       "      <th>min</th>\n",
       "      <td>1.460200e+05</td>\n",
       "      <td>0.000000</td>\n",
       "      <td>1.000000</td>\n",
       "      <td>4.000000</td>\n",
       "      <td>1.000000</td>\n",
       "    </tr>\n",
       "    <tr>\n",
       "      <th>25%</th>\n",
       "      <td>6.781105e+06</td>\n",
       "      <td>0.000000</td>\n",
       "      <td>1.000000</td>\n",
       "      <td>44.000000</td>\n",
       "      <td>29.000000</td>\n",
       "    </tr>\n",
       "    <tr>\n",
       "      <th>50%</th>\n",
       "      <td>1.230393e+07</td>\n",
       "      <td>1.000000</td>\n",
       "      <td>2.000000</td>\n",
       "      <td>68.000000</td>\n",
       "      <td>50.000000</td>\n",
       "    </tr>\n",
       "    <tr>\n",
       "      <th>75%</th>\n",
       "      <td>2.192929e+07</td>\n",
       "      <td>3.000000</td>\n",
       "      <td>3.000000</td>\n",
       "      <td>105.000000</td>\n",
       "      <td>85.000000</td>\n",
       "    </tr>\n",
       "    <tr>\n",
       "      <th>max</th>\n",
       "      <td>4.011758e+07</td>\n",
       "      <td>1015.000000</td>\n",
       "      <td>650.000000</td>\n",
       "      <td>2282.000000</td>\n",
       "      <td>690.000000</td>\n",
       "    </tr>\n",
       "  </tbody>\n",
       "</table>\n",
       "</div>"
      ],
      "text/plain": [
       "                 Id      Q_Score      A_Score        Q_len        A_len\n",
       "count  4.596000e+03  4596.000000  4596.000000  4596.000000  4596.000000\n",
       "mean   1.511223e+07     5.389034     4.390992    84.270017    67.956701\n",
       "std    1.012179e+07    27.388736    19.016472    84.720918    62.068147\n",
       "min    1.460200e+05     0.000000     1.000000     4.000000     1.000000\n",
       "25%    6.781105e+06     0.000000     1.000000    44.000000    29.000000\n",
       "50%    1.230393e+07     1.000000     2.000000    68.000000    50.000000\n",
       "75%    2.192929e+07     3.000000     3.000000   105.000000    85.000000\n",
       "max    4.011758e+07  1015.000000   650.000000  2282.000000   690.000000"
      ]
     },
     "execution_count": 138,
     "metadata": {},
     "output_type": "execute_result"
    }
   ],
   "source": [
    "q_a_df.describe()"
   ]
  },
  {
   "cell_type": "code",
   "execution_count": 139,
   "id": "dafd753b",
   "metadata": {},
   "outputs": [],
   "source": [
    "q_a_df.query(f\"Q_len <= 150\", inplace=True)"
   ]
  },
  {
   "cell_type": "code",
   "execution_count": 140,
   "id": "71cb57a5",
   "metadata": {},
   "outputs": [
    {
     "data": {
      "text/plain": [
       "4128"
      ]
     },
     "execution_count": 140,
     "metadata": {},
     "output_type": "execute_result"
    }
   ],
   "source": [
    "len(q_a_df)"
   ]
  },
  {
   "cell_type": "markdown",
   "id": "7b525280",
   "metadata": {},
   "source": [
    "# Regex для категоризации вопросов"
   ]
  },
  {
   "cell_type": "code",
   "execution_count": 141,
   "id": "6d5a0ceb",
   "metadata": {},
   "outputs": [],
   "source": [
    "from postclassifier.api_change import API_change\n",
    "from postclassifier.api_usage import API_usage\n",
    "from postclassifier.conceptual import Conceptual\n",
    "from postclassifier.discrepancy import Discrepancy\n",
    "from postclassifier.documentation import Documentation\n",
    "from postclassifier.errors import Errors\n",
    "from postclassifier.review import Review"
   ]
  },
  {
   "cell_type": "code",
   "execution_count": 142,
   "id": "10961de5",
   "metadata": {},
   "outputs": [],
   "source": [
    "classifiers = [\n",
    "    API_change(),\n",
    "    API_usage(),\n",
    "    Conceptual(),\n",
    "    Discrepancy(),\n",
    "    Documentation(),\n",
    "    Errors(),\n",
    "    Review(),\n",
    "]"
   ]
  },
  {
   "cell_type": "code",
   "execution_count": 143,
   "id": "325fa677",
   "metadata": {},
   "outputs": [],
   "source": [
    "for cc in classifiers:\n",
    "    q_a_df[f\"{cc.name}\"] = q_a_df.apply(\n",
    "        lambda x: cc.classify(x.Q_Title, x.Q_Body), axis=1\n",
    "    )"
   ]
  },
  {
   "cell_type": "code",
   "execution_count": 144,
   "id": "ff909554",
   "metadata": {},
   "outputs": [
    {
     "data": {
      "text/html": [
       "<div>\n",
       "<style scoped>\n",
       "    .dataframe tbody tr th:only-of-type {\n",
       "        vertical-align: middle;\n",
       "    }\n",
       "\n",
       "    .dataframe tbody tr th {\n",
       "        vertical-align: top;\n",
       "    }\n",
       "\n",
       "    .dataframe thead th {\n",
       "        text-align: right;\n",
       "    }\n",
       "</style>\n",
       "<table border=\"1\" class=\"dataframe\">\n",
       "  <thead>\n",
       "    <tr style=\"text-align: right;\">\n",
       "      <th></th>\n",
       "      <th>Id</th>\n",
       "      <th>Q_Score</th>\n",
       "      <th>A_Score</th>\n",
       "      <th>Q_len</th>\n",
       "      <th>A_len</th>\n",
       "      <th>API_CHANGE</th>\n",
       "      <th>API_USAGE</th>\n",
       "      <th>CONCEPTUAL</th>\n",
       "      <th>DISCREPANCY</th>\n",
       "      <th>DOCUMENTATION</th>\n",
       "      <th>ERRORS</th>\n",
       "      <th>REVIEW</th>\n",
       "    </tr>\n",
       "  </thead>\n",
       "  <tbody>\n",
       "    <tr>\n",
       "      <th>count</th>\n",
       "      <td>4.128000e+03</td>\n",
       "      <td>4128.000000</td>\n",
       "      <td>4128.000000</td>\n",
       "      <td>4128.000000</td>\n",
       "      <td>4128.000000</td>\n",
       "      <td>4128.000000</td>\n",
       "      <td>4128.000000</td>\n",
       "      <td>4128.000000</td>\n",
       "      <td>4128.000000</td>\n",
       "      <td>4128.000000</td>\n",
       "      <td>4128.000000</td>\n",
       "      <td>4128.000000</td>\n",
       "    </tr>\n",
       "    <tr>\n",
       "      <th>mean</th>\n",
       "      <td>1.501147e+07</td>\n",
       "      <td>5.563711</td>\n",
       "      <td>4.458576</td>\n",
       "      <td>68.033430</td>\n",
       "      <td>64.219719</td>\n",
       "      <td>0.015262</td>\n",
       "      <td>0.157946</td>\n",
       "      <td>0.220446</td>\n",
       "      <td>0.117248</td>\n",
       "      <td>0.018653</td>\n",
       "      <td>0.076550</td>\n",
       "      <td>0.043605</td>\n",
       "    </tr>\n",
       "    <tr>\n",
       "      <th>std</th>\n",
       "      <td>1.010332e+07</td>\n",
       "      <td>28.336631</td>\n",
       "      <td>18.886734</td>\n",
       "      <td>33.359034</td>\n",
       "      <td>58.567757</td>\n",
       "      <td>0.122606</td>\n",
       "      <td>0.364734</td>\n",
       "      <td>0.414597</td>\n",
       "      <td>0.321755</td>\n",
       "      <td>0.135313</td>\n",
       "      <td>0.265909</td>\n",
       "      <td>0.204239</td>\n",
       "    </tr>\n",
       "    <tr>\n",
       "      <th>min</th>\n",
       "      <td>1.460200e+05</td>\n",
       "      <td>0.000000</td>\n",
       "      <td>1.000000</td>\n",
       "      <td>4.000000</td>\n",
       "      <td>1.000000</td>\n",
       "      <td>0.000000</td>\n",
       "      <td>0.000000</td>\n",
       "      <td>0.000000</td>\n",
       "      <td>0.000000</td>\n",
       "      <td>0.000000</td>\n",
       "      <td>0.000000</td>\n",
       "      <td>0.000000</td>\n",
       "    </tr>\n",
       "    <tr>\n",
       "      <th>25%</th>\n",
       "      <td>6.716712e+06</td>\n",
       "      <td>0.000000</td>\n",
       "      <td>1.000000</td>\n",
       "      <td>42.000000</td>\n",
       "      <td>28.000000</td>\n",
       "      <td>0.000000</td>\n",
       "      <td>0.000000</td>\n",
       "      <td>0.000000</td>\n",
       "      <td>0.000000</td>\n",
       "      <td>0.000000</td>\n",
       "      <td>0.000000</td>\n",
       "      <td>0.000000</td>\n",
       "    </tr>\n",
       "    <tr>\n",
       "      <th>50%</th>\n",
       "      <td>1.216810e+07</td>\n",
       "      <td>1.000000</td>\n",
       "      <td>2.000000</td>\n",
       "      <td>63.000000</td>\n",
       "      <td>48.000000</td>\n",
       "      <td>0.000000</td>\n",
       "      <td>0.000000</td>\n",
       "      <td>0.000000</td>\n",
       "      <td>0.000000</td>\n",
       "      <td>0.000000</td>\n",
       "      <td>0.000000</td>\n",
       "      <td>0.000000</td>\n",
       "    </tr>\n",
       "    <tr>\n",
       "      <th>75%</th>\n",
       "      <td>2.178578e+07</td>\n",
       "      <td>3.000000</td>\n",
       "      <td>3.000000</td>\n",
       "      <td>91.250000</td>\n",
       "      <td>81.000000</td>\n",
       "      <td>0.000000</td>\n",
       "      <td>0.000000</td>\n",
       "      <td>0.000000</td>\n",
       "      <td>0.000000</td>\n",
       "      <td>0.000000</td>\n",
       "      <td>0.000000</td>\n",
       "      <td>0.000000</td>\n",
       "    </tr>\n",
       "    <tr>\n",
       "      <th>max</th>\n",
       "      <td>4.007348e+07</td>\n",
       "      <td>1015.000000</td>\n",
       "      <td>650.000000</td>\n",
       "      <td>150.000000</td>\n",
       "      <td>690.000000</td>\n",
       "      <td>1.000000</td>\n",
       "      <td>1.000000</td>\n",
       "      <td>1.000000</td>\n",
       "      <td>1.000000</td>\n",
       "      <td>1.000000</td>\n",
       "      <td>1.000000</td>\n",
       "      <td>1.000000</td>\n",
       "    </tr>\n",
       "  </tbody>\n",
       "</table>\n",
       "</div>"
      ],
      "text/plain": [
       "                 Id      Q_Score      A_Score        Q_len        A_len  \\\n",
       "count  4.128000e+03  4128.000000  4128.000000  4128.000000  4128.000000   \n",
       "mean   1.501147e+07     5.563711     4.458576    68.033430    64.219719   \n",
       "std    1.010332e+07    28.336631    18.886734    33.359034    58.567757   \n",
       "min    1.460200e+05     0.000000     1.000000     4.000000     1.000000   \n",
       "25%    6.716712e+06     0.000000     1.000000    42.000000    28.000000   \n",
       "50%    1.216810e+07     1.000000     2.000000    63.000000    48.000000   \n",
       "75%    2.178578e+07     3.000000     3.000000    91.250000    81.000000   \n",
       "max    4.007348e+07  1015.000000   650.000000   150.000000   690.000000   \n",
       "\n",
       "        API_CHANGE    API_USAGE   CONCEPTUAL  DISCREPANCY  DOCUMENTATION  \\\n",
       "count  4128.000000  4128.000000  4128.000000  4128.000000    4128.000000   \n",
       "mean      0.015262     0.157946     0.220446     0.117248       0.018653   \n",
       "std       0.122606     0.364734     0.414597     0.321755       0.135313   \n",
       "min       0.000000     0.000000     0.000000     0.000000       0.000000   \n",
       "25%       0.000000     0.000000     0.000000     0.000000       0.000000   \n",
       "50%       0.000000     0.000000     0.000000     0.000000       0.000000   \n",
       "75%       0.000000     0.000000     0.000000     0.000000       0.000000   \n",
       "max       1.000000     1.000000     1.000000     1.000000       1.000000   \n",
       "\n",
       "            ERRORS       REVIEW  \n",
       "count  4128.000000  4128.000000  \n",
       "mean      0.076550     0.043605  \n",
       "std       0.265909     0.204239  \n",
       "min       0.000000     0.000000  \n",
       "25%       0.000000     0.000000  \n",
       "50%       0.000000     0.000000  \n",
       "75%       0.000000     0.000000  \n",
       "max       1.000000     1.000000  "
      ]
     },
     "execution_count": 144,
     "metadata": {},
     "output_type": "execute_result"
    }
   ],
   "source": [
    "q_a_df.describe()"
   ]
  },
  {
   "cell_type": "markdown",
   "id": "7721d9bf",
   "metadata": {},
   "source": [
    "## Вопросы с API_USAGE"
   ]
  },
  {
   "cell_type": "code",
   "execution_count": 151,
   "id": "8146529b",
   "metadata": {},
   "outputs": [],
   "source": [
    "df = q_a_df.loc[q_a_df.API_USAGE == 1]"
   ]
  },
  {
   "cell_type": "code",
   "execution_count": 152,
   "id": "971d54ed",
   "metadata": {},
   "outputs": [
    {
     "data": {
      "text/plain": [
       "652"
      ]
     },
     "execution_count": 152,
     "metadata": {},
     "output_type": "execute_result"
    }
   ],
   "source": [
    "len(df)"
   ]
  },
  {
   "cell_type": "code",
   "execution_count": 154,
   "id": "ba2e1459",
   "metadata": {},
   "outputs": [],
   "source": [
    "df.to_csv(\"../../data/prepared/df_150.csv\")"
   ]
  }
 ],
 "metadata": {
  "kernelspec": {
   "display_name": "Python 3 (ipykernel)",
   "language": "python",
   "name": "python3"
  },
  "language_info": {
   "codemirror_mode": {
    "name": "ipython",
    "version": 3
   },
   "file_extension": ".py",
   "mimetype": "text/x-python",
   "name": "python",
   "nbconvert_exporter": "python",
   "pygments_lexer": "ipython3",
   "version": "3.9.12"
  },
  "toc": {
   "base_numbering": 1,
   "nav_menu": {},
   "number_sections": true,
   "sideBar": true,
   "skip_h1_title": false,
   "title_cell": "Table of Contents",
   "title_sidebar": "Contents",
   "toc_cell": false,
   "toc_position": {},
   "toc_section_display": true,
   "toc_window_display": true
  }
 },
 "nbformat": 4,
 "nbformat_minor": 5
}
