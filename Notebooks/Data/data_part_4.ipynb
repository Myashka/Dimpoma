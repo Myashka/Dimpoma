{
  "cells": [
    {
      "cell_type": "markdown",
      "id": "083a4e47",
      "metadata": {
        "id": "083a4e47"
      },
      "source": [
        "# Общая информация:\n",
        "__Задачи, решаемые в ноутбуке:__\n",
        "\n",
        "1) Сделать эвалуацию базовой GPT neo на случайно из data part 4, включающей 500 экземпляров (API Usage category, <=200 length)\n",
        "\n",
        "2) Отобрать экземпляров, имеющих наименьшее косинусное расстояние Q_title и Q_Body\n",
        "\n",
        "3) Сделать эвалуацию базовой модели на отобранной выборке\n",
        "\n",
        "4) Сравнить результат\n",
        "\n",
        "5) Сделать кластрезицию на основе BERToflow embedding"
      ]
    },
    {
      "cell_type": "markdown",
      "id": "7156f838",
      "metadata": {
        "id": "7156f838"
      },
      "source": [
        "# Импорт библиотек"
      ]
    },
    {
      "cell_type": "code",
      "execution_count": 1,
      "id": "zRLgZ3de-mgE",
      "metadata": {
        "colab": {
          "base_uri": "https://localhost:8080/"
        },
        "id": "zRLgZ3de-mgE",
        "outputId": "302b12f4-f403-448c-bb2c-07f9e638a8f1"
      },
      "outputs": [
        {
          "name": "stdout",
          "output_type": "stream",
          "text": [
            "--2022-11-11 18:39:33--  https://raw.githubusercontent.com/Myashka/Diploma/master/Notebooks/Data/utils.py\n",
            "Resolving raw.githubusercontent.com (raw.githubusercontent.com)... 185.199.108.133, 185.199.109.133, 185.199.110.133, ...\n",
            "Connecting to raw.githubusercontent.com (raw.githubusercontent.com)|185.199.108.133|:443... connected.\n",
            "HTTP request sent, awaiting response... 200 OK\n",
            "Length: 8246 (8.1K) [text/plain]\n",
            "Saving to: ‘utils.py’\n",
            "\n",
            "utils.py            100%[===================>]   8.05K  --.-KB/s    in 0s      \n",
            "\n",
            "2022-11-11 18:39:33 (103 MB/s) - ‘utils.py’ saved [8246/8246]\n",
            "\n"
          ]
        }
      ],
      "source": [
        "!wget https://raw.githubusercontent.com/Myashka/Diploma/master/Notebooks/utils.py"
      ]
    },
    {
      "cell_type": "code",
      "execution_count": 3,
      "id": "PYPkCl9i-GO-",
      "metadata": {
        "id": "PYPkCl9i-GO-"
      },
      "outputs": [],
      "source": [
        "#!pip install bert_score datasets rouge_score evaluate pynvml transformers wandb"
      ]
    },
    {
      "cell_type": "code",
      "execution_count": 6,
      "id": "v-0WJMuE-STz",
      "metadata": {
        "colab": {
          "base_uri": "https://localhost:8080/"
        },
        "id": "v-0WJMuE-STz",
        "outputId": "9aea17bc-0cfd-47bf-d2ed-bc20e12ef13d"
      },
      "outputs": [],
      "source": [
        "if 'google.colab' in str(get_ipython()):\n",
        "    !pip install bert_score datasets rouge_score evaluate pynvml transformers wandb\n",
        "    \n",
        "    !wget https://raw.githubusercontent.com/Myashka/Diploma/master/Notebooks/utils.py\n",
        "\n",
        "    from google.colab import drive\n",
        "    drive.mount(\"/content/drive\")\n",
        "else:\n",
        "    import sys\n",
        "    sys.path.append(r\"D:\\vkr\\Notebooks\")\n",
        "\n",
        "    from utils import *"
      ]
    },
    {
      "cell_type": "code",
      "execution_count": 1,
      "id": "e8b92756",
      "metadata": {
        "id": "e8b92756"
      },
      "outputs": [],
      "source": [
        "import numpy as np\n",
        "import pandas as pd\n",
        "pd.set_option(\"display.max_colwidth\", None)\n",
        "\n",
        "from tqdm.auto import tqdm\n",
        "import torch\n",
        "from transformers import (AutoModelForTokenClassification, AutoTokenizer, AutoModelForCausalLM)"
      ]
    },
    {
      "cell_type": "code",
      "execution_count": 3,
      "id": "def49dbf",
      "metadata": {
        "id": "def49dbf"
      },
      "outputs": [],
      "source": [
        "torch.manual_seed(42)\n",
        "np.random.seed(42)"
      ]
    },
    {
      "cell_type": "markdown",
      "id": "457d7e44",
      "metadata": {
        "id": "457d7e44"
      },
      "source": [
        "# Чтение данных"
      ]
    },
    {
      "cell_type": "code",
      "execution_count": 18,
      "id": "92629da3",
      "metadata": {
        "id": "92629da3"
      },
      "outputs": [],
      "source": [
        "df = pd.read_csv(r'/content/drive/MyDrive/Colab Notebooks/vkr_data/df_200.csv')\n",
        "df = df.drop(columns=['Unnamed: 0'])\n",
        "df = df.reset_index(drop=True)"
      ]
    },
    {
      "cell_type": "code",
      "execution_count": 19,
      "id": "Y8cKys8P-RuA",
      "metadata": {
        "id": "Y8cKys8P-RuA"
      },
      "outputs": [],
      "source": [
        "samples = 500"
      ]
    },
    {
      "cell_type": "code",
      "execution_count": 8,
      "id": "2ae225be",
      "metadata": {
        "id": "2ae225be"
      },
      "outputs": [],
      "source": [
        "eval_df = df.sample(samples)\n",
        "eval_df = eval_df.reset_index(drop=True)"
      ]
    },
    {
      "cell_type": "code",
      "execution_count": 20,
      "id": "HuQxs8wrO-Ni",
      "metadata": {
        "id": "HuQxs8wrO-Ni"
      },
      "outputs": [],
      "source": [
        "eval_df = df.head(samples)"
      ]
    },
    {
      "cell_type": "code",
      "execution_count": 4,
      "id": "c15a3a0d",
      "metadata": {
        "id": "c15a3a0d"
      },
      "outputs": [],
      "source": [
        "device = torch.device(\"cuda\") if torch.cuda.is_available else \"cpu\""
      ]
    },
    {
      "cell_type": "markdown",
      "id": "n_w0HqgXiv_G",
      "metadata": {
        "id": "n_w0HqgXiv_G"
      },
      "source": [
        "# Загрузка BERToflow"
      ]
    },
    {
      "cell_type": "code",
      "execution_count": null,
      "id": "23f72886",
      "metadata": {
        "colab": {
          "base_uri": "https://localhost:8080/"
        },
        "id": "23f72886",
        "outputId": "28d482dd-fcdc-4ef1-c12e-57a153d53f2c"
      },
      "outputs": [
        {
          "name": "stderr",
          "output_type": "stream",
          "text": [
            "Some weights of BertForTokenClassification were not initialized from the model checkpoint at lanwuwei/BERTOverflow_stackoverflow_github and are newly initialized: ['classifier.bias', 'classifier.weight']\n",
            "You should probably TRAIN this model on a down-stream task to be able to use it for predictions and inference.\n"
          ]
        }
      ],
      "source": [
        "bert_tokenizer = AutoTokenizer.from_pretrained(\"lanwuwei/BERTOverflow_stackoverflow_github\")\n",
        "bert_model = AutoModelForTokenClassification.from_pretrained(\"lanwuwei/BERTOverflow_stackoverflow_github\")\n",
        "bert_model = bert_model.bert"
      ]
    },
    {
      "cell_type": "code",
      "execution_count": null,
      "id": "35pJnLvijnIt",
      "metadata": {
        "id": "35pJnLvijnIt"
      },
      "outputs": [],
      "source": [
        "def get_bert_embeddings(df, model, tokenizer, column, device):\n",
        "    model.to(device)\n",
        "    batch_size = 100\n",
        "    rows = df[f'{column}']\n",
        "    max_length = max([len(tokenizer.encode(row)) for row in rows])\n",
        "    if max_length > 512:\n",
        "        max_length = 512\n",
        "    \n",
        "    tokenized_matrix = [tokenizer.encode(row, add_special_tokens=True, padding='max_length', max_length=max_length, truncation=True) for row in np.array(rows)]\n",
        "    tokenized_matrix = torch.tensor(tokenized_matrix).to(device)\n",
        "    \n",
        "    embeddings = torch.empty((tokenized_matrix.shape[0], 768)).to(device)\n",
        "    \n",
        "    with torch.no_grad():\n",
        "        for i in tqdm(range(0, len(embeddings), batch_size)):\n",
        "            last_hidden_states = model(tokenized_matrix[i: i+batch_size])\n",
        "            emb_batch = last_hidden_states[0][:,0,:]\n",
        "            embeddings[i: i+batch_size] = emb_batch\n",
        "    return embeddings.detach().cpu()"
      ]
    },
    {
      "cell_type": "code",
      "execution_count": null,
      "id": "Q7OyNlTp1hc0",
      "metadata": {
        "colab": {
          "base_uri": "https://localhost:8080/",
          "referenced_widgets": [
            "bfe0a360857b446894d70671caa71810",
            "8814d9bfe70e4d599c76062816bfda3f",
            "1b91d6cf313045f8a5834183efbfaa40",
            "7fa7c3c545ff4a8e971dccf72530d8cf",
            "1f1993bda74846cea9e844bdeecc3249",
            "5e905a25159f41138e6e378e31c4e7d5",
            "27afd9703c534e92a90f137059b91b3d",
            "79d923b8ce7d438a88a9174644624809",
            "6cab4ee0b7f14ed8b454f1983dd3cf9b",
            "394c37307fb943cea5bab10889604f31",
            "e7273ec59bbe48e09c82fba9ac6a08c6"
          ]
        },
        "id": "Q7OyNlTp1hc0",
        "outputId": "49daad3b-79b5-4023-932d-b6f9a7273e5b"
      },
      "outputs": [
        {
          "data": {
            "application/vnd.jupyter.widget-view+json": {
              "model_id": "bfe0a360857b446894d70671caa71810",
              "version_major": 2,
              "version_minor": 0
            },
            "text/plain": [
              "  0%|          | 0/8 [00:00<?, ?it/s]"
            ]
          },
          "metadata": {},
          "output_type": "display_data"
        }
      ],
      "source": [
        "question_emb = get_bert_embeddings(df, bert_model, bert_tokenizer, 'Q_Body', device)"
      ]
    },
    {
      "cell_type": "code",
      "execution_count": null,
      "id": "XqF00R8F_dOu",
      "metadata": {
        "colab": {
          "base_uri": "https://localhost:8080/",
          "referenced_widgets": [
            "b60af0b4e1154089bb6b57dd4bd77f48",
            "7d70c6ce278443c6b55e2cdff85fba00",
            "9ce21eed520f46e7a414499181abc54a",
            "bfb56362becf48db93fdb9f7a2664609",
            "a520729adfe94a1d82abe0a8a161fccd",
            "cfab273f0a924dc597eee9afc49dcc5d",
            "eda25ef08f6c40c196c9079db1d370cb",
            "6d0a75ea969546c896217105b2d4e1e5",
            "83a4f817bcde4dd0b84fd607cef6bc76",
            "191782cf4e114dfcb08b6ceec0da061a",
            "b19202471c4a4a2ab78ae2136fdf817e"
          ]
        },
        "id": "XqF00R8F_dOu",
        "outputId": "1e42240e-851b-4c85-edd8-79ab37102a52"
      },
      "outputs": [
        {
          "data": {
            "application/vnd.jupyter.widget-view+json": {
              "model_id": "b60af0b4e1154089bb6b57dd4bd77f48",
              "version_major": 2,
              "version_minor": 0
            },
            "text/plain": [
              "  0%|          | 0/8 [00:00<?, ?it/s]"
            ]
          },
          "metadata": {},
          "output_type": "display_data"
        }
      ],
      "source": [
        "title_emb = get_bert_embeddings(df, bert_model, bert_tokenizer, 'Q_Title', device)"
      ]
    },
    {
      "cell_type": "code",
      "execution_count": null,
      "id": "KeC7rO6BAnF9",
      "metadata": {
        "id": "KeC7rO6BAnF9"
      },
      "outputs": [],
      "source": [
        "cos_dist = torch.nn.functional.cosine_similarity(question_emb, title_emb, dim=1)"
      ]
    },
    {
      "cell_type": "code",
      "execution_count": null,
      "id": "iyIPteTS77c4",
      "metadata": {
        "id": "iyIPteTS77c4"
      },
      "outputs": [],
      "source": [
        "df['t_q_dist'] = pd.Series(list(cos_dist), index=df.index)"
      ]
    },
    {
      "cell_type": "code",
      "execution_count": null,
      "id": "DeGkpgBV8iew",
      "metadata": {
        "id": "DeGkpgBV8iew"
      },
      "outputs": [],
      "source": [
        "df = df.sort_values('t_q_dist', ascending=False)"
      ]
    },
    {
      "cell_type": "code",
      "execution_count": null,
      "id": "vlbmDW8Q4w4G",
      "metadata": {
        "id": "vlbmDW8Q4w4G"
      },
      "outputs": [],
      "source": [
        "df.to_csv('/content/drive/MyDrive/Colab Notebooks/vkr_data/df_200.csv')"
      ]
    },
    {
      "cell_type": "markdown",
      "id": "ef029931",
      "metadata": {
        "id": "ef029931"
      },
      "source": [
        "# Загрузка модели"
      ]
    },
    {
      "cell_type": "code",
      "execution_count": 5,
      "id": "WPCnYuI7iMAd",
      "metadata": {
        "id": "WPCnYuI7iMAd"
      },
      "outputs": [],
      "source": [
        "model_name = \"EleutherAI/gpt-neo-1.3B\"\n",
        "model = AutoModelForCausalLM.from_pretrained(model_name).to(device)\n",
        "tokenizer = AutoTokenizer.from_pretrained(model_name)\n",
        "tokenizer.pad_token = tokenizer.eos_token"
      ]
    },
    {
      "cell_type": "code",
      "execution_count": 21,
      "id": "cf6ea7e8",
      "metadata": {
        "id": "cf6ea7e8"
      },
      "outputs": [],
      "source": [
        "promt_1 = \"\"\"You will be asked a question. For this question, you must answer by its title.\\nTitle: \"\"\"\n",
        "#promt_1 = ''\n",
        "#promt_2 = '\\nQuestion body: '\n",
        "promt_2 = ''\n",
        "promt_3 = '\\nAnswer:'\n",
        "promts = [promt_1, promt_2, promt_3]\n",
        "\n",
        "use_title = True\n",
        "use_question = False"
      ]
    },
    {
      "cell_type": "code",
      "execution_count": 22,
      "id": "76c14cad",
      "metadata": {
        "id": "76c14cad"
      },
      "outputs": [],
      "source": [
        "dataset = Q_A_Dataset(eval_df, tokenizer, *promts, use_title=use_title, use_question=use_question)"
      ]
    },
    {
      "cell_type": "markdown",
      "id": "G453IO8ECadr",
      "metadata": {
        "id": "G453IO8ECadr"
      },
      "source": [
        "# Инициализация в WandB"
      ]
    },
    {
      "cell_type": "code",
      "execution_count": 23,
      "id": "3_d95WliFAHA",
      "metadata": {
        "colab": {
          "base_uri": "https://localhost:8080/",
          "height": 161
        },
        "id": "3_d95WliFAHA",
        "outputId": "af6658af-6e2d-4eab-ebe4-9771f0c64aab"
      },
      "outputs": [
        {
          "data": {
            "text/html": [
              "Changes to your `wandb` environment variables will be ignored because your `wandb` session has already started. For more information on how to modify your settings with `wandb.init()` arguments, please refer to <a href=\"https://wandb.me/wandb-init\" target=\"_blank\">the W&B docs</a>."
            ],
            "text/plain": [
              "<IPython.core.display.HTML object>"
            ]
          },
          "metadata": {},
          "output_type": "display_data"
        },
        {
          "data": {
            "text/html": [
              "Tracking run with wandb version 0.13.5"
            ],
            "text/plain": [
              "<IPython.core.display.HTML object>"
            ]
          },
          "metadata": {},
          "output_type": "display_data"
        },
        {
          "data": {
            "text/html": [
              "Run data is saved locally in <code>/content/wandb/run-20221111_210036-3ppy5f3h</code>"
            ],
            "text/plain": [
              "<IPython.core.display.HTML object>"
            ]
          },
          "metadata": {},
          "output_type": "display_data"
        },
        {
          "data": {
            "text/html": [
              "Syncing run <strong><a href=\"https://wandb.ai/myashka/QA%20specific%20domain/runs/3ppy5f3h\" target=\"_blank\">comic-violet-80</a></strong> to <a href=\"https://wandb.ai/myashka/QA%20specific%20domain\" target=\"_blank\">Weights & Biases</a> (<a href=\"https://wandb.me/run\" target=\"_blank\">docs</a>)<br/>"
            ],
            "text/plain": [
              "<IPython.core.display.HTML object>"
            ]
          },
          "metadata": {},
          "output_type": "display_data"
        },
        {
          "name": "stdout",
          "output_type": "stream",
          "text": [
            "env: WANDB_LOG_MODEL=true\n",
            "env: WANDB_WATCH=all\n",
            "env: WANDB_SILENT=true\n"
          ]
        }
      ],
      "source": [
        "wandb.login()\n",
        "run = wandb.init(project=\"QA specific domain\", entity=\"myashka\")\n",
        "\n",
        "%env WANDB_LOG_MODEL=true\n",
        "%env WANDB_WATCH=all\n",
        "%env WANDB_SILENT=true"
      ]
    },
    {
      "cell_type": "code",
      "execution_count": 24,
      "id": "05ajm5iPCee8",
      "metadata": {
        "id": "05ajm5iPCee8"
      },
      "outputs": [],
      "source": [
        "run_table_name = 'base_android_api_usage_question_answer_samples'\n",
        "run_table = wandb.Artifact(f\"{run_table_name}\", type=\"run_table\")"
      ]
    },
    {
      "cell_type": "markdown",
      "id": "e_rgmNd9CeJd",
      "metadata": {
        "id": "e_rgmNd9CeJd"
      },
      "source": [
        "# Запуск evaluation"
      ]
    },
    {
      "cell_type": "code",
      "execution_count": 25,
      "id": "d8c8fd1c",
      "metadata": {
        "id": "d8c8fd1c"
      },
      "outputs": [],
      "source": [
        "evaluator = Evaluator(run_table, model, tokenizer)"
      ]
    },
    {
      "cell_type": "code",
      "execution_count": null,
      "id": "q6ItgaFJeaP3",
      "metadata": {
        "colab": {
          "base_uri": "https://localhost:8080/",
          "height": 49,
          "referenced_widgets": [
            "9fa9f4978c11436688dcdc4a838d16e8",
            "a28c1fc7d0bc4969bb46dca0f972efe5",
            "256a4b18afe54a56a1b4f09d2204a304",
            "2e281a29e30f4e208cd0c321a19f5911",
            "bf5d439b75dc4577a32e4128145e9657",
            "d0b73d6fa1cb47f5930e4a07d53ced7f",
            "bd382be734014612b2cbae8452d48c2a",
            "2e3a2bc42da8438dbd655d0d9a26f7be",
            "ca817e646881428e996704aa51212498",
            "9009658ae9924ddb942cb8b2aff0e126",
            "dc0fdf96fe36497295539148be8e6ffe"
          ]
        },
        "id": "q6ItgaFJeaP3",
        "outputId": "2cb81b0d-abaf-42a6-ab76-312276176448"
      },
      "outputs": [
        {
          "data": {
            "application/vnd.jupyter.widget-view+json": {
              "model_id": "9fa9f4978c11436688dcdc4a838d16e8",
              "version_major": 2,
              "version_minor": 0
            },
            "text/plain": [
              "  0%|          | 0/500 [00:00<?, ?it/s]"
            ]
          },
          "metadata": {},
          "output_type": "display_data"
        }
      ],
      "source": [
        "eval_table, bleu, rouge, bert_pr, bert_rec, bert_f1 = evaluator.evaluate(dataset, *promts, use_title=use_title, use_question=use_question)"
      ]
    },
    {
      "cell_type": "code",
      "execution_count": 15,
      "id": "SERcFD8TRmXl",
      "metadata": {
        "id": "SERcFD8TRmXl"
      },
      "outputs": [],
      "source": [
        "eval_filename = 'base_good_500_samples_title_only'"
      ]
    },
    {
      "cell_type": "code",
      "execution_count": 16,
      "id": "X1xi7zOolQ_S",
      "metadata": {
        "colab": {
          "base_uri": "https://localhost:8080/",
          "height": 89
        },
        "id": "X1xi7zOolQ_S",
        "outputId": "1f643eca-8d0a-47d7-9aab-98b8f92cc8fa"
      },
      "outputs": [
        {
          "data": {
            "text/html": [
              "Waiting for W&B process to finish... <strong style=\"color:green\">(success).</strong>"
            ],
            "text/plain": [
              "<IPython.core.display.HTML object>"
            ]
          },
          "metadata": {},
          "output_type": "display_data"
        },
        {
          "data": {
            "text/html": [
              "Synced <strong style=\"color:#cdcd00\">sparkling-waterfall-79</strong>: <a href=\"https://wandb.ai/myashka/QA%20specific%20domain/runs/6fow1ff3\" target=\"_blank\">https://wandb.ai/myashka/QA%20specific%20domain/runs/6fow1ff3</a><br/>Synced 5 W&B file(s), 0 media file(s), 1 artifact file(s) and 0 other file(s)"
            ],
            "text/plain": [
              "<IPython.core.display.HTML object>"
            ]
          },
          "metadata": {},
          "output_type": "display_data"
        },
        {
          "data": {
            "text/html": [
              "Find logs at: <code>./wandb/run-20221111_195050-6fow1ff3/logs</code>"
            ],
            "text/plain": [
              "<IPython.core.display.HTML object>"
            ]
          },
          "metadata": {},
          "output_type": "display_data"
        }
      ],
      "source": [
        "run_table.add(eval_table, f\"{eval_filename}\")\n",
        "run.log_artifact(run_table)\n",
        "wandb.finish()"
      ]
    },
    {
      "cell_type": "code",
      "execution_count": 17,
      "id": "GE0DcH3OfP-_",
      "metadata": {
        "colab": {
          "base_uri": "https://localhost:8080/"
        },
        "id": "GE0DcH3OfP-_",
        "outputId": "61f0a74a-c2a4-49ba-c5d5-28256d8d5cac"
      },
      "outputs": [
        {
          "name": "stdout",
          "output_type": "stream",
          "text": [
            "0.0761053377840386 0.11734481260359653 0.8021026624441147 0.8312260866165161 0.8156762851476669\n"
          ]
        }
      ],
      "source": [
        "print(bleu, rouge, bert_pr, bert_rec, bert_f1)"
      ]
    },
    {
      "cell_type": "code",
      "execution_count": 40,
      "id": "q3b6YSKwMKkF",
      "metadata": {
        "colab": {
          "base_uri": "https://localhost:8080/"
        },
        "id": "q3b6YSKwMKkF",
        "outputId": "3922c2dc-55aa-4e4b-f7a7-d96d53b45149"
      },
      "outputs": [
        {
          "name": "stdout",
          "output_type": "stream",
          "text": [
            "0.07507298549986695 0.1382533189306258 0.8155683051972162 0.8414178155717396 0.8277067371777126\n"
          ]
        }
      ],
      "source": [
        "print(bleu, rouge, bert_pr, bert_rec, bert_f1)"
      ]
    },
    {
      "cell_type": "code",
      "execution_count": 28,
      "id": "asvm2_p9J0bT",
      "metadata": {
        "colab": {
          "base_uri": "https://localhost:8080/"
        },
        "id": "asvm2_p9J0bT",
        "outputId": "a6fe0873-cfdc-4059-c6ab-a6c82e4515c5"
      },
      "outputs": [
        {
          "name": "stdout",
          "output_type": "stream",
          "text": [
            "0.07923253181291372 0.13472687277460874 0.8046658725965591 0.836054972239903 0.8192912504786537\n"
          ]
        }
      ],
      "source": [
        "print(bleu, rouge, bert_pr, bert_rec, bert_f1)"
      ]
    },
    {
      "cell_type": "code",
      "execution_count": 58,
      "id": "EBMeigbr7fwy",
      "metadata": {
        "colab": {
          "base_uri": "https://localhost:8080/"
        },
        "id": "EBMeigbr7fwy",
        "outputId": "7ff0a703-f33f-4bd0-f01c-5e778765fd58"
      },
      "outputs": [
        {
          "name": "stdout",
          "output_type": "stream",
          "text": [
            "0.07186208482017896 0.11393220712658625 0.8005344595227922 0.8299119699568975 0.8144548830531892\n"
          ]
        }
      ],
      "source": [
        "print(bleu, rouge, bert_pr, bert_rec, bert_f1)"
      ]
    },
    {
      "cell_type": "code",
      "execution_count": 46,
      "id": "REJgQIuH0h-v",
      "metadata": {
        "colab": {
          "base_uri": "https://localhost:8080/"
        },
        "id": "REJgQIuH0h-v",
        "outputId": "1bb438ca-c086-4b68-c573-a48bd81b1d22"
      },
      "outputs": [
        {
          "name": "stdout",
          "output_type": "stream",
          "text": [
            "0.08074630512934798 0.12145271163757194 0.8034034490585327 0.8309408011890593 0.8161741052355085\n"
          ]
        }
      ],
      "source": [
        "print(bleu, rouge, bert_pr, bert_rec, bert_f1)"
      ]
    },
    {
      "cell_type": "code",
      "execution_count": null,
      "id": "RNE-ct5q1Lah",
      "metadata": {
        "id": "RNE-ct5q1Lah"
      },
      "outputs": [],
      "source": []
    }
  ],
  "metadata": {
    "accelerator": "GPU",
    "colab": {
      "collapsed_sections": [
        "n_w0HqgXiv_G"
      ],
      "provenance": []
    },
    "gpuClass": "standard",
    "kernelspec": {
      "display_name": "Python 3.9.12 ('base')",
      "language": "python",
      "name": "python3"
    },
    "language_info": {
      "codemirror_mode": {
        "name": "ipython",
        "version": 3
      },
      "file_extension": ".py",
      "mimetype": "text/x-python",
      "name": "python",
      "nbconvert_exporter": "python",
      "pygments_lexer": "ipython3",
      "version": "3.9.12"
    },
    "toc": {
      "base_numbering": 1,
      "nav_menu": {},
      "number_sections": true,
      "sideBar": true,
      "skip_h1_title": false,
      "title_cell": "Table of Contents",
      "title_sidebar": "Contents",
      "toc_cell": false,
      "toc_position": {},
      "toc_section_display": true,
      "toc_window_display": true
    },
    "vscode": {
      "interpreter": {
        "hash": "ad2bdc8ecc057115af97d19610ffacc2b4e99fae6737bb82f5d7fb13d2f2c186"
      }
    },
    "widgets": {
      "application/vnd.jupyter.widget-state+json": {
        "191782cf4e114dfcb08b6ceec0da061a": {
          "model_module": "@jupyter-widgets/base",
          "model_module_version": "1.2.0",
          "model_name": "LayoutModel",
          "state": {
            "_model_module": "@jupyter-widgets/base",
            "_model_module_version": "1.2.0",
            "_model_name": "LayoutModel",
            "_view_count": null,
            "_view_module": "@jupyter-widgets/base",
            "_view_module_version": "1.2.0",
            "_view_name": "LayoutView",
            "align_content": null,
            "align_items": null,
            "align_self": null,
            "border": null,
            "bottom": null,
            "display": null,
            "flex": null,
            "flex_flow": null,
            "grid_area": null,
            "grid_auto_columns": null,
            "grid_auto_flow": null,
            "grid_auto_rows": null,
            "grid_column": null,
            "grid_gap": null,
            "grid_row": null,
            "grid_template_areas": null,
            "grid_template_columns": null,
            "grid_template_rows": null,
            "height": null,
            "justify_content": null,
            "justify_items": null,
            "left": null,
            "margin": null,
            "max_height": null,
            "max_width": null,
            "min_height": null,
            "min_width": null,
            "object_fit": null,
            "object_position": null,
            "order": null,
            "overflow": null,
            "overflow_x": null,
            "overflow_y": null,
            "padding": null,
            "right": null,
            "top": null,
            "visibility": null,
            "width": null
          }
        },
        "1b91d6cf313045f8a5834183efbfaa40": {
          "model_module": "@jupyter-widgets/controls",
          "model_module_version": "1.5.0",
          "model_name": "FloatProgressModel",
          "state": {
            "_dom_classes": [],
            "_model_module": "@jupyter-widgets/controls",
            "_model_module_version": "1.5.0",
            "_model_name": "FloatProgressModel",
            "_view_count": null,
            "_view_module": "@jupyter-widgets/controls",
            "_view_module_version": "1.5.0",
            "_view_name": "ProgressView",
            "bar_style": "success",
            "description": "",
            "description_tooltip": null,
            "layout": "IPY_MODEL_79d923b8ce7d438a88a9174644624809",
            "max": 8,
            "min": 0,
            "orientation": "horizontal",
            "style": "IPY_MODEL_6cab4ee0b7f14ed8b454f1983dd3cf9b",
            "value": 8
          }
        },
        "1f1993bda74846cea9e844bdeecc3249": {
          "model_module": "@jupyter-widgets/base",
          "model_module_version": "1.2.0",
          "model_name": "LayoutModel",
          "state": {
            "_model_module": "@jupyter-widgets/base",
            "_model_module_version": "1.2.0",
            "_model_name": "LayoutModel",
            "_view_count": null,
            "_view_module": "@jupyter-widgets/base",
            "_view_module_version": "1.2.0",
            "_view_name": "LayoutView",
            "align_content": null,
            "align_items": null,
            "align_self": null,
            "border": null,
            "bottom": null,
            "display": null,
            "flex": null,
            "flex_flow": null,
            "grid_area": null,
            "grid_auto_columns": null,
            "grid_auto_flow": null,
            "grid_auto_rows": null,
            "grid_column": null,
            "grid_gap": null,
            "grid_row": null,
            "grid_template_areas": null,
            "grid_template_columns": null,
            "grid_template_rows": null,
            "height": null,
            "justify_content": null,
            "justify_items": null,
            "left": null,
            "margin": null,
            "max_height": null,
            "max_width": null,
            "min_height": null,
            "min_width": null,
            "object_fit": null,
            "object_position": null,
            "order": null,
            "overflow": null,
            "overflow_x": null,
            "overflow_y": null,
            "padding": null,
            "right": null,
            "top": null,
            "visibility": null,
            "width": null
          }
        },
        "256a4b18afe54a56a1b4f09d2204a304": {
          "model_module": "@jupyter-widgets/controls",
          "model_module_version": "1.5.0",
          "model_name": "FloatProgressModel",
          "state": {
            "_dom_classes": [],
            "_model_module": "@jupyter-widgets/controls",
            "_model_module_version": "1.5.0",
            "_model_name": "FloatProgressModel",
            "_view_count": null,
            "_view_module": "@jupyter-widgets/controls",
            "_view_module_version": "1.5.0",
            "_view_name": "ProgressView",
            "bar_style": "",
            "description": "",
            "description_tooltip": null,
            "layout": "IPY_MODEL_2e3a2bc42da8438dbd655d0d9a26f7be",
            "max": 500,
            "min": 0,
            "orientation": "horizontal",
            "style": "IPY_MODEL_ca817e646881428e996704aa51212498",
            "value": 122
          }
        },
        "27afd9703c534e92a90f137059b91b3d": {
          "model_module": "@jupyter-widgets/controls",
          "model_module_version": "1.5.0",
          "model_name": "DescriptionStyleModel",
          "state": {
            "_model_module": "@jupyter-widgets/controls",
            "_model_module_version": "1.5.0",
            "_model_name": "DescriptionStyleModel",
            "_view_count": null,
            "_view_module": "@jupyter-widgets/base",
            "_view_module_version": "1.2.0",
            "_view_name": "StyleView",
            "description_width": ""
          }
        },
        "2e281a29e30f4e208cd0c321a19f5911": {
          "model_module": "@jupyter-widgets/controls",
          "model_module_version": "1.5.0",
          "model_name": "HTMLModel",
          "state": {
            "_dom_classes": [],
            "_model_module": "@jupyter-widgets/controls",
            "_model_module_version": "1.5.0",
            "_model_name": "HTMLModel",
            "_view_count": null,
            "_view_module": "@jupyter-widgets/controls",
            "_view_module_version": "1.5.0",
            "_view_name": "HTMLView",
            "description": "",
            "description_tooltip": null,
            "layout": "IPY_MODEL_9009658ae9924ddb942cb8b2aff0e126",
            "placeholder": "​",
            "style": "IPY_MODEL_dc0fdf96fe36497295539148be8e6ffe",
            "value": " 122/500 [18:47&lt;52:54,  8.40s/it]"
          }
        },
        "2e3a2bc42da8438dbd655d0d9a26f7be": {
          "model_module": "@jupyter-widgets/base",
          "model_module_version": "1.2.0",
          "model_name": "LayoutModel",
          "state": {
            "_model_module": "@jupyter-widgets/base",
            "_model_module_version": "1.2.0",
            "_model_name": "LayoutModel",
            "_view_count": null,
            "_view_module": "@jupyter-widgets/base",
            "_view_module_version": "1.2.0",
            "_view_name": "LayoutView",
            "align_content": null,
            "align_items": null,
            "align_self": null,
            "border": null,
            "bottom": null,
            "display": null,
            "flex": null,
            "flex_flow": null,
            "grid_area": null,
            "grid_auto_columns": null,
            "grid_auto_flow": null,
            "grid_auto_rows": null,
            "grid_column": null,
            "grid_gap": null,
            "grid_row": null,
            "grid_template_areas": null,
            "grid_template_columns": null,
            "grid_template_rows": null,
            "height": null,
            "justify_content": null,
            "justify_items": null,
            "left": null,
            "margin": null,
            "max_height": null,
            "max_width": null,
            "min_height": null,
            "min_width": null,
            "object_fit": null,
            "object_position": null,
            "order": null,
            "overflow": null,
            "overflow_x": null,
            "overflow_y": null,
            "padding": null,
            "right": null,
            "top": null,
            "visibility": null,
            "width": null
          }
        },
        "394c37307fb943cea5bab10889604f31": {
          "model_module": "@jupyter-widgets/base",
          "model_module_version": "1.2.0",
          "model_name": "LayoutModel",
          "state": {
            "_model_module": "@jupyter-widgets/base",
            "_model_module_version": "1.2.0",
            "_model_name": "LayoutModel",
            "_view_count": null,
            "_view_module": "@jupyter-widgets/base",
            "_view_module_version": "1.2.0",
            "_view_name": "LayoutView",
            "align_content": null,
            "align_items": null,
            "align_self": null,
            "border": null,
            "bottom": null,
            "display": null,
            "flex": null,
            "flex_flow": null,
            "grid_area": null,
            "grid_auto_columns": null,
            "grid_auto_flow": null,
            "grid_auto_rows": null,
            "grid_column": null,
            "grid_gap": null,
            "grid_row": null,
            "grid_template_areas": null,
            "grid_template_columns": null,
            "grid_template_rows": null,
            "height": null,
            "justify_content": null,
            "justify_items": null,
            "left": null,
            "margin": null,
            "max_height": null,
            "max_width": null,
            "min_height": null,
            "min_width": null,
            "object_fit": null,
            "object_position": null,
            "order": null,
            "overflow": null,
            "overflow_x": null,
            "overflow_y": null,
            "padding": null,
            "right": null,
            "top": null,
            "visibility": null,
            "width": null
          }
        },
        "5e905a25159f41138e6e378e31c4e7d5": {
          "model_module": "@jupyter-widgets/base",
          "model_module_version": "1.2.0",
          "model_name": "LayoutModel",
          "state": {
            "_model_module": "@jupyter-widgets/base",
            "_model_module_version": "1.2.0",
            "_model_name": "LayoutModel",
            "_view_count": null,
            "_view_module": "@jupyter-widgets/base",
            "_view_module_version": "1.2.0",
            "_view_name": "LayoutView",
            "align_content": null,
            "align_items": null,
            "align_self": null,
            "border": null,
            "bottom": null,
            "display": null,
            "flex": null,
            "flex_flow": null,
            "grid_area": null,
            "grid_auto_columns": null,
            "grid_auto_flow": null,
            "grid_auto_rows": null,
            "grid_column": null,
            "grid_gap": null,
            "grid_row": null,
            "grid_template_areas": null,
            "grid_template_columns": null,
            "grid_template_rows": null,
            "height": null,
            "justify_content": null,
            "justify_items": null,
            "left": null,
            "margin": null,
            "max_height": null,
            "max_width": null,
            "min_height": null,
            "min_width": null,
            "object_fit": null,
            "object_position": null,
            "order": null,
            "overflow": null,
            "overflow_x": null,
            "overflow_y": null,
            "padding": null,
            "right": null,
            "top": null,
            "visibility": null,
            "width": null
          }
        },
        "6cab4ee0b7f14ed8b454f1983dd3cf9b": {
          "model_module": "@jupyter-widgets/controls",
          "model_module_version": "1.5.0",
          "model_name": "ProgressStyleModel",
          "state": {
            "_model_module": "@jupyter-widgets/controls",
            "_model_module_version": "1.5.0",
            "_model_name": "ProgressStyleModel",
            "_view_count": null,
            "_view_module": "@jupyter-widgets/base",
            "_view_module_version": "1.2.0",
            "_view_name": "StyleView",
            "bar_color": null,
            "description_width": ""
          }
        },
        "6d0a75ea969546c896217105b2d4e1e5": {
          "model_module": "@jupyter-widgets/base",
          "model_module_version": "1.2.0",
          "model_name": "LayoutModel",
          "state": {
            "_model_module": "@jupyter-widgets/base",
            "_model_module_version": "1.2.0",
            "_model_name": "LayoutModel",
            "_view_count": null,
            "_view_module": "@jupyter-widgets/base",
            "_view_module_version": "1.2.0",
            "_view_name": "LayoutView",
            "align_content": null,
            "align_items": null,
            "align_self": null,
            "border": null,
            "bottom": null,
            "display": null,
            "flex": null,
            "flex_flow": null,
            "grid_area": null,
            "grid_auto_columns": null,
            "grid_auto_flow": null,
            "grid_auto_rows": null,
            "grid_column": null,
            "grid_gap": null,
            "grid_row": null,
            "grid_template_areas": null,
            "grid_template_columns": null,
            "grid_template_rows": null,
            "height": null,
            "justify_content": null,
            "justify_items": null,
            "left": null,
            "margin": null,
            "max_height": null,
            "max_width": null,
            "min_height": null,
            "min_width": null,
            "object_fit": null,
            "object_position": null,
            "order": null,
            "overflow": null,
            "overflow_x": null,
            "overflow_y": null,
            "padding": null,
            "right": null,
            "top": null,
            "visibility": null,
            "width": null
          }
        },
        "79d923b8ce7d438a88a9174644624809": {
          "model_module": "@jupyter-widgets/base",
          "model_module_version": "1.2.0",
          "model_name": "LayoutModel",
          "state": {
            "_model_module": "@jupyter-widgets/base",
            "_model_module_version": "1.2.0",
            "_model_name": "LayoutModel",
            "_view_count": null,
            "_view_module": "@jupyter-widgets/base",
            "_view_module_version": "1.2.0",
            "_view_name": "LayoutView",
            "align_content": null,
            "align_items": null,
            "align_self": null,
            "border": null,
            "bottom": null,
            "display": null,
            "flex": null,
            "flex_flow": null,
            "grid_area": null,
            "grid_auto_columns": null,
            "grid_auto_flow": null,
            "grid_auto_rows": null,
            "grid_column": null,
            "grid_gap": null,
            "grid_row": null,
            "grid_template_areas": null,
            "grid_template_columns": null,
            "grid_template_rows": null,
            "height": null,
            "justify_content": null,
            "justify_items": null,
            "left": null,
            "margin": null,
            "max_height": null,
            "max_width": null,
            "min_height": null,
            "min_width": null,
            "object_fit": null,
            "object_position": null,
            "order": null,
            "overflow": null,
            "overflow_x": null,
            "overflow_y": null,
            "padding": null,
            "right": null,
            "top": null,
            "visibility": null,
            "width": null
          }
        },
        "7d70c6ce278443c6b55e2cdff85fba00": {
          "model_module": "@jupyter-widgets/controls",
          "model_module_version": "1.5.0",
          "model_name": "HTMLModel",
          "state": {
            "_dom_classes": [],
            "_model_module": "@jupyter-widgets/controls",
            "_model_module_version": "1.5.0",
            "_model_name": "HTMLModel",
            "_view_count": null,
            "_view_module": "@jupyter-widgets/controls",
            "_view_module_version": "1.5.0",
            "_view_name": "HTMLView",
            "description": "",
            "description_tooltip": null,
            "layout": "IPY_MODEL_cfab273f0a924dc597eee9afc49dcc5d",
            "placeholder": "​",
            "style": "IPY_MODEL_eda25ef08f6c40c196c9079db1d370cb",
            "value": "100%"
          }
        },
        "7fa7c3c545ff4a8e971dccf72530d8cf": {
          "model_module": "@jupyter-widgets/controls",
          "model_module_version": "1.5.0",
          "model_name": "HTMLModel",
          "state": {
            "_dom_classes": [],
            "_model_module": "@jupyter-widgets/controls",
            "_model_module_version": "1.5.0",
            "_model_name": "HTMLModel",
            "_view_count": null,
            "_view_module": "@jupyter-widgets/controls",
            "_view_module_version": "1.5.0",
            "_view_name": "HTMLView",
            "description": "",
            "description_tooltip": null,
            "layout": "IPY_MODEL_394c37307fb943cea5bab10889604f31",
            "placeholder": "​",
            "style": "IPY_MODEL_e7273ec59bbe48e09c82fba9ac6a08c6",
            "value": " 8/8 [00:15&lt;00:00,  2.58s/it]"
          }
        },
        "83a4f817bcde4dd0b84fd607cef6bc76": {
          "model_module": "@jupyter-widgets/controls",
          "model_module_version": "1.5.0",
          "model_name": "ProgressStyleModel",
          "state": {
            "_model_module": "@jupyter-widgets/controls",
            "_model_module_version": "1.5.0",
            "_model_name": "ProgressStyleModel",
            "_view_count": null,
            "_view_module": "@jupyter-widgets/base",
            "_view_module_version": "1.2.0",
            "_view_name": "StyleView",
            "bar_color": null,
            "description_width": ""
          }
        },
        "8814d9bfe70e4d599c76062816bfda3f": {
          "model_module": "@jupyter-widgets/controls",
          "model_module_version": "1.5.0",
          "model_name": "HTMLModel",
          "state": {
            "_dom_classes": [],
            "_model_module": "@jupyter-widgets/controls",
            "_model_module_version": "1.5.0",
            "_model_name": "HTMLModel",
            "_view_count": null,
            "_view_module": "@jupyter-widgets/controls",
            "_view_module_version": "1.5.0",
            "_view_name": "HTMLView",
            "description": "",
            "description_tooltip": null,
            "layout": "IPY_MODEL_5e905a25159f41138e6e378e31c4e7d5",
            "placeholder": "​",
            "style": "IPY_MODEL_27afd9703c534e92a90f137059b91b3d",
            "value": "100%"
          }
        },
        "9009658ae9924ddb942cb8b2aff0e126": {
          "model_module": "@jupyter-widgets/base",
          "model_module_version": "1.2.0",
          "model_name": "LayoutModel",
          "state": {
            "_model_module": "@jupyter-widgets/base",
            "_model_module_version": "1.2.0",
            "_model_name": "LayoutModel",
            "_view_count": null,
            "_view_module": "@jupyter-widgets/base",
            "_view_module_version": "1.2.0",
            "_view_name": "LayoutView",
            "align_content": null,
            "align_items": null,
            "align_self": null,
            "border": null,
            "bottom": null,
            "display": null,
            "flex": null,
            "flex_flow": null,
            "grid_area": null,
            "grid_auto_columns": null,
            "grid_auto_flow": null,
            "grid_auto_rows": null,
            "grid_column": null,
            "grid_gap": null,
            "grid_row": null,
            "grid_template_areas": null,
            "grid_template_columns": null,
            "grid_template_rows": null,
            "height": null,
            "justify_content": null,
            "justify_items": null,
            "left": null,
            "margin": null,
            "max_height": null,
            "max_width": null,
            "min_height": null,
            "min_width": null,
            "object_fit": null,
            "object_position": null,
            "order": null,
            "overflow": null,
            "overflow_x": null,
            "overflow_y": null,
            "padding": null,
            "right": null,
            "top": null,
            "visibility": null,
            "width": null
          }
        },
        "9ce21eed520f46e7a414499181abc54a": {
          "model_module": "@jupyter-widgets/controls",
          "model_module_version": "1.5.0",
          "model_name": "FloatProgressModel",
          "state": {
            "_dom_classes": [],
            "_model_module": "@jupyter-widgets/controls",
            "_model_module_version": "1.5.0",
            "_model_name": "FloatProgressModel",
            "_view_count": null,
            "_view_module": "@jupyter-widgets/controls",
            "_view_module_version": "1.5.0",
            "_view_name": "ProgressView",
            "bar_style": "success",
            "description": "",
            "description_tooltip": null,
            "layout": "IPY_MODEL_6d0a75ea969546c896217105b2d4e1e5",
            "max": 8,
            "min": 0,
            "orientation": "horizontal",
            "style": "IPY_MODEL_83a4f817bcde4dd0b84fd607cef6bc76",
            "value": 8
          }
        },
        "9fa9f4978c11436688dcdc4a838d16e8": {
          "model_module": "@jupyter-widgets/controls",
          "model_module_version": "1.5.0",
          "model_name": "HBoxModel",
          "state": {
            "_dom_classes": [],
            "_model_module": "@jupyter-widgets/controls",
            "_model_module_version": "1.5.0",
            "_model_name": "HBoxModel",
            "_view_count": null,
            "_view_module": "@jupyter-widgets/controls",
            "_view_module_version": "1.5.0",
            "_view_name": "HBoxView",
            "box_style": "",
            "children": [
              "IPY_MODEL_a28c1fc7d0bc4969bb46dca0f972efe5",
              "IPY_MODEL_256a4b18afe54a56a1b4f09d2204a304",
              "IPY_MODEL_2e281a29e30f4e208cd0c321a19f5911"
            ],
            "layout": "IPY_MODEL_bf5d439b75dc4577a32e4128145e9657"
          }
        },
        "a28c1fc7d0bc4969bb46dca0f972efe5": {
          "model_module": "@jupyter-widgets/controls",
          "model_module_version": "1.5.0",
          "model_name": "HTMLModel",
          "state": {
            "_dom_classes": [],
            "_model_module": "@jupyter-widgets/controls",
            "_model_module_version": "1.5.0",
            "_model_name": "HTMLModel",
            "_view_count": null,
            "_view_module": "@jupyter-widgets/controls",
            "_view_module_version": "1.5.0",
            "_view_name": "HTMLView",
            "description": "",
            "description_tooltip": null,
            "layout": "IPY_MODEL_d0b73d6fa1cb47f5930e4a07d53ced7f",
            "placeholder": "​",
            "style": "IPY_MODEL_bd382be734014612b2cbae8452d48c2a",
            "value": " 24%"
          }
        },
        "a520729adfe94a1d82abe0a8a161fccd": {
          "model_module": "@jupyter-widgets/base",
          "model_module_version": "1.2.0",
          "model_name": "LayoutModel",
          "state": {
            "_model_module": "@jupyter-widgets/base",
            "_model_module_version": "1.2.0",
            "_model_name": "LayoutModel",
            "_view_count": null,
            "_view_module": "@jupyter-widgets/base",
            "_view_module_version": "1.2.0",
            "_view_name": "LayoutView",
            "align_content": null,
            "align_items": null,
            "align_self": null,
            "border": null,
            "bottom": null,
            "display": null,
            "flex": null,
            "flex_flow": null,
            "grid_area": null,
            "grid_auto_columns": null,
            "grid_auto_flow": null,
            "grid_auto_rows": null,
            "grid_column": null,
            "grid_gap": null,
            "grid_row": null,
            "grid_template_areas": null,
            "grid_template_columns": null,
            "grid_template_rows": null,
            "height": null,
            "justify_content": null,
            "justify_items": null,
            "left": null,
            "margin": null,
            "max_height": null,
            "max_width": null,
            "min_height": null,
            "min_width": null,
            "object_fit": null,
            "object_position": null,
            "order": null,
            "overflow": null,
            "overflow_x": null,
            "overflow_y": null,
            "padding": null,
            "right": null,
            "top": null,
            "visibility": null,
            "width": null
          }
        },
        "b19202471c4a4a2ab78ae2136fdf817e": {
          "model_module": "@jupyter-widgets/controls",
          "model_module_version": "1.5.0",
          "model_name": "DescriptionStyleModel",
          "state": {
            "_model_module": "@jupyter-widgets/controls",
            "_model_module_version": "1.5.0",
            "_model_name": "DescriptionStyleModel",
            "_view_count": null,
            "_view_module": "@jupyter-widgets/base",
            "_view_module_version": "1.2.0",
            "_view_name": "StyleView",
            "description_width": ""
          }
        },
        "b60af0b4e1154089bb6b57dd4bd77f48": {
          "model_module": "@jupyter-widgets/controls",
          "model_module_version": "1.5.0",
          "model_name": "HBoxModel",
          "state": {
            "_dom_classes": [],
            "_model_module": "@jupyter-widgets/controls",
            "_model_module_version": "1.5.0",
            "_model_name": "HBoxModel",
            "_view_count": null,
            "_view_module": "@jupyter-widgets/controls",
            "_view_module_version": "1.5.0",
            "_view_name": "HBoxView",
            "box_style": "",
            "children": [
              "IPY_MODEL_7d70c6ce278443c6b55e2cdff85fba00",
              "IPY_MODEL_9ce21eed520f46e7a414499181abc54a",
              "IPY_MODEL_bfb56362becf48db93fdb9f7a2664609"
            ],
            "layout": "IPY_MODEL_a520729adfe94a1d82abe0a8a161fccd"
          }
        },
        "bd382be734014612b2cbae8452d48c2a": {
          "model_module": "@jupyter-widgets/controls",
          "model_module_version": "1.5.0",
          "model_name": "DescriptionStyleModel",
          "state": {
            "_model_module": "@jupyter-widgets/controls",
            "_model_module_version": "1.5.0",
            "_model_name": "DescriptionStyleModel",
            "_view_count": null,
            "_view_module": "@jupyter-widgets/base",
            "_view_module_version": "1.2.0",
            "_view_name": "StyleView",
            "description_width": ""
          }
        },
        "bf5d439b75dc4577a32e4128145e9657": {
          "model_module": "@jupyter-widgets/base",
          "model_module_version": "1.2.0",
          "model_name": "LayoutModel",
          "state": {
            "_model_module": "@jupyter-widgets/base",
            "_model_module_version": "1.2.0",
            "_model_name": "LayoutModel",
            "_view_count": null,
            "_view_module": "@jupyter-widgets/base",
            "_view_module_version": "1.2.0",
            "_view_name": "LayoutView",
            "align_content": null,
            "align_items": null,
            "align_self": null,
            "border": null,
            "bottom": null,
            "display": null,
            "flex": null,
            "flex_flow": null,
            "grid_area": null,
            "grid_auto_columns": null,
            "grid_auto_flow": null,
            "grid_auto_rows": null,
            "grid_column": null,
            "grid_gap": null,
            "grid_row": null,
            "grid_template_areas": null,
            "grid_template_columns": null,
            "grid_template_rows": null,
            "height": null,
            "justify_content": null,
            "justify_items": null,
            "left": null,
            "margin": null,
            "max_height": null,
            "max_width": null,
            "min_height": null,
            "min_width": null,
            "object_fit": null,
            "object_position": null,
            "order": null,
            "overflow": null,
            "overflow_x": null,
            "overflow_y": null,
            "padding": null,
            "right": null,
            "top": null,
            "visibility": null,
            "width": null
          }
        },
        "bfb56362becf48db93fdb9f7a2664609": {
          "model_module": "@jupyter-widgets/controls",
          "model_module_version": "1.5.0",
          "model_name": "HTMLModel",
          "state": {
            "_dom_classes": [],
            "_model_module": "@jupyter-widgets/controls",
            "_model_module_version": "1.5.0",
            "_model_name": "HTMLModel",
            "_view_count": null,
            "_view_module": "@jupyter-widgets/controls",
            "_view_module_version": "1.5.0",
            "_view_name": "HTMLView",
            "description": "",
            "description_tooltip": null,
            "layout": "IPY_MODEL_191782cf4e114dfcb08b6ceec0da061a",
            "placeholder": "​",
            "style": "IPY_MODEL_b19202471c4a4a2ab78ae2136fdf817e",
            "value": " 8/8 [00:00&lt;00:00,  8.39it/s]"
          }
        },
        "bfe0a360857b446894d70671caa71810": {
          "model_module": "@jupyter-widgets/controls",
          "model_module_version": "1.5.0",
          "model_name": "HBoxModel",
          "state": {
            "_dom_classes": [],
            "_model_module": "@jupyter-widgets/controls",
            "_model_module_version": "1.5.0",
            "_model_name": "HBoxModel",
            "_view_count": null,
            "_view_module": "@jupyter-widgets/controls",
            "_view_module_version": "1.5.0",
            "_view_name": "HBoxView",
            "box_style": "",
            "children": [
              "IPY_MODEL_8814d9bfe70e4d599c76062816bfda3f",
              "IPY_MODEL_1b91d6cf313045f8a5834183efbfaa40",
              "IPY_MODEL_7fa7c3c545ff4a8e971dccf72530d8cf"
            ],
            "layout": "IPY_MODEL_1f1993bda74846cea9e844bdeecc3249"
          }
        },
        "ca817e646881428e996704aa51212498": {
          "model_module": "@jupyter-widgets/controls",
          "model_module_version": "1.5.0",
          "model_name": "ProgressStyleModel",
          "state": {
            "_model_module": "@jupyter-widgets/controls",
            "_model_module_version": "1.5.0",
            "_model_name": "ProgressStyleModel",
            "_view_count": null,
            "_view_module": "@jupyter-widgets/base",
            "_view_module_version": "1.2.0",
            "_view_name": "StyleView",
            "bar_color": null,
            "description_width": ""
          }
        },
        "cfab273f0a924dc597eee9afc49dcc5d": {
          "model_module": "@jupyter-widgets/base",
          "model_module_version": "1.2.0",
          "model_name": "LayoutModel",
          "state": {
            "_model_module": "@jupyter-widgets/base",
            "_model_module_version": "1.2.0",
            "_model_name": "LayoutModel",
            "_view_count": null,
            "_view_module": "@jupyter-widgets/base",
            "_view_module_version": "1.2.0",
            "_view_name": "LayoutView",
            "align_content": null,
            "align_items": null,
            "align_self": null,
            "border": null,
            "bottom": null,
            "display": null,
            "flex": null,
            "flex_flow": null,
            "grid_area": null,
            "grid_auto_columns": null,
            "grid_auto_flow": null,
            "grid_auto_rows": null,
            "grid_column": null,
            "grid_gap": null,
            "grid_row": null,
            "grid_template_areas": null,
            "grid_template_columns": null,
            "grid_template_rows": null,
            "height": null,
            "justify_content": null,
            "justify_items": null,
            "left": null,
            "margin": null,
            "max_height": null,
            "max_width": null,
            "min_height": null,
            "min_width": null,
            "object_fit": null,
            "object_position": null,
            "order": null,
            "overflow": null,
            "overflow_x": null,
            "overflow_y": null,
            "padding": null,
            "right": null,
            "top": null,
            "visibility": null,
            "width": null
          }
        },
        "d0b73d6fa1cb47f5930e4a07d53ced7f": {
          "model_module": "@jupyter-widgets/base",
          "model_module_version": "1.2.0",
          "model_name": "LayoutModel",
          "state": {
            "_model_module": "@jupyter-widgets/base",
            "_model_module_version": "1.2.0",
            "_model_name": "LayoutModel",
            "_view_count": null,
            "_view_module": "@jupyter-widgets/base",
            "_view_module_version": "1.2.0",
            "_view_name": "LayoutView",
            "align_content": null,
            "align_items": null,
            "align_self": null,
            "border": null,
            "bottom": null,
            "display": null,
            "flex": null,
            "flex_flow": null,
            "grid_area": null,
            "grid_auto_columns": null,
            "grid_auto_flow": null,
            "grid_auto_rows": null,
            "grid_column": null,
            "grid_gap": null,
            "grid_row": null,
            "grid_template_areas": null,
            "grid_template_columns": null,
            "grid_template_rows": null,
            "height": null,
            "justify_content": null,
            "justify_items": null,
            "left": null,
            "margin": null,
            "max_height": null,
            "max_width": null,
            "min_height": null,
            "min_width": null,
            "object_fit": null,
            "object_position": null,
            "order": null,
            "overflow": null,
            "overflow_x": null,
            "overflow_y": null,
            "padding": null,
            "right": null,
            "top": null,
            "visibility": null,
            "width": null
          }
        },
        "dc0fdf96fe36497295539148be8e6ffe": {
          "model_module": "@jupyter-widgets/controls",
          "model_module_version": "1.5.0",
          "model_name": "DescriptionStyleModel",
          "state": {
            "_model_module": "@jupyter-widgets/controls",
            "_model_module_version": "1.5.0",
            "_model_name": "DescriptionStyleModel",
            "_view_count": null,
            "_view_module": "@jupyter-widgets/base",
            "_view_module_version": "1.2.0",
            "_view_name": "StyleView",
            "description_width": ""
          }
        },
        "e7273ec59bbe48e09c82fba9ac6a08c6": {
          "model_module": "@jupyter-widgets/controls",
          "model_module_version": "1.5.0",
          "model_name": "DescriptionStyleModel",
          "state": {
            "_model_module": "@jupyter-widgets/controls",
            "_model_module_version": "1.5.0",
            "_model_name": "DescriptionStyleModel",
            "_view_count": null,
            "_view_module": "@jupyter-widgets/base",
            "_view_module_version": "1.2.0",
            "_view_name": "StyleView",
            "description_width": ""
          }
        },
        "eda25ef08f6c40c196c9079db1d370cb": {
          "model_module": "@jupyter-widgets/controls",
          "model_module_version": "1.5.0",
          "model_name": "DescriptionStyleModel",
          "state": {
            "_model_module": "@jupyter-widgets/controls",
            "_model_module_version": "1.5.0",
            "_model_name": "DescriptionStyleModel",
            "_view_count": null,
            "_view_module": "@jupyter-widgets/base",
            "_view_module_version": "1.2.0",
            "_view_name": "StyleView",
            "description_width": ""
          }
        }
      }
    }
  },
  "nbformat": 4,
  "nbformat_minor": 5
}
