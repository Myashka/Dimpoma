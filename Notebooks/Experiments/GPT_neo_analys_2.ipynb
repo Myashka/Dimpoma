{
 "cells": [
  {
   "cell_type": "markdown",
   "id": "4708c447",
   "metadata": {},
   "source": [
    "# Общая информация\n",
    "__Цель:__ сравнить качество генерируемых ответов на категории __API Usage__\n",
    "\n",
    "__Задачи:__\n",
    "\n",
    "1) Сравнить метрики для base и tuned модели на promt с title\n",
    "\n",
    "2) Сравнить метрики tuned моделей с разлиными promt\n",
    "\n",
    "3) Посмотреть распределение длин генерируемых ответов\n",
    "\n",
    "4) Сделать выводы"
   ]
  },
  {
   "cell_type": "code",
   "execution_count": 95,
   "id": "535aa5d1",
   "metadata": {},
   "outputs": [],
   "source": [
    "import warnings\n",
    "\n",
    "import matplotlib as mpl\n",
    "import matplotlib.pyplot as plt\n",
    "import nltk\n",
    "import numpy as np\n",
    "import pandas as pd\n",
    "import plotly.express as px\n",
    "import seaborn as sns\n",
    "\n",
    "\n",
    "warnings.filterwarnings(\"ignore\")"
   ]
  },
  {
   "cell_type": "code",
   "execution_count": 9,
   "id": "7e2a5fbe",
   "metadata": {},
   "outputs": [],
   "source": [
    "pd.set_option(\"display.max_colwidth\", None)"
   ]
  },
  {
   "cell_type": "markdown",
   "id": "ca13f1a1",
   "metadata": {},
   "source": [
    "# Фиксация сидов"
   ]
  },
  {
   "cell_type": "code",
   "execution_count": 2,
   "id": "e3d521d5",
   "metadata": {},
   "outputs": [],
   "source": [
    "torch.manual_seed(42)\n",
    "np.random.seed(42)"
   ]
  },
  {
   "cell_type": "markdown",
   "id": "9c6f2375",
   "metadata": {},
   "source": [
    "# Подгрузка таблиц с evaluation стадии"
   ]
  },
  {
   "cell_type": "markdown",
   "id": "d776f4ab",
   "metadata": {},
   "source": [
    "## Загрузка таблиц"
   ]
  },
  {
   "cell_type": "code",
   "execution_count": 3,
   "id": "f39aa23a",
   "metadata": {},
   "outputs": [],
   "source": [
    "base_android_api_usage_200_title = pd.read_csv(\n",
    "    \"./artifacts/experiment_2/base_android_api_usage_200_title.csv\"\n",
    ")\n",
    "\n",
    "tuned_android_api_usage_200_title = pd.read_csv(\n",
    "    \"./artifacts/experiment_2/tuned_android_api_usage_200_title.csv\"\n",
    ")\n",
    "\n",
    "tuned_android_api_usage_200_notitle = pd.read_csv(\n",
    "    \"./artifacts/experiment_2/tuned_android_api_usage_200_notitle.csv\"\n",
    ")\n",
    "\n",
    "tuned_android_api_usage_200_notitle_promt = pd.read_csv(\n",
    "    \"./artifacts/experiment_2/tuned_android_api_usage_200_notitle_promt.csv\"\n",
    ")\n",
    "\n",
    "tuned_android_api_usage_200_notitle_promt_extra = pd.read_csv(\n",
    "    \"./artifacts/experiment_2/tuned_android_api_usage_200_notitle_promt_extra.csv\"\n",
    ")"
   ]
  },
  {
   "cell_type": "markdown",
   "id": "b63570d1",
   "metadata": {},
   "source": [
    "# Анализ результатов"
   ]
  },
  {
   "cell_type": "markdown",
   "id": "6b416e31",
   "metadata": {},
   "source": [
    "## Base GPT neo with _title_ and tuned"
   ]
  },
  {
   "cell_type": "markdown",
   "id": "86808e85",
   "metadata": {},
   "source": [
    "### Анализ длины текстовых данных"
   ]
  },
  {
   "cell_type": "code",
   "execution_count": 47,
   "id": "0fe2dbd0",
   "metadata": {},
   "outputs": [],
   "source": [
    "def add_answers_length(df):\n",
    "    df['len_of_generated_answer'] = df.generated_answer.apply(lambda x: len(x.split(\" \")))\n",
    "    \n",
    "    df['len_of_original_answer'] = df.original_answer.apply(lambda x: len(x.split(\" \")))\n",
    "    \n",
    "    return df"
   ]
  },
  {
   "cell_type": "code",
   "execution_count": 48,
   "id": "945af90a",
   "metadata": {},
   "outputs": [],
   "source": [
    "base_android_api_usage_200_title = add_answers_length(base_android_api_usage_200_title)\n",
    "tuned_android_api_usage_200_title = add_answers_length(tuned_android_api_usage_200_title)"
   ]
  },
  {
   "cell_type": "code",
   "execution_count": 49,
   "id": "e1c8790a",
   "metadata": {},
   "outputs": [
    {
     "data": {
      "text/html": [
       "<div>\n",
       "<style scoped>\n",
       "    .dataframe tbody tr th:only-of-type {\n",
       "        vertical-align: middle;\n",
       "    }\n",
       "\n",
       "    .dataframe tbody tr th {\n",
       "        vertical-align: top;\n",
       "    }\n",
       "\n",
       "    .dataframe thead th {\n",
       "        text-align: right;\n",
       "    }\n",
       "</style>\n",
       "<table border=\"1\" class=\"dataframe\">\n",
       "  <thead>\n",
       "    <tr style=\"text-align: right;\">\n",
       "      <th></th>\n",
       "      <th>bert_precision</th>\n",
       "      <th>bert_recall</th>\n",
       "      <th>bert_f1</th>\n",
       "      <th>rouge_score</th>\n",
       "      <th>bleu_score</th>\n",
       "      <th>len_of_generated_answer</th>\n",
       "      <th>len_of_original_answer</th>\n",
       "      <th>len_of_question</th>\n",
       "    </tr>\n",
       "  </thead>\n",
       "  <tbody>\n",
       "    <tr>\n",
       "      <th>count</th>\n",
       "      <td>107.000000</td>\n",
       "      <td>107.000000</td>\n",
       "      <td>107.000000</td>\n",
       "      <td>107.000000</td>\n",
       "      <td>107.000000</td>\n",
       "      <td>107.000000</td>\n",
       "      <td>107.000000</td>\n",
       "      <td>107.000000</td>\n",
       "    </tr>\n",
       "    <tr>\n",
       "      <th>mean</th>\n",
       "      <td>0.788507</td>\n",
       "      <td>0.829573</td>\n",
       "      <td>0.807832</td>\n",
       "      <td>0.169442</td>\n",
       "      <td>0.066427</td>\n",
       "      <td>118.140187</td>\n",
       "      <td>75.682243</td>\n",
       "      <td>84.467290</td>\n",
       "    </tr>\n",
       "    <tr>\n",
       "      <th>std</th>\n",
       "      <td>0.043672</td>\n",
       "      <td>0.023147</td>\n",
       "      <td>0.026949</td>\n",
       "      <td>0.078594</td>\n",
       "      <td>0.062822</td>\n",
       "      <td>87.630705</td>\n",
       "      <td>71.992478</td>\n",
       "      <td>41.706141</td>\n",
       "    </tr>\n",
       "    <tr>\n",
       "      <th>min</th>\n",
       "      <td>0.659623</td>\n",
       "      <td>0.757383</td>\n",
       "      <td>0.738530</td>\n",
       "      <td>0.028986</td>\n",
       "      <td>0.009607</td>\n",
       "      <td>5.000000</td>\n",
       "      <td>3.000000</td>\n",
       "      <td>24.000000</td>\n",
       "    </tr>\n",
       "    <tr>\n",
       "      <th>25%</th>\n",
       "      <td>0.753994</td>\n",
       "      <td>0.813319</td>\n",
       "      <td>0.787766</td>\n",
       "      <td>0.113043</td>\n",
       "      <td>0.023726</td>\n",
       "      <td>47.000000</td>\n",
       "      <td>29.500000</td>\n",
       "      <td>53.000000</td>\n",
       "    </tr>\n",
       "    <tr>\n",
       "      <th>50%</th>\n",
       "      <td>0.788992</td>\n",
       "      <td>0.829487</td>\n",
       "      <td>0.804358</td>\n",
       "      <td>0.161616</td>\n",
       "      <td>0.048711</td>\n",
       "      <td>95.000000</td>\n",
       "      <td>56.000000</td>\n",
       "      <td>74.000000</td>\n",
       "    </tr>\n",
       "    <tr>\n",
       "      <th>75%</th>\n",
       "      <td>0.823735</td>\n",
       "      <td>0.845507</td>\n",
       "      <td>0.827233</td>\n",
       "      <td>0.225137</td>\n",
       "      <td>0.085731</td>\n",
       "      <td>181.500000</td>\n",
       "      <td>92.500000</td>\n",
       "      <td>107.500000</td>\n",
       "    </tr>\n",
       "    <tr>\n",
       "      <th>max</th>\n",
       "      <td>0.875632</td>\n",
       "      <td>0.888714</td>\n",
       "      <td>0.865773</td>\n",
       "      <td>0.372549</td>\n",
       "      <td>0.423077</td>\n",
       "      <td>443.000000</td>\n",
       "      <td>415.000000</td>\n",
       "      <td>194.000000</td>\n",
       "    </tr>\n",
       "  </tbody>\n",
       "</table>\n",
       "</div>"
      ],
      "text/plain": [
       "       bert_precision  bert_recall     bert_f1  rouge_score  bleu_score  \\\n",
       "count      107.000000   107.000000  107.000000   107.000000  107.000000   \n",
       "mean         0.788507     0.829573    0.807832     0.169442    0.066427   \n",
       "std          0.043672     0.023147    0.026949     0.078594    0.062822   \n",
       "min          0.659623     0.757383    0.738530     0.028986    0.009607   \n",
       "25%          0.753994     0.813319    0.787766     0.113043    0.023726   \n",
       "50%          0.788992     0.829487    0.804358     0.161616    0.048711   \n",
       "75%          0.823735     0.845507    0.827233     0.225137    0.085731   \n",
       "max          0.875632     0.888714    0.865773     0.372549    0.423077   \n",
       "\n",
       "       len_of_generated_answer  len_of_original_answer  len_of_question  \n",
       "count               107.000000              107.000000       107.000000  \n",
       "mean                118.140187               75.682243        84.467290  \n",
       "std                  87.630705               71.992478        41.706141  \n",
       "min                   5.000000                3.000000        24.000000  \n",
       "25%                  47.000000               29.500000        53.000000  \n",
       "50%                  95.000000               56.000000        74.000000  \n",
       "75%                 181.500000               92.500000       107.500000  \n",
       "max                 443.000000              415.000000       194.000000  "
      ]
     },
     "execution_count": 49,
     "metadata": {},
     "output_type": "execute_result"
    }
   ],
   "source": [
    "base_android_api_usage_200_title.describe()"
   ]
  },
  {
   "cell_type": "code",
   "execution_count": 50,
   "id": "33222faa",
   "metadata": {},
   "outputs": [
    {
     "data": {
      "text/html": [
       "<div>\n",
       "<style scoped>\n",
       "    .dataframe tbody tr th:only-of-type {\n",
       "        vertical-align: middle;\n",
       "    }\n",
       "\n",
       "    .dataframe tbody tr th {\n",
       "        vertical-align: top;\n",
       "    }\n",
       "\n",
       "    .dataframe thead th {\n",
       "        text-align: right;\n",
       "    }\n",
       "</style>\n",
       "<table border=\"1\" class=\"dataframe\">\n",
       "  <thead>\n",
       "    <tr style=\"text-align: right;\">\n",
       "      <th></th>\n",
       "      <th>bert_precision</th>\n",
       "      <th>bert_recall</th>\n",
       "      <th>bert_f1</th>\n",
       "      <th>rouge_score</th>\n",
       "      <th>bleu_score</th>\n",
       "      <th>len_of_generated_answer</th>\n",
       "      <th>len_of_original_answer</th>\n",
       "      <th>len_of_question</th>\n",
       "    </tr>\n",
       "  </thead>\n",
       "  <tbody>\n",
       "    <tr>\n",
       "      <th>count</th>\n",
       "      <td>107.000000</td>\n",
       "      <td>107.000000</td>\n",
       "      <td>107.000000</td>\n",
       "      <td>107.000000</td>\n",
       "      <td>107.000000</td>\n",
       "      <td>107.000000</td>\n",
       "      <td>107.000000</td>\n",
       "      <td>107.000000</td>\n",
       "    </tr>\n",
       "    <tr>\n",
       "      <th>mean</th>\n",
       "      <td>0.852942</td>\n",
       "      <td>0.833993</td>\n",
       "      <td>0.842883</td>\n",
       "      <td>0.176406</td>\n",
       "      <td>0.190737</td>\n",
       "      <td>28.915888</td>\n",
       "      <td>75.682243</td>\n",
       "      <td>84.467290</td>\n",
       "    </tr>\n",
       "    <tr>\n",
       "      <th>std</th>\n",
       "      <td>0.033312</td>\n",
       "      <td>0.027466</td>\n",
       "      <td>0.023354</td>\n",
       "      <td>0.082926</td>\n",
       "      <td>0.091336</td>\n",
       "      <td>23.275674</td>\n",
       "      <td>71.992478</td>\n",
       "      <td>41.706141</td>\n",
       "    </tr>\n",
       "    <tr>\n",
       "      <th>min</th>\n",
       "      <td>0.725816</td>\n",
       "      <td>0.762835</td>\n",
       "      <td>0.765207</td>\n",
       "      <td>0.000000</td>\n",
       "      <td>0.038380</td>\n",
       "      <td>2.000000</td>\n",
       "      <td>3.000000</td>\n",
       "      <td>24.000000</td>\n",
       "    </tr>\n",
       "    <tr>\n",
       "      <th>25%</th>\n",
       "      <td>0.844720</td>\n",
       "      <td>0.816554</td>\n",
       "      <td>0.830670</td>\n",
       "      <td>0.118525</td>\n",
       "      <td>0.123947</td>\n",
       "      <td>15.000000</td>\n",
       "      <td>29.500000</td>\n",
       "      <td>53.000000</td>\n",
       "    </tr>\n",
       "    <tr>\n",
       "      <th>50%</th>\n",
       "      <td>0.858884</td>\n",
       "      <td>0.834505</td>\n",
       "      <td>0.844695</td>\n",
       "      <td>0.166667</td>\n",
       "      <td>0.178571</td>\n",
       "      <td>23.000000</td>\n",
       "      <td>56.000000</td>\n",
       "      <td>74.000000</td>\n",
       "    </tr>\n",
       "    <tr>\n",
       "      <th>75%</th>\n",
       "      <td>0.875710</td>\n",
       "      <td>0.853212</td>\n",
       "      <td>0.861413</td>\n",
       "      <td>0.242830</td>\n",
       "      <td>0.253165</td>\n",
       "      <td>35.000000</td>\n",
       "      <td>92.500000</td>\n",
       "      <td>107.500000</td>\n",
       "    </tr>\n",
       "    <tr>\n",
       "      <th>max</th>\n",
       "      <td>0.906231</td>\n",
       "      <td>0.893505</td>\n",
       "      <td>0.887814</td>\n",
       "      <td>0.416667</td>\n",
       "      <td>0.636364</td>\n",
       "      <td>164.000000</td>\n",
       "      <td>415.000000</td>\n",
       "      <td>194.000000</td>\n",
       "    </tr>\n",
       "  </tbody>\n",
       "</table>\n",
       "</div>"
      ],
      "text/plain": [
       "       bert_precision  bert_recall     bert_f1  rouge_score  bleu_score  \\\n",
       "count      107.000000   107.000000  107.000000   107.000000  107.000000   \n",
       "mean         0.852942     0.833993    0.842883     0.176406    0.190737   \n",
       "std          0.033312     0.027466    0.023354     0.082926    0.091336   \n",
       "min          0.725816     0.762835    0.765207     0.000000    0.038380   \n",
       "25%          0.844720     0.816554    0.830670     0.118525    0.123947   \n",
       "50%          0.858884     0.834505    0.844695     0.166667    0.178571   \n",
       "75%          0.875710     0.853212    0.861413     0.242830    0.253165   \n",
       "max          0.906231     0.893505    0.887814     0.416667    0.636364   \n",
       "\n",
       "       len_of_generated_answer  len_of_original_answer  len_of_question  \n",
       "count               107.000000              107.000000       107.000000  \n",
       "mean                 28.915888               75.682243        84.467290  \n",
       "std                  23.275674               71.992478        41.706141  \n",
       "min                   2.000000                3.000000        24.000000  \n",
       "25%                  15.000000               29.500000        53.000000  \n",
       "50%                  23.000000               56.000000        74.000000  \n",
       "75%                  35.000000               92.500000       107.500000  \n",
       "max                 164.000000              415.000000       194.000000  "
      ]
     },
     "execution_count": 50,
     "metadata": {},
     "output_type": "execute_result"
    }
   ],
   "source": [
    "tuned_android_api_usage_200_title.describe()"
   ]
  },
  {
   "cell_type": "markdown",
   "id": "f6c9ef3e",
   "metadata": {},
   "source": [
    "Видимо, модель сталагенерировать более короткие ответы и качество возрасло"
   ]
  },
  {
   "cell_type": "markdown",
   "id": "0620da14",
   "metadata": {},
   "source": [
    "### Анализ метрик"
   ]
  },
  {
   "cell_type": "code",
   "execution_count": 36,
   "id": "4e85d431",
   "metadata": {},
   "outputs": [],
   "source": [
    "bert_f1 = base_android_api_usage_200_title.bert_f1.mean()\n",
    "rouge_score = base_android_api_usage_200_title.rouge_score.mean()\n",
    "bleu_score = base_android_api_usage_200_title.bleu_score.mean()\n",
    "\n",
    "t_bert_f1 = tuned_android_api_usage_200_title.bert_f1.mean()\n",
    "t_rouge_score = tuned_android_api_usage_200_title.rouge_score.mean()\n",
    "t_bleu_score = tuned_android_api_usage_200_title.bleu_score.mean()"
   ]
  },
  {
   "cell_type": "code",
   "execution_count": 45,
   "id": "79dde40b",
   "metadata": {},
   "outputs": [
    {
     "name": "stdout",
     "output_type": "stream",
     "text": [
      "BERT score diff: 0.0350513413687733 (4.34 %)\n",
      "ROUGE score diff: 0.0069643086243772745 (4.11 %)\n",
      "Unigram BLEU score diff: 0.12430971742020101 (187.14 %)\n"
     ]
    }
   ],
   "source": [
    "print(\n",
    "    f\"BERT score diff: {t_bert_f1 - bert_f1} ({round((t_bert_f1 - bert_f1)/bert_f1*100, 2)} %)\",\n",
    "    f\"ROUGE score diff: {t_rouge_score - rouge_score} ({round((t_rouge_score - rouge_score)/rouge_score*100, 2)} %)\",\n",
    "    f\"Unigram BLEU score diff: {t_bleu_score - bleu_score} ({round((t_bleu_score - bleu_score)/bleu_score*100, 2)} %)\",\n",
    "    sep=\"\\n\",\n",
    ")"
   ]
  },
  {
   "cell_type": "markdown",
   "id": "3c68a61f",
   "metadata": {},
   "source": [
    "## Сравнение качества tuned моделей в зависимости от promt"
   ]
  },
  {
   "cell_type": "markdown",
   "id": "6f1752de",
   "metadata": {},
   "source": [
    "### Анализ длины текстовых данных"
   ]
  },
  {
   "cell_type": "code",
   "execution_count": 52,
   "id": "d3148327",
   "metadata": {},
   "outputs": [],
   "source": [
    "tuned_android_api_usage_200_notitle = add_answers_length(tuned_android_api_usage_200_notitle)\n",
    "tuned_android_api_usage_200_notitle_promt = add_answers_length(tuned_android_api_usage_200_notitle_promt)\n",
    "tuned_android_api_usage_200_notitle_promt_extra = add_answers_length(tuned_android_api_usage_200_notitle_promt_extra)"
   ]
  },
  {
   "cell_type": "code",
   "execution_count": 53,
   "id": "87ecbc6b",
   "metadata": {},
   "outputs": [
    {
     "data": {
      "text/html": [
       "<div>\n",
       "<style scoped>\n",
       "    .dataframe tbody tr th:only-of-type {\n",
       "        vertical-align: middle;\n",
       "    }\n",
       "\n",
       "    .dataframe tbody tr th {\n",
       "        vertical-align: top;\n",
       "    }\n",
       "\n",
       "    .dataframe thead th {\n",
       "        text-align: right;\n",
       "    }\n",
       "</style>\n",
       "<table border=\"1\" class=\"dataframe\">\n",
       "  <thead>\n",
       "    <tr style=\"text-align: right;\">\n",
       "      <th></th>\n",
       "      <th>bert_precision</th>\n",
       "      <th>bert_recall</th>\n",
       "      <th>bert_f1</th>\n",
       "      <th>rouge_score</th>\n",
       "      <th>bleu_score</th>\n",
       "      <th>len_of_generated_answer</th>\n",
       "      <th>len_of_original_answer</th>\n",
       "    </tr>\n",
       "  </thead>\n",
       "  <tbody>\n",
       "    <tr>\n",
       "      <th>count</th>\n",
       "      <td>107.000000</td>\n",
       "      <td>107.000000</td>\n",
       "      <td>107.000000</td>\n",
       "      <td>107.000000</td>\n",
       "      <td>107.000000</td>\n",
       "      <td>107.000000</td>\n",
       "      <td>107.000000</td>\n",
       "    </tr>\n",
       "    <tr>\n",
       "      <th>mean</th>\n",
       "      <td>0.856318</td>\n",
       "      <td>0.832669</td>\n",
       "      <td>0.843705</td>\n",
       "      <td>0.180880</td>\n",
       "      <td>0.205926</td>\n",
       "      <td>28.242991</td>\n",
       "      <td>75.682243</td>\n",
       "    </tr>\n",
       "    <tr>\n",
       "      <th>std</th>\n",
       "      <td>0.039809</td>\n",
       "      <td>0.030661</td>\n",
       "      <td>0.027501</td>\n",
       "      <td>0.086484</td>\n",
       "      <td>0.101245</td>\n",
       "      <td>21.273973</td>\n",
       "      <td>71.992478</td>\n",
       "    </tr>\n",
       "    <tr>\n",
       "      <th>min</th>\n",
       "      <td>0.743945</td>\n",
       "      <td>0.740860</td>\n",
       "      <td>0.769436</td>\n",
       "      <td>0.000000</td>\n",
       "      <td>0.040541</td>\n",
       "      <td>5.000000</td>\n",
       "      <td>3.000000</td>\n",
       "    </tr>\n",
       "    <tr>\n",
       "      <th>25%</th>\n",
       "      <td>0.846250</td>\n",
       "      <td>0.815447</td>\n",
       "      <td>0.831003</td>\n",
       "      <td>0.115525</td>\n",
       "      <td>0.120248</td>\n",
       "      <td>13.500000</td>\n",
       "      <td>29.500000</td>\n",
       "    </tr>\n",
       "    <tr>\n",
       "      <th>50%</th>\n",
       "      <td>0.865123</td>\n",
       "      <td>0.835880</td>\n",
       "      <td>0.846253</td>\n",
       "      <td>0.168831</td>\n",
       "      <td>0.188034</td>\n",
       "      <td>24.000000</td>\n",
       "      <td>56.000000</td>\n",
       "    </tr>\n",
       "    <tr>\n",
       "      <th>75%</th>\n",
       "      <td>0.881897</td>\n",
       "      <td>0.853167</td>\n",
       "      <td>0.860952</td>\n",
       "      <td>0.259259</td>\n",
       "      <td>0.271520</td>\n",
       "      <td>37.000000</td>\n",
       "      <td>92.500000</td>\n",
       "    </tr>\n",
       "    <tr>\n",
       "      <th>max</th>\n",
       "      <td>0.921064</td>\n",
       "      <td>0.903347</td>\n",
       "      <td>0.910454</td>\n",
       "      <td>0.384615</td>\n",
       "      <td>0.520833</td>\n",
       "      <td>122.000000</td>\n",
       "      <td>415.000000</td>\n",
       "    </tr>\n",
       "  </tbody>\n",
       "</table>\n",
       "</div>"
      ],
      "text/plain": [
       "       bert_precision  bert_recall     bert_f1  rouge_score  bleu_score  \\\n",
       "count      107.000000   107.000000  107.000000   107.000000  107.000000   \n",
       "mean         0.856318     0.832669    0.843705     0.180880    0.205926   \n",
       "std          0.039809     0.030661    0.027501     0.086484    0.101245   \n",
       "min          0.743945     0.740860    0.769436     0.000000    0.040541   \n",
       "25%          0.846250     0.815447    0.831003     0.115525    0.120248   \n",
       "50%          0.865123     0.835880    0.846253     0.168831    0.188034   \n",
       "75%          0.881897     0.853167    0.860952     0.259259    0.271520   \n",
       "max          0.921064     0.903347    0.910454     0.384615    0.520833   \n",
       "\n",
       "       len_of_generated_answer  len_of_original_answer  \n",
       "count               107.000000              107.000000  \n",
       "mean                 28.242991               75.682243  \n",
       "std                  21.273973               71.992478  \n",
       "min                   5.000000                3.000000  \n",
       "25%                  13.500000               29.500000  \n",
       "50%                  24.000000               56.000000  \n",
       "75%                  37.000000               92.500000  \n",
       "max                 122.000000              415.000000  "
      ]
     },
     "execution_count": 53,
     "metadata": {},
     "output_type": "execute_result"
    }
   ],
   "source": [
    "tuned_android_api_usage_200_notitle.describe()"
   ]
  },
  {
   "cell_type": "code",
   "execution_count": 54,
   "id": "75b8c781",
   "metadata": {},
   "outputs": [
    {
     "data": {
      "text/html": [
       "<div>\n",
       "<style scoped>\n",
       "    .dataframe tbody tr th:only-of-type {\n",
       "        vertical-align: middle;\n",
       "    }\n",
       "\n",
       "    .dataframe tbody tr th {\n",
       "        vertical-align: top;\n",
       "    }\n",
       "\n",
       "    .dataframe thead th {\n",
       "        text-align: right;\n",
       "    }\n",
       "</style>\n",
       "<table border=\"1\" class=\"dataframe\">\n",
       "  <thead>\n",
       "    <tr style=\"text-align: right;\">\n",
       "      <th></th>\n",
       "      <th>bert_precision</th>\n",
       "      <th>bert_recall</th>\n",
       "      <th>bert_f1</th>\n",
       "      <th>rouge_score</th>\n",
       "      <th>bleu_score</th>\n",
       "      <th>len_of_generated_answer</th>\n",
       "      <th>len_of_original_answer</th>\n",
       "    </tr>\n",
       "  </thead>\n",
       "  <tbody>\n",
       "    <tr>\n",
       "      <th>count</th>\n",
       "      <td>107.000000</td>\n",
       "      <td>107.000000</td>\n",
       "      <td>107.000000</td>\n",
       "      <td>107.000000</td>\n",
       "      <td>107.000000</td>\n",
       "      <td>107.000000</td>\n",
       "      <td>107.000000</td>\n",
       "    </tr>\n",
       "    <tr>\n",
       "      <th>mean</th>\n",
       "      <td>0.859578</td>\n",
       "      <td>0.836094</td>\n",
       "      <td>0.847218</td>\n",
       "      <td>0.190568</td>\n",
       "      <td>0.180078</td>\n",
       "      <td>29.803738</td>\n",
       "      <td>75.682243</td>\n",
       "    </tr>\n",
       "    <tr>\n",
       "      <th>std</th>\n",
       "      <td>0.031840</td>\n",
       "      <td>0.028183</td>\n",
       "      <td>0.022995</td>\n",
       "      <td>0.078888</td>\n",
       "      <td>0.089706</td>\n",
       "      <td>16.191915</td>\n",
       "      <td>71.992478</td>\n",
       "    </tr>\n",
       "    <tr>\n",
       "      <th>min</th>\n",
       "      <td>0.750759</td>\n",
       "      <td>0.768326</td>\n",
       "      <td>0.788356</td>\n",
       "      <td>0.000000</td>\n",
       "      <td>0.059150</td>\n",
       "      <td>5.000000</td>\n",
       "      <td>3.000000</td>\n",
       "    </tr>\n",
       "    <tr>\n",
       "      <th>25%</th>\n",
       "      <td>0.849351</td>\n",
       "      <td>0.819898</td>\n",
       "      <td>0.833905</td>\n",
       "      <td>0.139482</td>\n",
       "      <td>0.128014</td>\n",
       "      <td>18.000000</td>\n",
       "      <td>29.500000</td>\n",
       "    </tr>\n",
       "    <tr>\n",
       "      <th>50%</th>\n",
       "      <td>0.866770</td>\n",
       "      <td>0.836763</td>\n",
       "      <td>0.849433</td>\n",
       "      <td>0.189189</td>\n",
       "      <td>0.159794</td>\n",
       "      <td>27.000000</td>\n",
       "      <td>56.000000</td>\n",
       "    </tr>\n",
       "    <tr>\n",
       "      <th>75%</th>\n",
       "      <td>0.877675</td>\n",
       "      <td>0.856771</td>\n",
       "      <td>0.860328</td>\n",
       "      <td>0.250000</td>\n",
       "      <td>0.204452</td>\n",
       "      <td>39.000000</td>\n",
       "      <td>92.500000</td>\n",
       "    </tr>\n",
       "    <tr>\n",
       "      <th>max</th>\n",
       "      <td>0.934216</td>\n",
       "      <td>0.904736</td>\n",
       "      <td>0.918408</td>\n",
       "      <td>0.358974</td>\n",
       "      <td>0.526316</td>\n",
       "      <td>82.000000</td>\n",
       "      <td>415.000000</td>\n",
       "    </tr>\n",
       "  </tbody>\n",
       "</table>\n",
       "</div>"
      ],
      "text/plain": [
       "       bert_precision  bert_recall     bert_f1  rouge_score  bleu_score  \\\n",
       "count      107.000000   107.000000  107.000000   107.000000  107.000000   \n",
       "mean         0.859578     0.836094    0.847218     0.190568    0.180078   \n",
       "std          0.031840     0.028183    0.022995     0.078888    0.089706   \n",
       "min          0.750759     0.768326    0.788356     0.000000    0.059150   \n",
       "25%          0.849351     0.819898    0.833905     0.139482    0.128014   \n",
       "50%          0.866770     0.836763    0.849433     0.189189    0.159794   \n",
       "75%          0.877675     0.856771    0.860328     0.250000    0.204452   \n",
       "max          0.934216     0.904736    0.918408     0.358974    0.526316   \n",
       "\n",
       "       len_of_generated_answer  len_of_original_answer  \n",
       "count               107.000000              107.000000  \n",
       "mean                 29.803738               75.682243  \n",
       "std                  16.191915               71.992478  \n",
       "min                   5.000000                3.000000  \n",
       "25%                  18.000000               29.500000  \n",
       "50%                  27.000000               56.000000  \n",
       "75%                  39.000000               92.500000  \n",
       "max                  82.000000              415.000000  "
      ]
     },
     "execution_count": 54,
     "metadata": {},
     "output_type": "execute_result"
    }
   ],
   "source": [
    "tuned_android_api_usage_200_notitle_promt.describe()"
   ]
  },
  {
   "cell_type": "code",
   "execution_count": 55,
   "id": "b65399ba",
   "metadata": {},
   "outputs": [
    {
     "data": {
      "text/html": [
       "<div>\n",
       "<style scoped>\n",
       "    .dataframe tbody tr th:only-of-type {\n",
       "        vertical-align: middle;\n",
       "    }\n",
       "\n",
       "    .dataframe tbody tr th {\n",
       "        vertical-align: top;\n",
       "    }\n",
       "\n",
       "    .dataframe thead th {\n",
       "        text-align: right;\n",
       "    }\n",
       "</style>\n",
       "<table border=\"1\" class=\"dataframe\">\n",
       "  <thead>\n",
       "    <tr style=\"text-align: right;\">\n",
       "      <th></th>\n",
       "      <th>bert_precision</th>\n",
       "      <th>bert_recall</th>\n",
       "      <th>bert_f1</th>\n",
       "      <th>rouge_score</th>\n",
       "      <th>bleu_score</th>\n",
       "      <th>len_of_generated_answer</th>\n",
       "      <th>len_of_original_answer</th>\n",
       "    </tr>\n",
       "  </thead>\n",
       "  <tbody>\n",
       "    <tr>\n",
       "      <th>count</th>\n",
       "      <td>107.000000</td>\n",
       "      <td>107.000000</td>\n",
       "      <td>107.000000</td>\n",
       "      <td>107.000000</td>\n",
       "      <td>107.000000</td>\n",
       "      <td>107.000000</td>\n",
       "      <td>107.000000</td>\n",
       "    </tr>\n",
       "    <tr>\n",
       "      <th>mean</th>\n",
       "      <td>0.858334</td>\n",
       "      <td>0.830040</td>\n",
       "      <td>0.843645</td>\n",
       "      <td>0.180470</td>\n",
       "      <td>0.164922</td>\n",
       "      <td>38.233645</td>\n",
       "      <td>75.682243</td>\n",
       "    </tr>\n",
       "    <tr>\n",
       "      <th>std</th>\n",
       "      <td>0.022572</td>\n",
       "      <td>0.025682</td>\n",
       "      <td>0.018498</td>\n",
       "      <td>0.080014</td>\n",
       "      <td>0.083956</td>\n",
       "      <td>36.362841</td>\n",
       "      <td>71.992478</td>\n",
       "    </tr>\n",
       "    <tr>\n",
       "      <th>min</th>\n",
       "      <td>0.746030</td>\n",
       "      <td>0.746431</td>\n",
       "      <td>0.781868</td>\n",
       "      <td>0.000000</td>\n",
       "      <td>0.011364</td>\n",
       "      <td>4.000000</td>\n",
       "      <td>3.000000</td>\n",
       "    </tr>\n",
       "    <tr>\n",
       "      <th>25%</th>\n",
       "      <td>0.850031</td>\n",
       "      <td>0.814378</td>\n",
       "      <td>0.832391</td>\n",
       "      <td>0.124462</td>\n",
       "      <td>0.111111</td>\n",
       "      <td>21.000000</td>\n",
       "      <td>29.500000</td>\n",
       "    </tr>\n",
       "    <tr>\n",
       "      <th>50%</th>\n",
       "      <td>0.860309</td>\n",
       "      <td>0.832973</td>\n",
       "      <td>0.845131</td>\n",
       "      <td>0.181818</td>\n",
       "      <td>0.147959</td>\n",
       "      <td>31.000000</td>\n",
       "      <td>56.000000</td>\n",
       "    </tr>\n",
       "    <tr>\n",
       "      <th>75%</th>\n",
       "      <td>0.871964</td>\n",
       "      <td>0.846510</td>\n",
       "      <td>0.856805</td>\n",
       "      <td>0.238314</td>\n",
       "      <td>0.200806</td>\n",
       "      <td>41.500000</td>\n",
       "      <td>92.500000</td>\n",
       "    </tr>\n",
       "    <tr>\n",
       "      <th>max</th>\n",
       "      <td>0.902353</td>\n",
       "      <td>0.889433</td>\n",
       "      <td>0.885226</td>\n",
       "      <td>0.385965</td>\n",
       "      <td>0.545455</td>\n",
       "      <td>306.000000</td>\n",
       "      <td>415.000000</td>\n",
       "    </tr>\n",
       "  </tbody>\n",
       "</table>\n",
       "</div>"
      ],
      "text/plain": [
       "       bert_precision  bert_recall     bert_f1  rouge_score  bleu_score  \\\n",
       "count      107.000000   107.000000  107.000000   107.000000  107.000000   \n",
       "mean         0.858334     0.830040    0.843645     0.180470    0.164922   \n",
       "std          0.022572     0.025682    0.018498     0.080014    0.083956   \n",
       "min          0.746030     0.746431    0.781868     0.000000    0.011364   \n",
       "25%          0.850031     0.814378    0.832391     0.124462    0.111111   \n",
       "50%          0.860309     0.832973    0.845131     0.181818    0.147959   \n",
       "75%          0.871964     0.846510    0.856805     0.238314    0.200806   \n",
       "max          0.902353     0.889433    0.885226     0.385965    0.545455   \n",
       "\n",
       "       len_of_generated_answer  len_of_original_answer  \n",
       "count               107.000000              107.000000  \n",
       "mean                 38.233645               75.682243  \n",
       "std                  36.362841               71.992478  \n",
       "min                   4.000000                3.000000  \n",
       "25%                  21.000000               29.500000  \n",
       "50%                  31.000000               56.000000  \n",
       "75%                  41.500000               92.500000  \n",
       "max                 306.000000              415.000000  "
      ]
     },
     "execution_count": 55,
     "metadata": {},
     "output_type": "execute_result"
    }
   ],
   "source": [
    "tuned_android_api_usage_200_notitle_promt_extra.describe()"
   ]
  },
  {
   "cell_type": "code",
   "execution_count": 81,
   "id": "bd7e787d",
   "metadata": {},
   "outputs": [
    {
     "data": {
      "text/html": [
       "<div>\n",
       "<style scoped>\n",
       "    .dataframe tbody tr th:only-of-type {\n",
       "        vertical-align: middle;\n",
       "    }\n",
       "\n",
       "    .dataframe tbody tr th {\n",
       "        vertical-align: top;\n",
       "    }\n",
       "\n",
       "    .dataframe thead th {\n",
       "        text-align: right;\n",
       "    }\n",
       "</style>\n",
       "<table border=\"1\" class=\"dataframe\">\n",
       "  <thead>\n",
       "    <tr style=\"text-align: right;\">\n",
       "      <th></th>\n",
       "      <th>bert_precision</th>\n",
       "      <th>bert_recall</th>\n",
       "      <th>bert_f1</th>\n",
       "      <th>rouge_score</th>\n",
       "      <th>bleu_score</th>\n",
       "      <th>len_of_generated_answer</th>\n",
       "      <th>len_of_original_answer</th>\n",
       "      <th>len_of_question</th>\n",
       "    </tr>\n",
       "  </thead>\n",
       "  <tbody>\n",
       "    <tr>\n",
       "      <th>count</th>\n",
       "      <td>107.000000</td>\n",
       "      <td>107.000000</td>\n",
       "      <td>107.000000</td>\n",
       "      <td>107.000000</td>\n",
       "      <td>107.000000</td>\n",
       "      <td>107.000000</td>\n",
       "      <td>107.000000</td>\n",
       "      <td>107.000000</td>\n",
       "    </tr>\n",
       "    <tr>\n",
       "      <th>mean</th>\n",
       "      <td>0.852942</td>\n",
       "      <td>0.833993</td>\n",
       "      <td>0.842883</td>\n",
       "      <td>0.176406</td>\n",
       "      <td>0.190737</td>\n",
       "      <td>28.915888</td>\n",
       "      <td>75.682243</td>\n",
       "      <td>84.467290</td>\n",
       "    </tr>\n",
       "    <tr>\n",
       "      <th>std</th>\n",
       "      <td>0.033312</td>\n",
       "      <td>0.027466</td>\n",
       "      <td>0.023354</td>\n",
       "      <td>0.082926</td>\n",
       "      <td>0.091336</td>\n",
       "      <td>23.275674</td>\n",
       "      <td>71.992478</td>\n",
       "      <td>41.706141</td>\n",
       "    </tr>\n",
       "    <tr>\n",
       "      <th>min</th>\n",
       "      <td>0.725816</td>\n",
       "      <td>0.762835</td>\n",
       "      <td>0.765207</td>\n",
       "      <td>0.000000</td>\n",
       "      <td>0.038380</td>\n",
       "      <td>2.000000</td>\n",
       "      <td>3.000000</td>\n",
       "      <td>24.000000</td>\n",
       "    </tr>\n",
       "    <tr>\n",
       "      <th>25%</th>\n",
       "      <td>0.844720</td>\n",
       "      <td>0.816554</td>\n",
       "      <td>0.830670</td>\n",
       "      <td>0.118525</td>\n",
       "      <td>0.123947</td>\n",
       "      <td>15.000000</td>\n",
       "      <td>29.500000</td>\n",
       "      <td>53.000000</td>\n",
       "    </tr>\n",
       "    <tr>\n",
       "      <th>50%</th>\n",
       "      <td>0.858884</td>\n",
       "      <td>0.834505</td>\n",
       "      <td>0.844695</td>\n",
       "      <td>0.166667</td>\n",
       "      <td>0.178571</td>\n",
       "      <td>23.000000</td>\n",
       "      <td>56.000000</td>\n",
       "      <td>74.000000</td>\n",
       "    </tr>\n",
       "    <tr>\n",
       "      <th>75%</th>\n",
       "      <td>0.875710</td>\n",
       "      <td>0.853212</td>\n",
       "      <td>0.861413</td>\n",
       "      <td>0.242830</td>\n",
       "      <td>0.253165</td>\n",
       "      <td>35.000000</td>\n",
       "      <td>92.500000</td>\n",
       "      <td>107.500000</td>\n",
       "    </tr>\n",
       "    <tr>\n",
       "      <th>max</th>\n",
       "      <td>0.906231</td>\n",
       "      <td>0.893505</td>\n",
       "      <td>0.887814</td>\n",
       "      <td>0.416667</td>\n",
       "      <td>0.636364</td>\n",
       "      <td>164.000000</td>\n",
       "      <td>415.000000</td>\n",
       "      <td>194.000000</td>\n",
       "    </tr>\n",
       "  </tbody>\n",
       "</table>\n",
       "</div>"
      ],
      "text/plain": [
       "       bert_precision  bert_recall     bert_f1  rouge_score  bleu_score  \\\n",
       "count      107.000000   107.000000  107.000000   107.000000  107.000000   \n",
       "mean         0.852942     0.833993    0.842883     0.176406    0.190737   \n",
       "std          0.033312     0.027466    0.023354     0.082926    0.091336   \n",
       "min          0.725816     0.762835    0.765207     0.000000    0.038380   \n",
       "25%          0.844720     0.816554    0.830670     0.118525    0.123947   \n",
       "50%          0.858884     0.834505    0.844695     0.166667    0.178571   \n",
       "75%          0.875710     0.853212    0.861413     0.242830    0.253165   \n",
       "max          0.906231     0.893505    0.887814     0.416667    0.636364   \n",
       "\n",
       "       len_of_generated_answer  len_of_original_answer  len_of_question  \n",
       "count               107.000000              107.000000       107.000000  \n",
       "mean                 28.915888               75.682243        84.467290  \n",
       "std                  23.275674               71.992478        41.706141  \n",
       "min                   2.000000                3.000000        24.000000  \n",
       "25%                  15.000000               29.500000        53.000000  \n",
       "50%                  23.000000               56.000000        74.000000  \n",
       "75%                  35.000000               92.500000       107.500000  \n",
       "max                 164.000000              415.000000       194.000000  "
      ]
     },
     "execution_count": 81,
     "metadata": {},
     "output_type": "execute_result"
    }
   ],
   "source": [
    "tuned_android_api_usage_200_title.describe()"
   ]
  },
  {
   "cell_type": "markdown",
   "id": "81e841ab",
   "metadata": {},
   "source": [
    "Boxplot и гистограммы для длины"
   ]
  },
  {
   "cell_type": "code",
   "execution_count": 88,
   "id": "cd97eacd",
   "metadata": {},
   "outputs": [
    {
     "data": {
      "application/vnd.plotly.v1+json": {
       "config": {
        "plotlyServerURL": "https://plot.ly"
       },
       "data": [
        {
         "boxpoints": "all",
         "jitter": 0.3,
         "name": "Base, title, no promt",
         "type": "box",
         "xaxis": "x2",
         "y": [
          37,
          47,
          191,
          121,
          67,
          140,
          40,
          85,
          120,
          234,
          271,
          54,
          68,
          61,
          46,
          212,
          217,
          78,
          5,
          28,
          161,
          235,
          102,
          163,
          15,
          226,
          105,
          198,
          53,
          104,
          71,
          176,
          70,
          188,
          443,
          119,
          134,
          52,
          44,
          121,
          118,
          107,
          17,
          68,
          172,
          191,
          73,
          94,
          62,
          30,
          47,
          55,
          287,
          190,
          212,
          147,
          50,
          208,
          92,
          15,
          122,
          260,
          273,
          164,
          46,
          253,
          35,
          37,
          100,
          51,
          44,
          181,
          63,
          60,
          63,
          247,
          95,
          25,
          97,
          172,
          48,
          37,
          40,
          178,
          246,
          232,
          60,
          13,
          31,
          32,
          32,
          245,
          182,
          335,
          144,
          24,
          50,
          309,
          258,
          99,
          30,
          150,
          19,
          195,
          28,
          54,
          45
         ],
         "yaxis": "y2"
        },
        {
         "boxpoints": "all",
         "jitter": 0.3,
         "name": "No title, no promt",
         "type": "box",
         "xaxis": "x",
         "y": [
          43,
          14,
          15,
          9,
          39,
          14,
          25,
          24,
          20,
          26,
          112,
          34,
          16,
          25,
          36,
          30,
          11,
          32,
          47,
          33,
          11,
          13,
          11,
          7,
          34,
          122,
          29,
          49,
          44,
          14,
          22,
          39,
          12,
          9,
          52,
          11,
          40,
          73,
          14,
          19,
          8,
          31,
          17,
          16,
          5,
          30,
          13,
          14,
          40,
          5,
          23,
          12,
          44,
          24,
          24,
          15,
          55,
          20,
          59,
          21,
          11,
          18,
          13,
          43,
          34,
          36,
          25,
          14,
          20,
          9,
          22,
          37,
          12,
          53,
          11,
          11,
          115,
          35,
          9,
          19,
          37,
          53,
          13,
          37,
          25,
          32,
          25,
          15,
          16,
          16,
          16,
          48,
          29,
          14,
          50,
          8,
          27,
          59,
          8,
          25,
          31,
          65,
          47,
          5,
          43,
          12,
          13
         ],
         "yaxis": "y"
        },
        {
         "boxpoints": "all",
         "jitter": 0.3,
         "name": "No title, asking promt",
         "type": "box",
         "xaxis": "x",
         "y": [
          39,
          15,
          56,
          16,
          29,
          26,
          28,
          27,
          39,
          11,
          22,
          49,
          6,
          13,
          17,
          14,
          33,
          26,
          48,
          25,
          43,
          25,
          11,
          26,
          18,
          82,
          34,
          52,
          42,
          12,
          9,
          17,
          19,
          77,
          30,
          25,
          76,
          26,
          27,
          27,
          8,
          44,
          23,
          36,
          14,
          5,
          59,
          40,
          25,
          7,
          16,
          18,
          26,
          24,
          22,
          49,
          35,
          29,
          32,
          20,
          38,
          18,
          9,
          62,
          18,
          38,
          13,
          10,
          29,
          43,
          25,
          32,
          28,
          31,
          31,
          22,
          50,
          21,
          39,
          20,
          43,
          40,
          15,
          67,
          10,
          42,
          9,
          34,
          17,
          21,
          39,
          22,
          33,
          33,
          45,
          41,
          14,
          22,
          13,
          50,
          29,
          33,
          59,
          13,
          64,
          24,
          31
         ],
         "yaxis": "y"
        },
        {
         "boxpoints": "all",
         "jitter": 0.3,
         "name": "No title, asking promt, one example",
         "type": "box",
         "xaxis": "x",
         "y": [
          34,
          39,
          61,
          27,
          51,
          68,
          41,
          46,
          40,
          57,
          88,
          26,
          32,
          18,
          26,
          16,
          19,
          20,
          42,
          16,
          21,
          17,
          28,
          37,
          25,
          208,
          28,
          29,
          139,
          25,
          32,
          50,
          22,
          63,
          21,
          21,
          61,
          31,
          32,
          65,
          35,
          32,
          16,
          25,
          21,
          51,
          75,
          75,
          30,
          4,
          37,
          17,
          27,
          14,
          23,
          20,
          28,
          33,
          29,
          29,
          24,
          12,
          306,
          17,
          16,
          34,
          24,
          16,
          47,
          7,
          11,
          38,
          14,
          32,
          40,
          30,
          47,
          13,
          27,
          22,
          20,
          37,
          32,
          29,
          39,
          52,
          32,
          19,
          48,
          14,
          32,
          33,
          55,
          46,
          16,
          33,
          30,
          28,
          31,
          34,
          57,
          54,
          40,
          48,
          18,
          30,
          64
         ],
         "yaxis": "y"
        },
        {
         "boxpoints": "all",
         "jitter": 0.3,
         "name": "Yes title, no promt",
         "type": "box",
         "xaxis": "x",
         "y": [
          37,
          28,
          55,
          32,
          26,
          55,
          23,
          25,
          29,
          13,
          50,
          35,
          9,
          28,
          15,
          18,
          8,
          14,
          53,
          15,
          22,
          43,
          45,
          7,
          20,
          78,
          164,
          83,
          17,
          23,
          2,
          31,
          10,
          56,
          31,
          22,
          21,
          30,
          32,
          16,
          12,
          109,
          9,
          35,
          28,
          5,
          39,
          43,
          16,
          3,
          11,
          16,
          32,
          27,
          18,
          40,
          27,
          19,
          25,
          35,
          14,
          8,
          24,
          56,
          18,
          20,
          13,
          8,
          81,
          46,
          40,
          31,
          18,
          22,
          24,
          8,
          57,
          9,
          13,
          21,
          15,
          58,
          26,
          62,
          33,
          41,
          8,
          12,
          17,
          16,
          26,
          23,
          23,
          22,
          25,
          15,
          26,
          17,
          13,
          42,
          19,
          85,
          21,
          5,
          19,
          14,
          10
         ],
         "yaxis": "y"
        }
       ],
       "layout": {
        "height": 600,
        "template": {
         "data": {
          "bar": [
           {
            "error_x": {
             "color": "#2a3f5f"
            },
            "error_y": {
             "color": "#2a3f5f"
            },
            "marker": {
             "line": {
              "color": "#E5ECF6",
              "width": 0.5
             },
             "pattern": {
              "fillmode": "overlay",
              "size": 10,
              "solidity": 0.2
             }
            },
            "type": "bar"
           }
          ],
          "barpolar": [
           {
            "marker": {
             "line": {
              "color": "#E5ECF6",
              "width": 0.5
             },
             "pattern": {
              "fillmode": "overlay",
              "size": 10,
              "solidity": 0.2
             }
            },
            "type": "barpolar"
           }
          ],
          "carpet": [
           {
            "aaxis": {
             "endlinecolor": "#2a3f5f",
             "gridcolor": "white",
             "linecolor": "white",
             "minorgridcolor": "white",
             "startlinecolor": "#2a3f5f"
            },
            "baxis": {
             "endlinecolor": "#2a3f5f",
             "gridcolor": "white",
             "linecolor": "white",
             "minorgridcolor": "white",
             "startlinecolor": "#2a3f5f"
            },
            "type": "carpet"
           }
          ],
          "choropleth": [
           {
            "colorbar": {
             "outlinewidth": 0,
             "ticks": ""
            },
            "type": "choropleth"
           }
          ],
          "contour": [
           {
            "colorbar": {
             "outlinewidth": 0,
             "ticks": ""
            },
            "colorscale": [
             [
              0,
              "#0d0887"
             ],
             [
              0.1111111111111111,
              "#46039f"
             ],
             [
              0.2222222222222222,
              "#7201a8"
             ],
             [
              0.3333333333333333,
              "#9c179e"
             ],
             [
              0.4444444444444444,
              "#bd3786"
             ],
             [
              0.5555555555555556,
              "#d8576b"
             ],
             [
              0.6666666666666666,
              "#ed7953"
             ],
             [
              0.7777777777777778,
              "#fb9f3a"
             ],
             [
              0.8888888888888888,
              "#fdca26"
             ],
             [
              1,
              "#f0f921"
             ]
            ],
            "type": "contour"
           }
          ],
          "contourcarpet": [
           {
            "colorbar": {
             "outlinewidth": 0,
             "ticks": ""
            },
            "type": "contourcarpet"
           }
          ],
          "heatmap": [
           {
            "colorbar": {
             "outlinewidth": 0,
             "ticks": ""
            },
            "colorscale": [
             [
              0,
              "#0d0887"
             ],
             [
              0.1111111111111111,
              "#46039f"
             ],
             [
              0.2222222222222222,
              "#7201a8"
             ],
             [
              0.3333333333333333,
              "#9c179e"
             ],
             [
              0.4444444444444444,
              "#bd3786"
             ],
             [
              0.5555555555555556,
              "#d8576b"
             ],
             [
              0.6666666666666666,
              "#ed7953"
             ],
             [
              0.7777777777777778,
              "#fb9f3a"
             ],
             [
              0.8888888888888888,
              "#fdca26"
             ],
             [
              1,
              "#f0f921"
             ]
            ],
            "type": "heatmap"
           }
          ],
          "heatmapgl": [
           {
            "colorbar": {
             "outlinewidth": 0,
             "ticks": ""
            },
            "colorscale": [
             [
              0,
              "#0d0887"
             ],
             [
              0.1111111111111111,
              "#46039f"
             ],
             [
              0.2222222222222222,
              "#7201a8"
             ],
             [
              0.3333333333333333,
              "#9c179e"
             ],
             [
              0.4444444444444444,
              "#bd3786"
             ],
             [
              0.5555555555555556,
              "#d8576b"
             ],
             [
              0.6666666666666666,
              "#ed7953"
             ],
             [
              0.7777777777777778,
              "#fb9f3a"
             ],
             [
              0.8888888888888888,
              "#fdca26"
             ],
             [
              1,
              "#f0f921"
             ]
            ],
            "type": "heatmapgl"
           }
          ],
          "histogram": [
           {
            "marker": {
             "pattern": {
              "fillmode": "overlay",
              "size": 10,
              "solidity": 0.2
             }
            },
            "type": "histogram"
           }
          ],
          "histogram2d": [
           {
            "colorbar": {
             "outlinewidth": 0,
             "ticks": ""
            },
            "colorscale": [
             [
              0,
              "#0d0887"
             ],
             [
              0.1111111111111111,
              "#46039f"
             ],
             [
              0.2222222222222222,
              "#7201a8"
             ],
             [
              0.3333333333333333,
              "#9c179e"
             ],
             [
              0.4444444444444444,
              "#bd3786"
             ],
             [
              0.5555555555555556,
              "#d8576b"
             ],
             [
              0.6666666666666666,
              "#ed7953"
             ],
             [
              0.7777777777777778,
              "#fb9f3a"
             ],
             [
              0.8888888888888888,
              "#fdca26"
             ],
             [
              1,
              "#f0f921"
             ]
            ],
            "type": "histogram2d"
           }
          ],
          "histogram2dcontour": [
           {
            "colorbar": {
             "outlinewidth": 0,
             "ticks": ""
            },
            "colorscale": [
             [
              0,
              "#0d0887"
             ],
             [
              0.1111111111111111,
              "#46039f"
             ],
             [
              0.2222222222222222,
              "#7201a8"
             ],
             [
              0.3333333333333333,
              "#9c179e"
             ],
             [
              0.4444444444444444,
              "#bd3786"
             ],
             [
              0.5555555555555556,
              "#d8576b"
             ],
             [
              0.6666666666666666,
              "#ed7953"
             ],
             [
              0.7777777777777778,
              "#fb9f3a"
             ],
             [
              0.8888888888888888,
              "#fdca26"
             ],
             [
              1,
              "#f0f921"
             ]
            ],
            "type": "histogram2dcontour"
           }
          ],
          "mesh3d": [
           {
            "colorbar": {
             "outlinewidth": 0,
             "ticks": ""
            },
            "type": "mesh3d"
           }
          ],
          "parcoords": [
           {
            "line": {
             "colorbar": {
              "outlinewidth": 0,
              "ticks": ""
             }
            },
            "type": "parcoords"
           }
          ],
          "pie": [
           {
            "automargin": true,
            "type": "pie"
           }
          ],
          "scatter": [
           {
            "marker": {
             "colorbar": {
              "outlinewidth": 0,
              "ticks": ""
             }
            },
            "type": "scatter"
           }
          ],
          "scatter3d": [
           {
            "line": {
             "colorbar": {
              "outlinewidth": 0,
              "ticks": ""
             }
            },
            "marker": {
             "colorbar": {
              "outlinewidth": 0,
              "ticks": ""
             }
            },
            "type": "scatter3d"
           }
          ],
          "scattercarpet": [
           {
            "marker": {
             "colorbar": {
              "outlinewidth": 0,
              "ticks": ""
             }
            },
            "type": "scattercarpet"
           }
          ],
          "scattergeo": [
           {
            "marker": {
             "colorbar": {
              "outlinewidth": 0,
              "ticks": ""
             }
            },
            "type": "scattergeo"
           }
          ],
          "scattergl": [
           {
            "marker": {
             "colorbar": {
              "outlinewidth": 0,
              "ticks": ""
             }
            },
            "type": "scattergl"
           }
          ],
          "scattermapbox": [
           {
            "marker": {
             "colorbar": {
              "outlinewidth": 0,
              "ticks": ""
             }
            },
            "type": "scattermapbox"
           }
          ],
          "scatterpolar": [
           {
            "marker": {
             "colorbar": {
              "outlinewidth": 0,
              "ticks": ""
             }
            },
            "type": "scatterpolar"
           }
          ],
          "scatterpolargl": [
           {
            "marker": {
             "colorbar": {
              "outlinewidth": 0,
              "ticks": ""
             }
            },
            "type": "scatterpolargl"
           }
          ],
          "scatterternary": [
           {
            "marker": {
             "colorbar": {
              "outlinewidth": 0,
              "ticks": ""
             }
            },
            "type": "scatterternary"
           }
          ],
          "surface": [
           {
            "colorbar": {
             "outlinewidth": 0,
             "ticks": ""
            },
            "colorscale": [
             [
              0,
              "#0d0887"
             ],
             [
              0.1111111111111111,
              "#46039f"
             ],
             [
              0.2222222222222222,
              "#7201a8"
             ],
             [
              0.3333333333333333,
              "#9c179e"
             ],
             [
              0.4444444444444444,
              "#bd3786"
             ],
             [
              0.5555555555555556,
              "#d8576b"
             ],
             [
              0.6666666666666666,
              "#ed7953"
             ],
             [
              0.7777777777777778,
              "#fb9f3a"
             ],
             [
              0.8888888888888888,
              "#fdca26"
             ],
             [
              1,
              "#f0f921"
             ]
            ],
            "type": "surface"
           }
          ],
          "table": [
           {
            "cells": {
             "fill": {
              "color": "#EBF0F8"
             },
             "line": {
              "color": "white"
             }
            },
            "header": {
             "fill": {
              "color": "#C8D4E3"
             },
             "line": {
              "color": "white"
             }
            },
            "type": "table"
           }
          ]
         },
         "layout": {
          "annotationdefaults": {
           "arrowcolor": "#2a3f5f",
           "arrowhead": 0,
           "arrowwidth": 1
          },
          "autotypenumbers": "strict",
          "coloraxis": {
           "colorbar": {
            "outlinewidth": 0,
            "ticks": ""
           }
          },
          "colorscale": {
           "diverging": [
            [
             0,
             "#8e0152"
            ],
            [
             0.1,
             "#c51b7d"
            ],
            [
             0.2,
             "#de77ae"
            ],
            [
             0.3,
             "#f1b6da"
            ],
            [
             0.4,
             "#fde0ef"
            ],
            [
             0.5,
             "#f7f7f7"
            ],
            [
             0.6,
             "#e6f5d0"
            ],
            [
             0.7,
             "#b8e186"
            ],
            [
             0.8,
             "#7fbc41"
            ],
            [
             0.9,
             "#4d9221"
            ],
            [
             1,
             "#276419"
            ]
           ],
           "sequential": [
            [
             0,
             "#0d0887"
            ],
            [
             0.1111111111111111,
             "#46039f"
            ],
            [
             0.2222222222222222,
             "#7201a8"
            ],
            [
             0.3333333333333333,
             "#9c179e"
            ],
            [
             0.4444444444444444,
             "#bd3786"
            ],
            [
             0.5555555555555556,
             "#d8576b"
            ],
            [
             0.6666666666666666,
             "#ed7953"
            ],
            [
             0.7777777777777778,
             "#fb9f3a"
            ],
            [
             0.8888888888888888,
             "#fdca26"
            ],
            [
             1,
             "#f0f921"
            ]
           ],
           "sequentialminus": [
            [
             0,
             "#0d0887"
            ],
            [
             0.1111111111111111,
             "#46039f"
            ],
            [
             0.2222222222222222,
             "#7201a8"
            ],
            [
             0.3333333333333333,
             "#9c179e"
            ],
            [
             0.4444444444444444,
             "#bd3786"
            ],
            [
             0.5555555555555556,
             "#d8576b"
            ],
            [
             0.6666666666666666,
             "#ed7953"
            ],
            [
             0.7777777777777778,
             "#fb9f3a"
            ],
            [
             0.8888888888888888,
             "#fdca26"
            ],
            [
             1,
             "#f0f921"
            ]
           ]
          },
          "colorway": [
           "#636efa",
           "#EF553B",
           "#00cc96",
           "#ab63fa",
           "#FFA15A",
           "#19d3f3",
           "#FF6692",
           "#B6E880",
           "#FF97FF",
           "#FECB52"
          ],
          "font": {
           "color": "#2a3f5f"
          },
          "geo": {
           "bgcolor": "white",
           "lakecolor": "white",
           "landcolor": "#E5ECF6",
           "showlakes": true,
           "showland": true,
           "subunitcolor": "white"
          },
          "hoverlabel": {
           "align": "left"
          },
          "hovermode": "closest",
          "mapbox": {
           "style": "light"
          },
          "paper_bgcolor": "white",
          "plot_bgcolor": "#E5ECF6",
          "polar": {
           "angularaxis": {
            "gridcolor": "white",
            "linecolor": "white",
            "ticks": ""
           },
           "bgcolor": "#E5ECF6",
           "radialaxis": {
            "gridcolor": "white",
            "linecolor": "white",
            "ticks": ""
           }
          },
          "scene": {
           "xaxis": {
            "backgroundcolor": "#E5ECF6",
            "gridcolor": "white",
            "gridwidth": 2,
            "linecolor": "white",
            "showbackground": true,
            "ticks": "",
            "zerolinecolor": "white"
           },
           "yaxis": {
            "backgroundcolor": "#E5ECF6",
            "gridcolor": "white",
            "gridwidth": 2,
            "linecolor": "white",
            "showbackground": true,
            "ticks": "",
            "zerolinecolor": "white"
           },
           "zaxis": {
            "backgroundcolor": "#E5ECF6",
            "gridcolor": "white",
            "gridwidth": 2,
            "linecolor": "white",
            "showbackground": true,
            "ticks": "",
            "zerolinecolor": "white"
           }
          },
          "shapedefaults": {
           "line": {
            "color": "#2a3f5f"
           }
          },
          "ternary": {
           "aaxis": {
            "gridcolor": "white",
            "linecolor": "white",
            "ticks": ""
           },
           "baxis": {
            "gridcolor": "white",
            "linecolor": "white",
            "ticks": ""
           },
           "bgcolor": "#E5ECF6",
           "caxis": {
            "gridcolor": "white",
            "linecolor": "white",
            "ticks": ""
           }
          },
          "title": {
           "x": 0.05
          },
          "xaxis": {
           "automargin": true,
           "gridcolor": "white",
           "linecolor": "white",
           "ticks": "",
           "title": {
            "standoff": 15
           },
           "zerolinecolor": "white",
           "zerolinewidth": 2
          },
          "yaxis": {
           "automargin": true,
           "gridcolor": "white",
           "linecolor": "white",
           "ticks": "",
           "title": {
            "standoff": 15
           },
           "zerolinecolor": "white",
           "zerolinewidth": 2
          }
         }
        },
        "title": {
         "text": "Length boxplot"
        },
        "width": 1000,
        "xaxis": {
         "anchor": "y",
         "domain": [
          0,
          0.45
         ]
        },
        "xaxis2": {
         "anchor": "y2",
         "domain": [
          0.55,
          1
         ]
        },
        "yaxis": {
         "anchor": "x",
         "domain": [
          0,
          1
         ],
         "title": {
          "text": "Legnth"
         }
        },
        "yaxis2": {
         "anchor": "x2",
         "domain": [
          0,
          1
         ]
        }
       }
      },
      "text/html": [
       "<div>                            <div id=\"748bf1e5-e8fa-4e15-a001-1e0bfc233274\" class=\"plotly-graph-div\" style=\"height:600px; width:1000px;\"></div>            <script type=\"text/javascript\">                require([\"plotly\"], function(Plotly) {                    window.PLOTLYENV=window.PLOTLYENV || {};                                    if (document.getElementById(\"748bf1e5-e8fa-4e15-a001-1e0bfc233274\")) {                    Plotly.newPlot(                        \"748bf1e5-e8fa-4e15-a001-1e0bfc233274\",                        [{\"name\":\"Base, title, no promt\",\"y\":[37,47,191,121,67,140,40,85,120,234,271,54,68,61,46,212,217,78,5,28,161,235,102,163,15,226,105,198,53,104,71,176,70,188,443,119,134,52,44,121,118,107,17,68,172,191,73,94,62,30,47,55,287,190,212,147,50,208,92,15,122,260,273,164,46,253,35,37,100,51,44,181,63,60,63,247,95,25,97,172,48,37,40,178,246,232,60,13,31,32,32,245,182,335,144,24,50,309,258,99,30,150,19,195,28,54,45],\"type\":\"box\",\"xaxis\":\"x2\",\"yaxis\":\"y2\",\"boxpoints\":\"all\",\"jitter\":0.3},{\"name\":\"No title, no promt\",\"y\":[43,14,15,9,39,14,25,24,20,26,112,34,16,25,36,30,11,32,47,33,11,13,11,7,34,122,29,49,44,14,22,39,12,9,52,11,40,73,14,19,8,31,17,16,5,30,13,14,40,5,23,12,44,24,24,15,55,20,59,21,11,18,13,43,34,36,25,14,20,9,22,37,12,53,11,11,115,35,9,19,37,53,13,37,25,32,25,15,16,16,16,48,29,14,50,8,27,59,8,25,31,65,47,5,43,12,13],\"type\":\"box\",\"xaxis\":\"x\",\"yaxis\":\"y\",\"boxpoints\":\"all\",\"jitter\":0.3},{\"name\":\"No title, asking promt\",\"y\":[39,15,56,16,29,26,28,27,39,11,22,49,6,13,17,14,33,26,48,25,43,25,11,26,18,82,34,52,42,12,9,17,19,77,30,25,76,26,27,27,8,44,23,36,14,5,59,40,25,7,16,18,26,24,22,49,35,29,32,20,38,18,9,62,18,38,13,10,29,43,25,32,28,31,31,22,50,21,39,20,43,40,15,67,10,42,9,34,17,21,39,22,33,33,45,41,14,22,13,50,29,33,59,13,64,24,31],\"type\":\"box\",\"xaxis\":\"x\",\"yaxis\":\"y\",\"boxpoints\":\"all\",\"jitter\":0.3},{\"name\":\"No title, asking promt, one example\",\"y\":[34,39,61,27,51,68,41,46,40,57,88,26,32,18,26,16,19,20,42,16,21,17,28,37,25,208,28,29,139,25,32,50,22,63,21,21,61,31,32,65,35,32,16,25,21,51,75,75,30,4,37,17,27,14,23,20,28,33,29,29,24,12,306,17,16,34,24,16,47,7,11,38,14,32,40,30,47,13,27,22,20,37,32,29,39,52,32,19,48,14,32,33,55,46,16,33,30,28,31,34,57,54,40,48,18,30,64],\"type\":\"box\",\"xaxis\":\"x\",\"yaxis\":\"y\",\"boxpoints\":\"all\",\"jitter\":0.3},{\"name\":\"Yes title, no promt\",\"y\":[37,28,55,32,26,55,23,25,29,13,50,35,9,28,15,18,8,14,53,15,22,43,45,7,20,78,164,83,17,23,2,31,10,56,31,22,21,30,32,16,12,109,9,35,28,5,39,43,16,3,11,16,32,27,18,40,27,19,25,35,14,8,24,56,18,20,13,8,81,46,40,31,18,22,24,8,57,9,13,21,15,58,26,62,33,41,8,12,17,16,26,23,23,22,25,15,26,17,13,42,19,85,21,5,19,14,10],\"type\":\"box\",\"xaxis\":\"x\",\"yaxis\":\"y\",\"boxpoints\":\"all\",\"jitter\":0.3}],                        {\"template\":{\"data\":{\"bar\":[{\"error_x\":{\"color\":\"#2a3f5f\"},\"error_y\":{\"color\":\"#2a3f5f\"},\"marker\":{\"line\":{\"color\":\"#E5ECF6\",\"width\":0.5},\"pattern\":{\"fillmode\":\"overlay\",\"size\":10,\"solidity\":0.2}},\"type\":\"bar\"}],\"barpolar\":[{\"marker\":{\"line\":{\"color\":\"#E5ECF6\",\"width\":0.5},\"pattern\":{\"fillmode\":\"overlay\",\"size\":10,\"solidity\":0.2}},\"type\":\"barpolar\"}],\"carpet\":[{\"aaxis\":{\"endlinecolor\":\"#2a3f5f\",\"gridcolor\":\"white\",\"linecolor\":\"white\",\"minorgridcolor\":\"white\",\"startlinecolor\":\"#2a3f5f\"},\"baxis\":{\"endlinecolor\":\"#2a3f5f\",\"gridcolor\":\"white\",\"linecolor\":\"white\",\"minorgridcolor\":\"white\",\"startlinecolor\":\"#2a3f5f\"},\"type\":\"carpet\"}],\"choropleth\":[{\"colorbar\":{\"outlinewidth\":0,\"ticks\":\"\"},\"type\":\"choropleth\"}],\"contour\":[{\"colorbar\":{\"outlinewidth\":0,\"ticks\":\"\"},\"colorscale\":[[0.0,\"#0d0887\"],[0.1111111111111111,\"#46039f\"],[0.2222222222222222,\"#7201a8\"],[0.3333333333333333,\"#9c179e\"],[0.4444444444444444,\"#bd3786\"],[0.5555555555555556,\"#d8576b\"],[0.6666666666666666,\"#ed7953\"],[0.7777777777777778,\"#fb9f3a\"],[0.8888888888888888,\"#fdca26\"],[1.0,\"#f0f921\"]],\"type\":\"contour\"}],\"contourcarpet\":[{\"colorbar\":{\"outlinewidth\":0,\"ticks\":\"\"},\"type\":\"contourcarpet\"}],\"heatmap\":[{\"colorbar\":{\"outlinewidth\":0,\"ticks\":\"\"},\"colorscale\":[[0.0,\"#0d0887\"],[0.1111111111111111,\"#46039f\"],[0.2222222222222222,\"#7201a8\"],[0.3333333333333333,\"#9c179e\"],[0.4444444444444444,\"#bd3786\"],[0.5555555555555556,\"#d8576b\"],[0.6666666666666666,\"#ed7953\"],[0.7777777777777778,\"#fb9f3a\"],[0.8888888888888888,\"#fdca26\"],[1.0,\"#f0f921\"]],\"type\":\"heatmap\"}],\"heatmapgl\":[{\"colorbar\":{\"outlinewidth\":0,\"ticks\":\"\"},\"colorscale\":[[0.0,\"#0d0887\"],[0.1111111111111111,\"#46039f\"],[0.2222222222222222,\"#7201a8\"],[0.3333333333333333,\"#9c179e\"],[0.4444444444444444,\"#bd3786\"],[0.5555555555555556,\"#d8576b\"],[0.6666666666666666,\"#ed7953\"],[0.7777777777777778,\"#fb9f3a\"],[0.8888888888888888,\"#fdca26\"],[1.0,\"#f0f921\"]],\"type\":\"heatmapgl\"}],\"histogram\":[{\"marker\":{\"pattern\":{\"fillmode\":\"overlay\",\"size\":10,\"solidity\":0.2}},\"type\":\"histogram\"}],\"histogram2d\":[{\"colorbar\":{\"outlinewidth\":0,\"ticks\":\"\"},\"colorscale\":[[0.0,\"#0d0887\"],[0.1111111111111111,\"#46039f\"],[0.2222222222222222,\"#7201a8\"],[0.3333333333333333,\"#9c179e\"],[0.4444444444444444,\"#bd3786\"],[0.5555555555555556,\"#d8576b\"],[0.6666666666666666,\"#ed7953\"],[0.7777777777777778,\"#fb9f3a\"],[0.8888888888888888,\"#fdca26\"],[1.0,\"#f0f921\"]],\"type\":\"histogram2d\"}],\"histogram2dcontour\":[{\"colorbar\":{\"outlinewidth\":0,\"ticks\":\"\"},\"colorscale\":[[0.0,\"#0d0887\"],[0.1111111111111111,\"#46039f\"],[0.2222222222222222,\"#7201a8\"],[0.3333333333333333,\"#9c179e\"],[0.4444444444444444,\"#bd3786\"],[0.5555555555555556,\"#d8576b\"],[0.6666666666666666,\"#ed7953\"],[0.7777777777777778,\"#fb9f3a\"],[0.8888888888888888,\"#fdca26\"],[1.0,\"#f0f921\"]],\"type\":\"histogram2dcontour\"}],\"mesh3d\":[{\"colorbar\":{\"outlinewidth\":0,\"ticks\":\"\"},\"type\":\"mesh3d\"}],\"parcoords\":[{\"line\":{\"colorbar\":{\"outlinewidth\":0,\"ticks\":\"\"}},\"type\":\"parcoords\"}],\"pie\":[{\"automargin\":true,\"type\":\"pie\"}],\"scatter\":[{\"marker\":{\"colorbar\":{\"outlinewidth\":0,\"ticks\":\"\"}},\"type\":\"scatter\"}],\"scatter3d\":[{\"line\":{\"colorbar\":{\"outlinewidth\":0,\"ticks\":\"\"}},\"marker\":{\"colorbar\":{\"outlinewidth\":0,\"ticks\":\"\"}},\"type\":\"scatter3d\"}],\"scattercarpet\":[{\"marker\":{\"colorbar\":{\"outlinewidth\":0,\"ticks\":\"\"}},\"type\":\"scattercarpet\"}],\"scattergeo\":[{\"marker\":{\"colorbar\":{\"outlinewidth\":0,\"ticks\":\"\"}},\"type\":\"scattergeo\"}],\"scattergl\":[{\"marker\":{\"colorbar\":{\"outlinewidth\":0,\"ticks\":\"\"}},\"type\":\"scattergl\"}],\"scattermapbox\":[{\"marker\":{\"colorbar\":{\"outlinewidth\":0,\"ticks\":\"\"}},\"type\":\"scattermapbox\"}],\"scatterpolar\":[{\"marker\":{\"colorbar\":{\"outlinewidth\":0,\"ticks\":\"\"}},\"type\":\"scatterpolar\"}],\"scatterpolargl\":[{\"marker\":{\"colorbar\":{\"outlinewidth\":0,\"ticks\":\"\"}},\"type\":\"scatterpolargl\"}],\"scatterternary\":[{\"marker\":{\"colorbar\":{\"outlinewidth\":0,\"ticks\":\"\"}},\"type\":\"scatterternary\"}],\"surface\":[{\"colorbar\":{\"outlinewidth\":0,\"ticks\":\"\"},\"colorscale\":[[0.0,\"#0d0887\"],[0.1111111111111111,\"#46039f\"],[0.2222222222222222,\"#7201a8\"],[0.3333333333333333,\"#9c179e\"],[0.4444444444444444,\"#bd3786\"],[0.5555555555555556,\"#d8576b\"],[0.6666666666666666,\"#ed7953\"],[0.7777777777777778,\"#fb9f3a\"],[0.8888888888888888,\"#fdca26\"],[1.0,\"#f0f921\"]],\"type\":\"surface\"}],\"table\":[{\"cells\":{\"fill\":{\"color\":\"#EBF0F8\"},\"line\":{\"color\":\"white\"}},\"header\":{\"fill\":{\"color\":\"#C8D4E3\"},\"line\":{\"color\":\"white\"}},\"type\":\"table\"}]},\"layout\":{\"annotationdefaults\":{\"arrowcolor\":\"#2a3f5f\",\"arrowhead\":0,\"arrowwidth\":1},\"autotypenumbers\":\"strict\",\"coloraxis\":{\"colorbar\":{\"outlinewidth\":0,\"ticks\":\"\"}},\"colorscale\":{\"diverging\":[[0,\"#8e0152\"],[0.1,\"#c51b7d\"],[0.2,\"#de77ae\"],[0.3,\"#f1b6da\"],[0.4,\"#fde0ef\"],[0.5,\"#f7f7f7\"],[0.6,\"#e6f5d0\"],[0.7,\"#b8e186\"],[0.8,\"#7fbc41\"],[0.9,\"#4d9221\"],[1,\"#276419\"]],\"sequential\":[[0.0,\"#0d0887\"],[0.1111111111111111,\"#46039f\"],[0.2222222222222222,\"#7201a8\"],[0.3333333333333333,\"#9c179e\"],[0.4444444444444444,\"#bd3786\"],[0.5555555555555556,\"#d8576b\"],[0.6666666666666666,\"#ed7953\"],[0.7777777777777778,\"#fb9f3a\"],[0.8888888888888888,\"#fdca26\"],[1.0,\"#f0f921\"]],\"sequentialminus\":[[0.0,\"#0d0887\"],[0.1111111111111111,\"#46039f\"],[0.2222222222222222,\"#7201a8\"],[0.3333333333333333,\"#9c179e\"],[0.4444444444444444,\"#bd3786\"],[0.5555555555555556,\"#d8576b\"],[0.6666666666666666,\"#ed7953\"],[0.7777777777777778,\"#fb9f3a\"],[0.8888888888888888,\"#fdca26\"],[1.0,\"#f0f921\"]]},\"colorway\":[\"#636efa\",\"#EF553B\",\"#00cc96\",\"#ab63fa\",\"#FFA15A\",\"#19d3f3\",\"#FF6692\",\"#B6E880\",\"#FF97FF\",\"#FECB52\"],\"font\":{\"color\":\"#2a3f5f\"},\"geo\":{\"bgcolor\":\"white\",\"lakecolor\":\"white\",\"landcolor\":\"#E5ECF6\",\"showlakes\":true,\"showland\":true,\"subunitcolor\":\"white\"},\"hoverlabel\":{\"align\":\"left\"},\"hovermode\":\"closest\",\"mapbox\":{\"style\":\"light\"},\"paper_bgcolor\":\"white\",\"plot_bgcolor\":\"#E5ECF6\",\"polar\":{\"angularaxis\":{\"gridcolor\":\"white\",\"linecolor\":\"white\",\"ticks\":\"\"},\"bgcolor\":\"#E5ECF6\",\"radialaxis\":{\"gridcolor\":\"white\",\"linecolor\":\"white\",\"ticks\":\"\"}},\"scene\":{\"xaxis\":{\"backgroundcolor\":\"#E5ECF6\",\"gridcolor\":\"white\",\"gridwidth\":2,\"linecolor\":\"white\",\"showbackground\":true,\"ticks\":\"\",\"zerolinecolor\":\"white\"},\"yaxis\":{\"backgroundcolor\":\"#E5ECF6\",\"gridcolor\":\"white\",\"gridwidth\":2,\"linecolor\":\"white\",\"showbackground\":true,\"ticks\":\"\",\"zerolinecolor\":\"white\"},\"zaxis\":{\"backgroundcolor\":\"#E5ECF6\",\"gridcolor\":\"white\",\"gridwidth\":2,\"linecolor\":\"white\",\"showbackground\":true,\"ticks\":\"\",\"zerolinecolor\":\"white\"}},\"shapedefaults\":{\"line\":{\"color\":\"#2a3f5f\"}},\"ternary\":{\"aaxis\":{\"gridcolor\":\"white\",\"linecolor\":\"white\",\"ticks\":\"\"},\"baxis\":{\"gridcolor\":\"white\",\"linecolor\":\"white\",\"ticks\":\"\"},\"bgcolor\":\"#E5ECF6\",\"caxis\":{\"gridcolor\":\"white\",\"linecolor\":\"white\",\"ticks\":\"\"}},\"title\":{\"x\":0.05},\"xaxis\":{\"automargin\":true,\"gridcolor\":\"white\",\"linecolor\":\"white\",\"ticks\":\"\",\"title\":{\"standoff\":15},\"zerolinecolor\":\"white\",\"zerolinewidth\":2},\"yaxis\":{\"automargin\":true,\"gridcolor\":\"white\",\"linecolor\":\"white\",\"ticks\":\"\",\"title\":{\"standoff\":15},\"zerolinecolor\":\"white\",\"zerolinewidth\":2}}},\"xaxis\":{\"anchor\":\"y\",\"domain\":[0.0,0.45]},\"yaxis\":{\"anchor\":\"x\",\"domain\":[0.0,1.0],\"title\":{\"text\":\"Legnth\"}},\"xaxis2\":{\"anchor\":\"y2\",\"domain\":[0.55,1.0]},\"yaxis2\":{\"anchor\":\"x2\",\"domain\":[0.0,1.0]},\"title\":{\"text\":\"Length boxplot\"},\"height\":600,\"width\":1000},                        {\"responsive\": true}                    ).then(function(){\n",
       "                            \n",
       "var gd = document.getElementById('748bf1e5-e8fa-4e15-a001-1e0bfc233274');\n",
       "var x = new MutationObserver(function (mutations, observer) {{\n",
       "        var display = window.getComputedStyle(gd).display;\n",
       "        if (!display || display === 'none') {{\n",
       "            console.log([gd, 'removed!']);\n",
       "            Plotly.purge(gd);\n",
       "            observer.disconnect();\n",
       "        }}\n",
       "}});\n",
       "\n",
       "// Listen for the removal of the full notebook cells\n",
       "var notebookContainer = gd.closest('#notebook-container');\n",
       "if (notebookContainer) {{\n",
       "    x.observe(notebookContainer, {childList: true});\n",
       "}}\n",
       "\n",
       "// Listen for the clearing of the current output cell\n",
       "var outputEl = gd.closest('.output');\n",
       "if (outputEl) {{\n",
       "    x.observe(outputEl, {childList: true});\n",
       "}}\n",
       "\n",
       "                        })                };                });            </script>        </div>"
      ]
     },
     "metadata": {},
     "output_type": "display_data"
    }
   ],
   "source": [
    "fig = make_subplots(rows=1, cols=2)\n",
    "\n",
    "fig.add_trace(\n",
    "    go.Box(y=base_android_api_usage_200_title.len_of_generated_answer, name=\"Base, title, no promt\"), row=1, col=2\n",
    ")\n",
    "\n",
    "fig.add_trace(\n",
    "    go.Box(y=tuned_android_api_usage_200_notitle.len_of_generated_answer, name=\"No title, no promt\"), row=1, col=1\n",
    ")\n",
    "\n",
    "fig.add_trace(\n",
    "    go.Box(y=tuned_android_api_usage_200_notitle_promt.len_of_generated_answer, name=\"No title, asking promt\"),\n",
    "    row=1,\n",
    "    col=1,\n",
    ")\n",
    "\n",
    "fig.add_trace(\n",
    "    go.Box(y=tuned_android_api_usage_200_notitle_promt_extra.len_of_generated_answer, name=\"No title, asking promt, one example\"),\n",
    "    row=1,\n",
    "    col=1,\n",
    ")\n",
    "\n",
    "fig.add_trace(\n",
    "    go.Box(y=tuned_android_api_usage_200_title.len_of_generated_answer, name=\"Yes title, no promt\"),\n",
    "    row=1,\n",
    "    col=1,\n",
    ")\n",
    "\n",
    "\n",
    "\n",
    "fig.update_layout(\n",
    "    height=600, width=1000, title_text=\"Length boxplot\", yaxis_title=\"Legnth\"\n",
    ")\n",
    "fig.update_traces(boxpoints=\"all\", jitter=0.3)\n",
    "fig.show()"
   ]
  },
  {
   "cell_type": "markdown",
   "id": "d2432dff",
   "metadata": {},
   "source": [
    "### Анализ метрик"
   ]
  },
  {
   "cell_type": "markdown",
   "id": "45c953ad",
   "metadata": {},
   "source": [
    "#### No title, yes/no asking promt"
   ]
  },
  {
   "cell_type": "code",
   "execution_count": 78,
   "id": "b07920cb",
   "metadata": {},
   "outputs": [],
   "source": [
    "bert_f1_delta = tuned_android_api_usage_200_notitle_promt.bert_f1.mean() - tuned_android_api_usage_200_notitle.bert_f1.mean()\n",
    "rouge_delta = tuned_android_api_usage_200_notitle_promt.rouge_score.mean() - tuned_android_api_usage_200_notitle.rouge_score.mean()\n",
    "bleu_delta = tuned_android_api_usage_200_notitle_promt.bleu_score.mean() - tuned_android_api_usage_200_notitle.bleu_score.mean()"
   ]
  },
  {
   "cell_type": "code",
   "execution_count": 80,
   "id": "ced8347e",
   "metadata": {},
   "outputs": [
    {
     "name": "stdout",
     "output_type": "stream",
     "text": [
      "BERT score diff for yes/no promt: 0.003512784699413296 (0.41 %)\n",
      "ROUGE score diff for yes/no promt: 0.009688781101792193 (5.08 %)\n",
      "Unigram BLEU score diff for yes/no promt: -0.025847417386581223 (-14.35 %)\n"
     ]
    }
   ],
   "source": [
    "print(\n",
    "    f\"BERT score diff for yes/no promt: {bert_f1_delta} ({round((bert_f1_delta)/tuned_android_api_usage_200_notitle_promt.bert_f1.mean()*100, 2)} %)\",\n",
    "    f\"ROUGE score diff for yes/no promt: {rouge_delta} ({round((rouge_delta)/tuned_android_api_usage_200_notitle_promt.rouge_score.mean()*100, 2)} %)\",\n",
    "    f\"Unigram BLEU score diff for yes/no promt: {bleu_delta} ({round((bleu_delta)/tuned_android_api_usage_200_notitle_promt.bleu_score.mean()*100, 2)} %)\",\n",
    "    sep=\"\\n\",\n",
    ")"
   ]
  },
  {
   "cell_type": "markdown",
   "id": "db6db5bd",
   "metadata": {},
   "source": [
    "Наличие promt (e.g. Answer the next question предположительно __улучшает__ качество"
   ]
  },
  {
   "cell_type": "markdown",
   "id": "2d2e5027",
   "metadata": {},
   "source": [
    "#### Yes/No title, no promt"
   ]
  },
  {
   "cell_type": "code",
   "execution_count": 84,
   "id": "46324272",
   "metadata": {},
   "outputs": [],
   "source": [
    "bert_f1_delta = tuned_android_api_usage_200_title.bert_f1.mean() - tuned_android_api_usage_200_notitle.bert_f1.mean()\n",
    "rouge_delta = tuned_android_api_usage_200_title.rouge_score.mean() - tuned_android_api_usage_200_notitle.rouge_score.mean()\n",
    "bleu_delta = tuned_android_api_usage_200_title.bleu_score.mean() - tuned_android_api_usage_200_notitle.bleu_score.mean()"
   ]
  },
  {
   "cell_type": "code",
   "execution_count": 202,
   "id": "10ca7ae3",
   "metadata": {},
   "outputs": [
    {
     "name": "stdout",
     "output_type": "stream",
     "text": [
      "BERT score diff for yes/no title: -0.0035726077088685804 (-0.42 %)\n",
      "ROUGE score diff for yes/no title: -0.010098292580958207 (-5.72 %)\n",
      "Unigram BLEU score diff for yes/no title: -0.015156614711748284 (-7.95 %)\n"
     ]
    }
   ],
   "source": [
    "print(\n",
    "    f\"BERT score diff for yes/no title: {bert_f1_delta} ({round((bert_f1_delta)/tuned_android_api_usage_200_title.bert_f1.mean()*100, 2)} %)\",\n",
    "    f\"ROUGE score diff for yes/no title: {rouge_delta} ({round((rouge_delta)/tuned_android_api_usage_200_title.rouge_score.mean()*100, 2)} %)\",\n",
    "    f\"Unigram BLEU score diff for yes/no title: {bleu_delta} ({round((bleu_delta)/tuned_android_api_usage_200_title.bleu_score.mean()*100, 2)} %)\",\n",
    "    sep=\"\\n\",\n",
    ")"
   ]
  },
  {
   "cell_type": "markdown",
   "id": "8553f9f3",
   "metadata": {},
   "source": [
    "Наличие Title (e.g. Title: ...\\n) предположительно __ухудшает__ качество"
   ]
  },
  {
   "cell_type": "markdown",
   "id": "19e41b27",
   "metadata": {},
   "source": [
    "#### No title, yes asking promt, yes/no 1 example"
   ]
  },
  {
   "cell_type": "code",
   "execution_count": 86,
   "id": "6d508f64",
   "metadata": {},
   "outputs": [],
   "source": [
    "bert_f1_delta = tuned_android_api_usage_200_notitle_promt_extra.bert_f1.mean() - tuned_android_api_usage_200_notitle_promt.bert_f1.mean()\n",
    "rouge_delta = tuned_android_api_usage_200_notitle_promt_extra.rouge_score.mean() - tuned_android_api_usage_200_notitle_promt.rouge_score.mean()\n",
    "bleu_delta = tuned_android_api_usage_200_notitle_promt_extra.bleu_score.mean() - tuned_android_api_usage_200_notitle_promt.bleu_score.mean()"
   ]
  },
  {
   "cell_type": "code",
   "execution_count": 203,
   "id": "526a5398",
   "metadata": {},
   "outputs": [
    {
     "name": "stdout",
     "output_type": "stream",
     "text": [
      "BERT score diff for yes/no extra example: -0.0035726077088685804 (-0.42 %)\n",
      "ROUGE score diff for yes/no extra example: -0.010098292580958207 (-5.3 %)\n",
      "Unigram BLEU score diff for yes/no extra example: -0.015156614711748284 (-8.42 %)\n"
     ]
    }
   ],
   "source": [
    "print(\n",
    "    f\"BERT score diff for yes/no extra example: {bert_f1_delta} ({round((bert_f1_delta)/tuned_android_api_usage_200_notitle_promt.bert_f1.mean()*100, 2)} %)\",\n",
    "    f\"ROUGE score diff for yes/no extra example: {rouge_delta} ({round((rouge_delta)/tuned_android_api_usage_200_notitle_promt.rouge_score.mean()*100, 2)} %)\",\n",
    "    f\"Unigram BLEU score diff for yes/no extra example: {bleu_delta} ({round((bleu_delta)/tuned_android_api_usage_200_notitle_promt.bleu_score.mean()*100, 2)} %)\",\n",
    "    sep=\"\\n\",\n",
    ")"
   ]
  },
  {
   "cell_type": "markdown",
   "id": "c8118cd0",
   "metadata": {},
   "source": [
    "Наличие одного примера (e.g. Question...\\nAnswer:...\\n: ...\\n) предположительно __ухудшает__ качество"
   ]
  },
  {
   "cell_type": "markdown",
   "id": "8ca8a8d7",
   "metadata": {},
   "source": [
    "### Метрики на одном полотне"
   ]
  },
  {
   "cell_type": "code",
   "execution_count": 197,
   "id": "87c9e9e6",
   "metadata": {},
   "outputs": [],
   "source": [
    "names = ['base, yes title, no promt', 'tuned, yes title, no promt',\\\n",
    "         'tuned, no title, no promt', 'tuned, no title, asking promt',\n",
    "        'tuned, no title, asking promt, one example']\n",
    "\n",
    "bert_scores = [base_android_api_usage_200_title.bert_f1.mean(),\n",
    "              tuned_android_api_usage_200_title.bert_f1.mean(),\n",
    "              tuned_android_api_usage_200_notitle.bert_f1.mean(),\n",
    "              tuned_android_api_usage_200_notitle_promt.bert_f1.mean(),\n",
    "              tuned_android_api_usage_200_notitle_promt_extra.bert_f1.mean()]\n",
    "\n",
    "rouge_scores = [base_android_api_usage_200_title.rouge_score.mean(),\n",
    "              tuned_android_api_usage_200_title.rouge_score.mean(),\n",
    "              tuned_android_api_usage_200_notitle.rouge_score.mean(),\n",
    "              tuned_android_api_usage_200_notitle_promt.rouge_score.mean(),\n",
    "              tuned_android_api_usage_200_notitle_promt_extra.rouge_score.mean()]\n",
    "\n",
    "bleu_scores = [base_android_api_usage_200_title.bleu_score.mean(),\n",
    "              tuned_android_api_usage_200_title.bleu_score.mean(),\n",
    "              tuned_android_api_usage_200_notitle.bleu_score.mean(),\n",
    "              tuned_android_api_usage_200_notitle_promt.bleu_score.mean(),\n",
    "              tuned_android_api_usage_200_notitle_promt_extra.bleu_score.mean()]\n",
    "\n",
    "df = pd.DataFrame({'BERT score': bert_scores,\n",
    "                  'ROUGE score': rouge_scores,\n",
    "                  'BLEU score': bleu_scores,\n",
    "                  }, index=names)"
   ]
  },
  {
   "cell_type": "code",
   "execution_count": 201,
   "id": "c8bbd58e",
   "metadata": {},
   "outputs": [
    {
     "data": {
      "application/vnd.plotly.v1+json": {
       "config": {
        "plotlyServerURL": "https://plot.ly"
       },
       "data": [
        {
         "hovertemplate": "variable=base, yes title, no promt<br>index=%{x}<br>value=%{y}<extra></extra>",
         "legendgroup": "base, yes title, no promt",
         "marker": {
          "color": "#636efa",
          "symbol": "circle"
         },
         "mode": "markers",
         "name": "base, yes title, no promt",
         "orientation": "v",
         "showlegend": true,
         "type": "scatter",
         "x": [
          "BERT score",
          "ROUGE score",
          "BLEU score"
         ],
         "xaxis": "x",
         "y": [
          0.8078317692346662,
          0.16944165751873552,
          0.0664273793193484
         ],
         "yaxis": "y"
        },
        {
         "hovertemplate": "variable=tuned, yes title, no promt<br>index=%{x}<br>value=%{y}<extra></extra>",
         "legendgroup": "tuned, yes title, no promt",
         "marker": {
          "color": "#EF553B",
          "symbol": "circle"
         },
         "mode": "markers",
         "name": "tuned, yes title, no promt",
         "orientation": "v",
         "showlegend": true,
         "type": "scatter",
         "x": [
          "BERT score",
          "ROUGE score",
          "BLEU score"
         ],
         "xaxis": "x",
         "y": [
          0.8428831106034395,
          0.1764059661431128,
          0.19073709673954942
         ],
         "yaxis": "y"
        },
        {
         "hovertemplate": "variable=tuned, no title, no promt<br>index=%{x}<br>value=%{y}<extra></extra>",
         "legendgroup": "tuned, no title, no promt",
         "marker": {
          "color": "#00cc96",
          "symbol": "circle"
         },
         "mode": "markers",
         "name": "tuned, no title, no promt",
         "orientation": "v",
         "showlegend": true,
         "type": "scatter",
         "x": [
          "BERT score",
          "ROUGE score",
          "BLEU score"
         ],
         "xaxis": "x",
         "y": [
          0.8437049416738136,
          0.1808796292593116,
          0.2059255763113604
         ],
         "yaxis": "y"
        },
        {
         "hovertemplate": "variable=tuned, no title, asking promt<br>index=%{x}<br>value=%{y}<extra></extra>",
         "legendgroup": "tuned, no title, asking promt",
         "marker": {
          "color": "#ab63fa",
          "symbol": "circle"
         },
         "mode": "markers",
         "name": "tuned, no title, asking promt",
         "orientation": "v",
         "showlegend": true,
         "type": "scatter",
         "x": [
          "BERT score",
          "ROUGE score",
          "BLEU score"
         ],
         "xaxis": "x",
         "y": [
          0.8472177263732269,
          0.19056841036110378,
          0.18007815892477919
         ],
         "yaxis": "y"
        },
        {
         "hovertemplate": "variable=tuned, no title, asking promt, one example<br>index=%{x}<br>value=%{y}<extra></extra>",
         "legendgroup": "tuned, no title, asking promt, one example",
         "marker": {
          "color": "#FFA15A",
          "symbol": "circle"
         },
         "mode": "markers",
         "name": "tuned, no title, asking promt, one example",
         "orientation": "v",
         "showlegend": true,
         "type": "scatter",
         "x": [
          "BERT score",
          "ROUGE score",
          "BLEU score"
         ],
         "xaxis": "x",
         "y": [
          0.8436451186643583,
          0.18047011778014557,
          0.1649215442130309
         ],
         "yaxis": "y"
        }
       ],
       "layout": {
        "height": 600,
        "legend": {
         "title": {
          "text": "variable"
         },
         "tracegroupgap": 0
        },
        "margin": {
         "t": 60
        },
        "template": {
         "data": {
          "bar": [
           {
            "error_x": {
             "color": "#2a3f5f"
            },
            "error_y": {
             "color": "#2a3f5f"
            },
            "marker": {
             "line": {
              "color": "#E5ECF6",
              "width": 0.5
             },
             "pattern": {
              "fillmode": "overlay",
              "size": 10,
              "solidity": 0.2
             }
            },
            "type": "bar"
           }
          ],
          "barpolar": [
           {
            "marker": {
             "line": {
              "color": "#E5ECF6",
              "width": 0.5
             },
             "pattern": {
              "fillmode": "overlay",
              "size": 10,
              "solidity": 0.2
             }
            },
            "type": "barpolar"
           }
          ],
          "carpet": [
           {
            "aaxis": {
             "endlinecolor": "#2a3f5f",
             "gridcolor": "white",
             "linecolor": "white",
             "minorgridcolor": "white",
             "startlinecolor": "#2a3f5f"
            },
            "baxis": {
             "endlinecolor": "#2a3f5f",
             "gridcolor": "white",
             "linecolor": "white",
             "minorgridcolor": "white",
             "startlinecolor": "#2a3f5f"
            },
            "type": "carpet"
           }
          ],
          "choropleth": [
           {
            "colorbar": {
             "outlinewidth": 0,
             "ticks": ""
            },
            "type": "choropleth"
           }
          ],
          "contour": [
           {
            "colorbar": {
             "outlinewidth": 0,
             "ticks": ""
            },
            "colorscale": [
             [
              0,
              "#0d0887"
             ],
             [
              0.1111111111111111,
              "#46039f"
             ],
             [
              0.2222222222222222,
              "#7201a8"
             ],
             [
              0.3333333333333333,
              "#9c179e"
             ],
             [
              0.4444444444444444,
              "#bd3786"
             ],
             [
              0.5555555555555556,
              "#d8576b"
             ],
             [
              0.6666666666666666,
              "#ed7953"
             ],
             [
              0.7777777777777778,
              "#fb9f3a"
             ],
             [
              0.8888888888888888,
              "#fdca26"
             ],
             [
              1,
              "#f0f921"
             ]
            ],
            "type": "contour"
           }
          ],
          "contourcarpet": [
           {
            "colorbar": {
             "outlinewidth": 0,
             "ticks": ""
            },
            "type": "contourcarpet"
           }
          ],
          "heatmap": [
           {
            "colorbar": {
             "outlinewidth": 0,
             "ticks": ""
            },
            "colorscale": [
             [
              0,
              "#0d0887"
             ],
             [
              0.1111111111111111,
              "#46039f"
             ],
             [
              0.2222222222222222,
              "#7201a8"
             ],
             [
              0.3333333333333333,
              "#9c179e"
             ],
             [
              0.4444444444444444,
              "#bd3786"
             ],
             [
              0.5555555555555556,
              "#d8576b"
             ],
             [
              0.6666666666666666,
              "#ed7953"
             ],
             [
              0.7777777777777778,
              "#fb9f3a"
             ],
             [
              0.8888888888888888,
              "#fdca26"
             ],
             [
              1,
              "#f0f921"
             ]
            ],
            "type": "heatmap"
           }
          ],
          "heatmapgl": [
           {
            "colorbar": {
             "outlinewidth": 0,
             "ticks": ""
            },
            "colorscale": [
             [
              0,
              "#0d0887"
             ],
             [
              0.1111111111111111,
              "#46039f"
             ],
             [
              0.2222222222222222,
              "#7201a8"
             ],
             [
              0.3333333333333333,
              "#9c179e"
             ],
             [
              0.4444444444444444,
              "#bd3786"
             ],
             [
              0.5555555555555556,
              "#d8576b"
             ],
             [
              0.6666666666666666,
              "#ed7953"
             ],
             [
              0.7777777777777778,
              "#fb9f3a"
             ],
             [
              0.8888888888888888,
              "#fdca26"
             ],
             [
              1,
              "#f0f921"
             ]
            ],
            "type": "heatmapgl"
           }
          ],
          "histogram": [
           {
            "marker": {
             "pattern": {
              "fillmode": "overlay",
              "size": 10,
              "solidity": 0.2
             }
            },
            "type": "histogram"
           }
          ],
          "histogram2d": [
           {
            "colorbar": {
             "outlinewidth": 0,
             "ticks": ""
            },
            "colorscale": [
             [
              0,
              "#0d0887"
             ],
             [
              0.1111111111111111,
              "#46039f"
             ],
             [
              0.2222222222222222,
              "#7201a8"
             ],
             [
              0.3333333333333333,
              "#9c179e"
             ],
             [
              0.4444444444444444,
              "#bd3786"
             ],
             [
              0.5555555555555556,
              "#d8576b"
             ],
             [
              0.6666666666666666,
              "#ed7953"
             ],
             [
              0.7777777777777778,
              "#fb9f3a"
             ],
             [
              0.8888888888888888,
              "#fdca26"
             ],
             [
              1,
              "#f0f921"
             ]
            ],
            "type": "histogram2d"
           }
          ],
          "histogram2dcontour": [
           {
            "colorbar": {
             "outlinewidth": 0,
             "ticks": ""
            },
            "colorscale": [
             [
              0,
              "#0d0887"
             ],
             [
              0.1111111111111111,
              "#46039f"
             ],
             [
              0.2222222222222222,
              "#7201a8"
             ],
             [
              0.3333333333333333,
              "#9c179e"
             ],
             [
              0.4444444444444444,
              "#bd3786"
             ],
             [
              0.5555555555555556,
              "#d8576b"
             ],
             [
              0.6666666666666666,
              "#ed7953"
             ],
             [
              0.7777777777777778,
              "#fb9f3a"
             ],
             [
              0.8888888888888888,
              "#fdca26"
             ],
             [
              1,
              "#f0f921"
             ]
            ],
            "type": "histogram2dcontour"
           }
          ],
          "mesh3d": [
           {
            "colorbar": {
             "outlinewidth": 0,
             "ticks": ""
            },
            "type": "mesh3d"
           }
          ],
          "parcoords": [
           {
            "line": {
             "colorbar": {
              "outlinewidth": 0,
              "ticks": ""
             }
            },
            "type": "parcoords"
           }
          ],
          "pie": [
           {
            "automargin": true,
            "type": "pie"
           }
          ],
          "scatter": [
           {
            "marker": {
             "colorbar": {
              "outlinewidth": 0,
              "ticks": ""
             }
            },
            "type": "scatter"
           }
          ],
          "scatter3d": [
           {
            "line": {
             "colorbar": {
              "outlinewidth": 0,
              "ticks": ""
             }
            },
            "marker": {
             "colorbar": {
              "outlinewidth": 0,
              "ticks": ""
             }
            },
            "type": "scatter3d"
           }
          ],
          "scattercarpet": [
           {
            "marker": {
             "colorbar": {
              "outlinewidth": 0,
              "ticks": ""
             }
            },
            "type": "scattercarpet"
           }
          ],
          "scattergeo": [
           {
            "marker": {
             "colorbar": {
              "outlinewidth": 0,
              "ticks": ""
             }
            },
            "type": "scattergeo"
           }
          ],
          "scattergl": [
           {
            "marker": {
             "colorbar": {
              "outlinewidth": 0,
              "ticks": ""
             }
            },
            "type": "scattergl"
           }
          ],
          "scattermapbox": [
           {
            "marker": {
             "colorbar": {
              "outlinewidth": 0,
              "ticks": ""
             }
            },
            "type": "scattermapbox"
           }
          ],
          "scatterpolar": [
           {
            "marker": {
             "colorbar": {
              "outlinewidth": 0,
              "ticks": ""
             }
            },
            "type": "scatterpolar"
           }
          ],
          "scatterpolargl": [
           {
            "marker": {
             "colorbar": {
              "outlinewidth": 0,
              "ticks": ""
             }
            },
            "type": "scatterpolargl"
           }
          ],
          "scatterternary": [
           {
            "marker": {
             "colorbar": {
              "outlinewidth": 0,
              "ticks": ""
             }
            },
            "type": "scatterternary"
           }
          ],
          "surface": [
           {
            "colorbar": {
             "outlinewidth": 0,
             "ticks": ""
            },
            "colorscale": [
             [
              0,
              "#0d0887"
             ],
             [
              0.1111111111111111,
              "#46039f"
             ],
             [
              0.2222222222222222,
              "#7201a8"
             ],
             [
              0.3333333333333333,
              "#9c179e"
             ],
             [
              0.4444444444444444,
              "#bd3786"
             ],
             [
              0.5555555555555556,
              "#d8576b"
             ],
             [
              0.6666666666666666,
              "#ed7953"
             ],
             [
              0.7777777777777778,
              "#fb9f3a"
             ],
             [
              0.8888888888888888,
              "#fdca26"
             ],
             [
              1,
              "#f0f921"
             ]
            ],
            "type": "surface"
           }
          ],
          "table": [
           {
            "cells": {
             "fill": {
              "color": "#EBF0F8"
             },
             "line": {
              "color": "white"
             }
            },
            "header": {
             "fill": {
              "color": "#C8D4E3"
             },
             "line": {
              "color": "white"
             }
            },
            "type": "table"
           }
          ]
         },
         "layout": {
          "annotationdefaults": {
           "arrowcolor": "#2a3f5f",
           "arrowhead": 0,
           "arrowwidth": 1
          },
          "autotypenumbers": "strict",
          "coloraxis": {
           "colorbar": {
            "outlinewidth": 0,
            "ticks": ""
           }
          },
          "colorscale": {
           "diverging": [
            [
             0,
             "#8e0152"
            ],
            [
             0.1,
             "#c51b7d"
            ],
            [
             0.2,
             "#de77ae"
            ],
            [
             0.3,
             "#f1b6da"
            ],
            [
             0.4,
             "#fde0ef"
            ],
            [
             0.5,
             "#f7f7f7"
            ],
            [
             0.6,
             "#e6f5d0"
            ],
            [
             0.7,
             "#b8e186"
            ],
            [
             0.8,
             "#7fbc41"
            ],
            [
             0.9,
             "#4d9221"
            ],
            [
             1,
             "#276419"
            ]
           ],
           "sequential": [
            [
             0,
             "#0d0887"
            ],
            [
             0.1111111111111111,
             "#46039f"
            ],
            [
             0.2222222222222222,
             "#7201a8"
            ],
            [
             0.3333333333333333,
             "#9c179e"
            ],
            [
             0.4444444444444444,
             "#bd3786"
            ],
            [
             0.5555555555555556,
             "#d8576b"
            ],
            [
             0.6666666666666666,
             "#ed7953"
            ],
            [
             0.7777777777777778,
             "#fb9f3a"
            ],
            [
             0.8888888888888888,
             "#fdca26"
            ],
            [
             1,
             "#f0f921"
            ]
           ],
           "sequentialminus": [
            [
             0,
             "#0d0887"
            ],
            [
             0.1111111111111111,
             "#46039f"
            ],
            [
             0.2222222222222222,
             "#7201a8"
            ],
            [
             0.3333333333333333,
             "#9c179e"
            ],
            [
             0.4444444444444444,
             "#bd3786"
            ],
            [
             0.5555555555555556,
             "#d8576b"
            ],
            [
             0.6666666666666666,
             "#ed7953"
            ],
            [
             0.7777777777777778,
             "#fb9f3a"
            ],
            [
             0.8888888888888888,
             "#fdca26"
            ],
            [
             1,
             "#f0f921"
            ]
           ]
          },
          "colorway": [
           "#636efa",
           "#EF553B",
           "#00cc96",
           "#ab63fa",
           "#FFA15A",
           "#19d3f3",
           "#FF6692",
           "#B6E880",
           "#FF97FF",
           "#FECB52"
          ],
          "font": {
           "color": "#2a3f5f"
          },
          "geo": {
           "bgcolor": "white",
           "lakecolor": "white",
           "landcolor": "#E5ECF6",
           "showlakes": true,
           "showland": true,
           "subunitcolor": "white"
          },
          "hoverlabel": {
           "align": "left"
          },
          "hovermode": "closest",
          "mapbox": {
           "style": "light"
          },
          "paper_bgcolor": "white",
          "plot_bgcolor": "#E5ECF6",
          "polar": {
           "angularaxis": {
            "gridcolor": "white",
            "linecolor": "white",
            "ticks": ""
           },
           "bgcolor": "#E5ECF6",
           "radialaxis": {
            "gridcolor": "white",
            "linecolor": "white",
            "ticks": ""
           }
          },
          "scene": {
           "xaxis": {
            "backgroundcolor": "#E5ECF6",
            "gridcolor": "white",
            "gridwidth": 2,
            "linecolor": "white",
            "showbackground": true,
            "ticks": "",
            "zerolinecolor": "white"
           },
           "yaxis": {
            "backgroundcolor": "#E5ECF6",
            "gridcolor": "white",
            "gridwidth": 2,
            "linecolor": "white",
            "showbackground": true,
            "ticks": "",
            "zerolinecolor": "white"
           },
           "zaxis": {
            "backgroundcolor": "#E5ECF6",
            "gridcolor": "white",
            "gridwidth": 2,
            "linecolor": "white",
            "showbackground": true,
            "ticks": "",
            "zerolinecolor": "white"
           }
          },
          "shapedefaults": {
           "line": {
            "color": "#2a3f5f"
           }
          },
          "ternary": {
           "aaxis": {
            "gridcolor": "white",
            "linecolor": "white",
            "ticks": ""
           },
           "baxis": {
            "gridcolor": "white",
            "linecolor": "white",
            "ticks": ""
           },
           "bgcolor": "#E5ECF6",
           "caxis": {
            "gridcolor": "white",
            "linecolor": "white",
            "ticks": ""
           }
          },
          "title": {
           "x": 0.05
          },
          "xaxis": {
           "automargin": true,
           "gridcolor": "white",
           "linecolor": "white",
           "ticks": "",
           "title": {
            "standoff": 15
           },
           "zerolinecolor": "white",
           "zerolinewidth": 2
          },
          "yaxis": {
           "automargin": true,
           "gridcolor": "white",
           "linecolor": "white",
           "ticks": "",
           "title": {
            "standoff": 15
           },
           "zerolinecolor": "white",
           "zerolinewidth": 2
          }
         }
        },
        "title": {
         "text": "Metrics"
        },
        "width": 1000,
        "xaxis": {
         "anchor": "y",
         "domain": [
          0,
          1
         ],
         "title": {
          "text": "index"
         }
        },
        "yaxis": {
         "anchor": "x",
         "domain": [
          0,
          1
         ],
         "title": {
          "text": "value"
         }
        }
       }
      },
      "text/html": [
       "<div>                            <div id=\"171b846a-a5db-4b0d-a3e6-16ab52eac335\" class=\"plotly-graph-div\" style=\"height:600px; width:1000px;\"></div>            <script type=\"text/javascript\">                require([\"plotly\"], function(Plotly) {                    window.PLOTLYENV=window.PLOTLYENV || {};                                    if (document.getElementById(\"171b846a-a5db-4b0d-a3e6-16ab52eac335\")) {                    Plotly.newPlot(                        \"171b846a-a5db-4b0d-a3e6-16ab52eac335\",                        [{\"hovertemplate\":\"variable=base, yes title, no promt<br>index=%{x}<br>value=%{y}<extra></extra>\",\"legendgroup\":\"base, yes title, no promt\",\"marker\":{\"color\":\"#636efa\",\"symbol\":\"circle\"},\"mode\":\"markers\",\"name\":\"base, yes title, no promt\",\"orientation\":\"v\",\"showlegend\":true,\"x\":[\"BERT score\",\"ROUGE score\",\"BLEU score\"],\"xaxis\":\"x\",\"y\":[0.8078317692346662,0.16944165751873552,0.0664273793193484],\"yaxis\":\"y\",\"type\":\"scatter\"},{\"hovertemplate\":\"variable=tuned, yes title, no promt<br>index=%{x}<br>value=%{y}<extra></extra>\",\"legendgroup\":\"tuned, yes title, no promt\",\"marker\":{\"color\":\"#EF553B\",\"symbol\":\"circle\"},\"mode\":\"markers\",\"name\":\"tuned, yes title, no promt\",\"orientation\":\"v\",\"showlegend\":true,\"x\":[\"BERT score\",\"ROUGE score\",\"BLEU score\"],\"xaxis\":\"x\",\"y\":[0.8428831106034395,0.1764059661431128,0.19073709673954942],\"yaxis\":\"y\",\"type\":\"scatter\"},{\"hovertemplate\":\"variable=tuned, no title, no promt<br>index=%{x}<br>value=%{y}<extra></extra>\",\"legendgroup\":\"tuned, no title, no promt\",\"marker\":{\"color\":\"#00cc96\",\"symbol\":\"circle\"},\"mode\":\"markers\",\"name\":\"tuned, no title, no promt\",\"orientation\":\"v\",\"showlegend\":true,\"x\":[\"BERT score\",\"ROUGE score\",\"BLEU score\"],\"xaxis\":\"x\",\"y\":[0.8437049416738136,0.1808796292593116,0.2059255763113604],\"yaxis\":\"y\",\"type\":\"scatter\"},{\"hovertemplate\":\"variable=tuned, no title, asking promt<br>index=%{x}<br>value=%{y}<extra></extra>\",\"legendgroup\":\"tuned, no title, asking promt\",\"marker\":{\"color\":\"#ab63fa\",\"symbol\":\"circle\"},\"mode\":\"markers\",\"name\":\"tuned, no title, asking promt\",\"orientation\":\"v\",\"showlegend\":true,\"x\":[\"BERT score\",\"ROUGE score\",\"BLEU score\"],\"xaxis\":\"x\",\"y\":[0.8472177263732269,0.19056841036110378,0.18007815892477919],\"yaxis\":\"y\",\"type\":\"scatter\"},{\"hovertemplate\":\"variable=tuned, no title, asking promt, one example<br>index=%{x}<br>value=%{y}<extra></extra>\",\"legendgroup\":\"tuned, no title, asking promt, one example\",\"marker\":{\"color\":\"#FFA15A\",\"symbol\":\"circle\"},\"mode\":\"markers\",\"name\":\"tuned, no title, asking promt, one example\",\"orientation\":\"v\",\"showlegend\":true,\"x\":[\"BERT score\",\"ROUGE score\",\"BLEU score\"],\"xaxis\":\"x\",\"y\":[0.8436451186643583,0.18047011778014557,0.1649215442130309],\"yaxis\":\"y\",\"type\":\"scatter\"}],                        {\"template\":{\"data\":{\"bar\":[{\"error_x\":{\"color\":\"#2a3f5f\"},\"error_y\":{\"color\":\"#2a3f5f\"},\"marker\":{\"line\":{\"color\":\"#E5ECF6\",\"width\":0.5},\"pattern\":{\"fillmode\":\"overlay\",\"size\":10,\"solidity\":0.2}},\"type\":\"bar\"}],\"barpolar\":[{\"marker\":{\"line\":{\"color\":\"#E5ECF6\",\"width\":0.5},\"pattern\":{\"fillmode\":\"overlay\",\"size\":10,\"solidity\":0.2}},\"type\":\"barpolar\"}],\"carpet\":[{\"aaxis\":{\"endlinecolor\":\"#2a3f5f\",\"gridcolor\":\"white\",\"linecolor\":\"white\",\"minorgridcolor\":\"white\",\"startlinecolor\":\"#2a3f5f\"},\"baxis\":{\"endlinecolor\":\"#2a3f5f\",\"gridcolor\":\"white\",\"linecolor\":\"white\",\"minorgridcolor\":\"white\",\"startlinecolor\":\"#2a3f5f\"},\"type\":\"carpet\"}],\"choropleth\":[{\"colorbar\":{\"outlinewidth\":0,\"ticks\":\"\"},\"type\":\"choropleth\"}],\"contour\":[{\"colorbar\":{\"outlinewidth\":0,\"ticks\":\"\"},\"colorscale\":[[0.0,\"#0d0887\"],[0.1111111111111111,\"#46039f\"],[0.2222222222222222,\"#7201a8\"],[0.3333333333333333,\"#9c179e\"],[0.4444444444444444,\"#bd3786\"],[0.5555555555555556,\"#d8576b\"],[0.6666666666666666,\"#ed7953\"],[0.7777777777777778,\"#fb9f3a\"],[0.8888888888888888,\"#fdca26\"],[1.0,\"#f0f921\"]],\"type\":\"contour\"}],\"contourcarpet\":[{\"colorbar\":{\"outlinewidth\":0,\"ticks\":\"\"},\"type\":\"contourcarpet\"}],\"heatmap\":[{\"colorbar\":{\"outlinewidth\":0,\"ticks\":\"\"},\"colorscale\":[[0.0,\"#0d0887\"],[0.1111111111111111,\"#46039f\"],[0.2222222222222222,\"#7201a8\"],[0.3333333333333333,\"#9c179e\"],[0.4444444444444444,\"#bd3786\"],[0.5555555555555556,\"#d8576b\"],[0.6666666666666666,\"#ed7953\"],[0.7777777777777778,\"#fb9f3a\"],[0.8888888888888888,\"#fdca26\"],[1.0,\"#f0f921\"]],\"type\":\"heatmap\"}],\"heatmapgl\":[{\"colorbar\":{\"outlinewidth\":0,\"ticks\":\"\"},\"colorscale\":[[0.0,\"#0d0887\"],[0.1111111111111111,\"#46039f\"],[0.2222222222222222,\"#7201a8\"],[0.3333333333333333,\"#9c179e\"],[0.4444444444444444,\"#bd3786\"],[0.5555555555555556,\"#d8576b\"],[0.6666666666666666,\"#ed7953\"],[0.7777777777777778,\"#fb9f3a\"],[0.8888888888888888,\"#fdca26\"],[1.0,\"#f0f921\"]],\"type\":\"heatmapgl\"}],\"histogram\":[{\"marker\":{\"pattern\":{\"fillmode\":\"overlay\",\"size\":10,\"solidity\":0.2}},\"type\":\"histogram\"}],\"histogram2d\":[{\"colorbar\":{\"outlinewidth\":0,\"ticks\":\"\"},\"colorscale\":[[0.0,\"#0d0887\"],[0.1111111111111111,\"#46039f\"],[0.2222222222222222,\"#7201a8\"],[0.3333333333333333,\"#9c179e\"],[0.4444444444444444,\"#bd3786\"],[0.5555555555555556,\"#d8576b\"],[0.6666666666666666,\"#ed7953\"],[0.7777777777777778,\"#fb9f3a\"],[0.8888888888888888,\"#fdca26\"],[1.0,\"#f0f921\"]],\"type\":\"histogram2d\"}],\"histogram2dcontour\":[{\"colorbar\":{\"outlinewidth\":0,\"ticks\":\"\"},\"colorscale\":[[0.0,\"#0d0887\"],[0.1111111111111111,\"#46039f\"],[0.2222222222222222,\"#7201a8\"],[0.3333333333333333,\"#9c179e\"],[0.4444444444444444,\"#bd3786\"],[0.5555555555555556,\"#d8576b\"],[0.6666666666666666,\"#ed7953\"],[0.7777777777777778,\"#fb9f3a\"],[0.8888888888888888,\"#fdca26\"],[1.0,\"#f0f921\"]],\"type\":\"histogram2dcontour\"}],\"mesh3d\":[{\"colorbar\":{\"outlinewidth\":0,\"ticks\":\"\"},\"type\":\"mesh3d\"}],\"parcoords\":[{\"line\":{\"colorbar\":{\"outlinewidth\":0,\"ticks\":\"\"}},\"type\":\"parcoords\"}],\"pie\":[{\"automargin\":true,\"type\":\"pie\"}],\"scatter\":[{\"marker\":{\"colorbar\":{\"outlinewidth\":0,\"ticks\":\"\"}},\"type\":\"scatter\"}],\"scatter3d\":[{\"line\":{\"colorbar\":{\"outlinewidth\":0,\"ticks\":\"\"}},\"marker\":{\"colorbar\":{\"outlinewidth\":0,\"ticks\":\"\"}},\"type\":\"scatter3d\"}],\"scattercarpet\":[{\"marker\":{\"colorbar\":{\"outlinewidth\":0,\"ticks\":\"\"}},\"type\":\"scattercarpet\"}],\"scattergeo\":[{\"marker\":{\"colorbar\":{\"outlinewidth\":0,\"ticks\":\"\"}},\"type\":\"scattergeo\"}],\"scattergl\":[{\"marker\":{\"colorbar\":{\"outlinewidth\":0,\"ticks\":\"\"}},\"type\":\"scattergl\"}],\"scattermapbox\":[{\"marker\":{\"colorbar\":{\"outlinewidth\":0,\"ticks\":\"\"}},\"type\":\"scattermapbox\"}],\"scatterpolar\":[{\"marker\":{\"colorbar\":{\"outlinewidth\":0,\"ticks\":\"\"}},\"type\":\"scatterpolar\"}],\"scatterpolargl\":[{\"marker\":{\"colorbar\":{\"outlinewidth\":0,\"ticks\":\"\"}},\"type\":\"scatterpolargl\"}],\"scatterternary\":[{\"marker\":{\"colorbar\":{\"outlinewidth\":0,\"ticks\":\"\"}},\"type\":\"scatterternary\"}],\"surface\":[{\"colorbar\":{\"outlinewidth\":0,\"ticks\":\"\"},\"colorscale\":[[0.0,\"#0d0887\"],[0.1111111111111111,\"#46039f\"],[0.2222222222222222,\"#7201a8\"],[0.3333333333333333,\"#9c179e\"],[0.4444444444444444,\"#bd3786\"],[0.5555555555555556,\"#d8576b\"],[0.6666666666666666,\"#ed7953\"],[0.7777777777777778,\"#fb9f3a\"],[0.8888888888888888,\"#fdca26\"],[1.0,\"#f0f921\"]],\"type\":\"surface\"}],\"table\":[{\"cells\":{\"fill\":{\"color\":\"#EBF0F8\"},\"line\":{\"color\":\"white\"}},\"header\":{\"fill\":{\"color\":\"#C8D4E3\"},\"line\":{\"color\":\"white\"}},\"type\":\"table\"}]},\"layout\":{\"annotationdefaults\":{\"arrowcolor\":\"#2a3f5f\",\"arrowhead\":0,\"arrowwidth\":1},\"autotypenumbers\":\"strict\",\"coloraxis\":{\"colorbar\":{\"outlinewidth\":0,\"ticks\":\"\"}},\"colorscale\":{\"diverging\":[[0,\"#8e0152\"],[0.1,\"#c51b7d\"],[0.2,\"#de77ae\"],[0.3,\"#f1b6da\"],[0.4,\"#fde0ef\"],[0.5,\"#f7f7f7\"],[0.6,\"#e6f5d0\"],[0.7,\"#b8e186\"],[0.8,\"#7fbc41\"],[0.9,\"#4d9221\"],[1,\"#276419\"]],\"sequential\":[[0.0,\"#0d0887\"],[0.1111111111111111,\"#46039f\"],[0.2222222222222222,\"#7201a8\"],[0.3333333333333333,\"#9c179e\"],[0.4444444444444444,\"#bd3786\"],[0.5555555555555556,\"#d8576b\"],[0.6666666666666666,\"#ed7953\"],[0.7777777777777778,\"#fb9f3a\"],[0.8888888888888888,\"#fdca26\"],[1.0,\"#f0f921\"]],\"sequentialminus\":[[0.0,\"#0d0887\"],[0.1111111111111111,\"#46039f\"],[0.2222222222222222,\"#7201a8\"],[0.3333333333333333,\"#9c179e\"],[0.4444444444444444,\"#bd3786\"],[0.5555555555555556,\"#d8576b\"],[0.6666666666666666,\"#ed7953\"],[0.7777777777777778,\"#fb9f3a\"],[0.8888888888888888,\"#fdca26\"],[1.0,\"#f0f921\"]]},\"colorway\":[\"#636efa\",\"#EF553B\",\"#00cc96\",\"#ab63fa\",\"#FFA15A\",\"#19d3f3\",\"#FF6692\",\"#B6E880\",\"#FF97FF\",\"#FECB52\"],\"font\":{\"color\":\"#2a3f5f\"},\"geo\":{\"bgcolor\":\"white\",\"lakecolor\":\"white\",\"landcolor\":\"#E5ECF6\",\"showlakes\":true,\"showland\":true,\"subunitcolor\":\"white\"},\"hoverlabel\":{\"align\":\"left\"},\"hovermode\":\"closest\",\"mapbox\":{\"style\":\"light\"},\"paper_bgcolor\":\"white\",\"plot_bgcolor\":\"#E5ECF6\",\"polar\":{\"angularaxis\":{\"gridcolor\":\"white\",\"linecolor\":\"white\",\"ticks\":\"\"},\"bgcolor\":\"#E5ECF6\",\"radialaxis\":{\"gridcolor\":\"white\",\"linecolor\":\"white\",\"ticks\":\"\"}},\"scene\":{\"xaxis\":{\"backgroundcolor\":\"#E5ECF6\",\"gridcolor\":\"white\",\"gridwidth\":2,\"linecolor\":\"white\",\"showbackground\":true,\"ticks\":\"\",\"zerolinecolor\":\"white\"},\"yaxis\":{\"backgroundcolor\":\"#E5ECF6\",\"gridcolor\":\"white\",\"gridwidth\":2,\"linecolor\":\"white\",\"showbackground\":true,\"ticks\":\"\",\"zerolinecolor\":\"white\"},\"zaxis\":{\"backgroundcolor\":\"#E5ECF6\",\"gridcolor\":\"white\",\"gridwidth\":2,\"linecolor\":\"white\",\"showbackground\":true,\"ticks\":\"\",\"zerolinecolor\":\"white\"}},\"shapedefaults\":{\"line\":{\"color\":\"#2a3f5f\"}},\"ternary\":{\"aaxis\":{\"gridcolor\":\"white\",\"linecolor\":\"white\",\"ticks\":\"\"},\"baxis\":{\"gridcolor\":\"white\",\"linecolor\":\"white\",\"ticks\":\"\"},\"bgcolor\":\"#E5ECF6\",\"caxis\":{\"gridcolor\":\"white\",\"linecolor\":\"white\",\"ticks\":\"\"}},\"title\":{\"x\":0.05},\"xaxis\":{\"automargin\":true,\"gridcolor\":\"white\",\"linecolor\":\"white\",\"ticks\":\"\",\"title\":{\"standoff\":15},\"zerolinecolor\":\"white\",\"zerolinewidth\":2},\"yaxis\":{\"automargin\":true,\"gridcolor\":\"white\",\"linecolor\":\"white\",\"ticks\":\"\",\"title\":{\"standoff\":15},\"zerolinecolor\":\"white\",\"zerolinewidth\":2}}},\"xaxis\":{\"anchor\":\"y\",\"domain\":[0.0,1.0],\"title\":{\"text\":\"index\"}},\"yaxis\":{\"anchor\":\"x\",\"domain\":[0.0,1.0],\"title\":{\"text\":\"value\"}},\"legend\":{\"title\":{\"text\":\"variable\"},\"tracegroupgap\":0},\"margin\":{\"t\":60},\"title\":{\"text\":\"Metrics\"},\"height\":600,\"width\":1000},                        {\"responsive\": true}                    ).then(function(){\n",
       "                            \n",
       "var gd = document.getElementById('171b846a-a5db-4b0d-a3e6-16ab52eac335');\n",
       "var x = new MutationObserver(function (mutations, observer) {{\n",
       "        var display = window.getComputedStyle(gd).display;\n",
       "        if (!display || display === 'none') {{\n",
       "            console.log([gd, 'removed!']);\n",
       "            Plotly.purge(gd);\n",
       "            observer.disconnect();\n",
       "        }}\n",
       "}});\n",
       "\n",
       "// Listen for the removal of the full notebook cells\n",
       "var notebookContainer = gd.closest('#notebook-container');\n",
       "if (notebookContainer) {{\n",
       "    x.observe(notebookContainer, {childList: true});\n",
       "}}\n",
       "\n",
       "// Listen for the clearing of the current output cell\n",
       "var outputEl = gd.closest('.output');\n",
       "if (outputEl) {{\n",
       "    x.observe(outputEl, {childList: true});\n",
       "}}\n",
       "\n",
       "                        })                };                });            </script>        </div>"
      ]
     },
     "metadata": {},
     "output_type": "display_data"
    }
   ],
   "source": [
    "fig = px.scatter(df.T)\n",
    "\n",
    "fig.update_layout(\n",
    "    height=600, width=1000, title_text=\"Metrics\",\n",
    ")\n",
    "\n",
    "fig.show()"
   ]
  }
 ],
 "metadata": {
  "kernelspec": {
   "display_name": "Python 3 (ipykernel)",
   "language": "python",
   "name": "python3"
  },
  "language_info": {
   "codemirror_mode": {
    "name": "ipython",
    "version": 3
   },
   "file_extension": ".py",
   "mimetype": "text/x-python",
   "name": "python",
   "nbconvert_exporter": "python",
   "pygments_lexer": "ipython3",
   "version": "3.9.12"
  },
  "toc": {
   "base_numbering": 1,
   "nav_menu": {},
   "number_sections": true,
   "sideBar": true,
   "skip_h1_title": false,
   "title_cell": "Table of Contents",
   "title_sidebar": "Contents",
   "toc_cell": false,
   "toc_position": {
    "height": "calc(100% - 180px)",
    "left": "10px",
    "top": "150px",
    "width": "289px"
   },
   "toc_section_display": true,
   "toc_window_display": true
  }
 },
 "nbformat": 4,
 "nbformat_minor": 5
}
