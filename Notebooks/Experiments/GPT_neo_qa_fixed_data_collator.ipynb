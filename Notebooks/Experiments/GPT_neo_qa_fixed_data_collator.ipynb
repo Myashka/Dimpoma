{
 "cells": [
  {
   "cell_type": "markdown",
   "metadata": {
    "id": "7dc5a668"
   },
   "source": [
    "# Общая информация\n",
    "__Цель:__ сделать fine-tuning GPT neo\n",
    "\n",
    "__Задачи:__\n",
    "\n",
    "1) Сделать генерацию с разными вариантами температуры\n",
    "\n",
    "2) Выполнить то же самое для версии, с пофикшенным data collator\n",
    "\n",
    "3) Сравнить адекватность\n",
    "\n",
    "4) Дообучить модель (если потребуется)\n",
    "\n",
    "5) Сравнить дообученную модель первой версии и последней (если потребуется)"
   ],
   "id": "7dc5a668"
  },
  {
   "cell_type": "markdown",
   "metadata": {
    "id": "20cf5036"
   },
   "source": [
    "# Начальная инициализация"
   ],
   "id": "20cf5036"
  },
  {
   "cell_type": "markdown",
   "metadata": {
    "id": "J_6hdtD5EDQ0"
   },
   "source": [
    "## Установка библиотек"
   ],
   "id": "J_6hdtD5EDQ0"
  },
  {
   "cell_type": "code",
   "execution_count": null,
   "metadata": {
    "id": "GeM2ijWZni9r"
   },
   "outputs": [],
   "source": [
    "#!pip install pynvml"
   ],
   "id": "GeM2ijWZni9r"
  },
  {
   "cell_type": "code",
   "execution_count": null,
   "metadata": {
    "id": "zvK3TNhzDJBj"
   },
   "outputs": [],
   "source": [
    "#!pip install transformers"
   ],
   "id": "zvK3TNhzDJBj"
  },
  {
   "cell_type": "code",
   "execution_count": null,
   "metadata": {
    "id": "pTDrmeL6FuAe"
   },
   "outputs": [],
   "source": [
    "#!pip install wandb"
   ],
   "id": "pTDrmeL6FuAe"
  },
  {
   "cell_type": "code",
   "execution_count": null,
   "metadata": {
    "id": "Sg7ochHjEbGG"
   },
   "outputs": [],
   "source": [
    "#!pip install bert_score datasets rouge_score evaluate"
   ],
   "id": "Sg7ochHjEbGG"
  },
  {
   "cell_type": "markdown",
   "metadata": {
    "id": "Il-LKRVPEN2f"
   },
   "source": [
    "## Подключение гугл диска"
   ],
   "id": "Il-LKRVPEN2f"
  },
  {
   "cell_type": "code",
   "execution_count": 15,
   "metadata": {
    "colab": {
     "base_uri": "https://localhost:8080/"
    },
    "id": "KFowklRjGeJG",
    "outputId": "7cd1b51b-5cb6-49d5-c5e3-f184772b5eea"
   },
   "outputs": [
    {
     "output_type": "stream",
     "name": "stdout",
     "text": [
      "Drive already mounted at /content/drive; to attempt to forcibly remount, call drive.mount(\"/content/drive\", force_remount=True).\n"
     ]
    }
   ],
   "source": [
    "from google.colab import drive\n",
    "\n",
    "drive.mount(\"/content/drive\")"
   ],
   "id": "KFowklRjGeJG"
  },
  {
   "cell_type": "code",
   "execution_count": 16,
   "metadata": {
    "id": "73f0cd35"
   },
   "outputs": [],
   "source": [
    "import pickle\n",
    "import warnings\n",
    "\n",
    "import nltk\n",
    "import numpy as np\n",
    "import pandas as pd\n",
    "import torch\n",
    "from datasets import load_metric\n",
    "from evaluate import load\n",
    "from torch.utils.data import Dataset, random_split\n",
    "from tqdm.auto import tqdm\n",
    "from transformers import (AutoModelForCausalLM, AutoTokenizer,\n",
    "                          IntervalStrategy, Trainer, TrainingArguments)\n",
    "\n",
    "warnings.filterwarnings(\"ignore\")"
   ],
   "id": "73f0cd35"
  },
  {
   "cell_type": "code",
   "execution_count": 17,
   "metadata": {
    "id": "FJm9zZ1Hmx4_"
   },
   "outputs": [],
   "source": [
    "from pynvml import *\n",
    "\n",
    "\n",
    "def print_gpu_utilization():\n",
    "    nvmlInit()\n",
    "    handle = nvmlDeviceGetHandleByIndex(0)\n",
    "    info = nvmlDeviceGetMemoryInfo(handle)\n",
    "    print(f\"GPU memory occupied: {info.used//1024**2} MB.\")"
   ],
   "id": "FJm9zZ1Hmx4_"
  },
  {
   "cell_type": "code",
   "execution_count": 18,
   "metadata": {
    "colab": {
     "base_uri": "https://localhost:8080/"
    },
    "id": "OLadxEYennZR",
    "outputId": "d71dc614-272c-474e-d134-6aa952a754e9"
   },
   "outputs": [
    {
     "output_type": "stream",
     "name": "stdout",
     "text": [
      "GPU memory occupied: 0 MB.\n"
     ]
    }
   ],
   "source": [
    "print_gpu_utilization()"
   ],
   "id": "OLadxEYennZR"
  },
  {
   "cell_type": "markdown",
   "metadata": {
    "id": "Ix6GqGpCERGf"
   },
   "source": [
    "## Фиксация сидов"
   ],
   "id": "Ix6GqGpCERGf"
  },
  {
   "cell_type": "code",
   "execution_count": 19,
   "metadata": {
    "id": "5fa2d2a1"
   },
   "outputs": [],
   "source": [
    "# зафиксируем random seed\n",
    "torch.manual_seed(42)\n",
    "np.random.seed(42)"
   ],
   "id": "5fa2d2a1"
  },
  {
   "cell_type": "markdown",
   "metadata": {
    "id": "7bf1fe0d"
   },
   "source": [
    "# Данные"
   ],
   "id": "7bf1fe0d"
  },
  {
   "cell_type": "markdown",
   "metadata": {
    "id": "dkphqRaHEk6J"
   },
   "source": [
    "## Чтение данных"
   ],
   "id": "dkphqRaHEk6J"
  },
  {
   "cell_type": "code",
   "execution_count": 24,
   "metadata": {
    "id": "0QXDhwLrFloX"
   },
   "outputs": [],
   "source": [
    "df = pd.read_csv(\"/content/drive/MyDrive/Colab Notebooks/vkr_data/filtered_df.csv\")"
   ],
   "id": "0QXDhwLrFloX"
  },
  {
   "cell_type": "code",
   "execution_count": 25,
   "metadata": {
    "id": "Vrd74IkvG2mv"
   },
   "outputs": [],
   "source": [
    "pd.set_option(\"display.max_colwidth\", None)"
   ],
   "id": "Vrd74IkvG2mv"
  },
  {
   "cell_type": "code",
   "execution_count": 26,
   "metadata": {
    "id": "79da9c71"
   },
   "outputs": [],
   "source": [
    "# pd.set_option(\"display.max_colwidth\", None)\n",
    "# with open( f'../../data/filtered_df.p', 'rb') as f:\n",
    "#     df = pickle.load(f)"
   ],
   "id": "79da9c71"
  },
  {
   "cell_type": "markdown",
   "metadata": {
    "id": "c0d30bef"
   },
   "source": [
    "## Разбиение на train test"
   ],
   "id": "c0d30bef"
  },
  {
   "cell_type": "code",
   "execution_count": 27,
   "metadata": {
    "id": "fad6cbf6"
   },
   "outputs": [],
   "source": [
    "df = df.sort_values(\"Q_Date\")"
   ],
   "id": "fad6cbf6"
  },
  {
   "cell_type": "code",
   "execution_count": 28,
   "metadata": {
    "id": "95f0d0e4"
   },
   "outputs": [],
   "source": [
    "df = df.loc[df.apply(lambda x: f\"python\" in x.Tag, axis=1)]"
   ],
   "id": "95f0d0e4"
  },
  {
   "cell_type": "code",
   "execution_count": 29,
   "metadata": {
    "id": "61090fb5"
   },
   "outputs": [],
   "source": [
    "train_df, test_df = np.split(df, [int(0.85 * len(df))])"
   ],
   "id": "61090fb5"
  },
  {
   "cell_type": "markdown",
   "metadata": {
    "id": "88795940"
   },
   "source": [
    "# Model part"
   ],
   "id": "88795940"
  },
  {
   "cell_type": "code",
   "execution_count": 20,
   "metadata": {
    "id": "N8LsmADQDwPr"
   },
   "outputs": [],
   "source": [
    "device = torch.device(\"cuda\") if torch.cuda.is_available else \"cpu\""
   ],
   "id": "N8LsmADQDwPr"
  },
  {
   "cell_type": "code",
   "execution_count": 21,
   "metadata": {
    "id": "e6215b66"
   },
   "outputs": [],
   "source": [
    "model_name = \"EleutherAI/gpt-neo-1.3B\""
   ],
   "id": "e6215b66"
  },
  {
   "cell_type": "markdown",
   "metadata": {
    "id": "jPrI3yhlFjvW"
   },
   "source": [
    "## Загрузка токенизатора"
   ],
   "id": "jPrI3yhlFjvW"
  },
  {
   "cell_type": "code",
   "execution_count": 30,
   "metadata": {
    "id": "31a55a4c",
    "colab": {
     "base_uri": "https://localhost:8080/",
     "height": 177,
     "referenced_widgets": [
      "d044f443253c48d09b18fed020763b5c",
      "47c5e8d5e340456ab8b5b7f1d1788dea",
      "c7b2422a13e34ac4a3c97467326b107f",
      "bdcf37dea6ee4f79a36d88e45b3b078c",
      "e5fc4b34aabd44408477e078023b700c",
      "6e59c141a8db4ec7937bd1c1efa14423",
      "182a7d2c07ef4391b976bfe49072340a",
      "17434589e1ba4d478fc3cfbb41837331",
      "95877515a5aa44e29af56c68314e2932",
      "ff2abcc0671847d7a552571d94b69f93",
      "ac15253f8dc141f4bc54f7c63ead067d",
      "35b8e70a9817414f886c8deb67d1eb8b",
      "46993b3e833f425f947bc0987f54fd2d",
      "a3488e4abe3d444ca37d3a52a507d80c",
      "fecac2fac3da4030a22357fa69ff9574",
      "80954da747d94fefa2d0840e794005be",
      "98ff1b527ab94e9686b0f6b1469c9507",
      "607820ead3e546719ef69984ac9b48cb",
      "97b26774ccfb42d79065040d5acbb3dd",
      "d14e8160d4334c99ba9bfb61f778f0cc",
      "01166a6a42e64b9d840cb8e0af32e244",
      "319aee15e51f4bd28d8643adc8b7ae3e",
      "af11425146524f5fab5083488df81ddf",
      "5409042a72c644538c5afd242e2d5975",
      "d81c708c404e430393a474c2a353aca3",
      "ed47fc78b0c54ed3811f3910f0969ce1",
      "088debb2043748e4b4eea98e38dd420d",
      "b434b9de17f5456a8b80b9ea10fd2a8b",
      "1cadec9556bd4764a8f7853db27f844d",
      "3de1799ba7fb460cab978189bdad5f4f",
      "761589eb26d74d9b9b0740bab92d465f",
      "5671e8d3d087499eb0b9a562551b194a",
      "86e42af1fdfe4e87830f31afebda6494",
      "33bfb8506d844e588c54db55fecb30ad",
      "d39c680b0eb744bc8576d63c8a5e9d80",
      "2eabe398b4b04c1c84d481345711eb12",
      "17b21df7b80344d9b801db0036058417",
      "cd9b6988092346dfbd241acd2c057157",
      "dd44a0c614b9485ab3644df042345d95",
      "17b131e9581d49ed931341332a4b8df5",
      "de6b72f50ff140be8a8e8640eef108ef",
      "b6fce396b10943768e548702e1b108d8",
      "36468f4c3086402ea2a5c4ace5bf2fed",
      "5c9270afc7a747c690ce09738d8ef949",
      "52315067e3834be39f6f79866f193b97",
      "15c2831a21cd488895ef8c4b46db327e",
      "da8d679f29874d0ebc4a17d65104db29",
      "7b92d4c48f5c4c309c036a7c349c9b24",
      "cb02762fe47241a8822d8fb50b957c73",
      "a8c13eda91d1431d9b03389e31e967e8",
      "a39a1be2f8e74e21afad32361b2a4cff",
      "e2e3785e85b6472f8a8dfd84e3273ba2",
      "44fb94afa6ff48c69b2ee8e4d483151b",
      "4d4337261b174a459ef52d79b1fc1f96",
      "30cf4a81213942abb98539c3c2697653"
     ]
    },
    "outputId": "138a634d-d709-4d28-f90d-246444662362"
   },
   "outputs": [
    {
     "output_type": "display_data",
     "data": {
      "text/plain": [
       "Downloading:   0%|          | 0.00/200 [00:00<?, ?B/s]"
      ],
      "application/vnd.jupyter.widget-view+json": {
       "version_major": 2,
       "version_minor": 0,
       "model_id": "d044f443253c48d09b18fed020763b5c"
      }
     },
     "metadata": {}
    },
    {
     "output_type": "display_data",
     "data": {
      "text/plain": [
       "Downloading:   0%|          | 0.00/1.35k [00:00<?, ?B/s]"
      ],
      "application/vnd.jupyter.widget-view+json": {
       "version_major": 2,
       "version_minor": 0,
       "model_id": "35b8e70a9817414f886c8deb67d1eb8b"
      }
     },
     "metadata": {}
    },
    {
     "output_type": "display_data",
     "data": {
      "text/plain": [
       "Downloading:   0%|          | 0.00/798k [00:00<?, ?B/s]"
      ],
      "application/vnd.jupyter.widget-view+json": {
       "version_major": 2,
       "version_minor": 0,
       "model_id": "af11425146524f5fab5083488df81ddf"
      }
     },
     "metadata": {}
    },
    {
     "output_type": "display_data",
     "data": {
      "text/plain": [
       "Downloading:   0%|          | 0.00/456k [00:00<?, ?B/s]"
      ],
      "application/vnd.jupyter.widget-view+json": {
       "version_major": 2,
       "version_minor": 0,
       "model_id": "33bfb8506d844e588c54db55fecb30ad"
      }
     },
     "metadata": {}
    },
    {
     "output_type": "display_data",
     "data": {
      "text/plain": [
       "Downloading:   0%|          | 0.00/90.0 [00:00<?, ?B/s]"
      ],
      "application/vnd.jupyter.widget-view+json": {
       "version_major": 2,
       "version_minor": 0,
       "model_id": "52315067e3834be39f6f79866f193b97"
      }
     },
     "metadata": {}
    }
   ],
   "source": [
    "tokenizer = AutoTokenizer.from_pretrained(model_name)\n",
    "tokenizer.pad_token = tokenizer.eos_token"
   ],
   "id": "31a55a4c"
  },
  {
   "cell_type": "code",
   "execution_count": null,
   "metadata": {
    "colab": {
     "base_uri": "https://localhost:8080/"
    },
    "id": "0aiUWyrsntQG",
    "outputId": "f8821e3a-18be-4c5e-e4fa-339e6bf1fc86"
   },
   "outputs": [
    {
     "output_type": "stream",
     "name": "stdout",
     "text": [
      "GPU memory occupied: 0 MB.\n"
     ]
    }
   ],
   "source": [
    "print_gpu_utilization()"
   ],
   "id": "0aiUWyrsntQG"
  },
  {
   "cell_type": "code",
   "execution_count": 31,
   "metadata": {
    "colab": {
     "base_uri": "https://localhost:8080/"
    },
    "id": "5156e7d0",
    "outputId": "014f6c47-3c81-4287-a4f5-6e5ce0b91e3b"
   },
   "outputs": [
    {
     "output_type": "stream",
     "name": "stdout",
     "text": [
      "Max length: 1055\n"
     ]
    }
   ],
   "source": [
    "questions = df.Q_Body\n",
    "max_length = max([len(tokenizer.encode(question)) for question in questions])\n",
    "print(f\"Max length: {max_length}\")"
   ],
   "id": "5156e7d0"
  },
  {
   "cell_type": "code",
   "source": [
    "a = np.array([len(tokenizer.encode(question)) for question in questions])\n",
    "print(len(a))\n",
    "sum(a <= 600)"
   ],
   "metadata": {
    "colab": {
     "base_uri": "https://localhost:8080/"
    },
    "id": "VmCp_CWFH2x0",
    "outputId": "7a4608be-4abb-4c80-9da4-95ea40e684ac"
   },
   "id": "VmCp_CWFH2x0",
   "execution_count": null,
   "outputs": [
    {
     "output_type": "stream",
     "name": "stdout",
     "text": [
      "1754\n"
     ]
    },
    {
     "output_type": "execute_result",
     "data": {
      "text/plain": [
       "1745"
      ]
     },
     "metadata": {},
     "execution_count": 25
    }
   ]
  },
  {
   "cell_type": "code",
   "source": [
    "max_length = 600"
   ],
   "metadata": {
    "id": "5DuKF61EI3bH"
   },
   "id": "5DuKF61EI3bH",
   "execution_count": null,
   "outputs": []
  },
  {
   "cell_type": "markdown",
   "metadata": {
    "id": "M-VCbeDAFHwR"
   },
   "source": [
    "## Создание датасета"
   ],
   "id": "M-VCbeDAFHwR"
  },
  {
   "cell_type": "code",
   "execution_count": 32,
   "metadata": {
    "id": "eb78b459"
   },
   "outputs": [],
   "source": [
    "class Q_A_Dataset(Dataset):\n",
    "    def __init__(self, df, tokenizer, max_length, tag):\n",
    "        df = df.loc[df.apply(lambda x: f\"{tag}\" in x.Tag, axis=1)]\n",
    "        self.input_ids = []\n",
    "        self.attn_masks = []\n",
    "        self.labels = []\n",
    "\n",
    "        self.answers = []\n",
    "        self.questions = []\n",
    "\n",
    "        for _, row in df.iterrows():\n",
    "            prep_text = f\"Question: {row.Q_Body}\\nAnswer: {row.A_Body}\"\n",
    "\n",
    "            question_len = len(\n",
    "                tokenizer(\n",
    "                    f\"Question: {row.Q_Body}\\nAnswer:\",\n",
    "                )[\"input_ids\"]\n",
    "            )\n",
    "\n",
    "            encoding_dict = tokenizer(\n",
    "                prep_text, truncation=True, max_length=max_length, padding=\"max_length\"\n",
    "            )\n",
    "\n",
    "            self.input_ids.append(torch.tensor(encoding_dict[\"input_ids\"]))\n",
    "            self.attn_masks.append(torch.tensor(encoding_dict[\"attention_mask\"]))\n",
    "            self.labels.append(torch.tensor(encoding_dict[\"input_ids\"]))\n",
    "            self.labels[-1][:question_len] = -100\n",
    "\n",
    "            self.answers.append(row.A_Body)\n",
    "            self.questions.append(row.Q_Body)\n",
    "\n",
    "    def __len__(self):\n",
    "        return len(self.input_ids)\n",
    "\n",
    "    def __getitem__(self, idx):\n",
    "        return (\n",
    "            self.input_ids[idx],\n",
    "            self.attn_masks[idx],\n",
    "            self.labels[idx],\n",
    "            self.answers[idx],\n",
    "            self.questions[idx],\n",
    "        )"
   ],
   "id": "eb78b459"
  },
  {
   "cell_type": "code",
   "execution_count": 33,
   "metadata": {
    "id": "8022f386"
   },
   "outputs": [],
   "source": [
    "train_dataset = Q_A_Dataset(train_df, tokenizer, max_length=max_length, tag=\"python\")\n",
    "test_dataset = Q_A_Dataset(test_df, tokenizer, max_length=max_length, tag=\"python\")"
   ],
   "id": "8022f386"
  },
  {
   "cell_type": "code",
   "execution_count": 34,
   "metadata": {
    "id": "852d170b"
   },
   "outputs": [],
   "source": [
    "del df, train_df, test_df"
   ],
   "id": "852d170b"
  },
  {
   "cell_type": "markdown",
   "metadata": {
    "id": "7oYx5nivFcgK"
   },
   "source": [
    "## Загрузка модели"
   ],
   "id": "7oYx5nivFcgK"
  },
  {
   "cell_type": "code",
   "execution_count": null,
   "metadata": {
    "id": "925bde66",
    "colab": {
     "base_uri": "https://localhost:8080/",
     "height": 49,
     "referenced_widgets": [
      "60a102bf0b8947fa8aa400ad622b86cc",
      "3fb87c5abb5348a08495081be724597f",
      "5ce5664d9d3746d2ac29bb2da689b476",
      "f41ed073144249df8d8025f41d9f2ed3",
      "99c864e1a6d448b4b2bcaaa7d2e5c495",
      "d5eadf2c0cbf49a0af16d205292c608d",
      "a911d726308843f5a462548396ffb8aa",
      "dadba687e94e4bae908f430456a009bc",
      "b50b03d5c7244c4d87f407b25d20bd19",
      "c34a4f6652664d8d8ebbdd3f309aa79e",
      "8eb8fdd07a6a4f628c6175bc984b234d"
     ]
    },
    "outputId": "13a80795-00e2-47a1-e7f1-399d24614d95"
   },
   "outputs": [
    {
     "output_type": "display_data",
     "data": {
      "text/plain": [
       "Downloading:   0%|          | 0.00/5.31G [00:00<?, ?B/s]"
      ],
      "application/vnd.jupyter.widget-view+json": {
       "version_major": 2,
       "version_minor": 0,
       "model_id": "60a102bf0b8947fa8aa400ad622b86cc"
      }
     },
     "metadata": {}
    }
   ],
   "source": [
    "model = AutoModelForCausalLM.from_pretrained(model_name).to(device)"
   ],
   "id": "925bde66"
  },
  {
   "cell_type": "code",
   "execution_count": null,
   "metadata": {
    "id": "54ed943e",
    "colab": {
     "base_uri": "https://localhost:8080/"
    },
    "outputId": "afad0905-9b12-41cd-9d66-521f006d3b9c"
   },
   "outputs": [
    {
     "output_type": "execute_result",
     "data": {
      "text/plain": [
       "Embedding(50257, 2048)"
      ]
     },
     "metadata": {},
     "execution_count": 30
    }
   ],
   "source": [
    "model.resize_token_embeddings(len(tokenizer))"
   ],
   "id": "54ed943e"
  },
  {
   "cell_type": "markdown",
   "metadata": {
    "id": "jwGdKwCoFERF"
   },
   "source": [
    "### Заморозка весов"
   ],
   "id": "jwGdKwCoFERF"
  },
  {
   "cell_type": "code",
   "execution_count": 35,
   "metadata": {
    "id": "CS_yzJboLHFl",
    "colab": {
     "base_uri": "https://localhost:8080/"
    },
    "outputId": "27a46e62-07a6-4bf4-b382-780e93a42546"
   },
   "outputs": [
    {
     "output_type": "stream",
     "name": "stdout",
     "text": [
      "Freeze transformer.h.1.attn.attention.k_proj.weight\n",
      "Freeze transformer.h.1.attn.attention.v_proj.weight\n",
      "Freeze transformer.h.1.attn.attention.q_proj.weight\n",
      "Freeze transformer.h.1.attn.attention.out_proj.weight\n",
      "Freeze transformer.h.1.attn.attention.out_proj.bias\n",
      "Freeze transformer.h.1.mlp.c_fc.weight\n",
      "Freeze transformer.h.1.mlp.c_fc.bias\n",
      "Freeze transformer.h.1.mlp.c_proj.weight\n",
      "Freeze transformer.h.1.mlp.c_proj.bias\n",
      "Freeze transformer.h.2.attn.attention.k_proj.weight\n",
      "Freeze transformer.h.2.attn.attention.v_proj.weight\n",
      "Freeze transformer.h.2.attn.attention.q_proj.weight\n",
      "Freeze transformer.h.2.attn.attention.out_proj.weight\n",
      "Freeze transformer.h.2.attn.attention.out_proj.bias\n",
      "Freeze transformer.h.2.mlp.c_fc.weight\n",
      "Freeze transformer.h.2.mlp.c_fc.bias\n",
      "Freeze transformer.h.2.mlp.c_proj.weight\n",
      "Freeze transformer.h.2.mlp.c_proj.bias\n",
      "Freeze transformer.h.3.attn.attention.k_proj.weight\n",
      "Freeze transformer.h.3.attn.attention.v_proj.weight\n",
      "Freeze transformer.h.3.attn.attention.q_proj.weight\n",
      "Freeze transformer.h.3.attn.attention.out_proj.weight\n",
      "Freeze transformer.h.3.attn.attention.out_proj.bias\n",
      "Freeze transformer.h.3.mlp.c_fc.weight\n",
      "Freeze transformer.h.3.mlp.c_fc.bias\n",
      "Freeze transformer.h.3.mlp.c_proj.weight\n",
      "Freeze transformer.h.3.mlp.c_proj.bias\n",
      "Freeze transformer.h.4.attn.attention.k_proj.weight\n",
      "Freeze transformer.h.4.attn.attention.v_proj.weight\n",
      "Freeze transformer.h.4.attn.attention.q_proj.weight\n",
      "Freeze transformer.h.4.attn.attention.out_proj.weight\n",
      "Freeze transformer.h.4.attn.attention.out_proj.bias\n",
      "Freeze transformer.h.4.mlp.c_fc.weight\n",
      "Freeze transformer.h.4.mlp.c_fc.bias\n",
      "Freeze transformer.h.4.mlp.c_proj.weight\n",
      "Freeze transformer.h.4.mlp.c_proj.bias\n",
      "Freeze transformer.h.5.attn.attention.k_proj.weight\n",
      "Freeze transformer.h.5.attn.attention.v_proj.weight\n",
      "Freeze transformer.h.5.attn.attention.q_proj.weight\n",
      "Freeze transformer.h.5.attn.attention.out_proj.weight\n",
      "Freeze transformer.h.5.attn.attention.out_proj.bias\n",
      "Freeze transformer.h.5.mlp.c_fc.weight\n",
      "Freeze transformer.h.5.mlp.c_fc.bias\n",
      "Freeze transformer.h.5.mlp.c_proj.weight\n",
      "Freeze transformer.h.5.mlp.c_proj.bias\n",
      "Freeze transformer.h.6.attn.attention.k_proj.weight\n",
      "Freeze transformer.h.6.attn.attention.v_proj.weight\n",
      "Freeze transformer.h.6.attn.attention.q_proj.weight\n",
      "Freeze transformer.h.6.attn.attention.out_proj.weight\n",
      "Freeze transformer.h.6.attn.attention.out_proj.bias\n",
      "Freeze transformer.h.6.mlp.c_fc.weight\n",
      "Freeze transformer.h.6.mlp.c_fc.bias\n",
      "Freeze transformer.h.6.mlp.c_proj.weight\n",
      "Freeze transformer.h.6.mlp.c_proj.bias\n",
      "Freeze transformer.h.7.attn.attention.k_proj.weight\n",
      "Freeze transformer.h.7.attn.attention.v_proj.weight\n",
      "Freeze transformer.h.7.attn.attention.q_proj.weight\n",
      "Freeze transformer.h.7.attn.attention.out_proj.weight\n",
      "Freeze transformer.h.7.attn.attention.out_proj.bias\n",
      "Freeze transformer.h.7.mlp.c_fc.weight\n",
      "Freeze transformer.h.7.mlp.c_fc.bias\n",
      "Freeze transformer.h.7.mlp.c_proj.weight\n",
      "Freeze transformer.h.7.mlp.c_proj.bias\n",
      "Freeze transformer.h.8.attn.attention.k_proj.weight\n",
      "Freeze transformer.h.8.attn.attention.v_proj.weight\n",
      "Freeze transformer.h.8.attn.attention.q_proj.weight\n",
      "Freeze transformer.h.8.attn.attention.out_proj.weight\n",
      "Freeze transformer.h.8.attn.attention.out_proj.bias\n",
      "Freeze transformer.h.8.mlp.c_fc.weight\n",
      "Freeze transformer.h.8.mlp.c_fc.bias\n",
      "Freeze transformer.h.8.mlp.c_proj.weight\n",
      "Freeze transformer.h.8.mlp.c_proj.bias\n",
      "Freeze transformer.h.9.attn.attention.k_proj.weight\n",
      "Freeze transformer.h.9.attn.attention.v_proj.weight\n",
      "Freeze transformer.h.9.attn.attention.q_proj.weight\n",
      "Freeze transformer.h.9.attn.attention.out_proj.weight\n",
      "Freeze transformer.h.9.attn.attention.out_proj.bias\n",
      "Freeze transformer.h.9.mlp.c_fc.weight\n",
      "Freeze transformer.h.9.mlp.c_fc.bias\n",
      "Freeze transformer.h.9.mlp.c_proj.weight\n",
      "Freeze transformer.h.9.mlp.c_proj.bias\n",
      "Freeze transformer.h.10.attn.attention.k_proj.weight\n",
      "Freeze transformer.h.10.attn.attention.v_proj.weight\n",
      "Freeze transformer.h.10.attn.attention.q_proj.weight\n",
      "Freeze transformer.h.10.attn.attention.out_proj.weight\n",
      "Freeze transformer.h.10.attn.attention.out_proj.bias\n",
      "Freeze transformer.h.10.mlp.c_fc.weight\n",
      "Freeze transformer.h.10.mlp.c_fc.bias\n",
      "Freeze transformer.h.10.mlp.c_proj.weight\n",
      "Freeze transformer.h.10.mlp.c_proj.bias\n",
      "Freeze transformer.h.11.attn.attention.k_proj.weight\n",
      "Freeze transformer.h.11.attn.attention.v_proj.weight\n",
      "Freeze transformer.h.11.attn.attention.q_proj.weight\n",
      "Freeze transformer.h.11.attn.attention.out_proj.weight\n",
      "Freeze transformer.h.11.attn.attention.out_proj.bias\n",
      "Freeze transformer.h.11.mlp.c_fc.weight\n",
      "Freeze transformer.h.11.mlp.c_fc.bias\n",
      "Freeze transformer.h.11.mlp.c_proj.weight\n",
      "Freeze transformer.h.11.mlp.c_proj.bias\n",
      "Freeze transformer.h.12.attn.attention.k_proj.weight\n",
      "Freeze transformer.h.12.attn.attention.v_proj.weight\n",
      "Freeze transformer.h.12.attn.attention.q_proj.weight\n",
      "Freeze transformer.h.12.attn.attention.out_proj.weight\n",
      "Freeze transformer.h.12.attn.attention.out_proj.bias\n",
      "Freeze transformer.h.12.mlp.c_fc.weight\n",
      "Freeze transformer.h.12.mlp.c_fc.bias\n",
      "Freeze transformer.h.12.mlp.c_proj.weight\n",
      "Freeze transformer.h.12.mlp.c_proj.bias\n",
      "Freeze transformer.h.13.attn.attention.k_proj.weight\n",
      "Freeze transformer.h.13.attn.attention.v_proj.weight\n",
      "Freeze transformer.h.13.attn.attention.q_proj.weight\n",
      "Freeze transformer.h.13.attn.attention.out_proj.weight\n",
      "Freeze transformer.h.13.attn.attention.out_proj.bias\n",
      "Freeze transformer.h.13.mlp.c_fc.weight\n",
      "Freeze transformer.h.13.mlp.c_fc.bias\n",
      "Freeze transformer.h.13.mlp.c_proj.weight\n",
      "Freeze transformer.h.13.mlp.c_proj.bias\n",
      "Freeze transformer.h.14.attn.attention.k_proj.weight\n",
      "Freeze transformer.h.14.attn.attention.v_proj.weight\n",
      "Freeze transformer.h.14.attn.attention.q_proj.weight\n",
      "Freeze transformer.h.14.attn.attention.out_proj.weight\n",
      "Freeze transformer.h.14.attn.attention.out_proj.bias\n",
      "Freeze transformer.h.14.mlp.c_fc.weight\n",
      "Freeze transformer.h.14.mlp.c_fc.bias\n",
      "Freeze transformer.h.14.mlp.c_proj.weight\n",
      "Freeze transformer.h.14.mlp.c_proj.bias\n",
      "Freeze transformer.h.15.attn.attention.k_proj.weight\n",
      "Freeze transformer.h.15.attn.attention.v_proj.weight\n",
      "Freeze transformer.h.15.attn.attention.q_proj.weight\n",
      "Freeze transformer.h.15.attn.attention.out_proj.weight\n",
      "Freeze transformer.h.15.attn.attention.out_proj.bias\n",
      "Freeze transformer.h.15.mlp.c_fc.weight\n",
      "Freeze transformer.h.15.mlp.c_fc.bias\n",
      "Freeze transformer.h.15.mlp.c_proj.weight\n",
      "Freeze transformer.h.15.mlp.c_proj.bias\n",
      "Freeze transformer.h.16.attn.attention.k_proj.weight\n",
      "Freeze transformer.h.16.attn.attention.v_proj.weight\n",
      "Freeze transformer.h.16.attn.attention.q_proj.weight\n",
      "Freeze transformer.h.16.attn.attention.out_proj.weight\n",
      "Freeze transformer.h.16.attn.attention.out_proj.bias\n",
      "Freeze transformer.h.16.mlp.c_fc.weight\n",
      "Freeze transformer.h.16.mlp.c_fc.bias\n",
      "Freeze transformer.h.16.mlp.c_proj.weight\n",
      "Freeze transformer.h.16.mlp.c_proj.bias\n",
      "Freeze transformer.h.17.attn.attention.k_proj.weight\n",
      "Freeze transformer.h.17.attn.attention.v_proj.weight\n",
      "Freeze transformer.h.17.attn.attention.q_proj.weight\n",
      "Freeze transformer.h.17.attn.attention.out_proj.weight\n",
      "Freeze transformer.h.17.attn.attention.out_proj.bias\n",
      "Freeze transformer.h.17.mlp.c_fc.weight\n",
      "Freeze transformer.h.17.mlp.c_fc.bias\n",
      "Freeze transformer.h.17.mlp.c_proj.weight\n",
      "Freeze transformer.h.17.mlp.c_proj.bias\n",
      "Freeze transformer.h.18.attn.attention.k_proj.weight\n",
      "Freeze transformer.h.18.attn.attention.v_proj.weight\n",
      "Freeze transformer.h.18.attn.attention.q_proj.weight\n",
      "Freeze transformer.h.18.attn.attention.out_proj.weight\n",
      "Freeze transformer.h.18.attn.attention.out_proj.bias\n",
      "Freeze transformer.h.18.mlp.c_fc.weight\n",
      "Freeze transformer.h.18.mlp.c_fc.bias\n",
      "Freeze transformer.h.18.mlp.c_proj.weight\n",
      "Freeze transformer.h.18.mlp.c_proj.bias\n",
      "Freeze transformer.h.19.attn.attention.k_proj.weight\n",
      "Freeze transformer.h.19.attn.attention.v_proj.weight\n",
      "Freeze transformer.h.19.attn.attention.q_proj.weight\n",
      "Freeze transformer.h.19.attn.attention.out_proj.weight\n",
      "Freeze transformer.h.19.attn.attention.out_proj.bias\n",
      "Freeze transformer.h.19.mlp.c_fc.weight\n",
      "Freeze transformer.h.19.mlp.c_fc.bias\n",
      "Freeze transformer.h.19.mlp.c_proj.weight\n",
      "Freeze transformer.h.19.mlp.c_proj.bias\n",
      "Freeze transformer.h.20.attn.attention.k_proj.weight\n",
      "Freeze transformer.h.20.attn.attention.v_proj.weight\n",
      "Freeze transformer.h.20.attn.attention.q_proj.weight\n",
      "Freeze transformer.h.20.attn.attention.out_proj.weight\n",
      "Freeze transformer.h.20.attn.attention.out_proj.bias\n",
      "Freeze transformer.h.20.mlp.c_fc.weight\n",
      "Freeze transformer.h.20.mlp.c_fc.bias\n",
      "Freeze transformer.h.20.mlp.c_proj.weight\n",
      "Freeze transformer.h.20.mlp.c_proj.bias\n",
      "Freeze transformer.h.21.attn.attention.k_proj.weight\n",
      "Freeze transformer.h.21.attn.attention.v_proj.weight\n",
      "Freeze transformer.h.21.attn.attention.q_proj.weight\n",
      "Freeze transformer.h.21.attn.attention.out_proj.weight\n",
      "Freeze transformer.h.21.attn.attention.out_proj.bias\n",
      "Freeze transformer.h.21.mlp.c_fc.weight\n",
      "Freeze transformer.h.21.mlp.c_fc.bias\n",
      "Freeze transformer.h.21.mlp.c_proj.weight\n",
      "Freeze transformer.h.21.mlp.c_proj.bias\n",
      "Freeze transformer.h.22.attn.attention.k_proj.weight\n",
      "Freeze transformer.h.22.attn.attention.v_proj.weight\n",
      "Freeze transformer.h.22.attn.attention.q_proj.weight\n",
      "Freeze transformer.h.22.attn.attention.out_proj.weight\n",
      "Freeze transformer.h.22.attn.attention.out_proj.bias\n",
      "Freeze transformer.h.22.mlp.c_fc.weight\n",
      "Freeze transformer.h.22.mlp.c_fc.bias\n",
      "Freeze transformer.h.22.mlp.c_proj.weight\n",
      "Freeze transformer.h.22.mlp.c_proj.bias\n"
     ]
    }
   ],
   "source": [
    "for n, p in model.named_parameters():\n",
    "    if \"transformer.h\" in n:\n",
    "        layer_num = int(n.split(\".\")[2])\n",
    "        if \"ln_\" not in n and layer_num > 0 and layer_num < 23:\n",
    "            p.requires_grad = False\n",
    "            print(\"Freeze\", n)"
   ],
   "id": "CS_yzJboLHFl"
  },
  {
   "cell_type": "code",
   "execution_count": 36,
   "metadata": {
    "colab": {
     "base_uri": "https://localhost:8080/"
    },
    "id": "9JgarteioDFN",
    "outputId": "7082934f-e493-4dca-8c8e-1575129208b4"
   },
   "outputs": [
    {
     "output_type": "stream",
     "name": "stdout",
     "text": [
      "GPU memory occupied: 5920 MB.\n"
     ]
    }
   ],
   "source": [
    "print_gpu_utilization()"
   ],
   "id": "9JgarteioDFN"
  },
  {
   "cell_type": "markdown",
   "metadata": {
    "id": "3e6cfd9f"
   },
   "source": [
    "# Авторизумеся в wandb"
   ],
   "id": "3e6cfd9f"
  },
  {
   "cell_type": "code",
   "execution_count": 37,
   "metadata": {
    "colab": {
     "base_uri": "https://localhost:8080/",
     "height": 106
    },
    "id": "1d7196a0",
    "outputId": "26eb357d-19a1-4475-8449-3e40373d6d82"
   },
   "outputs": [
    {
     "output_type": "stream",
     "name": "stderr",
     "text": [
      "ERROR:wandb.jupyter:Failed to detect the name of this notebook, you can set it manually with the WANDB_NOTEBOOK_NAME environment variable to enable code saving.\n"
     ]
    },
    {
     "output_type": "display_data",
     "data": {
      "text/plain": [
       "<IPython.core.display.Javascript object>"
      ],
      "application/javascript": [
       "\n",
       "        window._wandbApiKey = new Promise((resolve, reject) => {\n",
       "            function loadScript(url) {\n",
       "            return new Promise(function(resolve, reject) {\n",
       "                let newScript = document.createElement(\"script\");\n",
       "                newScript.onerror = reject;\n",
       "                newScript.onload = resolve;\n",
       "                document.body.appendChild(newScript);\n",
       "                newScript.src = url;\n",
       "            });\n",
       "            }\n",
       "            loadScript(\"https://cdn.jsdelivr.net/npm/postmate/build/postmate.min.js\").then(() => {\n",
       "            const iframe = document.createElement('iframe')\n",
       "            iframe.style.cssText = \"width:0;height:0;border:none\"\n",
       "            document.body.appendChild(iframe)\n",
       "            const handshake = new Postmate({\n",
       "                container: iframe,\n",
       "                url: 'https://wandb.ai/authorize'\n",
       "            });\n",
       "            const timeout = setTimeout(() => reject(\"Couldn't auto authenticate\"), 5000)\n",
       "            handshake.then(function(child) {\n",
       "                child.on('authorize', data => {\n",
       "                    clearTimeout(timeout)\n",
       "                    resolve(data)\n",
       "                });\n",
       "            });\n",
       "            })\n",
       "        });\n",
       "    "
      ]
     },
     "metadata": {}
    },
    {
     "output_type": "stream",
     "name": "stderr",
     "text": [
      "\u001b[34m\u001b[1mwandb\u001b[0m: Appending key for api.wandb.ai to your netrc file: /root/.netrc\n"
     ]
    },
    {
     "output_type": "execute_result",
     "data": {
      "text/plain": [
       "True"
      ]
     },
     "metadata": {},
     "execution_count": 37
    }
   ],
   "source": [
    "import wandb\n",
    "\n",
    "wandb.login()"
   ],
   "id": "1d7196a0"
  },
  {
   "cell_type": "code",
   "execution_count": 38,
   "metadata": {
    "colab": {
     "base_uri": "https://localhost:8080/",
     "height": 86
    },
    "id": "2a2411e1",
    "outputId": "2129b84a-97a0-45d7-8963-1a57caddc5f0"
   },
   "outputs": [
    {
     "output_type": "stream",
     "name": "stderr",
     "text": [
      "\u001b[34m\u001b[1mwandb\u001b[0m: Currently logged in as: \u001b[33mmyashka\u001b[0m. Use \u001b[1m`wandb login --relogin`\u001b[0m to force relogin\n"
     ]
    },
    {
     "output_type": "display_data",
     "data": {
      "text/plain": [
       "<IPython.core.display.HTML object>"
      ],
      "text/html": [
       "Tracking run with wandb version 0.13.4"
      ]
     },
     "metadata": {}
    },
    {
     "output_type": "display_data",
     "data": {
      "text/plain": [
       "<IPython.core.display.HTML object>"
      ],
      "text/html": [
       "Run data is saved locally in <code>/content/wandb/run-20221011_132820-3d7l67kd</code>"
      ]
     },
     "metadata": {}
    },
    {
     "output_type": "display_data",
     "data": {
      "text/plain": [
       "<IPython.core.display.HTML object>"
      ],
      "text/html": [
       "Syncing run <strong><a href=\"https://wandb.ai/myashka/QA%20specific%20domain/runs/3d7l67kd\" target=\"_blank\">clear-fog-33</a></strong> to <a href=\"https://wandb.ai/myashka/QA%20specific%20domain\" target=\"_blank\">Weights & Biases</a> (<a href=\"https://wandb.me/run\" target=\"_blank\">docs</a>)<br/>"
      ]
     },
     "metadata": {}
    }
   ],
   "source": [
    "run = wandb.init(project=\"QA specific domain\", entity=\"myashka\")"
   ],
   "id": "2a2411e1"
  },
  {
   "cell_type": "code",
   "execution_count": 39,
   "metadata": {
    "colab": {
     "base_uri": "https://localhost:8080/"
    },
    "id": "a0f1e532",
    "outputId": "abb22cd7-e765-44e1-914a-07f14c2afdbd"
   },
   "outputs": [
    {
     "output_type": "stream",
     "name": "stdout",
     "text": [
      "env: WANDB_LOG_MODEL=true\n",
      "env: WANDB_WATCH=all\n",
      "env: WANDB_SILENT=true\n"
     ]
    }
   ],
   "source": [
    "%env WANDB_LOG_MODEL=true\n",
    "%env WANDB_WATCH=all\n",
    "%env WANDB_SILENT=true"
   ],
   "id": "a0f1e532"
  },
  {
   "cell_type": "markdown",
   "metadata": {
    "id": "e9b5a327"
   },
   "source": [
    "# Trainer и обучение"
   ],
   "id": "e9b5a327"
  },
  {
   "cell_type": "code",
   "execution_count": 23,
   "metadata": {
    "id": "j8d5YqLp7rzT"
   },
   "outputs": [],
   "source": [
    "model.config.use_cache = False"
   ],
   "id": "j8d5YqLp7rzT"
  },
  {
   "cell_type": "code",
   "execution_count": 40,
   "metadata": {
    "colab": {
     "base_uri": "https://localhost:8080/"
    },
    "id": "80817459",
    "outputId": "1fed7f11-2cc8-49da-f833-ef8af51c22d2"
   },
   "outputs": [
    {
     "output_type": "stream",
     "name": "stderr",
     "text": [
      "Using cuda_amp half precision backend\n"
     ]
    }
   ],
   "source": [
    "args = TrainingArguments(\n",
    "    output_dir=\"/content/drive/MyDrive/Colab Notebooks/vkr_data/results\",\n",
    "    num_train_epochs=5,\n",
    "    logging_steps=10,\n",
    "    load_best_model_at_end=True,\n",
    "    save_strategy=\"epoch\",\n",
    "    per_device_train_batch_size=4,\n",
    "    per_device_eval_batch_size=4,\n",
    "    warmup_steps=100,\n",
    "    weight_decay=0.01,\n",
    "    logging_dir=\"/content/drive/MyDrive/Colab Notebooks/vkr_data/logs\",\n",
    "    report_to=\"wandb\",  # enable logging to W&B\n",
    "    run_name=\"gpt_neo_third_run\",\n",
    "    evaluation_strategy=\"epoch\",\n",
    "    gradient_checkpointing=True,\n",
    "    fp16=True,\n",
    ")\n",
    "\n",
    "trainer = Trainer(\n",
    "    model=model,\n",
    "    args=args,\n",
    "    train_dataset=train_dataset,\n",
    "    eval_dataset=test_dataset,\n",
    "    data_collator=lambda data: {\n",
    "        \"input_ids\": torch.stack([f[0] for f in data]),\n",
    "        \"attention_mask\": torch.stack([f[1] for f in data]),\n",
    "        \"labels\": torch.stack([f[2] for f in data]),\n",
    "    },\n",
    ")"
   ],
   "id": "80817459"
  },
  {
   "cell_type": "code",
   "execution_count": 41,
   "metadata": {
    "colab": {
     "base_uri": "https://localhost:8080/",
     "height": 985,
     "referenced_widgets": [
      "e36731a57cf24ec5b36b663e343e4e09",
      "3037eb4d5f0a403581313822b2195947",
      "5112ec1562534168b84c74abd7c3db6f",
      "1403c08666c444ed82c97e4f5a52aca4",
      "9a80f4ef0ad34bba9c3c6c0dc2e08311",
      "f77980caddc1401fae0c4673e23dce90",
      "65d9a4217e59452cbd0b379b42e2f491",
      "2fe80012e3434f91bab49ea964cfdfd3",
      "b3ced7c2f8ea4df4bb13ec521c12787d",
      "c4a77f695b724fb69ae23b9b54ee30d0",
      "ed9eaf4ddfa64168acf86bfae8abe6d6"
     ]
    },
    "id": "1TkEZlHDMAhp",
    "outputId": "165d14d6-0a20-4edd-dd37-197440df7624"
   },
   "outputs": [
    {
     "output_type": "stream",
     "name": "stderr",
     "text": [
      "Loading model from /content/drive/MyDrive/Colab Notebooks/vkr_data/results/checkpoint-746.\n",
      "You are resuming training from a checkpoint trained with 4.22.2 of Transformers but your current version is 4.23.1. This is not recommended and could yield to errors or unwanted behaviors.\n",
      "***** Running training *****\n",
      "  Num examples = 1490\n",
      "  Num Epochs = 5\n",
      "  Instantaneous batch size per device = 4\n",
      "  Total train batch size (w. parallel, distributed & accumulation) = 4\n",
      "  Gradient Accumulation steps = 1\n",
      "  Total optimization steps = 1865\n",
      "  Continuing training from checkpoint, will skip to saved global_step\n",
      "  Continuing training from epoch 2\n",
      "  Continuing training from global step 746\n",
      "  Will skip the first 2 epochs then the first 0 batches in the first epoch. If this takes a lot of time, you can add the `--ignore_data_skip` flag to your launch command, but you will resume the training on data already seen by your model.\n"
     ]
    },
    {
     "output_type": "display_data",
     "data": {
      "text/plain": [
       "0it [00:00, ?it/s]"
      ],
      "application/vnd.jupyter.widget-view+json": {
       "version_major": 2,
       "version_minor": 0,
       "model_id": "e36731a57cf24ec5b36b663e343e4e09"
      }
     },
     "metadata": {}
    },
    {
     "output_type": "stream",
     "name": "stderr",
     "text": [
      "Automatic Weights & Biases logging enabled, to disable set os.environ[\"WANDB_DISABLED\"] = \"true\"\n"
     ]
    },
    {
     "output_type": "display_data",
     "data": {
      "text/plain": [
       "<IPython.core.display.HTML object>"
      ],
      "text/html": [
       "\n",
       "    <div>\n",
       "      \n",
       "      <progress value='1865' max='1865' style='width:300px; height:20px; vertical-align: middle;'></progress>\n",
       "      [1865/1865 2:14:28, Epoch 5/5]\n",
       "    </div>\n",
       "    <table border=\"1\" class=\"dataframe\">\n",
       "  <thead>\n",
       " <tr style=\"text-align: left;\">\n",
       "      <th>Epoch</th>\n",
       "      <th>Training Loss</th>\n",
       "      <th>Validation Loss</th>\n",
       "    </tr>\n",
       "  </thead>\n",
       "  <tbody>\n",
       "    <tr>\n",
       "      <td>3</td>\n",
       "      <td>0.230000</td>\n",
       "      <td>0.358668</td>\n",
       "    </tr>\n",
       "    <tr>\n",
       "      <td>4</td>\n",
       "      <td>0.230600</td>\n",
       "      <td>0.368467</td>\n",
       "    </tr>\n",
       "    <tr>\n",
       "      <td>5</td>\n",
       "      <td>0.236500</td>\n",
       "      <td>0.374936</td>\n",
       "    </tr>\n",
       "  </tbody>\n",
       "</table><p>"
      ]
     },
     "metadata": {}
    },
    {
     "output_type": "stream",
     "name": "stderr",
     "text": [
      "***** Running Evaluation *****\n",
      "  Num examples = 264\n",
      "  Batch size = 4\n",
      "Saving model checkpoint to /content/drive/MyDrive/Colab Notebooks/vkr_data/results/checkpoint-1119\n",
      "Configuration saved in /content/drive/MyDrive/Colab Notebooks/vkr_data/results/checkpoint-1119/config.json\n",
      "Model weights saved in /content/drive/MyDrive/Colab Notebooks/vkr_data/results/checkpoint-1119/pytorch_model.bin\n",
      "***** Running Evaluation *****\n",
      "  Num examples = 264\n",
      "  Batch size = 4\n",
      "Saving model checkpoint to /content/drive/MyDrive/Colab Notebooks/vkr_data/results/checkpoint-1492\n",
      "Configuration saved in /content/drive/MyDrive/Colab Notebooks/vkr_data/results/checkpoint-1492/config.json\n",
      "Model weights saved in /content/drive/MyDrive/Colab Notebooks/vkr_data/results/checkpoint-1492/pytorch_model.bin\n",
      "***** Running Evaluation *****\n",
      "  Num examples = 264\n",
      "  Batch size = 4\n",
      "Saving model checkpoint to /content/drive/MyDrive/Colab Notebooks/vkr_data/results/checkpoint-1865\n",
      "Configuration saved in /content/drive/MyDrive/Colab Notebooks/vkr_data/results/checkpoint-1865/config.json\n",
      "Model weights saved in /content/drive/MyDrive/Colab Notebooks/vkr_data/results/checkpoint-1865/pytorch_model.bin\n",
      "\n",
      "\n",
      "Training completed. Do not forget to share your model on huggingface.co/models =)\n",
      "\n",
      "\n",
      "Loading best model from /content/drive/MyDrive/Colab Notebooks/vkr_data/results/checkpoint-373 (score: 0.34481632709503174).\n",
      "Using cuda_amp half precision backend\n",
      "Saving model checkpoint to /tmp/tmproqydx24\n",
      "Configuration saved in /tmp/tmproqydx24/config.json\n",
      "Model weights saved in /tmp/tmproqydx24/pytorch_model.bin\n"
     ]
    },
    {
     "output_type": "execute_result",
     "data": {
      "text/plain": [
       "TrainOutput(global_step=1865, training_loss=0.13226373387405763, metrics={'train_runtime': 7960.727, 'train_samples_per_second': 0.936, 'train_steps_per_second': 0.234, 'total_flos': 5.6988933040128e+16, 'train_loss': 0.13226373387405763, 'epoch': 5.0})"
      ]
     },
     "metadata": {},
     "execution_count": 41
    }
   ],
   "source": [
    "trainer.train(\n",
    "    resume_from_checkpoint=\"/content/drive/MyDrive/Colab Notebooks/vkr_data/results/checkpoint-746\"\n",
    ")"
   ],
   "id": "1TkEZlHDMAhp"
  },
  {
   "cell_type": "code",
   "execution_count": 42,
   "metadata": {
    "colab": {
     "base_uri": "https://localhost:8080/",
     "height": 837
    },
    "id": "3lCnFobmNsoI",
    "outputId": "4bb8b61b-3b98-4d90-c8aa-74cb459b0f02"
   },
   "outputs": [
    {
     "output_type": "display_data",
     "data": {
      "text/plain": [
       "<IPython.core.display.HTML object>"
      ],
      "text/html": [
       "Waiting for W&B process to finish... <strong style=\"color:green\">(success).</strong>"
      ]
     },
     "metadata": {}
    },
    {
     "output_type": "display_data",
     "data": {
      "text/plain": [
       "<IPython.core.display.HTML object>"
      ],
      "text/html": [
       "<style>\n",
       "    table.wandb td:nth-child(1) { padding: 0 10px; text-align: left ; width: auto;} td:nth-child(2) {text-align: left ; width: 100%}\n",
       "    .wandb-row { display: flex; flex-direction: row; flex-wrap: wrap; justify-content: flex-start; width: 100% }\n",
       "    .wandb-col { display: flex; flex-direction: column; flex-basis: 100%; flex: 1; padding: 10px; }\n",
       "    </style>\n",
       "<div class=\"wandb-row\"><div class=\"wandb-col\"><h3>Run history:</h3><br/><table class=\"wandb\"><tr><td>eval/loss</td><td>▁▅█</td></tr><tr><td>eval/runtime</td><td>█▁█</td></tr><tr><td>eval/samples_per_second</td><td>▁█▁</td></tr><tr><td>eval/steps_per_second</td><td>▁█▁</td></tr><tr><td>train/epoch</td><td>▁▁▁▂▂▂▂▂▂▃▃▃▃▃▄▄▄▄▄▄▅▅▅▅▅▆▆▆▆▆▆▇▇▇▇▇████</td></tr><tr><td>train/global_step</td><td>▁▁▁▂▂▂▂▂▂▃▃▃▃▃▄▄▄▄▄▄▅▅▅▅▅▆▆▆▆▆▆▇▇▇▇▇████</td></tr><tr><td>train/learning_rate</td><td>███▇▇▇▇▇▇▆▆▆▆▆▆▅▅▅▅▅▄▄▄▄▄▄▃▃▃▃▃▂▂▂▂▂▂▁▁▁</td></tr><tr><td>train/loss</td><td>▂▂▃▃▄▅▄▂▅▃▄█▅█▂▃▅▂▂▂▃▁▃▃▃▃▃▃▂▄▂▂▂▂▁▂▂▂▂▄</td></tr><tr><td>train/total_flos</td><td>▁</td></tr><tr><td>train/train_loss</td><td>▁</td></tr><tr><td>train/train_runtime</td><td>▁</td></tr><tr><td>train/train_samples_per_second</td><td>▁</td></tr><tr><td>train/train_steps_per_second</td><td>▁</td></tr></table><br/></div><div class=\"wandb-col\"><h3>Run summary:</h3><br/><table class=\"wandb\"><tr><td>eval/loss</td><td>0.37494</td></tr><tr><td>eval/runtime</td><td>144.4379</td></tr><tr><td>eval/samples_per_second</td><td>1.828</td></tr><tr><td>eval/steps_per_second</td><td>0.457</td></tr><tr><td>train/epoch</td><td>5.0</td></tr><tr><td>train/global_step</td><td>1865</td></tr><tr><td>train/learning_rate</td><td>0.0</td></tr><tr><td>train/loss</td><td>0.2365</td></tr><tr><td>train/total_flos</td><td>5.6988933040128e+16</td></tr><tr><td>train/train_loss</td><td>0.13226</td></tr><tr><td>train/train_runtime</td><td>7960.727</td></tr><tr><td>train/train_samples_per_second</td><td>0.936</td></tr><tr><td>train/train_steps_per_second</td><td>0.234</td></tr></table><br/></div></div>"
      ]
     },
     "metadata": {}
    },
    {
     "output_type": "display_data",
     "data": {
      "text/plain": [
       "<IPython.core.display.HTML object>"
      ],
      "text/html": [
       "Synced <strong style=\"color:#cdcd00\">clear-fog-33</strong>: <a href=\"https://wandb.ai/myashka/QA%20specific%20domain/runs/3d7l67kd\" target=\"_blank\">https://wandb.ai/myashka/QA%20specific%20domain/runs/3d7l67kd</a><br/>Synced 5 W&B file(s), 0 media file(s), 3 artifact file(s) and 0 other file(s)"
      ]
     },
     "metadata": {}
    },
    {
     "output_type": "display_data",
     "data": {
      "text/plain": [
       "<IPython.core.display.HTML object>"
      ],
      "text/html": [
       "Find logs at: <code>./wandb/run-20221011_132820-3d7l67kd/logs</code>"
      ]
     },
     "metadata": {}
    }
   ],
   "source": [
    "wandb.finish()"
   ],
   "id": "3lCnFobmNsoI"
  },
  {
   "cell_type": "markdown",
   "metadata": {
    "id": "3b5f308c"
   },
   "source": [
    "# Evaluation"
   ],
   "id": "3b5f308c"
  },
  {
   "cell_type": "markdown",
   "metadata": {
    "id": "zANkXvVCGJtY"
   },
   "source": [
    "## Подгрузка нужной модели"
   ],
   "id": "zANkXvVCGJtY"
  },
  {
   "cell_type": "code",
   "execution_count": 22,
   "metadata": {
    "id": "k6grO8d2vmzI"
   },
   "outputs": [],
   "source": [
    "model = AutoModelForCausalLM.from_pretrained(\n",
    "    \"/content/drive/MyDrive/Colab Notebooks/vkr_data/results/checkpoint-746\"\n",
    ").to(device)"
   ],
   "id": "k6grO8d2vmzI"
  },
  {
   "cell_type": "code",
   "execution_count": null,
   "metadata": {
    "id": "koPhMqld8OhO"
   },
   "outputs": [],
   "source": [
    "model.config.use_cache = True"
   ],
   "id": "koPhMqld8OhO"
  },
  {
   "cell_type": "code",
   "execution_count": null,
   "metadata": {
    "id": "l4kJ0PrS-XP6"
   },
   "outputs": [],
   "source": [
    "rouge = load_metric(\"rouge\")\n",
    "bertscore = load(\"bertscore\")"
   ],
   "id": "l4kJ0PrS-XP6"
  },
  {
   "cell_type": "code",
   "execution_count": null,
   "metadata": {
    "id": "-0TOXtURGAHo"
   },
   "outputs": [],
   "source": [
    "text_table = wandb.Table(\n",
    "    columns=[\n",
    "        \"question\",\n",
    "        \"generated_answer\",\n",
    "        \"original_answer\",\n",
    "        \"bert_precision\",\n",
    "        \"bert_recall\",\n",
    "        \"bert_f1\",\n",
    "        \"rouge_score\",\n",
    "        \"bleu_score\",\n",
    "        \"len_of_generated_answer\",\n",
    "    ]\n",
    ")"
   ],
   "id": "-0TOXtURGAHo"
  },
  {
   "cell_type": "markdown",
   "metadata": {
    "id": "tVBmF8AgH7vJ"
   },
   "source": [
    "## Функция генерации ответа на вопрос с promt"
   ],
   "id": "tVBmF8AgH7vJ"
  },
  {
   "cell_type": "code",
   "execution_count": null,
   "metadata": {
    "id": "MaNu6auUH_1L"
   },
   "outputs": [],
   "source": [
    "def generate_answer(model, tokenizer, deivce, question, temp=0):\n",
    "    model.eval()\n",
    "\n",
    "    question_len = len(f\"Question: {question}\\nAnswer:\")\n",
    "\n",
    "    text_to_answer = f\"Question: {question}\\nAnswer:\"\n",
    "\n",
    "    enc_text_to_answer = tokenizer(text_to_answer, return_tensors=\"pt\").input_ids.to(\n",
    "        device\n",
    "    )\n",
    "\n",
    "    generated_output = model.generate(\n",
    "        enc_text_to_answer,\n",
    "        do_sample=False,\n",
    "        top_k=50,\n",
    "        max_length=max_length,\n",
    "        top_p=0.9,\n",
    "        temperature=temp,\n",
    "        num_return_sequences=0,\n",
    "        no_repeat_ngram_size=2,\n",
    "        pad_token_id=tokenizer.eos_token_id,\n",
    "    ).to(\"cpu\")\n",
    "\n",
    "    del enc_text_to_answer\n",
    "\n",
    "    generated_q_a = tokenizer.decode(generated_output[0], skip_special_tokens=True)\n",
    "\n",
    "    generated_a = generated_q_a[question_len:]\n",
    "\n",
    "    return generated_a"
   ],
   "id": "MaNu6auUH_1L"
  },
  {
   "cell_type": "code",
   "source": [
    "print(test_dataset[1][4])"
   ],
   "metadata": {
    "colab": {
     "base_uri": "https://localhost:8080/"
    },
    "id": "40FwTrcdbOHn",
    "outputId": "1b6be773-e0ae-4f36-f453-fb878888c1b4"
   },
   "id": "40FwTrcdbOHn",
   "execution_count": null,
   "outputs": [
    {
     "output_type": "stream",
     "name": "stdout",
     "text": [
      "While writing an application parsing command line arguments I would like to run it with various parameters.\n",
      "I don't want to create a Run Configuration for every possible command line argument that I want my script to test with. Is there a way in PyCharm (and I guess with any JetBrains IDE) to make a Run Configuration that asks for the Script parameters when executed?\n",
      "I am currently using PyCharm 3.1 (EAP).\n",
      "\n"
     ]
    }
   ]
  },
  {
   "cell_type": "code",
   "source": [
    "text = generate_answer(model, tokenizer, device, test_dataset[1][4])"
   ],
   "metadata": {
    "id": "Fkvs6ttxYkHM"
   },
   "id": "Fkvs6ttxYkHM",
   "execution_count": null,
   "outputs": []
  },
  {
   "cell_type": "code",
   "source": [
    "text"
   ],
   "metadata": {
    "colab": {
     "base_uri": "https://localhost:8080/",
     "height": 53
    },
    "id": "QxN1EnVPZ3Kg",
    "outputId": "721e5f5d-c49e-49b9-82e9-ec795b2fc0c8"
   },
   "id": "QxN1EnVPZ3Kg",
   "execution_count": null,
   "outputs": [
    {
     "output_type": "execute_result",
     "data": {
      "text/plain": [
       "\" You can use the Run Configurations feature to specify the arguments that you want your script executed with, but you can't specify a list of arguments. You'll have to use a custom Run configuration. \\n\""
      ],
      "application/vnd.google.colaboratory.intrinsic+json": {
       "type": "string"
      }
     },
     "metadata": {},
     "execution_count": 36
    }
   ]
  },
  {
   "cell_type": "code",
   "source": [
    "print(test_dataset[1][3])"
   ],
   "metadata": {
    "colab": {
     "base_uri": "https://localhost:8080/"
    },
    "id": "7YNYuCT8ZJ9t",
    "outputId": "15b28869-800b-4188-9451-39e0cd2e5395"
   },
   "id": "7YNYuCT8ZJ9t",
   "execution_count": null,
   "outputs": [
    {
     "output_type": "stream",
     "name": "stdout",
     "text": [
      "Currently the only possibility is to use the \"Before launch | Show this page\" option.\n",
      "\n"
     ]
    }
   ]
  },
  {
   "cell_type": "code",
   "source": [
    "bert_score = bertscore.compute(\n",
    "    predictions=[text], references=[test_dataset[1][3]], lang=\"en\"\n",
    ")\n",
    "bert_score"
   ],
   "metadata": {
    "colab": {
     "base_uri": "https://localhost:8080/"
    },
    "id": "L4SsVHZlbiR2",
    "outputId": "ccd70cee-72c0-4f45-e70f-352b76e0f837"
   },
   "id": "L4SsVHZlbiR2",
   "execution_count": null,
   "outputs": [
    {
     "output_type": "execute_result",
     "data": {
      "text/plain": [
       "{'precision': [0.8648298382759094],\n",
       " 'recall': [0.8778269290924072],\n",
       " 'f1': [0.8712799549102783],\n",
       " 'hashcode': 'roberta-large_L17_no-idf_version=0.3.11(hug_trans=4.22.2)'}"
      ]
     },
     "metadata": {},
     "execution_count": 35
    }
   ]
  },
  {
   "cell_type": "markdown",
   "metadata": {
    "id": "IIxphW69GTKN"
   },
   "source": [
    "## Проверка качества модели"
   ],
   "id": "IIxphW69GTKN"
  },
  {
   "cell_type": "code",
   "execution_count": null,
   "metadata": {
    "id": "764af776"
   },
   "outputs": [],
   "source": [
    "def evaluate(model, test_dataset, tokenizer, device, text_table, wandb_run):\n",
    "    model.eval()\n",
    "\n",
    "    bleu_scores = []\n",
    "    rouge_scores = []\n",
    "    bert_scores = []\n",
    "    bert_precisions = []\n",
    "    bert_recalls = []\n",
    "    bert_f1s = []\n",
    "\n",
    "    for _, _, _, answer, question in tqdm(test_dataset):\n",
    "\n",
    "        generated_a = generate_answer(model, tokenizer, device, question, 0.0)\n",
    "\n",
    "        bert_score = bertscore.compute(\n",
    "            predictions=[generated_a], references=[answer], lang=\"en\"\n",
    "        )\n",
    "\n",
    "        bleu_score = nltk.translate.bleu_score.sentence_bleu(answer, generated_a)\n",
    "        rouge_score = rouge.compute(predictions=[generated_a], references=[answer])[\n",
    "            \"rouge1\"\n",
    "        ].mid.fmeasure\n",
    "\n",
    "        text_table.add_data(\n",
    "            question,\n",
    "            generated_a,\n",
    "            answer,\n",
    "            bert_score[\"precision\"][0],\n",
    "            bert_score[\"recall\"][0],\n",
    "            bert_score[\"f1\"][0],\n",
    "            rouge_score,\n",
    "            bleu_score,\n",
    "            len(generated_a),\n",
    "        )\n",
    "\n",
    "    wandb_run.log({\"evaluation_table\": text_table})\n",
    "\n",
    "    return (\n",
    "        np.mean(bleu_scores),\n",
    "        np.mean(rouge_scores),\n",
    "        np.mean(bert_precisions),\n",
    "        np.mean(bert_recalls),\n",
    "        np.mean(bert_f1s),\n",
    "    )"
   ],
   "id": "764af776"
  },
  {
   "cell_type": "code",
   "execution_count": null,
   "metadata": {
    "colab": {
     "base_uri": "https://localhost:8080/",
     "height": 104,
     "referenced_widgets": [
      "f5cc048a25e941369302125ea723f930",
      "f07d743de77c4fd6b78151c2e43d1fdc",
      "a98a81c300bb40f8950da6080d177161",
      "9a4a91cc35b3427d9180b80dbf94022f",
      "9f86319a3471451caa92f26d6de2abd8",
      "4a6b74cc4bcc407e88b8a848aa1ca491",
      "1c735f9e24be488bbd0c286481a309e7",
      "3caa1f525a9347aa920a0c053131f609",
      "b96c1480d4054629b28aa53956e52b3b",
      "00b24c26c0294e0981d67c4de659a1a3",
      "1b3e1a1f32e94a26bca122335106054d"
     ]
    },
    "id": "5a5c0bd9",
    "outputId": "531317ca-e6e3-4f6c-c34a-ceda7d7443a5"
   },
   "outputs": [
    {
     "output_type": "display_data",
     "data": {
      "text/plain": [
       "  0%|          | 0/264 [00:00<?, ?it/s]"
      ],
      "application/vnd.jupyter.widget-view+json": {
       "version_major": 2,
       "version_minor": 0,
       "model_id": "f5cc048a25e941369302125ea723f930"
      }
     },
     "metadata": {}
    },
    {
     "output_type": "stream",
     "name": "stderr",
     "text": [
      "Input length of input_ids is 1060, but `max_length` is set to 600. This can lead to unexpected behavior. You should consider increasing `max_new_tokens`.\n",
      "Input length of input_ids is 670, but `max_length` is set to 600. This can lead to unexpected behavior. You should consider increasing `max_new_tokens`.\n"
     ]
    }
   ],
   "source": [
    "bleu_score, rouge_score, bert_precision, bert_recall, bert_f1 = evaluate(\n",
    "    model, test_dataset, tokenizer, device, text_table, run\n",
    ")"
   ],
   "id": "5a5c0bd9"
  },
  {
   "cell_type": "code",
   "source": [
    "print(bleu_score, rouge_score, bert_precision, bert_recall, bert_f1)"
   ],
   "metadata": {
    "colab": {
     "base_uri": "https://localhost:8080/"
    },
    "id": "RMYQqT2THGPT",
    "outputId": "c695692d-baec-434a-b29d-ade9c726521b"
   },
   "id": "RMYQqT2THGPT",
   "execution_count": null,
   "outputs": [
    {
     "output_type": "stream",
     "name": "stdout",
     "text": [
      "nan nan nan nan nan\n"
     ]
    }
   ]
  },
  {
   "cell_type": "code",
   "source": [
    "wandb.finish()"
   ],
   "metadata": {
    "colab": {
     "base_uri": "https://localhost:8080/",
     "height": 86
    },
    "id": "IBCueDwsSyZa",
    "outputId": "62b14460-2bf6-4139-d19c-aa37a57989af"
   },
   "id": "IBCueDwsSyZa",
   "execution_count": null,
   "outputs": [
    {
     "output_type": "display_data",
     "data": {
      "text/plain": [
       "<IPython.core.display.HTML object>"
      ],
      "text/html": [
       "Waiting for W&B process to finish... <strong style=\"color:green\">(success).</strong>"
      ]
     },
     "metadata": {}
    },
    {
     "output_type": "display_data",
     "data": {
      "text/plain": [
       "<IPython.core.display.HTML object>"
      ],
      "text/html": [
       "Synced <strong style=\"color:#cdcd00\">fluent-serenity-30</strong>: <a href=\"https://wandb.ai/myashka/QA%20specific%20domain/runs/1nkxma85\" target=\"_blank\">https://wandb.ai/myashka/QA%20specific%20domain/runs/1nkxma85</a><br/>Synced 5 W&B file(s), 1 media file(s), 1 artifact file(s) and 0 other file(s)"
      ]
     },
     "metadata": {}
    },
    {
     "output_type": "display_data",
     "data": {
      "text/plain": [
       "<IPython.core.display.HTML object>"
      ],
      "text/html": [
       "Find logs at: <code>./wandb/run-20221009_201931-1nkxma85/logs</code>"
      ]
     },
     "metadata": {}
    }
   ]
  },
  {
   "cell_type": "code",
   "source": [],
   "metadata": {
    "id": "mtPNrwwXTVcy"
   },
   "id": "mtPNrwwXTVcy",
   "execution_count": null,
   "outputs": []
  }
 ],
 "metadata": {
  "accelerator": "GPU",
  "colab": {
   "collapsed_sections": [],
   "provenance": []
  },
  "kernelspec": {
   "display_name": "Python 3",
   "name": "python3"
  },
  "language_info": {
   "name": "python"
  },
  "widgets": {
   "application/vnd.jupyter.widget-state+json": {
    "f5cc048a25e941369302125ea723f930": {
     "model_module": "@jupyter-widgets/controls",
     "model_name": "HBoxModel",
     "model_module_version": "1.5.0",
     "state": {
      "_dom_classes": [],
      "_model_module": "@jupyter-widgets/controls",
      "_model_module_version": "1.5.0",
      "_model_name": "HBoxModel",
      "_view_count": null,
      "_view_module": "@jupyter-widgets/controls",
      "_view_module_version": "1.5.0",
      "_view_name": "HBoxView",
      "box_style": "",
      "children": [
       "IPY_MODEL_f07d743de77c4fd6b78151c2e43d1fdc",
       "IPY_MODEL_a98a81c300bb40f8950da6080d177161",
       "IPY_MODEL_9a4a91cc35b3427d9180b80dbf94022f"
      ],
      "layout": "IPY_MODEL_9f86319a3471451caa92f26d6de2abd8"
     }
    },
    "f07d743de77c4fd6b78151c2e43d1fdc": {
     "model_module": "@jupyter-widgets/controls",
     "model_name": "HTMLModel",
     "model_module_version": "1.5.0",
     "state": {
      "_dom_classes": [],
      "_model_module": "@jupyter-widgets/controls",
      "_model_module_version": "1.5.0",
      "_model_name": "HTMLModel",
      "_view_count": null,
      "_view_module": "@jupyter-widgets/controls",
      "_view_module_version": "1.5.0",
      "_view_name": "HTMLView",
      "description": "",
      "description_tooltip": null,
      "layout": "IPY_MODEL_4a6b74cc4bcc407e88b8a848aa1ca491",
      "placeholder": "​",
      "style": "IPY_MODEL_1c735f9e24be488bbd0c286481a309e7",
      "value": "100%"
     }
    },
    "a98a81c300bb40f8950da6080d177161": {
     "model_module": "@jupyter-widgets/controls",
     "model_name": "FloatProgressModel",
     "model_module_version": "1.5.0",
     "state": {
      "_dom_classes": [],
      "_model_module": "@jupyter-widgets/controls",
      "_model_module_version": "1.5.0",
      "_model_name": "FloatProgressModel",
      "_view_count": null,
      "_view_module": "@jupyter-widgets/controls",
      "_view_module_version": "1.5.0",
      "_view_name": "ProgressView",
      "bar_style": "success",
      "description": "",
      "description_tooltip": null,
      "layout": "IPY_MODEL_3caa1f525a9347aa920a0c053131f609",
      "max": 264,
      "min": 0,
      "orientation": "horizontal",
      "style": "IPY_MODEL_b96c1480d4054629b28aa53956e52b3b",
      "value": 264
     }
    },
    "9a4a91cc35b3427d9180b80dbf94022f": {
     "model_module": "@jupyter-widgets/controls",
     "model_name": "HTMLModel",
     "model_module_version": "1.5.0",
     "state": {
      "_dom_classes": [],
      "_model_module": "@jupyter-widgets/controls",
      "_model_module_version": "1.5.0",
      "_model_name": "HTMLModel",
      "_view_count": null,
      "_view_module": "@jupyter-widgets/controls",
      "_view_module_version": "1.5.0",
      "_view_name": "HTMLView",
      "description": "",
      "description_tooltip": null,
      "layout": "IPY_MODEL_00b24c26c0294e0981d67c4de659a1a3",
      "placeholder": "​",
      "style": "IPY_MODEL_1b3e1a1f32e94a26bca122335106054d",
      "value": " 264/264 [16:37&lt;00:00,  3.76s/it]"
     }
    },
    "9f86319a3471451caa92f26d6de2abd8": {
     "model_module": "@jupyter-widgets/base",
     "model_name": "LayoutModel",
     "model_module_version": "1.2.0",
     "state": {
      "_model_module": "@jupyter-widgets/base",
      "_model_module_version": "1.2.0",
      "_model_name": "LayoutModel",
      "_view_count": null,
      "_view_module": "@jupyter-widgets/base",
      "_view_module_version": "1.2.0",
      "_view_name": "LayoutView",
      "align_content": null,
      "align_items": null,
      "align_self": null,
      "border": null,
      "bottom": null,
      "display": null,
      "flex": null,
      "flex_flow": null,
      "grid_area": null,
      "grid_auto_columns": null,
      "grid_auto_flow": null,
      "grid_auto_rows": null,
      "grid_column": null,
      "grid_gap": null,
      "grid_row": null,
      "grid_template_areas": null,
      "grid_template_columns": null,
      "grid_template_rows": null,
      "height": null,
      "justify_content": null,
      "justify_items": null,
      "left": null,
      "margin": null,
      "max_height": null,
      "max_width": null,
      "min_height": null,
      "min_width": null,
      "object_fit": null,
      "object_position": null,
      "order": null,
      "overflow": null,
      "overflow_x": null,
      "overflow_y": null,
      "padding": null,
      "right": null,
      "top": null,
      "visibility": null,
      "width": null
     }
    },
    "4a6b74cc4bcc407e88b8a848aa1ca491": {
     "model_module": "@jupyter-widgets/base",
     "model_name": "LayoutModel",
     "model_module_version": "1.2.0",
     "state": {
      "_model_module": "@jupyter-widgets/base",
      "_model_module_version": "1.2.0",
      "_model_name": "LayoutModel",
      "_view_count": null,
      "_view_module": "@jupyter-widgets/base",
      "_view_module_version": "1.2.0",
      "_view_name": "LayoutView",
      "align_content": null,
      "align_items": null,
      "align_self": null,
      "border": null,
      "bottom": null,
      "display": null,
      "flex": null,
      "flex_flow": null,
      "grid_area": null,
      "grid_auto_columns": null,
      "grid_auto_flow": null,
      "grid_auto_rows": null,
      "grid_column": null,
      "grid_gap": null,
      "grid_row": null,
      "grid_template_areas": null,
      "grid_template_columns": null,
      "grid_template_rows": null,
      "height": null,
      "justify_content": null,
      "justify_items": null,
      "left": null,
      "margin": null,
      "max_height": null,
      "max_width": null,
      "min_height": null,
      "min_width": null,
      "object_fit": null,
      "object_position": null,
      "order": null,
      "overflow": null,
      "overflow_x": null,
      "overflow_y": null,
      "padding": null,
      "right": null,
      "top": null,
      "visibility": null,
      "width": null
     }
    },
    "1c735f9e24be488bbd0c286481a309e7": {
     "model_module": "@jupyter-widgets/controls",
     "model_name": "DescriptionStyleModel",
     "model_module_version": "1.5.0",
     "state": {
      "_model_module": "@jupyter-widgets/controls",
      "_model_module_version": "1.5.0",
      "_model_name": "DescriptionStyleModel",
      "_view_count": null,
      "_view_module": "@jupyter-widgets/base",
      "_view_module_version": "1.2.0",
      "_view_name": "StyleView",
      "description_width": ""
     }
    },
    "3caa1f525a9347aa920a0c053131f609": {
     "model_module": "@jupyter-widgets/base",
     "model_name": "LayoutModel",
     "model_module_version": "1.2.0",
     "state": {
      "_model_module": "@jupyter-widgets/base",
      "_model_module_version": "1.2.0",
      "_model_name": "LayoutModel",
      "_view_count": null,
      "_view_module": "@jupyter-widgets/base",
      "_view_module_version": "1.2.0",
      "_view_name": "LayoutView",
      "align_content": null,
      "align_items": null,
      "align_self": null,
      "border": null,
      "bottom": null,
      "display": null,
      "flex": null,
      "flex_flow": null,
      "grid_area": null,
      "grid_auto_columns": null,
      "grid_auto_flow": null,
      "grid_auto_rows": null,
      "grid_column": null,
      "grid_gap": null,
      "grid_row": null,
      "grid_template_areas": null,
      "grid_template_columns": null,
      "grid_template_rows": null,
      "height": null,
      "justify_content": null,
      "justify_items": null,
      "left": null,
      "margin": null,
      "max_height": null,
      "max_width": null,
      "min_height": null,
      "min_width": null,
      "object_fit": null,
      "object_position": null,
      "order": null,
      "overflow": null,
      "overflow_x": null,
      "overflow_y": null,
      "padding": null,
      "right": null,
      "top": null,
      "visibility": null,
      "width": null
     }
    },
    "b96c1480d4054629b28aa53956e52b3b": {
     "model_module": "@jupyter-widgets/controls",
     "model_name": "ProgressStyleModel",
     "model_module_version": "1.5.0",
     "state": {
      "_model_module": "@jupyter-widgets/controls",
      "_model_module_version": "1.5.0",
      "_model_name": "ProgressStyleModel",
      "_view_count": null,
      "_view_module": "@jupyter-widgets/base",
      "_view_module_version": "1.2.0",
      "_view_name": "StyleView",
      "bar_color": null,
      "description_width": ""
     }
    },
    "00b24c26c0294e0981d67c4de659a1a3": {
     "model_module": "@jupyter-widgets/base",
     "model_name": "LayoutModel",
     "model_module_version": "1.2.0",
     "state": {
      "_model_module": "@jupyter-widgets/base",
      "_model_module_version": "1.2.0",
      "_model_name": "LayoutModel",
      "_view_count": null,
      "_view_module": "@jupyter-widgets/base",
      "_view_module_version": "1.2.0",
      "_view_name": "LayoutView",
      "align_content": null,
      "align_items": null,
      "align_self": null,
      "border": null,
      "bottom": null,
      "display": null,
      "flex": null,
      "flex_flow": null,
      "grid_area": null,
      "grid_auto_columns": null,
      "grid_auto_flow": null,
      "grid_auto_rows": null,
      "grid_column": null,
      "grid_gap": null,
      "grid_row": null,
      "grid_template_areas": null,
      "grid_template_columns": null,
      "grid_template_rows": null,
      "height": null,
      "justify_content": null,
      "justify_items": null,
      "left": null,
      "margin": null,
      "max_height": null,
      "max_width": null,
      "min_height": null,
      "min_width": null,
      "object_fit": null,
      "object_position": null,
      "order": null,
      "overflow": null,
      "overflow_x": null,
      "overflow_y": null,
      "padding": null,
      "right": null,
      "top": null,
      "visibility": null,
      "width": null
     }
    },
    "1b3e1a1f32e94a26bca122335106054d": {
     "model_module": "@jupyter-widgets/controls",
     "model_name": "DescriptionStyleModel",
     "model_module_version": "1.5.0",
     "state": {
      "_model_module": "@jupyter-widgets/controls",
      "_model_module_version": "1.5.0",
      "_model_name": "DescriptionStyleModel",
      "_view_count": null,
      "_view_module": "@jupyter-widgets/base",
      "_view_module_version": "1.2.0",
      "_view_name": "StyleView",
      "description_width": ""
     }
    },
    "60a102bf0b8947fa8aa400ad622b86cc": {
     "model_module": "@jupyter-widgets/controls",
     "model_name": "HBoxModel",
     "model_module_version": "1.5.0",
     "state": {
      "_dom_classes": [],
      "_model_module": "@jupyter-widgets/controls",
      "_model_module_version": "1.5.0",
      "_model_name": "HBoxModel",
      "_view_count": null,
      "_view_module": "@jupyter-widgets/controls",
      "_view_module_version": "1.5.0",
      "_view_name": "HBoxView",
      "box_style": "",
      "children": [
       "IPY_MODEL_3fb87c5abb5348a08495081be724597f",
       "IPY_MODEL_5ce5664d9d3746d2ac29bb2da689b476",
       "IPY_MODEL_f41ed073144249df8d8025f41d9f2ed3"
      ],
      "layout": "IPY_MODEL_99c864e1a6d448b4b2bcaaa7d2e5c495"
     }
    },
    "3fb87c5abb5348a08495081be724597f": {
     "model_module": "@jupyter-widgets/controls",
     "model_name": "HTMLModel",
     "model_module_version": "1.5.0",
     "state": {
      "_dom_classes": [],
      "_model_module": "@jupyter-widgets/controls",
      "_model_module_version": "1.5.0",
      "_model_name": "HTMLModel",
      "_view_count": null,
      "_view_module": "@jupyter-widgets/controls",
      "_view_module_version": "1.5.0",
      "_view_name": "HTMLView",
      "description": "",
      "description_tooltip": null,
      "layout": "IPY_MODEL_d5eadf2c0cbf49a0af16d205292c608d",
      "placeholder": "​",
      "style": "IPY_MODEL_a911d726308843f5a462548396ffb8aa",
      "value": "Downloading: 100%"
     }
    },
    "5ce5664d9d3746d2ac29bb2da689b476": {
     "model_module": "@jupyter-widgets/controls",
     "model_name": "FloatProgressModel",
     "model_module_version": "1.5.0",
     "state": {
      "_dom_classes": [],
      "_model_module": "@jupyter-widgets/controls",
      "_model_module_version": "1.5.0",
      "_model_name": "FloatProgressModel",
      "_view_count": null,
      "_view_module": "@jupyter-widgets/controls",
      "_view_module_version": "1.5.0",
      "_view_name": "ProgressView",
      "bar_style": "success",
      "description": "",
      "description_tooltip": null,
      "layout": "IPY_MODEL_dadba687e94e4bae908f430456a009bc",
      "max": 5312753599,
      "min": 0,
      "orientation": "horizontal",
      "style": "IPY_MODEL_b50b03d5c7244c4d87f407b25d20bd19",
      "value": 5312753599
     }
    },
    "f41ed073144249df8d8025f41d9f2ed3": {
     "model_module": "@jupyter-widgets/controls",
     "model_name": "HTMLModel",
     "model_module_version": "1.5.0",
     "state": {
      "_dom_classes": [],
      "_model_module": "@jupyter-widgets/controls",
      "_model_module_version": "1.5.0",
      "_model_name": "HTMLModel",
      "_view_count": null,
      "_view_module": "@jupyter-widgets/controls",
      "_view_module_version": "1.5.0",
      "_view_name": "HTMLView",
      "description": "",
      "description_tooltip": null,
      "layout": "IPY_MODEL_c34a4f6652664d8d8ebbdd3f309aa79e",
      "placeholder": "​",
      "style": "IPY_MODEL_8eb8fdd07a6a4f628c6175bc984b234d",
      "value": " 5.31G/5.31G [01:51&lt;00:00, 52.2MB/s]"
     }
    },
    "99c864e1a6d448b4b2bcaaa7d2e5c495": {
     "model_module": "@jupyter-widgets/base",
     "model_name": "LayoutModel",
     "model_module_version": "1.2.0",
     "state": {
      "_model_module": "@jupyter-widgets/base",
      "_model_module_version": "1.2.0",
      "_model_name": "LayoutModel",
      "_view_count": null,
      "_view_module": "@jupyter-widgets/base",
      "_view_module_version": "1.2.0",
      "_view_name": "LayoutView",
      "align_content": null,
      "align_items": null,
      "align_self": null,
      "border": null,
      "bottom": null,
      "display": null,
      "flex": null,
      "flex_flow": null,
      "grid_area": null,
      "grid_auto_columns": null,
      "grid_auto_flow": null,
      "grid_auto_rows": null,
      "grid_column": null,
      "grid_gap": null,
      "grid_row": null,
      "grid_template_areas": null,
      "grid_template_columns": null,
      "grid_template_rows": null,
      "height": null,
      "justify_content": null,
      "justify_items": null,
      "left": null,
      "margin": null,
      "max_height": null,
      "max_width": null,
      "min_height": null,
      "min_width": null,
      "object_fit": null,
      "object_position": null,
      "order": null,
      "overflow": null,
      "overflow_x": null,
      "overflow_y": null,
      "padding": null,
      "right": null,
      "top": null,
      "visibility": null,
      "width": null
     }
    },
    "d5eadf2c0cbf49a0af16d205292c608d": {
     "model_module": "@jupyter-widgets/base",
     "model_name": "LayoutModel",
     "model_module_version": "1.2.0",
     "state": {
      "_model_module": "@jupyter-widgets/base",
      "_model_module_version": "1.2.0",
      "_model_name": "LayoutModel",
      "_view_count": null,
      "_view_module": "@jupyter-widgets/base",
      "_view_module_version": "1.2.0",
      "_view_name": "LayoutView",
      "align_content": null,
      "align_items": null,
      "align_self": null,
      "border": null,
      "bottom": null,
      "display": null,
      "flex": null,
      "flex_flow": null,
      "grid_area": null,
      "grid_auto_columns": null,
      "grid_auto_flow": null,
      "grid_auto_rows": null,
      "grid_column": null,
      "grid_gap": null,
      "grid_row": null,
      "grid_template_areas": null,
      "grid_template_columns": null,
      "grid_template_rows": null,
      "height": null,
      "justify_content": null,
      "justify_items": null,
      "left": null,
      "margin": null,
      "max_height": null,
      "max_width": null,
      "min_height": null,
      "min_width": null,
      "object_fit": null,
      "object_position": null,
      "order": null,
      "overflow": null,
      "overflow_x": null,
      "overflow_y": null,
      "padding": null,
      "right": null,
      "top": null,
      "visibility": null,
      "width": null
     }
    },
    "a911d726308843f5a462548396ffb8aa": {
     "model_module": "@jupyter-widgets/controls",
     "model_name": "DescriptionStyleModel",
     "model_module_version": "1.5.0",
     "state": {
      "_model_module": "@jupyter-widgets/controls",
      "_model_module_version": "1.5.0",
      "_model_name": "DescriptionStyleModel",
      "_view_count": null,
      "_view_module": "@jupyter-widgets/base",
      "_view_module_version": "1.2.0",
      "_view_name": "StyleView",
      "description_width": ""
     }
    },
    "dadba687e94e4bae908f430456a009bc": {
     "model_module": "@jupyter-widgets/base",
     "model_name": "LayoutModel",
     "model_module_version": "1.2.0",
     "state": {
      "_model_module": "@jupyter-widgets/base",
      "_model_module_version": "1.2.0",
      "_model_name": "LayoutModel",
      "_view_count": null,
      "_view_module": "@jupyter-widgets/base",
      "_view_module_version": "1.2.0",
      "_view_name": "LayoutView",
      "align_content": null,
      "align_items": null,
      "align_self": null,
      "border": null,
      "bottom": null,
      "display": null,
      "flex": null,
      "flex_flow": null,
      "grid_area": null,
      "grid_auto_columns": null,
      "grid_auto_flow": null,
      "grid_auto_rows": null,
      "grid_column": null,
      "grid_gap": null,
      "grid_row": null,
      "grid_template_areas": null,
      "grid_template_columns": null,
      "grid_template_rows": null,
      "height": null,
      "justify_content": null,
      "justify_items": null,
      "left": null,
      "margin": null,
      "max_height": null,
      "max_width": null,
      "min_height": null,
      "min_width": null,
      "object_fit": null,
      "object_position": null,
      "order": null,
      "overflow": null,
      "overflow_x": null,
      "overflow_y": null,
      "padding": null,
      "right": null,
      "top": null,
      "visibility": null,
      "width": null
     }
    },
    "b50b03d5c7244c4d87f407b25d20bd19": {
     "model_module": "@jupyter-widgets/controls",
     "model_name": "ProgressStyleModel",
     "model_module_version": "1.5.0",
     "state": {
      "_model_module": "@jupyter-widgets/controls",
      "_model_module_version": "1.5.0",
      "_model_name": "ProgressStyleModel",
      "_view_count": null,
      "_view_module": "@jupyter-widgets/base",
      "_view_module_version": "1.2.0",
      "_view_name": "StyleView",
      "bar_color": null,
      "description_width": ""
     }
    },
    "c34a4f6652664d8d8ebbdd3f309aa79e": {
     "model_module": "@jupyter-widgets/base",
     "model_name": "LayoutModel",
     "model_module_version": "1.2.0",
     "state": {
      "_model_module": "@jupyter-widgets/base",
      "_model_module_version": "1.2.0",
      "_model_name": "LayoutModel",
      "_view_count": null,
      "_view_module": "@jupyter-widgets/base",
      "_view_module_version": "1.2.0",
      "_view_name": "LayoutView",
      "align_content": null,
      "align_items": null,
      "align_self": null,
      "border": null,
      "bottom": null,
      "display": null,
      "flex": null,
      "flex_flow": null,
      "grid_area": null,
      "grid_auto_columns": null,
      "grid_auto_flow": null,
      "grid_auto_rows": null,
      "grid_column": null,
      "grid_gap": null,
      "grid_row": null,
      "grid_template_areas": null,
      "grid_template_columns": null,
      "grid_template_rows": null,
      "height": null,
      "justify_content": null,
      "justify_items": null,
      "left": null,
      "margin": null,
      "max_height": null,
      "max_width": null,
      "min_height": null,
      "min_width": null,
      "object_fit": null,
      "object_position": null,
      "order": null,
      "overflow": null,
      "overflow_x": null,
      "overflow_y": null,
      "padding": null,
      "right": null,
      "top": null,
      "visibility": null,
      "width": null
     }
    },
    "8eb8fdd07a6a4f628c6175bc984b234d": {
     "model_module": "@jupyter-widgets/controls",
     "model_name": "DescriptionStyleModel",
     "model_module_version": "1.5.0",
     "state": {
      "_model_module": "@jupyter-widgets/controls",
      "_model_module_version": "1.5.0",
      "_model_name": "DescriptionStyleModel",
      "_view_count": null,
      "_view_module": "@jupyter-widgets/base",
      "_view_module_version": "1.2.0",
      "_view_name": "StyleView",
      "description_width": ""
     }
    },
    "d044f443253c48d09b18fed020763b5c": {
     "model_module": "@jupyter-widgets/controls",
     "model_name": "HBoxModel",
     "model_module_version": "1.5.0",
     "state": {
      "_dom_classes": [],
      "_model_module": "@jupyter-widgets/controls",
      "_model_module_version": "1.5.0",
      "_model_name": "HBoxModel",
      "_view_count": null,
      "_view_module": "@jupyter-widgets/controls",
      "_view_module_version": "1.5.0",
      "_view_name": "HBoxView",
      "box_style": "",
      "children": [
       "IPY_MODEL_47c5e8d5e340456ab8b5b7f1d1788dea",
       "IPY_MODEL_c7b2422a13e34ac4a3c97467326b107f",
       "IPY_MODEL_bdcf37dea6ee4f79a36d88e45b3b078c"
      ],
      "layout": "IPY_MODEL_e5fc4b34aabd44408477e078023b700c"
     }
    },
    "47c5e8d5e340456ab8b5b7f1d1788dea": {
     "model_module": "@jupyter-widgets/controls",
     "model_name": "HTMLModel",
     "model_module_version": "1.5.0",
     "state": {
      "_dom_classes": [],
      "_model_module": "@jupyter-widgets/controls",
      "_model_module_version": "1.5.0",
      "_model_name": "HTMLModel",
      "_view_count": null,
      "_view_module": "@jupyter-widgets/controls",
      "_view_module_version": "1.5.0",
      "_view_name": "HTMLView",
      "description": "",
      "description_tooltip": null,
      "layout": "IPY_MODEL_6e59c141a8db4ec7937bd1c1efa14423",
      "placeholder": "​",
      "style": "IPY_MODEL_182a7d2c07ef4391b976bfe49072340a",
      "value": "Downloading: 100%"
     }
    },
    "c7b2422a13e34ac4a3c97467326b107f": {
     "model_module": "@jupyter-widgets/controls",
     "model_name": "FloatProgressModel",
     "model_module_version": "1.5.0",
     "state": {
      "_dom_classes": [],
      "_model_module": "@jupyter-widgets/controls",
      "_model_module_version": "1.5.0",
      "_model_name": "FloatProgressModel",
      "_view_count": null,
      "_view_module": "@jupyter-widgets/controls",
      "_view_module_version": "1.5.0",
      "_view_name": "ProgressView",
      "bar_style": "success",
      "description": "",
      "description_tooltip": null,
      "layout": "IPY_MODEL_17434589e1ba4d478fc3cfbb41837331",
      "max": 200,
      "min": 0,
      "orientation": "horizontal",
      "style": "IPY_MODEL_95877515a5aa44e29af56c68314e2932",
      "value": 200
     }
    },
    "bdcf37dea6ee4f79a36d88e45b3b078c": {
     "model_module": "@jupyter-widgets/controls",
     "model_name": "HTMLModel",
     "model_module_version": "1.5.0",
     "state": {
      "_dom_classes": [],
      "_model_module": "@jupyter-widgets/controls",
      "_model_module_version": "1.5.0",
      "_model_name": "HTMLModel",
      "_view_count": null,
      "_view_module": "@jupyter-widgets/controls",
      "_view_module_version": "1.5.0",
      "_view_name": "HTMLView",
      "description": "",
      "description_tooltip": null,
      "layout": "IPY_MODEL_ff2abcc0671847d7a552571d94b69f93",
      "placeholder": "​",
      "style": "IPY_MODEL_ac15253f8dc141f4bc54f7c63ead067d",
      "value": " 200/200 [00:00&lt;00:00, 3.68kB/s]"
     }
    },
    "e5fc4b34aabd44408477e078023b700c": {
     "model_module": "@jupyter-widgets/base",
     "model_name": "LayoutModel",
     "model_module_version": "1.2.0",
     "state": {
      "_model_module": "@jupyter-widgets/base",
      "_model_module_version": "1.2.0",
      "_model_name": "LayoutModel",
      "_view_count": null,
      "_view_module": "@jupyter-widgets/base",
      "_view_module_version": "1.2.0",
      "_view_name": "LayoutView",
      "align_content": null,
      "align_items": null,
      "align_self": null,
      "border": null,
      "bottom": null,
      "display": null,
      "flex": null,
      "flex_flow": null,
      "grid_area": null,
      "grid_auto_columns": null,
      "grid_auto_flow": null,
      "grid_auto_rows": null,
      "grid_column": null,
      "grid_gap": null,
      "grid_row": null,
      "grid_template_areas": null,
      "grid_template_columns": null,
      "grid_template_rows": null,
      "height": null,
      "justify_content": null,
      "justify_items": null,
      "left": null,
      "margin": null,
      "max_height": null,
      "max_width": null,
      "min_height": null,
      "min_width": null,
      "object_fit": null,
      "object_position": null,
      "order": null,
      "overflow": null,
      "overflow_x": null,
      "overflow_y": null,
      "padding": null,
      "right": null,
      "top": null,
      "visibility": null,
      "width": null
     }
    },
    "6e59c141a8db4ec7937bd1c1efa14423": {
     "model_module": "@jupyter-widgets/base",
     "model_name": "LayoutModel",
     "model_module_version": "1.2.0",
     "state": {
      "_model_module": "@jupyter-widgets/base",
      "_model_module_version": "1.2.0",
      "_model_name": "LayoutModel",
      "_view_count": null,
      "_view_module": "@jupyter-widgets/base",
      "_view_module_version": "1.2.0",
      "_view_name": "LayoutView",
      "align_content": null,
      "align_items": null,
      "align_self": null,
      "border": null,
      "bottom": null,
      "display": null,
      "flex": null,
      "flex_flow": null,
      "grid_area": null,
      "grid_auto_columns": null,
      "grid_auto_flow": null,
      "grid_auto_rows": null,
      "grid_column": null,
      "grid_gap": null,
      "grid_row": null,
      "grid_template_areas": null,
      "grid_template_columns": null,
      "grid_template_rows": null,
      "height": null,
      "justify_content": null,
      "justify_items": null,
      "left": null,
      "margin": null,
      "max_height": null,
      "max_width": null,
      "min_height": null,
      "min_width": null,
      "object_fit": null,
      "object_position": null,
      "order": null,
      "overflow": null,
      "overflow_x": null,
      "overflow_y": null,
      "padding": null,
      "right": null,
      "top": null,
      "visibility": null,
      "width": null
     }
    },
    "182a7d2c07ef4391b976bfe49072340a": {
     "model_module": "@jupyter-widgets/controls",
     "model_name": "DescriptionStyleModel",
     "model_module_version": "1.5.0",
     "state": {
      "_model_module": "@jupyter-widgets/controls",
      "_model_module_version": "1.5.0",
      "_model_name": "DescriptionStyleModel",
      "_view_count": null,
      "_view_module": "@jupyter-widgets/base",
      "_view_module_version": "1.2.0",
      "_view_name": "StyleView",
      "description_width": ""
     }
    },
    "17434589e1ba4d478fc3cfbb41837331": {
     "model_module": "@jupyter-widgets/base",
     "model_name": "LayoutModel",
     "model_module_version": "1.2.0",
     "state": {
      "_model_module": "@jupyter-widgets/base",
      "_model_module_version": "1.2.0",
      "_model_name": "LayoutModel",
      "_view_count": null,
      "_view_module": "@jupyter-widgets/base",
      "_view_module_version": "1.2.0",
      "_view_name": "LayoutView",
      "align_content": null,
      "align_items": null,
      "align_self": null,
      "border": null,
      "bottom": null,
      "display": null,
      "flex": null,
      "flex_flow": null,
      "grid_area": null,
      "grid_auto_columns": null,
      "grid_auto_flow": null,
      "grid_auto_rows": null,
      "grid_column": null,
      "grid_gap": null,
      "grid_row": null,
      "grid_template_areas": null,
      "grid_template_columns": null,
      "grid_template_rows": null,
      "height": null,
      "justify_content": null,
      "justify_items": null,
      "left": null,
      "margin": null,
      "max_height": null,
      "max_width": null,
      "min_height": null,
      "min_width": null,
      "object_fit": null,
      "object_position": null,
      "order": null,
      "overflow": null,
      "overflow_x": null,
      "overflow_y": null,
      "padding": null,
      "right": null,
      "top": null,
      "visibility": null,
      "width": null
     }
    },
    "95877515a5aa44e29af56c68314e2932": {
     "model_module": "@jupyter-widgets/controls",
     "model_name": "ProgressStyleModel",
     "model_module_version": "1.5.0",
     "state": {
      "_model_module": "@jupyter-widgets/controls",
      "_model_module_version": "1.5.0",
      "_model_name": "ProgressStyleModel",
      "_view_count": null,
      "_view_module": "@jupyter-widgets/base",
      "_view_module_version": "1.2.0",
      "_view_name": "StyleView",
      "bar_color": null,
      "description_width": ""
     }
    },
    "ff2abcc0671847d7a552571d94b69f93": {
     "model_module": "@jupyter-widgets/base",
     "model_name": "LayoutModel",
     "model_module_version": "1.2.0",
     "state": {
      "_model_module": "@jupyter-widgets/base",
      "_model_module_version": "1.2.0",
      "_model_name": "LayoutModel",
      "_view_count": null,
      "_view_module": "@jupyter-widgets/base",
      "_view_module_version": "1.2.0",
      "_view_name": "LayoutView",
      "align_content": null,
      "align_items": null,
      "align_self": null,
      "border": null,
      "bottom": null,
      "display": null,
      "flex": null,
      "flex_flow": null,
      "grid_area": null,
      "grid_auto_columns": null,
      "grid_auto_flow": null,
      "grid_auto_rows": null,
      "grid_column": null,
      "grid_gap": null,
      "grid_row": null,
      "grid_template_areas": null,
      "grid_template_columns": null,
      "grid_template_rows": null,
      "height": null,
      "justify_content": null,
      "justify_items": null,
      "left": null,
      "margin": null,
      "max_height": null,
      "max_width": null,
      "min_height": null,
      "min_width": null,
      "object_fit": null,
      "object_position": null,
      "order": null,
      "overflow": null,
      "overflow_x": null,
      "overflow_y": null,
      "padding": null,
      "right": null,
      "top": null,
      "visibility": null,
      "width": null
     }
    },
    "ac15253f8dc141f4bc54f7c63ead067d": {
     "model_module": "@jupyter-widgets/controls",
     "model_name": "DescriptionStyleModel",
     "model_module_version": "1.5.0",
     "state": {
      "_model_module": "@jupyter-widgets/controls",
      "_model_module_version": "1.5.0",
      "_model_name": "DescriptionStyleModel",
      "_view_count": null,
      "_view_module": "@jupyter-widgets/base",
      "_view_module_version": "1.2.0",
      "_view_name": "StyleView",
      "description_width": ""
     }
    },
    "35b8e70a9817414f886c8deb67d1eb8b": {
     "model_module": "@jupyter-widgets/controls",
     "model_name": "HBoxModel",
     "model_module_version": "1.5.0",
     "state": {
      "_dom_classes": [],
      "_model_module": "@jupyter-widgets/controls",
      "_model_module_version": "1.5.0",
      "_model_name": "HBoxModel",
      "_view_count": null,
      "_view_module": "@jupyter-widgets/controls",
      "_view_module_version": "1.5.0",
      "_view_name": "HBoxView",
      "box_style": "",
      "children": [
       "IPY_MODEL_46993b3e833f425f947bc0987f54fd2d",
       "IPY_MODEL_a3488e4abe3d444ca37d3a52a507d80c",
       "IPY_MODEL_fecac2fac3da4030a22357fa69ff9574"
      ],
      "layout": "IPY_MODEL_80954da747d94fefa2d0840e794005be"
     }
    },
    "46993b3e833f425f947bc0987f54fd2d": {
     "model_module": "@jupyter-widgets/controls",
     "model_name": "HTMLModel",
     "model_module_version": "1.5.0",
     "state": {
      "_dom_classes": [],
      "_model_module": "@jupyter-widgets/controls",
      "_model_module_version": "1.5.0",
      "_model_name": "HTMLModel",
      "_view_count": null,
      "_view_module": "@jupyter-widgets/controls",
      "_view_module_version": "1.5.0",
      "_view_name": "HTMLView",
      "description": "",
      "description_tooltip": null,
      "layout": "IPY_MODEL_98ff1b527ab94e9686b0f6b1469c9507",
      "placeholder": "​",
      "style": "IPY_MODEL_607820ead3e546719ef69984ac9b48cb",
      "value": "Downloading: 100%"
     }
    },
    "a3488e4abe3d444ca37d3a52a507d80c": {
     "model_module": "@jupyter-widgets/controls",
     "model_name": "FloatProgressModel",
     "model_module_version": "1.5.0",
     "state": {
      "_dom_classes": [],
      "_model_module": "@jupyter-widgets/controls",
      "_model_module_version": "1.5.0",
      "_model_name": "FloatProgressModel",
      "_view_count": null,
      "_view_module": "@jupyter-widgets/controls",
      "_view_module_version": "1.5.0",
      "_view_name": "ProgressView",
      "bar_style": "success",
      "description": "",
      "description_tooltip": null,
      "layout": "IPY_MODEL_97b26774ccfb42d79065040d5acbb3dd",
      "max": 1347,
      "min": 0,
      "orientation": "horizontal",
      "style": "IPY_MODEL_d14e8160d4334c99ba9bfb61f778f0cc",
      "value": 1347
     }
    },
    "fecac2fac3da4030a22357fa69ff9574": {
     "model_module": "@jupyter-widgets/controls",
     "model_name": "HTMLModel",
     "model_module_version": "1.5.0",
     "state": {
      "_dom_classes": [],
      "_model_module": "@jupyter-widgets/controls",
      "_model_module_version": "1.5.0",
      "_model_name": "HTMLModel",
      "_view_count": null,
      "_view_module": "@jupyter-widgets/controls",
      "_view_module_version": "1.5.0",
      "_view_name": "HTMLView",
      "description": "",
      "description_tooltip": null,
      "layout": "IPY_MODEL_01166a6a42e64b9d840cb8e0af32e244",
      "placeholder": "​",
      "style": "IPY_MODEL_319aee15e51f4bd28d8643adc8b7ae3e",
      "value": " 1.35k/1.35k [00:00&lt;00:00, 9.94kB/s]"
     }
    },
    "80954da747d94fefa2d0840e794005be": {
     "model_module": "@jupyter-widgets/base",
     "model_name": "LayoutModel",
     "model_module_version": "1.2.0",
     "state": {
      "_model_module": "@jupyter-widgets/base",
      "_model_module_version": "1.2.0",
      "_model_name": "LayoutModel",
      "_view_count": null,
      "_view_module": "@jupyter-widgets/base",
      "_view_module_version": "1.2.0",
      "_view_name": "LayoutView",
      "align_content": null,
      "align_items": null,
      "align_self": null,
      "border": null,
      "bottom": null,
      "display": null,
      "flex": null,
      "flex_flow": null,
      "grid_area": null,
      "grid_auto_columns": null,
      "grid_auto_flow": null,
      "grid_auto_rows": null,
      "grid_column": null,
      "grid_gap": null,
      "grid_row": null,
      "grid_template_areas": null,
      "grid_template_columns": null,
      "grid_template_rows": null,
      "height": null,
      "justify_content": null,
      "justify_items": null,
      "left": null,
      "margin": null,
      "max_height": null,
      "max_width": null,
      "min_height": null,
      "min_width": null,
      "object_fit": null,
      "object_position": null,
      "order": null,
      "overflow": null,
      "overflow_x": null,
      "overflow_y": null,
      "padding": null,
      "right": null,
      "top": null,
      "visibility": null,
      "width": null
     }
    },
    "98ff1b527ab94e9686b0f6b1469c9507": {
     "model_module": "@jupyter-widgets/base",
     "model_name": "LayoutModel",
     "model_module_version": "1.2.0",
     "state": {
      "_model_module": "@jupyter-widgets/base",
      "_model_module_version": "1.2.0",
      "_model_name": "LayoutModel",
      "_view_count": null,
      "_view_module": "@jupyter-widgets/base",
      "_view_module_version": "1.2.0",
      "_view_name": "LayoutView",
      "align_content": null,
      "align_items": null,
      "align_self": null,
      "border": null,
      "bottom": null,
      "display": null,
      "flex": null,
      "flex_flow": null,
      "grid_area": null,
      "grid_auto_columns": null,
      "grid_auto_flow": null,
      "grid_auto_rows": null,
      "grid_column": null,
      "grid_gap": null,
      "grid_row": null,
      "grid_template_areas": null,
      "grid_template_columns": null,
      "grid_template_rows": null,
      "height": null,
      "justify_content": null,
      "justify_items": null,
      "left": null,
      "margin": null,
      "max_height": null,
      "max_width": null,
      "min_height": null,
      "min_width": null,
      "object_fit": null,
      "object_position": null,
      "order": null,
      "overflow": null,
      "overflow_x": null,
      "overflow_y": null,
      "padding": null,
      "right": null,
      "top": null,
      "visibility": null,
      "width": null
     }
    },
    "607820ead3e546719ef69984ac9b48cb": {
     "model_module": "@jupyter-widgets/controls",
     "model_name": "DescriptionStyleModel",
     "model_module_version": "1.5.0",
     "state": {
      "_model_module": "@jupyter-widgets/controls",
      "_model_module_version": "1.5.0",
      "_model_name": "DescriptionStyleModel",
      "_view_count": null,
      "_view_module": "@jupyter-widgets/base",
      "_view_module_version": "1.2.0",
      "_view_name": "StyleView",
      "description_width": ""
     }
    },
    "97b26774ccfb42d79065040d5acbb3dd": {
     "model_module": "@jupyter-widgets/base",
     "model_name": "LayoutModel",
     "model_module_version": "1.2.0",
     "state": {
      "_model_module": "@jupyter-widgets/base",
      "_model_module_version": "1.2.0",
      "_model_name": "LayoutModel",
      "_view_count": null,
      "_view_module": "@jupyter-widgets/base",
      "_view_module_version": "1.2.0",
      "_view_name": "LayoutView",
      "align_content": null,
      "align_items": null,
      "align_self": null,
      "border": null,
      "bottom": null,
      "display": null,
      "flex": null,
      "flex_flow": null,
      "grid_area": null,
      "grid_auto_columns": null,
      "grid_auto_flow": null,
      "grid_auto_rows": null,
      "grid_column": null,
      "grid_gap": null,
      "grid_row": null,
      "grid_template_areas": null,
      "grid_template_columns": null,
      "grid_template_rows": null,
      "height": null,
      "justify_content": null,
      "justify_items": null,
      "left": null,
      "margin": null,
      "max_height": null,
      "max_width": null,
      "min_height": null,
      "min_width": null,
      "object_fit": null,
      "object_position": null,
      "order": null,
      "overflow": null,
      "overflow_x": null,
      "overflow_y": null,
      "padding": null,
      "right": null,
      "top": null,
      "visibility": null,
      "width": null
     }
    },
    "d14e8160d4334c99ba9bfb61f778f0cc": {
     "model_module": "@jupyter-widgets/controls",
     "model_name": "ProgressStyleModel",
     "model_module_version": "1.5.0",
     "state": {
      "_model_module": "@jupyter-widgets/controls",
      "_model_module_version": "1.5.0",
      "_model_name": "ProgressStyleModel",
      "_view_count": null,
      "_view_module": "@jupyter-widgets/base",
      "_view_module_version": "1.2.0",
      "_view_name": "StyleView",
      "bar_color": null,
      "description_width": ""
     }
    },
    "01166a6a42e64b9d840cb8e0af32e244": {
     "model_module": "@jupyter-widgets/base",
     "model_name": "LayoutModel",
     "model_module_version": "1.2.0",
     "state": {
      "_model_module": "@jupyter-widgets/base",
      "_model_module_version": "1.2.0",
      "_model_name": "LayoutModel",
      "_view_count": null,
      "_view_module": "@jupyter-widgets/base",
      "_view_module_version": "1.2.0",
      "_view_name": "LayoutView",
      "align_content": null,
      "align_items": null,
      "align_self": null,
      "border": null,
      "bottom": null,
      "display": null,
      "flex": null,
      "flex_flow": null,
      "grid_area": null,
      "grid_auto_columns": null,
      "grid_auto_flow": null,
      "grid_auto_rows": null,
      "grid_column": null,
      "grid_gap": null,
      "grid_row": null,
      "grid_template_areas": null,
      "grid_template_columns": null,
      "grid_template_rows": null,
      "height": null,
      "justify_content": null,
      "justify_items": null,
      "left": null,
      "margin": null,
      "max_height": null,
      "max_width": null,
      "min_height": null,
      "min_width": null,
      "object_fit": null,
      "object_position": null,
      "order": null,
      "overflow": null,
      "overflow_x": null,
      "overflow_y": null,
      "padding": null,
      "right": null,
      "top": null,
      "visibility": null,
      "width": null
     }
    },
    "319aee15e51f4bd28d8643adc8b7ae3e": {
     "model_module": "@jupyter-widgets/controls",
     "model_name": "DescriptionStyleModel",
     "model_module_version": "1.5.0",
     "state": {
      "_model_module": "@jupyter-widgets/controls",
      "_model_module_version": "1.5.0",
      "_model_name": "DescriptionStyleModel",
      "_view_count": null,
      "_view_module": "@jupyter-widgets/base",
      "_view_module_version": "1.2.0",
      "_view_name": "StyleView",
      "description_width": ""
     }
    },
    "af11425146524f5fab5083488df81ddf": {
     "model_module": "@jupyter-widgets/controls",
     "model_name": "HBoxModel",
     "model_module_version": "1.5.0",
     "state": {
      "_dom_classes": [],
      "_model_module": "@jupyter-widgets/controls",
      "_model_module_version": "1.5.0",
      "_model_name": "HBoxModel",
      "_view_count": null,
      "_view_module": "@jupyter-widgets/controls",
      "_view_module_version": "1.5.0",
      "_view_name": "HBoxView",
      "box_style": "",
      "children": [
       "IPY_MODEL_5409042a72c644538c5afd242e2d5975",
       "IPY_MODEL_d81c708c404e430393a474c2a353aca3",
       "IPY_MODEL_ed47fc78b0c54ed3811f3910f0969ce1"
      ],
      "layout": "IPY_MODEL_088debb2043748e4b4eea98e38dd420d"
     }
    },
    "5409042a72c644538c5afd242e2d5975": {
     "model_module": "@jupyter-widgets/controls",
     "model_name": "HTMLModel",
     "model_module_version": "1.5.0",
     "state": {
      "_dom_classes": [],
      "_model_module": "@jupyter-widgets/controls",
      "_model_module_version": "1.5.0",
      "_model_name": "HTMLModel",
      "_view_count": null,
      "_view_module": "@jupyter-widgets/controls",
      "_view_module_version": "1.5.0",
      "_view_name": "HTMLView",
      "description": "",
      "description_tooltip": null,
      "layout": "IPY_MODEL_b434b9de17f5456a8b80b9ea10fd2a8b",
      "placeholder": "​",
      "style": "IPY_MODEL_1cadec9556bd4764a8f7853db27f844d",
      "value": "Downloading: 100%"
     }
    },
    "d81c708c404e430393a474c2a353aca3": {
     "model_module": "@jupyter-widgets/controls",
     "model_name": "FloatProgressModel",
     "model_module_version": "1.5.0",
     "state": {
      "_dom_classes": [],
      "_model_module": "@jupyter-widgets/controls",
      "_model_module_version": "1.5.0",
      "_model_name": "FloatProgressModel",
      "_view_count": null,
      "_view_module": "@jupyter-widgets/controls",
      "_view_module_version": "1.5.0",
      "_view_name": "ProgressView",
      "bar_style": "success",
      "description": "",
      "description_tooltip": null,
      "layout": "IPY_MODEL_3de1799ba7fb460cab978189bdad5f4f",
      "max": 798156,
      "min": 0,
      "orientation": "horizontal",
      "style": "IPY_MODEL_761589eb26d74d9b9b0740bab92d465f",
      "value": 798156
     }
    },
    "ed47fc78b0c54ed3811f3910f0969ce1": {
     "model_module": "@jupyter-widgets/controls",
     "model_name": "HTMLModel",
     "model_module_version": "1.5.0",
     "state": {
      "_dom_classes": [],
      "_model_module": "@jupyter-widgets/controls",
      "_model_module_version": "1.5.0",
      "_model_name": "HTMLModel",
      "_view_count": null,
      "_view_module": "@jupyter-widgets/controls",
      "_view_module_version": "1.5.0",
      "_view_name": "HTMLView",
      "description": "",
      "description_tooltip": null,
      "layout": "IPY_MODEL_5671e8d3d087499eb0b9a562551b194a",
      "placeholder": "​",
      "style": "IPY_MODEL_86e42af1fdfe4e87830f31afebda6494",
      "value": " 798k/798k [00:01&lt;00:00, 864kB/s]"
     }
    },
    "088debb2043748e4b4eea98e38dd420d": {
     "model_module": "@jupyter-widgets/base",
     "model_name": "LayoutModel",
     "model_module_version": "1.2.0",
     "state": {
      "_model_module": "@jupyter-widgets/base",
      "_model_module_version": "1.2.0",
      "_model_name": "LayoutModel",
      "_view_count": null,
      "_view_module": "@jupyter-widgets/base",
      "_view_module_version": "1.2.0",
      "_view_name": "LayoutView",
      "align_content": null,
      "align_items": null,
      "align_self": null,
      "border": null,
      "bottom": null,
      "display": null,
      "flex": null,
      "flex_flow": null,
      "grid_area": null,
      "grid_auto_columns": null,
      "grid_auto_flow": null,
      "grid_auto_rows": null,
      "grid_column": null,
      "grid_gap": null,
      "grid_row": null,
      "grid_template_areas": null,
      "grid_template_columns": null,
      "grid_template_rows": null,
      "height": null,
      "justify_content": null,
      "justify_items": null,
      "left": null,
      "margin": null,
      "max_height": null,
      "max_width": null,
      "min_height": null,
      "min_width": null,
      "object_fit": null,
      "object_position": null,
      "order": null,
      "overflow": null,
      "overflow_x": null,
      "overflow_y": null,
      "padding": null,
      "right": null,
      "top": null,
      "visibility": null,
      "width": null
     }
    },
    "b434b9de17f5456a8b80b9ea10fd2a8b": {
     "model_module": "@jupyter-widgets/base",
     "model_name": "LayoutModel",
     "model_module_version": "1.2.0",
     "state": {
      "_model_module": "@jupyter-widgets/base",
      "_model_module_version": "1.2.0",
      "_model_name": "LayoutModel",
      "_view_count": null,
      "_view_module": "@jupyter-widgets/base",
      "_view_module_version": "1.2.0",
      "_view_name": "LayoutView",
      "align_content": null,
      "align_items": null,
      "align_self": null,
      "border": null,
      "bottom": null,
      "display": null,
      "flex": null,
      "flex_flow": null,
      "grid_area": null,
      "grid_auto_columns": null,
      "grid_auto_flow": null,
      "grid_auto_rows": null,
      "grid_column": null,
      "grid_gap": null,
      "grid_row": null,
      "grid_template_areas": null,
      "grid_template_columns": null,
      "grid_template_rows": null,
      "height": null,
      "justify_content": null,
      "justify_items": null,
      "left": null,
      "margin": null,
      "max_height": null,
      "max_width": null,
      "min_height": null,
      "min_width": null,
      "object_fit": null,
      "object_position": null,
      "order": null,
      "overflow": null,
      "overflow_x": null,
      "overflow_y": null,
      "padding": null,
      "right": null,
      "top": null,
      "visibility": null,
      "width": null
     }
    },
    "1cadec9556bd4764a8f7853db27f844d": {
     "model_module": "@jupyter-widgets/controls",
     "model_name": "DescriptionStyleModel",
     "model_module_version": "1.5.0",
     "state": {
      "_model_module": "@jupyter-widgets/controls",
      "_model_module_version": "1.5.0",
      "_model_name": "DescriptionStyleModel",
      "_view_count": null,
      "_view_module": "@jupyter-widgets/base",
      "_view_module_version": "1.2.0",
      "_view_name": "StyleView",
      "description_width": ""
     }
    },
    "3de1799ba7fb460cab978189bdad5f4f": {
     "model_module": "@jupyter-widgets/base",
     "model_name": "LayoutModel",
     "model_module_version": "1.2.0",
     "state": {
      "_model_module": "@jupyter-widgets/base",
      "_model_module_version": "1.2.0",
      "_model_name": "LayoutModel",
      "_view_count": null,
      "_view_module": "@jupyter-widgets/base",
      "_view_module_version": "1.2.0",
      "_view_name": "LayoutView",
      "align_content": null,
      "align_items": null,
      "align_self": null,
      "border": null,
      "bottom": null,
      "display": null,
      "flex": null,
      "flex_flow": null,
      "grid_area": null,
      "grid_auto_columns": null,
      "grid_auto_flow": null,
      "grid_auto_rows": null,
      "grid_column": null,
      "grid_gap": null,
      "grid_row": null,
      "grid_template_areas": null,
      "grid_template_columns": null,
      "grid_template_rows": null,
      "height": null,
      "justify_content": null,
      "justify_items": null,
      "left": null,
      "margin": null,
      "max_height": null,
      "max_width": null,
      "min_height": null,
      "min_width": null,
      "object_fit": null,
      "object_position": null,
      "order": null,
      "overflow": null,
      "overflow_x": null,
      "overflow_y": null,
      "padding": null,
      "right": null,
      "top": null,
      "visibility": null,
      "width": null
     }
    },
    "761589eb26d74d9b9b0740bab92d465f": {
     "model_module": "@jupyter-widgets/controls",
     "model_name": "ProgressStyleModel",
     "model_module_version": "1.5.0",
     "state": {
      "_model_module": "@jupyter-widgets/controls",
      "_model_module_version": "1.5.0",
      "_model_name": "ProgressStyleModel",
      "_view_count": null,
      "_view_module": "@jupyter-widgets/base",
      "_view_module_version": "1.2.0",
      "_view_name": "StyleView",
      "bar_color": null,
      "description_width": ""
     }
    },
    "5671e8d3d087499eb0b9a562551b194a": {
     "model_module": "@jupyter-widgets/base",
     "model_name": "LayoutModel",
     "model_module_version": "1.2.0",
     "state": {
      "_model_module": "@jupyter-widgets/base",
      "_model_module_version": "1.2.0",
      "_model_name": "LayoutModel",
      "_view_count": null,
      "_view_module": "@jupyter-widgets/base",
      "_view_module_version": "1.2.0",
      "_view_name": "LayoutView",
      "align_content": null,
      "align_items": null,
      "align_self": null,
      "border": null,
      "bottom": null,
      "display": null,
      "flex": null,
      "flex_flow": null,
      "grid_area": null,
      "grid_auto_columns": null,
      "grid_auto_flow": null,
      "grid_auto_rows": null,
      "grid_column": null,
      "grid_gap": null,
      "grid_row": null,
      "grid_template_areas": null,
      "grid_template_columns": null,
      "grid_template_rows": null,
      "height": null,
      "justify_content": null,
      "justify_items": null,
      "left": null,
      "margin": null,
      "max_height": null,
      "max_width": null,
      "min_height": null,
      "min_width": null,
      "object_fit": null,
      "object_position": null,
      "order": null,
      "overflow": null,
      "overflow_x": null,
      "overflow_y": null,
      "padding": null,
      "right": null,
      "top": null,
      "visibility": null,
      "width": null
     }
    },
    "86e42af1fdfe4e87830f31afebda6494": {
     "model_module": "@jupyter-widgets/controls",
     "model_name": "DescriptionStyleModel",
     "model_module_version": "1.5.0",
     "state": {
      "_model_module": "@jupyter-widgets/controls",
      "_model_module_version": "1.5.0",
      "_model_name": "DescriptionStyleModel",
      "_view_count": null,
      "_view_module": "@jupyter-widgets/base",
      "_view_module_version": "1.2.0",
      "_view_name": "StyleView",
      "description_width": ""
     }
    },
    "33bfb8506d844e588c54db55fecb30ad": {
     "model_module": "@jupyter-widgets/controls",
     "model_name": "HBoxModel",
     "model_module_version": "1.5.0",
     "state": {
      "_dom_classes": [],
      "_model_module": "@jupyter-widgets/controls",
      "_model_module_version": "1.5.0",
      "_model_name": "HBoxModel",
      "_view_count": null,
      "_view_module": "@jupyter-widgets/controls",
      "_view_module_version": "1.5.0",
      "_view_name": "HBoxView",
      "box_style": "",
      "children": [
       "IPY_MODEL_d39c680b0eb744bc8576d63c8a5e9d80",
       "IPY_MODEL_2eabe398b4b04c1c84d481345711eb12",
       "IPY_MODEL_17b21df7b80344d9b801db0036058417"
      ],
      "layout": "IPY_MODEL_cd9b6988092346dfbd241acd2c057157"
     }
    },
    "d39c680b0eb744bc8576d63c8a5e9d80": {
     "model_module": "@jupyter-widgets/controls",
     "model_name": "HTMLModel",
     "model_module_version": "1.5.0",
     "state": {
      "_dom_classes": [],
      "_model_module": "@jupyter-widgets/controls",
      "_model_module_version": "1.5.0",
      "_model_name": "HTMLModel",
      "_view_count": null,
      "_view_module": "@jupyter-widgets/controls",
      "_view_module_version": "1.5.0",
      "_view_name": "HTMLView",
      "description": "",
      "description_tooltip": null,
      "layout": "IPY_MODEL_dd44a0c614b9485ab3644df042345d95",
      "placeholder": "​",
      "style": "IPY_MODEL_17b131e9581d49ed931341332a4b8df5",
      "value": "Downloading: 100%"
     }
    },
    "2eabe398b4b04c1c84d481345711eb12": {
     "model_module": "@jupyter-widgets/controls",
     "model_name": "FloatProgressModel",
     "model_module_version": "1.5.0",
     "state": {
      "_dom_classes": [],
      "_model_module": "@jupyter-widgets/controls",
      "_model_module_version": "1.5.0",
      "_model_name": "FloatProgressModel",
      "_view_count": null,
      "_view_module": "@jupyter-widgets/controls",
      "_view_module_version": "1.5.0",
      "_view_name": "ProgressView",
      "bar_style": "success",
      "description": "",
      "description_tooltip": null,
      "layout": "IPY_MODEL_de6b72f50ff140be8a8e8640eef108ef",
      "max": 456356,
      "min": 0,
      "orientation": "horizontal",
      "style": "IPY_MODEL_b6fce396b10943768e548702e1b108d8",
      "value": 456356
     }
    },
    "17b21df7b80344d9b801db0036058417": {
     "model_module": "@jupyter-widgets/controls",
     "model_name": "HTMLModel",
     "model_module_version": "1.5.0",
     "state": {
      "_dom_classes": [],
      "_model_module": "@jupyter-widgets/controls",
      "_model_module_version": "1.5.0",
      "_model_name": "HTMLModel",
      "_view_count": null,
      "_view_module": "@jupyter-widgets/controls",
      "_view_module_version": "1.5.0",
      "_view_name": "HTMLView",
      "description": "",
      "description_tooltip": null,
      "layout": "IPY_MODEL_36468f4c3086402ea2a5c4ace5bf2fed",
      "placeholder": "​",
      "style": "IPY_MODEL_5c9270afc7a747c690ce09738d8ef949",
      "value": " 456k/456k [00:01&lt;00:00, 420kB/s]"
     }
    },
    "cd9b6988092346dfbd241acd2c057157": {
     "model_module": "@jupyter-widgets/base",
     "model_name": "LayoutModel",
     "model_module_version": "1.2.0",
     "state": {
      "_model_module": "@jupyter-widgets/base",
      "_model_module_version": "1.2.0",
      "_model_name": "LayoutModel",
      "_view_count": null,
      "_view_module": "@jupyter-widgets/base",
      "_view_module_version": "1.2.0",
      "_view_name": "LayoutView",
      "align_content": null,
      "align_items": null,
      "align_self": null,
      "border": null,
      "bottom": null,
      "display": null,
      "flex": null,
      "flex_flow": null,
      "grid_area": null,
      "grid_auto_columns": null,
      "grid_auto_flow": null,
      "grid_auto_rows": null,
      "grid_column": null,
      "grid_gap": null,
      "grid_row": null,
      "grid_template_areas": null,
      "grid_template_columns": null,
      "grid_template_rows": null,
      "height": null,
      "justify_content": null,
      "justify_items": null,
      "left": null,
      "margin": null,
      "max_height": null,
      "max_width": null,
      "min_height": null,
      "min_width": null,
      "object_fit": null,
      "object_position": null,
      "order": null,
      "overflow": null,
      "overflow_x": null,
      "overflow_y": null,
      "padding": null,
      "right": null,
      "top": null,
      "visibility": null,
      "width": null
     }
    },
    "dd44a0c614b9485ab3644df042345d95": {
     "model_module": "@jupyter-widgets/base",
     "model_name": "LayoutModel",
     "model_module_version": "1.2.0",
     "state": {
      "_model_module": "@jupyter-widgets/base",
      "_model_module_version": "1.2.0",
      "_model_name": "LayoutModel",
      "_view_count": null,
      "_view_module": "@jupyter-widgets/base",
      "_view_module_version": "1.2.0",
      "_view_name": "LayoutView",
      "align_content": null,
      "align_items": null,
      "align_self": null,
      "border": null,
      "bottom": null,
      "display": null,
      "flex": null,
      "flex_flow": null,
      "grid_area": null,
      "grid_auto_columns": null,
      "grid_auto_flow": null,
      "grid_auto_rows": null,
      "grid_column": null,
      "grid_gap": null,
      "grid_row": null,
      "grid_template_areas": null,
      "grid_template_columns": null,
      "grid_template_rows": null,
      "height": null,
      "justify_content": null,
      "justify_items": null,
      "left": null,
      "margin": null,
      "max_height": null,
      "max_width": null,
      "min_height": null,
      "min_width": null,
      "object_fit": null,
      "object_position": null,
      "order": null,
      "overflow": null,
      "overflow_x": null,
      "overflow_y": null,
      "padding": null,
      "right": null,
      "top": null,
      "visibility": null,
      "width": null
     }
    },
    "17b131e9581d49ed931341332a4b8df5": {
     "model_module": "@jupyter-widgets/controls",
     "model_name": "DescriptionStyleModel",
     "model_module_version": "1.5.0",
     "state": {
      "_model_module": "@jupyter-widgets/controls",
      "_model_module_version": "1.5.0",
      "_model_name": "DescriptionStyleModel",
      "_view_count": null,
      "_view_module": "@jupyter-widgets/base",
      "_view_module_version": "1.2.0",
      "_view_name": "StyleView",
      "description_width": ""
     }
    },
    "de6b72f50ff140be8a8e8640eef108ef": {
     "model_module": "@jupyter-widgets/base",
     "model_name": "LayoutModel",
     "model_module_version": "1.2.0",
     "state": {
      "_model_module": "@jupyter-widgets/base",
      "_model_module_version": "1.2.0",
      "_model_name": "LayoutModel",
      "_view_count": null,
      "_view_module": "@jupyter-widgets/base",
      "_view_module_version": "1.2.0",
      "_view_name": "LayoutView",
      "align_content": null,
      "align_items": null,
      "align_self": null,
      "border": null,
      "bottom": null,
      "display": null,
      "flex": null,
      "flex_flow": null,
      "grid_area": null,
      "grid_auto_columns": null,
      "grid_auto_flow": null,
      "grid_auto_rows": null,
      "grid_column": null,
      "grid_gap": null,
      "grid_row": null,
      "grid_template_areas": null,
      "grid_template_columns": null,
      "grid_template_rows": null,
      "height": null,
      "justify_content": null,
      "justify_items": null,
      "left": null,
      "margin": null,
      "max_height": null,
      "max_width": null,
      "min_height": null,
      "min_width": null,
      "object_fit": null,
      "object_position": null,
      "order": null,
      "overflow": null,
      "overflow_x": null,
      "overflow_y": null,
      "padding": null,
      "right": null,
      "top": null,
      "visibility": null,
      "width": null
     }
    },
    "b6fce396b10943768e548702e1b108d8": {
     "model_module": "@jupyter-widgets/controls",
     "model_name": "ProgressStyleModel",
     "model_module_version": "1.5.0",
     "state": {
      "_model_module": "@jupyter-widgets/controls",
      "_model_module_version": "1.5.0",
      "_model_name": "ProgressStyleModel",
      "_view_count": null,
      "_view_module": "@jupyter-widgets/base",
      "_view_module_version": "1.2.0",
      "_view_name": "StyleView",
      "bar_color": null,
      "description_width": ""
     }
    },
    "36468f4c3086402ea2a5c4ace5bf2fed": {
     "model_module": "@jupyter-widgets/base",
     "model_name": "LayoutModel",
     "model_module_version": "1.2.0",
     "state": {
      "_model_module": "@jupyter-widgets/base",
      "_model_module_version": "1.2.0",
      "_model_name": "LayoutModel",
      "_view_count": null,
      "_view_module": "@jupyter-widgets/base",
      "_view_module_version": "1.2.0",
      "_view_name": "LayoutView",
      "align_content": null,
      "align_items": null,
      "align_self": null,
      "border": null,
      "bottom": null,
      "display": null,
      "flex": null,
      "flex_flow": null,
      "grid_area": null,
      "grid_auto_columns": null,
      "grid_auto_flow": null,
      "grid_auto_rows": null,
      "grid_column": null,
      "grid_gap": null,
      "grid_row": null,
      "grid_template_areas": null,
      "grid_template_columns": null,
      "grid_template_rows": null,
      "height": null,
      "justify_content": null,
      "justify_items": null,
      "left": null,
      "margin": null,
      "max_height": null,
      "max_width": null,
      "min_height": null,
      "min_width": null,
      "object_fit": null,
      "object_position": null,
      "order": null,
      "overflow": null,
      "overflow_x": null,
      "overflow_y": null,
      "padding": null,
      "right": null,
      "top": null,
      "visibility": null,
      "width": null
     }
    },
    "5c9270afc7a747c690ce09738d8ef949": {
     "model_module": "@jupyter-widgets/controls",
     "model_name": "DescriptionStyleModel",
     "model_module_version": "1.5.0",
     "state": {
      "_model_module": "@jupyter-widgets/controls",
      "_model_module_version": "1.5.0",
      "_model_name": "DescriptionStyleModel",
      "_view_count": null,
      "_view_module": "@jupyter-widgets/base",
      "_view_module_version": "1.2.0",
      "_view_name": "StyleView",
      "description_width": ""
     }
    },
    "52315067e3834be39f6f79866f193b97": {
     "model_module": "@jupyter-widgets/controls",
     "model_name": "HBoxModel",
     "model_module_version": "1.5.0",
     "state": {
      "_dom_classes": [],
      "_model_module": "@jupyter-widgets/controls",
      "_model_module_version": "1.5.0",
      "_model_name": "HBoxModel",
      "_view_count": null,
      "_view_module": "@jupyter-widgets/controls",
      "_view_module_version": "1.5.0",
      "_view_name": "HBoxView",
      "box_style": "",
      "children": [
       "IPY_MODEL_15c2831a21cd488895ef8c4b46db327e",
       "IPY_MODEL_da8d679f29874d0ebc4a17d65104db29",
       "IPY_MODEL_7b92d4c48f5c4c309c036a7c349c9b24"
      ],
      "layout": "IPY_MODEL_cb02762fe47241a8822d8fb50b957c73"
     }
    },
    "15c2831a21cd488895ef8c4b46db327e": {
     "model_module": "@jupyter-widgets/controls",
     "model_name": "HTMLModel",
     "model_module_version": "1.5.0",
     "state": {
      "_dom_classes": [],
      "_model_module": "@jupyter-widgets/controls",
      "_model_module_version": "1.5.0",
      "_model_name": "HTMLModel",
      "_view_count": null,
      "_view_module": "@jupyter-widgets/controls",
      "_view_module_version": "1.5.0",
      "_view_name": "HTMLView",
      "description": "",
      "description_tooltip": null,
      "layout": "IPY_MODEL_a8c13eda91d1431d9b03389e31e967e8",
      "placeholder": "​",
      "style": "IPY_MODEL_a39a1be2f8e74e21afad32361b2a4cff",
      "value": "Downloading: 100%"
     }
    },
    "da8d679f29874d0ebc4a17d65104db29": {
     "model_module": "@jupyter-widgets/controls",
     "model_name": "FloatProgressModel",
     "model_module_version": "1.5.0",
     "state": {
      "_dom_classes": [],
      "_model_module": "@jupyter-widgets/controls",
      "_model_module_version": "1.5.0",
      "_model_name": "FloatProgressModel",
      "_view_count": null,
      "_view_module": "@jupyter-widgets/controls",
      "_view_module_version": "1.5.0",
      "_view_name": "ProgressView",
      "bar_style": "success",
      "description": "",
      "description_tooltip": null,
      "layout": "IPY_MODEL_e2e3785e85b6472f8a8dfd84e3273ba2",
      "max": 90,
      "min": 0,
      "orientation": "horizontal",
      "style": "IPY_MODEL_44fb94afa6ff48c69b2ee8e4d483151b",
      "value": 90
     }
    },
    "7b92d4c48f5c4c309c036a7c349c9b24": {
     "model_module": "@jupyter-widgets/controls",
     "model_name": "HTMLModel",
     "model_module_version": "1.5.0",
     "state": {
      "_dom_classes": [],
      "_model_module": "@jupyter-widgets/controls",
      "_model_module_version": "1.5.0",
      "_model_name": "HTMLModel",
      "_view_count": null,
      "_view_module": "@jupyter-widgets/controls",
      "_view_module_version": "1.5.0",
      "_view_name": "HTMLView",
      "description": "",
      "description_tooltip": null,
      "layout": "IPY_MODEL_4d4337261b174a459ef52d79b1fc1f96",
      "placeholder": "​",
      "style": "IPY_MODEL_30cf4a81213942abb98539c3c2697653",
      "value": " 90.0/90.0 [00:00&lt;00:00, 2.68kB/s]"
     }
    },
    "cb02762fe47241a8822d8fb50b957c73": {
     "model_module": "@jupyter-widgets/base",
     "model_name": "LayoutModel",
     "model_module_version": "1.2.0",
     "state": {
      "_model_module": "@jupyter-widgets/base",
      "_model_module_version": "1.2.0",
      "_model_name": "LayoutModel",
      "_view_count": null,
      "_view_module": "@jupyter-widgets/base",
      "_view_module_version": "1.2.0",
      "_view_name": "LayoutView",
      "align_content": null,
      "align_items": null,
      "align_self": null,
      "border": null,
      "bottom": null,
      "display": null,
      "flex": null,
      "flex_flow": null,
      "grid_area": null,
      "grid_auto_columns": null,
      "grid_auto_flow": null,
      "grid_auto_rows": null,
      "grid_column": null,
      "grid_gap": null,
      "grid_row": null,
      "grid_template_areas": null,
      "grid_template_columns": null,
      "grid_template_rows": null,
      "height": null,
      "justify_content": null,
      "justify_items": null,
      "left": null,
      "margin": null,
      "max_height": null,
      "max_width": null,
      "min_height": null,
      "min_width": null,
      "object_fit": null,
      "object_position": null,
      "order": null,
      "overflow": null,
      "overflow_x": null,
      "overflow_y": null,
      "padding": null,
      "right": null,
      "top": null,
      "visibility": null,
      "width": null
     }
    },
    "a8c13eda91d1431d9b03389e31e967e8": {
     "model_module": "@jupyter-widgets/base",
     "model_name": "LayoutModel",
     "model_module_version": "1.2.0",
     "state": {
      "_model_module": "@jupyter-widgets/base",
      "_model_module_version": "1.2.0",
      "_model_name": "LayoutModel",
      "_view_count": null,
      "_view_module": "@jupyter-widgets/base",
      "_view_module_version": "1.2.0",
      "_view_name": "LayoutView",
      "align_content": null,
      "align_items": null,
      "align_self": null,
      "border": null,
      "bottom": null,
      "display": null,
      "flex": null,
      "flex_flow": null,
      "grid_area": null,
      "grid_auto_columns": null,
      "grid_auto_flow": null,
      "grid_auto_rows": null,
      "grid_column": null,
      "grid_gap": null,
      "grid_row": null,
      "grid_template_areas": null,
      "grid_template_columns": null,
      "grid_template_rows": null,
      "height": null,
      "justify_content": null,
      "justify_items": null,
      "left": null,
      "margin": null,
      "max_height": null,
      "max_width": null,
      "min_height": null,
      "min_width": null,
      "object_fit": null,
      "object_position": null,
      "order": null,
      "overflow": null,
      "overflow_x": null,
      "overflow_y": null,
      "padding": null,
      "right": null,
      "top": null,
      "visibility": null,
      "width": null
     }
    },
    "a39a1be2f8e74e21afad32361b2a4cff": {
     "model_module": "@jupyter-widgets/controls",
     "model_name": "DescriptionStyleModel",
     "model_module_version": "1.5.0",
     "state": {
      "_model_module": "@jupyter-widgets/controls",
      "_model_module_version": "1.5.0",
      "_model_name": "DescriptionStyleModel",
      "_view_count": null,
      "_view_module": "@jupyter-widgets/base",
      "_view_module_version": "1.2.0",
      "_view_name": "StyleView",
      "description_width": ""
     }
    },
    "e2e3785e85b6472f8a8dfd84e3273ba2": {
     "model_module": "@jupyter-widgets/base",
     "model_name": "LayoutModel",
     "model_module_version": "1.2.0",
     "state": {
      "_model_module": "@jupyter-widgets/base",
      "_model_module_version": "1.2.0",
      "_model_name": "LayoutModel",
      "_view_count": null,
      "_view_module": "@jupyter-widgets/base",
      "_view_module_version": "1.2.0",
      "_view_name": "LayoutView",
      "align_content": null,
      "align_items": null,
      "align_self": null,
      "border": null,
      "bottom": null,
      "display": null,
      "flex": null,
      "flex_flow": null,
      "grid_area": null,
      "grid_auto_columns": null,
      "grid_auto_flow": null,
      "grid_auto_rows": null,
      "grid_column": null,
      "grid_gap": null,
      "grid_row": null,
      "grid_template_areas": null,
      "grid_template_columns": null,
      "grid_template_rows": null,
      "height": null,
      "justify_content": null,
      "justify_items": null,
      "left": null,
      "margin": null,
      "max_height": null,
      "max_width": null,
      "min_height": null,
      "min_width": null,
      "object_fit": null,
      "object_position": null,
      "order": null,
      "overflow": null,
      "overflow_x": null,
      "overflow_y": null,
      "padding": null,
      "right": null,
      "top": null,
      "visibility": null,
      "width": null
     }
    },
    "44fb94afa6ff48c69b2ee8e4d483151b": {
     "model_module": "@jupyter-widgets/controls",
     "model_name": "ProgressStyleModel",
     "model_module_version": "1.5.0",
     "state": {
      "_model_module": "@jupyter-widgets/controls",
      "_model_module_version": "1.5.0",
      "_model_name": "ProgressStyleModel",
      "_view_count": null,
      "_view_module": "@jupyter-widgets/base",
      "_view_module_version": "1.2.0",
      "_view_name": "StyleView",
      "bar_color": null,
      "description_width": ""
     }
    },
    "4d4337261b174a459ef52d79b1fc1f96": {
     "model_module": "@jupyter-widgets/base",
     "model_name": "LayoutModel",
     "model_module_version": "1.2.0",
     "state": {
      "_model_module": "@jupyter-widgets/base",
      "_model_module_version": "1.2.0",
      "_model_name": "LayoutModel",
      "_view_count": null,
      "_view_module": "@jupyter-widgets/base",
      "_view_module_version": "1.2.0",
      "_view_name": "LayoutView",
      "align_content": null,
      "align_items": null,
      "align_self": null,
      "border": null,
      "bottom": null,
      "display": null,
      "flex": null,
      "flex_flow": null,
      "grid_area": null,
      "grid_auto_columns": null,
      "grid_auto_flow": null,
      "grid_auto_rows": null,
      "grid_column": null,
      "grid_gap": null,
      "grid_row": null,
      "grid_template_areas": null,
      "grid_template_columns": null,
      "grid_template_rows": null,
      "height": null,
      "justify_content": null,
      "justify_items": null,
      "left": null,
      "margin": null,
      "max_height": null,
      "max_width": null,
      "min_height": null,
      "min_width": null,
      "object_fit": null,
      "object_position": null,
      "order": null,
      "overflow": null,
      "overflow_x": null,
      "overflow_y": null,
      "padding": null,
      "right": null,
      "top": null,
      "visibility": null,
      "width": null
     }
    },
    "30cf4a81213942abb98539c3c2697653": {
     "model_module": "@jupyter-widgets/controls",
     "model_name": "DescriptionStyleModel",
     "model_module_version": "1.5.0",
     "state": {
      "_model_module": "@jupyter-widgets/controls",
      "_model_module_version": "1.5.0",
      "_model_name": "DescriptionStyleModel",
      "_view_count": null,
      "_view_module": "@jupyter-widgets/base",
      "_view_module_version": "1.2.0",
      "_view_name": "StyleView",
      "description_width": ""
     }
    },
    "e36731a57cf24ec5b36b663e343e4e09": {
     "model_module": "@jupyter-widgets/controls",
     "model_name": "HBoxModel",
     "model_module_version": "1.5.0",
     "state": {
      "_dom_classes": [],
      "_model_module": "@jupyter-widgets/controls",
      "_model_module_version": "1.5.0",
      "_model_name": "HBoxModel",
      "_view_count": null,
      "_view_module": "@jupyter-widgets/controls",
      "_view_module_version": "1.5.0",
      "_view_name": "HBoxView",
      "box_style": "",
      "children": [
       "IPY_MODEL_3037eb4d5f0a403581313822b2195947",
       "IPY_MODEL_5112ec1562534168b84c74abd7c3db6f",
       "IPY_MODEL_1403c08666c444ed82c97e4f5a52aca4"
      ],
      "layout": "IPY_MODEL_9a80f4ef0ad34bba9c3c6c0dc2e08311"
     }
    },
    "3037eb4d5f0a403581313822b2195947": {
     "model_module": "@jupyter-widgets/controls",
     "model_name": "HTMLModel",
     "model_module_version": "1.5.0",
     "state": {
      "_dom_classes": [],
      "_model_module": "@jupyter-widgets/controls",
      "_model_module_version": "1.5.0",
      "_model_name": "HTMLModel",
      "_view_count": null,
      "_view_module": "@jupyter-widgets/controls",
      "_view_module_version": "1.5.0",
      "_view_name": "HTMLView",
      "description": "",
      "description_tooltip": null,
      "layout": "IPY_MODEL_f77980caddc1401fae0c4673e23dce90",
      "placeholder": "​",
      "style": "IPY_MODEL_65d9a4217e59452cbd0b379b42e2f491",
      "value": "Skipping the first batches: "
     }
    },
    "5112ec1562534168b84c74abd7c3db6f": {
     "model_module": "@jupyter-widgets/controls",
     "model_name": "FloatProgressModel",
     "model_module_version": "1.5.0",
     "state": {
      "_dom_classes": [],
      "_model_module": "@jupyter-widgets/controls",
      "_model_module_version": "1.5.0",
      "_model_name": "FloatProgressModel",
      "_view_count": null,
      "_view_module": "@jupyter-widgets/controls",
      "_view_module_version": "1.5.0",
      "_view_name": "ProgressView",
      "bar_style": "success",
      "description": "",
      "description_tooltip": null,
      "layout": "IPY_MODEL_2fe80012e3434f91bab49ea964cfdfd3",
      "max": 1,
      "min": 0,
      "orientation": "horizontal",
      "style": "IPY_MODEL_b3ced7c2f8ea4df4bb13ec521c12787d",
      "value": 0
     }
    },
    "1403c08666c444ed82c97e4f5a52aca4": {
     "model_module": "@jupyter-widgets/controls",
     "model_name": "HTMLModel",
     "model_module_version": "1.5.0",
     "state": {
      "_dom_classes": [],
      "_model_module": "@jupyter-widgets/controls",
      "_model_module_version": "1.5.0",
      "_model_name": "HTMLModel",
      "_view_count": null,
      "_view_module": "@jupyter-widgets/controls",
      "_view_module_version": "1.5.0",
      "_view_name": "HTMLView",
      "description": "",
      "description_tooltip": null,
      "layout": "IPY_MODEL_c4a77f695b724fb69ae23b9b54ee30d0",
      "placeholder": "​",
      "style": "IPY_MODEL_ed9eaf4ddfa64168acf86bfae8abe6d6",
      "value": " 0/0 [00:01&lt;?, ?it/s]"
     }
    },
    "9a80f4ef0ad34bba9c3c6c0dc2e08311": {
     "model_module": "@jupyter-widgets/base",
     "model_name": "LayoutModel",
     "model_module_version": "1.2.0",
     "state": {
      "_model_module": "@jupyter-widgets/base",
      "_model_module_version": "1.2.0",
      "_model_name": "LayoutModel",
      "_view_count": null,
      "_view_module": "@jupyter-widgets/base",
      "_view_module_version": "1.2.0",
      "_view_name": "LayoutView",
      "align_content": null,
      "align_items": null,
      "align_self": null,
      "border": null,
      "bottom": null,
      "display": null,
      "flex": null,
      "flex_flow": null,
      "grid_area": null,
      "grid_auto_columns": null,
      "grid_auto_flow": null,
      "grid_auto_rows": null,
      "grid_column": null,
      "grid_gap": null,
      "grid_row": null,
      "grid_template_areas": null,
      "grid_template_columns": null,
      "grid_template_rows": null,
      "height": null,
      "justify_content": null,
      "justify_items": null,
      "left": null,
      "margin": null,
      "max_height": null,
      "max_width": null,
      "min_height": null,
      "min_width": null,
      "object_fit": null,
      "object_position": null,
      "order": null,
      "overflow": null,
      "overflow_x": null,
      "overflow_y": null,
      "padding": null,
      "right": null,
      "top": null,
      "visibility": null,
      "width": null
     }
    },
    "f77980caddc1401fae0c4673e23dce90": {
     "model_module": "@jupyter-widgets/base",
     "model_name": "LayoutModel",
     "model_module_version": "1.2.0",
     "state": {
      "_model_module": "@jupyter-widgets/base",
      "_model_module_version": "1.2.0",
      "_model_name": "LayoutModel",
      "_view_count": null,
      "_view_module": "@jupyter-widgets/base",
      "_view_module_version": "1.2.0",
      "_view_name": "LayoutView",
      "align_content": null,
      "align_items": null,
      "align_self": null,
      "border": null,
      "bottom": null,
      "display": null,
      "flex": null,
      "flex_flow": null,
      "grid_area": null,
      "grid_auto_columns": null,
      "grid_auto_flow": null,
      "grid_auto_rows": null,
      "grid_column": null,
      "grid_gap": null,
      "grid_row": null,
      "grid_template_areas": null,
      "grid_template_columns": null,
      "grid_template_rows": null,
      "height": null,
      "justify_content": null,
      "justify_items": null,
      "left": null,
      "margin": null,
      "max_height": null,
      "max_width": null,
      "min_height": null,
      "min_width": null,
      "object_fit": null,
      "object_position": null,
      "order": null,
      "overflow": null,
      "overflow_x": null,
      "overflow_y": null,
      "padding": null,
      "right": null,
      "top": null,
      "visibility": null,
      "width": null
     }
    },
    "65d9a4217e59452cbd0b379b42e2f491": {
     "model_module": "@jupyter-widgets/controls",
     "model_name": "DescriptionStyleModel",
     "model_module_version": "1.5.0",
     "state": {
      "_model_module": "@jupyter-widgets/controls",
      "_model_module_version": "1.5.0",
      "_model_name": "DescriptionStyleModel",
      "_view_count": null,
      "_view_module": "@jupyter-widgets/base",
      "_view_module_version": "1.2.0",
      "_view_name": "StyleView",
      "description_width": ""
     }
    },
    "2fe80012e3434f91bab49ea964cfdfd3": {
     "model_module": "@jupyter-widgets/base",
     "model_name": "LayoutModel",
     "model_module_version": "1.2.0",
     "state": {
      "_model_module": "@jupyter-widgets/base",
      "_model_module_version": "1.2.0",
      "_model_name": "LayoutModel",
      "_view_count": null,
      "_view_module": "@jupyter-widgets/base",
      "_view_module_version": "1.2.0",
      "_view_name": "LayoutView",
      "align_content": null,
      "align_items": null,
      "align_self": null,
      "border": null,
      "bottom": null,
      "display": null,
      "flex": null,
      "flex_flow": null,
      "grid_area": null,
      "grid_auto_columns": null,
      "grid_auto_flow": null,
      "grid_auto_rows": null,
      "grid_column": null,
      "grid_gap": null,
      "grid_row": null,
      "grid_template_areas": null,
      "grid_template_columns": null,
      "grid_template_rows": null,
      "height": null,
      "justify_content": null,
      "justify_items": null,
      "left": null,
      "margin": null,
      "max_height": null,
      "max_width": null,
      "min_height": null,
      "min_width": null,
      "object_fit": null,
      "object_position": null,
      "order": null,
      "overflow": null,
      "overflow_x": null,
      "overflow_y": null,
      "padding": null,
      "right": null,
      "top": null,
      "visibility": null,
      "width": "20px"
     }
    },
    "b3ced7c2f8ea4df4bb13ec521c12787d": {
     "model_module": "@jupyter-widgets/controls",
     "model_name": "ProgressStyleModel",
     "model_module_version": "1.5.0",
     "state": {
      "_model_module": "@jupyter-widgets/controls",
      "_model_module_version": "1.5.0",
      "_model_name": "ProgressStyleModel",
      "_view_count": null,
      "_view_module": "@jupyter-widgets/base",
      "_view_module_version": "1.2.0",
      "_view_name": "StyleView",
      "bar_color": null,
      "description_width": ""
     }
    },
    "c4a77f695b724fb69ae23b9b54ee30d0": {
     "model_module": "@jupyter-widgets/base",
     "model_name": "LayoutModel",
     "model_module_version": "1.2.0",
     "state": {
      "_model_module": "@jupyter-widgets/base",
      "_model_module_version": "1.2.0",
      "_model_name": "LayoutModel",
      "_view_count": null,
      "_view_module": "@jupyter-widgets/base",
      "_view_module_version": "1.2.0",
      "_view_name": "LayoutView",
      "align_content": null,
      "align_items": null,
      "align_self": null,
      "border": null,
      "bottom": null,
      "display": null,
      "flex": null,
      "flex_flow": null,
      "grid_area": null,
      "grid_auto_columns": null,
      "grid_auto_flow": null,
      "grid_auto_rows": null,
      "grid_column": null,
      "grid_gap": null,
      "grid_row": null,
      "grid_template_areas": null,
      "grid_template_columns": null,
      "grid_template_rows": null,
      "height": null,
      "justify_content": null,
      "justify_items": null,
      "left": null,
      "margin": null,
      "max_height": null,
      "max_width": null,
      "min_height": null,
      "min_width": null,
      "object_fit": null,
      "object_position": null,
      "order": null,
      "overflow": null,
      "overflow_x": null,
      "overflow_y": null,
      "padding": null,
      "right": null,
      "top": null,
      "visibility": null,
      "width": null
     }
    },
    "ed9eaf4ddfa64168acf86bfae8abe6d6": {
     "model_module": "@jupyter-widgets/controls",
     "model_name": "DescriptionStyleModel",
     "model_module_version": "1.5.0",
     "state": {
      "_model_module": "@jupyter-widgets/controls",
      "_model_module_version": "1.5.0",
      "_model_name": "DescriptionStyleModel",
      "_view_count": null,
      "_view_module": "@jupyter-widgets/base",
      "_view_module_version": "1.2.0",
      "_view_name": "StyleView",
      "description_width": ""
     }
    }
   }
  }
 },
 "nbformat": 4,
 "nbformat_minor": 5
}